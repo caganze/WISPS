{
 "cells": [
  {
   "cell_type": "code",
   "execution_count": 1,
   "metadata": {},
   "outputs": [
    {
     "name": "stdout",
     "output_type": "stream",
     "text": [
      "\n",
      "Warning: spectrum object has a flux vector of zero length - maybe empty?\n",
      "\n",
      "Warning: normalize is attempting to divide by nan; ignoring\n",
      "\n",
      "Warning: spectrum object has a flux vector of zero length - maybe empty?\n",
      "\n",
      "Warning: normalize is attempting to divide by nan; ignoring\n"
     ]
    }
   ],
   "source": [
    "import wisps\n",
    "import splat\n",
    "import numpy as np\n",
    "import matplotlib.pyplot as plt\n",
    "import pandas as pd\n",
    "import astropy.units as u\n",
    "%matplotlib inline"
   ]
  },
  {
   "cell_type": "code",
   "execution_count": 2,
   "metadata": {},
   "outputs": [],
   "source": [
    "pnts=wisps.OBSERVED_POINTINGS"
   ]
  },
  {
   "cell_type": "code",
   "execution_count": 3,
   "metadata": {},
   "outputs": [],
   "source": [
    "tabl=pd.DataFrame()"
   ]
  },
  {
   "cell_type": "code",
   "execution_count": 4,
   "metadata": {},
   "outputs": [],
   "source": [
    "tabl['Pointing']=[x.name.replace('par', 'wisps-').upper() for x in pnts]\n",
    "tabl['l']=[x.coord.galactic.l.to(u.deg) for x in pnts]\n",
    "tabl['b']=[x.coord.galactic.b.to(u.deg) for x in pnts]\n",
    "tabl['G141time']=[int(np.mean(x.exposure_time)) for x in pnts]\n",
    "tabl['obsdate']=[x.observation_date[0] for x in pnts]"
   ]
  },
  {
   "cell_type": "code",
   "execution_count": 5,
   "metadata": {},
   "outputs": [],
   "source": [
    "def round_float(x):\n",
    "    return np.round(x, 1)"
   ]
  },
  {
   "cell_type": "code",
   "execution_count": 6,
   "metadata": {},
   "outputs": [],
   "source": [
    "mags_df=pd.DataFrame([x.mag_limits for x in pnts]).applymap(round_float)"
   ]
  },
  {
   "cell_type": "code",
   "execution_count": 7,
   "metadata": {},
   "outputs": [],
   "source": [
    "df=tabl.join(mags_df)"
   ]
  },
  {
   "cell_type": "code",
   "execution_count": 8,
   "metadata": {},
   "outputs": [
    {
     "data": {
      "text/html": [
       "<div>\n",
       "<style scoped>\n",
       "    .dataframe tbody tr th:only-of-type {\n",
       "        vertical-align: middle;\n",
       "    }\n",
       "\n",
       "    .dataframe tbody tr th {\n",
       "        vertical-align: top;\n",
       "    }\n",
       "\n",
       "    .dataframe thead th {\n",
       "        text-align: right;\n",
       "    }\n",
       "</style>\n",
       "<table border=\"1\" class=\"dataframe\">\n",
       "  <thead>\n",
       "    <tr style=\"text-align: right;\">\n",
       "      <th></th>\n",
       "      <th>Pointing</th>\n",
       "      <th>l</th>\n",
       "      <th>b</th>\n",
       "      <th>G141time</th>\n",
       "      <th>obsdate</th>\n",
       "      <th>F110</th>\n",
       "      <th>F140</th>\n",
       "      <th>F160</th>\n",
       "    </tr>\n",
       "  </thead>\n",
       "  <tbody>\n",
       "    <tr>\n",
       "      <td>0</td>\n",
       "      <td>AEGIS-01</td>\n",
       "      <td>96d26m22.7957s</td>\n",
       "      <td>59d29m44.8363s</td>\n",
       "      <td>6618</td>\n",
       "      <td>2011-05-05</td>\n",
       "      <td>NaN</td>\n",
       "      <td>23.8</td>\n",
       "      <td>23.7</td>\n",
       "    </tr>\n",
       "    <tr>\n",
       "      <td>1</td>\n",
       "      <td>AEGIS-02</td>\n",
       "      <td>96d22m11.4361s</td>\n",
       "      <td>59d30m03.2299s</td>\n",
       "      <td>5112</td>\n",
       "      <td>2011-05-03</td>\n",
       "      <td>NaN</td>\n",
       "      <td>23.5</td>\n",
       "      <td>23.4</td>\n",
       "    </tr>\n",
       "    <tr>\n",
       "      <td>2</td>\n",
       "      <td>AEGIS-03</td>\n",
       "      <td>96d26m09.5835s</td>\n",
       "      <td>59d40m26.0968s</td>\n",
       "      <td>5112</td>\n",
       "      <td>2011-06-13</td>\n",
       "      <td>NaN</td>\n",
       "      <td>23.4</td>\n",
       "      <td>23.3</td>\n",
       "    </tr>\n",
       "    <tr>\n",
       "      <td>3</td>\n",
       "      <td>AEGIS-04</td>\n",
       "      <td>96d29m48.3635s</td>\n",
       "      <td>59d36m39.0879s</td>\n",
       "      <td>5012</td>\n",
       "      <td>2011-03-16</td>\n",
       "      <td>NaN</td>\n",
       "      <td>23.6</td>\n",
       "      <td>23.4</td>\n",
       "    </tr>\n",
       "    <tr>\n",
       "      <td>4</td>\n",
       "      <td>AEGIS-05</td>\n",
       "      <td>96d29m39.136s</td>\n",
       "      <td>59d39m03.5108s</td>\n",
       "      <td>5112</td>\n",
       "      <td>2011-03-16</td>\n",
       "      <td>NaN</td>\n",
       "      <td>23.9</td>\n",
       "      <td>23.8</td>\n",
       "    </tr>\n",
       "    <tr>\n",
       "      <td>...</td>\n",
       "      <td>...</td>\n",
       "      <td>...</td>\n",
       "      <td>...</td>\n",
       "      <td>...</td>\n",
       "      <td>...</td>\n",
       "      <td>...</td>\n",
       "      <td>...</td>\n",
       "      <td>...</td>\n",
       "    </tr>\n",
       "    <tr>\n",
       "      <td>528</td>\n",
       "      <td>WISPS-95</td>\n",
       "      <td>133d57m19.1573s</td>\n",
       "      <td>-64d53m14.663s</td>\n",
       "      <td>2209</td>\n",
       "      <td>2011-01-02</td>\n",
       "      <td>22.8</td>\n",
       "      <td>NaN</td>\n",
       "      <td>22.5</td>\n",
       "    </tr>\n",
       "    <tr>\n",
       "      <td>529</td>\n",
       "      <td>WISPS-96</td>\n",
       "      <td>166d03m32.5449s</td>\n",
       "      <td>-60d53m34.31s</td>\n",
       "      <td>11429</td>\n",
       "      <td>2010-12-16</td>\n",
       "      <td>23.9</td>\n",
       "      <td>NaN</td>\n",
       "      <td>23.7</td>\n",
       "    </tr>\n",
       "    <tr>\n",
       "      <td>530</td>\n",
       "      <td>WISPS-97</td>\n",
       "      <td>133d57m57.9196s</td>\n",
       "      <td>-64d52m00.5156s</td>\n",
       "      <td>2109</td>\n",
       "      <td>2011-01-16</td>\n",
       "      <td>22.3</td>\n",
       "      <td>NaN</td>\n",
       "      <td>21.9</td>\n",
       "    </tr>\n",
       "    <tr>\n",
       "      <td>531</td>\n",
       "      <td>WISPS-98</td>\n",
       "      <td>165d03m24.9011s</td>\n",
       "      <td>51d18m57.8371s</td>\n",
       "      <td>2006</td>\n",
       "      <td>2011-01-22</td>\n",
       "      <td>NaN</td>\n",
       "      <td>NaN</td>\n",
       "      <td>21.9</td>\n",
       "    </tr>\n",
       "    <tr>\n",
       "      <td>532</td>\n",
       "      <td>WISPS-99</td>\n",
       "      <td>197d48m56.2667s</td>\n",
       "      <td>47d26m53.1188s</td>\n",
       "      <td>3812</td>\n",
       "      <td>2011-01-28</td>\n",
       "      <td>22.2</td>\n",
       "      <td>22.3</td>\n",
       "      <td>21.9</td>\n",
       "    </tr>\n",
       "  </tbody>\n",
       "</table>\n",
       "<p>533 rows × 8 columns</p>\n",
       "</div>"
      ],
      "text/plain": [
       "     Pointing                l                b  G141time     obsdate  F110  \\\n",
       "0    AEGIS-01   96d26m22.7957s   59d29m44.8363s      6618  2011-05-05   NaN   \n",
       "1    AEGIS-02   96d22m11.4361s   59d30m03.2299s      5112  2011-05-03   NaN   \n",
       "2    AEGIS-03   96d26m09.5835s   59d40m26.0968s      5112  2011-06-13   NaN   \n",
       "3    AEGIS-04   96d29m48.3635s   59d36m39.0879s      5012  2011-03-16   NaN   \n",
       "4    AEGIS-05    96d29m39.136s   59d39m03.5108s      5112  2011-03-16   NaN   \n",
       "..        ...              ...              ...       ...         ...   ...   \n",
       "528  WISPS-95  133d57m19.1573s   -64d53m14.663s      2209  2011-01-02  22.8   \n",
       "529  WISPS-96  166d03m32.5449s    -60d53m34.31s     11429  2010-12-16  23.9   \n",
       "530  WISPS-97  133d57m57.9196s  -64d52m00.5156s      2109  2011-01-16  22.3   \n",
       "531  WISPS-98  165d03m24.9011s   51d18m57.8371s      2006  2011-01-22   NaN   \n",
       "532  WISPS-99  197d48m56.2667s   47d26m53.1188s      3812  2011-01-28  22.2   \n",
       "\n",
       "     F140  F160  \n",
       "0    23.8  23.7  \n",
       "1    23.5  23.4  \n",
       "2    23.4  23.3  \n",
       "3    23.6  23.4  \n",
       "4    23.9  23.8  \n",
       "..    ...   ...  \n",
       "528   NaN  22.5  \n",
       "529   NaN  23.7  \n",
       "530   NaN  21.9  \n",
       "531   NaN  21.9  \n",
       "532  22.3  21.9  \n",
       "\n",
       "[533 rows x 8 columns]"
      ]
     },
     "execution_count": 8,
     "metadata": {},
     "output_type": "execute_result"
    }
   ],
   "source": [
    "df"
   ]
  },
  {
   "cell_type": "code",
   "execution_count": 12,
   "metadata": {},
   "outputs": [],
   "source": [
    "df.to_latex(wisps.LIBRARIES+'/pointings.tex', index=False,  na_rep=' ')"
   ]
  },
  {
   "cell_type": "code",
   "execution_count": 10,
   "metadata": {},
   "outputs": [],
   "source": [
    "#wisps.datasets['stars']"
   ]
  },
  {
   "cell_type": "code",
   "execution_count": null,
   "metadata": {},
   "outputs": [],
   "source": []
  }
 ],
 "metadata": {
  "kernelspec": {
   "display_name": "Python 3",
   "language": "python",
   "name": "python3"
  },
  "language_info": {
   "codemirror_mode": {
    "name": "ipython",
    "version": 3
   },
   "file_extension": ".py",
   "mimetype": "text/x-python",
   "name": "python",
   "nbconvert_exporter": "python",
   "pygments_lexer": "ipython3",
   "version": "3.7.3"
  }
 },
 "nbformat": 4,
 "nbformat_minor": 4
}
