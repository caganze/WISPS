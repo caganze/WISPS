{
 "cells": [
  {
   "cell_type": "code",
   "execution_count": 1,
   "metadata": {},
   "outputs": [],
   "source": [
    "import numpy as np\n",
    "import splat\n",
    "import wisps\n",
    "import pandas as pd\n",
    "import matplotlib.pyplot as plt\n",
    "%matplotlib inline"
   ]
  },
  {
   "cell_type": "code",
   "execution_count": 2,
   "metadata": {},
   "outputs": [],
   "source": [
    "import wisps.simulations as wispsim"
   ]
  },
  {
   "cell_type": "code",
   "execution_count": 3,
   "metadata": {},
   "outputs": [
    {
     "name": "stdout",
     "output_type": "stream",
     "text": [
      "hst3d\n"
     ]
    }
   ],
   "source": [
    "import wisps.simulations.compute_distances as comp"
   ]
  },
  {
   "cell_type": "code",
   "execution_count": 4,
   "metadata": {},
   "outputs": [],
   "source": [
    "from astropy.coordinates import SkyCoord"
   ]
  },
  {
   "cell_type": "code",
   "execution_count": 5,
   "metadata": {},
   "outputs": [],
   "source": [
    "J1_NIPS=24 #limiting mag in NISP\n",
    "J2_NIPS=27 #best case scenario"
   ]
  },
  {
   "cell_type": "code",
   "execution_count": 6,
   "metadata": {},
   "outputs": [],
   "source": [
    "def get_abs_mag(spt):\n",
    "    #magnitude from spt and relation\n",
    "    j, h=wisps.absolute_magnitude_jh(spt)\n",
    "    return j"
   ]
  },
  {
   "cell_type": "code",
   "execution_count": 7,
   "metadata": {},
   "outputs": [],
   "source": [
    "spgrid=np.arange(17, 38)"
   ]
  },
  {
   "cell_type": "code",
   "execution_count": 8,
   "metadata": {},
   "outputs": [],
   "source": [
    "abs_mags=np.array([get_abs_mag(s ) for s in spgrid])"
   ]
  },
  {
   "cell_type": "code",
   "execution_count": 10,
   "metadata": {},
   "outputs": [],
   "source": [
    "dmaxs1=wisps.get_distance(abs_mags, np.ones_like(abs_mags)*J1_NIPS)\n",
    "dmaxs2=wisps.get_distance(abs_mags, np.ones_like(abs_mags)*J2_NIPS)"
   ]
  },
  {
   "cell_type": "code",
   "execution_count": 11,
   "metadata": {},
   "outputs": [],
   "source": [
    "import astropy.units as u"
   ]
  },
  {
   "cell_type": "code",
   "execution_count": 12,
   "metadata": {},
   "outputs": [],
   "source": [
    "EDFS=SkyCoord(l=24.6*u.deg, b=-82.0*u.deg , frame='galactic').galactic\n",
    "EDF_CH=SkyCoord(\"3:32:28.0 -27:48:30\" , obstime=\"J2000\", unit=u.deg).galactic"
   ]
  },
  {
   "cell_type": "code",
   "execution_count": 13,
   "metadata": {},
   "outputs": [],
   "source": [
    "#compute volume correction terms \n",
    "EDFS_vcs1=np.array([ wispsim.custom_volume(EDFS.l.radian,EDFS.b.radian, 1., dm, 350.) for dm in dmaxs1])\n",
    "EDF_CH_vcs1=np.array([ wispsim.custom_volume(EDF_CH.l.radian, EDFS.b.radian,1, dm, 350.) for dm in dmaxs1])\n",
    "\n",
    "EDFS_vcs2=np.array([ wispsim.custom_volume(EDFS.l.radian,EDFS.b.radian, 1., dm, 350.) for dm in dmaxs2])\n",
    "EDF_CH_vcs2=np.array([ wispsim.custom_volume(EDF_CH.l.radian, EDFS.b.radian,1, dm,  350.) for dm in dmaxs2])"
   ]
  },
  {
   "cell_type": "code",
   "execution_count": 14,
   "metadata": {},
   "outputs": [],
   "source": [
    "EDFS_CH_vols1=EDF_CH_vcs1*(20*(u.deg**2)).to(u.radian**2)\n",
    "EDF_vols1=EDFS_vcs1*(10*(u.deg**2)).to(u.radian**2)\n",
    "\n",
    "EDFS_CH_vols2=EDF_CH_vcs2*(20*(u.deg**2)).to(u.radian**2)\n",
    "EDF_vols2=EDFS_vcs2*(10*(u.deg**2)).to(u.radian**2)"
   ]
  },
  {
   "cell_type": "code",
   "execution_count": 15,
   "metadata": {},
   "outputs": [],
   "source": [
    "LF=pd.read_pickle(wisps.OUTPUT_FILES+'/lf.pkl')"
   ]
  },
  {
   "cell_type": "code",
   "execution_count": 16,
   "metadata": {},
   "outputs": [],
   "source": [
    "from scipy.interpolate import interp1d"
   ]
  },
  {
   "cell_type": "code",
   "execution_count": 17,
   "metadata": {},
   "outputs": [],
   "source": [
    "lf=interp1d(LF['spt'], LF['phi'])"
   ]
  },
  {
   "cell_type": "code",
   "execution_count": 18,
   "metadata": {},
   "outputs": [
    {
     "data": {
      "image/png": "[encoded data removed]",
      "text/plain": [
       "<Figure size 720x288 with 2 Axes>"
      ]
     },
     "metadata": {
      "needs_background": "light"
     },
     "output_type": "display_data"
    }
   ],
   "source": [
    "fig, (ax, ax1)=plt.subplots(ncols=2, figsize=(10, 4), sharey=False, sharex=True)\n",
    "ax.step(spgrid, lf(spgrid)*EDFS_CH_vols1, label='Euclid South')\n",
    "ax.step(spgrid, lf(spgrid)*EDF_vols1, label='Euclid Fornax')\n",
    "\n",
    "ax1.step(spgrid, lf(spgrid)*EDFS_CH_vols2, label='Euclid South')\n",
    "ax1.step(spgrid, lf(spgrid)*EDF_vols2, label='Euclid Fornax')\n",
    "\n",
    "ax.set_title(r'J$_{lim}$ = 24', fontsize=18)\n",
    "ax1.set_title(r'J$_{lim}$ = 27', fontsize=18)\n",
    "\n",
    "for a in [ax, ax1]:\n",
    "    a.minorticks_on()\n",
    "    a.set_xlabel('SpT', fontsize=18)\n",
    "    a.legend()\n",
    "    #a.set_yscale('log')\n",
    "    a.set_ylabel(r'N', fontsize=18)\n",
    "    a.set_xticks([15, 20, 25, 30, 35, 40])\n",
    "    a.set_xticklabels(['M5', 'L0', 'L5', 'T0', 'T5', 'Y0'])\n",
    "\n",
    "\n",
    "\n",
    "\n",
    "plt.tight_layout()\n",
    "\n",
    "plt.savefig(wisps.OUTPUT_FIGURES+'/euclid_predictions.pdf')"
   ]
  },
  {
   "cell_type": "code",
   "execution_count": null,
   "metadata": {},
   "outputs": [],
   "source": []
  }
 ],
 "metadata": {
  "kernelspec": {
   "display_name": "Python 3",
   "language": "python",
   "name": "python3"
  },
  "language_info": {
   "codemirror_mode": {
    "name": "ipython",
    "version": 3
   },
   "file_extension": ".py",
   "mimetype": "text/x-python",
   "name": "python",
   "nbconvert_exporter": "python",
   "pygments_lexer": "ipython3",
   "version": "3.7.3"
  }
 },
 "nbformat": 4,
 "nbformat_minor": 4
}
