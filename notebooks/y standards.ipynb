{
 "cells": [
  {
   "cell_type": "code",
   "execution_count": 1,
   "metadata": {},
   "outputs": [],
   "source": [
    "import splat\n",
    "import matplotlib.pyplot as plt\n",
    "%matplotlib inline"
   ]
  },
  {
   "cell_type": "code",
   "execution_count": 2,
   "metadata": {},
   "outputs": [],
   "source": [
    "splat.initiateStandards()"
   ]
  },
  {
   "cell_type": "code",
   "execution_count": 3,
   "metadata": {},
   "outputs": [],
   "source": [
    "import glob\n",
    "import pandas as pd\n",
    "from astropy.io import ascii"
   ]
  },
  {
   "cell_type": "code",
   "execution_count": 4,
   "metadata": {},
   "outputs": [],
   "source": [
    "import astropy.units as u"
   ]
  },
  {
   "cell_type": "code",
   "execution_count": 5,
   "metadata": {},
   "outputs": [],
   "source": [
    "df=ascii.read('/users/caganze/desktop/df_scn_y0.txt').to_pandas()\n",
    "df2=ascii.read('/users/caganze/desktop/df_schn_y1.txt').to_pandas()"
   ]
  },
  {
   "cell_type": "code",
   "execution_count": 6,
   "metadata": {},
   "outputs": [],
   "source": [
    "#Y0–WISE J173835.53+273259.0 (HST/WFC3; Cushing et al. 2011), and Y1–WISE J035000.32–565830.2 (HST/WFC3; Kirkpatrick et al. 2012)."
   ]
  },
  {
   "cell_type": "code",
   "execution_count": 7,
   "metadata": {},
   "outputs": [],
   "source": [
    "yo_std=df[df['Star']=='WISE1738+2732']\n",
    "y1_std=df2[df2['Star']=='WISE0350-5658']"
   ]
  },
  {
   "cell_type": "code",
   "execution_count": 8,
   "metadata": {},
   "outputs": [],
   "source": [
    "import splat"
   ]
  },
  {
   "cell_type": "code",
   "execution_count": 9,
   "metadata": {},
   "outputs": [],
   "source": [
    "flux_unit=u.erg/u.s/u.cm/u.cm/u.micron"
   ]
  },
  {
   "cell_type": "code",
   "execution_count": 10,
   "metadata": {},
   "outputs": [],
   "source": [
    "y0_spex=splat.Spectrum(wave=yo_std.Wave*u.micron, flux=yo_std.Flux*flux_unit, noise=yo_std.e_Flux*flux_unit, \n",
    "                       instrument='WFC3-G141',\n",
    "                       name='WISE1738+2732',\n",
    "                       jmag=19.470,jmag_error=0.08,\n",
    "                       hmag=20.24, hmag_error=0.08)\n",
    "\n",
    "y1_spex=splat.Spectrum(wave=y1_std.Wave*u.micron, flux=y1_std.Flux*flux_unit, noise=y1_std.e_Flux*flux_unit, \n",
    "                       instrument='WFC3-G141', \n",
    "                       name='WISE0350-5658', jmag=22.09,jmag_error=0.1,\n",
    "                       hmag=22.51, hmag_error=0.2)"
   ]
  },
  {
   "cell_type": "code",
   "execution_count": 11,
   "metadata": {},
   "outputs": [],
   "source": [
    "data=pd.DataFrame({'name': ['WISE1738+2732', 'WISE0350-5658'], 'spec':[y0_spex, y1_spex], 'spt':['Y0.0', 'Y1.0']})"
   ]
  },
  {
   "cell_type": "code",
   "execution_count": 12,
   "metadata": {},
   "outputs": [],
   "source": [
    "data.to_pickle('/users/caganze/y_standards.pkl')"
   ]
  },
  {
   "cell_type": "code",
   "execution_count": 13,
   "metadata": {},
   "outputs": [],
   "source": [
    "import pandas as pd"
   ]
  },
  {
   "cell_type": "code",
   "execution_count": 14,
   "metadata": {},
   "outputs": [],
   "source": [
    "ydwarfs_data=pd.read_pickle('/users/caganze/y_standards.pkl')"
   ]
  },
  {
   "cell_type": "code",
   "execution_count": null,
   "metadata": {},
   "outputs": [],
   "source": []
  }
 ],
 "metadata": {
  "kernelspec": {
   "display_name": "Python 3",
   "language": "python",
   "name": "python3"
  },
  "language_info": {
   "codemirror_mode": {
    "name": "ipython",
    "version": 3
   },
   "file_extension": ".py",
   "mimetype": "text/x-python",
   "name": "python",
   "nbconvert_exporter": "python",
   "pygments_lexer": "ipython3",
   "version": "3.7.6"
  }
 },
 "nbformat": 4,
 "nbformat_minor": 4
}
