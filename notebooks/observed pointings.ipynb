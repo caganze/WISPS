{
 "cells": [
  {
   "cell_type": "code",
   "execution_count": 1,
   "metadata": {},
   "outputs": [
    {
     "name": "stdout",
     "output_type": "stream",
     "text": [
      "\n",
      "Warning: spectrum object has a flux vector of zero length - maybe empty?\n",
      "\n",
      "Warning: normalize is attempting to divide by nan; ignoring\n",
      "\n",
      "Warning: spectrum object has a flux vector of zero length - maybe empty?\n",
      "\n",
      "Warning: normalize is attempting to divide by nan; ignoring\n"
     ]
    }
   ],
   "source": [
    "import wisps\n",
    "import splat\n",
    "import wisps.simulations as wispsim\n",
    "import matplotlib.pyplot as plt\n",
    "import pandas as pd\n",
    "import astropy.units as u\n",
    "from astropy.coordinates import SkyCoord\n",
    "from tqdm import tqdm\n",
    "\n",
    "%matplotlib inline"
   ]
  },
  {
   "cell_type": "code",
   "execution_count": 2,
   "metadata": {},
   "outputs": [],
   "source": [
    "lf=wisps.LUMINOSITY_FUCTION\n",
    "lfdes=wisps.DES_LUMINOSITY_FUCTION\n",
    "maglimits=wisps.MAG_LIMITS"
   ]
  },
  {
   "cell_type": "code",
   "execution_count": 3,
   "metadata": {},
   "outputs": [],
   "source": [
    "from wisps.simulations import BayesianPointing"
   ]
  },
  {
   "cell_type": "code",
   "execution_count": 4,
   "metadata": {},
   "outputs": [],
   "source": [
    "obs=pd.read_csv(wisps.OUTPUT_FILES+'//observation_log_with_limit.csv')"
   ]
  },
  {
   "cell_type": "code",
   "execution_count": 5,
   "metadata": {},
   "outputs": [
    {
     "data": {
      "text/plain": [
       "Index(['Unnamed: 0', 'pointing', 'bright_F110W', 'faint_F110W', 'bright_F140W',\n",
       "       'faint_F140W', 'bright_F160W', 'faint_F160W', 'ra (deg)', 'dec(deg)',\n",
       "       'l (deg)', 'b (deg)', 'exposure (s)', 'observation date (ut)'],\n",
       "      dtype='object')"
      ]
     },
     "execution_count": 5,
     "metadata": {},
     "output_type": "execute_result"
    }
   ],
   "source": [
    "obs.columns"
   ]
  },
  {
   "cell_type": "code",
   "execution_count": 6,
   "metadata": {},
   "outputs": [],
   "source": [
    "def make_pointing(ra, dec, survey, name):\n",
    "    coord=SkyCoord(ra=ra*u.deg,dec=dec*u.deg )\n",
    "    return BayesianPointing(coord=coord, survey=survey, name=name)"
   ]
  },
  {
   "cell_type": "code",
   "execution_count": 7,
   "metadata": {},
   "outputs": [],
   "source": [
    "def get_survey(pointing):\n",
    "    if pointing.startswith('par'):\n",
    "        return 'wisps'\n",
    "    else:\n",
    "        return 'hst3d'"
   ]
  },
  {
   "cell_type": "code",
   "execution_count": 8,
   "metadata": {},
   "outputs": [],
   "source": [
    "ras=obs['ra (deg)']\n",
    "decs=obs['dec(deg)']\n",
    "surveys=obs.pointing.apply(get_survey)"
   ]
  },
  {
   "cell_type": "code",
   "execution_count": 9,
   "metadata": {},
   "outputs": [],
   "source": [
    "pnts=[make_pointing(ra, dec, survey, name) for ra, dec, survey, name in zip(ras, decs, surveys, obs.pointing.values)]"
   ]
  },
  {
   "cell_type": "code",
   "execution_count": 10,
   "metadata": {},
   "outputs": [],
   "source": [
    "from numba import cuda\n",
    "import numba"
   ]
  },
  {
   "cell_type": "code",
   "execution_count": 11,
   "metadata": {},
   "outputs": [],
   "source": [
    "#@numba.vectorize(\"float64(float64, float64)\", target='cuda')\n",
    "#@cuda.jit\n",
    "#def add_numbers(x, y):\n",
    "#    return x+y"
   ]
  },
  {
   "cell_type": "code",
   "execution_count": 12,
   "metadata": {},
   "outputs": [],
   "source": [
    "#import numpy as np"
   ]
  },
  {
   "cell_type": "code",
   "execution_count": 13,
   "metadata": {},
   "outputs": [],
   "source": [
    "#%%prun \n",
    "#x=np.random.uniform(100)\n",
    "#add_numbers(x, x)"
   ]
  },
  {
   "cell_type": "code",
   "execution_count": 14,
   "metadata": {},
   "outputs": [],
   "source": [
    "#"
   ]
  },
  {
   "cell_type": "code",
   "execution_count": 15,
   "metadata": {},
   "outputs": [
    {
     "name": "stderr",
     "output_type": "stream",
     "text": [
      "100%|██████████| 533/533 [00:22<00:00, 23.20it/s]\n"
     ]
    }
   ],
   "source": [
    "for pnt in tqdm(pnts):\n",
    "    pnt.mag_limits=maglimits[pnt.survey]\n",
    "    #print( pnt.survey)\n",
    "    pnt.compute_distance_limits()\n",
    "    pnt.computer_volume()\n",
    "    #pnt.create_sample( nsample=1000)"
   ]
  },
  {
   "cell_type": "code",
   "execution_count": 16,
   "metadata": {},
   "outputs": [],
   "source": [
    "import pickle\n",
    "#save the random forest\n",
    "output_file=wisps.OUTPUT_FILES+'/bayesian_observed_pointings.pkl'\n",
    "with open(output_file, 'wb') as file:\n",
    "    pickle.dump(pnts,file)\n"
   ]
  },
  {
   "cell_type": "code",
   "execution_count": null,
   "metadata": {},
   "outputs": [],
   "source": []
  }
 ],
 "metadata": {
  "kernelspec": {
   "display_name": "Python 3",
   "language": "python",
   "name": "python3"
  },
  "language_info": {
   "codemirror_mode": {
    "name": "ipython",
    "version": 3
   },
   "file_extension": ".py",
   "mimetype": "text/x-python",
   "name": "python",
   "nbconvert_exporter": "python",
   "pygments_lexer": "ipython3",
   "version": "3.7.3"
  }
 },
 "nbformat": 4,
 "nbformat_minor": 4
}
