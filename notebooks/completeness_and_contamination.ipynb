{
 "cells": [
  {
   "cell_type": "markdown",
   "metadata": {},
   "source": [
    "This demonstrates all the steps in my candidate selection before conducting visual inspection"
   ]
  },
  {
   "cell_type": "code",
   "execution_count": 1,
   "metadata": {},
   "outputs": [
    {
     "name": "stdout",
     "output_type": "stream",
     "text": [
      "\n",
      "Warning: spectrum object has a flux vector of zero length - maybe empty?\n",
      "\n",
      "Warning: normalize is attempting to divide by nan; ignoring\n",
      "\n",
      "Warning: spectrum object has a flux vector of zero length - maybe empty?\n",
      "\n",
      "Warning: normalize is attempting to divide by nan; ignoring\n"
     ]
    }
   ],
   "source": [
    "import numpy as np\n",
    "import splat\n",
    "import wisps.data_analysis as wispd\n",
    "from wisps.data_analysis import selection_criteria as sel_crt\n",
    "import wispshapes\n",
    "import matplotlib.pyplot as plt\n",
    "import pandas as pd\n",
    "import seaborn as sns\n",
    "import wisps\n",
    "\n",
    "import matplotlib as mpl\n",
    "\n",
    "\n",
    "import random\n",
    "import matplotlib.pyplot as plt\n",
    "%matplotlib inline"
   ]
  },
  {
   "cell_type": "code",
   "execution_count": 2,
   "metadata": {},
   "outputs": [],
   "source": [
    "stars=wisps.Annotator.reformat_table(pd.read_hdf(wisps.COMBINED_PHOTO_SPECTRO_FILE, key='stars'))"
   ]
  },
  {
   "cell_type": "code",
   "execution_count": 3,
   "metadata": {},
   "outputs": [],
   "source": [
    "stars[wisps.INDEX_NAMES]=(stars[wisps.INDEX_NAMES].applymap(float))"
   ]
  },
  {
   "cell_type": "code",
   "execution_count": 4,
   "metadata": {},
   "outputs": [],
   "source": [
    "from astropy.table import Table\n",
    "cands = Table.read(wisps.LIBRARIES+'/candidates.tex').to_pandas()"
   ]
  },
  {
   "cell_type": "code",
   "execution_count": 5,
   "metadata": {},
   "outputs": [],
   "source": [
    "cands[wisps.INDEX_NAMES]=(stars[stars.grism_id.isin(cands['grism id'])])[wisps.INDEX_NAMES]"
   ]
  },
  {
   "cell_type": "code",
   "execution_count": 6,
   "metadata": {},
   "outputs": [],
   "source": [
    "dt=stars[(stars.f_test< 0.4) &(stars.snr1>=3.)].reset_index(drop=True)"
   ]
  },
  {
   "cell_type": "code",
   "execution_count": 7,
   "metadata": {},
   "outputs": [],
   "source": [
    "#(wisps.datasets['schneider'])[wisps.INDEX_NAMES]"
   ]
  },
  {
   "cell_type": "code",
   "execution_count": 8,
   "metadata": {},
   "outputs": [
    {
     "name": "stderr",
     "output_type": "stream",
     "text": [
      "  0%|          | 0/45 [00:00<?, ?it/s]"
     ]
    },
    {
     "name": "stdout",
     "output_type": "stream",
     "text": [
      "(2537, 26) (24, 26)\n"
     ]
    },
    {
     "name": "stderr",
     "output_type": "stream",
     "text": [
      "100%|██████████| 45/45 [00:24<00:00,  1.86it/s]\n"
     ]
    }
   ],
   "source": [
    "gbhio=sel_crt.save_criteria(conts=dt)"
   ]
  },
  {
   "cell_type": "code",
   "execution_count": 9,
   "metadata": {},
   "outputs": [],
   "source": [
    "crts=sel_crt.crts_from_file()"
   ]
  },
  {
   "cell_type": "code",
   "execution_count": 10,
   "metadata": {},
   "outputs": [],
   "source": [
    "contamns=pd.DataFrame([ x.contamination for x in crts.values()])\n",
    "compls=pd.DataFrame([ x.completeness for x in crts.values()])"
   ]
  },
  {
   "cell_type": "code",
   "execution_count": 11,
   "metadata": {},
   "outputs": [],
   "source": [
    "contamns.index=[x for x in crts.keys()]\n",
    "compls.index=[x for x in crts.keys()]"
   ]
  },
  {
   "cell_type": "code",
   "execution_count": 12,
   "metadata": {},
   "outputs": [
    {
     "data": {
      "text/html": [
       "<style  type=\"text/css\" >\n",
       "    #T_37c29402_1613_11ea_985a_645aedea2b4drow0_col0 {\n",
       "            background-color:  #7FDBFF;\n",
       "        }    #T_37c29402_1613_11ea_985a_645aedea2b4drow0_col2 {\n",
       "            background-color:  #7FDBFF;\n",
       "        }    #T_37c29402_1613_11ea_985a_645aedea2b4drow0_col3 {\n",
       "            background-color:  #7FDBFF;\n",
       "        }    #T_37c29402_1613_11ea_985a_645aedea2b4drow0_col4 {\n",
       "            background-color:  #7FDBFF;\n",
       "        }    #T_37c29402_1613_11ea_985a_645aedea2b4drow0_col5 {\n",
       "            background-color:  #7FDBFF;\n",
       "        }    #T_37c29402_1613_11ea_985a_645aedea2b4drow0_col7 {\n",
       "            background-color:  #7FDBFF;\n",
       "        }    #T_37c29402_1613_11ea_985a_645aedea2b4drow1_col0 {\n",
       "            background-color:  #7FDBFF;\n",
       "        }    #T_37c29402_1613_11ea_985a_645aedea2b4drow1_col2 {\n",
       "            background-color:  #7FDBFF;\n",
       "        }    #T_37c29402_1613_11ea_985a_645aedea2b4drow1_col3 {\n",
       "            background-color:  #7FDBFF;\n",
       "        }    #T_37c29402_1613_11ea_985a_645aedea2b4drow1_col4 {\n",
       "            background-color:  #7FDBFF;\n",
       "        }    #T_37c29402_1613_11ea_985a_645aedea2b4drow1_col7 {\n",
       "            background-color:  #7FDBFF;\n",
       "        }    #T_37c29402_1613_11ea_985a_645aedea2b4drow2_col0 {\n",
       "            background-color:  #7FDBFF;\n",
       "        }    #T_37c29402_1613_11ea_985a_645aedea2b4drow2_col2 {\n",
       "            background-color:  #7FDBFF;\n",
       "        }    #T_37c29402_1613_11ea_985a_645aedea2b4drow2_col3 {\n",
       "            background-color:  #7FDBFF;\n",
       "        }    #T_37c29402_1613_11ea_985a_645aedea2b4drow2_col4 {\n",
       "            background-color:  #7FDBFF;\n",
       "        }    #T_37c29402_1613_11ea_985a_645aedea2b4drow2_col7 {\n",
       "            background-color:  #7FDBFF;\n",
       "        }    #T_37c29402_1613_11ea_985a_645aedea2b4drow3_col0 {\n",
       "            background-color:  #7FDBFF;\n",
       "        }    #T_37c29402_1613_11ea_985a_645aedea2b4drow3_col1 {\n",
       "            background-color:  #7FDBFF;\n",
       "        }    #T_37c29402_1613_11ea_985a_645aedea2b4drow3_col2 {\n",
       "            background-color:  #7FDBFF;\n",
       "        }    #T_37c29402_1613_11ea_985a_645aedea2b4drow3_col3 {\n",
       "            background-color:  #7FDBFF;\n",
       "        }    #T_37c29402_1613_11ea_985a_645aedea2b4drow3_col4 {\n",
       "            background-color:  #7FDBFF;\n",
       "        }    #T_37c29402_1613_11ea_985a_645aedea2b4drow3_col7 {\n",
       "            background-color:  #7FDBFF;\n",
       "        }    #T_37c29402_1613_11ea_985a_645aedea2b4drow4_col0 {\n",
       "            background-color:  #7FDBFF;\n",
       "        }    #T_37c29402_1613_11ea_985a_645aedea2b4drow4_col2 {\n",
       "            background-color:  #7FDBFF;\n",
       "        }    #T_37c29402_1613_11ea_985a_645aedea2b4drow4_col3 {\n",
       "            background-color:  #7FDBFF;\n",
       "        }    #T_37c29402_1613_11ea_985a_645aedea2b4drow4_col4 {\n",
       "            background-color:  #7FDBFF;\n",
       "        }    #T_37c29402_1613_11ea_985a_645aedea2b4drow4_col7 {\n",
       "            background-color:  #7FDBFF;\n",
       "        }    #T_37c29402_1613_11ea_985a_645aedea2b4drow5_col0 {\n",
       "            background-color:  #7FDBFF;\n",
       "        }    #T_37c29402_1613_11ea_985a_645aedea2b4drow5_col2 {\n",
       "            background-color:  #7FDBFF;\n",
       "        }    #T_37c29402_1613_11ea_985a_645aedea2b4drow5_col3 {\n",
       "            background-color:  #7FDBFF;\n",
       "        }    #T_37c29402_1613_11ea_985a_645aedea2b4drow5_col4 {\n",
       "            background-color:  #7FDBFF;\n",
       "        }    #T_37c29402_1613_11ea_985a_645aedea2b4drow5_col5 {\n",
       "            background-color:  #7FDBFF;\n",
       "        }    #T_37c29402_1613_11ea_985a_645aedea2b4drow5_col7 {\n",
       "            background-color:  #7FDBFF;\n",
       "        }    #T_37c29402_1613_11ea_985a_645aedea2b4drow6_col0 {\n",
       "            background-color:  #7FDBFF;\n",
       "        }    #T_37c29402_1613_11ea_985a_645aedea2b4drow6_col1 {\n",
       "            background-color:  #7FDBFF;\n",
       "        }    #T_37c29402_1613_11ea_985a_645aedea2b4drow6_col2 {\n",
       "            background-color:  #7FDBFF;\n",
       "        }    #T_37c29402_1613_11ea_985a_645aedea2b4drow6_col4 {\n",
       "            background-color:  #7FDBFF;\n",
       "        }    #T_37c29402_1613_11ea_985a_645aedea2b4drow6_col7 {\n",
       "            background-color:  #7FDBFF;\n",
       "        }    #T_37c29402_1613_11ea_985a_645aedea2b4drow7_col0 {\n",
       "            background-color:  #7FDBFF;\n",
       "        }    #T_37c29402_1613_11ea_985a_645aedea2b4drow7_col1 {\n",
       "            background-color:  #7FDBFF;\n",
       "        }    #T_37c29402_1613_11ea_985a_645aedea2b4drow7_col2 {\n",
       "            background-color:  #7FDBFF;\n",
       "        }    #T_37c29402_1613_11ea_985a_645aedea2b4drow7_col3 {\n",
       "            background-color:  #7FDBFF;\n",
       "        }    #T_37c29402_1613_11ea_985a_645aedea2b4drow7_col4 {\n",
       "            background-color:  #7FDBFF;\n",
       "        }    #T_37c29402_1613_11ea_985a_645aedea2b4drow7_col7 {\n",
       "            background-color:  #7FDBFF;\n",
       "        }    #T_37c29402_1613_11ea_985a_645aedea2b4drow8_col0 {\n",
       "            background-color:  #7FDBFF;\n",
       "        }    #T_37c29402_1613_11ea_985a_645aedea2b4drow8_col1 {\n",
       "            background-color:  #7FDBFF;\n",
       "        }    #T_37c29402_1613_11ea_985a_645aedea2b4drow8_col2 {\n",
       "            background-color:  #7FDBFF;\n",
       "        }    #T_37c29402_1613_11ea_985a_645aedea2b4drow8_col3 {\n",
       "            background-color:  #7FDBFF;\n",
       "        }    #T_37c29402_1613_11ea_985a_645aedea2b4drow8_col4 {\n",
       "            background-color:  #7FDBFF;\n",
       "        }    #T_37c29402_1613_11ea_985a_645aedea2b4drow8_col5 {\n",
       "            background-color:  #7FDBFF;\n",
       "        }    #T_37c29402_1613_11ea_985a_645aedea2b4drow8_col6 {\n",
       "            background-color:  #7FDBFF;\n",
       "        }    #T_37c29402_1613_11ea_985a_645aedea2b4drow8_col7 {\n",
       "            background-color:  #7FDBFF;\n",
       "        }    #T_37c29402_1613_11ea_985a_645aedea2b4drow9_col0 {\n",
       "            background-color:  #7FDBFF;\n",
       "        }    #T_37c29402_1613_11ea_985a_645aedea2b4drow9_col3 {\n",
       "            background-color:  #7FDBFF;\n",
       "        }    #T_37c29402_1613_11ea_985a_645aedea2b4drow9_col4 {\n",
       "            background-color:  #7FDBFF;\n",
       "        }    #T_37c29402_1613_11ea_985a_645aedea2b4drow10_col0 {\n",
       "            background-color:  #7FDBFF;\n",
       "        }    #T_37c29402_1613_11ea_985a_645aedea2b4drow10_col3 {\n",
       "            background-color:  #7FDBFF;\n",
       "        }    #T_37c29402_1613_11ea_985a_645aedea2b4drow10_col4 {\n",
       "            background-color:  #7FDBFF;\n",
       "        }    #T_37c29402_1613_11ea_985a_645aedea2b4drow11_col3 {\n",
       "            background-color:  #7FDBFF;\n",
       "        }    #T_37c29402_1613_11ea_985a_645aedea2b4drow11_col4 {\n",
       "            background-color:  #7FDBFF;\n",
       "        }    #T_37c29402_1613_11ea_985a_645aedea2b4drow11_col7 {\n",
       "            background-color:  #7FDBFF;\n",
       "        }    #T_37c29402_1613_11ea_985a_645aedea2b4drow12_col3 {\n",
       "            background-color:  #7FDBFF;\n",
       "        }    #T_37c29402_1613_11ea_985a_645aedea2b4drow12_col4 {\n",
       "            background-color:  #7FDBFF;\n",
       "        }    #T_37c29402_1613_11ea_985a_645aedea2b4drow13_col3 {\n",
       "            background-color:  #7FDBFF;\n",
       "        }    #T_37c29402_1613_11ea_985a_645aedea2b4drow13_col4 {\n",
       "            background-color:  #7FDBFF;\n",
       "        }    #T_37c29402_1613_11ea_985a_645aedea2b4drow13_col7 {\n",
       "            background-color:  #7FDBFF;\n",
       "        }    #T_37c29402_1613_11ea_985a_645aedea2b4drow14_col3 {\n",
       "            background-color:  #7FDBFF;\n",
       "        }    #T_37c29402_1613_11ea_985a_645aedea2b4drow14_col4 {\n",
       "            background-color:  #7FDBFF;\n",
       "        }    #T_37c29402_1613_11ea_985a_645aedea2b4drow15_col3 {\n",
       "            background-color:  #7FDBFF;\n",
       "        }    #T_37c29402_1613_11ea_985a_645aedea2b4drow15_col4 {\n",
       "            background-color:  #7FDBFF;\n",
       "        }    #T_37c29402_1613_11ea_985a_645aedea2b4drow16_col3 {\n",
       "            background-color:  #7FDBFF;\n",
       "        }    #T_37c29402_1613_11ea_985a_645aedea2b4drow16_col4 {\n",
       "            background-color:  #7FDBFF;\n",
       "        }    #T_37c29402_1613_11ea_985a_645aedea2b4drow16_col6 {\n",
       "            background-color:  #7FDBFF;\n",
       "        }    #T_37c29402_1613_11ea_985a_645aedea2b4drow16_col7 {\n",
       "            background-color:  #7FDBFF;\n",
       "        }    #T_37c29402_1613_11ea_985a_645aedea2b4drow17_col0 {\n",
       "            background-color:  #7FDBFF;\n",
       "        }    #T_37c29402_1613_11ea_985a_645aedea2b4drow17_col4 {\n",
       "            background-color:  #7FDBFF;\n",
       "        }    #T_37c29402_1613_11ea_985a_645aedea2b4drow18_col0 {\n",
       "            background-color:  #7FDBFF;\n",
       "        }    #T_37c29402_1613_11ea_985a_645aedea2b4drow18_col1 {\n",
       "            background-color:  #7FDBFF;\n",
       "        }    #T_37c29402_1613_11ea_985a_645aedea2b4drow18_col3 {\n",
       "            background-color:  #7FDBFF;\n",
       "        }    #T_37c29402_1613_11ea_985a_645aedea2b4drow18_col4 {\n",
       "            background-color:  #7FDBFF;\n",
       "        }    #T_37c29402_1613_11ea_985a_645aedea2b4drow18_col7 {\n",
       "            background-color:  #7FDBFF;\n",
       "        }    #T_37c29402_1613_11ea_985a_645aedea2b4drow19_col0 {\n",
       "            background-color:  #7FDBFF;\n",
       "        }    #T_37c29402_1613_11ea_985a_645aedea2b4drow19_col4 {\n",
       "            background-color:  #7FDBFF;\n",
       "        }    #T_37c29402_1613_11ea_985a_645aedea2b4drow20_col0 {\n",
       "            background-color:  #7FDBFF;\n",
       "        }    #T_37c29402_1613_11ea_985a_645aedea2b4drow20_col4 {\n",
       "            background-color:  #7FDBFF;\n",
       "        }    #T_37c29402_1613_11ea_985a_645aedea2b4drow20_col7 {\n",
       "            background-color:  #7FDBFF;\n",
       "        }    #T_37c29402_1613_11ea_985a_645aedea2b4drow21_col0 {\n",
       "            background-color:  #7FDBFF;\n",
       "        }    #T_37c29402_1613_11ea_985a_645aedea2b4drow21_col1 {\n",
       "            background-color:  #7FDBFF;\n",
       "        }    #T_37c29402_1613_11ea_985a_645aedea2b4drow21_col4 {\n",
       "            background-color:  #7FDBFF;\n",
       "        }    #T_37c29402_1613_11ea_985a_645aedea2b4drow22_col0 {\n",
       "            background-color:  #7FDBFF;\n",
       "        }    #T_37c29402_1613_11ea_985a_645aedea2b4drow22_col1 {\n",
       "            background-color:  #7FDBFF;\n",
       "        }    #T_37c29402_1613_11ea_985a_645aedea2b4drow22_col4 {\n",
       "            background-color:  #7FDBFF;\n",
       "        }    #T_37c29402_1613_11ea_985a_645aedea2b4drow23_col0 {\n",
       "            background-color:  #7FDBFF;\n",
       "        }    #T_37c29402_1613_11ea_985a_645aedea2b4drow23_col1 {\n",
       "            background-color:  #7FDBFF;\n",
       "        }    #T_37c29402_1613_11ea_985a_645aedea2b4drow23_col4 {\n",
       "            background-color:  #7FDBFF;\n",
       "        }    #T_37c29402_1613_11ea_985a_645aedea2b4drow23_col6 {\n",
       "            background-color:  #7FDBFF;\n",
       "        }    #T_37c29402_1613_11ea_985a_645aedea2b4drow23_col7 {\n",
       "            background-color:  #7FDBFF;\n",
       "        }    #T_37c29402_1613_11ea_985a_645aedea2b4drow24_col0 {\n",
       "            background-color:  #7FDBFF;\n",
       "        }    #T_37c29402_1613_11ea_985a_645aedea2b4drow24_col1 {\n",
       "            background-color:  #7FDBFF;\n",
       "        }    #T_37c29402_1613_11ea_985a_645aedea2b4drow24_col3 {\n",
       "            background-color:  #7FDBFF;\n",
       "        }    #T_37c29402_1613_11ea_985a_645aedea2b4drow24_col4 {\n",
       "            background-color:  #7FDBFF;\n",
       "        }    #T_37c29402_1613_11ea_985a_645aedea2b4drow24_col7 {\n",
       "            background-color:  #7FDBFF;\n",
       "        }    #T_37c29402_1613_11ea_985a_645aedea2b4drow25_col0 {\n",
       "            background-color:  #7FDBFF;\n",
       "        }    #T_37c29402_1613_11ea_985a_645aedea2b4drow25_col1 {\n",
       "            background-color:  #7FDBFF;\n",
       "        }    #T_37c29402_1613_11ea_985a_645aedea2b4drow25_col4 {\n",
       "            background-color:  #7FDBFF;\n",
       "        }    #T_37c29402_1613_11ea_985a_645aedea2b4drow26_col0 {\n",
       "            background-color:  #7FDBFF;\n",
       "        }    #T_37c29402_1613_11ea_985a_645aedea2b4drow26_col1 {\n",
       "            background-color:  #7FDBFF;\n",
       "        }    #T_37c29402_1613_11ea_985a_645aedea2b4drow26_col4 {\n",
       "            background-color:  #7FDBFF;\n",
       "        }    #T_37c29402_1613_11ea_985a_645aedea2b4drow26_col7 {\n",
       "            background-color:  #7FDBFF;\n",
       "        }    #T_37c29402_1613_11ea_985a_645aedea2b4drow27_col0 {\n",
       "            background-color:  #7FDBFF;\n",
       "        }    #T_37c29402_1613_11ea_985a_645aedea2b4drow27_col1 {\n",
       "            background-color:  #7FDBFF;\n",
       "        }    #T_37c29402_1613_11ea_985a_645aedea2b4drow28_col0 {\n",
       "            background-color:  #7FDBFF;\n",
       "        }    #T_37c29402_1613_11ea_985a_645aedea2b4drow28_col1 {\n",
       "            background-color:  #7FDBFF;\n",
       "        }    #T_37c29402_1613_11ea_985a_645aedea2b4drow28_col3 {\n",
       "            background-color:  #7FDBFF;\n",
       "        }    #T_37c29402_1613_11ea_985a_645aedea2b4drow29_col0 {\n",
       "            background-color:  #7FDBFF;\n",
       "        }    #T_37c29402_1613_11ea_985a_645aedea2b4drow29_col1 {\n",
       "            background-color:  #7FDBFF;\n",
       "        }    #T_37c29402_1613_11ea_985a_645aedea2b4drow29_col4 {\n",
       "            background-color:  #7FDBFF;\n",
       "        }    #T_37c29402_1613_11ea_985a_645aedea2b4drow29_col7 {\n",
       "            background-color:  #7FDBFF;\n",
       "        }    #T_37c29402_1613_11ea_985a_645aedea2b4drow30_col3 {\n",
       "            background-color:  #7FDBFF;\n",
       "        }    #T_37c29402_1613_11ea_985a_645aedea2b4drow30_col4 {\n",
       "            background-color:  #7FDBFF;\n",
       "        }    #T_37c29402_1613_11ea_985a_645aedea2b4drow30_col7 {\n",
       "            background-color:  #7FDBFF;\n",
       "        }    #T_37c29402_1613_11ea_985a_645aedea2b4drow31_col3 {\n",
       "            background-color:  #7FDBFF;\n",
       "        }    #T_37c29402_1613_11ea_985a_645aedea2b4drow31_col4 {\n",
       "            background-color:  #7FDBFF;\n",
       "        }    #T_37c29402_1613_11ea_985a_645aedea2b4drow31_col7 {\n",
       "            background-color:  #7FDBFF;\n",
       "        }    #T_37c29402_1613_11ea_985a_645aedea2b4drow32_col3 {\n",
       "            background-color:  #7FDBFF;\n",
       "        }    #T_37c29402_1613_11ea_985a_645aedea2b4drow32_col4 {\n",
       "            background-color:  #7FDBFF;\n",
       "        }    #T_37c29402_1613_11ea_985a_645aedea2b4drow32_col7 {\n",
       "            background-color:  #7FDBFF;\n",
       "        }    #T_37c29402_1613_11ea_985a_645aedea2b4drow33_col3 {\n",
       "            background-color:  #7FDBFF;\n",
       "        }    #T_37c29402_1613_11ea_985a_645aedea2b4drow33_col4 {\n",
       "            background-color:  #7FDBFF;\n",
       "        }    #T_37c29402_1613_11ea_985a_645aedea2b4drow33_col7 {\n",
       "            background-color:  #7FDBFF;\n",
       "        }    #T_37c29402_1613_11ea_985a_645aedea2b4drow34_col0 {\n",
       "            background-color:  #7FDBFF;\n",
       "        }    #T_37c29402_1613_11ea_985a_645aedea2b4drow34_col3 {\n",
       "            background-color:  #7FDBFF;\n",
       "        }    #T_37c29402_1613_11ea_985a_645aedea2b4drow34_col4 {\n",
       "            background-color:  #7FDBFF;\n",
       "        }    #T_37c29402_1613_11ea_985a_645aedea2b4drow34_col5 {\n",
       "            background-color:  #7FDBFF;\n",
       "        }    #T_37c29402_1613_11ea_985a_645aedea2b4drow34_col7 {\n",
       "            background-color:  #7FDBFF;\n",
       "        }    #T_37c29402_1613_11ea_985a_645aedea2b4drow35_col4 {\n",
       "            background-color:  #7FDBFF;\n",
       "        }    #T_37c29402_1613_11ea_985a_645aedea2b4drow35_col7 {\n",
       "            background-color:  #7FDBFF;\n",
       "        }    #T_37c29402_1613_11ea_985a_645aedea2b4drow36_col4 {\n",
       "            background-color:  #7FDBFF;\n",
       "        }    #T_37c29402_1613_11ea_985a_645aedea2b4drow37_col4 {\n",
       "            background-color:  #7FDBFF;\n",
       "        }    #T_37c29402_1613_11ea_985a_645aedea2b4drow38_col4 {\n",
       "            background-color:  #7FDBFF;\n",
       "        }    #T_37c29402_1613_11ea_985a_645aedea2b4drow38_col6 {\n",
       "            background-color:  #7FDBFF;\n",
       "        }    #T_37c29402_1613_11ea_985a_645aedea2b4drow38_col7 {\n",
       "            background-color:  #7FDBFF;\n",
       "        }    #T_37c29402_1613_11ea_985a_645aedea2b4drow39_col4 {\n",
       "            background-color:  #7FDBFF;\n",
       "        }    #T_37c29402_1613_11ea_985a_645aedea2b4drow39_col7 {\n",
       "            background-color:  #7FDBFF;\n",
       "        }    #T_37c29402_1613_11ea_985a_645aedea2b4drow40_col4 {\n",
       "            background-color:  #7FDBFF;\n",
       "        }    #T_37c29402_1613_11ea_985a_645aedea2b4drow40_col7 {\n",
       "            background-color:  #7FDBFF;\n",
       "        }    #T_37c29402_1613_11ea_985a_645aedea2b4drow41_col4 {\n",
       "            background-color:  #7FDBFF;\n",
       "        }    #T_37c29402_1613_11ea_985a_645aedea2b4drow41_col7 {\n",
       "            background-color:  #7FDBFF;\n",
       "        }    #T_37c29402_1613_11ea_985a_645aedea2b4drow42_col0 {\n",
       "            background-color:  #7FDBFF;\n",
       "        }    #T_37c29402_1613_11ea_985a_645aedea2b4drow42_col1 {\n",
       "            background-color:  #7FDBFF;\n",
       "        }    #T_37c29402_1613_11ea_985a_645aedea2b4drow43_col0 {\n",
       "            background-color:  #7FDBFF;\n",
       "        }    #T_37c29402_1613_11ea_985a_645aedea2b4drow43_col1 {\n",
       "            background-color:  #7FDBFF;\n",
       "        }    #T_37c29402_1613_11ea_985a_645aedea2b4drow43_col4 {\n",
       "            background-color:  #7FDBFF;\n",
       "        }    #T_37c29402_1613_11ea_985a_645aedea2b4drow43_col7 {\n",
       "            background-color:  #7FDBFF;\n",
       "        }    #T_37c29402_1613_11ea_985a_645aedea2b4drow44_col0 {\n",
       "            background-color:  #7FDBFF;\n",
       "        }    #T_37c29402_1613_11ea_985a_645aedea2b4drow44_col1 {\n",
       "            background-color:  #7FDBFF;\n",
       "        }    #T_37c29402_1613_11ea_985a_645aedea2b4drow44_col4 {\n",
       "            background-color:  #7FDBFF;\n",
       "        }    #T_37c29402_1613_11ea_985a_645aedea2b4drow44_col7 {\n",
       "            background-color:  #7FDBFF;\n",
       "        }</style><table id=\"T_37c29402_1613_11ea_985a_645aedea2b4d\" ><thead>    <tr>        <th class=\"blank level0\" ></th>        <th class=\"col_heading level0 col0\" >L0-L5</th>        <th class=\"col_heading level0 col1\" >L5-T0</th>        <th class=\"col_heading level0 col2\" >M7-L0</th>        <th class=\"col_heading level0 col3\" >T0-T5</th>        <th class=\"col_heading level0 col4\" >T5-T9</th>        <th class=\"col_heading level0 col5\" >subdwarfs</th>        <th class=\"col_heading level0 col6\" >trash</th>        <th class=\"col_heading level0 col7\" >Y dwarfs</th>    </tr></thead><tbody>\n",
       "                <tr>\n",
       "                        <th id=\"T_37c29402_1613_11ea_985a_645aedea2b4dlevel0_row0\" class=\"row_heading level0 row0\" >H_2O-1/J-Cont H_2O-2/H_2O-1</th>\n",
       "                        <td id=\"T_37c29402_1613_11ea_985a_645aedea2b4drow0_col0\" class=\"data row0 col0\" >0.0746195</td>\n",
       "                        <td id=\"T_37c29402_1613_11ea_985a_645aedea2b4drow0_col1\" class=\"data row0 col1\" >0.210727</td>\n",
       "                        <td id=\"T_37c29402_1613_11ea_985a_645aedea2b4drow0_col2\" class=\"data row0 col2\" >0.15243</td>\n",
       "                        <td id=\"T_37c29402_1613_11ea_985a_645aedea2b4drow0_col3\" class=\"data row0 col3\" >0.0555965</td>\n",
       "                        <td id=\"T_37c29402_1613_11ea_985a_645aedea2b4drow0_col4\" class=\"data row0 col4\" >0.00012273</td>\n",
       "                        <td id=\"T_37c29402_1613_11ea_985a_645aedea2b4drow0_col5\" class=\"data row0 col5\" >0.181271</td>\n",
       "                        <td id=\"T_37c29402_1613_11ea_985a_645aedea2b4drow0_col6\" class=\"data row0 col6\" >0.307683</td>\n",
       "                        <td id=\"T_37c29402_1613_11ea_985a_645aedea2b4drow0_col7\" class=\"data row0 col7\" >0.00159548</td>\n",
       "            </tr>\n",
       "            <tr>\n",
       "                        <th id=\"T_37c29402_1613_11ea_985a_645aedea2b4dlevel0_row1\" class=\"row_heading level0 row1\" >H_2O-1/J-Cont H-cont/H_2O-1</th>\n",
       "                        <td id=\"T_37c29402_1613_11ea_985a_645aedea2b4drow1_col0\" class=\"data row1 col0\" >0.0893471</td>\n",
       "                        <td id=\"T_37c29402_1613_11ea_985a_645aedea2b4drow1_col1\" class=\"data row1 col1\" >0.208886</td>\n",
       "                        <td id=\"T_37c29402_1613_11ea_985a_645aedea2b4drow1_col2\" class=\"data row1 col2\" >0.151816</td>\n",
       "                        <td id=\"T_37c29402_1613_11ea_985a_645aedea2b4drow1_col3\" class=\"data row1 col3\" >0.194772</td>\n",
       "                        <td id=\"T_37c29402_1613_11ea_985a_645aedea2b4drow1_col4\" class=\"data row1 col4\" >0.0147275</td>\n",
       "                        <td id=\"T_37c29402_1613_11ea_985a_645aedea2b4drow1_col5\" class=\"data row1 col5\" >0.250859</td>\n",
       "                        <td id=\"T_37c29402_1613_11ea_985a_645aedea2b4drow1_col6\" class=\"data row1 col6\" >0.308542</td>\n",
       "                        <td id=\"T_37c29402_1613_11ea_985a_645aedea2b4drow1_col7\" class=\"data row1 col7\" >0.0137457</td>\n",
       "            </tr>\n",
       "            <tr>\n",
       "                        <th id=\"T_37c29402_1613_11ea_985a_645aedea2b4dlevel0_row2\" class=\"row_heading level0 row2\" >H_2O-1/J-Cont CH_4/H_2O-1</th>\n",
       "                        <td id=\"T_37c29402_1613_11ea_985a_645aedea2b4drow2_col0\" class=\"data row2 col0\" >0.0857879</td>\n",
       "                        <td id=\"T_37c29402_1613_11ea_985a_645aedea2b4drow2_col1\" class=\"data row2 col1\" >0.209008</td>\n",
       "                        <td id=\"T_37c29402_1613_11ea_985a_645aedea2b4drow2_col2\" class=\"data row2 col2\" >0.144944</td>\n",
       "                        <td id=\"T_37c29402_1613_11ea_985a_645aedea2b4drow2_col3\" class=\"data row2 col3\" >0.145925</td>\n",
       "                        <td id=\"T_37c29402_1613_11ea_985a_645aedea2b4drow2_col4\" class=\"data row2 col4\" >0.000859107</td>\n",
       "                        <td id=\"T_37c29402_1613_11ea_985a_645aedea2b4drow2_col5\" class=\"data row2 col5\" >0.239691</td>\n",
       "                        <td id=\"T_37c29402_1613_11ea_985a_645aedea2b4drow2_col6\" class=\"data row2 col6\" >0.291851</td>\n",
       "                        <td id=\"T_37c29402_1613_11ea_985a_645aedea2b4drow2_col7\" class=\"data row2 col7\" >0.00662739</td>\n",
       "            </tr>\n",
       "            <tr>\n",
       "                        <th id=\"T_37c29402_1613_11ea_985a_645aedea2b4dlevel0_row3\" class=\"row_heading level0 row3\" >H_2O-1/J-Cont H_2O-2/J-Cont</th>\n",
       "                        <td id=\"T_37c29402_1613_11ea_985a_645aedea2b4drow3_col0\" class=\"data row3 col0\" >0.0860334</td>\n",
       "                        <td id=\"T_37c29402_1613_11ea_985a_645aedea2b4drow3_col1\" class=\"data row3 col1\" >0.199313</td>\n",
       "                        <td id=\"T_37c29402_1613_11ea_985a_645aedea2b4drow3_col2\" class=\"data row3 col2\" >0.146048</td>\n",
       "                        <td id=\"T_37c29402_1613_11ea_985a_645aedea2b4drow3_col3\" class=\"data row3 col3\" >0.0538783</td>\n",
       "                        <td id=\"T_37c29402_1613_11ea_985a_645aedea2b4drow3_col4\" class=\"data row3 col4\" >0.00012273</td>\n",
       "                        <td id=\"T_37c29402_1613_11ea_985a_645aedea2b4drow3_col5\" class=\"data row3 col5\" >0.233554</td>\n",
       "                        <td id=\"T_37c29402_1613_11ea_985a_645aedea2b4drow3_col6\" class=\"data row3 col6\" >0.32241</td>\n",
       "                        <td id=\"T_37c29402_1613_11ea_985a_645aedea2b4drow3_col7\" class=\"data row3 col7\" >0.000859107</td>\n",
       "            </tr>\n",
       "            <tr>\n",
       "                        <th id=\"T_37c29402_1613_11ea_985a_645aedea2b4dlevel0_row4\" class=\"row_heading level0 row4\" >H_2O-1/J-Cont H-cont/J-Cont</th>\n",
       "                        <td id=\"T_37c29402_1613_11ea_985a_645aedea2b4drow4_col0\" class=\"data row4 col0\" >0.0661512</td>\n",
       "                        <td id=\"T_37c29402_1613_11ea_985a_645aedea2b4drow4_col1\" class=\"data row4 col1\" >0.203608</td>\n",
       "                        <td id=\"T_37c29402_1613_11ea_985a_645aedea2b4drow4_col2\" class=\"data row4 col2\" >0.140893</td>\n",
       "                        <td id=\"T_37c29402_1613_11ea_985a_645aedea2b4drow4_col3\" class=\"data row4 col3\" >0.14163</td>\n",
       "                        <td id=\"T_37c29402_1613_11ea_985a_645aedea2b4drow4_col4\" class=\"data row4 col4\" >0.00220913</td>\n",
       "                        <td id=\"T_37c29402_1613_11ea_985a_645aedea2b4drow4_col5\" class=\"data row4 col5\" >0.208272</td>\n",
       "                        <td id=\"T_37c29402_1613_11ea_985a_645aedea2b4drow4_col6\" class=\"data row4 col6\" >0.283505</td>\n",
       "                        <td id=\"T_37c29402_1613_11ea_985a_645aedea2b4drow4_col7\" class=\"data row4 col7\" >0.00785469</td>\n",
       "            </tr>\n",
       "            <tr>\n",
       "                        <th id=\"T_37c29402_1613_11ea_985a_645aedea2b4dlevel0_row5\" class=\"row_heading level0 row5\" >H_2O-1/J-Cont CH_4/J-Cont</th>\n",
       "                        <td id=\"T_37c29402_1613_11ea_985a_645aedea2b4drow5_col0\" class=\"data row5 col0\" >0.0666421</td>\n",
       "                        <td id=\"T_37c29402_1613_11ea_985a_645aedea2b4drow5_col1\" class=\"data row5 col1\" >0.203731</td>\n",
       "                        <td id=\"T_37c29402_1613_11ea_985a_645aedea2b4drow5_col2\" class=\"data row5 col2\" >0.134757</td>\n",
       "                        <td id=\"T_37c29402_1613_11ea_985a_645aedea2b4drow5_col3\" class=\"data row5 col3\" >0.187653</td>\n",
       "                        <td id=\"T_37c29402_1613_11ea_985a_645aedea2b4drow5_col4\" class=\"data row5 col4\" >0.00171821</td>\n",
       "                        <td id=\"T_37c29402_1613_11ea_985a_645aedea2b4drow5_col5\" class=\"data row5 col5\" >0.171821</td>\n",
       "                        <td id=\"T_37c29402_1613_11ea_985a_645aedea2b4drow5_col6\" class=\"data row5 col6\" >0.273073</td>\n",
       "                        <td id=\"T_37c29402_1613_11ea_985a_645aedea2b4drow5_col7\" class=\"data row5 col7\" >0.00110457</td>\n",
       "            </tr>\n",
       "            <tr>\n",
       "                        <th id=\"T_37c29402_1613_11ea_985a_645aedea2b4dlevel0_row6\" class=\"row_heading level0 row6\" >H_2O-1/J-Cont H-cont/H_2O-2</th>\n",
       "                        <td id=\"T_37c29402_1613_11ea_985a_645aedea2b4drow6_col0\" class=\"data row6 col0\" >0.0909091</td>\n",
       "                        <td id=\"T_37c29402_1613_11ea_985a_645aedea2b4drow6_col1\" class=\"data row6 col1\" >0.129413</td>\n",
       "                        <td id=\"T_37c29402_1613_11ea_985a_645aedea2b4drow6_col2\" class=\"data row6 col2\" >0.123139</td>\n",
       "                        <td id=\"T_37c29402_1613_11ea_985a_645aedea2b4drow6_col3\" class=\"data row6 col3\" >0.247017</td>\n",
       "                        <td id=\"T_37c29402_1613_11ea_985a_645aedea2b4drow6_col4\" class=\"data row6 col4\" >0.0169763</td>\n",
       "                        <td id=\"T_37c29402_1613_11ea_985a_645aedea2b4drow6_col5\" class=\"data row6 col5\" >0.314799</td>\n",
       "                        <td id=\"T_37c29402_1613_11ea_985a_645aedea2b4drow6_col6\" class=\"data row6 col6\" >0.298438</td>\n",
       "                        <td id=\"T_37c29402_1613_11ea_985a_645aedea2b4drow6_col7\" class=\"data row6 col7\" >0.014762</td>\n",
       "            </tr>\n",
       "            <tr>\n",
       "                        <th id=\"T_37c29402_1613_11ea_985a_645aedea2b4dlevel0_row7\" class=\"row_heading level0 row7\" >H_2O-1/J-Cont CH_4/H_2O-2</th>\n",
       "                        <td id=\"T_37c29402_1613_11ea_985a_645aedea2b4drow7_col0\" class=\"data row7 col0\" >0.0810678</td>\n",
       "                        <td id=\"T_37c29402_1613_11ea_985a_645aedea2b4drow7_col1\" class=\"data row7 col1\" >0.0958297</td>\n",
       "                        <td id=\"T_37c29402_1613_11ea_985a_645aedea2b4drow7_col2\" class=\"data row7 col2\" >0.131381</td>\n",
       "                        <td id=\"T_37c29402_1613_11ea_985a_645aedea2b4drow7_col3\" class=\"data row7 col3\" >0.186001</td>\n",
       "                        <td id=\"T_37c29402_1613_11ea_985a_645aedea2b4drow7_col4\" class=\"data row7 col4\" >0.0169763</td>\n",
       "                        <td id=\"T_37c29402_1613_11ea_985a_645aedea2b4drow7_col5\" class=\"data row7 col5\" >0.257227</td>\n",
       "                        <td id=\"T_37c29402_1613_11ea_985a_645aedea2b4drow7_col6\" class=\"data row7 col6\" >0.273834</td>\n",
       "                        <td id=\"T_37c29402_1613_11ea_985a_645aedea2b4drow7_col7\" class=\"data row7 col7\" >0.014762</td>\n",
       "            </tr>\n",
       "            <tr>\n",
       "                        <th id=\"T_37c29402_1613_11ea_985a_645aedea2b4dlevel0_row8\" class=\"row_heading level0 row8\" >H_2O-1/J-Cont CH_4/H-Cont</th>\n",
       "                        <td id=\"T_37c29402_1613_11ea_985a_645aedea2b4drow8_col0\" class=\"data row8 col0\" >0.0447872</td>\n",
       "                        <td id=\"T_37c29402_1613_11ea_985a_645aedea2b4drow8_col1\" class=\"data row8 col1\" >0.0720543</td>\n",
       "                        <td id=\"T_37c29402_1613_11ea_985a_645aedea2b4drow8_col2\" class=\"data row8 col2\" >0.100062</td>\n",
       "                        <td id=\"T_37c29402_1613_11ea_985a_645aedea2b4drow8_col3\" class=\"data row8 col3\" >0.165207</td>\n",
       "                        <td id=\"T_37c29402_1613_11ea_985a_645aedea2b4drow8_col4\" class=\"data row8 col4\" >0.00111043</td>\n",
       "                        <td id=\"T_37c29402_1613_11ea_985a_645aedea2b4drow8_col5\" class=\"data row8 col5\" >0.124244</td>\n",
       "                        <td id=\"T_37c29402_1613_11ea_985a_645aedea2b4drow8_col6\" class=\"data row8 col6\" >0.156817</td>\n",
       "                        <td id=\"T_37c29402_1613_11ea_985a_645aedea2b4drow8_col7\" class=\"data row8 col7\" >0.000123381</td>\n",
       "            </tr>\n",
       "            <tr>\n",
       "                        <th id=\"T_37c29402_1613_11ea_985a_645aedea2b4dlevel0_row9\" class=\"row_heading level0 row9\" >H_2O-2/H_2O-1 H-cont/H_2O-1</th>\n",
       "                        <td id=\"T_37c29402_1613_11ea_985a_645aedea2b4drow9_col0\" class=\"data row9 col0\" >0.19109</td>\n",
       "                        <td id=\"T_37c29402_1613_11ea_985a_645aedea2b4drow9_col1\" class=\"data row9 col1\" >0.84217</td>\n",
       "                        <td id=\"T_37c29402_1613_11ea_985a_645aedea2b4drow9_col2\" class=\"data row9 col2\" >0.360579</td>\n",
       "                        <td id=\"T_37c29402_1613_11ea_985a_645aedea2b4drow9_col3\" class=\"data row9 col3\" >0.0547374</td>\n",
       "                        <td id=\"T_37c29402_1613_11ea_985a_645aedea2b4drow9_col4\" class=\"data row9 col4\" >0.0932744</td>\n",
       "                        <td id=\"T_37c29402_1613_11ea_985a_645aedea2b4drow9_col5\" class=\"data row9 col5\" >0.404516</td>\n",
       "                        <td id=\"T_37c29402_1613_11ea_985a_645aedea2b4drow9_col6\" class=\"data row9 col6\" >0.363648</td>\n",
       "                        <td id=\"T_37c29402_1613_11ea_985a_645aedea2b4drow9_col7\" class=\"data row9 col7\" >0.978522</td>\n",
       "            </tr>\n",
       "            <tr>\n",
       "                        <th id=\"T_37c29402_1613_11ea_985a_645aedea2b4dlevel0_row10\" class=\"row_heading level0 row10\" >H_2O-2/H_2O-1 CH_4/H_2O-1</th>\n",
       "                        <td id=\"T_37c29402_1613_11ea_985a_645aedea2b4drow10_col0\" class=\"data row10 col0\" >0.19649</td>\n",
       "                        <td id=\"T_37c29402_1613_11ea_985a_645aedea2b4drow10_col1\" class=\"data row10 col1\" >0.840697</td>\n",
       "                        <td id=\"T_37c29402_1613_11ea_985a_645aedea2b4drow10_col2\" class=\"data row10 col2\" >0.353216</td>\n",
       "                        <td id=\"T_37c29402_1613_11ea_985a_645aedea2b4drow10_col3\" class=\"data row10 col3\" >0.055351</td>\n",
       "                        <td id=\"T_37c29402_1613_11ea_985a_645aedea2b4drow10_col4\" class=\"data row10 col4\" >0.0148503</td>\n",
       "                        <td id=\"T_37c29402_1613_11ea_985a_645aedea2b4drow10_col5\" class=\"data row10 col5\" >0.373098</td>\n",
       "                        <td id=\"T_37c29402_1613_11ea_985a_645aedea2b4drow10_col6\" class=\"data row10 col6\" >0.347079</td>\n",
       "                        <td id=\"T_37c29402_1613_11ea_985a_645aedea2b4drow10_col7\" class=\"data row10 col7\" >0.973122</td>\n",
       "            </tr>\n",
       "            <tr>\n",
       "                        <th id=\"T_37c29402_1613_11ea_985a_645aedea2b4dlevel0_row11\" class=\"row_heading level0 row11\" >H_2O-2/H_2O-1 H_2O-2/J-Cont</th>\n",
       "                        <td id=\"T_37c29402_1613_11ea_985a_645aedea2b4drow11_col0\" class=\"data row11 col0\" >0.207904</td>\n",
       "                        <td id=\"T_37c29402_1613_11ea_985a_645aedea2b4drow11_col1\" class=\"data row11 col1\" >0.772705</td>\n",
       "                        <td id=\"T_37c29402_1613_11ea_985a_645aedea2b4drow11_col2\" class=\"data row11 col2\" >0.305965</td>\n",
       "                        <td id=\"T_37c29402_1613_11ea_985a_645aedea2b4drow11_col3\" class=\"data row11 col3\" >0.0571919</td>\n",
       "                        <td id=\"T_37c29402_1613_11ea_985a_645aedea2b4drow11_col4\" class=\"data row11 col4\" >0.0360825</td>\n",
       "                        <td id=\"T_37c29402_1613_11ea_985a_645aedea2b4drow11_col5\" class=\"data row11 col5\" >0.384512</td>\n",
       "                        <td id=\"T_37c29402_1613_11ea_985a_645aedea2b4drow11_col6\" class=\"data row11 col6\" >0.385493</td>\n",
       "                        <td id=\"T_37c29402_1613_11ea_985a_645aedea2b4drow11_col7\" class=\"data row11 col7\" >0.0607511</td>\n",
       "            </tr>\n",
       "            <tr>\n",
       "                        <th id=\"T_37c29402_1613_11ea_985a_645aedea2b4dlevel0_row12\" class=\"row_heading level0 row12\" >H_2O-2/H_2O-1 H-cont/J-Cont</th>\n",
       "                        <td id=\"T_37c29402_1613_11ea_985a_645aedea2b4drow12_col0\" class=\"data row12 col0\" >0.349779</td>\n",
       "                        <td id=\"T_37c29402_1613_11ea_985a_645aedea2b4drow12_col1\" class=\"data row12 col1\" >0.81566</td>\n",
       "                        <td id=\"T_37c29402_1613_11ea_985a_645aedea2b4drow12_col2\" class=\"data row12 col2\" >0.345729</td>\n",
       "                        <td id=\"T_37c29402_1613_11ea_985a_645aedea2b4drow12_col3\" class=\"data row12 col3\" >0.0796514</td>\n",
       "                        <td id=\"T_37c29402_1613_11ea_985a_645aedea2b4drow12_col4\" class=\"data row12 col4\" >0.0041728</td>\n",
       "                        <td id=\"T_37c29402_1613_11ea_985a_645aedea2b4drow12_col5\" class=\"data row12 col5\" >0.332351</td>\n",
       "                        <td id=\"T_37c29402_1613_11ea_985a_645aedea2b4drow12_col6\" class=\"data row12 col6\" >0.315906</td>\n",
       "                        <td id=\"T_37c29402_1613_11ea_985a_645aedea2b4drow12_col7\" class=\"data row12 col7\" >0.587629</td>\n",
       "            </tr>\n",
       "            <tr>\n",
       "                        <th id=\"T_37c29402_1613_11ea_985a_645aedea2b4dlevel0_row13\" class=\"row_heading level0 row13\" >H_2O-2/H_2O-1 CH_4/J-Cont</th>\n",
       "                        <td id=\"T_37c29402_1613_11ea_985a_645aedea2b4drow13_col0\" class=\"data row13 col0\" >0.333088</td>\n",
       "                        <td id=\"T_37c29402_1613_11ea_985a_645aedea2b4drow13_col1\" class=\"data row13 col1\" >0.817624</td>\n",
       "                        <td id=\"T_37c29402_1613_11ea_985a_645aedea2b4drow13_col2\" class=\"data row13 col2\" >0.333333</td>\n",
       "                        <td id=\"T_37c29402_1613_11ea_985a_645aedea2b4drow13_col3\" class=\"data row13 col3\" >0.101743</td>\n",
       "                        <td id=\"T_37c29402_1613_11ea_985a_645aedea2b4drow13_col4\" class=\"data row13 col4\" >0.0106775</td>\n",
       "                        <td id=\"T_37c29402_1613_11ea_985a_645aedea2b4drow13_col5\" class=\"data row13 col5\" >0.331861</td>\n",
       "                        <td id=\"T_37c29402_1613_11ea_985a_645aedea2b4drow13_col6\" class=\"data row13 col6\" >0.307069</td>\n",
       "                        <td id=\"T_37c29402_1613_11ea_985a_645aedea2b4drow13_col7\" class=\"data row13 col7\" >0.10297</td>\n",
       "            </tr>\n",
       "            <tr>\n",
       "                        <th id=\"T_37c29402_1613_11ea_985a_645aedea2b4dlevel0_row14\" class=\"row_heading level0 row14\" >H_2O-2/H_2O-1 H-cont/H_2O-2</th>\n",
       "                        <td id=\"T_37c29402_1613_11ea_985a_645aedea2b4drow14_col0\" class=\"data row14 col0\" >0.415303</td>\n",
       "                        <td id=\"T_37c29402_1613_11ea_985a_645aedea2b4drow14_col1\" class=\"data row14 col1\" >0.62603</td>\n",
       "                        <td id=\"T_37c29402_1613_11ea_985a_645aedea2b4drow14_col2\" class=\"data row14 col2\" >0.308033</td>\n",
       "                        <td id=\"T_37c29402_1613_11ea_985a_645aedea2b4drow14_col3\" class=\"data row14 col3\" >0.154632</td>\n",
       "                        <td id=\"T_37c29402_1613_11ea_985a_645aedea2b4drow14_col4\" class=\"data row14 col4\" >0.0890638</td>\n",
       "                        <td id=\"T_37c29402_1613_11ea_985a_645aedea2b4drow14_col5\" class=\"data row14 col5\" >0.43068</td>\n",
       "                        <td id=\"T_37c29402_1613_11ea_985a_645aedea2b4drow14_col6\" class=\"data row14 col6\" >0.35687</td>\n",
       "                        <td id=\"T_37c29402_1613_11ea_985a_645aedea2b4drow14_col7\" class=\"data row14 col7\" >0.976135</td>\n",
       "            </tr>\n",
       "            <tr>\n",
       "                        <th id=\"T_37c29402_1613_11ea_985a_645aedea2b4dlevel0_row15\" class=\"row_heading level0 row15\" >H_2O-2/H_2O-1 CH_4/H_2O-2</th>\n",
       "                        <td id=\"T_37c29402_1613_11ea_985a_645aedea2b4drow15_col0\" class=\"data row15 col0\" >0.355271</td>\n",
       "                        <td id=\"T_37c29402_1613_11ea_985a_645aedea2b4drow15_col1\" class=\"data row15 col1\" >0.4853</td>\n",
       "                        <td id=\"T_37c29402_1613_11ea_985a_645aedea2b4drow15_col2\" class=\"data row15 col2\" >0.32464</td>\n",
       "                        <td id=\"T_37c29402_1613_11ea_985a_645aedea2b4drow15_col3\" class=\"data row15 col3\" >0.129044</td>\n",
       "                        <td id=\"T_37c29402_1613_11ea_985a_645aedea2b4drow15_col4\" class=\"data row15 col4\" >0.075163</td>\n",
       "                        <td id=\"T_37c29402_1613_11ea_985a_645aedea2b4drow15_col5\" class=\"data row15 col5\" >0.413089</td>\n",
       "                        <td id=\"T_37c29402_1613_11ea_985a_645aedea2b4drow15_col6\" class=\"data row15 col6\" >0.341001</td>\n",
       "                        <td id=\"T_37c29402_1613_11ea_985a_645aedea2b4drow15_col7\" class=\"data row15 col7\" >0.946365</td>\n",
       "            </tr>\n",
       "            <tr>\n",
       "                        <th id=\"T_37c29402_1613_11ea_985a_645aedea2b4dlevel0_row16\" class=\"row_heading level0 row16\" >H_2O-2/H_2O-1 CH_4/H-Cont</th>\n",
       "                        <td id=\"T_37c29402_1613_11ea_985a_645aedea2b4drow16_col0\" class=\"data row16 col0\" >0.254534</td>\n",
       "                        <td id=\"T_37c29402_1613_11ea_985a_645aedea2b4drow16_col1\" class=\"data row16 col1\" >0.4533</td>\n",
       "                        <td id=\"T_37c29402_1613_11ea_985a_645aedea2b4drow16_col2\" class=\"data row16 col2\" >0.238988</td>\n",
       "                        <td id=\"T_37c29402_1613_11ea_985a_645aedea2b4drow16_col3\" class=\"data row16 col3\" >0.10327</td>\n",
       "                        <td id=\"T_37c29402_1613_11ea_985a_645aedea2b4drow16_col4\" class=\"data row16 col4\" >0.00308452</td>\n",
       "                        <td id=\"T_37c29402_1613_11ea_985a_645aedea2b4drow16_col5\" class=\"data row16 col5\" >0.264898</td>\n",
       "                        <td id=\"T_37c29402_1613_11ea_985a_645aedea2b4drow16_col6\" class=\"data row16 col6\" >0.184084</td>\n",
       "                        <td id=\"T_37c29402_1613_11ea_985a_645aedea2b4drow16_col7\" class=\"data row16 col7\" >0.025293</td>\n",
       "            </tr>\n",
       "            <tr>\n",
       "                        <th id=\"T_37c29402_1613_11ea_985a_645aedea2b4dlevel0_row17\" class=\"row_heading level0 row17\" >H-cont/H_2O-1 CH_4/H_2O-1</th>\n",
       "                        <td id=\"T_37c29402_1613_11ea_985a_645aedea2b4drow17_col0\" class=\"data row17 col0\" >0.129357</td>\n",
       "                        <td id=\"T_37c29402_1613_11ea_985a_645aedea2b4drow17_col1\" class=\"data row17 col1\" >0.212077</td>\n",
       "                        <td id=\"T_37c29402_1613_11ea_985a_645aedea2b4drow17_col2\" class=\"data row17 col2\" >0.376902</td>\n",
       "                        <td id=\"T_37c29402_1613_11ea_985a_645aedea2b4drow17_col3\" class=\"data row17 col3\" >0.509941</td>\n",
       "                        <td id=\"T_37c29402_1613_11ea_985a_645aedea2b4drow17_col4\" class=\"data row17 col4\" >0.00110457</td>\n",
       "                        <td id=\"T_37c29402_1613_11ea_985a_645aedea2b4drow17_col5\" class=\"data row17 col5\" >0.484168</td>\n",
       "                        <td id=\"T_37c29402_1613_11ea_985a_645aedea2b4drow17_col6\" class=\"data row17 col6\" >0.394207</td>\n",
       "                        <td id=\"T_37c29402_1613_11ea_985a_645aedea2b4drow17_col7\" class=\"data row17 col7\" >0.985395</td>\n",
       "            </tr>\n",
       "            <tr>\n",
       "                        <th id=\"T_37c29402_1613_11ea_985a_645aedea2b4dlevel0_row18\" class=\"row_heading level0 row18\" >H-cont/H_2O-1 H_2O-2/J-Cont</th>\n",
       "                        <td id=\"T_37c29402_1613_11ea_985a_645aedea2b4drow18_col0\" class=\"data row18 col0\" >0.0759696</td>\n",
       "                        <td id=\"T_37c29402_1613_11ea_985a_645aedea2b4drow18_col1\" class=\"data row18 col1\" >0.179676</td>\n",
       "                        <td id=\"T_37c29402_1613_11ea_985a_645aedea2b4drow18_col2\" class=\"data row18 col2\" >0.265218</td>\n",
       "                        <td id=\"T_37c29402_1613_11ea_985a_645aedea2b4drow18_col3\" class=\"data row18 col3\" >0.0498282</td>\n",
       "                        <td id=\"T_37c29402_1613_11ea_985a_645aedea2b4drow18_col4\" class=\"data row18 col4\" >0.00012273</td>\n",
       "                        <td id=\"T_37c29402_1613_11ea_985a_645aedea2b4drow18_col5\" class=\"data row18 col5\" >0.39433</td>\n",
       "                        <td id=\"T_37c29402_1613_11ea_985a_645aedea2b4drow18_col6\" class=\"data row18 col6\" >0.36512</td>\n",
       "                        <td id=\"T_37c29402_1613_11ea_985a_645aedea2b4drow18_col7\" class=\"data row18 col7\" >0.0608738</td>\n",
       "            </tr>\n",
       "            <tr>\n",
       "                        <th id=\"T_37c29402_1613_11ea_985a_645aedea2b4dlevel0_row19\" class=\"row_heading level0 row19\" >H-cont/H_2O-1 H-cont/J-Cont</th>\n",
       "                        <td id=\"T_37c29402_1613_11ea_985a_645aedea2b4drow19_col0\" class=\"data row19 col0\" >0.100025</td>\n",
       "                        <td id=\"T_37c29402_1613_11ea_985a_645aedea2b4drow19_col1\" class=\"data row19 col1\" >0.204713</td>\n",
       "                        <td id=\"T_37c29402_1613_11ea_985a_645aedea2b4drow19_col2\" class=\"data row19 col2\" >0.368066</td>\n",
       "                        <td id=\"T_37c29402_1613_11ea_985a_645aedea2b4drow19_col3\" class=\"data row19 col3\" >0.455204</td>\n",
       "                        <td id=\"T_37c29402_1613_11ea_985a_645aedea2b4drow19_col4\" class=\"data row19 col4\" >0.00196367</td>\n",
       "                        <td id=\"T_37c29402_1613_11ea_985a_645aedea2b4drow19_col5\" class=\"data row19 col5\" >0.425749</td>\n",
       "                        <td id=\"T_37c29402_1613_11ea_985a_645aedea2b4drow19_col6\" class=\"data row19 col6\" >0.374816</td>\n",
       "                        <td id=\"T_37c29402_1613_11ea_985a_645aedea2b4drow19_col7\" class=\"data row19 col7\" >0.597447</td>\n",
       "            </tr>\n",
       "            <tr>\n",
       "                        <th id=\"T_37c29402_1613_11ea_985a_645aedea2b4dlevel0_row20\" class=\"row_heading level0 row20\" >H-cont/H_2O-1 CH_4/J-Cont</th>\n",
       "                        <td id=\"T_37c29402_1613_11ea_985a_645aedea2b4drow20_col0\" class=\"data row20 col0\" >0.0873834</td>\n",
       "                        <td id=\"T_37c29402_1613_11ea_985a_645aedea2b4drow20_col1\" class=\"data row20 col1\" >0.205449</td>\n",
       "                        <td id=\"T_37c29402_1613_11ea_985a_645aedea2b4drow20_col2\" class=\"data row20 col2\" >0.341433</td>\n",
       "                        <td id=\"T_37c29402_1613_11ea_985a_645aedea2b4drow20_col3\" class=\"data row20 col3\" >0.493986</td>\n",
       "                        <td id=\"T_37c29402_1613_11ea_985a_645aedea2b4drow20_col4\" class=\"data row20 col4\" >0.000859107</td>\n",
       "                        <td id=\"T_37c29402_1613_11ea_985a_645aedea2b4drow20_col5\" class=\"data row20 col5\" >0.407953</td>\n",
       "                        <td id=\"T_37c29402_1613_11ea_985a_645aedea2b4drow20_col6\" class=\"data row20 col6\" >0.337015</td>\n",
       "                        <td id=\"T_37c29402_1613_11ea_985a_645aedea2b4drow20_col7\" class=\"data row20 col7\" >0.103952</td>\n",
       "            </tr>\n",
       "            <tr>\n",
       "                        <th id=\"T_37c29402_1613_11ea_985a_645aedea2b4dlevel0_row21\" class=\"row_heading level0 row21\" >H-cont/H_2O-1 H-cont/H_2O-2</th>\n",
       "                        <td id=\"T_37c29402_1613_11ea_985a_645aedea2b4drow21_col0\" class=\"data row21 col0\" >0.149957</td>\n",
       "                        <td id=\"T_37c29402_1613_11ea_985a_645aedea2b4drow21_col1\" class=\"data row21 col1\" >0.177759</td>\n",
       "                        <td id=\"T_37c29402_1613_11ea_985a_645aedea2b4drow21_col2\" class=\"data row21 col2\" >0.315537</td>\n",
       "                        <td id=\"T_37c29402_1613_11ea_985a_645aedea2b4drow21_col3\" class=\"data row21 col3\" >0.573871</td>\n",
       "                        <td id=\"T_37c29402_1613_11ea_985a_645aedea2b4drow21_col4\" class=\"data row21 col4\" >0.0280477</td>\n",
       "                        <td id=\"T_37c29402_1613_11ea_985a_645aedea2b4drow21_col5\" class=\"data row21 col5\" >0.505351</td>\n",
       "                        <td id=\"T_37c29402_1613_11ea_985a_645aedea2b4drow21_col6\" class=\"data row21 col6\" >0.399803</td>\n",
       "                        <td id=\"T_37c29402_1613_11ea_985a_645aedea2b4drow21_col7\" class=\"data row21 col7\" >0.995817</td>\n",
       "            </tr>\n",
       "            <tr>\n",
       "                        <th id=\"T_37c29402_1613_11ea_985a_645aedea2b4dlevel0_row22\" class=\"row_heading level0 row22\" >H-cont/H_2O-1 CH_4/H_2O-2</th>\n",
       "                        <td id=\"T_37c29402_1613_11ea_985a_645aedea2b4drow22_col0\" class=\"data row22 col0\" >0.112806</td>\n",
       "                        <td id=\"T_37c29402_1613_11ea_985a_645aedea2b4drow22_col1\" class=\"data row22 col1\" >0.120556</td>\n",
       "                        <td id=\"T_37c29402_1613_11ea_985a_645aedea2b4drow22_col2\" class=\"data row22 col2\" >0.318735</td>\n",
       "                        <td id=\"T_37c29402_1613_11ea_985a_645aedea2b4drow22_col3\" class=\"data row22 col3\" >0.534014</td>\n",
       "                        <td id=\"T_37c29402_1613_11ea_985a_645aedea2b4drow22_col4\" class=\"data row22 col4\" >0.0274326</td>\n",
       "                        <td id=\"T_37c29402_1613_11ea_985a_645aedea2b4drow22_col5\" class=\"data row22 col5\" >0.488375</td>\n",
       "                        <td id=\"T_37c29402_1613_11ea_985a_645aedea2b4drow22_col6\" class=\"data row22 col6\" >0.356132</td>\n",
       "                        <td id=\"T_37c29402_1613_11ea_985a_645aedea2b4drow22_col7\" class=\"data row22 col7\" >0.965924</td>\n",
       "            </tr>\n",
       "            <tr>\n",
       "                        <th id=\"T_37c29402_1613_11ea_985a_645aedea2b4dlevel0_row23\" class=\"row_heading level0 row23\" >H-cont/H_2O-1 CH_4/H-Cont</th>\n",
       "                        <td id=\"T_37c29402_1613_11ea_985a_645aedea2b4drow23_col0\" class=\"data row23 col0\" >0.0568785</td>\n",
       "                        <td id=\"T_37c29402_1613_11ea_985a_645aedea2b4drow23_col1\" class=\"data row23 col1\" >0.0873535</td>\n",
       "                        <td id=\"T_37c29402_1613_11ea_985a_645aedea2b4drow23_col2\" class=\"data row23 col2\" >0.246021</td>\n",
       "                        <td id=\"T_37c29402_1613_11ea_985a_645aedea2b4drow23_col3\" class=\"data row23 col3\" >0.506477</td>\n",
       "                        <td id=\"T_37c29402_1613_11ea_985a_645aedea2b4drow23_col4\" class=\"data row23 col4\" >0.00234423</td>\n",
       "                        <td id=\"T_37c29402_1613_11ea_985a_645aedea2b4drow23_col5\" class=\"data row23 col5\" >0.315978</td>\n",
       "                        <td id=\"T_37c29402_1613_11ea_985a_645aedea2b4drow23_col6\" class=\"data row23 col6\" >0.191363</td>\n",
       "                        <td id=\"T_37c29402_1613_11ea_985a_645aedea2b4drow23_col7\" class=\"data row23 col7\" >0.025293</td>\n",
       "            </tr>\n",
       "            <tr>\n",
       "                        <th id=\"T_37c29402_1613_11ea_985a_645aedea2b4dlevel0_row24\" class=\"row_heading level0 row24\" >CH_4/H_2O-1 H_2O-2/J-Cont</th>\n",
       "                        <td id=\"T_37c29402_1613_11ea_985a_645aedea2b4drow24_col0\" class=\"data row24 col0\" >0.0792833</td>\n",
       "                        <td id=\"T_37c29402_1613_11ea_985a_645aedea2b4drow24_col1\" class=\"data row24 col1\" >0.144821</td>\n",
       "                        <td id=\"T_37c29402_1613_11ea_985a_645aedea2b4drow24_col2\" class=\"data row24 col2\" >0.260064</td>\n",
       "                        <td id=\"T_37c29402_1613_11ea_985a_645aedea2b4drow24_col3\" class=\"data row24 col3\" >0.0315415</td>\n",
       "                        <td id=\"T_37c29402_1613_11ea_985a_645aedea2b4drow24_col4\" class=\"data row24 col4\" >0.00319097</td>\n",
       "                        <td id=\"T_37c29402_1613_11ea_985a_645aedea2b4drow24_col5\" class=\"data row24 col5\" >0.407707</td>\n",
       "                        <td id=\"T_37c29402_1613_11ea_985a_645aedea2b4drow24_col6\" class=\"data row24 col6\" >0.349165</td>\n",
       "                        <td id=\"T_37c29402_1613_11ea_985a_645aedea2b4drow24_col7\" class=\"data row24 col7\" >0.0607511</td>\n",
       "            </tr>\n",
       "            <tr>\n",
       "                        <th id=\"T_37c29402_1613_11ea_985a_645aedea2b4dlevel0_row25\" class=\"row_heading level0 row25\" >CH_4/H_2O-1 H-cont/J-Cont</th>\n",
       "                        <td id=\"T_37c29402_1613_11ea_985a_645aedea2b4drow25_col0\" class=\"data row25 col0\" >0.10567</td>\n",
       "                        <td id=\"T_37c29402_1613_11ea_985a_645aedea2b4drow25_col1\" class=\"data row25 col1\" >0.162617</td>\n",
       "                        <td id=\"T_37c29402_1613_11ea_985a_645aedea2b4drow25_col2\" class=\"data row25 col2\" >0.348552</td>\n",
       "                        <td id=\"T_37c29402_1613_11ea_985a_645aedea2b4drow25_col3\" class=\"data row25 col3\" >0.495582</td>\n",
       "                        <td id=\"T_37c29402_1613_11ea_985a_645aedea2b4drow25_col4\" class=\"data row25 col4\" >0.018164</td>\n",
       "                        <td id=\"T_37c29402_1613_11ea_985a_645aedea2b4drow25_col5\" class=\"data row25 col5\" >0.426976</td>\n",
       "                        <td id=\"T_37c29402_1613_11ea_985a_645aedea2b4drow25_col6\" class=\"data row25 col6\" >0.33812</td>\n",
       "                        <td id=\"T_37c29402_1613_11ea_985a_645aedea2b4drow25_col7\" class=\"data row25 col7\" >0.593888</td>\n",
       "            </tr>\n",
       "            <tr>\n",
       "                        <th id=\"T_37c29402_1613_11ea_985a_645aedea2b4dlevel0_row26\" class=\"row_heading level0 row26\" >CH_4/H_2O-1 CH_4/J-Cont</th>\n",
       "                        <td id=\"T_37c29402_1613_11ea_985a_645aedea2b4drow26_col0\" class=\"data row26 col0\" >0.113279</td>\n",
       "                        <td id=\"T_37c29402_1613_11ea_985a_645aedea2b4drow26_col1\" class=\"data row26 col1\" >0.163844</td>\n",
       "                        <td id=\"T_37c29402_1613_11ea_985a_645aedea2b4drow26_col2\" class=\"data row26 col2\" >0.361193</td>\n",
       "                        <td id=\"T_37c29402_1613_11ea_985a_645aedea2b4drow26_col3\" class=\"data row26 col3\" >0.49055</td>\n",
       "                        <td id=\"T_37c29402_1613_11ea_985a_645aedea2b4drow26_col4\" class=\"data row26 col4\" >0.00147275</td>\n",
       "                        <td id=\"T_37c29402_1613_11ea_985a_645aedea2b4drow26_col5\" class=\"data row26 col5\" >0.456922</td>\n",
       "                        <td id=\"T_37c29402_1613_11ea_985a_645aedea2b4drow26_col6\" class=\"data row26 col6\" >0.36242</td>\n",
       "                        <td id=\"T_37c29402_1613_11ea_985a_645aedea2b4drow26_col7\" class=\"data row26 col7\" >0.103829</td>\n",
       "            </tr>\n",
       "            <tr>\n",
       "                        <th id=\"T_37c29402_1613_11ea_985a_645aedea2b4dlevel0_row27\" class=\"row_heading level0 row27\" >CH_4/H_2O-1 H-cont/H_2O-2</th>\n",
       "                        <td id=\"T_37c29402_1613_11ea_985a_645aedea2b4drow27_col0\" class=\"data row27 col0\" >0.141838</td>\n",
       "                        <td id=\"T_37c29402_1613_11ea_985a_645aedea2b4drow27_col1\" class=\"data row27 col1\" >0.128183</td>\n",
       "                        <td id=\"T_37c29402_1613_11ea_985a_645aedea2b4drow27_col2\" class=\"data row27 col2\" >0.302497</td>\n",
       "                        <td id=\"T_37c29402_1613_11ea_985a_645aedea2b4drow27_col3\" class=\"data row27 col3\" >0.558494</td>\n",
       "                        <td id=\"T_37c29402_1613_11ea_985a_645aedea2b4drow27_col4\" class=\"data row27 col4\" >0.248862</td>\n",
       "                        <td id=\"T_37c29402_1613_11ea_985a_645aedea2b4drow27_col5\" class=\"data row27 col5\" >0.511748</td>\n",
       "                        <td id=\"T_37c29402_1613_11ea_985a_645aedea2b4drow27_col6\" class=\"data row27 col6\" >0.36991</td>\n",
       "                        <td id=\"T_37c29402_1613_11ea_985a_645aedea2b4drow27_col7\" class=\"data row27 col7\" >0.984008</td>\n",
       "            </tr>\n",
       "            <tr>\n",
       "                        <th id=\"T_37c29402_1613_11ea_985a_645aedea2b4dlevel0_row28\" class=\"row_heading level0 row28\" >CH_4/H_2O-1 CH_4/H_2O-2</th>\n",
       "                        <td id=\"T_37c29402_1613_11ea_985a_645aedea2b4drow28_col0\" class=\"data row28 col0\" >0.152171</td>\n",
       "                        <td id=\"T_37c29402_1613_11ea_985a_645aedea2b4drow28_col1\" class=\"data row28 col1\" >0.12154</td>\n",
       "                        <td id=\"T_37c29402_1613_11ea_985a_645aedea2b4drow28_col2\" class=\"data row28 col2\" >0.334851</td>\n",
       "                        <td id=\"T_37c29402_1613_11ea_985a_645aedea2b4drow28_col3\" class=\"data row28 col3\" >0.160167</td>\n",
       "                        <td id=\"T_37c29402_1613_11ea_985a_645aedea2b4drow28_col4\" class=\"data row28 col4\" >0.246279</td>\n",
       "                        <td id=\"T_37c29402_1613_11ea_985a_645aedea2b4drow28_col5\" class=\"data row28 col5\" >0.507319</td>\n",
       "                        <td id=\"T_37c29402_1613_11ea_985a_645aedea2b4drow28_col6\" class=\"data row28 col6\" >0.38049</td>\n",
       "                        <td id=\"T_37c29402_1613_11ea_985a_645aedea2b4drow28_col7\" class=\"data row28 col7\" >0.958297</td>\n",
       "            </tr>\n",
       "            <tr>\n",
       "                        <th id=\"T_37c29402_1613_11ea_985a_645aedea2b4dlevel0_row29\" class=\"row_heading level0 row29\" >CH_4/H_2O-1 CH_4/H-Cont</th>\n",
       "                        <td id=\"T_37c29402_1613_11ea_985a_645aedea2b4drow29_col0\" class=\"data row29 col0\" >0.0700802</td>\n",
       "                        <td id=\"T_37c29402_1613_11ea_985a_645aedea2b4drow29_col1\" class=\"data row29 col1\" >0.0745219</td>\n",
       "                        <td id=\"T_37c29402_1613_11ea_985a_645aedea2b4drow29_col2\" class=\"data row29 col2\" >0.250339</td>\n",
       "                        <td id=\"T_37c29402_1613_11ea_985a_645aedea2b4drow29_col3\" class=\"data row29 col3\" >0.373843</td>\n",
       "                        <td id=\"T_37c29402_1613_11ea_985a_645aedea2b4drow29_col4\" class=\"data row29 col4\" >0.00185071</td>\n",
       "                        <td id=\"T_37c29402_1613_11ea_985a_645aedea2b4drow29_col5\" class=\"data row29 col5\" >0.339543</td>\n",
       "                        <td id=\"T_37c29402_1613_11ea_985a_645aedea2b4drow29_col6\" class=\"data row29 col6\" >0.205676</td>\n",
       "                        <td id=\"T_37c29402_1613_11ea_985a_645aedea2b4drow29_col7\" class=\"data row29 col7\" >0.0255398</td>\n",
       "            </tr>\n",
       "            <tr>\n",
       "                        <th id=\"T_37c29402_1613_11ea_985a_645aedea2b4dlevel0_row30\" class=\"row_heading level0 row30\" >H_2O-2/J-Cont H-cont/J-Cont</th>\n",
       "                        <td id=\"T_37c29402_1613_11ea_985a_645aedea2b4drow30_col0\" class=\"data row30 col0\" >0.229504</td>\n",
       "                        <td id=\"T_37c29402_1613_11ea_985a_645aedea2b4drow30_col1\" class=\"data row30 col1\" >0.834561</td>\n",
       "                        <td id=\"T_37c29402_1613_11ea_985a_645aedea2b4drow30_col2\" class=\"data row30 col2\" >0.335174</td>\n",
       "                        <td id=\"T_37c29402_1613_11ea_985a_645aedea2b4drow30_col3\" class=\"data row30 col3\" >0.0273687</td>\n",
       "                        <td id=\"T_37c29402_1613_11ea_985a_645aedea2b4drow30_col4\" class=\"data row30 col4\" >0.000736377</td>\n",
       "                        <td id=\"T_37c29402_1613_11ea_985a_645aedea2b4drow30_col5\" class=\"data row30 col5\" >0.248405</td>\n",
       "                        <td id=\"T_37c29402_1613_11ea_985a_645aedea2b4drow30_col6\" class=\"data row30 col6\" >0.380339</td>\n",
       "                        <td id=\"T_37c29402_1613_11ea_985a_645aedea2b4drow30_col7\" class=\"data row30 col7\" >0.00932744</td>\n",
       "            </tr>\n",
       "            <tr>\n",
       "                        <th id=\"T_37c29402_1613_11ea_985a_645aedea2b4dlevel0_row31\" class=\"row_heading level0 row31\" >H_2O-2/J-Cont CH_4/J-Cont</th>\n",
       "                        <td id=\"T_37c29402_1613_11ea_985a_645aedea2b4drow31_col0\" class=\"data row31 col0\" >0.214899</td>\n",
       "                        <td id=\"T_37c29402_1613_11ea_985a_645aedea2b4drow31_col1\" class=\"data row31 col1\" >0.831861</td>\n",
       "                        <td id=\"T_37c29402_1613_11ea_985a_645aedea2b4drow31_col2\" class=\"data row31 col2\" >0.321919</td>\n",
       "                        <td id=\"T_37c29402_1613_11ea_985a_645aedea2b4drow31_col3\" class=\"data row31 col3\" >0.052651</td>\n",
       "                        <td id=\"T_37c29402_1613_11ea_985a_645aedea2b4drow31_col4\" class=\"data row31 col4\" >0.0187776</td>\n",
       "                        <td id=\"T_37c29402_1613_11ea_985a_645aedea2b4drow31_col5\" class=\"data row31 col5\" >0.249386</td>\n",
       "                        <td id=\"T_37c29402_1613_11ea_985a_645aedea2b4drow31_col6\" class=\"data row31 col6\" >0.361193</td>\n",
       "                        <td id=\"T_37c29402_1613_11ea_985a_645aedea2b4drow31_col7\" class=\"data row31 col7\" >0.0298233</td>\n",
       "            </tr>\n",
       "            <tr>\n",
       "                        <th id=\"T_37c29402_1613_11ea_985a_645aedea2b4dlevel0_row32\" class=\"row_heading level0 row32\" >H_2O-2/J-Cont H-cont/H_2O-2</th>\n",
       "                        <td id=\"T_37c29402_1613_11ea_985a_645aedea2b4drow32_col0\" class=\"data row32 col0\" >0.309755</td>\n",
       "                        <td id=\"T_37c29402_1613_11ea_985a_645aedea2b4drow32_col1\" class=\"data row32 col1\" >0.6403</td>\n",
       "                        <td id=\"T_37c29402_1613_11ea_985a_645aedea2b4drow32_col2\" class=\"data row32 col2\" >0.299545</td>\n",
       "                        <td id=\"T_37c29402_1613_11ea_985a_645aedea2b4drow32_col3\" class=\"data row32 col3\" >0.0818059</td>\n",
       "                        <td id=\"T_37c29402_1613_11ea_985a_645aedea2b4drow32_col4\" class=\"data row32 col4\" >0.0311231</td>\n",
       "                        <td id=\"T_37c29402_1613_11ea_985a_645aedea2b4drow32_col5\" class=\"data row32 col5\" >0.341124</td>\n",
       "                        <td id=\"T_37c29402_1613_11ea_985a_645aedea2b4drow32_col6\" class=\"data row32 col6\" >0.407676</td>\n",
       "                        <td id=\"T_37c29402_1613_11ea_985a_645aedea2b4drow32_col7\" class=\"data row32 col7\" >0.0477303</td>\n",
       "            </tr>\n",
       "            <tr>\n",
       "                        <th id=\"T_37c29402_1613_11ea_985a_645aedea2b4dlevel0_row33\" class=\"row_heading level0 row33\" >H_2O-2/J-Cont CH_4/H_2O-2</th>\n",
       "                        <td id=\"T_37c29402_1613_11ea_985a_645aedea2b4drow33_col0\" class=\"data row33 col0\" >0.275065</td>\n",
       "                        <td id=\"T_37c29402_1613_11ea_985a_645aedea2b4drow33_col1\" class=\"data row33 col1\" >0.496494</td>\n",
       "                        <td id=\"T_37c29402_1613_11ea_985a_645aedea2b4drow33_col2\" class=\"data row33 col2\" >0.310616</td>\n",
       "                        <td id=\"T_37c29402_1613_11ea_985a_645aedea2b4drow33_col3\" class=\"data row33 col3\" >0.0574486</td>\n",
       "                        <td id=\"T_37c29402_1613_11ea_985a_645aedea2b4drow33_col4\" class=\"data row33 col4\" >0.0202977</td>\n",
       "                        <td id=\"T_37c29402_1613_11ea_985a_645aedea2b4drow33_col5\" class=\"data row33 col5\" >0.312831</td>\n",
       "                        <td id=\"T_37c29402_1613_11ea_985a_645aedea2b4drow33_col6\" class=\"data row33 col6\" >0.380859</td>\n",
       "                        <td id=\"T_37c29402_1613_11ea_985a_645aedea2b4drow33_col7\" class=\"data row33 col7\" >0.0280477</td>\n",
       "            </tr>\n",
       "            <tr>\n",
       "                        <th id=\"T_37c29402_1613_11ea_985a_645aedea2b4dlevel0_row34\" class=\"row_heading level0 row34\" >H_2O-2/J-Cont CH_4/H-Cont</th>\n",
       "                        <td id=\"T_37c29402_1613_11ea_985a_645aedea2b4drow34_col0\" class=\"data row34 col0\" >0.167674</td>\n",
       "                        <td id=\"T_37c29402_1613_11ea_985a_645aedea2b4drow34_col1\" class=\"data row34 col1\" >0.46058</td>\n",
       "                        <td id=\"T_37c29402_1613_11ea_985a_645aedea2b4drow34_col2\" class=\"data row34 col2\" >0.219988</td>\n",
       "                        <td id=\"T_37c29402_1613_11ea_985a_645aedea2b4drow34_col3\" class=\"data row34 col3\" >0.0467613</td>\n",
       "                        <td id=\"T_37c29402_1613_11ea_985a_645aedea2b4drow34_col4\" class=\"data row34 col4\" >0.000987045</td>\n",
       "                        <td id=\"T_37c29402_1613_11ea_985a_645aedea2b4drow34_col5\" class=\"data row34 col5\" >0.162616</td>\n",
       "                        <td id=\"T_37c29402_1613_11ea_985a_645aedea2b4drow34_col6\" class=\"data row34 col6\" >0.201357</td>\n",
       "                        <td id=\"T_37c29402_1613_11ea_985a_645aedea2b4drow34_col7\" class=\"data row34 col7\" >0.000987045</td>\n",
       "            </tr>\n",
       "            <tr>\n",
       "                        <th id=\"T_37c29402_1613_11ea_985a_645aedea2b4dlevel0_row35\" class=\"row_heading level0 row35\" >H-cont/J-Cont CH_4/J-Cont</th>\n",
       "                        <td id=\"T_37c29402_1613_11ea_985a_645aedea2b4drow35_col0\" class=\"data row35 col0\" >0.363648</td>\n",
       "                        <td id=\"T_37c29402_1613_11ea_985a_645aedea2b4drow35_col1\" class=\"data row35 col1\" >0.508346</td>\n",
       "                        <td id=\"T_37c29402_1613_11ea_985a_645aedea2b4drow35_col2\" class=\"data row35 col2\" >0.368925</td>\n",
       "                        <td id=\"T_37c29402_1613_11ea_985a_645aedea2b4drow35_col3\" class=\"data row35 col3\" >0.554246</td>\n",
       "                        <td id=\"T_37c29402_1613_11ea_985a_645aedea2b4drow35_col4\" class=\"data row35 col4\" >0.00355916</td>\n",
       "                        <td id=\"T_37c29402_1613_11ea_985a_645aedea2b4drow35_col5\" class=\"data row35 col5\" >0.479872</td>\n",
       "                        <td id=\"T_37c29402_1613_11ea_985a_645aedea2b4drow35_col6\" class=\"data row35 col6\" >0.364384</td>\n",
       "                        <td id=\"T_37c29402_1613_11ea_985a_645aedea2b4drow35_col7\" class=\"data row35 col7\" >0.0103093</td>\n",
       "            </tr>\n",
       "            <tr>\n",
       "                        <th id=\"T_37c29402_1613_11ea_985a_645aedea2b4dlevel0_row36\" class=\"row_heading level0 row36\" >H-cont/J-Cont H-cont/H_2O-2</th>\n",
       "                        <td id=\"T_37c29402_1613_11ea_985a_645aedea2b4drow36_col0\" class=\"data row36 col0\" >0.415795</td>\n",
       "                        <td id=\"T_37c29402_1613_11ea_985a_645aedea2b4drow36_col1\" class=\"data row36 col1\" >0.46574</td>\n",
       "                        <td id=\"T_37c29402_1613_11ea_985a_645aedea2b4drow36_col2\" class=\"data row36 col2\" >0.318735</td>\n",
       "                        <td id=\"T_37c29402_1613_11ea_985a_645aedea2b4drow36_col3\" class=\"data row36 col3\" >0.561201</td>\n",
       "                        <td id=\"T_37c29402_1613_11ea_985a_645aedea2b4drow36_col4\" class=\"data row36 col4\" >0.0637225</td>\n",
       "                        <td id=\"T_37c29402_1613_11ea_985a_645aedea2b4drow36_col5\" class=\"data row36 col5\" >0.535736</td>\n",
       "                        <td id=\"T_37c29402_1613_11ea_985a_645aedea2b4drow36_col6\" class=\"data row36 col6\" >0.399926</td>\n",
       "                        <td id=\"T_37c29402_1613_11ea_985a_645aedea2b4drow36_col7\" class=\"data row36 col7\" >0.540288</td>\n",
       "            </tr>\n",
       "            <tr>\n",
       "                        <th id=\"T_37c29402_1613_11ea_985a_645aedea2b4dlevel0_row37\" class=\"row_heading level0 row37\" >H-cont/J-Cont CH_4/H_2O-2</th>\n",
       "                        <td id=\"T_37c29402_1613_11ea_985a_645aedea2b4drow37_col0\" class=\"data row37 col0\" >0.339525</td>\n",
       "                        <td id=\"T_37c29402_1613_11ea_985a_645aedea2b4drow37_col1\" class=\"data row37 col1\" >0.34014</td>\n",
       "                        <td id=\"T_37c29402_1613_11ea_985a_645aedea2b4drow37_col2\" class=\"data row37 col2\" >0.330053</td>\n",
       "                        <td id=\"T_37c29402_1613_11ea_985a_645aedea2b4drow37_col3\" class=\"data row37 col3\" >0.306065</td>\n",
       "                        <td id=\"T_37c29402_1613_11ea_985a_645aedea2b4drow37_col4\" class=\"data row37 col4\" >0.0632304</td>\n",
       "                        <td id=\"T_37c29402_1613_11ea_985a_645aedea2b4drow37_col5\" class=\"data row37 col5\" >0.524419</td>\n",
       "                        <td id=\"T_37c29402_1613_11ea_985a_645aedea2b4drow37_col6\" class=\"data row37 col6\" >0.358839</td>\n",
       "                        <td id=\"T_37c29402_1613_11ea_985a_645aedea2b4drow37_col7\" class=\"data row37 col7\" >0.534998</td>\n",
       "            </tr>\n",
       "            <tr>\n",
       "                        <th id=\"T_37c29402_1613_11ea_985a_645aedea2b4dlevel0_row38\" class=\"row_heading level0 row38\" >H-cont/J-Cont CH_4/H-Cont</th>\n",
       "                        <td id=\"T_37c29402_1613_11ea_985a_645aedea2b4drow38_col0\" class=\"data row38 col0\" >0.259716</td>\n",
       "                        <td id=\"T_37c29402_1613_11ea_985a_645aedea2b4drow38_col1\" class=\"data row38 col1\" >0.319803</td>\n",
       "                        <td id=\"T_37c29402_1613_11ea_985a_645aedea2b4drow38_col2\" class=\"data row38 col2\" >0.248735</td>\n",
       "                        <td id=\"T_37c29402_1613_11ea_985a_645aedea2b4drow38_col3\" class=\"data row38 col3\" >0.483282</td>\n",
       "                        <td id=\"T_37c29402_1613_11ea_985a_645aedea2b4drow38_col4\" class=\"data row38 col4\" >0.0038248</td>\n",
       "                        <td id=\"T_37c29402_1613_11ea_985a_645aedea2b4drow38_col5\" class=\"data row38 col5\" >0.354966</td>\n",
       "                        <td id=\"T_37c29402_1613_11ea_985a_645aedea2b4drow38_col6\" class=\"data row38 col6\" >0.195682</td>\n",
       "                        <td id=\"T_37c29402_1613_11ea_985a_645aedea2b4drow38_col7\" class=\"data row38 col7\" >0.00801974</td>\n",
       "            </tr>\n",
       "            <tr>\n",
       "                        <th id=\"T_37c29402_1613_11ea_985a_645aedea2b4dlevel0_row39\" class=\"row_heading level0 row39\" >CH_4/J-Cont H-cont/H_2O-2</th>\n",
       "                        <td id=\"T_37c29402_1613_11ea_985a_645aedea2b4drow39_col0\" class=\"data row39 col0\" >0.352319</td>\n",
       "                        <td id=\"T_37c29402_1613_11ea_985a_645aedea2b4drow39_col1\" class=\"data row39 col1\" >0.530201</td>\n",
       "                        <td id=\"T_37c29402_1613_11ea_985a_645aedea2b4drow39_col2\" class=\"data row39 col2\" >0.302005</td>\n",
       "                        <td id=\"T_37c29402_1613_11ea_985a_645aedea2b4drow39_col3\" class=\"data row39 col3\" >0.651987</td>\n",
       "                        <td id=\"T_37c29402_1613_11ea_985a_645aedea2b4drow39_col4\" class=\"data row39 col4\" >0.0389962</td>\n",
       "                        <td id=\"T_37c29402_1613_11ea_985a_645aedea2b4drow39_col5\" class=\"data row39 col5\" >0.581252</td>\n",
       "                        <td id=\"T_37c29402_1613_11ea_985a_645aedea2b4drow39_col6\" class=\"data row39 col6\" >0.371263</td>\n",
       "                        <td id=\"T_37c29402_1613_11ea_985a_645aedea2b4drow39_col7\" class=\"data row39 col7\" >0.0811908</td>\n",
       "            </tr>\n",
       "            <tr>\n",
       "                        <th id=\"T_37c29402_1613_11ea_985a_645aedea2b4dlevel0_row40\" class=\"row_heading level0 row40\" >CH_4/J-Cont CH_4/H_2O-2</th>\n",
       "                        <td id=\"T_37c29402_1613_11ea_985a_645aedea2b4drow40_col0\" class=\"data row40 col0\" >0.33522</td>\n",
       "                        <td id=\"T_37c29402_1613_11ea_985a_645aedea2b4drow40_col1\" class=\"data row40 col1\" >0.466232</td>\n",
       "                        <td id=\"T_37c29402_1613_11ea_985a_645aedea2b4drow40_col2\" class=\"data row40 col2\" >0.333866</td>\n",
       "                        <td id=\"T_37c29402_1613_11ea_985a_645aedea2b4drow40_col3\" class=\"data row40 col3\" >0.503875</td>\n",
       "                        <td id=\"T_37c29402_1613_11ea_985a_645aedea2b4drow40_col4\" class=\"data row40 col4\" >0.0369049</td>\n",
       "                        <td id=\"T_37c29402_1613_11ea_985a_645aedea2b4drow40_col5\" class=\"data row40 col5\" >0.581498</td>\n",
       "                        <td id=\"T_37c29402_1613_11ea_985a_645aedea2b4drow40_col6\" class=\"data row40 col6\" >0.381474</td>\n",
       "                        <td id=\"T_37c29402_1613_11ea_985a_645aedea2b4drow40_col7\" class=\"data row40 col7\" >0.075409</td>\n",
       "            </tr>\n",
       "            <tr>\n",
       "                        <th id=\"T_37c29402_1613_11ea_985a_645aedea2b4dlevel0_row41\" class=\"row_heading level0 row41\" >CH_4/J-Cont CH_4/H-Cont</th>\n",
       "                        <td id=\"T_37c29402_1613_11ea_985a_645aedea2b4drow41_col0\" class=\"data row41 col0\" >0.24343</td>\n",
       "                        <td id=\"T_37c29402_1613_11ea_985a_645aedea2b4drow41_col1\" class=\"data row41 col1\" >0.421221</td>\n",
       "                        <td id=\"T_37c29402_1613_11ea_985a_645aedea2b4drow41_col2\" class=\"data row41 col2\" >0.250339</td>\n",
       "                        <td id=\"T_37c29402_1613_11ea_985a_645aedea2b4drow41_col3\" class=\"data row41 col3\" >0.612215</td>\n",
       "                        <td id=\"T_37c29402_1613_11ea_985a_645aedea2b4drow41_col4\" class=\"data row41 col4\" >0.0146823</td>\n",
       "                        <td id=\"T_37c29402_1613_11ea_985a_645aedea2b4drow41_col5\" class=\"data row41 col5\" >0.398766</td>\n",
       "                        <td id=\"T_37c29402_1613_11ea_985a_645aedea2b4drow41_col6\" class=\"data row41 col6\" >0.214929</td>\n",
       "                        <td id=\"T_37c29402_1613_11ea_985a_645aedea2b4drow41_col7\" class=\"data row41 col7\" >0.0167798</td>\n",
       "            </tr>\n",
       "            <tr>\n",
       "                        <th id=\"T_37c29402_1613_11ea_985a_645aedea2b4dlevel0_row42\" class=\"row_heading level0 row42\" >H-cont/H_2O-2 CH_4/H_2O-2</th>\n",
       "                        <td id=\"T_37c29402_1613_11ea_985a_645aedea2b4drow42_col0\" class=\"data row42 col0\" >0.136056</td>\n",
       "                        <td id=\"T_37c29402_1613_11ea_985a_645aedea2b4drow42_col1\" class=\"data row42 col1\" >0.162259</td>\n",
       "                        <td id=\"T_37c29402_1613_11ea_985a_645aedea2b4drow42_col2\" class=\"data row42 col2\" >0.363267</td>\n",
       "                        <td id=\"T_37c29402_1613_11ea_985a_645aedea2b4drow42_col3\" class=\"data row42 col3\" >0.433879</td>\n",
       "                        <td id=\"T_37c29402_1613_11ea_985a_645aedea2b4drow42_col4\" class=\"data row42 col4\" >0.977365</td>\n",
       "                        <td id=\"T_37c29402_1613_11ea_985a_645aedea2b4drow42_col5\" class=\"data row42 col5\" >0.392545</td>\n",
       "                        <td id=\"T_37c29402_1613_11ea_985a_645aedea2b4drow42_col6\" class=\"data row42 col6\" >0.423914</td>\n",
       "                        <td id=\"T_37c29402_1613_11ea_985a_645aedea2b4drow42_col7\" class=\"data row42 col7\" >0.967155</td>\n",
       "            </tr>\n",
       "            <tr>\n",
       "                        <th id=\"T_37c29402_1613_11ea_985a_645aedea2b4dlevel0_row43\" class=\"row_heading level0 row43\" >H-cont/H_2O-2 CH_4/H-Cont</th>\n",
       "                        <td id=\"T_37c29402_1613_11ea_985a_645aedea2b4drow43_col0\" class=\"data row43 col0\" >0.0456508</td>\n",
       "                        <td id=\"T_37c29402_1613_11ea_985a_645aedea2b4drow43_col1\" class=\"data row43 col1\" >0.0898211</td>\n",
       "                        <td id=\"T_37c29402_1613_11ea_985a_645aedea2b4drow43_col2\" class=\"data row43 col2\" >0.257125</td>\n",
       "                        <td id=\"T_37c29402_1613_11ea_985a_645aedea2b4drow43_col3\" class=\"data row43 col3\" >0.38248</td>\n",
       "                        <td id=\"T_37c29402_1613_11ea_985a_645aedea2b4drow43_col4\" class=\"data row43 col4\" >0.0446638</td>\n",
       "                        <td id=\"T_37c29402_1613_11ea_985a_645aedea2b4drow43_col5\" class=\"data row43 col5\" >0.214189</td>\n",
       "                        <td id=\"T_37c29402_1613_11ea_985a_645aedea2b4drow43_col6\" class=\"data row43 col6\" >0.203825</td>\n",
       "                        <td id=\"T_37c29402_1613_11ea_985a_645aedea2b4drow43_col7\" class=\"data row43 col7\" >0.0251696</td>\n",
       "            </tr>\n",
       "            <tr>\n",
       "                        <th id=\"T_37c29402_1613_11ea_985a_645aedea2b4dlevel0_row44\" class=\"row_heading level0 row44\" >CH_4/H_2O-2 CH_4/H-Cont</th>\n",
       "                        <td id=\"T_37c29402_1613_11ea_985a_645aedea2b4drow44_col0\" class=\"data row44 col0\" >0.0553979</td>\n",
       "                        <td id=\"T_37c29402_1613_11ea_985a_645aedea2b4drow44_col1\" class=\"data row44 col1\" >0.0980876</td>\n",
       "                        <td id=\"T_37c29402_1613_11ea_985a_645aedea2b4drow44_col2\" class=\"data row44 col2\" >0.264405</td>\n",
       "                        <td id=\"T_37c29402_1613_11ea_985a_645aedea2b4drow44_col3\" class=\"data row44 col3\" >0.542134</td>\n",
       "                        <td id=\"T_37c29402_1613_11ea_985a_645aedea2b4drow44_col4\" class=\"data row44 col4\" >0.0428131</td>\n",
       "                        <td id=\"T_37c29402_1613_11ea_985a_645aedea2b4drow44_col5\" class=\"data row44 col5\" >0.275756</td>\n",
       "                        <td id=\"T_37c29402_1613_11ea_985a_645aedea2b4drow44_col6\" class=\"data row44 col6\" >0.232326</td>\n",
       "                        <td id=\"T_37c29402_1613_11ea_985a_645aedea2b4drow44_col7\" class=\"data row44 col7\" >0.0255398</td>\n",
       "            </tr>\n",
       "    </tbody></table>"
      ],
      "text/plain": [
       "<pandas.io.formats.style.Styler at 0x1c90640ba8>"
      ]
     },
     "execution_count": 12,
     "metadata": {},
     "output_type": "execute_result"
    }
   ],
   "source": [
    "contamns.style.apply(lambda x: [\"background-color: #7FDBFF\" \n",
    "                          if (i >= 0 and (v < 0.2 \n",
    "                                          and v > 0. )) \n",
    "                          else \"\" for i, v in enumerate(x)], axis = 1)"
   ]
  },
  {
   "cell_type": "code",
   "execution_count": 13,
   "metadata": {},
   "outputs": [],
   "source": [
    "#compls.style.apply(lambda x: [\"background-color: #7FDBFF\" \n",
    "#                          if (i >= 0 and (v >.95 )) \n",
    "#                          else \"\" for i, v in enumerate(x)], axis = 1)"
   ]
  },
  {
   "cell_type": "code",
   "execution_count": 14,
   "metadata": {},
   "outputs": [
    {
     "data": {
      "text/plain": [
       "(110930, 10)"
      ]
     },
     "execution_count": 14,
     "metadata": {},
     "output_type": "execute_result"
    }
   ],
   "source": [
    "stars[wisps.INDEX_NAMES].shape"
   ]
  },
  {
   "cell_type": "code",
   "execution_count": 15,
   "metadata": {},
   "outputs": [
    {
     "data": {
      "text/plain": [
       "(97448, 10)"
      ]
     },
     "execution_count": 15,
     "metadata": {},
     "output_type": "execute_result"
    }
   ],
   "source": [
    "(stars[wisps.INDEX_NAMES].dropna()).shape"
   ]
  },
  {
   "cell_type": "code",
   "execution_count": 16,
   "metadata": {},
   "outputs": [],
   "source": [
    "#%%capture\n",
    "#for c in crts.values(): c.plot(save=True)"
   ]
  },
  {
   "cell_type": "code",
   "execution_count": 17,
   "metadata": {},
   "outputs": [],
   "source": [
    "to_use={'H_2O-1/J-Cont H_2O-2/H_2O-1':'L0-L5',\n",
    "        'H_2O-1/J-Cont CH_4/H-Cont':'L5-T0' ,\n",
    "        'H_2O-1/J-Cont CH_4/H_2O-1':'M7-L0',\n",
    "        'H_2O-2/J-Cont CH_4/H-Cont': 'T0-T5',\n",
    "        'H-cont/H_2O-1 CH_4/J-Cont': 'T5-T9',\n",
    "        'CH_4/H_2O-1 H_2O-2/J-Cont': 'Y dwarfs',\n",
    "        'H_2O-1/J-Cont CH_4/J-Cont': 'subdwarfs'\n",
    "       }\n",
    "        "
   ]
  },
  {
   "cell_type": "code",
   "execution_count": 18,
   "metadata": {},
   "outputs": [
    {
     "data": {
      "text/plain": [
       "7"
      ]
     },
     "execution_count": 18,
     "metadata": {},
     "output_type": "execute_result"
    }
   ],
   "source": [
    "len(to_use)"
   ]
  },
  {
   "cell_type": "code",
   "execution_count": 19,
   "metadata": {},
   "outputs": [],
   "source": [
    "def box_parameters(idx, spt_range):\n",
    "    bs=idx.shapes\n",
    "    b=[x for x in bs if x.shape_name==spt_range][0]\n",
    "    print ('{}  {} m: {} b: {} s:{}, comp : {}, cont: {}'.format(spt_range, idx,  round(b.coeffs[0], 2), round(b.coeffs[1], 2), round(b.scatter, 2), round(idx.completeness[spt_range], 2),  round(idx.contamination[spt_range], 3)))"
   ]
  },
  {
   "cell_type": "code",
   "execution_count": 20,
   "metadata": {},
   "outputs": [],
   "source": [
    "spex_df=wisps.Annotator.reformat_table(wisps.datasets['spex']).reset_index(drop=True)\n",
    "manj=wisps.Annotator.reformat_table(wisps.datasets['manjavacas']).reset_index(drop=True)\n",
    "schn=wisps.Annotator.reformat_table(wisps.datasets['schneider']).reset_index(drop=True)"
   ]
  },
  {
   "cell_type": "code",
   "execution_count": 21,
   "metadata": {},
   "outputs": [],
   "source": [
    "#schn.spt"
   ]
  },
  {
   "cell_type": "code",
   "execution_count": 22,
   "metadata": {},
   "outputs": [],
   "source": [
    "for c in crts.values(): c"
   ]
  },
  {
   "cell_type": "code",
   "execution_count": 23,
   "metadata": {},
   "outputs": [],
   "source": [
    "subdwarfs=wisps.Annotator.reformat_table(c._subdwarfs).reset_index(drop=True)"
   ]
  },
  {
   "cell_type": "code",
   "execution_count": 24,
   "metadata": {},
   "outputs": [],
   "source": [
    "cands=pd.read_hdf(wisps.OUTPUT_FILES+'/true_spectra_cands.hdf',key='with_indices')"
   ]
  },
  {
   "cell_type": "code",
   "execution_count": 25,
   "metadata": {},
   "outputs": [],
   "source": [
    "cands_dff=wisps.Annotator.reformat_table(cands)"
   ]
  },
  {
   "cell_type": "code",
   "execution_count": 26,
   "metadata": {},
   "outputs": [],
   "source": [
    "#cands_dff"
   ]
  },
  {
   "cell_type": "code",
   "execution_count": 27,
   "metadata": {},
   "outputs": [],
   "source": [
    "import pickle\n",
    "#save the random forest\n",
    "output_file=wisps.OUTPUT_FILES+'/best_indices_to_use.pkl'\n",
    "with open(output_file, 'wb') as file:\n",
    "    pickle.dump(to_use,file)"
   ]
  },
  {
   "cell_type": "code",
   "execution_count": 28,
   "metadata": {},
   "outputs": [],
   "source": [
    "#dt"
   ]
  },
  {
   "cell_type": "code",
   "execution_count": 29,
   "metadata": {},
   "outputs": [],
   "source": [
    "fp={}"
   ]
  },
  {
   "cell_type": "code",
   "execution_count": 30,
   "metadata": {},
   "outputs": [],
   "source": [
    "cands_dff=wisps.Annotator.reformat_table(cands)"
   ]
  },
  {
   "cell_type": "code",
   "execution_count": 31,
   "metadata": {},
   "outputs": [
    {
     "data": {
      "text/plain": [
       "(268, 17)"
      ]
     },
     "execution_count": 31,
     "metadata": {},
     "output_type": "execute_result"
    }
   ],
   "source": [
    "cands_dff.drop_duplicates().shape"
   ]
  },
  {
   "cell_type": "code",
   "execution_count": 32,
   "metadata": {},
   "outputs": [],
   "source": [
    "cands_dff.grism_id=cands_dff.grism_id.apply(lambda x: x.lower())"
   ]
  },
  {
   "cell_type": "code",
   "execution_count": 33,
   "metadata": {},
   "outputs": [],
   "source": [
    "stars.grism_id=stars.grism_id.apply(lambda x: x.lower())"
   ]
  },
  {
   "cell_type": "code",
   "execution_count": 34,
   "metadata": {},
   "outputs": [],
   "source": [
    "cx=cands_dff[cands_dff.grism_id.isin(stars.grism_id)]"
   ]
  },
  {
   "cell_type": "code",
   "execution_count": 35,
   "metadata": {},
   "outputs": [],
   "source": [
    "cy=stars[stars.grism_id.isin(cx.grism_id)]"
   ]
  },
  {
   "cell_type": "code",
   "execution_count": 36,
   "metadata": {},
   "outputs": [],
   "source": [
    "idx=crts['H_2O-1/J-Cont H_2O-2/H_2O-1']"
   ]
  },
  {
   "cell_type": "code",
   "execution_count": 37,
   "metadata": {},
   "outputs": [],
   "source": [
    "ydwarfs=(manj[manj['spt'].apply(wisps.make_spt_number)>38].append(schn)).reset_index(drop=True)"
   ]
  },
  {
   "cell_type": "code",
   "execution_count": 38,
   "metadata": {},
   "outputs": [],
   "source": [
    "def plot_index_box(index_name, box_name, ax):\n",
    "    \n",
    "    #get the index and the box\n",
    "    idx=crts[index_name]\n",
    "    bx=[x for x in idx.shapes if x.shape_name==box_name][0]\n",
    "    \n",
    "    xkey=idx.xkey\n",
    "    ykey=idx.ykey\n",
    "    \n",
    "    to_use_df=spex_df\n",
    "    if box_name.lower()=='y dwarfs':\n",
    "        to_use_df=ydwarfs\n",
    "    if box_name.lower()=='subdwarfs':\n",
    "        to_use_df=wisps.Annotator.reformat_table((crts[index_name])._subdwarfs)\n",
    "        to_use_df['spt']=17\n",
    "    \n",
    "    spexs_slctd, spexs_bools=bx._select(np.array([to_use_df[xkey].values,to_use_df[ykey].values]))\n",
    "    \n",
    "    \n",
    "    #ax.scatter(spex_df[xkey], spex_df[ykey], facecolors='#AAAAAA', s=10., alpha=0.1)\n",
    "    ax.scatter(dt[xkey].apply(float).values, dt[ykey].apply(float).values, marker='o', s=10., facecolors='none',  alpha=0.1,edgecolors='#AAAAAA')\n",
    "    \n",
    "  \n",
    "    cands_slctd, cands_bools=bx._select(np.array([cands_dff[xkey].values,cands_dff[ykey].values]))\n",
    "   \n",
    "    trash_slctd, trsh_bools=bx._select(np.array([dt[xkey].values, dt[ykey].values]))\n",
    "    \n",
    "    \n",
    "    cands_in_that_class_bool=(cands_dff[ cands_bools]).spt.apply(lambda x: wisps.is_in_that_classification(x, box_name))\n",
    "    \n",
    "    spexs_slctd_in_that_class_bool= (to_use_df[ spexs_bools]).spt.apply(lambda x: wisps.is_in_that_classification(x, box_name))\n",
    "    \n",
    "    if box_name.lower()=='subdwarfs':\n",
    "         spexs_slctd_in_that_class_bool=np.ones(len(spexs_slctd[0]), dtype=bool)\n",
    "    \n",
    "    \n",
    "    \n",
    "    \n",
    "    cands_in_that_class=np.array([cands_slctd[0][cands_in_that_class_bool], cands_slctd[1][cands_in_that_class_bool]])\n",
    "    spexs_slctd_in_that_class=np.array([spexs_slctd[0][spexs_slctd_in_that_class_bool], spexs_slctd[1][spexs_slctd_in_that_class_bool]])\n",
    "\n",
    "    ax.scatter(spexs_slctd_in_that_class[0], spexs_slctd_in_that_class[1], facecolors='#0074D9',  label='SpeX', s=10.)\n",
    "    \n",
    "    ax.scatter(cands_dff[xkey], cands_dff[ykey], marker='x', facecolors='#111111', s=10.)\n",
    "    \n",
    "    \n",
    "    ax.scatter( cands_in_that_class[0],    cands_in_that_class[1], marker='x', facecolors='#FF851B', s=10, edgecolors='#2ECC40', label='candidates')\n",
    "    \n",
    "    \n",
    "    bx.color='#2ECC40'\n",
    "    bx.alpha=.1\n",
    "    bx.plot(ax=ax, only_shape=True, highlight=False)\n",
    "    \n",
    "    \n",
    "    ax.set_xlabel(r'$'+str(idx.name.split(' ')[0])+'$', fontsize=18)\n",
    "    ax.set_ylabel(r'$'+str(idx.name.split(' ')[1])+'$', fontsize=18)\n",
    "    \n",
    "    ax.set_title(box_name, fontsize=18)\n",
    "    \n",
    "    xbuffer=np.nanstd(spexs_slctd)\n",
    "    \n",
    "    ax.set_xlim([ bx.xrange[0]-0.2*abs(np.ptp(bx.xrange)), bx.xrange[1]+0.2*abs(np.ptp(bx.xrange))])\n",
    "    ax.set_ylim([ bx.yrange[0]-0.2*abs(np.ptp(bx.yrange)), bx.yrange[1]+0.2*abs(np.ptp(bx.yrange))])\n",
    "    \n",
    "    ax.minorticks_on()\n",
    "    \n",
    "    print (trash_slctd.shape[1],  cands_slctd.shape[1], box_name)\n",
    "    if (trash_slctd.shape[1])==0:\n",
    "        fprate=0.0\n",
    "    else:\n",
    "        fprate=(trash_slctd.shape[1]- cands_slctd.shape[1])/trash_slctd.shape[1]\n",
    "        if box_name.lower()=='subdwarfs':\n",
    "                fprate=1.\n",
    "    \n",
    "    fp[box_name]=  fprate\n",
    "\n",
    "    \n",
    "\n",
    "    \n",
    "    return {str(box_name): bx}\n",
    "    \n",
    "    "
   ]
  },
  {
   "cell_type": "code",
   "execution_count": 39,
   "metadata": {},
   "outputs": [
    {
     "data": {
      "text/plain": [
       "{'H_2O-1/J-Cont H_2O-2/H_2O-1': 'L0-L5',\n",
       " 'H_2O-1/J-Cont CH_4/H-Cont': 'L5-T0',\n",
       " 'H_2O-1/J-Cont CH_4/H_2O-1': 'M7-L0',\n",
       " 'H_2O-2/J-Cont CH_4/H-Cont': 'T0-T5',\n",
       " 'H-cont/H_2O-1 CH_4/J-Cont': 'T5-T9',\n",
       " 'CH_4/H_2O-1 H_2O-2/J-Cont': 'Y dwarfs',\n",
       " 'H_2O-1/J-Cont CH_4/J-Cont': 'subdwarfs'}"
      ]
     },
     "execution_count": 39,
     "metadata": {},
     "output_type": "execute_result"
    }
   ],
   "source": [
    "to_use"
   ]
  },
  {
   "cell_type": "code",
   "execution_count": 40,
   "metadata": {},
   "outputs": [
    {
     "name": "stdout",
     "output_type": "stream",
     "text": [
      "608 47 L0-L5\n",
      "584 31 L5-T0\n",
      "1181 181 M7-L0\n",
      "379 20 T0-T5\n",
      "7 2 T5-T9\n",
      "495 6 Y dwarfs\n",
      "1400 132 subdwarfs\n"
     ]
    },
    {
     "data": {
      "image/png": "[encoded data removed]",
      "text/plain": [
       "<Figure size 1008x432 with 7 Axes>"
      ]
     },
     "metadata": {
      "needs_background": "light"
     },
     "output_type": "display_data"
    }
   ],
   "source": [
    "fig, ax=plt.subplots(nrows=2, ncols=4, figsize=(14, 6))\n",
    "\n",
    "bxs=[]\n",
    "for idx, k in enumerate(to_use.keys()):\n",
    "    b=plot_index_box( k, to_use[k], np.concatenate(ax)[idx])\n",
    "    bxs.append(b)\n",
    "plt.tight_layout()\n",
    "fig.delaxes(np.concatenate(ax)[-1])\n",
    "#fig.delaxes(np.concatenate(ax)[-2])\n",
    "plt.savefig(wisps.OUTPUT_FIGURES+'/index_index_plots.jpeg')"
   ]
  },
  {
   "cell_type": "code",
   "execution_count": 41,
   "metadata": {},
   "outputs": [
    {
     "data": {
      "text/plain": [
       "{'L0-L5': 0.9226973684210527,\n",
       " 'L5-T0': 0.946917808219178,\n",
       " 'M7-L0': 0.8467400508044031,\n",
       " 'T0-T5': 0.9472295514511874,\n",
       " 'T5-T9': 0.7142857142857143,\n",
       " 'Y dwarfs': 0.9878787878787879,\n",
       " 'subdwarfs': 1.0}"
      ]
     },
     "execution_count": 41,
     "metadata": {},
     "output_type": "execute_result"
    }
   ],
   "source": [
    "fp"
   ]
  },
  {
   "cell_type": "code",
   "execution_count": 42,
   "metadata": {},
   "outputs": [],
   "source": [
    "bx_dict={}\n",
    "for b in bxs:\n",
    "    bx_dict.update(b)"
   ]
  },
  {
   "cell_type": "code",
   "execution_count": 43,
   "metadata": {},
   "outputs": [],
   "source": [
    "#invert to use\n",
    "inv_to_use = {v: k for k, v in to_use.items()}"
   ]
  },
  {
   "cell_type": "code",
   "execution_count": 44,
   "metadata": {},
   "outputs": [
    {
     "data": {
      "text/plain": [
       "{'L0-L5': 'H_2O-1/J-Cont H_2O-2/H_2O-1',\n",
       " 'L5-T0': 'H_2O-1/J-Cont CH_4/H-Cont',\n",
       " 'M7-L0': 'H_2O-1/J-Cont CH_4/H_2O-1',\n",
       " 'T0-T5': 'H_2O-2/J-Cont CH_4/H-Cont',\n",
       " 'T5-T9': 'H-cont/H_2O-1 CH_4/J-Cont',\n",
       " 'Y dwarfs': 'CH_4/H_2O-1 H_2O-2/J-Cont',\n",
       " 'subdwarfs': 'H_2O-1/J-Cont CH_4/J-Cont'}"
      ]
     },
     "execution_count": 44,
     "metadata": {},
     "output_type": "execute_result"
    }
   ],
   "source": [
    "inv_to_use"
   ]
  },
  {
   "cell_type": "code",
   "execution_count": 45,
   "metadata": {},
   "outputs": [],
   "source": [
    "from tqdm import tqdm"
   ]
  },
  {
   "cell_type": "code",
   "execution_count": 46,
   "metadata": {},
   "outputs": [
    {
     "name": "stderr",
     "output_type": "stream",
     "text": [
      "100%|██████████| 7/7 [00:00<00:00, 21.27it/s]\n"
     ]
    }
   ],
   "source": [
    "ncandidates=[]\n",
    "for spt_range in tqdm(bx_dict.keys()):\n",
    "    idx_name=inv_to_use[spt_range]\n",
    "    idx=crts[idx_name]\n",
    "    s, bools=(bx_dict[spt_range])._select(np.array([dt[idx.xkey].values, dt[idx.ykey].values]))\n",
    "    ncandidates.append(dt[bools])"
   ]
  },
  {
   "cell_type": "code",
   "execution_count": 47,
   "metadata": {},
   "outputs": [
    {
     "data": {
      "text/plain": [
       "2910"
      ]
     },
     "execution_count": 47,
     "metadata": {},
     "output_type": "execute_result"
    }
   ],
   "source": [
    "len(pd.concat(ncandidates).drop_duplicates())"
   ]
  },
  {
   "cell_type": "code",
   "execution_count": 48,
   "metadata": {},
   "outputs": [],
   "source": [
    "pd.concat(ncandidates).drop_duplicates().to_pickle(wisps.OUTPUT_FILES+'/selected_by_indices.pkl')"
   ]
  },
  {
   "cell_type": "code",
   "execution_count": 49,
   "metadata": {},
   "outputs": [],
   "source": [
    "def round_tuple(tpl, n=2):\n",
    "    return round(tpl[0], n), round(tpl[1],n)"
   ]
  },
  {
   "cell_type": "code",
   "execution_count": 50,
   "metadata": {},
   "outputs": [
    {
     "data": {
      "text/plain": [
       "dict_keys(['H_2O-1/J-Cont H_2O-2/H_2O-1', 'H_2O-1/J-Cont CH_4/H-Cont', 'H_2O-1/J-Cont CH_4/H_2O-1', 'H_2O-2/J-Cont CH_4/H-Cont', 'H-cont/H_2O-1 CH_4/J-Cont', 'CH_4/H_2O-1 H_2O-2/J-Cont', 'H_2O-1/J-Cont CH_4/J-Cont'])"
      ]
     },
     "execution_count": 50,
     "metadata": {},
     "output_type": "execute_result"
    }
   ],
   "source": [
    "to_use.keys()"
   ]
  },
  {
   "cell_type": "code",
   "execution_count": 51,
   "metadata": {},
   "outputs": [],
   "source": [
    "good_indices=[c for c in crts.values() if c.name in to_use.keys() ]"
   ]
  },
  {
   "cell_type": "code",
   "execution_count": 52,
   "metadata": {},
   "outputs": [
    {
     "name": "stdout",
     "output_type": "stream",
     "text": [
      " L0-L5 & H_2O-1/J-Cont &  H_2O-2/H_2O-1 & (0.69, 0.84) & (0.98, 0.84) & (0.98, 0.46) & (0.69, 0.46) & 0.97 & 0.075  & 0.92 \\\\ \n",
      " L5-T0 & H_2O-1/J-Cont &  CH_4/H_2O-1 & (0.51, 7.21) & (0.94, 7.21) & (0.94, -4.5) & (0.51, -4.5) & 0.98 & 0.209  & 0.95 \\\\ \n",
      " M7-L0 & H_2O-1/J-Cont &  CH_4/J-Cont & (0.83, 0.83) & (1.08, 0.83) & (1.08, 0.54) & (0.83, 0.54) & 0.97 & 0.135  & 0.85 \\\\ \n",
      " T0-T5 & H_2O-1/J-Cont &  CH_4/H-Cont & (0.23, 0.96) & (0.93, 1.74) & (0.93, 0.75) & (0.23, -0.04) & 0.97 & 0.165  & 0.95 \\\\ \n",
      " T5-T9 & H-cont/H_2O-1 &  CH_4/J-Cont & (2.16, 0.24) & (12.39, 0.04) & (12.39, -0.14) & (2.16, 0.06) & 0.95 & 0.001  & 0.71 \\\\ \n",
      " Y dwarfs & CH_4/H_2O-1 &  H_2O-2/J-Cont & (-19.18, 0.15) & (12.03, 0.15) & (12.03, -0.17) & (-19.18, -0.17) & 0.88 & 0.061  & 0.99 \\\\ \n",
      " subdwarfs & H_2O-2/J-Cont &  CH_4/H-Cont & (0.18, 1.17) & (0.75, 1.17) & (0.75, 0.86) & (0.18, 0.85) & 0.89 & 0.163  & 1.0 \\\\ \n"
     ]
    }
   ],
   "source": [
    "for idx, k in zip(good_indices, to_use.keys()):\n",
    "    spt_range=to_use[k]\n",
    "    bs=idx.shapes\n",
    "    \n",
    "    bx=[x for x in bs if x.shape_name==spt_range][0]\n",
    "    print (\" {} & {} &  {} & {} & {} & {} & {} & {} & {}  & {} \\\\\\ \".format(spt_range,idx.xkey, idx.ykey, \n",
    "                                                                           round_tuple(bx.vertices[0]), round_tuple(bx.vertices[1])\n",
    "                                                                           , round_tuple(bx.vertices[2]), round_tuple(bx.vertices[3]),\n",
    "                                                                          round(idx.completeness[spt_range], 2), \n",
    "                                                                            round(idx.contamination[spt_range], 3), \n",
    "                                                                           round(fp[spt_range], 2)))\n",
    "    "
   ]
  },
  {
   "cell_type": "code",
   "execution_count": 53,
   "metadata": {},
   "outputs": [],
   "source": [
    "#for idx in np.arange(0, 45, 8):\n",
    "#    ids=range(idx, idx + 8)\n",
    "#    print (j.format(ids[0], ids[1], ids[2] , ids[3], ids[4], ids[5], ids[6], ids[7]).replace(\"<\", \"{\").replace(\">\", \"}\"))\n"
   ]
  },
  {
   "cell_type": "code",
   "execution_count": 54,
   "metadata": {},
   "outputs": [],
   "source": [
    "all_stuff=pd.read_hdf(wisps.COMBINED_PHOTO_SPECTRO_FILE, key='all_phot_spec_data')"
   ]
  },
  {
   "cell_type": "code",
   "execution_count": 55,
   "metadata": {},
   "outputs": [
    {
     "data": {
      "text/plain": [
       "271915"
      ]
     },
     "execution_count": 55,
     "metadata": {},
     "output_type": "execute_result"
    }
   ],
   "source": [
    "len(all_stuff)"
   ]
  },
  {
   "cell_type": "code",
   "execution_count": 56,
   "metadata": {},
   "outputs": [
    {
     "data": {
      "text/plain": [
       "0.407958369343361"
      ]
     },
     "execution_count": 56,
     "metadata": {},
     "output_type": "execute_result"
    }
   ],
   "source": [
    "len(stars)/len(all_stuff)"
   ]
  },
  {
   "cell_type": "code",
   "execution_count": 57,
   "metadata": {},
   "outputs": [],
   "source": [
    "stars_with_snr= stars[(stars.snr1>=3.)]"
   ]
  },
  {
   "cell_type": "code",
   "execution_count": 58,
   "metadata": {},
   "outputs": [
    {
     "data": {
      "text/plain": [
       "(0.3878391778599117, 0.1582222385671993)"
      ]
     },
     "execution_count": 58,
     "metadata": {},
     "output_type": "execute_result"
    }
   ],
   "source": [
    "len(stars_with_snr)/len(stars), len(stars_with_snr)/len(all_stuff)"
   ]
  },
  {
   "cell_type": "code",
   "execution_count": 59,
   "metadata": {},
   "outputs": [],
   "source": [
    "stars_with_ftest=(stars[(stars.f_test< 0.4) &(stars.snr1>=3.)])"
   ]
  },
  {
   "cell_type": "code",
   "execution_count": 60,
   "metadata": {},
   "outputs": [
    {
     "data": {
      "text/plain": [
       "(8148, 0.1893870720312391, 0.07345172631389164, 0.029965246492470073)"
      ]
     },
     "execution_count": 60,
     "metadata": {},
     "output_type": "execute_result"
    }
   ],
   "source": [
    "len(stars_with_ftest), len(stars_with_ftest)/len(stars_with_snr), len(stars_with_ftest)/len(stars),  len(stars_with_ftest)/len(all_stuff)"
   ]
  },
  {
   "cell_type": "code",
   "execution_count": 61,
   "metadata": {},
   "outputs": [
    {
     "data": {
      "text/plain": [
       "0.04"
      ]
     },
     "execution_count": 61,
     "metadata": {},
     "output_type": "execute_result"
    }
   ],
   "source": [
    "8000/200000"
   ]
  },
  {
   "cell_type": "code",
   "execution_count": 62,
   "metadata": {},
   "outputs": [
    {
     "data": {
      "text/plain": [
       "110930"
      ]
     },
     "execution_count": 62,
     "metadata": {},
     "output_type": "execute_result"
    }
   ],
   "source": [
    "len(stars)"
   ]
  },
  {
   "cell_type": "code",
   "execution_count": 63,
   "metadata": {},
   "outputs": [
    {
     "data": {
      "text/plain": [
       "0.3878391778599117"
      ]
     },
     "execution_count": 63,
     "metadata": {},
     "output_type": "execute_result"
    }
   ],
   "source": [
    "43023/110930"
   ]
  },
  {
   "cell_type": "code",
   "execution_count": null,
   "metadata": {},
   "outputs": [],
   "source": []
  }
 ],
 "metadata": {
  "kernelspec": {
   "display_name": "Python 3",
   "language": "python",
   "name": "python3"
  },
  "language_info": {
   "codemirror_mode": {
    "name": "ipython",
    "version": 3
   },
   "file_extension": ".py",
   "mimetype": "text/x-python",
   "name": "python",
   "nbconvert_exporter": "python",
   "pygments_lexer": "ipython3",
   "version": "3.7.3"
  }
 },
 "nbformat": 4,
 "nbformat_minor": 4
}
