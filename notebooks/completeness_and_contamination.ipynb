{
 "cells": [
  {
   "cell_type": "markdown",
   "metadata": {},
   "source": [
    "This demonstrates all the steps in my candidate selection before conducting visual inspection"
   ]
  },
  {
   "cell_type": "code",
   "execution_count": 1,
   "metadata": {},
   "outputs": [
    {
     "name": "stdout",
     "output_type": "stream",
     "text": [
      "Adding 89 sources from /Users/caganze/research/splat//resources/Spectra/Public/MAGE/ to spectral database\n",
      "Adding 145 sources from /Users/caganze/research/splat//resources/Spectra/Public/LRIS-RED/ to spectral database\n",
      "Adding 2404 sources from /Users/caganze/research/splat//resources/Spectra/Public/SPEX-PRISM/ to spectral database\n",
      "\n",
      "Warning: spectrum object has a flux vector of zero length - maybe empty?\n",
      "\n",
      "Warning: normalize is attempting to divide by nan; ignoring\n",
      "\n",
      "Warning: spectrum object has a flux vector of zero length - maybe empty?\n",
      "\n",
      "Warning: normalize is attempting to divide by nan; ignoring\n",
      "\n",
      "Warning: spectrum object has a flux vector of zero length - maybe empty?\n",
      "\n",
      "Warning: normalize is attempting to divide by nan; ignoring\n",
      "\n",
      "Warning: spectrum object has a flux vector of zero length - maybe empty?\n",
      "\n",
      "Warning: normalize is attempting to divide by nan; ignoring\n"
     ]
    }
   ],
   "source": [
    "import numpy as np\n",
    "import splat\n",
    "import wisps.data_analysis as wispd\n",
    "from wisps.data_analysis import selection_criteria as sel_crt\n",
    "import shapey\n",
    "import matplotlib.pyplot as plt\n",
    "import pandas as pd\n",
    "import seaborn as sns\n",
    "from scipy import stats\n",
    "import wisps\n",
    "\n",
    "import matplotlib as mpl\n",
    "\n",
    "from tqdm import tqdm\n",
    "import random\n",
    "import matplotlib.pyplot as plt\n",
    "%matplotlib inline"
   ]
  },
  {
   "cell_type": "code",
   "execution_count": 2,
   "metadata": {},
   "outputs": [],
   "source": [
    "#some functions \n",
    "def get_indices(x):\n",
    "    if x is None :\n",
    "        return pd.Series({})\n",
    "    else:\n",
    "        return  pd.concat([pd.Series(x.indices), pd.Series(x.mags), pd.Series(x.snr)])\n",
    "    \n",
    "def get_spt(x):\n",
    "    if x is None:\n",
    "        return np.nan\n",
    "    else:\n",
    "        return x.spectral_type[0]\n",
    "#change f-test definition\n",
    "\n",
    "def f_test_fx(x, df1, df2):\n",
    "    return stats.f.cdf(x, df1, df2)\n",
    "\n",
    "def box_parameters(idx, spt_range):\n",
    "    bs=idx.shapes\n",
    "    b=[x for x in bs if x.shape_name==spt_range][0]\n",
    "    print ('{}  {} m: {} b: {} s:{}, comp : {}, cont: {}'.format(spt_range, idx,  round(b.coeffs[0], 2), round(b.coeffs[1], 2), round(b.scatter, 2), round(idx.completeness[spt_range], 2),  round(idx.contamination[spt_range], 3)))"
   ]
  },
  {
   "cell_type": "code",
   "execution_count": 3,
   "metadata": {},
   "outputs": [],
   "source": [
    "#get data.big_file()\n",
    "alldata=wisps.get_big_file()\n",
    "spex=wisps.Annotator.reformat_table(wisps.datasets['spex'])\n",
    "\n",
    "#cands=pd.read_hdf(wisps.OUTPUT_FILES+'/true_spectra_cands.hdf')\n",
    "cands0=pd.read_hdf(wisps.LIBRARIES+'/objects_of_interest.h5', key='all')\n",
    "cands0=(cands0[~cands0.spectra.isna()]).reset_index(drop=True)\n",
    "cands=cands0.spectra.apply(get_indices)\n",
    "cands['dof']=cands0.spectra.apply(lambda x: x.dof).values\n",
    "cands['grism_id']=cands0.grism_id\n",
    "cands['spt']=cands0.spectra.apply(get_spt)\n",
    "cands['line_chi']=cands0.spectra.apply(lambda x : x.line_chi)\n",
    "cands['spex_chi']=cands0.spectra.apply(lambda x: x.spex_chi)\n",
    "\n",
    "#cands_dff['f_test']=(cands_dff['spex_chi']/cands_dff['line_chi']).apply(f_test_fx)\n",
    "\n",
    "cands=wisps.Annotator.reformat_table(cands)\n",
    "cands=cands[(cands.spt >=17.) ]\n",
    "cands=cands.reset_index(drop=True)\n",
    "\n",
    "\n",
    "\n",
    "spex_df=wisps.Annotator.reformat_table(wisps.datasets['spex']).reset_index(drop=True)\n",
    "manj=wisps.Annotator.reformat_table(wisps.datasets['manjavacas']).reset_index(drop=True)\n",
    "schn=wisps.Annotator.reformat_table(wisps.datasets['schneider']).reset_index(drop=True)\n",
    "ydwarfs=(manj[manj['spt'].apply(wisps.make_spt_number)>38].append(schn)).reset_index(drop=True)\n",
    "spex_df['spt']=np.vstack(spex_df['spt'].values)[:,0]\n",
    "manj['spt']=np.vstack(manj['spt'].values)[:,0]\n",
    "schn['spt']=np.vstack(schn['spt'].values)[:,0]\n",
    "\n",
    "cands.grism_id=cands.grism_id.apply(lambda x: x.lower())\n",
    "\n",
    "cands['spt']=np.vstack(cands['spt'].values)\n",
    "                           "
   ]
  },
  {
   "cell_type": "code",
   "execution_count": 4,
   "metadata": {},
   "outputs": [],
   "source": [
    "cands_aug=cands.merge(alldata, on='grism_id')"
   ]
  },
  {
   "cell_type": "code",
   "execution_count": 5,
   "metadata": {},
   "outputs": [],
   "source": [
    "spex['x']=spex.spex_chi/spex.line_chi\n",
    "alldata['x']=alldata.spex_chi/alldata.line_chi\n",
    "#ydwarfs['x']=ydwarfs.spex_chi/ydwarfs.line_chi\n",
    "cands['x']=cands.spex_chi/cands.line_chi\n",
    "\n",
    "\n",
    "cands['f_test']=f_test_fx(cands.x, cands_aug.nG141-2, cands_aug.nG141-2)\n",
    "spex['f_test']=f_test_fx(spex.x, spex.dof-2, spex.dof-2)\n",
    "alldata['f_test']=f_test_fx(alldata.x, alldata.nG141-2, alldata.nG141-2)\n",
    "\n",
    "alldata=alldata.sort_values('x')\n",
    "spex=spex.sort_values('x')\n",
    "cands=cands.sort_values('x')\n"
   ]
  },
  {
   "cell_type": "code",
   "execution_count": 6,
   "metadata": {},
   "outputs": [
    {
     "data": {
      "text/plain": [
       "Text(0.5, 0, 'SPEX-CHISQUARED/LINE-CHISQUARED')"
      ]
     },
     "execution_count": 6,
     "metadata": {},
     "output_type": "execute_result"
    },
    {
     "name": "stderr",
     "output_type": "stream",
     "text": [
      "findfont: Font family ['serif'] not found. Falling back to DejaVu Sans.\n"
     ]
    },
    {
     "data": {
      "image/png": "[encoded data removed]",
      "text/plain": [
       "<Figure size 432x288 with 1 Axes>"
      ]
     },
     "metadata": {
      "needs_background": "light"
     },
     "output_type": "display_data"
    }
   ],
   "source": [
    "h2=plt.hist(alldata.x, range=[-0.05, 1.1], density=True, bins='auto', histtype='step', label='ALL DATA')\n",
    "h3=plt.hist(cands.x, range=[-.05, 1.1], density=True, bins='auto', label='CANDS')\n",
    "h=plt.hist(spex.x, range=[-.05, 1.1], density=True, bins='auto', histtype='step', label='SPEX')\n",
    "plt.legend()\n",
    "plt.xlabel('SPEX-CHISQUARED/LINE-CHISQUARED', fontsize=18)"
   ]
  },
  {
   "cell_type": "code",
   "execution_count": null,
   "metadata": {},
   "outputs": [],
   "source": []
  },
  {
   "cell_type": "markdown",
   "metadata": {},
   "source": [
    "#### "
   ]
  },
  {
   "cell_type": "code",
   "execution_count": 7,
   "metadata": {},
   "outputs": [
    {
     "data": {
      "text/plain": [
       "(0.0, 5.0)"
      ]
     },
     "execution_count": 7,
     "metadata": {},
     "output_type": "execute_result"
    },
    {
     "data": {
      "image/png": "[encoded data removed]",
      "text/plain": [
       "<Figure size 432x288 with 1 Axes>"
      ]
     },
     "metadata": {
      "needs_background": "light"
     },
     "output_type": "display_data"
    }
   ],
   "source": [
    "plt.plot(alldata.x, alldata.f_test, '.', alpha=0.01)\n",
    "plt.plot(spex.x, spex.f_test, '.', c='r', alpha=0.5)\n",
    "plt.plot(cands.x, cands.f_test, '.', c='k')\n",
    "\n",
    "plt.xlim([0, 5])"
   ]
  },
  {
   "cell_type": "code",
   "execution_count": 8,
   "metadata": {},
   "outputs": [
    {
     "data": {
      "text/plain": [
       "(-0.1, 1.0)"
      ]
     },
     "execution_count": 8,
     "metadata": {},
     "output_type": "execute_result"
    },
    {
     "data": {
      "image/png": "[encoded data removed]",
      "text/plain": [
       "<Figure size 432x288 with 1 Axes>"
      ]
     },
     "metadata": {
      "needs_background": "light"
     },
     "output_type": "display_data"
    }
   ],
   "source": [
    "h=plt.hist(alldata.f_test, cumulative=True, density=True, histtype='step')\n",
    "h=plt.hist(spex.f_test, cumulative=True, density=True, histtype='step')\n",
    "h=plt.hist(cands.f_test, cumulative=True, density=True, histtype='step')\n",
    "#plt.plot(cands.x, cands.f_test, '.', c='k')\n",
    "\n",
    "plt.xlim([-0.1, 1])"
   ]
  },
  {
   "cell_type": "code",
   "execution_count": 9,
   "metadata": {},
   "outputs": [
    {
     "data": {
      "text/plain": [
       "0.012860483242400623"
      ]
     },
     "execution_count": 9,
     "metadata": {},
     "output_type": "execute_result"
    }
   ],
   "source": [
    "len(spex[np.logical_and(spex.f_test.values > 0.9, np.vstack(spex.spt.values)[:,0] >=17.)])/len(spex)"
   ]
  },
  {
   "cell_type": "code",
   "execution_count": 10,
   "metadata": {},
   "outputs": [
    {
     "data": {
      "text/plain": [
       "0.8016367887763055"
      ]
     },
     "execution_count": 10,
     "metadata": {},
     "output_type": "execute_result"
    }
   ],
   "source": [
    "len(spex[np.logical_and(spex.f_test.values < 0.5, np.vstack(spex.spt.values)[:,0] >=17.)])/len(spex)"
   ]
  },
  {
   "cell_type": "code",
   "execution_count": 11,
   "metadata": {},
   "outputs": [
    {
     "data": {
      "text/plain": [
       "0.005376344086021506"
      ]
     },
     "execution_count": 11,
     "metadata": {},
     "output_type": "execute_result"
    }
   ],
   "source": [
    "len(cands[np.logical_and(cands.f_test.values > 0.9, np.vstack(cands.spt.values)[:,0] >=17.)])/len(cands)"
   ]
  },
  {
   "cell_type": "code",
   "execution_count": 12,
   "metadata": {},
   "outputs": [
    {
     "data": {
      "text/plain": [
       "0.9946236559139785"
      ]
     },
     "execution_count": 12,
     "metadata": {},
     "output_type": "execute_result"
    }
   ],
   "source": [
    "len(cands[np.logical_and(cands.f_test.values < 0.5, np.vstack(cands.spt.values)[:,0] >=17.)])/len(cands)"
   ]
  },
  {
   "cell_type": "code",
   "execution_count": 13,
   "metadata": {},
   "outputs": [],
   "source": [
    "#star_ids=alldata[alldata['class_star'] !=0]\n",
    "#stars=wisps.Annotator.reformat_table(star_ids).reset_index(drop=True)\n",
    "#cy=stars[stars.grism_id.isin(cx.grism_id)]"
   ]
  },
  {
   "cell_type": "code",
   "execution_count": 14,
   "metadata": {},
   "outputs": [
    {
     "data": {
      "text/plain": [
       "0.20202714044113476"
      ]
     },
     "execution_count": 14,
     "metadata": {},
     "output_type": "execute_result"
    }
   ],
   "source": [
    "spex.x.mean()"
   ]
  },
  {
   "cell_type": "code",
   "execution_count": 15,
   "metadata": {},
   "outputs": [],
   "source": [
    "dt=alldata[(alldata.f_test<0.02) & (alldata.x <0.5) & (alldata.snr1>=3.) &  (alldata.mstar_flag !=0)].reset_index(drop=True)\n",
    "dt['spt']=(dt['spt']).apply(wisps.make_spt_number).apply(float)"
   ]
  },
  {
   "cell_type": "code",
   "execution_count": 16,
   "metadata": {},
   "outputs": [],
   "source": [
    "dt=wisps.Annotator.reformat_table(dt).reset_index(drop=True)"
   ]
  },
  {
   "cell_type": "code",
   "execution_count": null,
   "metadata": {},
   "outputs": [],
   "source": []
  },
  {
   "cell_type": "code",
   "execution_count": 17,
   "metadata": {},
   "outputs": [
    {
     "name": "stderr",
     "output_type": "stream",
     "text": [
      "\r",
      "  0%|          | 0/120 [00:00<?, ?it/s]"
     ]
    },
    {
     "name": "stdout",
     "output_type": "stream",
     "text": [
      "(2452, 34) (113, 34)\n"
     ]
    },
    {
     "name": "stderr",
     "output_type": "stream",
     "text": [
      "100%|██████████| 120/120 [00:38<00:00,  3.14it/s]\n"
     ]
    }
   ],
   "source": [
    "#get criteria \n",
    "##only run this if new data\n",
    "gbhio=sel_crt.save_criteria(conts=dt)\n",
    "crts=sel_crt.crts_from_file()\n",
    "contamns=pd.DataFrame([ x.contamination for x in crts.values()])\n",
    "compls=pd.DataFrame([ x.completeness for x in crts.values()])\n",
    "\n",
    "contamns.index=[x for x in crts.keys()]\n",
    "compls.index=[x for x in crts.keys()]"
   ]
  },
  {
   "cell_type": "code",
   "execution_count": 18,
   "metadata": {},
   "outputs": [],
   "source": [
    "%%capture\n",
    "'''\n",
    "contamns.style.apply(lambda x: [\"background-color: #7FDBFF\" \n",
    "                          if (i >= 0 and (v < 0.1 \n",
    "                                          and v > 0. )) \n",
    "                          else \"\" for i, v in enumerate(x)], axis = 1)\n",
    "'''"
   ]
  },
  {
   "cell_type": "code",
   "execution_count": 19,
   "metadata": {},
   "outputs": [],
   "source": [
    "def get_toplowest_contam(subtype, n):\n",
    "    top=contamns.sort_values('L5-T0')[:n]\n",
    "    return {subtype: [x  for x in top.index]}"
   ]
  },
  {
   "cell_type": "code",
   "execution_count": 20,
   "metadata": {},
   "outputs": [],
   "source": [
    "ordered={}\n",
    "for k in ['M7-L0', 'L0-L5', 'L5-T0', 'T0-T5', 'T5-T9', 'Y dwarfs', 'subdwarfs']:\n",
    "    ordered.update(get_toplowest_contam(k, 6))"
   ]
  },
  {
   "cell_type": "code",
   "execution_count": 21,
   "metadata": {},
   "outputs": [],
   "source": [
    "to_use= ordered\n"
   ]
  },
  {
   "cell_type": "code",
   "execution_count": 22,
   "metadata": {},
   "outputs": [],
   "source": [
    "spex['spt']=np.vstack(spex.spt.values)[:,0]"
   ]
  },
  {
   "cell_type": "code",
   "execution_count": 23,
   "metadata": {},
   "outputs": [],
   "source": [
    "from tqdm import tqdm"
   ]
  },
  {
   "cell_type": "code",
   "execution_count": 24,
   "metadata": {},
   "outputs": [],
   "source": [
    "def multiplte_indices_selection(k):\n",
    "    stat_dict={}\n",
    "    indices= [crts[index_name] for index_name in to_use[k]]\n",
    "    #make selections for each index separately\n",
    "    cand_bools=[]\n",
    "    spex_bools=[]\n",
    "    trash_bools=[]\n",
    "    for idx in indices:\n",
    "        xkey=idx.xkey\n",
    "        ykey=idx.ykey\n",
    "        bx=[x for x in idx.shapes if x.shape_name==k][0]\n",
    "        _, cbools=bx._select(np.array([cands[xkey].values,cands[ykey].values]))\n",
    "        _, spbools=bx._select(np.array([spex[xkey].values,spex[ykey].values]))\n",
    "        _, trbools=bx._select(np.array([dt[xkey].values, dt[ykey].values]))\n",
    "        \n",
    "        cand_bools.append(cbools)\n",
    "        spex_bools.append(spbools)\n",
    "        trash_bools.append(trbools)\n",
    "        \n",
    "    cands_in_that_class_bool=cands.spt.apply(lambda x: wisps.is_in_that_classification(x, k))\n",
    "    spex_in_that_class_bool=spex.spt.apply(lambda x: wisps.is_in_that_classification(x, k))\n",
    "\n",
    "    cand_bools.append(cands_in_that_class_bool)\n",
    "    spex_bools.append(spex_in_that_class_bool)\n",
    "    \n",
    "    cands_selected=cands[np.logical_and.reduce(cand_bools, axis=0)]\n",
    "    spexs_selected=spex[np.logical_and.reduce(spex_bools, axis=0)]\n",
    "    \n",
    "    print (' {} selected {} out of {} UCDS'.format(k, len( cands_selected), len(cands[cands_in_that_class_bool])))\n",
    "    print ('overall completeness {}'.format( len(spexs_selected)/len(spex[spex_in_that_class_bool])))\n",
    "    print ('total contaminants {}'.format(len(dt[np.logical_and.reduce(trash_bools)])))\n",
    "    print ('-------------------------------------------')"
   ]
  },
  {
   "cell_type": "code",
   "execution_count": 25,
   "metadata": {},
   "outputs": [
    {
     "name": "stdout",
     "output_type": "stream",
     "text": [
      " M7-L0 selected 70 out of 146 UCDS\n",
      "overall completeness 0.9263873159682899\n",
      "total contaminants 242\n",
      "-------------------------------------------\n",
      " L0-L5 selected 10 out of 26 UCDS\n",
      "overall completeness 0.9371069182389937\n",
      "total contaminants 14\n",
      "-------------------------------------------\n",
      " L5-T0 selected 3 out of 8 UCDS\n",
      "overall completeness 0.9328537170263789\n",
      "total contaminants 10\n",
      "-------------------------------------------\n",
      " T0-T5 selected 1 out of 9 UCDS\n",
      "overall completeness 0.8974358974358975\n",
      "total contaminants 6\n",
      "-------------------------------------------\n",
      " T5-T9 selected 2 out of 4 UCDS\n",
      "overall completeness 0.8403361344537815\n",
      "total contaminants 3\n",
      "-------------------------------------------\n",
      " Y dwarfs selected 1 out of 1 UCDS\n",
      "overall completeness 0.2857142857142857\n",
      "total contaminants 1\n",
      "-------------------------------------------\n"
     ]
    }
   ],
   "source": [
    "for k in ['M7-L0', 'L0-L5', 'L5-T0', 'T0-T5', 'T5-T9', 'Y dwarfs']:\n",
    "    multiplte_indices_selection(k)"
   ]
  },
  {
   "cell_type": "code",
   "execution_count": 26,
   "metadata": {},
   "outputs": [
    {
     "data": {
      "text/plain": [
       "L0-L5          H_2O-1/J-Cont H_2O-2+CH_4/H-Cont\n",
       "L5-T0        H_2O-1/J-Cont H_2O-1+H_2O-2/H-Cont\n",
       "M7-L0          H_2O-1/J-Cont H_2O-2+CH_4/H-Cont\n",
       "T0-T5               H_2O-1/J-Cont H_2O-2/H_2O-1\n",
       "T5-T9        H_2O-2/H_2O-1 H_2O-1+H_2O-2/J-Cont\n",
       "subdwarfs             H_2O-1/J-Cont CH_4/J-Cont\n",
       "trash                 H_2O-1/J-Cont CH_4/H-Cont\n",
       "Y dwarfs            H_2O-1/J-Cont H_2O-2/H_2O-1\n",
       "dtype: object"
      ]
     },
     "execution_count": 26,
     "metadata": {},
     "output_type": "execute_result"
    }
   ],
   "source": [
    "contamns.idxmin(axis=0)"
   ]
  },
  {
   "cell_type": "code",
   "execution_count": 27,
   "metadata": {},
   "outputs": [],
   "source": [
    "from collections import OrderedDict\n",
    "ordered=[(k, contamns.idxmin(axis=0)[k]) for k in ['M7-L0', 'L0-L5', 'L5-T0', 'T0-T5', 'T5-T9', 'Y dwarfs', 'subdwarfs']]\n",
    "to_use=  [ (y, x) for x, y in ordered]"
   ]
  },
  {
   "cell_type": "code",
   "execution_count": 28,
   "metadata": {},
   "outputs": [
    {
     "data": {
      "text/plain": [
       "[('H_2O-1/J-Cont H_2O-2+CH_4/H-Cont', 'M7-L0'),\n",
       " ('H_2O-1/J-Cont H_2O-2+CH_4/H-Cont', 'L0-L5'),\n",
       " ('H_2O-1/J-Cont H_2O-1+H_2O-2/H-Cont', 'L5-T0'),\n",
       " ('H_2O-1/J-Cont H_2O-2/H_2O-1', 'T0-T5'),\n",
       " ('H_2O-2/H_2O-1 H_2O-1+H_2O-2/J-Cont', 'T5-T9'),\n",
       " ('H_2O-1/J-Cont H_2O-2/H_2O-1', 'Y dwarfs'),\n",
       " ('H_2O-1/J-Cont CH_4/J-Cont', 'subdwarfs')]"
      ]
     },
     "execution_count": 28,
     "metadata": {},
     "output_type": "execute_result"
    }
   ],
   "source": [
    "to_use"
   ]
  },
  {
   "cell_type": "code",
   "execution_count": 29,
   "metadata": {},
   "outputs": [],
   "source": [
    "import pickle\n",
    "#save the random forest\n",
    "output_file=wisps.OUTPUT_FILES+'/best_indices_to_use.pkl'\n",
    "with open(output_file, 'wb') as file:\n",
    "    pickle.dump(to_use,file)"
   ]
  },
  {
   "cell_type": "code",
   "execution_count": 30,
   "metadata": {},
   "outputs": [],
   "source": [
    "fp={}"
   ]
  },
  {
   "cell_type": "code",
   "execution_count": 31,
   "metadata": {},
   "outputs": [],
   "source": [
    "cands=cands[cands.grism_id.isin(dt.grism_id)]"
   ]
  },
  {
   "cell_type": "code",
   "execution_count": 32,
   "metadata": {},
   "outputs": [],
   "source": [
    "def plot_index_box(index_name, box_name, ax):\n",
    "    \n",
    "    #get the index and the box\n",
    "    idx=crts[index_name]\n",
    "    bx=[x for x in idx.shapes if x.shape_name==box_name][0]\n",
    "    \n",
    "    xkey=idx.xkey\n",
    "    ykey=idx.ykey\n",
    "\n",
    "    to_use_df=spex_df\n",
    "    if box_name.lower()=='y dwarfs':\n",
    "        to_use_df=ydwarfs\n",
    "    if box_name.lower()=='subdwarfs':\n",
    "        to_use_df=wisps.Annotator.reformat_table(idx.subdwarfs)\n",
    "        to_use_df['spt']=17\n",
    "        \n",
    "    xlim=[ bx.xrange[0]-.5*abs(np.ptp(bx.xrange)), bx.xrange[1]+.5*abs(np.ptp(bx.xrange))]\n",
    "    ylim=[ bx.yrange[0]-.5*abs(np.ptp(bx.yrange)), bx.yrange[1]+.5*abs(np.ptp(bx.yrange))]\n",
    "    \n",
    "    if box_name.upper()=='T5-T9':\n",
    "        print ('changin scale')\n",
    "        print (bx.xrange[1])\n",
    "        xlim=[ bx.xrange[0]-0.2*abs(np.ptp(bx.xrange)), np.round(bx.xrange[1]+0.2*abs(np.ptp(bx.xrange)))]\n",
    "\n",
    "    \n",
    "    #remove nans from background\n",
    "    bckgrd= dt[[xkey, ykey]].replace(-np.inf, np.nan).replace(np.inf, np.nan).dropna()\n",
    "    ax.scatter(bckgrd[xkey], bckgrd[ykey], s=1, c='#111111', label='Background')\n",
    "    \n",
    "    #bckgrd=bckgrd[(bckgrd[xkey].between(xlim[0], xlim[1])) & (bckgrd[ykey].between(ylim[0], ylim[1]))]\n",
    "\n",
    "    #h=ax.hist2d(bckgrd[xkey].apply(float).values, bckgrd[ykey].apply(float).values, cmap='gist_yarg')\n",
    "    \n",
    "    cands_slctd, cands_bools=bx._select(np.array([cands[xkey].values,cands[ykey].values]))\n",
    "   \n",
    "    trash_slctd, trsh_bools=bx._select(np.array([dt[xkey].values, dt[ykey].values]))\n",
    "    \n",
    "    #simul_slctd, simul_bools=bx._select(np.array([simulated_data[xkey].values, simulated_data[ykey].values]))\n",
    "    \n",
    "    \n",
    "    cands_in_that_class_bool=(cands[ cands_bools]).spt.apply(lambda x: wisps.is_in_that_classification(x, box_name))\n",
    "    \n",
    "    spexs_slctd_in_that_class_bool= (to_use_df).spt.apply(lambda x: wisps.is_in_that_classification(x, box_name))\n",
    "    \n",
    "    #simulated_in_that_class_bool=(simulated_data[simul_bools]).spt.apply(lambda x: wisps.is_in_that_classification(x, box_name))\n",
    "    \n",
    "    if box_name.lower()=='subdwarfs':\n",
    "         spexs_slctd_in_that_class_bool=np.ones(len(to_use_df), dtype=bool)\n",
    "    \n",
    "    \n",
    "    \n",
    "    \n",
    "    cands_in_that_class=np.array([cands_slctd[0][cands_in_that_class_bool], cands_slctd[1][cands_in_that_class_bool]])\n",
    "    \n",
    "    #simulated_in_that_class= np.array([simul_slctd[0][simulated_in_that_class_bool], simul_slctd[1][simulated_in_that_class_bool]])\n",
    "    \n",
    "    spexs_slctd_in_that_class=np.array([to_use_df[xkey][spexs_slctd_in_that_class_bool], to_use_df[ykey][spexs_slctd_in_that_class_bool]])\n",
    "    \n",
    "\n",
    "    #ax.scatter( simulated_in_that_class[0],    simulated_in_that_class[1], facecolors='none', s=10, \n",
    "    #           edgecolors='#001f3f', label='simulated')\n",
    "    \n",
    "    ax.scatter(spexs_slctd_in_that_class[0], spexs_slctd_in_that_class[1], facecolors='#0074D9',  label='Templates', s=30.)\n",
    "    \n",
    "    ax.scatter(cands[xkey], cands[ykey], marker='x', facecolors='#FF851B', s=40., alpha=0.5)\n",
    "    \n",
    "    \n",
    "    ax.scatter( cands_in_that_class[0],    cands_in_that_class[1], marker='x', facecolors='#FF851B', s=40, \n",
    "               edgecolors='#FF4136', label='Candidates')\n",
    "    \n",
    "    \n",
    "    \n",
    "    \n",
    "    bx.color='None'\n",
    "    bx.alpha=1.\n",
    "    bx.linewidth=3\n",
    "    bx.linestyle='-'\n",
    "    bx.edgecolor='#0074D9'\n",
    "    bx.plot(ax=ax, only_shape=True, highlight=False)\n",
    "    \n",
    "    #cb = plt.colorbar(h[3], ax=ax, orientation='horizontal')\n",
    "    #cb.set_label('Counts in bin', fontsize=16)\n",
    "    \n",
    "    plt.tight_layout()\n",
    "    \n",
    "    ax.set_xlabel(r'$'+str(idx.name.split(' ')[0])+'$', fontsize=14)\n",
    "    ax.set_ylabel(r'$'+str(idx.name.split(' ')[1])+'$', fontsize=14)\n",
    "    \n",
    "    ax.set_title(box_name, fontsize=18)\n",
    "    \n",
    "    xbuffer=np.nanstd(to_use_df[[xkey,ykey]])\n",
    "    \n",
    "   \n",
    "    \n",
    "    ax.minorticks_on()\n",
    "    \n",
    "\n",
    "    if (trash_slctd.shape[1])==0:\n",
    "        fprate=0.0\n",
    "    else:\n",
    "        fprate=(trash_slctd.shape[1]- cands_slctd.shape[1])/trash_slctd.shape[1]\n",
    "        if box_name.lower()=='subdwarfs':\n",
    "                fprate=1.\n",
    "    \n",
    "    fp[box_name]=  fprate\n",
    "    \n",
    "        \n",
    "    ax.set_xlim(xlim)\n",
    "    ax.set_ylim(ylim)\n",
    "    \n",
    "    plt.tight_layout()\n",
    "    print (' {} selected {}'.format(box_name, len(bx.select( bckgrd))))\n",
    "    \n",
    "    return {str(box_name): bx}\n",
    "    \n",
    "    "
   ]
  },
  {
   "cell_type": "code",
   "execution_count": 51,
   "metadata": {},
   "outputs": [
    {
     "data": {
      "text/plain": [
       "[('H_2O-1/J-Cont H_2O-2+CH_4/H-Cont', 'M7-L0'),\n",
       " ('H_2O-1/J-Cont H_2O-2+CH_4/H-Cont', 'L0-L5'),\n",
       " ('H_2O-1/J-Cont H_2O-1+H_2O-2/H-Cont', 'L5-T0'),\n",
       " ('H_2O-1/J-Cont H_2O-2/H_2O-1', 'T0-T5'),\n",
       " ('H_2O-2/H_2O-1 H_2O-1+H_2O-2/J-Cont', 'T5-T9'),\n",
       " ('H_2O-1/J-Cont H_2O-2/H_2O-1', 'Y dwarfs'),\n",
       " ('H_2O-1/J-Cont CH_4/J-Cont', 'subdwarfs')]"
      ]
     },
     "execution_count": 51,
     "metadata": {},
     "output_type": "execute_result"
    }
   ],
   "source": [
    "to_use"
   ]
  },
  {
   "cell_type": "raw",
   "metadata": {},
   "source": []
  },
  {
   "cell_type": "code",
   "execution_count": 33,
   "metadata": {},
   "outputs": [],
   "source": [
    "idx=crts[to_use[1][0]]"
   ]
  },
  {
   "cell_type": "code",
   "execution_count": 52,
   "metadata": {},
   "outputs": [
    {
     "data": {
      "image/png": "[encoded data removed]",
      "text/plain": [
       "<Figure size 576x432 with 1 Axes>"
      ]
     },
     "metadata": {},
     "output_type": "display_data"
    }
   ],
   "source": [
    "plt.style.use('dark_background')\n",
    "\n",
    "fig, ax=plt.subplots(figsize=(8, 6))\n",
    "\n",
    "xkey=idx.xkey\n",
    "ykey=idx.ykey\n",
    "\n",
    "to_use_df=spex_df\n",
    "box_name='L0-L5'\n",
    "bx=[x for x in idx.shapes if x.shape_name=='L0-L5'][0]\n",
    "\n",
    "bckgrd= dt[[xkey, ykey]].replace(-np.inf, np.nan).replace(np.inf, np.nan).dropna()\n",
    "cands_slctd, cands_bools=bx._select(np.array([cands[xkey].values,cands[ykey].values]))\n",
    "\n",
    "plt.scatter(bckgrd[xkey], bckgrd[ykey], s=1, c='#DDDDDD', label='Background')\n",
    "  \n",
    "spexs_slctd_in_that_class_bool= (to_use_df).spt.apply(lambda x: wisps.is_in_that_classification(x, box_name))\n",
    "spexs_slctd_in_that_class=np.array([to_use_df[xkey][spexs_slctd_in_that_class_bool], to_use_df[ykey][spexs_slctd_in_that_class_bool]])\n",
    "\n",
    "ax.scatter(spexs_slctd_in_that_class[0], spexs_slctd_in_that_class[1], facecolors='#0074D9',  label='Templates', s=30.)\n",
    "\n",
    "\n",
    "ldfs =cands[cands.spt.between(20, 25)]\n",
    "odfs =cands[~cands.spt.between(20, 25)]\n",
    "ax.scatter(odfs[xkey], odfs[ykey], marker='x', facecolors='#FF851B', s=150., alpha=0.5, label='Candidates')\n",
    "ax.scatter(ldfs[xkey], ldfs[ykey], marker='*', facecolors='#DDDDDD', s=150., alpha=0.5, label='L0-L5')\n",
    "\n",
    "bx.color='None'\n",
    "bx.alpha=1.\n",
    "bx.linewidth=3\n",
    "bx.linestyle='-'\n",
    "bx.edgecolor='#0074D9'\n",
    "bx.plot(ax=ax, only_shape=True, highlight=False)\n",
    "\n",
    "plt.xlim([0.5, 1.5])\n",
    "plt.ylim([1., 2.5])\n",
    "plt.minorticks_on()\n",
    "\n",
    "ax.set_xlabel(r'$'+str(idx.name.split(' ')[0])+'$', fontsize=14)\n",
    "ax.set_ylabel(r'$'+str(idx.name.split(' ')[1])+'$', fontsize=14)\n",
    "\n",
    "plt.legend(loc='lower right')\n",
    "#ax.scatter( cands_in_that_class[0],    cands_in_that_class[1], marker='x', facecolors='#FF851B', s=40, \n",
    "#           edgecolors='#FF4136', label='candidates')\n",
    "#plt.tight_layout()\n",
    "plt.savefig(wisps.OUTPUT_FIGURES+ '/example_index_plot.pdf')"
   ]
  },
  {
   "cell_type": "code",
   "execution_count": 35,
   "metadata": {},
   "outputs": [
    {
     "ename": "NameError",
     "evalue": "name 'hjk' is not defined",
     "output_type": "error",
     "traceback": [
      "\u001b[0;31m---------------------------------------------------------------------------\u001b[0m",
      "\u001b[0;31mNameError\u001b[0m                                 Traceback (most recent call last)",
      "\u001b[0;32m<ipython-input-35-8d857ef865b2>\u001b[0m in \u001b[0;36m<module>\u001b[0;34m\u001b[0m\n\u001b[0;32m----> 1\u001b[0;31m \u001b[0mhjk\u001b[0m\u001b[0;34m\u001b[0m\u001b[0;34m\u001b[0m\u001b[0m\n\u001b[0m",
      "\u001b[0;31mNameError\u001b[0m: name 'hjk' is not defined"
     ]
    }
   ],
   "source": [
    "hjk"
   ]
  },
  {
   "cell_type": "code",
   "execution_count": null,
   "metadata": {},
   "outputs": [],
   "source": [
    "fig, ax=plt.subplots(nrows=3, ncols=3, figsize=(12, 14))\n",
    "\n",
    "bxs=[]\n",
    "for idx, k in enumerate(to_use):\n",
    "    print (idx, k)\n",
    "    b=plot_index_box( k[0], k[1], np.concatenate(ax)[idx])\n",
    "    bxs.append(b)\n",
    "\n",
    "\n",
    "\n",
    "plt.tight_layout()\n",
    "\n",
    "\n",
    "fig.delaxes(np.concatenate(ax)[-1])\n",
    "fig.delaxes(np.concatenate(ax)[-2])\n",
    "\n",
    "\n",
    "\n",
    "np.concatenate(ax)[-4].set_title(r'$\\geq$ T9 ', fontsize=18)\n",
    "#subdindx_index_crt=crts['H_2O-1/J-Cont H_2O-2/H_2O-1']\n",
    "#subdrfs=wisps.Annotator.reformat_table(dummy_index_crt.subdwarfs)\n",
    "#tpls=wisps.Annotator.reformat_table(spex_df[spex_df.metallicity_class.isna()])\n",
    "#a=np.concatenate(ax)[-1]\n",
    "#tpls=tpls[tpls.spt>16]\n",
    "\n",
    "#a.scatter(dt[subdindx_index_crt.xkey], dt[subdindx_index_crt.ykey], s=1., c='#111111', alpha=0.1)\n",
    "#a.scatter(tpls[subdindx_index_crt.xkey], tpls[subdindx_index_crt.ykey], marker='+', facecolors='#0074D9',  label='SpeX', s=5.)\n",
    "#a.scatter(subdrfs[subdindx_index_crt.xkey], subdrfs[subdindx_index_crt.ykey], marker='+', facecolors='#2ECC40',  label='SpeX', s=30.)\n",
    "\n",
    "\n",
    "#a.set_xlim([0., 1.35])\n",
    "#a.set_ylim([0., 1.25])\n",
    "#a.set_title('subdwarfs', fontsize=18)\n",
    "#a.set_xlabel(r'$'+str(subdindx_index_crt.name.split(' ')[0])+'$', fontsize=15)\n",
    "#a.set_ylabel(r'$'+str(subdindx_index_crt.name.split(' ')[1])+'$', fontsize=15)\n",
    "\n",
    "np.concatenate(ax)[-3].legend(loc='center left', bbox_to_anchor=(1, 0.5))\n",
    "\n",
    "plt.savefig(wisps.OUTPUT_FIGURES+'/index_index_plots.pdf', bbox_inches='tight', rasterized=True,  dpi=50000)"
   ]
  },
  {
   "cell_type": "code",
   "execution_count": null,
   "metadata": {},
   "outputs": [],
   "source": [
    "from tensorflow import keras\n",
    "\n",
    "rfdict=pd.read_pickle(wisps.OUTPUT_FILES+'/random_forest_classifier.pkl') #the classifier \n",
    "neural_network= keras.models.load_model(wisps.OUTPUT_FILES+'/deep_model_september23.h5')\n",
    "features=rfdict['feats']\n",
    "\n",
    "probs= neural_network.predict(alldata[features])\n",
    "labels=np.logical_or.reduce((probs[:, 2] >.95, probs[:,3] >.95 , probs[:,4] >0.8))\n",
    "sltc=cands[cands.grism_id.str.lower().isin((alldata[labels]).reset_index(drop=True).grism_id.values)]"
   ]
  },
  {
   "cell_type": "code",
   "execution_count": null,
   "metadata": {},
   "outputs": [],
   "source": [
    "common=dt[dt.grism_id.isin(cands.grism_id)]"
   ]
  },
  {
   "cell_type": "code",
   "execution_count": null,
   "metadata": {},
   "outputs": [],
   "source": []
  },
  {
   "cell_type": "code",
   "execution_count": null,
   "metadata": {},
   "outputs": [],
   "source": [
    "#.grism_id.to_csv('/users/caganze/desktop/true_brown_dwarfs.csv')"
   ]
  },
  {
   "cell_type": "code",
   "execution_count": null,
   "metadata": {},
   "outputs": [],
   "source": [
    "bx_dict={}\n",
    "for b in bxs:\n",
    "    bx_dict.update(b)"
   ]
  },
  {
   "cell_type": "code",
   "execution_count": null,
   "metadata": {},
   "outputs": [],
   "source": [
    "#invert to use\n",
    "inv_to_use = {v: k for k, v in to_use}"
   ]
  },
  {
   "cell_type": "code",
   "execution_count": null,
   "metadata": {},
   "outputs": [],
   "source": [
    "ncandidates=[]\n",
    "for spt_range in bx_dict.keys():\n",
    "    idx_name=inv_to_use[spt_range]\n",
    "    idx=crts[idx_name]\n",
    "    s, bools=(bx_dict[spt_range])._select(np.array([dt[idx.xkey].values, dt[idx.ykey].values]))\n",
    "    ncandidates.append(dt[bools])"
   ]
  },
  {
   "cell_type": "code",
   "execution_count": null,
   "metadata": {},
   "outputs": [],
   "source": [
    "candsss=(pd.concat(ncandidates).drop_duplicates(subset='grism_id'))\n",
    "cands.grism_id=cands.grism_id.apply(lambda x: x.lower().strip())\n",
    "good_indices=[crts[x] for x in inv_to_use.values()]"
   ]
  },
  {
   "cell_type": "code",
   "execution_count": null,
   "metadata": {},
   "outputs": [],
   "source": [
    "len(candsss), len(candsss[candsss.grism_id.isin(cands.grism_id.apply(lambda x: x.lower().strip())) & (candsss.spt.apply(wisps.make_spt_number)>16)])"
   ]
  },
  {
   "cell_type": "code",
   "execution_count": null,
   "metadata": {},
   "outputs": [],
   "source": [
    "len(candsss.drop_duplicates('grism_id'))/len(alldata)"
   ]
  },
  {
   "cell_type": "code",
   "execution_count": null,
   "metadata": {},
   "outputs": [],
   "source": [
    "len(candsss[candsss.grism_id.isin(cands.grism_id) & (candsss.spt.apply(wisps.make_spt_number)>=17)])"
   ]
  },
  {
   "cell_type": "code",
   "execution_count": null,
   "metadata": {},
   "outputs": [],
   "source": [
    "candsss.to_pickle(wisps.OUTPUT_FILES+'/selected_by_indices.pkl')"
   ]
  },
  {
   "cell_type": "code",
   "execution_count": null,
   "metadata": {},
   "outputs": [],
   "source": [
    "#print out table\n",
    "def round_tuple(tpl, n=2):\n",
    "    return round(tpl[0], n), round(tpl[1],n)\n",
    "\n",
    "for index, k in to_use:\n",
    "    spt_range=k\n",
    "    sindex=crts[index]\n",
    "    bs=sindex.shapes\n",
    "    bs=[x for x in bs if x.shape_name==spt_range]\n",
    "\n",
    "    bx=bs[0]\n",
    "    \n",
    "    print (\" {} & {} &  {} & {} & {} & {} & {} & {} & {}  & {} \\\\\\ \".format(spt_range,sindex.xkey, sindex.ykey, \n",
    "                                                                           round_tuple(bx.vertices[0]), round_tuple(bx.vertices[1])\n",
    "                                                                          , round_tuple(bx.vertices[2]), round_tuple(bx.vertices[3]),\n",
    "                                                                          round(sindex.completeness[spt_range], 2), \n",
    "                                                                            round(sindex.contamination[spt_range], 6), \n",
    "                                                                           round(fp[spt_range],6)))\n",
    "    "
   ]
  },
  {
   "cell_type": "code",
   "execution_count": null,
   "metadata": {},
   "outputs": [],
   "source": [
    "gfhjbk"
   ]
  },
  {
   "cell_type": "code",
   "execution_count": null,
   "metadata": {},
   "outputs": [],
   "source": [
    "stars= alldata[alldata.mstar_flag !=0]"
   ]
  },
  {
   "cell_type": "code",
   "execution_count": null,
   "metadata": {},
   "outputs": [],
   "source": [
    "cands_dff=(cands[np.logical_and(cands['snr1'] >=3., cands['spt'] >=17)]).sort_values('spt')\n",
    "spex_df=spex_df.sort_values('spt')\n",
    "\n",
    "star_snr=stars[['snr1', 'snr2', 'snr3', 'snr4']].apply(np.log10).dropna()\n",
    "star_snr=(star_snr[star_snr.snr1.between(-1, 4) & star_snr.snr3.between(-1, 4) & star_snr.snr4.between(-1, 4)]).reset_index(drop=True)\n",
    "\n",
    "\n",
    "fig, (ax, ax1)=plt.subplots(ncols=2, figsize=(10, 4))\n",
    "\n",
    "h=ax.hist2d(star_snr['snr1'], star_snr['snr3'], cmap='gist_yarg', bins=10, label='Point Sources')\n",
    "#ax.scatter(star_snr['snr1'], star_snr['snr3'], c='#111111', s=1, alpha=0.1)\n",
    "cb = plt.colorbar(h[3], ax=ax, orientation='horizontal')\n",
    "cb.set_label('Counts in bin', fontsize=16)\n",
    "plt.tight_layout()\n",
    "\n",
    "#ax.scatter(star_snr['snr1'],  star_snr['snr4'], s=1., c='k', alpha=0.1, \n",
    "#            label='3D-HST or WISP')\n",
    "\n",
    "\n",
    "ax.scatter(spex_df['snr1'].apply(np.log10), spex_df['snr3'].apply(np.log10),\n",
    "           marker='+', s=10, c=spex_df.spt, \n",
    "            cmap='coolwarm', label='Templates', alpha=0.1, vmin=15, vmax=40) \n",
    "\n",
    "ax.scatter(cands_dff['snr1'].apply(np.log10), cands_dff['snr3'].apply(np.log10), \n",
    "           c=cands_dff['spt'], s=400,  marker='*', cmap='coolwarm', label='UCDs'\n",
    "           , vmin=15, vmax=40) \n",
    "ax.set_xlim([-0.5, 4])\n",
    "ax.set_ylim([-0.5, 4])\n",
    "ax.set_xlabel('Log J-SNR', fontsize=18)\n",
    "ax.set_ylabel('Log H-SNR', fontsize=18)\n",
    "ax.legend(fontsize=18, loc='upper left')\n",
    "\n",
    "ax.axhline(np.log10(3), c='k', xmin=np.log10(3)-0.2, linestyle='--')\n",
    "ax.axvline(np.log10(3), c='k', ymin=np.log10(3)-0.2, linestyle='--')\n",
    "\n",
    "\n",
    "\n",
    "#ax1.scatter(stars['snr1'].apply(np.log10), stars['snr4'].apply(np.log10), s=1., c='k', alpha=0.1, \n",
    "#            label='3D-HST or WISP')\n",
    "#ax1.scatter(star_snr['snr1'], star_snr['snr4'], c='#111111', s=1, alpha=0.1)\n",
    "h1=ax1.hist2d(star_snr['snr1'], star_snr['snr4'], cmap='gist_yarg', bins=10, label='Point Sources')\n",
    "\n",
    "mp=ax1.scatter(spex_df['snr1'].apply(np.log10), spex_df['snr4'].apply(np.log10), marker='+', s=10, c=spex_df.spt, \n",
    "            cmap='coolwarm', label='Templates', alpha=0.1, vmin=15, vmax=40) \n",
    "\n",
    "ax1.scatter(cands_dff['snr1'].apply(np.log10), cands_dff['snr4'].apply(np.log10), \n",
    "                       c=cands_dff['spt'], s=400, marker='*', cmap='coolwarm', label='UCDs',  vmin=15, vmax=40) \n",
    "ax1.set_xlim([-0.5, 4])\n",
    "ax1.set_ylim([-0.5, 4])\n",
    "ax1.set_xlabel(' Log J-SNR', fontsize=18)\n",
    "ax1.set_ylabel('Log MEDIAN-SNR', fontsize=18)\n",
    "#ax.legend(fontsize=18)\n",
    "\n",
    "ax1.axhline(np.log10(3), c='k', xmin=np.log10(3)-0.2, linestyle='--')\n",
    "ax1.axvline(np.log10(3), c='k', ymin=np.log10(3)-0.2, linestyle='--')\n",
    "\n",
    "cb1 = plt.colorbar(h1[3], ax=ax1, orientation='horizontal')\n",
    "cb1.set_label('Counts in bin', fontsize=16)\n",
    "#plt.tight_layout()\n",
    "import matplotlib\n",
    "cax = fig.add_axes([1.01, 0.21, .03, 0.7])\n",
    "norm= matplotlib.colors.Normalize(vmin=15,vmax=40)\n",
    "mp=matplotlib.cm.ScalarMappable(norm=norm, cmap='coolwarm')\n",
    "cbar=plt.colorbar(mp, cax=cax, orientation='vertical')\n",
    "cbar.ax.set_ylabel(r'Spectral Type', fontsize=18)\n",
    "\n",
    "ax.minorticks_on()\n",
    "ax1.minorticks_on()\n",
    "\n",
    "cbar.ax.set_yticks([ 17, 20, 25, 30, 35, 40])\n",
    "cbar.ax.set_yticklabels(['M5', 'L0', 'L5', 'T0', 'T5', 'Y0'])\n",
    "plt.tight_layout()\n",
    "\n",
    "plt.savefig(wisps.OUTPUT_FIGURES+'/snr_cutplots.pdf', bbox_inches='tight', dpi=4000)"
   ]
  },
  {
   "cell_type": "code",
   "execution_count": null,
   "metadata": {},
   "outputs": [],
   "source": []
  },
  {
   "cell_type": "code",
   "execution_count": null,
   "metadata": {},
   "outputs": [],
   "source": [
    "stars=alldata[alldata.mstar_flag !=0 ]"
   ]
  }
 ],
 "metadata": {
  "kernelspec": {
   "display_name": "Python 3",
   "language": "python",
   "name": "python3"
  },
  "language_info": {
   "codemirror_mode": {
    "name": "ipython",
    "version": 3
   },
   "file_extension": ".py",
   "mimetype": "text/x-python",
   "name": "python",
   "nbconvert_exporter": "python",
   "pygments_lexer": "ipython3",
   "version": "3.8.5"
  }
 },
 "nbformat": 4,
 "nbformat_minor": 4
}
