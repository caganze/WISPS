{
 "cells": [
  {
   "cell_type": "code",
   "execution_count": 1,
   "metadata": {},
   "outputs": [],
   "source": [
    "import wisps \n",
    "import splat\n",
    "import numpy as np\n",
    "import numba\n",
    "import matplotlib.pyplot as plt"
   ]
  },
  {
   "cell_type": "code",
   "execution_count": 5,
   "metadata": {},
   "outputs": [],
   "source": [
    "import splat.simulate as spsim"
   ]
  },
  {
   "cell_type": "code",
   "execution_count": 7,
   "metadata": {},
   "outputs": [],
   "source": [
    "density_function=spsim.galactic_density_juric"
   ]
  },
  {
   "cell_type": "code",
   "execution_count": 10,
   "metadata": {},
   "outputs": [
    {
     "name": "stdout",
     "output_type": "stream",
     "text": [
      "(-13.93679783471827, 7.365796628137861e-13)\n",
      "(-4.114488880754228, 7.2862413532559e-13)\n"
     ]
    }
   ],
   "source": [
    "import numpy as np\n",
    "import scipy.integrate as si\n",
    "import numba\n",
    "from numba import cfunc,carray\n",
    "from numba.types import intc, CPointer, float64\n",
    "from scipy import LowLevelCallable\n",
    "\n",
    "def jit_integrand_function(integrand_function):\n",
    "    jitted_function = numba.jit(integrand_function, nopython=True)\n",
    "    @cfunc(float64(intc, CPointer(float64)))\n",
    "    def wrapped(n, xx):\n",
    "        values = carray(xx,n)\n",
    "        return jitted_function(values)\n",
    "    return LowLevelCallable(wrapped.ctypes)\n",
    "\n",
    "@jit_integrand_function\n",
    "def integrand(args):\n",
    "    return -np.exp(args.prod())\n",
    "\n",
    "#Two variable, two parameter example\n",
    "parms = np.array([2,3])\n",
    "print (si.nquad(integrand,[[0,1],[0,1]],parms))\n",
    "\n",
    "#Three variable, three parameter example\n",
    "parms2 = np.array([1,2,3])\n",
    "print (si.nquad(integrand,[[0,1],[0,1],[0,1]],parms2))"
   ]
  },
  {
   "cell_type": "code",
   "execution_count": 11,
   "metadata": {},
   "outputs": [
    {
     "name": "stdout",
     "output_type": "stream",
     "text": [
      "355 µs ± 20.4 µs per loop (mean ± std. dev. of 7 runs, 1000 loops each)\n"
     ]
    }
   ],
   "source": [
    "%timeit si.nquad(integrand,[[0,1],[0,1]],parms)"
   ]
  },
  {
   "cell_type": "code",
   "execution_count": 12,
   "metadata": {},
   "outputs": [
    {
     "data": {
      "text/plain": [
       "\u001b[0;31mSignature:\u001b[0m\n",
       "\u001b[0mdensity_function\u001b[0m\u001b[0;34m(\u001b[0m\u001b[0;34m\u001b[0m\n",
       "\u001b[0;34m\u001b[0m    \u001b[0mrc\u001b[0m\u001b[0;34m,\u001b[0m\u001b[0;34m\u001b[0m\n",
       "\u001b[0;34m\u001b[0m    \u001b[0mzc\u001b[0m\u001b[0;34m,\u001b[0m\u001b[0;34m\u001b[0m\n",
       "\u001b[0;34m\u001b[0m    \u001b[0mrho0\u001b[0m\u001b[0;34m=\u001b[0m\u001b[0;34m<\u001b[0m\u001b[0mQuantity\u001b[0m \u001b[0;36m1.\u001b[0m \u001b[0;36m1\u001b[0m \u001b[0;34m/\u001b[0m \u001b[0mpc3\u001b[0m\u001b[0;34m>\u001b[0m\u001b[0;34m,\u001b[0m\u001b[0;34m\u001b[0m\n",
       "\u001b[0;34m\u001b[0m    \u001b[0mreport\u001b[0m\u001b[0;34m=\u001b[0m\u001b[0;34m'total'\u001b[0m\u001b[0;34m,\u001b[0m\u001b[0;34m\u001b[0m\n",
       "\u001b[0;34m\u001b[0m    \u001b[0mcenter\u001b[0m\u001b[0;34m=\u001b[0m\u001b[0;34m'sun'\u001b[0m\u001b[0;34m,\u001b[0m\u001b[0;34m\u001b[0m\n",
       "\u001b[0;34m\u001b[0m    \u001b[0munit\u001b[0m\u001b[0;34m=\u001b[0m\u001b[0mUnit\u001b[0m\u001b[0;34m(\u001b[0m\u001b[0;34m\"pc\"\u001b[0m\u001b[0;34m)\u001b[0m\u001b[0;34m,\u001b[0m\u001b[0;34m\u001b[0m\n",
       "\u001b[0;34m\u001b[0m    \u001b[0;34m**\u001b[0m\u001b[0mkwargs\u001b[0m\u001b[0;34m,\u001b[0m\u001b[0;34m\u001b[0m\n",
       "\u001b[0;34m\u001b[0m\u001b[0;34m)\u001b[0m\u001b[0;34m\u001b[0m\u001b[0;34m\u001b[0m\u001b[0m\n",
       "\u001b[0;31mDocstring:\u001b[0m\n",
       ":Purpose: \n",
       "\n",
       "    Returns the local galactic star density at galactic radial (r) and vertical (z) coordinates relative to an assumed \"local\" density. \n",
       "    for the Galaxy model of `Juric et al. (2008, ApJ, 673, 864) <http://adsabs.harvard.edu/abs/2008ApJ...673..864J>`_\n",
       "    Coordinates are sun-centered unless otherwise specified\n",
       "\n",
       ":Required Inputs:\n",
       "\n",
       "    :param rc: single or array of floating points of galactic radial coordinates, assumed to be in units of pc\n",
       "    :param zc: single or array of floating points of galactic vertical coordinates, assumed to be in units of pc\n",
       "\n",
       ":Optional Inputs:\n",
       "\n",
       "    :param: rho0 = 1./pc^3: local number density\n",
       "    :param: center = 'sun': assumed center point, by default 'sun' but could also be 'galaxy'\n",
       "    :param: report = 'total: what density to report:\n",
       "\n",
       "        * 'total': (default) report the total galactic number density\n",
       "        * 'disk' or 'thin disk': report only the thin disk component\n",
       "        * 'thick disk': report the thick disk component\n",
       "        * 'halo': report the halo component\n",
       "        * 'each': return three arrays reporting the thin disk, thick disk, and halo components respectively\n",
       "\n",
       "    :param: unit = astropy.units.pc: preferred unit for positional arguments\n",
       "\n",
       ":Output: \n",
       "\n",
       "    Array(s) reporting the number density at the (r,z) coordinates provided in the same units as rho0\n",
       "\n",
       ":Example:\n",
       "\n",
       "    >>> import splat\n",
       "    >>> import splat.simulate as spsim\n",
       "    >>> import astropy.units as u\n",
       "    >>> import numpy\n",
       "    >>> c = splat.properCoordinates('J05591914-1404488',distance=10.2)\n",
       "    >>> x,y,z = splat.xyz(c)\n",
       "    >>> spsim.galactic_density_juric((x**2+y**2)**0.5,z,rho0=1.*(u.pc**(-3)),report='each')\n",
       "        (<Quantity 0.8232035246365755 1 / pc3>, <Quantity 0.10381465877236985 1 / pc3>, <Quantity 0.004517719384500654 1 / pc3>)\n",
       "    >>> z = numpy.linspace(0,10,10)\n",
       "    >>> spsim.galactic_density_juric(z*0,z,unit=u.kpc)\n",
       "        array([  9.26012756e-01,   5.45786748e-02,   1.28473366e-02,\n",
       "                 5.34605961e-03,   2.82616132e-03,   1.75923983e-03,\n",
       "                 1.21099173e-03,   8.82969121e-04,   6.66649153e-04,\n",
       "                 5.15618875e-04])    \n",
       "\u001b[0;31mFile:\u001b[0m      ~/research/splat/splat/simulate.py\n",
       "\u001b[0;31mType:\u001b[0m      function\n"
      ]
     },
     "metadata": {},
     "output_type": "display_data"
    }
   ],
   "source": [
    "density_function(r)"
   ]
  },
  {
   "cell_type": "code",
   "execution_count": null,
   "metadata": {},
   "outputs": [],
   "source": []
  }
 ],
 "metadata": {
  "kernelspec": {
   "display_name": "Python 3",
   "language": "python",
   "name": "python3"
  },
  "language_info": {
   "codemirror_mode": {
    "name": "ipython",
    "version": 3
   },
   "file_extension": ".py",
   "mimetype": "text/x-python",
   "name": "python",
   "nbconvert_exporter": "python",
   "pygments_lexer": "ipython3",
   "version": "3.6.8"
  }
 },
 "nbformat": 4,
 "nbformat_minor": 2
}
