{
 "cells": [
  {
   "cell_type": "code",
   "execution_count": 1,
   "metadata": {},
   "outputs": [],
   "source": [
    "import wisps\n",
    "import pandas as pd\n",
    "import numpy as np\n",
    "import matplotlib.pyplot as plt\n",
    "import astropy.units as u"
   ]
  },
  {
   "cell_type": "code",
   "execution_count": 2,
   "metadata": {},
   "outputs": [],
   "source": [
    "%matplotlib inline"
   ]
  },
  {
   "cell_type": "code",
   "execution_count": 3,
   "metadata": {},
   "outputs": [],
   "source": [
    "from astropy.io import fits, ascii"
   ]
  },
  {
   "cell_type": "code",
   "execution_count": 4,
   "metadata": {},
   "outputs": [],
   "source": [
    "from astropy.table import Table"
   ]
  },
  {
   "cell_type": "code",
   "execution_count": 5,
   "metadata": {},
   "outputs": [],
   "source": [
    "f=fits.open('/users/caganze/desktop/DESY3_LTcatalog.fits')"
   ]
  },
  {
   "cell_type": "code",
   "execution_count": 6,
   "metadata": {},
   "outputs": [],
   "source": [
    "t=Table(f[1].data).to_pandas()"
   ]
  },
  {
   "cell_type": "code",
   "execution_count": 7,
   "metadata": {},
   "outputs": [],
   "source": [
    "import wisps.simulations as wispsim"
   ]
  },
  {
   "cell_type": "code",
   "execution_count": 8,
   "metadata": {},
   "outputs": [],
   "source": [
    "from matplotlib.ticker import MultipleLocator"
   ]
  },
  {
   "cell_type": "code",
   "execution_count": 9,
   "metadata": {},
   "outputs": [],
   "source": [
    "%matplotlib inline"
   ]
  },
  {
   "cell_type": "code",
   "execution_count": 10,
   "metadata": {},
   "outputs": [
    {
     "data": {
      "text/plain": [
       "Index(['COADD_OBJECT_ID', 'RA', 'DEC', 'SPT_PHOT', 'NBANDS', 'XI2_CLASSIF',\n",
       "       'DISTANCE_AVG', 'DISTANCE_Z', 'HPIX_512', 'PECULIAR', 'PSF_MAG_I',\n",
       "       'PSF_MAGERR_I', 'PSF_MAG_Z', 'PSF_MAGERR_Z', 'AUTO_MAG_Y',\n",
       "       'AUTO_MAGERR_Y', 'JAPERMAG3', 'JAPERMAG3ERR', 'HAPERMAG3',\n",
       "       'HAPERMAG3ERR', 'KSAPERMAG3', 'KSAPERMAG3ERR', 'W1MPRO', 'W1SIGMPRO',\n",
       "       'W2MPRO', 'W2SIGMPRO'],\n",
       "      dtype='object')"
      ]
     },
     "execution_count": 10,
     "metadata": {},
     "output_type": "execute_result"
    }
   ],
   "source": [
    "t.columns"
   ]
  },
  {
   "cell_type": "code",
   "execution_count": 11,
   "metadata": {},
   "outputs": [],
   "source": [
    "#t['W2MPRO'].replace(-9999., np.nan).dropna()"
   ]
  },
  {
   "cell_type": "code",
   "execution_count": 12,
   "metadata": {},
   "outputs": [
    {
     "data": {
      "image/png": "[encoded data removed]",
      "text/plain": [
       "<Figure size 480x240 with 1 Axes>"
      ]
     },
     "metadata": {},
     "output_type": "display_data"
    }
   ],
   "source": [
    "p=plt.hist(t['AUTO_MAG_Y'].replace(-9999., np.nan).dropna(), bins='auto', histtype='step')\n",
    "plt.xlabel('Y mag')\n",
    "ml = MultipleLocator(.5)\n",
    "plt.gca().xaxis.set_minor_locator(ml)\n",
    "plt.grid(which='both')\n",
    "plt.show()"
   ]
  },
  {
   "cell_type": "code",
   "execution_count": 13,
   "metadata": {},
   "outputs": [],
   "source": [
    "import splat.empirical as spe"
   ]
  },
  {
   "cell_type": "code",
   "execution_count": 14,
   "metadata": {},
   "outputs": [
    {
     "data": {
      "text/plain": [
       "{'fitunc': 0.4,\n",
       " 'range': [16.0, 39.0],\n",
       " 'coeff': [-2.52638e-06,\n",
       "  0.000285027,\n",
       "  -0.0126151,\n",
       "  0.279438,\n",
       "  -3.26895,\n",
       "  19.5444,\n",
       "  -35.156]}"
      ]
     },
     "execution_count": 14,
     "metadata": {},
     "output_type": "execute_result"
    }
   ],
   "source": [
    "spe.SPT_ABSMAG_RELATIONS['dupuy2012']['filters']['MKO_Y']#['coeff']"
   ]
  },
  {
   "cell_type": "code",
   "execution_count": 15,
   "metadata": {},
   "outputs": [],
   "source": [
    "coeffs=spe.SPT_ABSMAG_RELATIONS['dupuy2012']['filters']['MKO_Y']['coeff']"
   ]
  },
  {
   "cell_type": "code",
   "execution_count": 16,
   "metadata": {},
   "outputs": [],
   "source": [
    "import splat\n",
    "import splat.empirical as spe"
   ]
  },
  {
   "cell_type": "code",
   "execution_count": 17,
   "metadata": {},
   "outputs": [],
   "source": [
    "bright=18.\n",
    "faint= 21."
   ]
  },
  {
   "cell_type": "code",
   "execution_count": 18,
   "metadata": {},
   "outputs": [
    {
     "name": "stdout",
     "output_type": "stream",
     "text": [
      "12.657973352040408 466.02083059965213 117.05914011840905\n",
      "12.947994544177774 407.756686237186 102.42384875164964\n",
      "13.305117409534759 345.92067370480953 86.89134466577637\n",
      "13.728438357247889 284.6507474561908 71.50103502542656\n",
      "14.180672283962231 231.1349089860026 58.05846417301419\n",
      "14.63376632799865 187.606004563393 47.12449773325114\n",
      "15.025997655360733 156.6031411601733 39.33693054120189\n",
      "15.339081772715964 135.57625879632144 34.05521649053113\n",
      "15.55209449608087 122.90826858394618 30.873161217634973\n",
      "15.648746900903916 117.5575752802569 29.529127826764324\n",
      "15.638396934806671 118.11923158599699 29.670209512120376\n",
      "15.549455949217247 123.05770466809514 30.91069786485012\n",
      "15.427143474236154 130.188104891136 32.70177342199904\n",
      "15.326781899409717 136.34638257982655 34.24866283876806\n",
      "15.322312511040352 136.62730371486415 34.319227037510565\n",
      "15.478417897981117 127.15001636372268 31.938640087025604\n",
      "15.863678403888564 106.47908714162047 26.746337423056257\n",
      "16.52945446025639 78.36264887846063 19.683807445495464\n",
      "17.49296146988266 50.28143990269307 12.630126664833915\n",
      "18.71284000885558 28.670284215119818 7.201649790748276\n"
     ]
    }
   ],
   "source": [
    "spts=[]\n",
    "max_dist=[]\n",
    "min_dist=[]\n",
    "nbr=[]\n",
    "for spt, grp in t.groupby('SPT_PHOT'):\n",
    "    #print (spt()\n",
    "    spts.append(spt+10.)\n",
    "    \n",
    "    sptr=np.nanmean(np.random.normal(spt, 0.29, 1000))\n",
    "    absmag=np.polyval(coeffs, sptr)\n",
    "    dmax=(10.**(-(absmag-faint)/5. + 1.))\n",
    "    dmin=(10.**(-(absmag-bright)/5. + 1.))\n",
    "    \n",
    "    print (absmag, dmax, dmin)\n",
    "\n",
    "    max_dist.append(dmax)\n",
    "    min_dist.append(dmin)\n",
    "    nbr.append(len(grp))"
   ]
  },
  {
   "cell_type": "code",
   "execution_count": 19,
   "metadata": {},
   "outputs": [],
   "source": [
    "area=2400*(u.deg**2).to(u.radian**2)\n",
    "sold=(np.sin(np.sqrt(area)))**2.0\n",
    "vols=sold*(np.array(max_dist)**3.-np.array(min_dist)**3.)"
   ]
  },
  {
   "cell_type": "code",
   "execution_count": 20,
   "metadata": {},
   "outputs": [],
   "source": [
    "lf=wisps.LUMINOSITY_FUCTION"
   ]
  },
  {
   "cell_type": "code",
   "execution_count": 21,
   "metadata": {},
   "outputs": [],
   "source": [
    "spts=np.array(spts)"
   ]
  },
  {
   "cell_type": "code",
   "execution_count": 22,
   "metadata": {},
   "outputs": [],
   "source": [
    "mask=np.logical_and(spts>=20., spts<=37.)"
   ]
  },
  {
   "cell_type": "code",
   "execution_count": 23,
   "metadata": {},
   "outputs": [],
   "source": [
    "mask2=np.logical_and(lf.spts.values>=20., lf.spts.values<=37.)"
   ]
  },
  {
   "cell_type": "code",
   "execution_count": 24,
   "metadata": {},
   "outputs": [],
   "source": [
    "%matplotlib inline"
   ]
  },
  {
   "cell_type": "code",
   "execution_count": 25,
   "metadata": {},
   "outputs": [
    {
     "data": {
      "image/png": "[encoded data removed]",
      "text/plain": [
       "<Figure size 480x320 with 1 Axes>"
      ]
     },
     "metadata": {},
     "output_type": "display_data"
    }
   ],
   "source": [
    "fig, ax=plt.subplots(figsize=(6, 4))\n",
    "plt.step(spts[mask], (nbr/vols)[mask], label='DES')\n",
    "#plt.scatter(lf.spts[mask2], lf.lsfim[mask2], marker='.', label='Simulated', c='orange')\n",
    "ml = MultipleLocator(1.)\n",
    "plt.gca().xaxis.set_minor_locator(ml)\n",
    "#plt.yscale('log')\n",
    "plt.xlabel('SpT')\n",
    "plt.ylabel(r'pc$^{-3}$ SpT $^{-1}$')\n",
    "plt.legend(fontsize=12)\n",
    "plt.show()"
   ]
  },
  {
   "cell_type": "code",
   "execution_count": 26,
   "metadata": {},
   "outputs": [],
   "source": [
    "deslf=pd.DataFrame()"
   ]
  },
  {
   "cell_type": "code",
   "execution_count": 27,
   "metadata": {},
   "outputs": [],
   "source": [
    "deslf['spts']=spts\n",
    "deslf['lf']=(nbr/vols)"
   ]
  },
  {
   "cell_type": "code",
   "execution_count": 28,
   "metadata": {},
   "outputs": [],
   "source": [
    "deslf.to_pickle(wisps.OUTPUT_FILES+'/des_luminosity_function.pkl')"
   ]
  },
  {
   "cell_type": "code",
   "execution_count": null,
   "metadata": {},
   "outputs": [],
   "source": []
  }
 ],
 "metadata": {
  "kernelspec": {
   "display_name": "Python 3",
   "language": "python",
   "name": "python3"
  },
  "language_info": {
   "codemirror_mode": {
    "name": "ipython",
    "version": 3
   },
   "file_extension": ".py",
   "mimetype": "text/x-python",
   "name": "python",
   "nbconvert_exporter": "python",
   "pygments_lexer": "ipython3",
   "version": "3.7.3"
  }
 },
 "nbformat": 4,
 "nbformat_minor": 2
}
