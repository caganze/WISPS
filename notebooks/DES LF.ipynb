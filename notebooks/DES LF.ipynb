{
 "cells": [
  {
   "cell_type": "code",
   "execution_count": 1,
   "metadata": {},
   "outputs": [],
   "source": [
    "import wisps\n",
    "import pandas as pd\n",
    "import numpy as np\n",
    "import matplotlib.pyplot as plt\n",
    "import wisps.simulations as wispsim\n",
    "import astropy.units as u\n",
    "import splat.empirical as spe\n",
    "import splat"
   ]
  },
  {
   "cell_type": "markdown",
   "metadata": {},
   "source": [
    "Purpose: compare various luminosity functions"
   ]
  },
  {
   "cell_type": "code",
   "execution_count": 2,
   "metadata": {},
   "outputs": [],
   "source": [
    "%matplotlib inline"
   ]
  },
  {
   "cell_type": "code",
   "execution_count": 3,
   "metadata": {},
   "outputs": [],
   "source": [
    "baraffe=wispsim.make_systems(model_name='baraffe2003', bfraction=0.2)\n",
    "saumon=wispsim.make_systems(model_name='saumon2008', bfraction=0.2)\n",
    "sonora=wispsim.make_systems(model_name='marley2019', bfraction=0.2)\n",
    "phillips=wispsim.make_systems(model_name='phillips2020', bfraction=0.2)"
   ]
  },
  {
   "cell_type": "code",
   "execution_count": 4,
   "metadata": {},
   "outputs": [],
   "source": [
    "from astropy.io import ascii"
   ]
  },
  {
   "cell_type": "code",
   "execution_count": 5,
   "metadata": {},
   "outputs": [],
   "source": [
    "klf=pd.read_csv('/users/caganze/research/wisps/data/kirkpatricklf.txt', delimiter=',')\n",
    "dntb=ascii.read('/users/caganze/research/wisps/data/daniellalf.txt').to_pandas()"
   ]
  },
  {
   "cell_type": "code",
   "execution_count": 6,
   "metadata": {},
   "outputs": [],
   "source": [
    "def splat_mag_to_spt(mag):\n",
    "    grid=np.arange(17, 39)\n",
    "    rel=spe.typeToMag(grid, 'MKO_J',reference='dupuy2012')[0]\n",
    "    vals= np.polyval(rel, grid)\n",
    "    spt_sorted_idx=np.argsort(vals)\n",
    "    return np.interp(mag, vals[spt_sorted_idx], grid[spt_sorted_idx])\n",
    "       "
   ]
  },
  {
   "cell_type": "code",
   "execution_count": 7,
   "metadata": {},
   "outputs": [],
   "source": [
    "klf['tfm']=np.mean(np.array([klf.t0.values, klf.tf.values]), axis=0)"
   ]
  },
  {
   "cell_type": "code",
   "execution_count": 8,
   "metadata": {},
   "outputs": [],
   "source": [
    "klf['spt']=klf.tfm.apply(wispsim.splat_teff_to_spt).apply(round)"
   ]
  },
  {
   "cell_type": "code",
   "execution_count": 9,
   "metadata": {},
   "outputs": [],
   "source": [
    "klf=klf.applymap(float)"
   ]
  },
  {
   "cell_type": "code",
   "execution_count": 10,
   "metadata": {},
   "outputs": [],
   "source": [
    "dntb['spt']=dntb.M_J.apply(splat_mag_to_spt)"
   ]
  },
  {
   "cell_type": "code",
   "execution_count": 11,
   "metadata": {},
   "outputs": [
    {
     "data": {
      "text/html": [
       "<div>\n",
       "<style scoped>\n",
       "    .dataframe tbody tr th:only-of-type {\n",
       "        vertical-align: middle;\n",
       "    }\n",
       "\n",
       "    .dataframe tbody tr th {\n",
       "        vertical-align: top;\n",
       "    }\n",
       "\n",
       "    .dataframe thead th {\n",
       "        text-align: right;\n",
       "    }\n",
       "</style>\n",
       "<table border=\"1\" class=\"dataframe\">\n",
       "  <thead>\n",
       "    <tr style=\"text-align: right;\">\n",
       "      <th></th>\n",
       "      <th>M_J</th>\n",
       "      <th>N</th>\n",
       "      <th>N_trig</th>\n",
       "      <th>N_phot</th>\n",
       "      <th>SFplx</th>\n",
       "      <th>SFphot</th>\n",
       "      <th>N_corrected</th>\n",
       "      <th>Density</th>\n",
       "      <th>spt</th>\n",
       "    </tr>\n",
       "  </thead>\n",
       "  <tbody>\n",
       "    <tr>\n",
       "      <th>0</th>\n",
       "      <td>9.75</td>\n",
       "      <td>4</td>\n",
       "      <td>4</td>\n",
       "      <td>0</td>\n",
       "      <td>0.15</td>\n",
       "      <td>0.16</td>\n",
       "      <td>38.65</td>\n",
       "      <td>0.928</td>\n",
       "      <td>17.0</td>\n",
       "    </tr>\n",
       "    <tr>\n",
       "      <th>1</th>\n",
       "      <td>10.25</td>\n",
       "      <td>51</td>\n",
       "      <td>41</td>\n",
       "      <td>10</td>\n",
       "      <td>0.27</td>\n",
       "      <td>0.27</td>\n",
       "      <td>273.75</td>\n",
       "      <td>6.570</td>\n",
       "      <td>17.0</td>\n",
       "    </tr>\n",
       "    <tr>\n",
       "      <th>2</th>\n",
       "      <td>10.75</td>\n",
       "      <td>68</td>\n",
       "      <td>60</td>\n",
       "      <td>8</td>\n",
       "      <td>0.66</td>\n",
       "      <td>0.61</td>\n",
       "      <td>150.76</td>\n",
       "      <td>3.620</td>\n",
       "      <td>17.0</td>\n",
       "    </tr>\n",
       "    <tr>\n",
       "      <th>3</th>\n",
       "      <td>11.25</td>\n",
       "      <td>50</td>\n",
       "      <td>49</td>\n",
       "      <td>1</td>\n",
       "      <td>0.92</td>\n",
       "      <td>0.80</td>\n",
       "      <td>79.00</td>\n",
       "      <td>1.900</td>\n",
       "      <td>17.0</td>\n",
       "    </tr>\n",
       "    <tr>\n",
       "      <th>4</th>\n",
       "      <td>11.75</td>\n",
       "      <td>41</td>\n",
       "      <td>39</td>\n",
       "      <td>2</td>\n",
       "      <td>0.96</td>\n",
       "      <td>0.79</td>\n",
       "      <td>62.55</td>\n",
       "      <td>1.500</td>\n",
       "      <td>17.0</td>\n",
       "    </tr>\n",
       "    <tr>\n",
       "      <th>5</th>\n",
       "      <td>12.25</td>\n",
       "      <td>30</td>\n",
       "      <td>28</td>\n",
       "      <td>2</td>\n",
       "      <td>0.96</td>\n",
       "      <td>0.78</td>\n",
       "      <td>45.99</td>\n",
       "      <td>1.100</td>\n",
       "      <td>17.0</td>\n",
       "    </tr>\n",
       "    <tr>\n",
       "      <th>6</th>\n",
       "      <td>12.75</td>\n",
       "      <td>25</td>\n",
       "      <td>24</td>\n",
       "      <td>1</td>\n",
       "      <td>0.92</td>\n",
       "      <td>0.76</td>\n",
       "      <td>39.71</td>\n",
       "      <td>0.940</td>\n",
       "      <td>17.0</td>\n",
       "    </tr>\n",
       "    <tr>\n",
       "      <th>7</th>\n",
       "      <td>13.25</td>\n",
       "      <td>26</td>\n",
       "      <td>24</td>\n",
       "      <td>2</td>\n",
       "      <td>0.76</td>\n",
       "      <td>0.62</td>\n",
       "      <td>50.44</td>\n",
       "      <td>1.210</td>\n",
       "      <td>17.0</td>\n",
       "    </tr>\n",
       "    <tr>\n",
       "      <th>8</th>\n",
       "      <td>13.75</td>\n",
       "      <td>16</td>\n",
       "      <td>14</td>\n",
       "      <td>2</td>\n",
       "      <td>0.53</td>\n",
       "      <td>0.38</td>\n",
       "      <td>45.91</td>\n",
       "      <td>1.100</td>\n",
       "      <td>17.0</td>\n",
       "    </tr>\n",
       "  </tbody>\n",
       "</table>\n",
       "</div>"
      ],
      "text/plain": [
       "     M_J   N  N_trig  N_phot  SFplx  SFphot  N_corrected  Density   spt\n",
       "0   9.75   4       4       0   0.15    0.16        38.65    0.928  17.0\n",
       "1  10.25  51      41      10   0.27    0.27       273.75    6.570  17.0\n",
       "2  10.75  68      60       8   0.66    0.61       150.76    3.620  17.0\n",
       "3  11.25  50      49       1   0.92    0.80        79.00    1.900  17.0\n",
       "4  11.75  41      39       2   0.96    0.79        62.55    1.500  17.0\n",
       "5  12.25  30      28       2   0.96    0.78        45.99    1.100  17.0\n",
       "6  12.75  25      24       1   0.92    0.76        39.71    0.940  17.0\n",
       "7  13.25  26      24       2   0.76    0.62        50.44    1.210  17.0\n",
       "8  13.75  16      14       2   0.53    0.38        45.91    1.100  17.0"
      ]
     },
     "execution_count": 11,
     "metadata": {},
     "output_type": "execute_result"
    }
   ],
   "source": [
    "dntb"
   ]
  },
  {
   "cell_type": "code",
   "execution_count": 12,
   "metadata": {},
   "outputs": [
    {
     "data": {
      "text/html": [
       "<div>\n",
       "<style scoped>\n",
       "    .dataframe tbody tr th:only-of-type {\n",
       "        vertical-align: middle;\n",
       "    }\n",
       "\n",
       "    .dataframe tbody tr th {\n",
       "        vertical-align: top;\n",
       "    }\n",
       "\n",
       "    .dataframe thead th {\n",
       "        text-align: right;\n",
       "    }\n",
       "</style>\n",
       "<table border=\"1\" class=\"dataframe\">\n",
       "  <thead>\n",
       "    <tr style=\"text-align: right;\">\n",
       "      <th></th>\n",
       "      <th>t0</th>\n",
       "      <th>tf</th>\n",
       "      <th>lf</th>\n",
       "      <th>lfunc</th>\n",
       "      <th>tfm</th>\n",
       "      <th>spt</th>\n",
       "    </tr>\n",
       "  </thead>\n",
       "  <tbody>\n",
       "    <tr>\n",
       "      <th>0</th>\n",
       "      <td>1950.0</td>\n",
       "      <td>2100.0</td>\n",
       "      <td>0.57</td>\n",
       "      <td>0.20</td>\n",
       "      <td>2025.0</td>\n",
       "      <td>23.0</td>\n",
       "    </tr>\n",
       "    <tr>\n",
       "      <th>1</th>\n",
       "      <td>1800.0</td>\n",
       "      <td>1950.0</td>\n",
       "      <td>0.48</td>\n",
       "      <td>0.12</td>\n",
       "      <td>1875.0</td>\n",
       "      <td>23.0</td>\n",
       "    </tr>\n",
       "    <tr>\n",
       "      <th>2</th>\n",
       "      <td>1650.0</td>\n",
       "      <td>1800.0</td>\n",
       "      <td>0.63</td>\n",
       "      <td>0.09</td>\n",
       "      <td>1725.0</td>\n",
       "      <td>23.0</td>\n",
       "    </tr>\n",
       "    <tr>\n",
       "      <th>3</th>\n",
       "      <td>1500.0</td>\n",
       "      <td>1650.0</td>\n",
       "      <td>0.78</td>\n",
       "      <td>0.11</td>\n",
       "      <td>1575.0</td>\n",
       "      <td>26.0</td>\n",
       "    </tr>\n",
       "    <tr>\n",
       "      <th>4</th>\n",
       "      <td>1350.0</td>\n",
       "      <td>1500.0</td>\n",
       "      <td>0.00</td>\n",
       "      <td>0.00</td>\n",
       "      <td>1425.0</td>\n",
       "      <td>25.0</td>\n",
       "    </tr>\n",
       "    <tr>\n",
       "      <th>5</th>\n",
       "      <td>1200.0</td>\n",
       "      <td>1350.0</td>\n",
       "      <td>0.00</td>\n",
       "      <td>0.00</td>\n",
       "      <td>1275.0</td>\n",
       "      <td>29.0</td>\n",
       "    </tr>\n",
       "    <tr>\n",
       "      <th>6</th>\n",
       "      <td>1050.0</td>\n",
       "      <td>1200.0</td>\n",
       "      <td>0.00</td>\n",
       "      <td>0.00</td>\n",
       "      <td>1125.0</td>\n",
       "      <td>33.0</td>\n",
       "    </tr>\n",
       "    <tr>\n",
       "      <th>7</th>\n",
       "      <td>900.0</td>\n",
       "      <td>1050.0</td>\n",
       "      <td>1.12</td>\n",
       "      <td>0.00</td>\n",
       "      <td>975.0</td>\n",
       "      <td>35.0</td>\n",
       "    </tr>\n",
       "    <tr>\n",
       "      <th>8</th>\n",
       "      <td>750.0</td>\n",
       "      <td>900.0</td>\n",
       "      <td>1.68</td>\n",
       "      <td>0.23</td>\n",
       "      <td>825.0</td>\n",
       "      <td>37.0</td>\n",
       "    </tr>\n",
       "    <tr>\n",
       "      <th>9</th>\n",
       "      <td>600.0</td>\n",
       "      <td>750.0</td>\n",
       "      <td>3.55</td>\n",
       "      <td>0.51</td>\n",
       "      <td>675.0</td>\n",
       "      <td>39.0</td>\n",
       "    </tr>\n",
       "    <tr>\n",
       "      <th>10</th>\n",
       "      <td>450.0</td>\n",
       "      <td>600.0</td>\n",
       "      <td>4.50</td>\n",
       "      <td>0.81</td>\n",
       "      <td>525.0</td>\n",
       "      <td>41.0</td>\n",
       "    </tr>\n",
       "    <tr>\n",
       "      <th>11</th>\n",
       "      <td>300.0</td>\n",
       "      <td>450.0</td>\n",
       "      <td>3.75</td>\n",
       "      <td>0.00</td>\n",
       "      <td>375.0</td>\n",
       "      <td>42.0</td>\n",
       "    </tr>\n",
       "    <tr>\n",
       "      <th>12</th>\n",
       "      <td>150.0</td>\n",
       "      <td>300.0</td>\n",
       "      <td>0.00</td>\n",
       "      <td>0.00</td>\n",
       "      <td>225.0</td>\n",
       "      <td>42.0</td>\n",
       "    </tr>\n",
       "  </tbody>\n",
       "</table>\n",
       "</div>"
      ],
      "text/plain": [
       "        t0      tf    lf  lfunc     tfm   spt\n",
       "0   1950.0  2100.0  0.57   0.20  2025.0  23.0\n",
       "1   1800.0  1950.0  0.48   0.12  1875.0  23.0\n",
       "2   1650.0  1800.0  0.63   0.09  1725.0  23.0\n",
       "3   1500.0  1650.0  0.78   0.11  1575.0  26.0\n",
       "4   1350.0  1500.0  0.00   0.00  1425.0  25.0\n",
       "5   1200.0  1350.0  0.00   0.00  1275.0  29.0\n",
       "6   1050.0  1200.0  0.00   0.00  1125.0  33.0\n",
       "7    900.0  1050.0  1.12   0.00   975.0  35.0\n",
       "8    750.0   900.0  1.68   0.23   825.0  37.0\n",
       "9    600.0   750.0  3.55   0.51   675.0  39.0\n",
       "10   450.0   600.0  4.50   0.81   525.0  41.0\n",
       "11   300.0   450.0  3.75   0.00   375.0  42.0\n",
       "12   150.0   300.0  0.00   0.00   225.0  42.0"
      ]
     },
     "execution_count": 12,
     "metadata": {},
     "output_type": "execute_result"
    }
   ],
   "source": [
    "klf"
   ]
  },
  {
   "cell_type": "code",
   "execution_count": 13,
   "metadata": {},
   "outputs": [],
   "source": [
    "def ryan_lf(J):\n",
    "    logphi=-0.30 + 0.11*(J-14) + 0.15*(J -14)**2.+ 0.015*(J-14)**3-0.00020*(J-14)**4\n",
    "    return (10**logphi)*(10**-3)\n",
    "\n",
    "    \n",
    "def custom_histogram(things, grid, binsize):\n",
    "    n=[]\n",
    "    for g in grid:\n",
    "        n.append(len(things[np.logical_and(g<=things, things< g+binsize)]))\n",
    "    return np.array(n)"
   ]
  },
  {
   "cell_type": "code",
   "execution_count": 14,
   "metadata": {},
   "outputs": [],
   "source": [
    "from astropy.io import ascii"
   ]
  },
  {
   "cell_type": "code",
   "execution_count": 15,
   "metadata": {},
   "outputs": [],
   "source": [
    "jgrid=np.arange(10, 18, .5)\n",
    "teffgrid=np.arange(50, 4000, 150)"
   ]
  },
  {
   "cell_type": "code",
   "execution_count": null,
   "metadata": {},
   "outputs": [],
   "source": []
  },
  {
   "cell_type": "code",
   "execution_count": 16,
   "metadata": {},
   "outputs": [],
   "source": [
    "teffs_bar=baraffe['system_teff']\n",
    "teffs_saumon=saumon['system_teff']\n",
    "teffs_sonora=sonora['system_teff']\n",
    "teffs_phil=phillips['system_teff']\n",
    "\n",
    "normteff_bar = 0.63*(10**-3)/ len(teffs_bar[np.logical_and(teffs_bar>=1650, teffs_bar <=1800)])\n",
    "normteff_saumon = 0.63*(10**-3)/ len(teffs_saumon[np.logical_and(teffs_saumon>=1650, teffs_saumon <=1800)])\n",
    "normteff_sonora= 0.63*(10**-3)/ len(teffs_sonora[np.logical_and(teffs_sonora>=1650, teffs_sonora <=1800)])\n",
    "normteff_phil=0.63*(10**-3)/ len(teffs_phil[np.logical_and(teffs_phil>=1650, teffs_phil <=1800)])\n",
    "#jmags=wisps.drop_nan(spe.typeToMag(SIMULATED_DIST['spts'][0], '2MASS J')[0])\n",
    "#jnorm=6.570*(10**-3)/len(jmags[np.logical_and(jmags>=10.25-.25, jmags <=10.25+.25)])"
   ]
  },
  {
   "cell_type": "code",
   "execution_count": 17,
   "metadata": {},
   "outputs": [],
   "source": [
    "#sem_emp_phi_j=custom_histogram(jmags, jgrid, .5)*jnorm\n",
    "baraffe_phi_teff=custom_histogram(teffs_bar, teffgrid, 150)*normteff_bar\n",
    "saumon_phi_teff=custom_histogram(teffs_saumon, teffgrid, 150)*normteff_saumon\n",
    "sonora_phi_teff=custom_histogram(teffs_sonora, teffgrid, 150)*normteff_sonora\n",
    "phil_phi_teff=custom_histogram(teffs_phil, teffgrid, 150)*normteff_phil\n",
    "\n"
   ]
  },
  {
   "cell_type": "code",
   "execution_count": 18,
   "metadata": {},
   "outputs": [],
   "source": [
    "#count how many things are in the masses of 0.1 and stuff and compare to 0.005 pc to 0.0037 pc^3\n",
    "\n",
    "#2 things doing this \n",
    "\n",
    "#teff-> bolometric correction -> simulated luminosity ---> magnitude\n",
    "\n",
    "#try will best's 2018 relation \n",
    "#and that we dont't complete samples for some magnitudes \n",
    "#compare to bochanski's measurement\n",
    "#look at the scale factors between those two plots you might you want\n",
    "\n",
    "#you should be plotting the fits that are \n",
    "#invert relations\n",
    "\n",
    "#invert\n",
    "\n",
    "#binary fraction (how many)\n",
    "#binary fraction random 20% \n",
    "#binary mass ratio from a distribution from splat (allen et al. from splat)\n",
    "#the secondary have a magnitude \n",
    "#the bianay \n",
    "#mag of the system by combining the flux\n",
    "#hst magnitude of the secondary by adding the \n",
    "#adding the\n",
    "#everything is laid out in burgasser 2007\n",
    "#educational exercise to find thre number of stars and brown dwarfs\n"
   ]
  },
  {
   "cell_type": "code",
   "execution_count": 19,
   "metadata": {},
   "outputs": [],
   "source": [
    "import seaborn as sns"
   ]
  },
  {
   "cell_type": "code",
   "execution_count": 20,
   "metadata": {},
   "outputs": [],
   "source": [
    "sns.set_palette('viridis')"
   ]
  },
  {
   "cell_type": "code",
   "execution_count": 21,
   "metadata": {},
   "outputs": [
    {
     "data": {
      "image/png": "[encoded data removed]",
      "text/plain": [
       "<Figure size 576x360 with 1 Axes>"
      ]
     },
     "metadata": {
      "needs_background": "light"
     },
     "output_type": "display_data"
    }
   ],
   "source": [
    "fig, ax1=plt.subplots(figsize=(8, 5), ncols=1)\n",
    "#ax.step(jgrid, sem_emp_phi_j, color='#0074D9', label='Simulated')\n",
    "#ax.step(jgrid,  ryan_lf(jgrid), color='#FF4136', label='RyanJr2017')\n",
    "#ax.errorbar(dntb.M_J, dntb.Density*(10**-3), fmt='o', c='k', label='BG2019')\n",
    "\n",
    "#ax.set_xlabel('J', fontsize=18)\n",
    "#ax.set_ylabel(r'LF [pc$^{-3}$ mag$^{-1} $]', fontsize=18)\n",
    "#ax.minorticks_on()\n",
    "#ax.legend(fontsize=18)\n",
    "#ax.set_xlim([10, 16])\n",
    "#ax.set_ylim([0., 0.005])\n",
    "\n",
    "ax1.step(teffgrid, baraffe_phi_teff,  where='mid')\n",
    "ax1.step(teffgrid, saumon_phi_teff, where='mid')\n",
    "ax1.step(teffgrid, sonora_phi_teff, where='mid')\n",
    "ax1.step(teffgrid, phil_phi_teff,  where='mid')\n",
    "for index, row in klf.iterrows():\n",
    "    if row.lf==0.0:\n",
    "        pass\n",
    "    elif row.lfunc==0.0:\n",
    "        ax1.errorbar(row.tfm,  row.lf*(10**-3), yerr=0.0005, color='#111111', fmt='o',lolims=True, ls='none')\n",
    "    else:\n",
    "        ax1.errorbar(row.tfm,  row.lf*(10**-3),  yerr=row.lfunc*(10**-3), color='#111111', fmt='o')\n",
    "ax1.set_xlabel(r'T$_{eff}$ [K]', fontsize=18)\n",
    "ax1.set_ylabel(r'$\\frac{dN}{dTeff}$ [ K$^{-1}$ pc$^{-3}$]', fontsize=18)\n",
    "ax1.minorticks_on()\n",
    "ax1.legend(fontsize=18, labels=['B03',  'SM03',  'Sonora',  'P20', 'K19',])\n",
    "ax1.set_xlim([3000, 100.])\n",
    "plt.tight_layout()\n",
    "plt.savefig(wisps.OUTPUT_FIGURES+'/lfs_teffs.pdf')"
   ]
  },
  {
   "cell_type": "code",
   "execution_count": 22,
   "metadata": {},
   "outputs": [],
   "source": [
    "js_saumon=wisps.absolute_magnitude_jh(np.sort(saumon['system_spts'].flatten()))[0]\n",
    "js_bar=wisps.absolute_magnitude_jh(np.sort( baraffe['system_spts'].flatten()))[0]\n",
    "js_sonora=wisps.absolute_magnitude_jh(np.sort( sonora['system_spts'].flatten()))[0]\n",
    "js_phil=wisps.absolute_magnitude_jh(np.sort( phillips['system_spts'].flatten()))[0]"
   ]
  },
  {
   "cell_type": "code",
   "execution_count": 23,
   "metadata": {},
   "outputs": [],
   "source": [
    "jgrid=np.arange(10, 16, .5)"
   ]
  },
  {
   "cell_type": "code",
   "execution_count": 24,
   "metadata": {},
   "outputs": [],
   "source": [
    "normjs_bar = 1.5*(10**-3)/ len(js_bar[np.logical_and(js_bar>=11.75, js_bar <11.75+0.5)])\n",
    "normjs_saumon = 1.5*(10**-3)/ len(js_saumon[np.logical_and(js_saumon>=11.75,js_saumon<11.75+0.5)])\n",
    "normjs_sonora=1.5*(10**-3)/ len(js_sonora[np.logical_and(js_sonora>=11.75,js_sonora<11.75+0.5)])\n",
    "normjs_phil=1.5*(10**-3)/ len(js_phil[np.logical_and(js_phil>=11.75,js_phil<11.75+0.5)])\n",
    "\n",
    "baraffe_phi_j=custom_histogram(js_bar, jgrid, 0.5)*normjs_bar\n",
    "saumon_phi_j=custom_histogram(js_saumon, jgrid,0.5)*normjs_saumon\n",
    "sonora_phi_j=custom_histogram(js_sonora, jgrid,0.5)*normjs_sonora\n",
    "phil_phi_j=custom_histogram(js_phil, jgrid,0.5)*normjs_phil"
   ]
  },
  {
   "cell_type": "code",
   "execution_count": 25,
   "metadata": {},
   "outputs": [],
   "source": [
    "DNLF={\"J\": dntb.M_J.values, 'lf': dntb.Density.values, \n",
    "     \"er\":[[1.39, 0.39, 0.29, 0.20, 0.18, 0.15, 0.41, 0.16, 0.15], [1.62, 4.14, 0.31, 0.23, 0.20, 0.18, 1.65, 0.18, 0.18]]}"
   ]
  },
  {
   "cell_type": "code",
   "execution_count": 26,
   "metadata": {},
   "outputs": [],
   "source": [
    "CRUZ={\"J\":[10.75, 11.25, 11.75, 12.25, 12.75, 13.25, 13.75, 14.25, 14.75],\n",
    "      \"lf\": [2.38, 1.66, 1.16, 0.83, 0.50, 0.58, 0.50, 0.66, 0.33],\n",
    "     'er':[0.64, 0.37, 0.31, 0.26, 0.20, 0.22, 0.20, 0.23, 0.17]}"
   ]
  },
  {
   "cell_type": "code",
   "execution_count": 27,
   "metadata": {},
   "outputs": [
    {
     "data": {
      "image/png": "[encoded data removed]",
      "text/plain": [
       "<Figure size 576x432 with 1 Axes>"
      ]
     },
     "metadata": {
      "needs_background": "light"
     },
     "output_type": "display_data"
    }
   ],
   "source": [
    "fig, ax1=plt.subplots(figsize=(8, 6), ncols=1)\n",
    "plt.step(jgrid, ryan_lf(jgrid))\n",
    "plt.step(jgrid, saumon_phi_j)\n",
    "plt.step(jgrid, baraffe_phi_j)\n",
    "plt.step(jgrid, sonora_phi_j)\n",
    "plt.step(jgrid, phil_phi_j)\n",
    "\n",
    "plt.errorbar(DNLF['J'], DNLF['lf']*0.001, yerr=np.array(DNLF['er'])*0.001,color='#111111', fmt='o')\n",
    "plt.errorbar(CRUZ['J'], np.array(CRUZ['lf'])*0.001, yerr=np.array(CRUZ['er'])*0.001,color='#B10DC9', fmt='o')\n",
    "\n",
    "\n",
    "ax1.set_xlabel(r'$M_J$ [mag]', fontsize=18)\n",
    "ax1.set_ylabel(r'$\\frac{dN}{dM_J}$ [mag $^{-1}$ pc$^{-3}$]', fontsize=18)\n",
    "ax1.minorticks_on()\n",
    "ax1.legend(fontsize=18, labels=['R15', 'SM03', 'B03', 'Sonora', 'P20', 'B19', \n",
    "                               'C07'])\n",
    "plt.tight_layout()\n",
    "plt.savefig(wisps.OUTPUT_FIGURES+'/lfs_js.pdf')"
   ]
  },
  {
   "cell_type": "code",
   "execution_count": 32,
   "metadata": {},
   "outputs": [],
   "source": [
    "#save the inertpolated luminosity function\n",
    "LF={}"
   ]
  },
  {
   "cell_type": "code",
   "execution_count": 54,
   "metadata": {},
   "outputs": [],
   "source": [
    "for modname in ['saumon2008', 'baraffe2003', 'marley2019', 'phillips2020']:\n",
    "    \n",
    "    vals=wispsim.make_systems(model_name=modname, bfraction=0.2)\n",
    "    teffs_bar=vals['system_teff']\n",
    "    sys_spts=vals['system_spts']\n",
    "    \n",
    "    normteff_bar = 0.63*(10**-3)/ len(teffs_bar[np.logical_and(teffs_bar>=1650, teffs_bar <=1800)])\n",
    "    #normspt\n",
    "    normspt=   ((1650-1800)/(24.57-25.77))*0.63*(10**-3)/len(sys_spts[np.logical_and( sys_spts>=24.58,  sys_spts <=25.77)])\n",
    "            \n",
    "    spt_grid=wisps.splat_teff_to_spt(teffgrid)\n",
    "   \n",
    "    phi_spt=custom_histogram(sys_spts, spt_grid, 1)*normspt\n",
    "    LF[modname]={'spt':spt_grid, 'phi':phi_spt}"
   ]
  },
  {
   "cell_type": "code",
   "execution_count": 55,
   "metadata": {},
   "outputs": [],
   "source": [
    "import pickle\n",
    "with open(wisps.OUTPUT_FILES+'/lf.pkl', 'wb') as file:\n",
    "   pickle.dump(LF,file)"
   ]
  },
  {
   "cell_type": "code",
   "execution_count": null,
   "metadata": {},
   "outputs": [],
   "source": []
  }
 ],
 "metadata": {
  "kernelspec": {
   "display_name": "Python 3",
   "language": "python",
   "name": "python3"
  },
  "language_info": {
   "codemirror_mode": {
    "name": "ipython",
    "version": 3
   },
   "file_extension": ".py",
   "mimetype": "text/x-python",
   "name": "python",
   "nbconvert_exporter": "python",
   "pygments_lexer": "ipython3",
   "version": "3.7.6"
  }
 },
 "nbformat": 4,
 "nbformat_minor": 4
}
