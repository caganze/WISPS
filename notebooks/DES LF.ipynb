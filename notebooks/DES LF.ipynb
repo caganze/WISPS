{
 "cells": [
  {
   "cell_type": "code",
   "execution_count": 1,
   "metadata": {},
   "outputs": [
    {
     "name": "stdout",
     "output_type": "stream",
     "text": [
      "Adding 145 sources from /Users/caganze/research/splat//resources/Spectra/Public/LRIS-RED/ to spectral database\n",
      "Adding 89 sources from /Users/caganze/research/splat//resources/Spectra/Public/MAGE/ to spectral database\n",
      "Adding 2404 sources from /Users/caganze/research/splat//resources/Spectra/Public/SPEX-PRISM/ to spectral database\n",
      "\n",
      "Warning: spectrum object has a flux vector of zero length - maybe empty?\n",
      "\n",
      "Warning: normalize is attempting to divide by nan; ignoring\n",
      "\n",
      "Warning: spectrum object has a flux vector of zero length - maybe empty?\n",
      "\n",
      "Warning: normalize is attempting to divide by nan; ignoring\n",
      "\n",
      "Warning: spectrum object has a flux vector of zero length - maybe empty?\n",
      "\n",
      "Warning: normalize is attempting to divide by nan; ignoring\n",
      "\n",
      "Warning: spectrum object has a flux vector of zero length - maybe empty?\n",
      "\n",
      "Warning: normalize is attempting to divide by nan; ignoring\n",
      "\n",
      "Warning: spectrum object has a flux vector of zero length - maybe empty?\n",
      "\n",
      "Warning: normalize is attempting to divide by nan; ignoring\n"
     ]
    }
   ],
   "source": [
    "import wisps\n",
    "import pandas as pd\n",
    "import numpy as np\n",
    "import matplotlib.pyplot as plt\n",
    "import wisps.simulations as wispsim\n",
    "import astropy.units as u\n",
    "import splat.empirical as spe\n",
    "import splat\n",
    "#plt.style.use('dark_background')"
   ]
  },
  {
   "cell_type": "markdown",
   "metadata": {},
   "source": [
    "Purpose: compare various luminosity functions"
   ]
  },
  {
   "cell_type": "code",
   "execution_count": 2,
   "metadata": {},
   "outputs": [],
   "source": [
    "%matplotlib inline"
   ]
  },
  {
   "cell_type": "code",
   "execution_count": 3,
   "metadata": {},
   "outputs": [],
   "source": [
    "baraffe=wispsim.make_systems(model_name='baraffe2003', bfraction=0.2)\n",
    "saumon=wispsim.make_systems(model_name='saumon2008', bfraction=0.2)\n",
    "sonora=wispsim.make_systems(model_name='marley2019', bfraction=0.2)\n",
    "phillips=wispsim.make_systems(model_name='phillips2020', bfraction=0.2)"
   ]
  },
  {
   "cell_type": "code",
   "execution_count": 4,
   "metadata": {},
   "outputs": [],
   "source": [
    "from astropy.io import ascii"
   ]
  },
  {
   "cell_type": "code",
   "execution_count": 5,
   "metadata": {},
   "outputs": [],
   "source": [
    "klf=pd.read_csv('/users/caganze/research/wisps/data/kirkpatricklf.txt', delimiter=',')\n",
    "dntb=ascii.read('/users/caganze/research/wisps/data/daniellalf.txt').to_pandas()"
   ]
  },
  {
   "cell_type": "code",
   "execution_count": 6,
   "metadata": {},
   "outputs": [],
   "source": [
    "def splat_mag_to_spt(mag):\n",
    "    grid=np.arange(17, 39)\n",
    "    rel=spe.typeToMag(grid, 'MKO_J',reference='dupuy2012')[0]\n",
    "    vals= np.polyval(rel, grid)\n",
    "    spt_sorted_idx=np.argsort(vals)\n",
    "    return np.interp(mag, vals[spt_sorted_idx], grid[spt_sorted_idx])\n",
    "       "
   ]
  },
  {
   "cell_type": "code",
   "execution_count": 7,
   "metadata": {},
   "outputs": [],
   "source": [
    "klf['tfm']=np.mean(np.array([klf.t0.values, klf.tf.values]), axis=0)"
   ]
  },
  {
   "cell_type": "code",
   "execution_count": 8,
   "metadata": {},
   "outputs": [],
   "source": [
    "klf['spt']=klf.tfm.apply(wispsim.splat_teff_to_spt).apply(round)"
   ]
  },
  {
   "cell_type": "code",
   "execution_count": 9,
   "metadata": {},
   "outputs": [],
   "source": [
    "klf=klf.applymap(float)"
   ]
  },
  {
   "cell_type": "code",
   "execution_count": 10,
   "metadata": {},
   "outputs": [],
   "source": [
    "dntb['spt']=dntb.M_J.apply(splat_mag_to_spt)"
   ]
  },
  {
   "cell_type": "code",
   "execution_count": 11,
   "metadata": {},
   "outputs": [],
   "source": [
    "def ryan_lf(J):\n",
    "    logphi=-0.30 + 0.11*(J-14) + 0.15*(J -14)**2.+ 0.015*(J-14)**3-0.00020*(J-14)**4\n",
    "    return (10**logphi)*(10**-3)\n",
    "\n",
    "    \n",
    "def custom_histogram(things, grid, binsize):\n",
    "    n=[]\n",
    "    for g in grid:\n",
    "        n.append(len(things[np.logical_and(g<=things, things< g+binsize)]))\n",
    "    return np.array(n)"
   ]
  },
  {
   "cell_type": "code",
   "execution_count": 12,
   "metadata": {},
   "outputs": [],
   "source": [
    "jgrid=np.arange(10, 18, .5)\n",
    "teffgrid=np.arange(50, 4000, 150)"
   ]
  },
  {
   "cell_type": "code",
   "execution_count": 13,
   "metadata": {},
   "outputs": [],
   "source": [
    "#the last point is a lower limit\n",
    "kirkpatrick2020LF={'bin_center':np.flip(np.array([2025, 1875, 1725, 1575, 1425, 1275, 1125 , 975, 825, 675, 525])), \n",
    "                   'values':np.flip(np.array([0.72, 0.50,0.78, 0.81,0.94, 1.95, 1.11, 1.72, 1.99, 2.80, 4.24])), \n",
    "                   'unc':np.flip(([0.18, 0.17, 0.20,0.20, 0.22, 0.3, 0.25, 0.3, 0.32, 0.37, 0.70]))}\n"
   ]
  },
  {
   "cell_type": "code",
   "execution_count": 14,
   "metadata": {},
   "outputs": [
    {
     "data": {
      "text/plain": [
       "75"
      ]
     },
     "execution_count": 14,
     "metadata": {},
     "output_type": "execute_result"
    }
   ],
   "source": [
    "525-450"
   ]
  },
  {
   "cell_type": "code",
   "execution_count": 15,
   "metadata": {},
   "outputs": [
    {
     "data": {
      "text/plain": [
       "0.21262705367610932"
      ]
     },
     "execution_count": 15,
     "metadata": {},
     "output_type": "execute_result"
    }
   ],
   "source": [
    "(kirkpatrick2020LF['unc']/kirkpatrick2020LF['values']).mean()"
   ]
  },
  {
   "cell_type": "code",
   "execution_count": 16,
   "metadata": {},
   "outputs": [],
   "source": [
    "def scale_lf_teff(teffs):\n",
    "    #dont fit the last bin\n",
    "    bins= np.array(kirkpatrick2020LF['bin_center'])\n",
    "    binedges= np.append(bins-75,bins[-1]-75)\n",
    "\n",
    "    bools=np.logical_and(teffs <= binedges[-1], teffs >= binedges[0])\n",
    "    preds=np.histogram(teffs, bins=binedges, normed=True)[0]\n",
    "    \n",
    "    obs=np.array(kirkpatrick2020LF['values'])\n",
    "    unc=np.array(kirkpatrick2020LF['unc'])\n",
    "    scale=np.nansum((obs*preds)/(unc**2))/np.nansum(((preds**2)/(unc**2)))\n",
    "    return preds*scale"
   ]
  },
  {
   "cell_type": "code",
   "execution_count": null,
   "metadata": {},
   "outputs": [],
   "source": []
  },
  {
   "cell_type": "code",
   "execution_count": 17,
   "metadata": {},
   "outputs": [],
   "source": [
    "klf['bin_center']=np.mean(np.array([klf.t0.values, klf.tf.values]), axis=0)\n",
    "klf=klf.replace(0.0,np.nan)"
   ]
  },
  {
   "cell_type": "code",
   "execution_count": 18,
   "metadata": {},
   "outputs": [],
   "source": [
    "teffs_bar=baraffe['system_teff']\n",
    "teffs_saumon=saumon['system_teff']\n",
    "teffs_sonora=sonora['system_teff']\n",
    "teffs_phil=phillips['system_teff']\n",
    "\n",
    "#normteff_bar = 0.63*(10**-3)/ len(teffs_bar[np.logical_and(teffs_bar>=1650, teffs_bar <=1800)])\n",
    "#normteff_saumon = 0.63*(10**-3)/ len(teffs_saumon[np.logical_and(teffs_saumon>=1650, teffs_saumon <=1800)])\n",
    "#normteff_sonora= 0.63*(10**-3)/ len(teffs_sonora[np.logical_and(teffs_sonora>=1650, teffs_sonora <=1800)])\n",
    "#normteff_phil=0.63*(10**-3)/ len(teffs_phil[np.logical_and(teffs_phil>=1650, teffs_phil <=1800)])\n",
    "#jmags=wisps.drop_nan(spe.typeToMag(SIMULATED_DIST['spts'][0], '2MASS J')[0])\n",
    "#jnorm=6.570*(10**-3)/len(jmags[np.logical_and(jmags>=10.25-.25, jmags <=10.25+.25)])"
   ]
  },
  {
   "cell_type": "code",
   "execution_count": 19,
   "metadata": {},
   "outputs": [],
   "source": [
    "#sem_emp_phi_j=custom_histogram(jmags, jgrid, .5)*jnorm\n",
    "baraffe_phi_teff= scale_lf_teff(teffs_bar)*(10**-3)\n",
    "saumon_phi_teff=scale_lf_teff(teffs_saumon)*(10**-3)\n",
    "sonora_phi_teff=scale_lf_teff(teffs_sonora)*(10**-3)\n",
    "phil_phi_teff=scale_lf_teff(teffs_phil)*(10**-3)"
   ]
  },
  {
   "cell_type": "code",
   "execution_count": 20,
   "metadata": {},
   "outputs": [
    {
     "data": {
      "text/plain": [
       "array([1.01083901, 1.04807718, 1.01167015, 0.95092916, 0.91065343,\n",
       "       0.94982992, 1.01827531, 1.01919013, 1.08973531, 1.16180274,\n",
       "              nan])"
      ]
     },
     "execution_count": 20,
     "metadata": {},
     "output_type": "execute_result"
    }
   ],
   "source": [
    "sonora_phi_teff/phil_phi_teff"
   ]
  },
  {
   "cell_type": "code",
   "execution_count": 21,
   "metadata": {},
   "outputs": [],
   "source": [
    "#count how many things are in the masses of 0.1 and stuff and compare to 0.005 pc to 0.0037 pc^3\n",
    "\n",
    "#2 things doing this \n",
    "\n",
    "#teff-> bolometric correction -> simulated luminosity ---> magnitude\n",
    "\n",
    "#try will best's 2018 relation \n",
    "#and that we dont't complete samples for some magnitudes \n",
    "#compare to bochanski's measurement\n",
    "#look at the scale factors between those two plots you might you want\n",
    "\n",
    "#you should be plotting the fits that are \n",
    "#invert relations\n",
    "\n",
    "#invert\n",
    "\n",
    "#binary fraction (how many)\n",
    "#binary fraction random 20% \n",
    "#binary mass ratio from a distribution from splat (allen et al. from splat)\n",
    "#the secondary have a magnitude \n",
    "#the bianay \n",
    "#mag of the system by combining the flux\n",
    "#hst magnitude of the secondary by adding the \n",
    "#adding the\n",
    "#everything is laid out in burgasser 2007\n",
    "#educational exercise to find thre number of stars and brown dwarfs\n"
   ]
  },
  {
   "cell_type": "code",
   "execution_count": 22,
   "metadata": {},
   "outputs": [],
   "source": [
    "import seaborn as sns\n",
    "sns.set_palette(sns.color_palette('Paired'))"
   ]
  },
  {
   "cell_type": "code",
   "execution_count": 23,
   "metadata": {},
   "outputs": [
    {
     "name": "stdout",
     "output_type": "stream",
     "text": [
      "[1 0 0 0 0 0 0 0 0 0 0]\n"
     ]
    },
    {
     "name": "stderr",
     "output_type": "stream",
     "text": [
      "findfont: Font family ['serif'] not found. Falling back to DejaVu Sans.\n"
     ]
    },
    {
     "data": {
      "image/png": "[encoded data removed]",
      "text/plain": [
       "<Figure size 576x360 with 1 Axes>"
      ]
     },
     "metadata": {
      "needs_background": "light"
     },
     "output_type": "display_data"
    }
   ],
   "source": [
    "fig, ax1=plt.subplots(figsize=(8, 5), ncols=1)\n",
    "#ax.step(jgrid, sem_emp_phi_j, color='#0074D9', label='Simulated')\n",
    "#ax.step(jgrid,  ryan_lf(jgrid), color='#FF4136', label='RyanJr2017')\n",
    "#ax.errorbar(dntb.M_J, dntb.Density*(10**-3), fmt='o', c='k', label='BG2019')\n",
    "\n",
    "#ax.set_xlabel('J', fontsize=18)\n",
    "#ax.set_ylabel(r'LF [pc$^{-3}$ mag$^{-1} $]', fontsize=18)\n",
    "#ax.minorticks_on()\n",
    "#ax.legend(fontsize=18)\n",
    "#ax.set_xlim([10, 16])\n",
    "#ax.set_ylim([0., 0.005])\n",
    "\n",
    "ax1.step(kirkpatrick2020LF['bin_center'], baraffe_phi_teff,  where='mid', linewidth=3)\n",
    "ax1.step(kirkpatrick2020LF['bin_center'], saumon_phi_teff, where='mid', linewidth=3)\n",
    "ax1.step(kirkpatrick2020LF['bin_center'], sonora_phi_teff, where='mid', linewidth=3)\n",
    "ax1.step(kirkpatrick2020LF['bin_center'], phil_phi_teff,  where='mid', linewidth=3)\n",
    "lolims=np.zeros(len(kirkpatrick2020LF['bin_center'])).astype(int)\n",
    "lolims[0]=int(1)\n",
    "\n",
    "print (lolims)\n",
    "ax1.errorbar(kirkpatrick2020LF['bin_center'], np.array(kirkpatrick2020LF['values'])*(10**-3),\n",
    "             yerr= np.array(kirkpatrick2020LF['unc'])*(10**-3),\n",
    "             fmt='o', color='#111111')\n",
    "\n",
    "#for index, row in klf.iterrows():\n",
    "#    if row.lf==0.0:\n",
    "#        pass\n",
    "#    elif row.lfunc==0.0:\n",
    "#        ax1.errorbar(row.tfm,  row.lf*(10**-3), yerr=0.0005, color='#B10DC9', fmt='o',lolims=True, ls='none')\n",
    "#    else:\n",
    "#        ax1.errorbar(row.tfm,  row.lf*(10**-3),  yerr=row.lfunc*(10**-3), color='#B10DC9', fmt='o')\n",
    "ax1.set_xlabel(r'T$_\\mathrm{eff}$ [K]', fontsize=18)\n",
    "ax1.set_ylabel(r'$\\frac{dN}{dT\\mathrm{eff}}$ [ K$^{-1}$ pc$^{-3}$]', fontsize=18)\n",
    "ax1.minorticks_on()\n",
    "ax1.legend(fontsize=18, labels=['B03',  'SM08',  'M19',  'P20',  'K20'])\n",
    "ax1.set_xlim([2100, 450.])\n",
    "plt.tight_layout()\n",
    "plt.savefig(wisps.OUTPUT_FIGURES+'/lfs_teffs.pdf',  bbox_inches='tight')"
   ]
  },
  {
   "cell_type": "code",
   "execution_count": 24,
   "metadata": {},
   "outputs": [],
   "source": [
    "js_saumon=wisps.absolute_magnitude_jh(np.sort(saumon['system_spts'].flatten()))[0]\n",
    "js_bar=wisps.absolute_magnitude_jh(np.sort( baraffe['system_spts'].flatten()))[0]\n",
    "js_sonora=wisps.absolute_magnitude_jh(np.sort( sonora['system_spts'].flatten()))[0]\n",
    "js_phil=wisps.absolute_magnitude_jh(np.sort( phillips['system_spts'].flatten()))[0]"
   ]
  },
  {
   "cell_type": "code",
   "execution_count": 25,
   "metadata": {},
   "outputs": [],
   "source": [
    "CRUZ={\"J\":np.array([10.75, 11.25, 11.75, 12.25, 12.75, 13.25, 13.75, 14.25, 14.75]),\n",
    "      \"lf\": np.array([2.38, 1.66, 1.16, 0.83, 0.50, 0.58, 0.50, 0.66, 0.33]),\n",
    "     'er':np.array([0.64, 0.37, 0.31, 0.26, 0.20, 0.22, 0.20, 0.23, 0.17])}\n",
    "\n",
    "DNLF={\"J\": dntb.M_J.values, 'lf': dntb.Density.values, \n",
    "     \"er\":[[1.39, 0.39, 0.29, 0.20, 0.18, 0.15, 0.41, 0.16, 0.15], \n",
    "           [1.62, 4.14, 0.31, 0.23, 0.20, 0.18, 1.65, 0.18, 0.18]]}"
   ]
  },
  {
   "cell_type": "code",
   "execution_count": 26,
   "metadata": {},
   "outputs": [
    {
     "data": {
      "text/plain": [
       "{'J': array([ 9.75, 10.25, 10.75, 11.25, 11.75, 12.25, 12.75, 13.25, 13.75]),\n",
       " 'lf': array([0.928, 6.57 , 3.62 , 1.9  , 1.5  , 1.1  , 0.94 , 1.21 , 1.1  ]),\n",
       " 'er': [[1.39, 0.39, 0.29, 0.2, 0.18, 0.15, 0.41, 0.16, 0.15],\n",
       "  [1.62, 4.14, 0.31, 0.23, 0.2, 0.18, 1.65, 0.18, 0.18]]}"
      ]
     },
     "execution_count": 26,
     "metadata": {},
     "output_type": "execute_result"
    }
   ],
   "source": [
    "DNLF"
   ]
  },
  {
   "cell_type": "code",
   "execution_count": 27,
   "metadata": {},
   "outputs": [],
   "source": [
    "mask=np.logical_and(CRUZ['J'] <= 15.5, CRUZ['J'] >= 10.)\n",
    "def scale_lf_jmag(js):\n",
    "    #mask=np.logical_and(DNLF['J'] <= 15.5, DNLF['J'] >= 10.)\n",
    "    jgrid=np.array(CRUZ['J'])[mask]\n",
    "    print (len(jgrid))\n",
    "    obs=np.array(DNLF['lf'])[mask]\n",
    "    #unc=np.nanmean(np.array(CRUZ['er']), axis=0)[mask]\n",
    "    unc=np.array(CRUZ['er'])\n",
    "    \n",
    "    binedges= np.append(jgrid-0.25, jgrid[-1]+0.5)\n",
    "    bools=np.logical_and(js <= binedges[-1], js >= binedges[0])\n",
    "    preds=np.histogram(js, bins=binedges, normed=True)[0]\n",
    "\n",
    "    scale=np.nansum((obs*preds)/(unc**2))/np.nansum(((preds**2)/(unc**2)))\n",
    "    return preds*scale"
   ]
  },
  {
   "cell_type": "code",
   "execution_count": 28,
   "metadata": {},
   "outputs": [
    {
     "name": "stdout",
     "output_type": "stream",
     "text": [
      "9\n",
      "9\n",
      "9\n",
      "9\n"
     ]
    }
   ],
   "source": [
    "baraffe_phi_j=scale_lf_jmag(js_bar)*(10**-3)\n",
    "saumon_phi_j=scale_lf_jmag(js_saumon)*(10**-3)\n",
    "sonora_phi_j=scale_lf_jmag(js_sonora)*(10**-3)\n",
    "phil_phi_j=scale_lf_jmag(js_phil)*(10**-3)"
   ]
  },
  {
   "cell_type": "code",
   "execution_count": 29,
   "metadata": {},
   "outputs": [],
   "source": [
    "#len(phil_phi_j)"
   ]
  },
  {
   "cell_type": "code",
   "execution_count": null,
   "metadata": {},
   "outputs": [],
   "source": []
  },
  {
   "cell_type": "code",
   "execution_count": 30,
   "metadata": {},
   "outputs": [],
   "source": [
    "#DNLF['J'][bools]"
   ]
  },
  {
   "cell_type": "code",
   "execution_count": 31,
   "metadata": {},
   "outputs": [
    {
     "data": {
      "image/png": "[encoded data removed]",
      "text/plain": [
       "<Figure size 576x432 with 1 Axes>"
      ]
     },
     "metadata": {
      "needs_background": "light"
     },
     "output_type": "display_data"
    }
   ],
   "source": [
    "fig, ax1=plt.subplots(figsize=(8, 6), ncols=1)\n",
    "#plt.step(jgrid, ryan_lf(jgrid))\n",
    "plt.step(np.array(CRUZ['J'])[mask], saumon_phi_j, linewidth=3, where='mid')\n",
    "plt.step(np.array(CRUZ['J'])[mask], baraffe_phi_j, linewidth=3, where='mid')\n",
    "plt.step(np.array(CRUZ['J'])[mask], sonora_phi_j, linewidth=3, where='mid')\n",
    "plt.step(np.array(CRUZ['J'])[mask],phil_phi_j, linewidth=3, where='mid')\n",
    "\n",
    "#plt.fill_between(jgrid, np.array(baraffe_phi_j)-0.00016, np.array(baraffe_phi_j)+0.00018,  step=\"pre\")\n",
    "\n",
    "plt.errorbar(DNLF['J'], DNLF['lf']*0.001, yerr=np.array(DNLF['er'])*0.001,color='#111111', fmt='o')\n",
    "plt.errorbar(CRUZ['J'], np.array(CRUZ['lf'])*0.001, yerr=np.array(CRUZ['er'])*0.001,color='#B10DC9', fmt='o')\n",
    "\n",
    "\n",
    "ax1.set_xlabel(r'$M_J$ [mag]', fontsize=18)\n",
    "ax1.set_ylabel(r'$\\frac{dN}{dM_J}$ [mag $^{-1}$ pc$^{-3}$]', fontsize=18)\n",
    "ax1.minorticks_on()\n",
    "ax1.legend(fontsize=18, labels=[ 'SM08', 'B03', 'M19', 'P20', 'B19', \n",
    "                               'C07'])\n",
    "plt.tight_layout()\n",
    "plt.xlim(10.5, 15.)\n",
    "plt.ylim([0.00, 0.006])\n",
    "plt.savefig(wisps.OUTPUT_FIGURES+'/lfs_js.pdf',  bbox_inches='tight')"
   ]
  },
  {
   "cell_type": "code",
   "execution_count": 53,
   "metadata": {},
   "outputs": [],
   "source": [
    "df=pd.read_pickle(wisps.OUTPUT_FILES+'/effective_numbers_from_sims')"
   ]
  },
  {
   "cell_type": "code",
   "execution_count": 55,
   "metadata": {},
   "outputs": [
    {
     "data": {
      "text/plain": [
       "538553"
      ]
     },
     "execution_count": 55,
     "metadata": {},
     "output_type": "execute_result"
    }
   ],
   "source": [
    "len(df['phillips2020']['spts'])"
   ]
  },
  {
   "cell_type": "code",
   "execution_count": 60,
   "metadata": {},
   "outputs": [
    {
     "data": {
      "text/plain": [
       "538485"
      ]
     },
     "execution_count": 60,
     "metadata": {},
     "output_type": "execute_result"
    }
   ],
   "source": [
    "len(df['phillips2020'][200]['sl'])"
   ]
  },
  {
   "cell_type": "code",
   "execution_count": 61,
   "metadata": {},
   "outputs": [
    {
     "data": {
      "text/plain": [
       "538485"
      ]
     },
     "execution_count": 61,
     "metadata": {},
     "output_type": "execute_result"
    }
   ],
   "source": [
    "len(df['phillips2020'][200]['snrj'])"
   ]
  },
  {
   "cell_type": "code",
   "execution_count": 34,
   "metadata": {},
   "outputs": [
    {
     "ename": "KeyError",
     "evalue": "'r'",
     "output_type": "error",
     "traceback": [
      "\u001b[0;31m---------------------------------------------------------------------------\u001b[0m",
      "\u001b[0;31mKeyError\u001b[0m                                  Traceback (most recent call last)",
      "\u001b[0;32m<ipython-input-34-8a2ed280559d>\u001b[0m in \u001b[0;36m<module>\u001b[0;34m\u001b[0m\n\u001b[0;32m----> 1\u001b[0;31m \u001b[0mvals\u001b[0m\u001b[0;34m[\u001b[0m\u001b[0;34m'baraffe2003'\u001b[0m\u001b[0;34m]\u001b[0m\u001b[0;34m[\u001b[0m\u001b[0;36m500\u001b[0m\u001b[0;34m]\u001b[0m\u001b[0;34m[\u001b[0m\u001b[0;34m'r'\u001b[0m\u001b[0;34m]\u001b[0m\u001b[0;34m.\u001b[0m\u001b[0mshape\u001b[0m\u001b[0;34m\u001b[0m\u001b[0;34m\u001b[0m\u001b[0m\n\u001b[0m",
      "\u001b[0;31mKeyError\u001b[0m: 'r'"
     ]
    }
   ],
   "source": [
    "ghjnkD"
   ]
  },
  {
   "cell_type": "code",
   "execution_count": null,
   "metadata": {},
   "outputs": [],
   "source": [
    "#save the inertpolated luminosity function\n",
    "LF={}"
   ]
  },
  {
   "cell_type": "code",
   "execution_count": null,
   "metadata": {},
   "outputs": [],
   "source": [
    "for modname in ['saumon2008', 'baraffe2003', 'marley2019', 'phillips2020']:\n",
    "    \n",
    "    vals=wispsim.make_systems(model_name=modname, bfraction=0.2)\n",
    "    teffs_bar=vals['system_teff']\n",
    "    sys_spts=vals['system_spts']\n",
    "    \n",
    "    normteff_bar = 0.63*(10**-3)/ len(teffs_bar[np.logical_and(teffs_bar>=1650, teffs_bar <=1800)])\n",
    "    #normspt\n",
    "    normspt=   ((1650-1800)/(24.57-25.77))*0.63*(10**-3)/len(sys_spts[np.logical_and( sys_spts>=24.58,  sys_spts <=25.77)])\n",
    "            \n",
    "    spt_grid=wisps.splat_teff_to_spt(teffgrid)\n",
    "   \n",
    "    phi_spt=custom_histogram(sys_spts, spt_grid, 1)*normspt\n",
    "    LF[modname]={'spt':spt_grid, 'phi':phi_spt}"
   ]
  },
  {
   "cell_type": "code",
   "execution_count": null,
   "metadata": {},
   "outputs": [],
   "source": []
  },
  {
   "cell_type": "code",
   "execution_count": null,
   "metadata": {},
   "outputs": [],
   "source": [
    "#import pickle\n",
    "#with open(wisps.OUTPUT_FILES+'/lf.pkl', 'wb') as file:\n",
    "#   pickle.dump(LF,file)"
   ]
  },
  {
   "cell_type": "code",
   "execution_count": null,
   "metadata": {},
   "outputs": [],
   "source": [
    "drf\n",
    "h=wispsim.make_systems(bfraction=0.99, nsample=1e6,  recompute=False)\n",
    "h0=wispsim.make_systems(bfraction=0.01, nsample=1e6,  recompute=False)"
   ]
  },
  {
   "cell_type": "code",
   "execution_count": null,
   "metadata": {},
   "outputs": [],
   "source": [
    "plt.plot(h['system_age'])"
   ]
  },
  {
   "cell_type": "code",
   "execution_count": null,
   "metadata": {},
   "outputs": [],
   "source": [
    "plt.scatter(h['system_spts'], h['system_teff'], s=1)"
   ]
  },
  {
   "cell_type": "code",
   "execution_count": null,
   "metadata": {},
   "outputs": [],
   "source": [
    "plt.hist(h['system_spts'], density=True, bins=32)\n",
    "plt.hist(h0['system_spts'], density=True, bins=32)"
   ]
  },
  {
   "cell_type": "code",
   "execution_count": null,
   "metadata": {},
   "outputs": [],
   "source": []
  }
 ],
 "metadata": {
  "kernelspec": {
   "display_name": "Python 3",
   "language": "python",
   "name": "python3"
  },
  "language_info": {
   "codemirror_mode": {
    "name": "ipython",
    "version": 3
   },
   "file_extension": ".py",
   "mimetype": "text/x-python",
   "name": "python",
   "nbconvert_exporter": "python",
   "pygments_lexer": "ipython3",
   "version": "3.8.5"
  }
 },
 "nbformat": 4,
 "nbformat_minor": 4
}
