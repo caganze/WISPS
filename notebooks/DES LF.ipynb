{
 "cells": [
  {
   "cell_type": "code",
   "execution_count": 1,
   "metadata": {},
   "outputs": [
    {
     "name": "stdout",
     "output_type": "stream",
     "text": [
      "\n",
      "Warning: spectrum object has a flux vector of zero length - maybe empty?\n",
      "\n",
      "Warning: normalize is attempting to divide by nan; ignoring\n",
      "\n",
      "Warning: spectrum object has a flux vector of zero length - maybe empty?\n",
      "\n",
      "Warning: normalize is attempting to divide by nan; ignoring\n"
     ]
    }
   ],
   "source": [
    "import wisps\n",
    "import pandas as pd\n",
    "import numpy as np\n",
    "import matplotlib.pyplot as plt\n",
    "import wisps.simulations as wispsim\n",
    "import astropy.units as u\n",
    "import splat.empirical as spe\n",
    "import splat"
   ]
  },
  {
   "cell_type": "markdown",
   "metadata": {},
   "source": [
    "Purpose: compare various luminosity functions"
   ]
  },
  {
   "cell_type": "code",
   "execution_count": 2,
   "metadata": {},
   "outputs": [],
   "source": [
    "%matplotlib inline"
   ]
  },
  {
   "cell_type": "code",
   "execution_count": 3,
   "metadata": {},
   "outputs": [],
   "source": [
    "SIMULATED_DIST=wispsim.simulate_spts()"
   ]
  },
  {
   "cell_type": "code",
   "execution_count": 4,
   "metadata": {},
   "outputs": [],
   "source": [
    "from astropy.io import ascii"
   ]
  },
  {
   "cell_type": "code",
   "execution_count": 5,
   "metadata": {},
   "outputs": [],
   "source": [
    "klf=pd.read_csv('/users/caganze/research/wisps/data/kirkpatricklf.txt', delimiter=',')\n",
    "dntb=ascii.read('/users/caganze/research/wisps/data/daniellalf.txt').to_pandas()"
   ]
  },
  {
   "cell_type": "code",
   "execution_count": 6,
   "metadata": {},
   "outputs": [],
   "source": [
    "def splat_mag_to_spt(mag):\n",
    "    grid=np.arange(17, 39)\n",
    "    rel=spe.typeToMag(grid, 'MKO_J',reference='dupuy2012')[0]\n",
    "    vals= np.polyval(rel, grid)\n",
    "    spt_sorted_idx=np.argsort(vals)\n",
    "    return np.interp(mag, vals[spt_sorted_idx], grid[spt_sorted_idx])\n",
    "       "
   ]
  },
  {
   "cell_type": "code",
   "execution_count": 7,
   "metadata": {},
   "outputs": [],
   "source": [
    "klf['tfm']=np.mean(np.array([klf.t0.values, klf.tf.values]), axis=0)"
   ]
  },
  {
   "cell_type": "code",
   "execution_count": 8,
   "metadata": {},
   "outputs": [],
   "source": [
    "klf['spt']=klf.tfm.apply(wispsim.splat_teff_to_spt).apply(round)"
   ]
  },
  {
   "cell_type": "code",
   "execution_count": 9,
   "metadata": {},
   "outputs": [],
   "source": [
    "klf=klf.applymap(float)"
   ]
  },
  {
   "cell_type": "code",
   "execution_count": 10,
   "metadata": {},
   "outputs": [],
   "source": [
    "dntb['spt']=dntb.M_J.apply(splat_mag_to_spt)"
   ]
  },
  {
   "cell_type": "code",
   "execution_count": 11,
   "metadata": {},
   "outputs": [
    {
     "data": {
      "text/plain": [
       "array([ 0,  1,  2,  3,  4,  5,  6,  7,  8,  9, 10, 11, 12, 13, 14, 15, 16,\n",
       "       17, 18, 19])"
      ]
     },
     "execution_count": 11,
     "metadata": {},
     "output_type": "execute_result"
    }
   ],
   "source": [
    "np.arange(20)"
   ]
  },
  {
   "cell_type": "code",
   "execution_count": 12,
   "metadata": {},
   "outputs": [
    {
     "data": {
      "text/html": [
       "<div>\n",
       "<style scoped>\n",
       "    .dataframe tbody tr th:only-of-type {\n",
       "        vertical-align: middle;\n",
       "    }\n",
       "\n",
       "    .dataframe tbody tr th {\n",
       "        vertical-align: top;\n",
       "    }\n",
       "\n",
       "    .dataframe thead th {\n",
       "        text-align: right;\n",
       "    }\n",
       "</style>\n",
       "<table border=\"1\" class=\"dataframe\">\n",
       "  <thead>\n",
       "    <tr style=\"text-align: right;\">\n",
       "      <th></th>\n",
       "      <th>M_J</th>\n",
       "      <th>N</th>\n",
       "      <th>N_trig</th>\n",
       "      <th>N_phot</th>\n",
       "      <th>SFplx</th>\n",
       "      <th>SFphot</th>\n",
       "      <th>N_corrected</th>\n",
       "      <th>Density</th>\n",
       "      <th>spt</th>\n",
       "    </tr>\n",
       "  </thead>\n",
       "  <tbody>\n",
       "    <tr>\n",
       "      <td>0</td>\n",
       "      <td>9.75</td>\n",
       "      <td>4</td>\n",
       "      <td>4</td>\n",
       "      <td>0</td>\n",
       "      <td>0.15</td>\n",
       "      <td>0.16</td>\n",
       "      <td>38.65</td>\n",
       "      <td>0.928</td>\n",
       "      <td>17.0</td>\n",
       "    </tr>\n",
       "    <tr>\n",
       "      <td>1</td>\n",
       "      <td>10.25</td>\n",
       "      <td>51</td>\n",
       "      <td>41</td>\n",
       "      <td>10</td>\n",
       "      <td>0.27</td>\n",
       "      <td>0.27</td>\n",
       "      <td>273.75</td>\n",
       "      <td>6.570</td>\n",
       "      <td>17.0</td>\n",
       "    </tr>\n",
       "    <tr>\n",
       "      <td>2</td>\n",
       "      <td>10.75</td>\n",
       "      <td>68</td>\n",
       "      <td>60</td>\n",
       "      <td>8</td>\n",
       "      <td>0.66</td>\n",
       "      <td>0.61</td>\n",
       "      <td>150.76</td>\n",
       "      <td>3.620</td>\n",
       "      <td>17.0</td>\n",
       "    </tr>\n",
       "    <tr>\n",
       "      <td>3</td>\n",
       "      <td>11.25</td>\n",
       "      <td>50</td>\n",
       "      <td>49</td>\n",
       "      <td>1</td>\n",
       "      <td>0.92</td>\n",
       "      <td>0.80</td>\n",
       "      <td>79.00</td>\n",
       "      <td>1.900</td>\n",
       "      <td>17.0</td>\n",
       "    </tr>\n",
       "    <tr>\n",
       "      <td>4</td>\n",
       "      <td>11.75</td>\n",
       "      <td>41</td>\n",
       "      <td>39</td>\n",
       "      <td>2</td>\n",
       "      <td>0.96</td>\n",
       "      <td>0.79</td>\n",
       "      <td>62.55</td>\n",
       "      <td>1.500</td>\n",
       "      <td>17.0</td>\n",
       "    </tr>\n",
       "    <tr>\n",
       "      <td>5</td>\n",
       "      <td>12.25</td>\n",
       "      <td>30</td>\n",
       "      <td>28</td>\n",
       "      <td>2</td>\n",
       "      <td>0.96</td>\n",
       "      <td>0.78</td>\n",
       "      <td>45.99</td>\n",
       "      <td>1.100</td>\n",
       "      <td>17.0</td>\n",
       "    </tr>\n",
       "    <tr>\n",
       "      <td>6</td>\n",
       "      <td>12.75</td>\n",
       "      <td>25</td>\n",
       "      <td>24</td>\n",
       "      <td>1</td>\n",
       "      <td>0.92</td>\n",
       "      <td>0.76</td>\n",
       "      <td>39.71</td>\n",
       "      <td>0.940</td>\n",
       "      <td>17.0</td>\n",
       "    </tr>\n",
       "    <tr>\n",
       "      <td>7</td>\n",
       "      <td>13.25</td>\n",
       "      <td>26</td>\n",
       "      <td>24</td>\n",
       "      <td>2</td>\n",
       "      <td>0.76</td>\n",
       "      <td>0.62</td>\n",
       "      <td>50.44</td>\n",
       "      <td>1.210</td>\n",
       "      <td>17.0</td>\n",
       "    </tr>\n",
       "    <tr>\n",
       "      <td>8</td>\n",
       "      <td>13.75</td>\n",
       "      <td>16</td>\n",
       "      <td>14</td>\n",
       "      <td>2</td>\n",
       "      <td>0.53</td>\n",
       "      <td>0.38</td>\n",
       "      <td>45.91</td>\n",
       "      <td>1.100</td>\n",
       "      <td>17.0</td>\n",
       "    </tr>\n",
       "  </tbody>\n",
       "</table>\n",
       "</div>"
      ],
      "text/plain": [
       "     M_J   N  N_trig  N_phot  SFplx  SFphot  N_corrected  Density   spt\n",
       "0   9.75   4       4       0   0.15    0.16        38.65    0.928  17.0\n",
       "1  10.25  51      41      10   0.27    0.27       273.75    6.570  17.0\n",
       "2  10.75  68      60       8   0.66    0.61       150.76    3.620  17.0\n",
       "3  11.25  50      49       1   0.92    0.80        79.00    1.900  17.0\n",
       "4  11.75  41      39       2   0.96    0.79        62.55    1.500  17.0\n",
       "5  12.25  30      28       2   0.96    0.78        45.99    1.100  17.0\n",
       "6  12.75  25      24       1   0.92    0.76        39.71    0.940  17.0\n",
       "7  13.25  26      24       2   0.76    0.62        50.44    1.210  17.0\n",
       "8  13.75  16      14       2   0.53    0.38        45.91    1.100  17.0"
      ]
     },
     "execution_count": 12,
     "metadata": {},
     "output_type": "execute_result"
    }
   ],
   "source": [
    "dntb"
   ]
  },
  {
   "cell_type": "code",
   "execution_count": 13,
   "metadata": {},
   "outputs": [],
   "source": [
    "def ryan_lf(spt):\n",
    "    #ryan's luminosity function \n",
    "    J=spe.typeToMag(spt, '2MASS J')[0]\n",
    "    logphi=-0.30 + 0.11*(J-14) + 0.15*(J -14)**2.+ 0.015*(J-14)**3-0.00020*(J-14)**4\n",
    "    return (10**logphi)*(10**-3)\n",
    "\n",
    "def kirkpatrick_lf(spt):\n",
    "    if spt not in klf.spt.values:\n",
    "        return list([np.nan, np.nan])\n",
    "    else:\n",
    "        return list([((klf[klf.spt==spt]).lf*(10**-3)).values[0], ((klf[klf.spt==spt]).lfunc*(10**-3)).values[0]])\n",
    "    \n",
    "def daniella_lf(spt):\n",
    "    if spt not in klf.spt.values:\n",
    "        return list([np.nan, np.nan])\n",
    "    else:\n",
    "        return list([((klf[klf.spt==spt]).lf*(10**-3)).values[0], ((klf[klf.spt==spt]).lfunc*(10**-3)).values[0]])\n",
    "\n",
    "    \n",
    "def custom_histogram(things, grid):\n",
    "    n=[]\n",
    "    for g in grid:\n",
    "        n.append(len(things[np.logical_and(g<=things, things< g+1)]))\n",
    "    return np.array(n)"
   ]
  },
  {
   "cell_type": "code",
   "execution_count": 14,
   "metadata": {},
   "outputs": [],
   "source": [
    "from astropy.io import ascii"
   ]
  },
  {
   "cell_type": "code",
   "execution_count": 15,
   "metadata": {},
   "outputs": [],
   "source": [
    "grid=np.arange(15, 42)"
   ]
  },
  {
   "cell_type": "code",
   "execution_count": 16,
   "metadata": {},
   "outputs": [],
   "source": [
    "MASSES=SIMULATED_DIST['mass']\n",
    "NORM = 0.0055/ len(MASSES[np.logical_and(MASSES>=0.09, MASSES <=0.1)])"
   ]
  },
  {
   "cell_type": "code",
   "execution_count": 17,
   "metadata": {},
   "outputs": [],
   "source": [
    "sem_emp_phi=custom_histogram(SIMULATED_DIST['spts'][0], grid)*NORM\n",
    "ryan_phi=[ryan_lf(x) for x in grid]\n",
    "kirk_phi=np.array([kirkpatrick_lf(x) for x in grid])"
   ]
  },
  {
   "cell_type": "code",
   "execution_count": 18,
   "metadata": {},
   "outputs": [
    {
     "data": {
      "image/png": "[encoded data removed]",
      "text/plain": [
       "<Figure size 576x432 with 1 Axes>"
      ]
     },
     "metadata": {
      "needs_background": "light"
     },
     "output_type": "display_data"
    }
   ],
   "source": [
    "fig, ax=plt.subplots(figsize=(8, 6))\n",
    "plt.step(grid, sem_emp_phi, color='#0074D9', where='mid', label='Splat')\n",
    "plt.step(grid, ryan_phi, color='#FF4136', label='Ryan', where='mid')\n",
    "plt.errorbar(grid, kirk_phi[:,0], yerr=kirk_phi[:,1], fmt='o', c='#111111', label='Kirk2019')\n",
    "plt.xlabel('SpT', fontsize=18)\n",
    "plt.ylim([-0.001, 0.012])\n",
    "plt.minorticks_on()\n",
    "plt.legend(fontsize=18)\n",
    "plt.ylabel(r'LF [SpT$^{-1}$ pc$^{-3}$]', fontsize=18)\n",
    "plt.savefig(wisps.OUTPUT_FIGURES+'/lfs.pdf')"
   ]
  },
  {
   "cell_type": "code",
   "execution_count": null,
   "metadata": {},
   "outputs": [],
   "source": []
  }
 ],
 "metadata": {
  "kernelspec": {
   "display_name": "Python 3",
   "language": "python",
   "name": "python3"
  },
  "language_info": {
   "codemirror_mode": {
    "name": "ipython",
    "version": 3
   },
   "file_extension": ".py",
   "mimetype": "text/x-python",
   "name": "python",
   "nbconvert_exporter": "python",
   "pygments_lexer": "ipython3",
   "version": "3.7.3"
  }
 },
 "nbformat": 4,
 "nbformat_minor": 4
}
