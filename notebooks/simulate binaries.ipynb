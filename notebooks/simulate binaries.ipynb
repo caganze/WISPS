{
 "cells": [
  {
   "cell_type": "code",
   "execution_count": 1,
   "metadata": {},
   "outputs": [],
   "source": [
    "import numpy as np\n",
    "import wisps\n",
    "import matplotlib.pyplot as plt\n",
    "import pandas as pd\n",
    "import matplotlib\n",
    "\n",
    "from tqdm import tqdm\n",
    "%matplotlib inline"
   ]
  },
  {
   "cell_type": "code",
   "execution_count": 2,
   "metadata": {},
   "outputs": [],
   "source": [
    "import wisps.simulations as wispsim"
   ]
  },
  {
   "cell_type": "code",
   "execution_count": 3,
   "metadata": {},
   "outputs": [],
   "source": [
    "vs=wispsim.simulate_spts(recompute=False, nsample=2.5*1e5, name='saumon2008')\n",
    "#vs=wispsim.simulate_spts(recompute=False, nsample=2.5*1e5, name='marley2019')\n",
    "#vs=wispsim.simulate_spts(recompute=False, nsample=2.5*1e5, name='baraffe2003')"
   ]
  },
  {
   "cell_type": "code",
   "execution_count": 4,
   "metadata": {},
   "outputs": [],
   "source": [
    "#MIX MY COLORMAP WITH COOOLWARM \n",
    "colors1 = plt.cm.coolwarm(np.linspace(0., 1, 256))\n",
    "colors2=plt.cm.YlOrBr(np.linspace(0., 1, 256))\n",
    "colors = np.vstack((colors1+colors1+colors2)/3)\n",
    "import matplotlib.colors as mcolors\n",
    "mymap=mcolors.LinearSegmentedColormap.from_list('my_colormap', colors)"
   ]
  },
  {
   "cell_type": "code",
   "execution_count": 5,
   "metadata": {},
   "outputs": [],
   "source": [
    "import seaborn as sns"
   ]
  },
  {
   "cell_type": "code",
   "execution_count": 6,
   "metadata": {},
   "outputs": [],
   "source": [
    "def plot_grid(model, ax):\n",
    "    model_filename=wispsim.EVOL_MODELS_FOLDER+'//'+model.lower()+'.csv'\n",
    "    evolutiomodel=pd.read_csv( model_filename)\n",
    "    evolutiomodel['logmass']=np.log10(evolutiomodel.mass)\n",
    "    evolutiomodel['logage']=np.log10(evolutiomodel.age)\n",
    "    #mp=ax.scatter(np.log10(evolutiomodel.mass), np.log10(evolutiomodel.age), \n",
    "    #              c=evolutiomodel.temperature, vmin=200, vmax=3100, cmap=mymap, marker='*', s=200)\n",
    "    \n",
    "    print (evolutiomodel['logmass'].min(), evolutiomodel['logmass'].max())\n",
    "    \n",
    "    \n",
    "    sns.lineplot(data=evolutiomodel, x=\"logage\", y=\"temperature\", hue=\"logmass\", palette=mymap, \n",
    "                 linewidth=2.5, ax=ax, legend=False, hue_norm=(-3.31, -1), err_style=None)\n",
    "    \n",
    "    \n",
    "    #evolutiomodel.plot.hexbin(x='logmass', y='logage', C='temperature', reduce_C_function=np.nanmean, gridsize=15, cmap=mymap, ax=ax)\n",
    "    return "
   ]
  },
  {
   "cell_type": "code",
   "execution_count": 14,
   "metadata": {},
   "outputs": [],
   "source": [
    "plt.style.use('dark_background')"
   ]
  },
  {
   "cell_type": "code",
   "execution_count": 15,
   "metadata": {},
   "outputs": [
    {
     "name": "stdout",
     "output_type": "stream",
     "text": [
      "-3.3010299956639813 -1.0\n",
      "-2.6989700043360187 -1.0457574905606752\n",
      "-3.3010299956639813 -1.0969100130080565\n",
      "-3.3010299956639813 -1.1249387366083\n"
     ]
    }
   ],
   "source": [
    "fig, ax=plt.subplots(ncols=2,nrows=2, sharex=True, sharey=True, figsize=(12*0.75, 10*0.75))\n",
    "\n",
    "\n",
    "mp=plot_grid('baraffe2003', ax[0][1])\n",
    "plot_grid('saumon2008', ax[0][0])\n",
    "plot_grid('marley2019', ax[1][0])\n",
    "plot_grid('phillips2020', ax[1][1])\n",
    "\n",
    "ax[0][1].set_title('SM08', fontsize=18)\n",
    "ax[0][0].set_title('B03', fontsize=18)\n",
    "ax[1][0].set_title('M19', fontsize=18)\n",
    "ax[1][1].set_title('P20', fontsize=18)\n",
    "\n",
    "for a in np.concatenate(ax):\n",
    "    a.set_xlabel(r'Log Age (Gyr)', fontsize=18)\n",
    "    a.set_ylabel(r'T$_\\mathrm{eff}$ (K)', fontsize=18)\n",
    "    a.minorticks_on()\n",
    "    #a.grid(which='both', color='#7FDBFF')\n",
    "\n",
    "cax = fig.add_axes([1.01, 0.06, .03, 0.9])\n",
    "norm=norm = matplotlib.colors.Normalize(vmin=-3.31,vmax=-1)\n",
    "mp=matplotlib.cm.ScalarMappable(norm=norm, cmap=mymap)\n",
    "cbar=plt.colorbar(mp, cax=cax, orientation='vertical')\n",
    "cbar.ax.set_ylabel(r'Log Mass (Msun)', fontsize=18)\n",
    "    \n",
    "plt.tight_layout()\n",
    "\n",
    "plt.savefig(wisps.OUTPUT_FIGURES+'/model_grids.pdf',  rasterized=True, bbox_inches='tight')"
   ]
  },
  {
   "cell_type": "code",
   "execution_count": 8,
   "metadata": {},
   "outputs": [],
   "source": [
    "s=pd.read_pickle(wisps.OUTPUT_FILES+'/mass_age_spcts_with_binmarley2019.pkl')"
   ]
  },
  {
   "cell_type": "code",
   "execution_count": 9,
   "metadata": {},
   "outputs": [
    {
     "data": {
      "text/plain": [
       "(array([24809., 24764., 25189., 25079., 25168., 25270., 24990., 24842.,\n",
       "        24954., 24935.]),\n",
       " array([1.02516434e-03, 8.00922191e-01, 1.60081922e+00, 2.40071624e+00,\n",
       "        3.20061327e+00, 4.00051030e+00, 4.80040732e+00, 5.60030435e+00,\n",
       "        6.40020138e+00, 7.20009840e+00, 7.99999543e+00]),\n",
       " <BarContainer object of 10 artists>)"
      ]
     },
     "execution_count": 9,
     "metadata": {},
     "output_type": "execute_result"
    }
   ],
   "source": [
    "plt.hist(s['sing_evol']['age'].value)"
   ]
  },
  {
   "cell_type": "code",
   "execution_count": 10,
   "metadata": {},
   "outputs": [
    {
     "name": "stdout",
     "output_type": "stream",
     "text": [
      "7.99999833213414\n",
      "7.999975436885558\n",
      "7.999976561922721\n",
      "7.9999846997141315\n"
     ]
    }
   ],
   "source": [
    "\n",
    "for mod in ['saumon2008', 'marley2019', 'baraffe2003', 'phillips2020']:\n",
    "    vs=wispsim.simulate_spts(recompute=False, nsample=2.5*1e5, name=mod)\n",
    "    #ts=((vs['prim_evol'])['temperature']).value\n",
    "    #ms=((vs['prim_evol'])['mass']).value\n",
    "    vs=pd.read_pickle(wisps.OUTPUT_FILES+'/mass_age_spcts_with_bin{}.pkl'.format(mod))\n",
    "    ags=((vs['prim_evol'])['age']).value\n",
    "    \n",
    "    print (np.nanmax(ags))\n",
    "    \n",
    "    h=plt.hist(ags, histtype='step')"
   ]
  },
  {
   "cell_type": "code",
   "execution_count": 27,
   "metadata": {},
   "outputs": [],
   "source": [
    "#jhk"
   ]
  },
  {
   "cell_type": "code",
   "execution_count": 28,
   "metadata": {},
   "outputs": [],
   "source": [
    "#ts=((vs['prim_evol'])['temperature']).value\n",
    "#ms=((vs['prim_evol'])['mass']).value\n",
    "#ags=((vs['prim_evol'])['age']).value"
   ]
  },
  {
   "cell_type": "code",
   "execution_count": 29,
   "metadata": {},
   "outputs": [
    {
     "ename": "NameError",
     "evalue": "name 'ts' is not defined",
     "output_type": "error",
     "traceback": [
      "\u001b[0;31m---------------------------------------------------------------------------\u001b[0m",
      "\u001b[0;31mNameError\u001b[0m                                 Traceback (most recent call last)",
      "\u001b[0;32m<ipython-input-29-6706b7ed3bdb>\u001b[0m in \u001b[0;36m<module>\u001b[0;34m\u001b[0m\n\u001b[0;32m----> 1\u001b[0;31m \u001b[0mspts\u001b[0m\u001b[0;34m=\u001b[0m\u001b[0mwisps\u001b[0m\u001b[0;34m.\u001b[0m\u001b[0msplat_teff_to_spt\u001b[0m\u001b[0;34m(\u001b[0m\u001b[0mts\u001b[0m\u001b[0;34m)\u001b[0m\u001b[0;34m\u001b[0m\u001b[0;34m\u001b[0m\u001b[0m\n\u001b[0m",
      "\u001b[0;31mNameError\u001b[0m: name 'ts' is not defined"
     ]
    }
   ],
   "source": [
    "spts=wisps.splat_teff_to_spt(ts)"
   ]
  },
  {
   "cell_type": "code",
   "execution_count": null,
   "metadata": {},
   "outputs": [],
   "source": [
    "nans=np.isnan(spts)"
   ]
  },
  {
   "cell_type": "code",
   "execution_count": null,
   "metadata": {},
   "outputs": [],
   "source": [
    "len(spts[nans])/len(spts)"
   ]
  },
  {
   "cell_type": "code",
   "execution_count": null,
   "metadata": {},
   "outputs": [],
   "source": [
    "brf=wispsim.simulate_spts(recompute=False, name=\"baraffe2003\")"
   ]
  },
  {
   "cell_type": "code",
   "execution_count": null,
   "metadata": {},
   "outputs": [],
   "source": [
    "brf.keys()"
   ]
  },
  {
   "cell_type": "code",
   "execution_count": null,
   "metadata": {},
   "outputs": [],
   "source": [
    "m0=(brf['sing_evol'])['mass']\n",
    "m1=(brf['prim_evol'])['mass']\n",
    "m2=(brf['sec_evol'])['mass']"
   ]
  },
  {
   "cell_type": "code",
   "execution_count": null,
   "metadata": {},
   "outputs": [],
   "source": [
    "fig, ax=plt.subplots(ncols=3, figsize=(10, 4))\n",
    "h=ax[0].hist(m1.value, bins=32, histtype='step', log=False)\n",
    "h=ax[1].hist(m2.value, bins=32, histtype='step',  log=False)\n",
    "h=ax[2].hist((m2/m1).value, bins=32, histtype='step',  log=True)\n",
    "\n",
    "\n",
    "\n",
    "\n",
    "ax[0].set_xlabel(r'$M_1$', fontsize=18)\n",
    "ax[1].set_xlabel(r'$M_2$', fontsize=18)\n",
    "ax[2].set_xlabel(r'$M_2/M_1$', fontsize=18)\n",
    "plt.tight_layout()\n",
    "\n",
    "for a in ax:\n",
    "    a.minorticks_on()\n",
    "plt.savefig(wisps.OUTPUT_FIGURES+'/mass_ratios.pdf')"
   ]
  },
  {
   "cell_type": "code",
   "execution_count": null,
   "metadata": {},
   "outputs": [],
   "source": [
    "x=np.round(np.array(brf['prim_spt']), decimals=0)\n",
    "y=np.around(np.array(brf['sec_spt']), decimals=0)"
   ]
  },
  {
   "cell_type": "code",
   "execution_count": null,
   "metadata": {},
   "outputs": [],
   "source": [
    "len(x[np.isnan(x)])/len(x), len(y[np.isnan(y)])/len(y)"
   ]
  },
  {
   "cell_type": "code",
   "execution_count": null,
   "metadata": {},
   "outputs": [],
   "source": [
    "xy=np.vstack([x, y]).T"
   ]
  },
  {
   "cell_type": "code",
   "execution_count": null,
   "metadata": {},
   "outputs": [],
   "source": [
    "vals=wispsim.get_system_type(x, y) "
   ]
  },
  {
   "cell_type": "code",
   "execution_count": null,
   "metadata": {},
   "outputs": [],
   "source": [
    "nans=np.isnan(vals)"
   ]
  },
  {
   "cell_type": "code",
   "execution_count": null,
   "metadata": {},
   "outputs": [],
   "source": [
    "len(vals[nans])/len(vals)"
   ]
  },
  {
   "cell_type": "code",
   "execution_count": null,
   "metadata": {},
   "outputs": [],
   "source": [
    "'ha'"
   ]
  },
  {
   "cell_type": "code",
   "execution_count": null,
   "metadata": {},
   "outputs": [],
   "source": [
    "def my_limit(spts):\n",
    "    idx=np.logical_and((spts>= 17), (spts <=40))\n",
    "    return spts[idx]"
   ]
  },
  {
   "cell_type": "code",
   "execution_count": null,
   "metadata": {},
   "outputs": [],
   "source": [
    "#custom_histogram(teffs_bar, teffgrid, 150)*normteff_bar\n",
    "spgrid=np.arange(17, 40, 5)"
   ]
  },
  {
   "cell_type": "code",
   "execution_count": null,
   "metadata": {},
   "outputs": [],
   "source": [
    "import seaborn as sns\n",
    "#flatui =['#001f3f', '#0074D9', '#7FDBFF', '#39CCCC', '#3D9970', '#2ECC40', '#01FF70', '#FFDC00']\n",
    "sns.set_palette(sns.color_palette(\"cubehelix\", 18))"
   ]
  },
  {
   "cell_type": "code",
   "execution_count": null,
   "metadata": {},
   "outputs": [],
   "source": [
    "def bin_by_spt_bin(sp_types, number):\n",
    "    ranges=[[17, 20], [20, 25], [25, 30], [30, 35], [35, 40]]\n",
    "    numbers=[]\n",
    "    for r in ranges:\n",
    "        idx= np.logical_and((r[0]<=sp_types), (r[1]>sp_types))\n",
    "        numbers.append(np.nansum(number[idx]))\n",
    "    return numbers"
   ]
  },
  {
   "cell_type": "code",
   "execution_count": null,
   "metadata": {},
   "outputs": [],
   "source": [
    "vls=wispsim.simulate_spts()"
   ]
  },
  {
   "cell_type": "code",
   "execution_count": null,
   "metadata": {},
   "outputs": [],
   "source": [
    "def get_values(model, b):\n",
    "    b=round(b, 1)\n",
    "    \n",
    "    syst=wispsim.make_systems(model_name=model, bfraction=b)\n",
    "    \n",
    "    sps=(syst['system_spts'])\n",
    "\n",
    "    vls0=len(sps[np.logical_and(sps>=27, sps<32)])\n",
    "    vls1=len(sps)\n",
    "    \n",
    "    return vls0/vls1\n",
    "    "
   ]
  },
  {
   "cell_type": "code",
   "execution_count": null,
   "metadata": {},
   "outputs": [],
   "source": [
    "import dask"
   ]
  },
  {
   "cell_type": "code",
   "execution_count": null,
   "metadata": {},
   "outputs": [],
   "source": [
    "binfr=np.arange(0.01, 0.9,0.01)\n",
    "\n",
    "\n",
    "lt_fract=[]\n",
    "for b in binfr:\n",
    "    lt_fract.append([ get_values('saumon2008', b), get_values('baraffe2003', b),  \n",
    "                     get_values('marley2019', b), get_values('phillips2020', b)])\n"
   ]
  },
  {
   "cell_type": "code",
   "execution_count": null,
   "metadata": {},
   "outputs": [],
   "source": [
    "lt_fract=np.array(lt_fract)"
   ]
  },
  {
   "cell_type": "code",
   "execution_count": null,
   "metadata": {},
   "outputs": [],
   "source": [
    "import seaborn as sns\n",
    "sns.set_palette(sns.color_palette('tab10', 20))"
   ]
  },
  {
   "cell_type": "code",
   "execution_count": null,
   "metadata": {},
   "outputs": [],
   "source": [
    "fig, ax=plt.subplots()\n",
    "plt.plot(binfr, lt_fract[:,0]*100, label='S08', linewidth=3)\n",
    "plt.plot(binfr, lt_fract[:,1]*100, label='B03', linewidth=3)\n",
    "plt.plot(binfr, lt_fract[:,2]*100, label='M19', linewidth=3)\n",
    "plt.plot(binfr, lt_fract[:,3]*100, label='P20', linewidth=3)\n",
    "\n",
    "plt.legend(fontsize=18)\n",
    "ax.grid(which='both', color='#7FDBFF')\n",
    "plt.xlabel(r'$\\epsilon$', fontsize=18)\n",
    "plt.ylabel(r'100 $\\times$ N[L7-T2]/Ntot', fontsize=18)\n",
    "plt.tight_layout()\n",
    "plt.savefig(wisps.OUTPUT_FIGURES+'/binary_effects.pdf')"
   ]
  },
  {
   "cell_type": "code",
   "execution_count": null,
   "metadata": {},
   "outputs": [],
   "source": [
    "vs=wispsim.simulate_spts(recompute=False, nsample=2.5*1e5, name='saumon2008')"
   ]
  },
  {
   "cell_type": "code",
   "execution_count": null,
   "metadata": {},
   "outputs": [],
   "source": []
  }
 ],
 "metadata": {
  "kernelspec": {
   "display_name": "Python 3",
   "language": "python",
   "name": "python3"
  },
  "language_info": {
   "codemirror_mode": {
    "name": "ipython",
    "version": 3
   },
   "file_extension": ".py",
   "mimetype": "text/x-python",
   "name": "python",
   "nbconvert_exporter": "python",
   "pygments_lexer": "ipython3",
   "version": "3.8.3"
  }
 },
 "nbformat": 4,
 "nbformat_minor": 4
}
