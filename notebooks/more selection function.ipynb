{
 "cells": [
  {
   "cell_type": "code",
   "execution_count": 33,
   "metadata": {},
   "outputs": [],
   "source": [
    "\n",
    "#import numpy as np\n",
    "import splat.simulate as spsim\n",
    "import splat.photometry as sphot\n",
    "import splat.core as spl\n",
    "import splat.empirical as spem\n",
    "import splat.simulate as spsim\n",
    "import splat.evolve as spev\n",
    "import bisect\n",
    "import astropy.units as u\n",
    "import scipy\n",
    "import numpy as np\n",
    "\n",
    "import emcee\n",
    "#import warnings; warnings.simplefilter('ignore')\n",
    "from astropy.coordinates import SkyCoord\n",
    "\n",
    "\n",
    "def lnprob(d, dmax, dmin, coord):\n",
    "    \"\"\"\n",
    "    probability density in all directions\n",
    "    \"\"\"\n",
    "    if (d>dmax) or (d<dmin) :\n",
    "        return -np.inf\n",
    "    else:\n",
    "        new_coord=SkyCoord(ra=coord.ra, dec=coord.dec, distance=d*u.pc)\n",
    "        r=(new_coord.cartesian.x**2+new_coord.cartesian.y**2)**0.5\n",
    "        return np.log((d**3)*spsim.galactic_density_juric(r, new_coord.cartesian.z, unit=u.pc, center='sun').value)"
   ]
  },
  {
   "cell_type": "code",
   "execution_count": 26,
   "metadata": {},
   "outputs": [],
   "source": [
    "import wisps.simulations as wispsim"
   ]
  },
  {
   "cell_type": "code",
   "execution_count": 11,
   "metadata": {},
   "outputs": [],
   "source": [
    "coords=wispsim.OBSERVED_POINTINGS"
   ]
  },
  {
   "cell_type": "code",
   "execution_count": 50,
   "metadata": {},
   "outputs": [],
   "source": [
    "%%capture\n",
    "ndim=1\n",
    "nwalkers = 250\n",
    "p0 = np.random.rand(ndim * nwalkers).reshape((nwalkers, ndim))\n",
    "sampler = emcee.EnsembleSampler(nwalkers, ndim, lnprob, args=(300.0, 20.0, coords[0]))\n",
    "sampler.run_mcmc(p0, 1000)"
   ]
  },
  {
   "cell_type": "code",
   "execution_count": 51,
   "metadata": {},
   "outputs": [],
   "source": [
    "import matplotlib.pyplot as plt\n",
    "%matplotlib inline"
   ]
  },
  {
   "cell_type": "code",
   "execution_count": 52,
   "metadata": {},
   "outputs": [],
   "source": [
    "ds=sampler.flatchain[:, 0]"
   ]
  },
  {
   "cell_type": "code",
   "execution_count": 53,
   "metadata": {},
   "outputs": [
    {
     "data": {
      "text/plain": [
       "array([-inf, -inf, -inf, ..., -inf, -inf, -inf])"
      ]
     },
     "execution_count": 53,
     "metadata": {},
     "output_type": "execute_result"
    }
   ],
   "source": [
    "np.concatenate(sampler.lnprobability)"
   ]
  },
  {
   "cell_type": "code",
   "execution_count": 54,
   "metadata": {},
   "outputs": [
    {
     "data": {
      "text/plain": [
       "(250000,)"
      ]
     },
     "execution_count": 54,
     "metadata": {},
     "output_type": "execute_result"
    }
   ],
   "source": [
    "ds.shape"
   ]
  },
  {
   "cell_type": "code",
   "execution_count": 55,
   "metadata": {},
   "outputs": [
    {
     "data": {
      "text/plain": [
       "array([], dtype=float64)"
      ]
     },
     "execution_count": 55,
     "metadata": {},
     "output_type": "execute_result"
    }
   ],
   "source": [
    "ds[~np.isinf(np.concatenate(sampler.lnprobability))]"
   ]
  },
  {
   "cell_type": "code",
   "execution_count": null,
   "metadata": {},
   "outputs": [],
   "source": []
  }
 ],
 "metadata": {
  "kernelspec": {
   "display_name": "Python 3",
   "language": "python",
   "name": "python3"
  },
  "language_info": {
   "codemirror_mode": {
    "name": "ipython",
    "version": 3
   },
   "file_extension": ".py",
   "mimetype": "text/x-python",
   "name": "python",
   "nbconvert_exporter": "python",
   "pygments_lexer": "ipython3",
   "version": "3.6.8"
  }
 },
 "nbformat": 4,
 "nbformat_minor": 2
}
