{
 "cells": [
  {
   "cell_type": "markdown",
   "metadata": {},
   "source": [
    "Try random forests, start with an example of the iris data set"
   ]
  },
  {
   "cell_type": "code",
   "execution_count": 3,
   "metadata": {
    "collapsed": true
   },
   "outputs": [],
   "source": [
    "import splat\n",
    "import sklearn\n",
    "import wisps\n",
    "import pandas as pd\n",
    "import seaborn as sns\n",
    "import numpy as np\n",
    "import matplotlib.pyplot as plt\n",
    "%matplotlib inline"
   ]
  },
  {
   "cell_type": "code",
   "execution_count": 4,
   "metadata": {},
   "outputs": [],
   "source": [
    "from wisps import Annotator\n",
    "import math"
   ]
  },
  {
   "cell_type": "code",
   "execution_count": 5,
   "metadata": {},
   "outputs": [],
   "source": [
    "from sklearn.metrics import accuracy_score"
   ]
  },
  {
   "cell_type": "code",
   "execution_count": 6,
   "metadata": {},
   "outputs": [],
   "source": [
    "from wisps import datasets"
   ]
  },
  {
   "cell_type": "code",
   "execution_count": 7,
   "metadata": {},
   "outputs": [],
   "source": [
    "spdf=datasets['spex_data_set']"
   ]
  },
  {
   "cell_type": "code",
   "execution_count": 8,
   "metadata": {},
   "outputs": [],
   "source": [
    "hst3d=datasets['aegis_cosmos']"
   ]
  },
  {
   "cell_type": "markdown",
   "metadata": {},
   "source": [
    "Label the spex data by spectral type"
   ]
  },
  {
   "cell_type": "code",
   "execution_count": 9,
   "metadata": {},
   "outputs": [
    {
     "data": {
      "text/plain": [
       "(Index(['CH_4/H-Cont', 'CH_4/H_2O-1', 'CH_4/H_2O-2', 'CH_4/J-Cont',\n",
       "        'H-cont/H_2O-1', 'H-cont/H_2O-2', 'H-cont/J-Cont', 'H_2O-1/J-Cont',\n",
       "        'H_2O-2/H_2O-1', 'H_2O-2/J-Cont', 'name', 'line_chi', 'spex_chi',\n",
       "        't_snr', 'f_test'],\n",
       "       dtype='object'),\n",
       " Index(['CH_4/H-Cont', 'CH_4/H_2O-1', 'CH_4/H_2O-2', 'CH_4/J-Cont',\n",
       "        'H-cont/H_2O-1', 'H-cont/H_2O-2', 'H-cont/J-Cont', 'H_2O-1/J-Cont',\n",
       "        'H_2O-2/H_2O-1', 'H_2O-2/J-Cont', 'spt', 'spex_chi', 'name', 'l_snr',\n",
       "        'l_t_snr', 'med_snr', 'cdf_snr', 'line_chi', 'f_x'],\n",
       "       dtype='object'))"
      ]
     },
     "execution_count": 9,
     "metadata": {},
     "output_type": "execute_result"
    }
   ],
   "source": [
    "hst3d.columns, spdf.columns"
   ]
  },
  {
   "cell_type": "code",
   "execution_count": 10,
   "metadata": {},
   "outputs": [],
   "source": [
    "#make the features numeric \n",
    "spdf=Annotator.reformat_table(Annotator.group_by_spt(spdf,assign_from_one=True, spt_label='spt').drop('data_type', axis=1).replace(np.inf, np.nan)).dropna(how='any')"
   ]
  },
  {
   "cell_type": "code",
   "execution_count": 11,
   "metadata": {},
   "outputs": [],
   "source": [
    "#columns to care about \n",
    "columns=wisps.INDEX_NAMES"
   ]
  },
  {
   "cell_type": "code",
   "execution_count": 12,
   "metadata": {},
   "outputs": [],
   "source": [
    "sptrain=spdf[columns]\n",
    "splabels=spdf['spt_range']"
   ]
  },
  {
   "cell_type": "code",
   "execution_count": 13,
   "metadata": {},
   "outputs": [],
   "source": [
    "#sptrain\n",
    "sp_train=sptrain[:762]\n",
    "sp_test=sptrain[762:]\n",
    "sp_train_labels=splabels[:762].values\n",
    "sp_test_labels=splabels[762:].values"
   ]
  },
  {
   "cell_type": "code",
   "execution_count": 14,
   "metadata": {},
   "outputs": [
    {
     "data": {
      "text/plain": [
       "RandomForestClassifier(bootstrap=True, class_weight=None, criterion='gini',\n",
       "            max_depth=None, max_features='auto', max_leaf_nodes=None,\n",
       "            min_impurity_decrease=0.0, min_impurity_split=None,\n",
       "            min_samples_leaf=1, min_samples_split=2,\n",
       "            min_weight_fraction_leaf=0.0, n_estimators=1000, n_jobs=None,\n",
       "            oob_score=True, random_state=123456, verbose=0,\n",
       "            warm_start=False)"
      ]
     },
     "execution_count": 14,
     "metadata": {},
     "output_type": "execute_result"
    }
   ],
   "source": [
    "from sklearn.ensemble import RandomForestClassifier\n",
    "rf = RandomForestClassifier(n_estimators=1000, oob_score=True, random_state=123456)\n",
    "rf.fit(sp_train, sp_train_labels)"
   ]
  },
  {
   "cell_type": "code",
   "execution_count": 15,
   "metadata": {},
   "outputs": [
    {
     "data": {
      "text/plain": [
       "<matplotlib.axes._subplots.AxesSubplot at 0x1c3045ec18>"
      ]
     },
     "execution_count": 15,
     "metadata": {},
     "output_type": "execute_result"
    },
    {
     "data": {
      "image/png": "[encoded data removed]",
      "text/plain": [
       "<Figure size 432x288 with 2 Axes>"
      ]
     },
     "metadata": {
      "needs_background": "light"
     },
     "output_type": "display_data"
    }
   ],
   "source": [
    "from sklearn.metrics import confusion_matrix\n",
    "spex_predicted = rf.predict(sp_test)\n",
    "model_accuracy = accuracy_score(sp_test_labels, spex_predicted)\n",
    "    #y_test, predicted\n",
    "classes=['M7-L0', 'L0-L5', 'L5-T0','T0-T5','T5-T9']\n",
    "cm = pd.DataFrame(confusion_matrix(sp_test_labels, spex_predicted), \n",
    "                  columns=classes, index=classes)\n",
    "sns.heatmap(cm, annot=True, cmap=wisps.MYCOLORMAP)"
   ]
  },
  {
   "cell_type": "code",
   "execution_count": 16,
   "metadata": {},
   "outputs": [
    {
     "name": "stdout",
     "output_type": "stream",
     "text": [
      "0.8270777479892761\n"
     ]
    }
   ],
   "source": [
    "print (model_accuracy)"
   ]
  },
  {
   "cell_type": "markdown",
   "metadata": {},
   "source": [
    "This works in principle, almost as good as my boxes"
   ]
  },
  {
   "cell_type": "code",
   "execution_count": 17,
   "metadata": {},
   "outputs": [],
   "source": [
    "#pred sets\n",
    "\n",
    "#look at things with f(x)>0.8\n",
    "new_cols=np.append(columns, 'name')\n",
    "fmtted=Annotator.reformat_table(hst3d[(hst3d.f_test>0.8)&(hst3d.t_snr>5.0)][new_cols]).replace(np.inf, np.nan).dropna(how='any')\n",
    "pred_set=fmtted[columns].values"
   ]
  },
  {
   "cell_type": "code",
   "execution_count": 18,
   "metadata": {},
   "outputs": [
    {
     "data": {
      "text/plain": [
       "(77, 10)"
      ]
     },
     "execution_count": 18,
     "metadata": {},
     "output_type": "execute_result"
    }
   ],
   "source": [
    "pred_set.shape"
   ]
  },
  {
   "cell_type": "code",
   "execution_count": 19,
   "metadata": {},
   "outputs": [],
   "source": [
    "#fmtted.reindex()"
   ]
  },
  {
   "cell_type": "code",
   "execution_count": 20,
   "metadata": {},
   "outputs": [],
   "source": [
    "#test_set\n",
    "from sklearn import preprocessing\n",
    "set_pred_labels=rf.predict(pred_set)"
   ]
  },
  {
   "cell_type": "code",
   "execution_count": 21,
   "metadata": {},
   "outputs": [
    {
     "data": {
      "text/plain": [
       "Text(0, 0.5, 'number')"
      ]
     },
     "execution_count": 21,
     "metadata": {},
     "output_type": "execute_result"
    },
    {
     "data": {
      "image/png": "[encoded data removed]",
      "text/plain": [
       "<Figure size 432x288 with 1 Axes>"
      ]
     },
     "metadata": {
      "needs_background": "light"
     },
     "output_type": "display_data"
    }
   ],
   "source": [
    "fig, ax=plt.subplots()\n",
    "sns.distplot(set_pred_labels, kde=False, ax=ax)\n",
    "ax.set_xticks([1.0, 2.0, 3.0, 4.0, 5.0])\n",
    "ax.set_xticklabels(['M7-L0', 'L0-L5', 'L5-T0','T0-T5','T5-T9'])\n",
    "ax.set_xlabel('predicted label', fontsize=16)\n",
    "ax.set_ylabel('number', fontsize=16)"
   ]
  },
  {
   "cell_type": "code",
   "execution_count": 22,
   "metadata": {},
   "outputs": [],
   "source": [
    "slct=fmtted.iloc[np.where(set_pred_labels>1.0)[0]]\n"
   ]
  },
  {
   "cell_type": "code",
   "execution_count": 23,
   "metadata": {},
   "outputs": [
    {
     "data": {
      "text/html": [
       "<div>\n",
       "<style scoped>\n",
       "    .dataframe tbody tr th:only-of-type {\n",
       "        vertical-align: middle;\n",
       "    }\n",
       "\n",
       "    .dataframe tbody tr th {\n",
       "        vertical-align: top;\n",
       "    }\n",
       "\n",
       "    .dataframe thead th {\n",
       "        text-align: right;\n",
       "    }\n",
       "</style>\n",
       "<table border=\"1\" class=\"dataframe\">\n",
       "  <thead>\n",
       "    <tr style=\"text-align: right;\">\n",
       "      <th></th>\n",
       "      <th>H_2O-1/J-Cont</th>\n",
       "      <th>H_2O-2/H_2O-1</th>\n",
       "      <th>H-cont/H_2O-1</th>\n",
       "      <th>CH_4/H_2O-1</th>\n",
       "      <th>H_2O-2/J-Cont</th>\n",
       "      <th>H-cont/J-Cont</th>\n",
       "      <th>CH_4/J-Cont</th>\n",
       "      <th>H-cont/H_2O-2</th>\n",
       "      <th>CH_4/H_2O-2</th>\n",
       "      <th>CH_4/H-Cont</th>\n",
       "      <th>name</th>\n",
       "    </tr>\n",
       "  </thead>\n",
       "  <tbody>\n",
       "    <tr>\n",
       "      <th>11</th>\n",
       "      <td>0.336757</td>\n",
       "      <td>0.394236</td>\n",
       "      <td>1.543710</td>\n",
       "      <td>0.719384</td>\n",
       "      <td>0.132762</td>\n",
       "      <td>0.519855</td>\n",
       "      <td>0.242257</td>\n",
       "      <td>3.915696</td>\n",
       "      <td>1.824752</td>\n",
       "      <td>0.466010</td>\n",
       "      <td>aegis-03-G141_17053.1D.ascii</td>\n",
       "    </tr>\n",
       "    <tr>\n",
       "      <th>19</th>\n",
       "      <td>0.980167</td>\n",
       "      <td>0.243498</td>\n",
       "      <td>0.952332</td>\n",
       "      <td>0.695074</td>\n",
       "      <td>0.238668</td>\n",
       "      <td>0.933444</td>\n",
       "      <td>0.681289</td>\n",
       "      <td>3.911054</td>\n",
       "      <td>2.854544</td>\n",
       "      <td>0.729866</td>\n",
       "      <td>aegis-05-G141_27802.1D.ascii</td>\n",
       "    </tr>\n",
       "    <tr>\n",
       "      <th>20</th>\n",
       "      <td>0.894074</td>\n",
       "      <td>0.553001</td>\n",
       "      <td>1.066769</td>\n",
       "      <td>0.666109</td>\n",
       "      <td>0.494424</td>\n",
       "      <td>0.953770</td>\n",
       "      <td>0.595551</td>\n",
       "      <td>1.929055</td>\n",
       "      <td>1.204536</td>\n",
       "      <td>0.624418</td>\n",
       "      <td>aegis-05-G141_28082.1D.ascii</td>\n",
       "    </tr>\n",
       "    <tr>\n",
       "      <th>24</th>\n",
       "      <td>131.379706</td>\n",
       "      <td>0.035964</td>\n",
       "      <td>1.069082</td>\n",
       "      <td>1.045468</td>\n",
       "      <td>4.724934</td>\n",
       "      <td>140.455656</td>\n",
       "      <td>137.353299</td>\n",
       "      <td>29.726478</td>\n",
       "      <td>29.069886</td>\n",
       "      <td>0.977912</td>\n",
       "      <td>aegis-06-G141_06975.1D.ascii</td>\n",
       "    </tr>\n",
       "    <tr>\n",
       "      <th>91</th>\n",
       "      <td>1.020519</td>\n",
       "      <td>0.761336</td>\n",
       "      <td>6.401986</td>\n",
       "      <td>5.076741</td>\n",
       "      <td>0.776957</td>\n",
       "      <td>6.533348</td>\n",
       "      <td>5.180910</td>\n",
       "      <td>8.408888</td>\n",
       "      <td>6.668203</td>\n",
       "      <td>0.792995</td>\n",
       "      <td>cosmos-08-G141_24608.1D.ascii</td>\n",
       "    </tr>\n",
       "    <tr>\n",
       "      <th>94</th>\n",
       "      <td>1.264839</td>\n",
       "      <td>0.126592</td>\n",
       "      <td>1.002627</td>\n",
       "      <td>1.003331</td>\n",
       "      <td>0.160119</td>\n",
       "      <td>1.268162</td>\n",
       "      <td>1.269052</td>\n",
       "      <td>7.920121</td>\n",
       "      <td>7.925682</td>\n",
       "      <td>1.000702</td>\n",
       "      <td>cosmos-08-G141_27262.1D.ascii</td>\n",
       "    </tr>\n",
       "    <tr>\n",
       "      <th>106</th>\n",
       "      <td>1.000000</td>\n",
       "      <td>0.220521</td>\n",
       "      <td>1.000000</td>\n",
       "      <td>1.000000</td>\n",
       "      <td>0.220521</td>\n",
       "      <td>1.000000</td>\n",
       "      <td>1.000000</td>\n",
       "      <td>4.534725</td>\n",
       "      <td>4.534725</td>\n",
       "      <td>1.000000</td>\n",
       "      <td>cosmos-11-G141_28568.1D.ascii</td>\n",
       "    </tr>\n",
       "    <tr>\n",
       "      <th>125</th>\n",
       "      <td>1.024732</td>\n",
       "      <td>0.463484</td>\n",
       "      <td>0.930037</td>\n",
       "      <td>0.805721</td>\n",
       "      <td>0.474947</td>\n",
       "      <td>0.953039</td>\n",
       "      <td>0.825648</td>\n",
       "      <td>2.006622</td>\n",
       "      <td>1.738400</td>\n",
       "      <td>0.866332</td>\n",
       "      <td>cosmos-18-G141_17314.1D.ascii</td>\n",
       "    </tr>\n",
       "    <tr>\n",
       "      <th>126</th>\n",
       "      <td>1.095927</td>\n",
       "      <td>0.180236</td>\n",
       "      <td>0.984817</td>\n",
       "      <td>0.980301</td>\n",
       "      <td>0.197525</td>\n",
       "      <td>1.079287</td>\n",
       "      <td>1.074338</td>\n",
       "      <td>5.464050</td>\n",
       "      <td>5.438997</td>\n",
       "      <td>0.995415</td>\n",
       "      <td>cosmos-18-G141_18833.1D.ascii</td>\n",
       "    </tr>\n",
       "    <tr>\n",
       "      <th>160</th>\n",
       "      <td>1.454404</td>\n",
       "      <td>0.264447</td>\n",
       "      <td>0.512219</td>\n",
       "      <td>1.141213</td>\n",
       "      <td>0.384613</td>\n",
       "      <td>0.744974</td>\n",
       "      <td>1.659784</td>\n",
       "      <td>1.936942</td>\n",
       "      <td>4.315462</td>\n",
       "      <td>2.227977</td>\n",
       "      <td>cosmos-25-G141_19146.1D.ascii</td>\n",
       "    </tr>\n",
       "    <tr>\n",
       "      <th>164</th>\n",
       "      <td>1.016885</td>\n",
       "      <td>0.010328</td>\n",
       "      <td>0.917036</td>\n",
       "      <td>0.969269</td>\n",
       "      <td>0.010502</td>\n",
       "      <td>0.932520</td>\n",
       "      <td>0.985635</td>\n",
       "      <td>88.794590</td>\n",
       "      <td>93.852182</td>\n",
       "      <td>1.056958</td>\n",
       "      <td>cosmos-26-G141_12377.1D.ascii</td>\n",
       "    </tr>\n",
       "  </tbody>\n",
       "</table>\n",
       "</div>"
      ],
      "text/plain": [
       "     H_2O-1/J-Cont  H_2O-2/H_2O-1  H-cont/H_2O-1  CH_4/H_2O-1  H_2O-2/J-Cont  \\\n",
       "11        0.336757       0.394236       1.543710     0.719384       0.132762   \n",
       "19        0.980167       0.243498       0.952332     0.695074       0.238668   \n",
       "20        0.894074       0.553001       1.066769     0.666109       0.494424   \n",
       "24      131.379706       0.035964       1.069082     1.045468       4.724934   \n",
       "91        1.020519       0.761336       6.401986     5.076741       0.776957   \n",
       "94        1.264839       0.126592       1.002627     1.003331       0.160119   \n",
       "106       1.000000       0.220521       1.000000     1.000000       0.220521   \n",
       "125       1.024732       0.463484       0.930037     0.805721       0.474947   \n",
       "126       1.095927       0.180236       0.984817     0.980301       0.197525   \n",
       "160       1.454404       0.264447       0.512219     1.141213       0.384613   \n",
       "164       1.016885       0.010328       0.917036     0.969269       0.010502   \n",
       "\n",
       "     H-cont/J-Cont  CH_4/J-Cont  H-cont/H_2O-2  CH_4/H_2O-2  CH_4/H-Cont  \\\n",
       "11        0.519855     0.242257       3.915696     1.824752     0.466010   \n",
       "19        0.933444     0.681289       3.911054     2.854544     0.729866   \n",
       "20        0.953770     0.595551       1.929055     1.204536     0.624418   \n",
       "24      140.455656   137.353299      29.726478    29.069886     0.977912   \n",
       "91        6.533348     5.180910       8.408888     6.668203     0.792995   \n",
       "94        1.268162     1.269052       7.920121     7.925682     1.000702   \n",
       "106       1.000000     1.000000       4.534725     4.534725     1.000000   \n",
       "125       0.953039     0.825648       2.006622     1.738400     0.866332   \n",
       "126       1.079287     1.074338       5.464050     5.438997     0.995415   \n",
       "160       0.744974     1.659784       1.936942     4.315462     2.227977   \n",
       "164       0.932520     0.985635      88.794590    93.852182     1.056958   \n",
       "\n",
       "                              name  \n",
       "11    aegis-03-G141_17053.1D.ascii  \n",
       "19    aegis-05-G141_27802.1D.ascii  \n",
       "20    aegis-05-G141_28082.1D.ascii  \n",
       "24    aegis-06-G141_06975.1D.ascii  \n",
       "91   cosmos-08-G141_24608.1D.ascii  \n",
       "94   cosmos-08-G141_27262.1D.ascii  \n",
       "106  cosmos-11-G141_28568.1D.ascii  \n",
       "125  cosmos-18-G141_17314.1D.ascii  \n",
       "126  cosmos-18-G141_18833.1D.ascii  \n",
       "160  cosmos-25-G141_19146.1D.ascii  \n",
       "164  cosmos-26-G141_12377.1D.ascii  "
      ]
     },
     "execution_count": 23,
     "metadata": {},
     "output_type": "execute_result"
    }
   ],
   "source": [
    "slct"
   ]
  },
  {
   "cell_type": "code",
   "execution_count": 24,
   "metadata": {},
   "outputs": [],
   "source": [
    "def plot_spec(n):\n",
    "        sp=wisps.Spectrum(name=n)\n",
    "        sp.plot()\n",
    "\n",
    "def plot(n):\n",
    "    try:\n",
    "        sp=wisps.Source(name=n)\n",
    "        print (sp.flags, sp.spectral_type)\n",
    "        if ((sp.flags[-3] ==1.0)& (sp.flags[-1]<0.1) & (sp.flags[-2]<0.1)): sp.plot()\n",
    "    except KeyError: pass"
   ]
  },
  {
   "cell_type": "code",
   "execution_count": 26,
   "metadata": {},
   "outputs": [
    {
     "data": {
      "text/plain": [
       "11      aegis-03-G141_17053.1D.ascii\n",
       "19      aegis-05-G141_27802.1D.ascii\n",
       "20      aegis-05-G141_28082.1D.ascii\n",
       "24      aegis-06-G141_06975.1D.ascii\n",
       "91     cosmos-08-G141_24608.1D.ascii\n",
       "94     cosmos-08-G141_27262.1D.ascii\n",
       "106    cosmos-11-G141_28568.1D.ascii\n",
       "125    cosmos-18-G141_17314.1D.ascii\n",
       "126    cosmos-18-G141_18833.1D.ascii\n",
       "160    cosmos-25-G141_19146.1D.ascii\n",
       "164    cosmos-26-G141_12377.1D.ascii\n",
       "Name: name, dtype: object"
      ]
     },
     "execution_count": 26,
     "metadata": {},
     "output_type": "execute_result"
    }
   ],
   "source": [
    "slct.name"
   ]
  },
  {
   "cell_type": "code",
   "execution_count": null,
   "metadata": {},
   "outputs": [],
   "source": []
  }
 ],
 "metadata": {
  "kernelspec": {
   "display_name": "Python 3",
   "language": "python",
   "name": "python3"
  },
  "language_info": {
   "codemirror_mode": {
    "name": "ipython",
    "version": 3
   },
   "file_extension": ".py",
   "mimetype": "text/x-python",
   "name": "python",
   "nbconvert_exporter": "python",
   "pygments_lexer": "ipython3",
   "version": "3.7.3"
  }
 },
 "nbformat": 4,
 "nbformat_minor": 2
}
