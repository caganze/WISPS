{
 "cells": [
  {
   "cell_type": "code",
   "execution_count": 15,
   "metadata": {},
   "outputs": [],
   "source": [
    "import splat\n",
    "import wisps\n",
    "import numpy as np\n",
    "import matplotlib.pyplot as plt\n",
    "from wisps import Annotator as an\n",
    "from wisps import datasets\n",
    "import pandas as pd\n",
    "%matplotlib inline"
   ]
  },
  {
   "cell_type": "code",
   "execution_count": 9,
   "metadata": {},
   "outputs": [],
   "source": [
    "#load the data \n",
    "spex= an.reformat_table(wisps.datasets['spex_data_set']).rename(columns={'f_x': 'f_test', 'l_snr':'t_snr'}).dropna(how='any')\n",
    "hst3d0=an.reformat_table(wisps.datasets['aegis_cosmos']).replace(np.inf, np.nan).dropna(how='any')\n",
    "\n",
    "#label spex\n",
    "spex=an.group_by_spt(spex, spt_label='spt', assign_from_one=True)\n",
    "\n",
    "#only look at things that fit better to a spectral standard than a line\n",
    "hst3d=hst3d0[(hst3d0.f_test>0.6) & (hst3d0.t_snr>5.0)]\n",
    "\n",
    "#features that I care about \n",
    "features=list(hst3d.columns)\n",
    "features.remove('name')"
   ]
  },
  {
   "cell_type": "code",
   "execution_count": 7,
   "metadata": {},
   "outputs": [
    {
     "data": {
      "text/plain": [
       "((112, 14), (1508, 14))"
      ]
     },
     "execution_count": 7,
     "metadata": {},
     "output_type": "execute_result"
    }
   ],
   "source": [
    "hst3d[features].values.shape, spex[features].values.shape"
   ]
  },
  {
   "cell_type": "markdown",
   "metadata": {},
   "source": [
    "#### Create a Training Set\n",
    "\n",
    "My training set has wisps stuff and trash i.e things that I know are not bds\n",
    "\n",
    "But not all of them, I'll just pick 4000 random objects to keep the proportion reasonable? It's a way of scaling my data idk\n",
    "if this is the right way to go about it \n"
   ]
  },
  {
   "cell_type": "code",
   "execution_count": 16,
   "metadata": {},
   "outputs": [],
   "source": [
    "#create a training dataset\n",
    "trash=hst3d0[(hst3d0.f_test<0.6) & (hst3d0.t_snr<5.0)].sample(n=4000)\n",
    "#label them \n",
    "trash['spt_range']=0.0\n",
    "#combine these\n",
    "train_df=pd.concat([trash, spex])"
   ]
  },
  {
   "cell_type": "markdown",
   "metadata": {},
   "source": [
    "#### Create a Test Set\n",
    "\n",
    "Divide the training set into two"
   ]
  },
  {
   "cell_type": "code",
   "execution_count": 24,
   "metadata": {},
   "outputs": [],
   "source": [
    "#cleanup\n",
    "train_set=train_df[features]\n",
    "train_label=train_df['spt_range']"
   ]
  },
  {
   "cell_type": "code",
   "execution_count": 25,
   "metadata": {},
   "outputs": [],
   "source": [
    "#blah blah balh"
   ]
  },
  {
   "cell_type": "code",
   "execution_count": null,
   "metadata": {},
   "outputs": [],
   "source": []
  }
 ],
 "metadata": {
  "kernelspec": {
   "display_name": "Python 3",
   "language": "python",
   "name": "python3"
  },
  "language_info": {
   "codemirror_mode": {
    "name": "ipython",
    "version": 3
   },
   "file_extension": ".py",
   "mimetype": "text/x-python",
   "name": "python",
   "nbconvert_exporter": "python",
   "pygments_lexer": "ipython3",
   "version": "3.6.6"
  }
 },
 "nbformat": 4,
 "nbformat_minor": 2
}
