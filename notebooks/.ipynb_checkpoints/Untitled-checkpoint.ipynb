{
 "cells": [
  {
   "cell_type": "code",
   "execution_count": 94,
   "metadata": {},
   "outputs": [],
   "source": [
    "import numpy as np\n",
    "import matplotlib.pyplot as plt\n",
    "import splat.simulate as spsim\n",
    "import wisps.simulations as wispsim\n",
    "import emcee\n",
    "from astropy.coordinates import SkyCoord\n",
    "import astropy.units as u\n",
    "%matplotlib inline"
   ]
  },
  {
   "cell_type": "code",
   "execution_count": 96,
   "metadata": {},
   "outputs": [],
   "source": [
    "def lnprob(d, dmax, dmin, coord):\n",
    "    \"\"\"\n",
    "    probability density in all directions\n",
    "    \"\"\"\n",
    "    if (d>dmax) or (d<dmin) :\n",
    "        return -np.inf\n",
    "    else:\n",
    "        new_coord=SkyCoord(ra=coord.ra, dec=coord.dec, distance=d*u.kpc)\n",
    "        r=(new_coord.cartesian.x**2+new_coord.cartesian.y**2)**0.5\n",
    "        return np.log((d**3)*spsim.galactic_density_juric(r, new_coord.cartesian.z, unit=u.kpc, center='sun').value)"
   ]
  },
  {
   "cell_type": "code",
   "execution_count": 126,
   "metadata": {},
   "outputs": [],
   "source": [
    "class Pointing(object):\n",
    "    \n",
    "    def __init__(self, **kwargs):\n",
    "        ## a random pointing\n",
    "        self.direction=kwargs.get('direc', None)\n",
    "        self.ensemble_samplers=[]\n",
    "    \n",
    "    def sample(self, dmin, dmax, nsample):\n",
    "        ##run MCMC \n",
    "        ndim=1\n",
    "        nwalkers = 250\n",
    "        p0 = np.random.rand(ndim * nwalkers).reshape((nwalkers, ndim))\n",
    "        sampler =emcee.EnsembleSampler(nwalkers, ndim, lnprob, args=(dmax, dmin, self.direction))\n",
    "        sampler.run_mcmc(p0, nsample)\n",
    "        self.ensemble_samplers.append(sampler)\n",
    "        \n",
    "    @property\n",
    "    def samples(self):\n",
    "        return [x for x in self.ensemble_sampler.flatchain\n",
    "    @property\n",
    "    def lnprobability(self):\n",
    "        return np.concatenate(self.ensemble_sampler.lnprobability)\n",
    "        "
   ]
  },
  {
   "cell_type": "code",
   "execution_count": 103,
   "metadata": {},
   "outputs": [],
   "source": [
    "pnts=[Pointing(direc=x) for x in wispsim.OBSERVED_POINTINGS]"
   ]
  },
  {
   "cell_type": "code",
   "execution_count": 105,
   "metadata": {},
   "outputs": [],
   "source": [
    "%%capture \n",
    "list(map(lambda x: x.sample(0.01, 2.0, 10), pnts))"
   ]
  },
  {
   "cell_type": "code",
   "execution_count": 106,
   "metadata": {},
   "outputs": [],
   "source": [
    "x=pnts[-1]"
   ]
  },
  {
   "cell_type": "code",
   "execution_count": 107,
   "metadata": {},
   "outputs": [
    {
     "data": {
      "text/plain": [
       "array([[0.11800332],\n",
       "       [0.59022212],\n",
       "       [0.68370517],\n",
       "       ...,\n",
       "       [0.27349108],\n",
       "       [0.27349108],\n",
       "       [0.27349108]])"
      ]
     },
     "execution_count": 107,
     "metadata": {},
     "output_type": "execute_result"
    }
   ],
   "source": [
    "x.samples[~np.isinf(x.lnprobability)]"
   ]
  },
  {
   "cell_type": "code",
   "execution_count": 109,
   "metadata": {},
   "outputs": [
    {
     "ename": "TypeError",
     "evalue": "only integer scalar arrays can be converted to a scalar index",
     "output_type": "error",
     "traceback": [
      "\u001b[0;31m---------------------------------------------------------------------------\u001b[0m",
      "\u001b[0;31mTypeError\u001b[0m                                 Traceback (most recent call last)",
      "\u001b[0;32m<ipython-input-109-676393439de3>\u001b[0m in \u001b[0;36m<module>\u001b[0;34m()\u001b[0m\n\u001b[0;32m----> 1\u001b[0;31m \u001b[0mplt\u001b[0m\u001b[0;34m.\u001b[0m\u001b[0mhist\u001b[0m\u001b[0;34m(\u001b[0m\u001b[0mx\u001b[0m\u001b[0;34m.\u001b[0m\u001b[0msamples\u001b[0m\u001b[0;34m[\u001b[0m\u001b[0;34m:\u001b[0m\u001b[0;34m,\u001b[0m\u001b[0;36m0\u001b[0m\u001b[0;34m]\u001b[0m\u001b[0;34m)\u001b[0m\u001b[0;34m[\u001b[0m\u001b[0;34m~\u001b[0m\u001b[0mnp\u001b[0m\u001b[0;34m.\u001b[0m\u001b[0misinf\u001b[0m\u001b[0;34m(\u001b[0m\u001b[0mx\u001b[0m\u001b[0;34m.\u001b[0m\u001b[0mlnprobability\u001b[0m\u001b[0;34m)\u001b[0m\u001b[0;34m]\u001b[0m\u001b[0;34m\u001b[0m\u001b[0;34m\u001b[0m\u001b[0m\n\u001b[0m",
      "\u001b[0;31mTypeError\u001b[0m: only integer scalar arrays can be converted to a scalar index"
     ]
    },
    {
     "data": {
      "image/png": "[encoded data removed]",
      "text/plain": [
       "<Figure size 480x240 with 1 Axes>"
      ]
     },
     "metadata": {},
     "output_type": "display_data"
    }
   ],
   "source": [
    "plt.hist(x.samples[:,0])[~np.isinf(x.lnprobability)]"
   ]
  },
  {
   "cell_type": "code",
   "execution_count": 84,
   "metadata": {},
   "outputs": [],
   "source": [
    "p=Pointing(direc=wispsim.OBSERVED_POINTINGS[-1])"
   ]
  },
  {
   "cell_type": "code",
   "execution_count": 111,
   "metadata": {},
   "outputs": [],
   "source": [
    "dlimits, spgrid, vols, vcs=wispsim.compute_effective_volumes()"
   ]
  },
  {
   "cell_type": "code",
   "execution_count": 122,
   "metadata": {},
   "outputs": [],
   "source": [
    "%%capture\n",
    "list(map(lambda x: [x.sample(dlim[0], dlim[1], 10) for dlim in dlimits], pnts))#[(p, dlim)for dlim, p in zip(dlimits, pnts)]"
   ]
  },
  {
   "cell_type": "code",
   "execution_count": 125,
   "metadata": {},
   "outputs": [
    {
     "data": {
      "text/plain": [
       "(array([220., 310., 270., 190., 260., 160., 240., 220., 260., 370.]),\n",
       " array([0.00111415, 0.10026874, 0.19942333, 0.29857792, 0.39773251,\n",
       "        0.4968871 , 0.59604169, 0.69519627, 0.79435086, 0.89350545,\n",
       "        0.99266004]),\n",
       " <a list of 10 Patch objects>)"
      ]
     },
     "execution_count": 125,
     "metadata": {},
     "output_type": "execute_result"
    },
    {
     "data": {
      "image/png": "[encoded data removed]",
      "text/plain": [
       "<Figure size 480x240 with 1 Axes>"
      ]
     },
     "metadata": {},
     "output_type": "display_data"
    }
   ],
   "source": [
    "plt.hist((pnts[0]).samples)"
   ]
  },
  {
   "cell_type": "code",
   "execution_count": null,
   "metadata": {},
   "outputs": [],
   "source": []
  }
 ],
 "metadata": {
  "kernelspec": {
   "display_name": "Python 3",
   "language": "python",
   "name": "python3"
  },
  "language_info": {
   "codemirror_mode": {
    "name": "ipython",
    "version": 3
   },
   "file_extension": ".py",
   "mimetype": "text/x-python",
   "name": "python",
   "nbconvert_exporter": "python",
   "pygments_lexer": "ipython3",
   "version": "3.6.8"
  }
 },
 "nbformat": 4,
 "nbformat_minor": 2
}
