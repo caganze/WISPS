{
 "cells": [
  {
   "cell_type": "code",
   "execution_count": 1,
   "metadata": {},
   "outputs": [],
   "source": [
    "import splat\n",
    "import wisps\n",
    "import pandas as pd\n",
    "import matplotlib.pyplot as plt\n",
    "import numpy as np\n",
    "from scipy import interpolate\n",
    "%matplotlib inline"
   ]
  },
  {
   "cell_type": "code",
   "execution_count": 4,
   "metadata": {},
   "outputs": [],
   "source": [
    "ids=pd.read_hdf(wisps.OUTPUT_FILES+'/indices.hdf', key='aegis')"
   ]
  },
  {
   "cell_type": "code",
   "execution_count": null,
   "metadata": {},
   "outputs": [],
   "source": [
    "cosmos=pd.read_hdf(wisps.OUTPUT_FILES+'/indices.hdf', key='cosmos')"
   ]
  },
  {
   "cell_type": "code",
   "execution_count": 6,
   "metadata": {},
   "outputs": [
    {
     "data": {
      "text/plain": [
       "Index(['CH_4/H-Cont', 'CH_4/H_2O-1', 'CH_4/H_2O-2', 'CH_4/J-Cont',\n",
       "       'H-cont/H_2O-1', 'H-cont/H_2O-2', 'H-cont/J-Cont', 'H_2O-1/J-Cont',\n",
       "       'H_2O-2/H_2O-1', 'H_2O-2/J-Cont', 'name', 'snr', 'spectra'],\n",
       "      dtype='object')"
      ]
     },
     "execution_count": 6,
     "metadata": {},
     "output_type": "execute_result"
    }
   ],
   "source": [
    "ids.columns"
   ]
  },
  {
   "cell_type": "code",
   "execution_count": 7,
   "metadata": {},
   "outputs": [],
   "source": [
    "df=pd.read_pickle(wisps.OUTPUT_FILES+'/goods_01.pkl')"
   ]
  },
  {
   "cell_type": "code",
   "execution_count": 8,
   "metadata": {},
   "outputs": [
    {
     "data": {
      "text/plain": [
       "Index(['CH_4/H-Cont', 'CH_4/H_2O-1', 'CH_4/H_2O-2', 'CH_4/J-Cont',\n",
       "       'H-cont/H_2O-1', 'H-cont/H_2O-2', 'H-cont/J-Cont', 'H_2O-1/J-Cont',\n",
       "       'H_2O-2/H_2O-1', 'H_2O-2/J-Cont', 'Names', 'Snr', 'spectra', 'spt',\n",
       "       'chi'],\n",
       "      dtype='object')"
      ]
     },
     "execution_count": 8,
     "metadata": {},
     "output_type": "execute_result"
    }
   ],
   "source": [
    "df.columns"
   ]
  },
  {
   "cell_type": "code",
   "execution_count": 9,
   "metadata": {},
   "outputs": [],
   "source": [
    "from scipy import stats"
   ]
  },
  {
   "cell_type": "code",
   "execution_count": 10,
   "metadata": {},
   "outputs": [],
   "source": [
    "def fit_a_line(wave, flux, noise):\n",
    "    \"\"\"\n",
    "    Fit a line, returns a chi-square\n",
    "    \"\"\"\n",
    "    m, b, r_value, p_value, std_err = stats.linregress(wave,flux)\n",
    "    line=m*wave+b\n",
    "    chisqr=np.nansum((flux-line)**2/noise**2)\n",
    "    #print (chisqr)\n",
    "    return line, chisqr"
   ]
  },
  {
   "cell_type": "code",
   "execution_count": 11,
   "metadata": {},
   "outputs": [],
   "source": [
    "def f_test(x):\n",
    "    return stats.f.pdf(x, 2, 1, 0, scale=1)"
   ]
  },
  {
   "cell_type": "code",
   "execution_count": 12,
   "metadata": {},
   "outputs": [],
   "source": [
    "def flag(sp):\n",
    "    \"\"\"\n",
    "    compare chi-square from line vs chi-square from standard\n",
    "    \"\"\"\n",
    "    s=sp.splat_spectrum\n",
    "    s.trim([1.15, 1.65])\n",
    "    line, chi=fit_a_line(s.wave.value, s.flux.value, s.noise.value)\n",
    "    spt, spexchi=splat.classifyByStandard(s, return_statistic=True, fit_ranges=[[1.1, 1.65]], plot=False)\n",
    "    return {'spex_chi':spexchi, 'line_chi':chi}"
   ]
  },
  {
   "cell_type": "code",
   "execution_count": 13,
   "metadata": {},
   "outputs": [],
   "source": [
    "def compare_to_line(sp):\n",
    "    \"\"\"\n",
    "    Plot a spectrum compared to a line\n",
    "    \"\"\"\n",
    "    s=sp.splat_spectrum\n",
    "    s.trim([1.15, 1.65])\n",
    "    fig, ax=plt.subplots()\n",
    "    \n",
    "    line, chi=fit_a_line(s.wave.value, s.flux.value, s.noise.value)\n",
    "    spt, spexchi=splat.classifyByStandard(s, return_statistic=True, fit_ranges=[[1.1, 1.65]], plot=False)\n",
    "    spex_std=splat.STDS_DWARF_SPEX[spt]\n",
    "    spex_std.normalize()\n",
    "    scale=splat.compareSpectra( s, spex_std,fit_ranges=[[1.1, 1.65]])[0].value\n",
    "\n",
    "    spex_std.scale(scale)\n",
    "\n",
    "    ax.plot(sp.wave, sp.flux, c='#AAAAAA')\n",
    "    ax.plot(spex_std.wave, spex_std.flux/scale, c='#0074D9', label=str(spt)+' $\\chi^2$= {0:.{1}f}'.format(spexchi, 0))\n",
    "    ax.plot(s.wave,line, c='#111111', label='$\\chi^2$= {0:.{1}f}'.format(chi, 0))\n",
    "    \n",
    "    f=interpolate.interp1d( spex_std.wave.value,  spex_std.flux.value/scale)\n",
    "    plt.plot(s.wave, abs(s.flux.value-f(np.linspace(1.15, 1.65, len(s.wave)))), c='#2ECC40', label='abs difference')\n",
    "    plt.xlim([1.1, 1.65])\n",
    "    plt.ylim([np.nanmin(s.flux.value), np.nanmax(s.flux.value)])\n",
    "    plt.legend()"
   ]
  },
  {
   "cell_type": "code",
   "execution_count": 15,
   "metadata": {},
   "outputs": [],
   "source": [
    "#compare_to_line(df.loc[524].spectra)"
   ]
  },
  {
   "cell_type": "markdown",
   "metadata": {},
   "source": [
    "Plot a distribution of both chisqrs "
   ]
  },
  {
   "cell_type": "code",
   "execution_count": 14,
   "metadata": {},
   "outputs": [],
   "source": [
    "#compare_to_line(df.loc[207].spectra)"
   ]
  },
  {
   "cell_type": "code",
   "execution_count": 16,
   "metadata": {},
   "outputs": [],
   "source": [
    "chis=ids.spectra.apply(flag)"
   ]
  },
  {
   "cell_type": "code",
   "execution_count": 17,
   "metadata": {},
   "outputs": [],
   "source": [
    "chidf=pd.DataFrame([x for x in chis])\n",
    "tot_df=ids.merge(chidf, how='outer', left_index=True, right_index=True)"
   ]
  },
  {
   "cell_type": "code",
   "execution_count": 18,
   "metadata": {},
   "outputs": [],
   "source": [
    "import seaborn as sns"
   ]
  },
  {
   "cell_type": "code",
   "execution_count": 24,
   "metadata": {},
   "outputs": [],
   "source": [
    "x=tot_df.spex_chi/tot_df.line_chi"
   ]
  },
  {
   "cell_type": "code",
   "execution_count": 32,
   "metadata": {},
   "outputs": [
    {
     "data": {
      "text/plain": [
       "Text(0.5,0,' $\\\\chi^2_{s} / \\\\chi^2_{l} $')"
      ]
     },
     "execution_count": 32,
     "metadata": {},
     "output_type": "execute_result"
    },
    {
     "data": {
      "image/png": "[encoded data removed]",
      "text/plain": [
       "<Figure size 432x288 with 1 Axes>"
      ]
     },
     "metadata": {
      "needs_background": "light"
     },
     "output_type": "display_data"
    }
   ],
   "source": [
    "fig, ax=plt.subplots()\n",
    "sns.kdeplot(x, ax=ax)\n",
    "#ax.set_xlim([-1, 10.0])\n",
    "ax.set_xlabel(' $\\chi^2_{s} / \\chi^2_{l} $', fontsize=14)\n",
    "#plt.legend(fontsize=14)"
   ]
  },
  {
   "cell_type": "code",
   "execution_count": 53,
   "metadata": {},
   "outputs": [
    {
     "data": {
      "text/plain": [
       "(-10, 4)"
      ]
     },
     "execution_count": 53,
     "metadata": {},
     "output_type": "execute_result"
    },
    {
     "data": {
      "image/png": "[encoded data removed]",
      "text/plain": [
       "<Figure size 432x288 with 1 Axes>"
      ]
     },
     "metadata": {
      "needs_background": "light"
     },
     "output_type": "display_data"
    }
   ],
   "source": [
    "f=f_test(x)\n",
    "fig, ax=plt.subplots()\n",
    "#ax.set_xscale('log')\n",
    "plt.plot( np.log10(x), f, '.-', alpha=0.1, c='#111111')\n",
    "ax.set_xlabel('$\\log \\: (x) $', fontsize=16)\n",
    "ax.set_ylabel('$ F(x)$', fontsize=16)\n",
    "ax.set_xlim([-10, 4])"
   ]
  },
  {
   "cell_type": "code",
   "execution_count": 41,
   "metadata": {},
   "outputs": [],
   "source": [
    "#tot_df.loc[0].spectra.snr"
   ]
  },
  {
   "cell_type": "code",
   "execution_count": 54,
   "metadata": {},
   "outputs": [],
   "source": [
    "#let's look at \n",
    "tot_df['t_snr']=np.array([s.snr['l_t_snr'] for s in tot_df.spectra])"
   ]
  },
  {
   "cell_type": "code",
   "execution_count": 56,
   "metadata": {},
   "outputs": [],
   "source": [
    "tot_df[f>.5].to_pickle(wisps.OUTPUT_FILES+'/aegis_cut.pkl')"
   ]
  },
  {
   "cell_type": "code",
   "execution_count": 61,
   "metadata": {},
   "outputs": [
    {
     "data": {
      "text/plain": [
       "<matplotlib.axes._subplots.AxesSubplot at 0x1e7f2bf668>"
      ]
     },
     "execution_count": 61,
     "metadata": {},
     "output_type": "execute_result"
    },
    {
     "data": {
      "image/png": "[encoded data removed]",
      "text/plain": [
       "<Figure size 432x288 with 1 Axes>"
      ]
     },
     "metadata": {
      "needs_background": "light"
     },
     "output_type": "display_data"
    }
   ],
   "source": [
    "fig, ax=plt.subplots()\n",
    "ax.set_xlabel('log snr', fontsize=16)\n",
    "tot_df[f>.7].t_snr.apply(np.log10).plot(kind='kde', ax=ax)"
   ]
  },
  {
   "cell_type": "code",
   "execution_count": 63,
   "metadata": {},
   "outputs": [
    {
     "data": {
      "text/plain": [
       "3173"
      ]
     },
     "execution_count": 63,
     "metadata": {},
     "output_type": "execute_result"
    }
   ],
   "source": [
    "len(tot_df[f>.7])"
   ]
  },
  {
   "cell_type": "code",
   "execution_count": 66,
   "metadata": {},
   "outputs": [
    {
     "data": {
      "text/plain": [
       "95"
      ]
     },
     "execution_count": 66,
     "metadata": {},
     "output_type": "execute_result"
    }
   ],
   "source": [
    "len(tot_df[(f>.7) & (tot_df.t_snr>5.0)])"
   ]
  },
  {
   "cell_type": "code",
   "execution_count": 68,
   "metadata": {},
   "outputs": [
    {
     "data": {
      "text/plain": [
       "2191"
      ]
     },
     "execution_count": 68,
     "metadata": {},
     "output_type": "execute_result"
    }
   ],
   "source": [
    "len(tot_df[tot_df.t_snr>5.0])"
   ]
  },
  {
   "cell_type": "code",
   "execution_count": 70,
   "metadata": {},
   "outputs": [],
   "source": [
    "tot_df[(f>.7) & (tot_df.t_snr>5.0)].to_pickle(wisps.OUTPUT_FILES+'/aegis_cut.pkl')"
   ]
  },
  {
   "cell_type": "code",
   "execution_count": 73,
   "metadata": {},
   "outputs": [
    {
     "data": {
      "text/plain": [
       "95"
      ]
     },
     "execution_count": 73,
     "metadata": {},
     "output_type": "execute_result"
    }
   ],
   "source": [
    "len(tot_df[(f>.7) & (tot_df.t_snr>5.0)])"
   ]
  },
  {
   "cell_type": "code",
   "execution_count": null,
   "metadata": {},
   "outputs": [],
   "source": []
  }
 ],
 "metadata": {
  "kernelspec": {
   "display_name": "Python 3",
   "language": "python",
   "name": "python3"
  },
  "language_info": {
   "codemirror_mode": {
    "name": "ipython",
    "version": 3
   },
   "file_extension": ".py",
   "mimetype": "text/x-python",
   "name": "python",
   "nbconvert_exporter": "python",
   "pygments_lexer": "ipython3",
   "version": "3.6.6"
  }
 },
 "nbformat": 4,
 "nbformat_minor": 2
}
