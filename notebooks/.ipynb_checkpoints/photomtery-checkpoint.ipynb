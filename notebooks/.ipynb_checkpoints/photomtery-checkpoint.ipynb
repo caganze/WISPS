{
 "cells": [
  {
   "cell_type": "code",
   "execution_count": 1,
   "metadata": {},
   "outputs": [],
   "source": [
    "import splat\n",
    "import wisps\n",
    "import pandas as pd\n",
    "import numpy as np\n",
    "import matplotlib.pyplot as plt\n",
    "from os.path import expanduser\n",
    "homedir = expanduser(\"~\")\n",
    "from astropy.io import ascii\n",
    "%matplotlib inline\n",
    "import ast"
   ]
  },
  {
   "cell_type": "code",
   "execution_count": 2,
   "metadata": {},
   "outputs": [],
   "source": [
    "#get photometry catalogs\n",
    "w_phot=pd.read_csv(wisps.OUTPUT_FILES+'/wisp_photometry.csv')\n",
    "hst_phot=pd.read_csv(wisps.OUTPUT_FILES+'/hst3d_photometry_all.csv')"
   ]
  },
  {
   "cell_type": "code",
   "execution_count": 3,
   "metadata": {},
   "outputs": [],
   "source": [
    "#"
   ]
  },
  {
   "cell_type": "code",
   "execution_count": 4,
   "metadata": {},
   "outputs": [],
   "source": [
    "#rename wisp grism ids\n",
    "w_phot['grism_id']=w_phot['grism_id'].apply(lambda x: x.lower())\n",
    "#w_phot"
   ]
  },
  {
   "cell_type": "code",
   "execution_count": 5,
   "metadata": {},
   "outputs": [],
   "source": [
    "#read in the indices\n",
    "cols=['name', 'snr', 'spex_chi', 'line_chi', 'spt', 'indices']\n",
    "ids=pd.read_csv(homedir+'/wisp_indices.txt', names =cols, delimiter ='\\t')"
   ]
  },
  {
   "cell_type": "code",
   "execution_count": 6,
   "metadata": {},
   "outputs": [],
   "source": [
    "def strip_diction(s):\n",
    "        #from string to dictionary\n",
    "        return pd.Series(ast.literal_eval(((s.strip().replace('nan', \"'nan'\").replace('-inf', \"'nan'\")).replace('inf', \"'nan'\"))))"
   ]
  },
  {
   "cell_type": "code",
   "execution_count": 7,
   "metadata": {},
   "outputs": [],
   "source": [
    "def reformat_index_table(df):\n",
    "    #assign dictionary keys\n",
    "    ids_list=[]\n",
    "    snr_list=[]\n",
    "    for k in df.columns:\n",
    "        first=df[k].iloc[0]\n",
    "        print (k)\n",
    "        if isinstance(first, str):\n",
    "            if first.strip().startswith(\"{\"):\n",
    "                if not k=='indices':\n",
    "                    snr_list.append(df[k].apply(lambda x: strip_diction(x)))\n",
    "                else:\n",
    "                    ids_list.append(df[k].apply(lambda x: strip_diction(x)).applymap(tuple))\n",
    "      \n",
    "    \n",
    "    return snr_list, ids_list"
   ]
  },
  {
   "cell_type": "code",
   "execution_count": 8,
   "metadata": {},
   "outputs": [],
   "source": [
    "def replace(x):\n",
    "    #print (x)\n",
    "    if (isinstance(x, float)):\n",
    "        if (np.isnan(x)):\n",
    "            return tuple([np.nan, np.nan])\n",
    "    else:\n",
    "        return x"
   ]
  },
  {
   "cell_type": "code",
   "execution_count": 9,
   "metadata": {},
   "outputs": [],
   "source": [
    "cols=list(wisps.INDEX_NAMES)"
   ]
  },
  {
   "cell_type": "code",
   "execution_count": 10,
   "metadata": {},
   "outputs": [
    {
     "name": "stdout",
     "output_type": "stream",
     "text": [
      "name\n",
      "snr\n",
      "spex_chi\n",
      "line_chi\n",
      "spt\n",
      "indices\n"
     ]
    },
    {
     "data": {
      "text/plain": [
       "(430413, 430413)"
      ]
     },
     "execution_count": 10,
     "metadata": {},
     "output_type": "execute_result"
    }
   ],
   "source": [
    "snr_list, ids_list=reformat_index_table(ids)\n",
    "fmtids=(pd.concat(snr_list).join(pd.concat((ids_list )))).replace('nan', np.nan)\n",
    "fmtids[cols]=fmtids[cols].applymap(lambda x: replace(x))\n",
    "len(fmtids), len(ids)"
   ]
  },
  {
   "cell_type": "code",
   "execution_count": 11,
   "metadata": {},
   "outputs": [],
   "source": [
    "indices=fmtids\n",
    "indices[['name', 'spex_chi', 'line_chi', 'spt']]=ids[['name',  'spex_chi', 'line_chi', 'spt']]"
   ]
  },
  {
   "cell_type": "code",
   "execution_count": 12,
   "metadata": {},
   "outputs": [],
   "source": [
    "#hst_phot.grism_id"
   ]
  },
  {
   "cell_type": "code",
   "execution_count": 13,
   "metadata": {},
   "outputs": [],
   "source": [
    "from scipy import stats\n",
    "def f_test(x):\n",
    "    \"\"\"\n",
    "    f-test statistic with defualt degrees of freedom\n",
    "    \"\"\"\n",
    "    return stats.f.pdf(x, 2, 1, 0, scale=1)"
   ]
  },
  {
   "cell_type": "code",
   "execution_count": 14,
   "metadata": {},
   "outputs": [],
   "source": [
    "def combined_wisp_hst_catalogs(hst3d_phot,wisp_phot, indices):\n",
    "    \"\"\"\n",
    "    combine both hst-3d and wisps into one big file with all the information\n",
    "    \"\"\"\n",
    "    #hst_3d does not have 110 photometry\n",
    "    hst3d_phot['F110_mag']=np.nan\n",
    "    hst3d_phot['F110_mag_er']=np.nan\n",
    "\n",
    "    \n",
    "    #combine flags into one flag\n",
    "    flgs=hst3d_phot[['use_phot_x', 'f_cover', 'f_flagged', 'f_negative', 'star_flag']].values\n",
    "    hst3d_phot['flags']= pd.Series([i for i in flgs])\n",
    "    \n",
    "    hst3d_phot['survey']='HST3D'\n",
    "    wisp_phot['survey']='WISP'\n",
    "    wisp_phot=wisp_phot.rename(columns={'EXTRACTION_FLAG':'flags'})\n",
    "   \n",
    "    #rename some columns\n",
    "    indices=indices.rename(columns={'name':'grism_id'})\n",
    "    \n",
    "    ##drop .ascii from hst_phot\n",
    "    indices['grism_id']=indices['grism_id'].apply(lambda x : x.split('.1D.ascii')[0])\n",
    "    \n",
    "    #combined_photometry (the order matters: HST3D+WISPP\n",
    "    comb_phot=pd.DataFrame()\n",
    "    grism_ids=hst3d_phot['grism_id'].append(wisp_phot['grism_id'])\n",
    "    comb_phot['grism_id']=grism_ids\n",
    "    \n",
    "    print(comb_phot.columns)\n",
    "    for flt in ['110', '140', '160']:\n",
    "        mag_tuple1=hst3d_phot[['F'+flt+'_mag', 'F'+flt+'_mag_er']].apply(tuple, axis=1)\n",
    "        mag_tuple2=wisp_phot[['NIMCOS_'+flt+'W', 'NIMCOS_'+flt+'W_ER']].apply(tuple, axis=1)\n",
    "        mags=mag_tuple1.append(mag_tuple2)\n",
    "        comb_phot['F'+flt]=mags\n",
    "        \n",
    "    ras=hst3d_phot['ra_x'].append(wisp_phot['RA'])\n",
    "    decs=hst3d_phot['dec_x'].append(wisp_phot['DEC'])\n",
    "        \n",
    "    comb_phot['RA']=ras\n",
    "    comb_phot['DEC']=decs\n",
    "    comb_phot['survey']=hst3d_phot['survey'].append(wisp_phot['survey'])\n",
    "    comb_phot['flags']=hst3d_phot['flags'].append(wisp_phot['flags'])\n",
    "    \n",
    "    #strip white spaces from grism_ids #the combination might pose problems\n",
    "    comb_phot['grism_id']=comb_phot['grism_id'].apply(lambda x: x.strip())\n",
    "    indices['grism_id']=indices['grism_id'].apply(lambda x: x.strip())\n",
    "    \n",
    "    indices=indices.drop_duplicates(subset='grism_id')\n",
    "    comb_phot=comb_phot.drop_duplicates(subset='grism_id')\n",
    "    master_table=pd.merge(indices, comb_phot, on='grism_id', validate='one_to_one')\n",
    "    \n",
    "    # I probably lost tons of objects with grism id ='0000'\n",
    "    print (master_table.shape, comb_phot.shape, indices.shape)\n",
    "    #print (comb_phot.grism_id, indices.grism_id)\n",
    "    #measure line and std chi-square\n",
    "    #df=master_table.grism_id.apply(compare_to_both)\n",
    "    #replace zeros with something close to zero to avoid dividing by zero\n",
    "    master_table.line_chi[(master_table.line_chi==0.0)]=np.float(10**-40)\n",
    "    ###\n",
    "    master_table[['spex_chi', 'line_chi']]=master_table[['spex_chi', 'line_chi']].applymap(np.float)\n",
    "    master_table['x']=master_table.spex_chi/master_table.line_chi\n",
    "    master_table['f_test']=master_table.x.apply(f_test)\n",
    "\n",
    "    #save the result\n",
    "    #master_table=master_table.join(df)\n",
    "\n",
    "    #drop the spectrum column because it makes the file heavier\n",
    "    #master_table=master_table.drop(columns='spectra')\n",
    "\n",
    "    #make the cut \n",
    "\n",
    "    return master_table"
   ]
  },
  {
   "cell_type": "code",
   "execution_count": 15,
   "metadata": {},
   "outputs": [
    {
     "name": "stdout",
     "output_type": "stream",
     "text": [
      "Index(['grism_id'], dtype='object')\n",
      "(270436, 26) (279595, 8) (430413, 19)\n"
     ]
    }
   ],
   "source": [
    "mdf=combined_wisp_hst_catalogs(hst_phot, w_phot, indices)"
   ]
  },
  {
   "cell_type": "code",
   "execution_count": 16,
   "metadata": {},
   "outputs": [],
   "source": [
    "#get all the observation info for each field\n",
    "obs=pd.read_csv(wisps.OUTPUT_FILES+'/observation_log.csv')\n",
    "obs=obs.drop(columns=['Unnamed: 0']).drop_duplicates(subset='POINTING').reindex()"
   ]
  },
  {
   "cell_type": "code",
   "execution_count": 17,
   "metadata": {},
   "outputs": [],
   "source": [
    "obs.columns=[x.lower() for x in obs.columns]"
   ]
  },
  {
   "cell_type": "code",
   "execution_count": 18,
   "metadata": {},
   "outputs": [],
   "source": [
    "def get_pointing_name(grism_id):\n",
    "    if grism_id.lower().startswith('par'):\n",
    "        return grism_id.split('-')[0]\n",
    "    else:\n",
    "        return grism_id.split('-G')[0]\n",
    "\n",
    "def add_pointing_information(row):\n",
    "    #print (type(row))\n",
    "    pntg=get_pointing_name(row.grism_id)\n",
    "    #print (pntg)\n",
    "    s3 = pd.Series({'pointing':pntg, 'exposure':obs['exposure (s)'][obs.pointing.isin([pntg])].iloc[0] })\n",
    "    row=row.append(s3)\n",
    "    return row"
   ]
  },
  {
   "cell_type": "code",
   "execution_count": 19,
   "metadata": {},
   "outputs": [],
   "source": [
    "#"
   ]
  },
  {
   "cell_type": "code",
   "execution_count": 20,
   "metadata": {},
   "outputs": [],
   "source": [
    "mt=mdf.reset_index(drop=True).apply(add_pointing_information, axis=1)"
   ]
  },
  {
   "cell_type": "code",
   "execution_count": 21,
   "metadata": {},
   "outputs": [],
   "source": [
    "mt.to_hdf(wisps.COMBINED_PHOTO_SPECTRO_FILE, key='all_phot_spec_data')"
   ]
  },
  {
   "cell_type": "code",
   "execution_count": 22,
   "metadata": {},
   "outputs": [
    {
     "data": {
      "text/plain": [
       "270436"
      ]
     },
     "execution_count": 22,
     "metadata": {},
     "output_type": "execute_result"
    }
   ],
   "source": [
    "len(mt)"
   ]
  },
  {
   "cell_type": "code",
   "execution_count": 23,
   "metadata": {},
   "outputs": [
    {
     "data": {
      "text/plain": [
       "430413"
      ]
     },
     "execution_count": 23,
     "metadata": {},
     "output_type": "execute_result"
    }
   ],
   "source": [
    "len(ids)"
   ]
  },
  {
   "cell_type": "code",
   "execution_count": 24,
   "metadata": {},
   "outputs": [],
   "source": [
    "idsonly=indices[indices.snr2>5.0]\n",
    "idsonly['f']=f_test(idsonly.spex_chi.apply(float)/idsonly.line_chi.apply(float))"
   ]
  },
  {
   "cell_type": "code",
   "execution_count": 25,
   "metadata": {},
   "outputs": [],
   "source": [
    "#wisps.Spectrum(filepath=wisps.REMOTE_FOLDER+'/aegis/aegis-01/1D/ASCII/aegis-01-G141_14735.1D.ascii')"
   ]
  },
  {
   "cell_type": "code",
   "execution_count": 26,
   "metadata": {},
   "outputs": [],
   "source": [
    "idsonly[idsonly.f>0.6].rename(columns={'name':'Names'}).to_hdf(wisps.COMBINED_PHOTO_SPECTRO_FILE, key='indices_only')"
   ]
  },
  {
   "cell_type": "code",
   "execution_count": 27,
   "metadata": {},
   "outputs": [
    {
     "data": {
      "text/plain": [
       "Series([], Name: name, dtype: object)"
      ]
     },
     "execution_count": 27,
     "metadata": {},
     "output_type": "execute_result"
    }
   ],
   "source": [
    "ids.name[ids.name.isin(['par'])]"
   ]
  },
  {
   "cell_type": "code",
   "execution_count": 28,
   "metadata": {},
   "outputs": [
    {
     "data": {
      "text/plain": [
       "Index(['name', 'snr', 'spex_chi', 'line_chi', 'spt', 'indices'], dtype='object')"
      ]
     },
     "execution_count": 28,
     "metadata": {},
     "output_type": "execute_result"
    }
   ],
   "source": [
    "ids.columns"
   ]
  },
  {
   "cell_type": "code",
   "execution_count": 30,
   "metadata": {},
   "outputs": [],
   "source": [
    "#hst_phot[hst_phot.grism_id.str.contains('aegis')]"
   ]
  },
  {
   "cell_type": "code",
   "execution_count": 2,
   "metadata": {},
   "outputs": [],
   "source": [
    "import wisps\n",
    "import pandas as pd \n",
    "import numpy as np\n",
    "from astropy.io import ascii, fits"
   ]
  },
  {
   "cell_type": "code",
   "execution_count": 5,
   "metadata": {},
   "outputs": [],
   "source": [
    "phot=ascii.read(wisps.REMOTE_PHOT_CATALOGS+'/3dhst_master.phot.v4.1/3dhst_master.phot.v4.1.cat').to_pandas()"
   ]
  },
  {
   "cell_type": "code",
   "execution_count": 6,
   "metadata": {},
   "outputs": [
    {
     "data": {
      "text/plain": [
       "Index(['id', 'field', 'ra', 'dec', 'x', 'y', 'z_spec', 'z_peak', 'faper_F140W',\n",
       "       'eaper_F140W', 'faper_F160W', 'eaper_F160W', 'f_F606W', 'e_F606W',\n",
       "       'f_F814W', 'e_F814W', 'f_F125W', 'e_F125W', 'f_F140W', 'e_F140W',\n",
       "       'f_F160W', 'e_F160W', 'tot_cor', 'kron_radius', 'a_image', 'b_image',\n",
       "       'flux_radius', 'fwhm_image', 'flags', 'f140w_flag', 'star_flag',\n",
       "       'use_phot', 'near_star', 'nexp_f125w', 'nexp_f140w', 'nexp_f160w',\n",
       "       'lmass', 'Av'],\n",
       "      dtype='object')"
      ]
     },
     "execution_count": 6,
     "metadata": {},
     "output_type": "execute_result"
    }
   ],
   "source": [
    "phot.columns"
   ]
  },
  {
   "cell_type": "code",
   "execution_count": 7,
   "metadata": {},
   "outputs": [
    {
     "data": {
      "text/plain": [
       "'/Volumes/caganze//catalogs//'"
      ]
     },
     "execution_count": 7,
     "metadata": {},
     "output_type": "execute_result"
    }
   ],
   "source": [
    "wisps.REMOTE_PHOT_CATALOGS."
   ]
  },
  {
   "cell_type": "code",
   "execution_count": null,
   "metadata": {},
   "outputs": [],
   "source": []
  }
 ],
 "metadata": {
  "kernelspec": {
   "display_name": "Python 3",
   "language": "python",
   "name": "python3"
  },
  "language_info": {
   "codemirror_mode": {
    "name": "ipython",
    "version": 3
   },
   "file_extension": ".py",
   "mimetype": "text/x-python",
   "name": "python",
   "nbconvert_exporter": "python",
   "pygments_lexer": "ipython3",
   "version": "3.7.3"
  }
 },
 "nbformat": 4,
 "nbformat_minor": 2
}
