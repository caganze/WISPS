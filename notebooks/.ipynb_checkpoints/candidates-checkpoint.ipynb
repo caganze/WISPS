{
 "cells": [
  {
   "cell_type": "code",
   "execution_count": null,
   "metadata": {},
   "outputs": [],
   "source": [
    "import splat\n",
    "import matplotlib.pyplot as plt\n",
    "import numpy as np\n",
    "import pandas as pd\n",
    "import matplotlib as mpl\n",
    "from astropy.visualization import ZScaleInterval\n",
    "import matplotlib\n",
    "import wisps\n",
    "%matplotlib inline"
   ]
  },
  {
   "cell_type": "code",
   "execution_count": null,
   "metadata": {},
   "outputs": [],
   "source": [
    "df_ids=wisps.UCD_SPECTRA.grism_id"
   ]
  },
  {
   "cell_type": "code",
   "execution_count": null,
   "metadata": {},
   "outputs": [],
   "source": [
    "df=pd.DataFrame()"
   ]
  },
  {
   "cell_type": "code",
   "execution_count": null,
   "metadata": {},
   "outputs": [],
   "source": [
    "df['grism_id']=df_ids.apply(lambda x: x.replace('g141', 'G141')).values"
   ]
  },
  {
   "cell_type": "code",
   "execution_count": null,
   "metadata": {},
   "outputs": [],
   "source": [
    "from dask.distributed import Client, progress\n",
    "client = Client(processes=False, threads_per_worker=4,\n",
    "                n_workers=1, memory_limit='2GB',  silence_logs='error')\n",
    "client"
   ]
  },
  {
   "cell_type": "code",
   "execution_count": null,
   "metadata": {},
   "outputs": [],
   "source": [
    "res=wisps.get_multiple_sources(df_ids, source_type='source')"
   ]
  },
  {
   "cell_type": "code",
   "execution_count": null,
   "metadata": {},
   "outputs": [],
   "source": [
    "df['spectra']=res"
   ]
  },
  {
   "cell_type": "code",
   "execution_count": null,
   "metadata": {},
   "outputs": [],
   "source": [
    "#remove extra problematic spectra\n",
    "problems=['cosmos-02-g141_04153', 'cosmos-05-g141_07469']"
   ]
  },
  {
   "cell_type": "code",
   "execution_count": null,
   "metadata": {},
   "outputs": [],
   "source": [
    "df=(df[ ~df.grism_id.str.lower().isin(problems)]).reset_index(drop=True)"
   ]
  },
  {
   "cell_type": "code",
   "execution_count": null,
   "metadata": {},
   "outputs": [],
   "source": [
    "df['spt']=df['spectra'].apply(lambda x: wisps.make_spt_number(x.spectral_type[0]))"
   ]
  },
  {
   "cell_type": "code",
   "execution_count": null,
   "metadata": {},
   "outputs": [],
   "source": [
    "df['spt_unc']=df['spectra'].apply(lambda x: wisps.make_spt_number(x.spectral_type[1]))"
   ]
  },
  {
   "cell_type": "code",
   "execution_count": null,
   "metadata": {},
   "outputs": [],
   "source": [
    "df=df.sort_values(by='spt').reset_index(drop=True)"
   ]
  },
  {
   "cell_type": "code",
   "execution_count": null,
   "metadata": {},
   "outputs": [],
   "source": [
    "s=df.spectra.values[0]"
   ]
  },
  {
   "cell_type": "code",
   "execution_count": null,
   "metadata": {},
   "outputs": [],
   "source": [
    "df['distance']=df.spectra.apply(lambda x: x.distance['val'].value)"
   ]
  },
  {
   "cell_type": "code",
   "execution_count": null,
   "metadata": {},
   "outputs": [],
   "source": [
    "df['RA']=df.spectra.apply(lambda x: x.coords.ra.value)\n",
    "df['DEC']=df.spectra.apply(lambda x: x.coords.dec.value)"
   ]
  },
  {
   "cell_type": "code",
   "execution_count": null,
   "metadata": {},
   "outputs": [],
   "source": [
    "df['snr1']=df.spectra.apply(lambda x: x.snr['snr1'])"
   ]
  },
  {
   "cell_type": "code",
   "execution_count": null,
   "metadata": {},
   "outputs": [],
   "source": [
    "fdf=df[(df.spt >=17.) ]"
   ]
  },
  {
   "cell_type": "code",
   "execution_count": null,
   "metadata": {},
   "outputs": [],
   "source": [
    "len(fdf)"
   ]
  },
  {
   "cell_type": "code",
   "execution_count": null,
   "metadata": {},
   "outputs": [],
   "source": [
    "#distance distributions\n",
    "from astropy.coordinates import SkyCoord\n",
    "import astropy.coordinates as astrocoord\n",
    "import astropy.units as u\n",
    "coords=SkyCoord(ra=fdf.RA.values*u.deg, dec=fdf.DEC.values*u.deg, distance=fdf.distance.values*u.pc)"
   ]
  },
  {
   "cell_type": "code",
   "execution_count": null,
   "metadata": {},
   "outputs": [],
   "source": [
    "galoc=coords.transform_to(astrocoord.Galactocentric(galcen_distance=8.3*u.kpc))"
   ]
  },
  {
   "cell_type": "code",
   "execution_count": null,
   "metadata": {},
   "outputs": [],
   "source": [
    "#Rsun=8300.\n",
    "#Zsun=27.\n",
    "#r=np.sqrt( (coords.distance.value * np.cos( coords.galactic.b.radian ) )**2 + Rsun * (Rsun - 2 * coords.distance.value * np.cos( coords.galactic.b.radian ) * np.cos( coords.galactic.l.radian ) ) )\n",
    "#z=Zsun+ coords.distance.value * np.sin( coords.galactic.b.radian - np.arctan( Zsun / Rsun) )\n",
    "x, y, z=galoc.cartesian.xyz\n",
    "r=(x**2+y**2)**0.5"
   ]
  },
  {
   "cell_type": "code",
   "execution_count": null,
   "metadata": {},
   "outputs": [],
   "source": [
    "fig, (ax, ax1)=plt.subplots(figsize=(11, 4), ncols=2)\n",
    "sc=ax.scatter(r, z, c=fdf.spt.values, s=50, cmap='viridis',  marker='*')\n",
    "br=plt.colorbar(sc)\n",
    "#ax.ylabel('z (pc)', fontsize=20)\n",
    "#ax.xlabel('r (pc)', fontsize=20)\n",
    "#plt.grid()\n",
    "\n",
    "ax.minorticks_on()\n",
    "\n",
    "sc=ax1.scatter(coords.cartesian.x.value, coords.cartesian.y.value, c=fdf.spt.values, s=50, cmap='viridis', marker='*')\n",
    "\n",
    "\n",
    "#plt.grid()\n",
    "ax.minorticks_on()\n",
    "\n",
    "ax.set_xlim([6000, 11000])\n",
    "ax.set_ylim([-5000, 6000])\n",
    "\n",
    "#ax1.set_xlim([-11000, -5000])\n",
    "#ax1.set_ylim([-3000, 3000])\n",
    "\n",
    "ax.set_ylabel('Z (pc)', fontsize=20)\n",
    "ax.set_xlabel('R (pc)', fontsize=20)\n",
    "ax1.set_ylabel('X (pc)', fontsize=20)\n",
    "ax1.set_xlabel('Y (pc)', fontsize=20)\n",
    "\n",
    "ax.minorticks_on()\n",
    "ax1.minorticks_on()\n",
    "\n",
    "\n",
    "br.set_ticks([20, 25, 30, 35, 40])\n",
    "br.set_ticklabels(['L0', 'L5', 'T0', 'T5', 'Y0'])\n",
    "plt.tight_layout()\n",
    "plt.savefig(wisps.OUTPUT_FIGURES+'/candidate_distances.pdf', bbox_inches='tight')"
   ]
  },
  {
   "cell_type": "code",
   "execution_count": null,
   "metadata": {},
   "outputs": [],
   "source": [
    "mags=wisps.Annotator.reformat_table(pd.DataFrame.from_records(fdf.spectra.apply(lambda x: x.mags).values))"
   ]
  },
  {
   "cell_type": "code",
   "execution_count": null,
   "metadata": {},
   "outputs": [],
   "source": [
    "#MAKE THIS COLOR ABSOLUTE MAG from your mag relations"
   ]
  },
  {
   "cell_type": "code",
   "execution_count": null,
   "metadata": {},
   "outputs": [],
   "source": [
    "abs_mag_relation_140=wisps.POLYNOMIAL_RELATIONS['sp_F140W']\n",
    "abs_mag_relation_110=wisps.POLYNOMIAL_RELATIONS['sp_F110W']\n",
    "abs_mag_relation_160=wisps.POLYNOMIAL_RELATIONS['sp_F160W']"
   ]
  },
  {
   "cell_type": "code",
   "execution_count": null,
   "metadata": {},
   "outputs": [],
   "source": [
    "dhgjk=fdf.sort_values(by='distance')[['grism_id', 'distance', 'spt']]"
   ]
  },
  {
   "cell_type": "code",
   "execution_count": null,
   "metadata": {},
   "outputs": [],
   "source": [
    "latc_df=pd.DataFrame()"
   ]
  },
  {
   "cell_type": "code",
   "execution_count": null,
   "metadata": {},
   "outputs": [],
   "source": [
    "latc_df['Shortname']=fdf.spectra.apply(lambda x: x.shortname.upper())\n",
    "latc_df['designation']=fdf.spectra.apply(lambda x: x.designation.upper())\n",
    "latc_df['grism id']=fdf.spectra.apply(lambda x: x.name.upper())\n",
    "latc_df['snrj']=fdf.spectra.apply(lambda x: int(round(x.snr['snr1'])))\n",
    "latc_df['spt']=fdf.spectra.apply(lambda x: splat.typeToNum(x.spectral_type[0]) +r'$\\pm$'+ str(x.spectral_type[1]))\n",
    "latc_df['ra']=fdf.spectra.apply(lambda x: x.ra.value)\n",
    "latc_df['dec']=fdf.spectra.apply(lambda x: x.dec.value)\n",
    "latc_df['f110']=fdf.spectra.apply(lambda x:  str(round(x.mags['F110W'][0],3)) +r'$\\pm$'+ str(round(x.mags['F110W'][1],3)))\n",
    "#latc_df['f110_er']=fdf.spectra.apply(lambda x: round(x.mags['F110W'][1], 1))\n",
    "latc_df['f140']=fdf.spectra.apply(lambda x:  str(round(x.mags['F140W'][0],3)) +r'$\\pm$'+  str(round(x.mags['F140W'][1],3)))\n",
    "#latc_df['f140_er']=fdf.spectra.apply(lambda x: round(x.mags['F140W'][1], 1))\n",
    "latc_df['f160']=fdf.spectra.apply(lambda x:   str(round(x.mags['F160W'][0],3)) + r'$\\pm$'+ str(round(x.mags['F160W'][1],3)))\n",
    "#latc_df['f160_er']=fdf.spectra.apply(lambda x: round(x.mags['F160W'][1], 1))\n",
    "latc_df['distance']=fdf.spectra.apply(lambda x: str(int(round(x.distance['val'].value, 0)))  + r'$\\pm$'+ \n",
    "                                                 str((int(round(x.distance['er'].value, 0)))))"
   ]
  },
  {
   "cell_type": "code",
   "execution_count": null,
   "metadata": {},
   "outputs": [],
   "source": [
    "latc_df=latc_df.replace('nan$\\\\pm$nan', 'nodata')"
   ]
  },
  {
   "cell_type": "code",
   "execution_count": null,
   "metadata": {},
   "outputs": [],
   "source": [
    "#get the right sequence of coplumns\n",
    "\n",
    "col_list=['designation','grism id', 'ra', 'dec', 'f110', 'f140', 'f160', 'snrj', 'spt', 'distance']"
   ]
  },
  {
   "cell_type": "code",
   "execution_count": null,
   "metadata": {},
   "outputs": [],
   "source": [
    "latc_df[col_list]"
   ]
  },
  {
   "cell_type": "code",
   "execution_count": null,
   "metadata": {},
   "outputs": [],
   "source": [
    "latc_df[col_list].to_latex(wisps.LIBRARIES+'/candidates.tex',\n",
    "             header=True, index=False, na_rep=' ')"
   ]
  },
  {
   "cell_type": "code",
   "execution_count": null,
   "metadata": {},
   "outputs": [],
   "source": [
    "df[df.grism_id=='goodsn-33-G141_09283'].spt.apply(wisps.make_spt_number)>=17"
   ]
  },
  {
   "cell_type": "code",
   "execution_count": null,
   "metadata": {},
   "outputs": [],
   "source": [
    "'goodsn-33-G141_09283'.lower() in latc_df['grism id'].apply(lambda x: x.lower()).values"
   ]
  },
  {
   "cell_type": "code",
   "execution_count": null,
   "metadata": {},
   "outputs": [],
   "source": [
    "fghvj"
   ]
  },
  {
   "cell_type": "code",
   "execution_count": null,
   "metadata": {},
   "outputs": [],
   "source": [
    "#%%capture\n",
    "fold='/Users/caganze/research/wisps/figures/ltwarfs/'\n",
    "\n",
    "ids=0\n",
    "for idx, row in fdf.iterrows():\n",
    "    try:\n",
    "        s=row.spectra\n",
    "        print (s)\n",
    "        filename=fold+'spectrum'+str(ids)+'.jpeg'\n",
    "        s.plot(save=True, filename=filename)\n",
    "        ids=ids+1\n",
    "    except:\n",
    "        s=wisps.Source(filename=row.grism_id.replace('g141', 'G141'),is_ucd=False )\n",
    "        print (s)\n",
    "        filename=fold+'spectrum'+str(ids)+'.jpeg'\n",
    "        s.plot(save=True, filename=filename)\n",
    "        ids=ids+1\n"
   ]
  },
  {
   "cell_type": "code",
   "execution_count": null,
   "metadata": {},
   "outputs": [],
   "source": [
    "from astropy.coordinates import SkyCoord"
   ]
  },
  {
   "cell_type": "code",
   "execution_count": null,
   "metadata": {},
   "outputs": [],
   "source": [
    "#indices_df=pd.DataFrame.from_records(df.spectra.apply(lambda x: x.indices).values)"
   ]
  },
  {
   "cell_type": "code",
   "execution_count": null,
   "metadata": {},
   "outputs": [],
   "source": [
    "#for k in indices_df.columns: df[k]= indices_df[k]"
   ]
  },
  {
   "cell_type": "code",
   "execution_count": null,
   "metadata": {},
   "outputs": [],
   "source": [
    "#df.to_hdf(wisps.OUTPUT_FILES+'/true_spectra_cands.hdf', key='with_indices')"
   ]
  },
  {
   "cell_type": "code",
   "execution_count": null,
   "metadata": {},
   "outputs": [],
   "source": [
    "import astropy.units as u"
   ]
  },
  {
   "cell_type": "code",
   "execution_count": null,
   "metadata": {},
   "outputs": [],
   "source": [
    "sk=SkyCoord(ra=fdf.RA.values*u.deg, dec=fdf.DEC.values*u.deg, distance=fdf.distance.values*u.pc)"
   ]
  },
  {
   "cell_type": "code",
   "execution_count": null,
   "metadata": {},
   "outputs": [],
   "source": [
    "norm = matplotlib.colors.Normalize(vmin=20., vmax=37.0)"
   ]
  },
  {
   "cell_type": "code",
   "execution_count": null,
   "metadata": {},
   "outputs": [],
   "source": [
    "from matplotlib import cm"
   ]
  },
  {
   "cell_type": "code",
   "execution_count": null,
   "metadata": {},
   "outputs": [],
   "source": [
    "import wisps.simulations as wispsim"
   ]
  },
  {
   "cell_type": "code",
   "execution_count": null,
   "metadata": {},
   "outputs": [],
   "source": [
    "df['pointing']=df.grism_id.apply(wispsim.get_proper_pointing)"
   ]
  },
  {
   "cell_type": "code",
   "execution_count": null,
   "metadata": {},
   "outputs": [],
   "source": [
    "pntcoords=SkyCoord([x.coord for x in wisps.OBSERVED_POINTINGS if not x.name in df.pointing.values])"
   ]
  },
  {
   "cell_type": "code",
   "execution_count": null,
   "metadata": {},
   "outputs": [],
   "source": [
    "fig = plt.figure(figsize=(8, 8))\n",
    "ax = fig.add_subplot(111, projection='mollweide')\n",
    "\n",
    "ax.scatter(pntcoords.galactic.l.wrap_at(180*u.deg).radian, pntcoords.galactic.b.wrap_at(180*u.deg).radian, c='grey', marker='x', alpha=0.5)\n",
    "c=ax.scatter(sk.galactic.l.wrap_at(180*u.deg).radian, sk.galactic.b.wrap_at(180*u.deg).radian,\n",
    "           c=np.vstack(fdf.spt.values)[:,0], cmap='viridis')\n",
    "\n",
    "\n",
    "plt.xlabel(\"l\", fontsize=18)\n",
    "plt.ylabel(\"b\", fontsize=18)\n",
    "plt.grid()\n",
    "plt.minorticks_on()\n",
    "plt.tight_layout()\n",
    "plt.savefig(wisps.OUTPUT_FIGURES+'/candidate_skymap.pdf', bbox_inches='tight')"
   ]
  },
  {
   "cell_type": "code",
   "execution_count": null,
   "metadata": {},
   "outputs": [],
   "source": [
    "def plot_vals(values, ax, title):\n",
    "    values=wisps.drop_nan(np.sort(values))\n",
    "    kernel = stats.gaussian_kde(values)\n",
    "    height = kernel.pdf(values)\n",
    "    mode_value = values[np.argmax(height)]\n",
    "    h=ax.hist(values, bins='auto', normed=True, histtype='step')\n",
    "    ax.plot(values, height)\n",
    "    ax.axvline(mode_value, c='k')\n",
    "    ax.set_xlabel(title, fontsize=18)"
   ]
  },
  {
   "cell_type": "code",
   "execution_count": null,
   "metadata": {},
   "outputs": [],
   "source": [
    "#fig, ax=plt.subplots(ncols=3,figsize=(12, 4))\n",
    "#plot_vals((wisps.OBSERVED_POINTINGS[np.random.randint(533)]).mags['F110'], ax[0], 'F110W')\n",
    "#plot_vals((wisps.OBSERVED_POINTINGS[np.random.randint(533)]).mags['F140'], ax[1], 'F140W')\n",
    "#plot_vals((wisps.OBSERVED_POINTINGS[np.random.randint(533)]).mags['F160'], ax[2], 'F160W')\n",
    "#plt.tight_layout()\n",
    "#plt.savefig(wisps.OUTPUT_FIGURES+'/mag_limits_illustration.pdf', bbox_inches='tight')"
   ]
  },
  {
   "cell_type": "code",
   "execution_count": null,
   "metadata": {},
   "outputs": [],
   "source": [
    "df['designation']=df.spectra.apply(lambda x: x.designation)"
   ]
  },
  {
   "cell_type": "code",
   "execution_count": null,
   "metadata": {},
   "outputs": [],
   "source": [
    "df.shape"
   ]
  },
  {
   "cell_type": "code",
   "execution_count": null,
   "metadata": {},
   "outputs": [],
   "source": [
    "df.to_pickle(wisps.OUTPUT_FILES+'/true_spectra_cands.pkl')"
   ]
  },
  {
   "cell_type": "code",
   "execution_count": null,
   "metadata": {},
   "outputs": [],
   "source": [
    "dfn=df[df.spt>=17]"
   ]
  },
  {
   "cell_type": "code",
   "execution_count": null,
   "metadata": {},
   "outputs": [],
   "source": [
    "import seaborn as sns"
   ]
  },
  {
   "cell_type": "code",
   "execution_count": null,
   "metadata": {},
   "outputs": [],
   "source": [
    "fig, ax=plt.subplots()\n",
    "\n",
    "sns.distplot(fdf.spt,  ax=ax, hist_kws={'log': True},  norm_hist=False, kde=False)\n",
    "#h=ax.hist(dfn.spt, log=True, bins=38-17)\n",
    "#dfn['spt'].plot(kind='hist')\n",
    "\n",
    "ax.set_xticks([17, 20, 25, 30, 35, 40])\n",
    "ax.set_xticklabels(['M7', 'L0', 'L5', 'T0', 'T5', 'Y0'])\n",
    "\n",
    "ax.set_xlabel('Spectral Type', fontsize=18)\n",
    "ax.set_ylabel('Number', fontsize=18)\n",
    "\n",
    "plt.minorticks_on()\n",
    "plt.tight_layout()\n",
    "plt.savefig(wisps.OUTPUT_FIGURES+'/sptdistribution.pdf')"
   ]
  },
  {
   "cell_type": "code",
   "execution_count": null,
   "metadata": {},
   "outputs": [],
   "source": [
    "fig, ax=plt.subplots()\n",
    "\n",
    "sns.distplot(fdf.distance.apply(np.log10),  ax=ax, hist_kws={'log': True}, norm_hist=False, kde=False)\n",
    "#h=ax.hist(dfn.spt, log=True, bins=38-17)\n",
    "#dfn['spt'].plot(kind='hist')\n",
    "\n",
    "#ax.set_xticks([17, 20, 25, 30, 35, 40])\n",
    "#ax.set_xticklabels(['M7', 'L0', 'L5', 'T0', 'T5', 'Y0'])\n",
    "\n",
    "ax.set_xlabel('Log Distance (pc)', fontsize=18)\n",
    "ax.set_ylabel('Number', fontsize=18)\n",
    "\n",
    "plt.minorticks_on()\n",
    "plt.tight_layout()\n",
    "plt.savefig(wisps.OUTPUT_FIGURES+'/distdistribution.pdf')"
   ]
  },
  {
   "cell_type": "code",
   "execution_count": null,
   "metadata": {},
   "outputs": [],
   "source": [
    "s=fdf.spectra.iloc[-1]"
   ]
  },
  {
   "cell_type": "code",
   "execution_count": null,
   "metadata": {},
   "outputs": [],
   "source": [
    "%%capture \n",
    "res=splat.classifyByTemplate(s.splat_spectrum, range=[[1.15, 1.65]], spt=[34,38], force=True )"
   ]
  },
  {
   "cell_type": "code",
   "execution_count": null,
   "metadata": {},
   "outputs": [],
   "source": [
    "res"
   ]
  },
  {
   "cell_type": "code",
   "execution_count": null,
   "metadata": {},
   "outputs": [],
   "source": [
    "fig, ax=plt.subplots()\n",
    "ax.plot((res['spectra'][0]).wave, (res['spectra'][0]).flux*0.78)\n",
    "ax.plot(s.splat_spectrum.wave, s.splat_spectrum.flux)\n",
    "ax.set_xlim([1.1, 1.7])"
   ]
  },
  {
   "cell_type": "code",
   "execution_count": null,
   "metadata": {},
   "outputs": [],
   "source": [
    "evol_models=pd.read_csv(wispsim.EVOL_MODELS_FOLDER+'//'+'phillips2020'.lower()+'.csv')"
   ]
  },
  {
   "cell_type": "code",
   "execution_count": null,
   "metadata": {},
   "outputs": [],
   "source": []
  },
  {
   "cell_type": "code",
   "execution_count": null,
   "metadata": {},
   "outputs": [],
   "source": [
    "evol_models.columns"
   ]
  },
  {
   "cell_type": "code",
   "execution_count": null,
   "metadata": {},
   "outputs": [],
   "source": [
    "import splat"
   ]
  },
  {
   "cell_type": "code",
   "execution_count": null,
   "metadata": {},
   "outputs": [],
   "source": [
    "pols=wisps.POLYNOMIAL_RELATIONS"
   ]
  },
  {
   "cell_type": "code",
   "execution_count": null,
   "metadata": {},
   "outputs": [],
   "source": [
    "color_pol=pols['colors']"
   ]
  },
  {
   "cell_type": "code",
   "execution_count": null,
   "metadata": {},
   "outputs": [],
   "source": [
    "fdf['f110']=fdf.spectra.apply(lambda x: x.mags['F110W'][0])\n",
    "fdf['f110_er']=fdf.spectra.apply(lambda x: x.mags['F110W'][1])\n",
    "\n",
    "fdf['f140']=fdf.spectra.apply(lambda x: x.mags['F140W'][0])\n",
    "fdf['f140_er']=fdf.spectra.apply(lambda x: x.mags['F140W'][1])\n",
    "\n",
    "fdf['f160']=fdf.spectra.apply(lambda x: x.mags['F160W'][0])\n",
    "fdf['f160_er']=fdf.spectra.apply(lambda x: x.mags['F160W'][1])"
   ]
  },
  {
   "cell_type": "code",
   "execution_count": null,
   "metadata": {},
   "outputs": [],
   "source": [
    "spdf=splat.searchLibrary()"
   ]
  },
  {
   "cell_type": "code",
   "execution_count": null,
   "metadata": {},
   "outputs": [],
   "source": [
    "spdf['SHORTNAME']=spdf.DESIGNATION.apply(lambda x: splat.designationToShortName)"
   ]
  },
  {
   "cell_type": "code",
   "execution_count": null,
   "metadata": {},
   "outputs": [],
   "source": [
    "spdf=spdf[~ (spdf.PARALLAX.isna() | spdf.SHORTNAME.isin(wisps.FORBIDDEN_LIST))]"
   ]
  },
  {
   "cell_type": "code",
   "execution_count": null,
   "metadata": {},
   "outputs": [],
   "source": [
    "spdf['absF110W']=pols['sp_F110W'](spdf['SPEX_TYPE'].apply(wisps.make_spt_number))\n",
    "spdf['absF140W']=pols['sp_F140W'](spdf['SPEX_TYPE'].apply(wisps.make_spt_number))\n",
    "spdf['absF160W']=pols['sp_F160W'](spdf['SPEX_TYPE'].apply(wisps.make_spt_number))"
   ]
  },
  {
   "cell_type": "code",
   "execution_count": null,
   "metadata": {},
   "outputs": [],
   "source": [
    "spdf['relF110W']=spdf['J_2MASS']-color_pol['j_f110'][0](spdf['SPEX_TYPE'].apply(wisps.make_spt_number))\n",
    "spdf['relF140W']=spdf['J_2MASS']-color_pol['j_f140'][0](spdf['SPEX_TYPE'].apply(wisps.make_spt_number))\n",
    "spdf['relF160W']=spdf['H_2MASS']-color_pol['h_f160'][0](spdf['SPEX_TYPE'].apply(wisps.make_spt_number))"
   ]
  },
  {
   "cell_type": "code",
   "execution_count": null,
   "metadata": {},
   "outputs": [],
   "source": [
    "absf110= pols['sp_F110W'](np.vstack(fdf.spt.values)[:,0])\n",
    "absf140= pols['sp_F140W'](np.vstack(fdf.spt.values)[:,0])\n",
    "absf160= pols['sp_F160W'](np.vstack(fdf.spt.values)[:,0])"
   ]
  },
  {
   "cell_type": "code",
   "execution_count": null,
   "metadata": {},
   "outputs": [],
   "source": [
    "spts0ssss=np.vstack(fdf.spt.values)[:,0]"
   ]
  },
  {
   "cell_type": "code",
   "execution_count": null,
   "metadata": {},
   "outputs": [],
   "source": [
    "plt.plot(spts0ssss, color_pol['j_f110'][0](spts0ssss))\n",
    "plt.plot(spts0ssss, color_pol['j_f140'][0](spts0ssss))\n",
    "plt.plot(spts0ssss, color_pol['h_f160'][0](spts0ssss))\n",
    "#plt.plot(np.vstack(latc_df.spt.values)[:,0], absf110)\n",
    "#plt.plot(np.vstack(latc_df.spt.values)[:,0], absf160)\n",
    "#plt.gca().invert_xaxis()"
   ]
  },
  {
   "cell_type": "code",
   "execution_count": null,
   "metadata": {},
   "outputs": [],
   "source": [
    "fig, ax=plt.subplots(ncols=3, figsize=(12, 4))\n",
    "\n",
    "ax[0].errorbar(spdf['relF160W']-spdf['relF110W'], spdf['absF160W'],  yerr=spdf['H_2MASS_E'],\n",
    "               xerr= (color_pol['j_f160'][1]**2+spdf['J_2MASS_E']**2)**0.5, fmt='+', ms=5)\n",
    "\n",
    "ax[1].errorbar(spdf['relF160W']-spdf['relF140W'], spdf['absF160W'], yerr=spdf['H_2MASS_E'],\n",
    "                xerr= (color_pol['j_f160'][1]**2+spdf['J_2MASS_E']**2)**0.5, fmt='+',  ms=5)\n",
    "\n",
    "ax[2].errorbar(spdf['relF140W']-spdf['relF110W'], spdf['absF140W'],yerr=spdf['J_2MASS_E'],\n",
    "                xerr= (color_pol['j_f140'][1]**2+spdf['J_2MASS_E']**2)**0.5, fmt='+',  ms=5)\n",
    "\n",
    "\n",
    "\n",
    "    \n",
    "\n",
    "ax[0].errorbar(fdf['f160']-fdf['f110'], absf160, yerr=(pols['sigma_sp_F160W']**2+fdf['f160_er']**2)**0.5, \n",
    "               xerr=(fdf['f160_er']**2+fdf['f110_er']**2)**0.5, fmt='o')\n",
    "\n",
    "ax[1].errorbar(fdf['f160']-fdf['f140'], absf160, yerr=(pols['sigma_sp_F160W']**2+fdf['f160_er']**2)**0.5, \n",
    "               xerr=(fdf['f160_er']**2+fdf['f140_er']**2)**0.5, fmt='o')\n",
    "\n",
    "ax[2].errorbar(fdf['f140']-fdf['f110'], absf140, yerr=(pols['sigma_sp_F140W']**2+fdf['f140_er']**2)**0.5,  \n",
    "               xerr=(fdf['f140_er']**2+fdf['f110_er']**2)**0.5,fmt='o')\n",
    "\n",
    "\n",
    "ax[0].set_xlabel('F160W-F110W')\n",
    "ax[0].set_xlabel('abs F160W')\n",
    "\n",
    "ax[0].axhline(pols['sp_F110W'](20), c='k')\n",
    "ax[1].axhline(pols['sp_F140W'](20), c='k')\n",
    "ax[2].axhline(pols['sp_F160W'](20), c='k')\n",
    "\n",
    "ax[0].set_xlabel('F160W-F110W', fontsize=18)\n",
    "ax[0].set_ylabel('abs F160W', fontsize=18)\n",
    "\n",
    "ax[1].set_xlabel('F160W-F140W', fontsize=18)\n",
    "ax[1].set_ylabel('abs F160W', fontsize=18)\n",
    "\n",
    "ax[2].set_xlabel('F140W-F110W', fontsize=18)\n",
    "ax[2].set_ylabel('abs F140W', fontsize=18)\n",
    "\n",
    "for a in ax:\n",
    "    a.invert_yaxis()\n",
    "    #a.set_xlim([-2., 1.0])\n",
    "\n",
    "plt.tight_layout()\n",
    "plt.savefig(wisps.OUTPUT_FIGURES+'/color_color_plots.pdf')\n"
   ]
  },
  {
   "cell_type": "code",
   "execution_count": null,
   "metadata": {},
   "outputs": [],
   "source": [
    "pols['sp_F110W'](20)"
   ]
  },
  {
   "cell_type": "code",
   "execution_count": null,
   "metadata": {},
   "outputs": [],
   "source": []
  }
 ],
 "metadata": {
  "kernelspec": {
   "display_name": "Python 3",
   "language": "python",
   "name": "python3"
  },
  "language_info": {
   "codemirror_mode": {
    "name": "ipython",
    "version": 3
   },
   "file_extension": ".py",
   "mimetype": "text/x-python",
   "name": "python",
   "nbconvert_exporter": "python",
   "pygments_lexer": "ipython3",
   "version": "3.7.6"
  }
 },
 "nbformat": 4,
 "nbformat_minor": 4
}
