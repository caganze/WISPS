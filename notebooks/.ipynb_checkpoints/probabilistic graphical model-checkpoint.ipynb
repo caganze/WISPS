{
 "cells": [
  {
   "cell_type": "code",
   "execution_count": 1,
   "metadata": {},
   "outputs": [],
   "source": [
    "import numpy as np\n",
    "import matplotlib.pyplot as plt\n",
    "%matplotlib inline"
   ]
  },
  {
   "cell_type": "code",
   "execution_count": 2,
   "metadata": {},
   "outputs": [],
   "source": [
    "import wisps\n",
    "import wisps.simulations as wispsim"
   ]
  },
  {
   "cell_type": "code",
   "execution_count": 3,
   "metadata": {},
   "outputs": [],
   "source": [
    "import astropy.units as u\n",
    "from astropy.coordinates import SkyCoord"
   ]
  },
  {
   "cell_type": "code",
   "execution_count": 4,
   "metadata": {},
   "outputs": [],
   "source": [
    "import matplotlib as mpl\n",
    "from scipy import stats"
   ]
  },
  {
   "cell_type": "code",
   "execution_count": 5,
   "metadata": {},
   "outputs": [],
   "source": [
    "import splat\n",
    "from scipy import integrate"
   ]
  },
  {
   "cell_type": "code",
   "execution_count": 6,
   "metadata": {},
   "outputs": [],
   "source": [
    "#import pymc stuff \n",
    "import numba\n",
    "import pymc3 as pm"
   ]
  },
  {
   "cell_type": "code",
   "execution_count": 7,
   "metadata": {},
   "outputs": [],
   "source": [
    "spgrid=np.arange(17, 42)"
   ]
  },
  {
   "cell_type": "code",
   "execution_count": 8,
   "metadata": {},
   "outputs": [],
   "source": [
    "hs =  [100, 250, 275, 300, 325 , 350, 1000] "
   ]
  },
  {
   "cell_type": "code",
   "execution_count": 9,
   "metadata": {},
   "outputs": [],
   "source": [
    "import splat.simulate as spsim"
   ]
  },
  {
   "cell_type": "code",
   "execution_count": 10,
   "metadata": {},
   "outputs": [],
   "source": [
    "from pymc3.distributions import Interpolated, DiscreteUniform"
   ]
  },
  {
   "cell_type": "code",
   "execution_count": 11,
   "metadata": {},
   "outputs": [],
   "source": [
    "import pandas as pd"
   ]
  },
  {
   "cell_type": "code",
   "execution_count": 12,
   "metadata": {},
   "outputs": [],
   "source": [
    "pnts=pd.read_pickle(wisps.OUTPUT_FILES+'/bayesian_observed_pointings.pkl')"
   ]
  },
  {
   "cell_type": "code",
   "execution_count": 13,
   "metadata": {},
   "outputs": [],
   "source": [
    "def from_posterior(param, samples):\n",
    "    smin, smax = np.min(samples), np.max(samples)\n",
    "    width = smax - smin\n",
    "    x = np.linspace(smin, smax, 100)\n",
    "    y = stats.gaussian_kde(samples)(x)\n",
    "\n",
    "    # what was never sampled should have a small probability but not 0,\n",
    "    # so we'll extend the domain and use linear approximation of density on it\n",
    "    x = np.concatenate([[x[0] - 3 * width], x, [x[-1] + 3 * width]])\n",
    "    y = np.concatenate([[0], y, [0]])\n",
    "    return Interpolated(param, x, y)"
   ]
  },
  {
   "cell_type": "code",
   "execution_count": 14,
   "metadata": {},
   "outputs": [],
   "source": [
    "from wisps.simulations import logp"
   ]
  },
  {
   "cell_type": "code",
   "execution_count": 15,
   "metadata": {},
   "outputs": [],
   "source": [
    "import numpy\n",
    "import theano\n",
    "import theano.tensor as T\n",
    "import itertools\n",
    "import multiprocess as mp\n",
    "from concurrent.futures import ThreadPoolExecutor, wait , ALL_COMPLETED\n",
    "from  functools import partial"
   ]
  },
  {
   "cell_type": "code",
   "execution_count": 16,
   "metadata": {},
   "outputs": [],
   "source": [
    "import numpy as npy"
   ]
  },
  {
   "cell_type": "code",
   "execution_count": 17,
   "metadata": {},
   "outputs": [],
   "source": [
    "def conv_to_galactic(l, b, d):\n",
    "\n",
    "    '''\n",
    "    Function to convert l, b in radians and distances into \n",
    "    Galactocentric coordinates R, theta, Z.\n",
    "    \n",
    "    \n",
    "    '''\n",
    "\n",
    "    Rsun=8000.\n",
    "    Tsun=0.\n",
    "    Zsun=15.\n",
    "    r2d   = 180. / numpy.pi # radians to degrees\n",
    "\n",
    "    \"\"\"\n",
    "    # The SLOOOOOOOOOOW Astropy way\n",
    "    c_icrs = SkyCoord(ra = ra*u.degree, dec = dec*u.degree, frame = 'icrs')  \n",
    "    l, b = c_icrs.galactic.l.radian, c_icrs.galactic.b.radian\n",
    "    \"\"\"\n",
    "\n",
    "    \n",
    "    r    = np.sqrt( (d * np.cos( b ) )**2 + Rsun * (Rsun - 2 * d * np.cos( b ) * np.cos( l ) ) )\n",
    "    t    = np.rad2deg( np.arcsin(d * np.sin( l ) * np.cos( b ) / r) )\n",
    "    z    = Zsun + d * np.sin( b - np.arctan( Zsun / Rsun) )\n",
    "    \n",
    "    return r, t, z"
   ]
  },
  {
   "cell_type": "code",
   "execution_count": 18,
   "metadata": {},
   "outputs": [
    {
     "data": {
      "text/plain": [
       "(8000.0, 4.3854433115842975e-16, 1014.9982421921349)"
      ]
     },
     "execution_count": 18,
     "metadata": {},
     "output_type": "execute_result"
    }
   ],
   "source": [
    "conv_to_galactic(np.pi/2, np.pi/2, 1000.)"
   ]
  },
  {
   "cell_type": "code",
   "execution_count": 19,
   "metadata": {},
   "outputs": [],
   "source": [
    "import theano"
   ]
  },
  {
   "cell_type": "code",
   "execution_count": 20,
   "metadata": {},
   "outputs": [],
   "source": [
    "import theano.tensor as T\n",
    "from theano import function"
   ]
  },
  {
   "cell_type": "code",
   "execution_count": 21,
   "metadata": {},
   "outputs": [],
   "source": [
    "dmin=0.\n",
    "dmax=20000\n",
    "Rsun=8000.\n",
    "Tsun=0.\n",
    "Zsun=15.\n",
    "r2d   = 180. / numpy.pi # radians to degrees\n"
   ]
  },
  {
   "cell_type": "code",
   "execution_count": 22,
   "metadata": {},
   "outputs": [],
   "source": [
    "COORDS=SkyCoord([p.coord for p in wisps.OBSERVED_POINTINGS if p.name.lower().startswith('par')])"
   ]
  },
  {
   "cell_type": "code",
   "execution_count": 23,
   "metadata": {},
   "outputs": [],
   "source": [
    "galc=COORDS.transform_to('galactic')"
   ]
  },
  {
   "cell_type": "code",
   "execution_count": 24,
   "metadata": {},
   "outputs": [
    {
     "data": {
      "text/plain": [
       "<matplotlib.collections.PathCollection at 0x1c552d1438>"
      ]
     },
     "execution_count": 24,
     "metadata": {},
     "output_type": "execute_result"
    }
   ],
   "source": [
    "fig = plt.figure(figsize=(8,6))\n",
    "ax = fig.add_subplot(111, projection=\"mollweide\")\n",
    "ax.scatter(galc.l.wrap_at(180*u.degree).radian,galc.b.wrap_at(90*u.degree).radian, marker='+')"
   ]
  },
  {
   "cell_type": "code",
   "execution_count": 25,
   "metadata": {},
   "outputs": [],
   "source": [
    "LS=galc.l.wrap_at(360*u.degree).radian"
   ]
  },
  {
   "cell_type": "code",
   "execution_count": 26,
   "metadata": {},
   "outputs": [],
   "source": [
    "BS=galc.b.wrap_at(90*u.degree).radian"
   ]
  },
  {
   "cell_type": "code",
   "execution_count": 27,
   "metadata": {},
   "outputs": [],
   "source": [
    "import scipy.stats as stats\n",
    "gaussian_kde = stats.gaussian_kde"
   ]
  },
  {
   "cell_type": "code",
   "execution_count": 28,
   "metadata": {},
   "outputs": [
    {
     "data": {
      "text/plain": [
       "<matplotlib.collections.PathCollection at 0x1c855bbba8>"
      ]
     },
     "execution_count": 28,
     "metadata": {},
     "output_type": "execute_result"
    }
   ],
   "source": [
    "plt.scatter(LS, BS)"
   ]
  },
  {
   "cell_type": "code",
   "execution_count": 29,
   "metadata": {},
   "outputs": [],
   "source": [
    "#wisps.OBSERVED_POINTINGS"
   ]
  },
  {
   "cell_type": "code",
   "execution_count": 30,
   "metadata": {},
   "outputs": [],
   "source": [
    "#/earth_centric_likelihood"
   ]
  },
  {
   "cell_type": "code",
   "execution_count": 63,
   "metadata": {},
   "outputs": [
    {
     "name": "stderr",
     "output_type": "stream",
     "text": [
      "Auto-assigning NUTS sampler...\n",
      "Initializing NUTS using jitter+adapt_diag...\n",
      "Multiprocess sampling (2 chains in 2 jobs)\n",
      "NUTS: [d]\n",
      "Sampling 2 chains: 100%|██████████| 2200/2200 [00:02<00:00, 804.28draws/s]\n",
      "The acceptance probability does not match the target. It is 0.9100092621288748, but should be close to 0.8. Try to increase the number of tuning steps.\n",
      "There were 3 divergences after tuning. Increase `target_accept` or reparameterize.\n",
      "Auto-assigning NUTS sampler...\n",
      "Initializing NUTS using jitter+adapt_diag...\n",
      "Multiprocess sampling (2 chains in 2 jobs)\n",
      "NUTS: [d]\n",
      "Sampling 2 chains: 100%|██████████| 2200/2200 [00:03<00:00, 690.17draws/s]\n",
      "There was 1 divergence after tuning. Increase `target_accept` or reparameterize.\n",
      "The acceptance probability does not match the target. It is 0.889148113507654, but should be close to 0.8. Try to increase the number of tuning steps.\n",
      "Auto-assigning NUTS sampler...\n",
      "Initializing NUTS using jitter+adapt_diag...\n",
      "Multiprocess sampling (2 chains in 2 jobs)\n",
      "NUTS: [d]\n",
      "Sampling 2 chains: 100%|██████████| 2200/2200 [00:02<00:00, 750.31draws/s]\n",
      "There were 6 divergences after tuning. Increase `target_accept` or reparameterize.\n",
      "The acceptance probability does not match the target. It is 0.8864245701859678, but should be close to 0.8. Try to increase the number of tuning steps.\n",
      "Auto-assigning NUTS sampler...\n",
      "Initializing NUTS using jitter+adapt_diag...\n",
      "Multiprocess sampling (2 chains in 2 jobs)\n",
      "NUTS: [d]\n",
      "Sampling 2 chains: 100%|██████████| 2200/2200 [00:03<00:00, 670.62draws/s]\n",
      "There were 4 divergences after tuning. Increase `target_accept` or reparameterize.\n",
      "Auto-assigning NUTS sampler...\n",
      "Initializing NUTS using jitter+adapt_diag...\n",
      "Multiprocess sampling (2 chains in 2 jobs)\n",
      "NUTS: [d]\n",
      "Sampling 2 chains: 100%|██████████| 2200/2200 [00:03<00:00, 686.24draws/s]\n",
      "The acceptance probability does not match the target. It is 0.9499543417661246, but should be close to 0.8. Try to increase the number of tuning steps.\n",
      "There were 6 divergences after tuning. Increase `target_accept` or reparameterize.\n",
      "Auto-assigning NUTS sampler...\n",
      "Initializing NUTS using jitter+adapt_diag...\n",
      "Multiprocess sampling (2 chains in 2 jobs)\n",
      "NUTS: [d]\n",
      "Sampling 2 chains: 100%|██████████| 2200/2200 [00:03<00:00, 666.62draws/s]\n",
      "There were 3 divergences after tuning. Increase `target_accept` or reparameterize.\n",
      "There were 2 divergences after tuning. Increase `target_accept` or reparameterize.\n",
      "Auto-assigning NUTS sampler...\n",
      "Initializing NUTS using jitter+adapt_diag...\n",
      "Multiprocess sampling (2 chains in 2 jobs)\n",
      "NUTS: [d]\n",
      "Sampling 2 chains: 100%|██████████| 2200/2200 [00:03<00:00, 600.18draws/s]\n",
      "There were 4 divergences after tuning. Increase `target_accept` or reparameterize.\n",
      "The acceptance probability does not match the target. It is 0.880275431632376, but should be close to 0.8. Try to increase the number of tuning steps.\n"
     ]
    }
   ],
   "source": [
    "traces=[]\n",
    "for h in hs:\n",
    "    with pm.Model() as model:\n",
    "        \n",
    "        l=pm.Uniform('l', lower=np.nanmin(LS), upper=np.nanmax(LS),  observed=LS)\n",
    "        b=pm.Uniform('b', lower=np.nanmin(BS), upper=np.nanmax(LS),  observed=BS)\n",
    "        \n",
    "        d=pm.Uniform('d', upper=Rsun+0, lower=0.)\n",
    "        \n",
    "        r=pm.Deterministic('r', np.sqrt( (d * np.cos( b ) )**2 + Rsun * (Rsun - 2 * d * np.cos( b ) * np.cos( l ) ) ))\n",
    "        z=pm.Deterministic('z', Zsun+ d * np.sin( b - np.arctan( Zsun / Rsun) ))\n",
    "        \n",
    "        #d_3d=pm.Deterministic('d3d', (r**2+z**2)**0.5)\n",
    "        \n",
    "        #likelihood\n",
    "        like = pm.Potential('lnlike', logp(r, z,h)) #earth-centric likelihood\n",
    "    \n",
    "        trace = pm.sample(tune=100, draws=int(1e3), cores=2)\n",
    "        \n",
    "        traces.append(trace)\n",
    "\n"
   ]
  },
  {
   "cell_type": "code",
   "execution_count": 64,
   "metadata": {},
   "outputs": [
    {
     "name": "stdout",
     "output_type": "stream",
     "text": [
      "d_interval__ -1.3862943611198906\n",
      "l -706.7965672800917\n",
      "b -787.295138222742\n"
     ]
    }
   ],
   "source": [
    "for RV in model.basic_RVs:\n",
    "    print(RV.name, RV.logp(model.test_point))"
   ]
  },
  {
   "cell_type": "code",
   "execution_count": 65,
   "metadata": {},
   "outputs": [
    {
     "data": {
      "image/svg+xml": [
       "<?xml version=\"1.0\" encoding=\"UTF-8\" standalone=\"no\"?>\n",
       "<!DOCTYPE svg PUBLIC \"-//W3C//DTD SVG 1.1//EN\"\n",
       " \"http://www.w3.org/Graphics/SVG/1.1/DTD/svg11.dtd\">\n",
       "<!-- Generated by graphviz version 2.40.1 (20161225.0304)\n",
       " -->\n",
       "<!-- Title: %3 Pages: 1 -->\n",
       "<svg width=\"396pt\" height=\"243pt\"\n",
       " viewBox=\"0.00 0.00 395.90 243.00\" xmlns=\"http://www.w3.org/2000/svg\" xmlns:xlink=\"http://www.w3.org/1999/xlink\">\n",
       "<g id=\"graph0\" class=\"graph\" transform=\"scale(1 1) rotate(0) translate(4 239)\">\n",
       "<title>%3</title>\n",
       "<polygon fill=\"#ffffff\" stroke=\"transparent\" points=\"-4,4 -4,-239 391.895,-239 391.895,4 -4,4\"/>\n",
       "<g id=\"clust1\" class=\"cluster\">\n",
       "<title>cluster385</title>\n",
       "<path fill=\"none\" stroke=\"#000000\" d=\"M20,-8C20,-8 256,-8 256,-8 262,-8 268,-14 268,-20 268,-20 268,-215 268,-215 268,-221 262,-227 256,-227 256,-227 20,-227 20,-227 14,-227 8,-221 8,-215 8,-215 8,-20 8,-20 8,-14 14,-8 20,-8\"/>\n",
       "<text text-anchor=\"middle\" x=\"249\" y=\"-15.8\" font-family=\"Times,serif\" font-size=\"14.00\" fill=\"#000000\">385</text>\n",
       "</g>\n",
       "<!-- b -->\n",
       "<g id=\"node1\" class=\"node\">\n",
       "<title>b</title>\n",
       "<ellipse fill=\"#d3d3d3\" stroke=\"#000000\" cx=\"201\" cy=\"-201\" rx=\"55.7903\" ry=\"18\"/>\n",
       "<text text-anchor=\"middle\" x=\"201\" y=\"-197.3\" font-family=\"Times,serif\" font-size=\"14.00\" fill=\"#000000\">b ~ Uniform</text>\n",
       "</g>\n",
       "<!-- z -->\n",
       "<g id=\"node2\" class=\"node\">\n",
       "<title>z</title>\n",
       "<polygon fill=\"none\" stroke=\"#000000\" points=\"259.5,-147 146.5,-147 146.5,-111 259.5,-111 259.5,-147\"/>\n",
       "<text text-anchor=\"middle\" x=\"203\" y=\"-125.3\" font-family=\"Times,serif\" font-size=\"14.00\" fill=\"#000000\">z ~ Deterministic</text>\n",
       "</g>\n",
       "<!-- b&#45;&gt;z -->\n",
       "<g id=\"edge5\" class=\"edge\">\n",
       "<title>b&#45;&gt;z</title>\n",
       "<path fill=\"none\" stroke=\"#000000\" d=\"M201.5047,-182.8314C201.7186,-175.131 201.9729,-165.9743 202.2106,-157.4166\"/>\n",
       "<polygon fill=\"#000000\" stroke=\"#000000\" points=\"205.7094,-157.5066 202.4885,-147.4133 198.7121,-157.3122 205.7094,-157.5066\"/>\n",
       "</g>\n",
       "<!-- r -->\n",
       "<g id=\"node3\" class=\"node\">\n",
       "<title>r</title>\n",
       "<polygon fill=\"none\" stroke=\"#000000\" points=\"128,-147 16,-147 16,-111 128,-111 128,-147\"/>\n",
       "<text text-anchor=\"middle\" x=\"72\" y=\"-125.3\" font-family=\"Times,serif\" font-size=\"14.00\" fill=\"#000000\">r ~ Deterministic</text>\n",
       "</g>\n",
       "<!-- b&#45;&gt;r -->\n",
       "<g id=\"edge2\" class=\"edge\">\n",
       "<title>b&#45;&gt;r</title>\n",
       "<path fill=\"none\" stroke=\"#000000\" d=\"M173.0089,-185.3771C155.609,-175.6655 132.9236,-163.0039 113.4606,-152.1408\"/>\n",
       "<polygon fill=\"#000000\" stroke=\"#000000\" points=\"114.9275,-148.9513 104.4897,-147.1338 111.5159,-155.0637 114.9275,-148.9513\"/>\n",
       "</g>\n",
       "<!-- lnlike -->\n",
       "<g id=\"node5\" class=\"node\">\n",
       "<title>lnlike</title>\n",
       "<polygon fill=\"none\" stroke=\"#000000\" points=\"207.5,-75 68.5,-75 68.5,-39 207.5,-39 207.5,-75\"/>\n",
       "<text text-anchor=\"middle\" x=\"138\" y=\"-53.3\" font-family=\"Times,serif\" font-size=\"14.00\" fill=\"#000000\">lnlike ~ Deterministic</text>\n",
       "</g>\n",
       "<!-- z&#45;&gt;lnlike -->\n",
       "<g id=\"edge6\" class=\"edge\">\n",
       "<title>z&#45;&gt;lnlike</title>\n",
       "<path fill=\"none\" stroke=\"#000000\" d=\"M186.5978,-110.8314C178.9585,-102.3694 169.7317,-92.1489 161.3793,-82.8971\"/>\n",
       "<polygon fill=\"#000000\" stroke=\"#000000\" points=\"163.9221,-80.4906 154.6231,-75.4133 158.7262,-85.1813 163.9221,-80.4906\"/>\n",
       "</g>\n",
       "<!-- r&#45;&gt;lnlike -->\n",
       "<g id=\"edge7\" class=\"edge\">\n",
       "<title>r&#45;&gt;lnlike</title>\n",
       "<path fill=\"none\" stroke=\"#000000\" d=\"M88.6546,-110.8314C96.4114,-102.3694 105.7802,-92.1489 114.261,-82.8971\"/>\n",
       "<polygon fill=\"#000000\" stroke=\"#000000\" points=\"116.9439,-85.1499 121.1212,-75.4133 111.7838,-80.4198 116.9439,-85.1499\"/>\n",
       "</g>\n",
       "<!-- l -->\n",
       "<g id=\"node4\" class=\"node\">\n",
       "<title>l</title>\n",
       "<ellipse fill=\"#d3d3d3\" stroke=\"#000000\" cx=\"72\" cy=\"-201\" rx=\"53.8905\" ry=\"18\"/>\n",
       "<text text-anchor=\"middle\" x=\"72\" y=\"-197.3\" font-family=\"Times,serif\" font-size=\"14.00\" fill=\"#000000\">l ~ Uniform</text>\n",
       "</g>\n",
       "<!-- l&#45;&gt;r -->\n",
       "<g id=\"edge3\" class=\"edge\">\n",
       "<title>l&#45;&gt;r</title>\n",
       "<path fill=\"none\" stroke=\"#000000\" d=\"M72,-182.8314C72,-175.131 72,-165.9743 72,-157.4166\"/>\n",
       "<polygon fill=\"#000000\" stroke=\"#000000\" points=\"75.5001,-157.4132 72,-147.4133 68.5001,-157.4133 75.5001,-157.4132\"/>\n",
       "</g>\n",
       "<!-- d -->\n",
       "<g id=\"node6\" class=\"node\">\n",
       "<title>d</title>\n",
       "<ellipse fill=\"none\" stroke=\"#000000\" cx=\"332\" cy=\"-201\" rx=\"55.7903\" ry=\"18\"/>\n",
       "<text text-anchor=\"middle\" x=\"332\" y=\"-197.3\" font-family=\"Times,serif\" font-size=\"14.00\" fill=\"#000000\">d ~ Uniform</text>\n",
       "</g>\n",
       "<!-- d&#45;&gt;z -->\n",
       "<g id=\"edge4\" class=\"edge\">\n",
       "<title>d&#45;&gt;z</title>\n",
       "<path fill=\"none\" stroke=\"#000000\" d=\"M304.0089,-185.3771C286.609,-175.6655 263.9236,-163.0039 244.4606,-152.1408\"/>\n",
       "<polygon fill=\"#000000\" stroke=\"#000000\" points=\"245.9275,-148.9513 235.4897,-147.1338 242.5159,-155.0637 245.9275,-148.9513\"/>\n",
       "</g>\n",
       "<!-- d&#45;&gt;r -->\n",
       "<g id=\"edge1\" class=\"edge\">\n",
       "<title>d&#45;&gt;r</title>\n",
       "<path fill=\"none\" stroke=\"#000000\" d=\"M291.3832,-188.6302C284.9094,-186.7119 278.2782,-184.7784 272,-183 215.1713,-166.9027 198.526,-163.5925 137.7333,-147.1816\"/>\n",
       "<polygon fill=\"#000000\" stroke=\"#000000\" points=\"138.5778,-143.7843 128.0105,-144.5471 136.7471,-150.5406 138.5778,-143.7843\"/>\n",
       "</g>\n",
       "</g>\n",
       "</svg>\n"
      ],
      "text/plain": [
       "<graphviz.dot.Digraph at 0x1ca3033cc0>"
      ]
     },
     "execution_count": 65,
     "metadata": {},
     "output_type": "execute_result"
    }
   ],
   "source": [
    "pm.model_to_graphviz(model)"
   ]
  },
  {
   "cell_type": "code",
   "execution_count": 66,
   "metadata": {},
   "outputs": [],
   "source": [
    "import numpy as np\n",
    "import matplotlib.pyplot as plt\n",
    "import seaborn as sns\n",
    "%matplotlib inline"
   ]
  },
  {
   "cell_type": "code",
   "execution_count": 67,
   "metadata": {},
   "outputs": [],
   "source": [
    "from matplotlib.colors import Normalize"
   ]
  },
  {
   "cell_type": "code",
   "execution_count": 68,
   "metadata": {},
   "outputs": [],
   "source": [
    "cmap=sns.diverging_palette(124, 256, n=10, as_cmap=True)"
   ]
  },
  {
   "cell_type": "code",
   "execution_count": 69,
   "metadata": {},
   "outputs": [],
   "source": [
    "cnorm=Normalize(hs[1], hs[-2])"
   ]
  },
  {
   "cell_type": "code",
   "execution_count": 55,
   "metadata": {},
   "outputs": [],
   "source": [
    "#for idx, t in enumerate(traces):\n",
    "#    h=plt.scatter(np.log(t['r']), t['z'], color=cmap(cnorm(hs[idx])), alpha=.01, s=1, marker='.' )\n",
    "\n",
    "#plt.xlabel('log r (pc)', fontsize=18)\n",
    "#plt.ylabel('z (pc)', fontsize=18)"
   ]
  },
  {
   "cell_type": "code",
   "execution_count": 70,
   "metadata": {},
   "outputs": [],
   "source": [
    "t=traces[0]"
   ]
  },
  {
   "cell_type": "code",
   "execution_count": 71,
   "metadata": {},
   "outputs": [],
   "source": [
    "dists=np.array([t['d'] for t in traces])"
   ]
  },
  {
   "cell_type": "code",
   "execution_count": 72,
   "metadata": {},
   "outputs": [],
   "source": [
    "dd=((t['r'])**2+(t['z'])**2)**0.5"
   ]
  },
  {
   "cell_type": "code",
   "execution_count": 73,
   "metadata": {},
   "outputs": [
    {
     "data": {
      "text/plain": [
       "(8010.8620881827155, 7989.807068301993)"
      ]
     },
     "execution_count": 73,
     "metadata": {},
     "output_type": "execute_result"
    }
   ],
   "source": [
    "dd.max(), dd.min()"
   ]
  },
  {
   "cell_type": "code",
   "execution_count": 74,
   "metadata": {},
   "outputs": [
    {
     "data": {
      "text/plain": [
       "(141.29292534549128, 0.0015818880253541262)"
      ]
     },
     "execution_count": 74,
     "metadata": {},
     "output_type": "execute_result"
    }
   ],
   "source": [
    "dists.max(), dists.min()"
   ]
  },
  {
   "cell_type": "code",
   "execution_count": null,
   "metadata": {},
   "outputs": [],
   "source": [
    "#h=plt.hist(dd, bins='auto')"
   ]
  },
  {
   "cell_type": "code",
   "execution_count": 62,
   "metadata": {},
   "outputs": [
    {
     "data": {
      "image/png": "[encoded data removed]",
      "text/plain": [
       "<Figure size 432x288 with 1 Axes>"
      ]
     },
     "metadata": {
      "needs_background": "light"
     },
     "output_type": "display_data"
    }
   ],
   "source": [
    "for idx, t in enumerate(traces):\n",
    "    h=plt.hist(dists[idx], bins='auto', histtype='step',  color=cmap(cnorm(hs[idx])))"
   ]
  },
  {
   "cell_type": "code",
   "execution_count": null,
   "metadata": {},
   "outputs": [],
   "source": [
    "hgvbjnkml"
   ]
  },
  {
   "cell_type": "code",
   "execution_count": null,
   "metadata": {},
   "outputs": [],
   "source": [
    "import wisps"
   ]
  },
  {
   "cell_type": "code",
   "execution_count": null,
   "metadata": {},
   "outputs": [],
   "source": [
    "pnts=pd.read_pickle(wisps.OUTPUT_FILES+'/bayesian_observed_pointings.pkl')"
   ]
  },
  {
   "cell_type": "code",
   "execution_count": null,
   "metadata": {},
   "outputs": [],
   "source": [
    "\n",
    "@numba.jit\n",
    "def custom_volume_correction(coordinate,dmin, dmax, h):\n",
    "    nsamp=1000\n",
    "    ds = np.linspace(dmin,dmax,nsamp)\n",
    "    r, z=wispsim.convert_to_rz(coordinate.ra, coordinate.dec, ds)\n",
    "    rh0=wispsim.density_function(r, z,h )\n",
    "    num=integrate.trapz(rh0*(ds**2), x=ds)\n",
    "    den=((dmax-dmin)**3)\n",
    "    return  num/den\n",
    "\n",
    "def computer_volume(pnt):\n",
    "        \"\"\"\n",
    "        given area calculate the volume\n",
    "        \"\"\"\n",
    "        volumes={}\n",
    "        for k in spgrid:\n",
    "            vcs=[]\n",
    "            for h in hs:\n",
    "                vc=custom_volume_correction(pnt.coord,  pnt.dist_limits[k][1], pnt.dist_limits[k][0], h)\n",
    "                vcs.append(vc)\n",
    "            volumes['vc_{}'.format(str(k))]=vcs\n",
    "            volumes[k]= np.array(vcs)*0.33333333333*(pnt.dist_limits[k][0]**3-pnt.dist_limits[k][1]**3)\n",
    "\n",
    "        return volumes"
   ]
  },
  {
   "cell_type": "code",
   "execution_count": null,
   "metadata": {},
   "outputs": [],
   "source": [
    "volumes=[computer_volume(pnt) for pnt in pnts]"
   ]
  },
  {
   "cell_type": "code",
   "execution_count": null,
   "metadata": {},
   "outputs": [],
   "source": [
    "#p=plt.hist(np.concatenate(dists).flatten())\n",
    "#plt.show()"
   ]
  },
  {
   "cell_type": "code",
   "execution_count": null,
   "metadata": {},
   "outputs": [],
   "source": [
    "dists=np.array(dists)"
   ]
  },
  {
   "cell_type": "code",
   "execution_count": null,
   "metadata": {},
   "outputs": [],
   "source": [
    "len(spgrid)"
   ]
  },
  {
   "cell_type": "code",
   "execution_count": null,
   "metadata": {},
   "outputs": [],
   "source": [
    "dist_dict=dict(zip(hs, dists))"
   ]
  },
  {
   "cell_type": "code",
   "execution_count": null,
   "metadata": {},
   "outputs": [],
   "source": [
    "#dist_dict"
   ]
  },
  {
   "cell_type": "code",
   "execution_count": null,
   "metadata": {},
   "outputs": [],
   "source": [
    "full_dict={'volumes': volumes, 'distances': dist_dict}"
   ]
  },
  {
   "cell_type": "code",
   "execution_count": null,
   "metadata": {},
   "outputs": [],
   "source": [
    "import pickle\n",
    "with open(wisps.OUTPUT_FILES+'/bayesian_pointings.pkl', 'wb') as file:\n",
    "           pickle.dump(full_dict,file)"
   ]
  },
  {
   "cell_type": "code",
   "execution_count": null,
   "metadata": {},
   "outputs": [],
   "source": []
  },
  {
   "cell_type": "code",
   "execution_count": null,
   "metadata": {},
   "outputs": [],
   "source": []
  }
 ],
 "metadata": {
  "kernelspec": {
   "display_name": "Python 3",
   "language": "python",
   "name": "python3"
  },
  "language_info": {
   "codemirror_mode": {
    "name": "ipython",
    "version": 3
   },
   "file_extension": ".py",
   "mimetype": "text/x-python",
   "name": "python",
   "nbconvert_exporter": "python",
   "pygments_lexer": "ipython3",
   "version": "3.7.3"
  }
 },
 "nbformat": 4,
 "nbformat_minor": 4
}
