{
 "cells": [
  {
   "cell_type": "markdown",
   "metadata": {},
   "source": [
    "Try random forests, start with an example of the iris data set"
   ]
  },
  {
   "cell_type": "code",
   "execution_count": 1,
   "metadata": {
    "collapsed": true
   },
   "outputs": [],
   "source": [
    "import splat\n",
    "import sklearn\n",
    "import wisps\n",
    "import pandas as pd\n",
    "import seaborn as sns\n",
    "import numpy as np\n",
    "%matplotlib inline"
   ]
  },
  {
   "cell_type": "code",
   "execution_count": 2,
   "metadata": {},
   "outputs": [
    {
     "name": "stdout",
     "output_type": "stream",
     "text": [
      "reading from file\n"
     ]
    }
   ],
   "source": [
    "ts=wisps.spex_sample_ids(stype='spex_sample',  from_file=True)\n",
    "spex_indices=pd.DataFrame([x for x in ts['Indices']])\n",
    "spex_df=pd.DataFrame()\n",
    "for k in spex_indices.columns: spex_df[k]= spex_indices[k]\n",
    "spex_df['Spts']=ts['Spts']\n",
    "spex_df['Snr']=ts['Snr']\n",
    "spex_df['Chis']=ts['Chis'].apply(np.log10)"
   ]
  },
  {
   "cell_type": "code",
   "execution_count": 3,
   "metadata": {},
   "outputs": [],
   "source": [
    "import numpy\n",
    "import math"
   ]
  },
  {
   "cell_type": "code",
   "execution_count": 4,
   "metadata": {
    "collapsed": true
   },
   "outputs": [],
   "source": [
    "conts=wisps.COMBINED_PHOTO_SPECTRO_DATA\n",
    "conts.Chis=conts.Chis.apply(math.log10)"
   ]
  },
  {
   "cell_type": "code",
   "execution_count": 5,
   "metadata": {},
   "outputs": [],
   "source": [
    "from sklearn.metrics import accuracy_score"
   ]
  },
  {
   "cell_type": "markdown",
   "metadata": {},
   "source": [
    "Try the same thing with spex data\n",
    "\n",
    "label the feature in a numeric way \n",
    "mix in \"trash\" inside the sample\n"
   ]
  },
  {
   "cell_type": "code",
   "execution_count": 6,
   "metadata": {},
   "outputs": [],
   "source": [
    "#make the features numeric \n",
    "from wisps import Annotator\n",
    "spdf=Annotator.group_by_spt(spex_df,assign_from_one=True).drop('data_type', axis=1).replace(np.inf, np.nan).dropna(how='any')"
   ]
  },
  {
   "cell_type": "code",
   "execution_count": 7,
   "metadata": {},
   "outputs": [],
   "source": [
    "#see how well the algorithm does for spex templates (my boxes have a completeness of 90%)\n",
    "#split the data into 50 /50 \n",
    "spex_training=spdf[:762]\n",
    "spex_test=spdf[762:]\n",
    "sp_train_labels=spex_training.spt_range.values\n",
    "sp_test_labels=spex_test.spt_range.values"
   ]
  },
  {
   "cell_type": "code",
   "execution_count": 8,
   "metadata": {},
   "outputs": [],
   "source": [
    "sp_train=spex_training.drop(['spt_range', 'Spts'], axis=1)\n",
    "sp_test=spex_test.drop(['spt_range', 'Spts'], axis=1)"
   ]
  },
  {
   "cell_type": "code",
   "execution_count": 9,
   "metadata": {},
   "outputs": [
    {
     "data": {
      "text/plain": [
       "RandomForestClassifier(bootstrap=True, class_weight=None, criterion='gini',\n",
       "            max_depth=None, max_features='auto', max_leaf_nodes=None,\n",
       "            min_impurity_decrease=0.0, min_impurity_split=None,\n",
       "            min_samples_leaf=1, min_samples_split=2,\n",
       "            min_weight_fraction_leaf=0.0, n_estimators=100, n_jobs=None,\n",
       "            oob_score=True, random_state=123456, verbose=0,\n",
       "            warm_start=False)"
      ]
     },
     "execution_count": 9,
     "metadata": {},
     "output_type": "execute_result"
    }
   ],
   "source": [
    "from sklearn.ensemble import RandomForestClassifier\n",
    "rf = RandomForestClassifier(n_estimators=100, oob_score=True, random_state=123456)\n",
    "rf.fit(sp_train, sp_train_labels)"
   ]
  },
  {
   "cell_type": "code",
   "execution_count": 11,
   "metadata": {},
   "outputs": [],
   "source": []
  },
  {
   "cell_type": "code",
   "execution_count": 87,
   "metadata": {},
   "outputs": [],
   "source": [
    "from sklearn.metrics import confusion_matrix\n",
    "spex_predicted = rf.predict(sp_test)\n",
    "model_accuracy = accuracy_score(sp_test_labels, spex_predicted)\n",
    "    #y_test, predicted\n",
    "classes=['M7-L0', 'L0-L5', 'L5-T0','T0-T5','T5-T9']\n",
    "cm = pd.DataFrame(confusion_matrix(sp_test_labels, spex_predicted), \n",
    "                  columns=classes, index=classes)\n",
    "sns.heatmap(cm, annot=True, cmap=wisps.MYCOLORMAP)"
   ]
  },
  {
   "cell_type": "code",
   "execution_count": 12,
   "metadata": {},
   "outputs": [
    {
     "data": {
      "text/plain": [
       "<matplotlib.axes._subplots.AxesSubplot at 0x1c2e96a860>"
      ]
     },
     "execution_count": 12,
     "metadata": {},
     "output_type": "execute_result"
    },
    {
     "data": {
      "image/png": "[encoded data removed]",
      "text/plain": [
       "<Figure size 432x288 with 2 Axes>"
      ]
     },
     "metadata": {
      "needs_background": "light"
     },
     "output_type": "display_data"
    }
   ],
   "source": []
  },
  {
   "cell_type": "markdown",
   "metadata": {},
   "source": [
    "This works in principle, almost as good as my boxes"
   ]
  },
  {
   "cell_type": "code",
   "execution_count": 143,
   "metadata": {},
   "outputs": [],
   "source": [
    "#change the training set to include \n",
    "#run this classifier on my sample of good stuff\n",
    "df000=pd.read_csv(wisps.LIBRARIES+'/candidates.csv')\n",
    "df100=wisps.COMBINED_PHOTO_SPECTRO_DATA\n",
    "df200=df100[df100.grism_id.isin(df000.grism_id)].rename(columns={'cdf_snr':'Snr'})\n",
    "df200.Spts=df200.Spts.apply(splat.typeToNum)\n",
    "df200=Annotator.group_by_spt(df200, assign_from_one=True).replace(np.inf, np.nan).dropna(how='any')\n",
    " \n",
    "############################################\n",
    "good_ones=df200[list(sp_test.columns)].applymap(float)"
   ]
  },
  {
   "cell_type": "code",
   "execution_count": 144,
   "metadata": {},
   "outputs": [
    {
     "data": {
      "text/plain": [
       "Index(['CH_4/H-Cont', 'CH_4/H_2O-1', 'CH_4/H_2O-2', 'CH_4/J-Cont',\n",
       "       'H-cont/H_2O-1', 'H-cont/H_2O-2', 'H-cont/J-Cont', 'H_2O-1/J-Cont',\n",
       "       'H_2O-2/H_2O-1', 'H_2O-2/J-Cont', 'Snr', 'Chis'],\n",
       "      dtype='object')"
      ]
     },
     "execution_count": 144,
     "metadata": {},
     "output_type": "execute_result"
    }
   ],
   "source": [
    "good_ones.columns"
   ]
  },
  {
   "cell_type": "code",
   "execution_count": 145,
   "metadata": {},
   "outputs": [],
   "source": [
    "#sample labels\n",
    "sample_labels=df200.spt_range.replace('', 0.0).values"
   ]
  },
  {
   "cell_type": "code",
   "execution_count": 146,
   "metadata": {},
   "outputs": [],
   "source": [
    "sample_predicted=rf.predict(good_ones)"
   ]
  },
  {
   "cell_type": "code",
   "execution_count": 147,
   "metadata": {},
   "outputs": [
    {
     "data": {
      "text/plain": [
       "(159, 159)"
      ]
     },
     "execution_count": 147,
     "metadata": {},
     "output_type": "execute_result"
    }
   ],
   "source": [
    "len(sample_predicted), len(sample_labels)"
   ]
  },
  {
   "cell_type": "code",
   "execution_count": 68,
   "metadata": {},
   "outputs": [],
   "source": [
    "#clas"
   ]
  },
  {
   "cell_type": "code",
   "execution_count": 148,
   "metadata": {},
   "outputs": [
    {
     "data": {
      "text/plain": [
       "<matplotlib.axes._subplots.AxesSubplot at 0x1c219a5940>"
      ]
     },
     "execution_count": 148,
     "metadata": {},
     "output_type": "execute_result"
    },
    {
     "data": {
      "image/png": "[encoded data removed]",
      "text/plain": [
       "<Figure size 432x288 with 2 Axes>"
      ]
     },
     "metadata": {
      "needs_background": "light"
     },
     "output_type": "display_data"
    }
   ],
   "source": [
    "nclasses=['unknown', 'M7-L0', 'L0-L5', 'L5-T0','T0-T5','T5-T9']\n",
    "cm = pd.DataFrame(confusion_matrix(sample_labels,sample_predicted), \n",
    "                  columns=nclasses, index=nclasses)\n",
    "sns.heatmap(cm, annot=True, cmap=wisps.MYCOLORMAP)"
   ]
  },
  {
   "cell_type": "code",
   "execution_count": 151,
   "metadata": {},
   "outputs": [],
   "source": [
    "cols=['grism_id', 'CH_4/H-Cont', 'CH_4/H_2O-1', 'CH_4/H_2O-2', 'CH_4/J-Cont',\n",
    "       'H-cont/H_2O-1', 'H-cont/H_2O-2', 'H-cont/J-Cont', 'H_2O-1/J-Cont',\n",
    "       'H_2O-2/H_2O-1', 'H_2O-2/J-Cont',  'Snr', 'Chis']"
   ]
  },
  {
   "cell_type": "markdown",
   "metadata": {},
   "source": [
    "use it to predict new stuff  let's see if we can find new t-dwarfs"
   ]
  },
  {
   "cell_type": "code",
   "execution_count": 153,
   "metadata": {},
   "outputs": [],
   "source": [
    "#clean up the data nicely\n",
    "conts=conts.rename(columns={'cdf_snr': 'Snr'})\n",
    "#conts.Spts=\n",
    "conts_to_use=conts[cols].replace(np.inf, np.nan).dropna(how='any')"
   ]
  },
  {
   "cell_type": "code",
   "execution_count": 154,
   "metadata": {},
   "outputs": [],
   "source": [
    "#\n",
    "new_training=pd.concat([spdf, conts_to_use[:1000]]).drop(['spt_range', 'grism_id'], axis=1)"
   ]
  },
  {
   "cell_type": "code",
   "execution_count": 155,
   "metadata": {},
   "outputs": [],
   "source": [
    "#label the training set \n",
    "ntrain=wisps.Annotator.group_by_spt(new_training, assign_from_one=True).drop('data_type', axis=1).replace('', 0.0).drop('Spts', axis=1)\n",
    "ntrain=ntrain.dropna(how='any')"
   ]
  },
  {
   "cell_type": "code",
   "execution_count": 156,
   "metadata": {},
   "outputs": [],
   "source": [
    "ntrain_data=ntrain.drop('spt_range', axis=1).values\n",
    "ntrain_labels=ntrain.spt_range.values"
   ]
  },
  {
   "cell_type": "code",
   "execution_count": 157,
   "metadata": {},
   "outputs": [],
   "source": [
    "#ntrain_data\n",
    "from sklearn import preprocessing"
   ]
  },
  {
   "cell_type": "code",
   "execution_count": 158,
   "metadata": {},
   "outputs": [
    {
     "name": "stderr",
     "output_type": "stream",
     "text": [
      "/anaconda3/lib/python3.6/site-packages/sklearn/preprocessing/data.py:176: UserWarning: Numerical issues were encountered when centering the data and might not be solved. Dataset may contain too large values. You may need to prescale your features.\n",
      "  warnings.warn(\"Numerical issues were encountered \"\n"
     ]
    },
    {
     "data": {
      "text/plain": [
       "RandomForestClassifier(bootstrap=True, class_weight=None, criterion='gini',\n",
       "            max_depth=None, max_features='auto', max_leaf_nodes=None,\n",
       "            min_impurity_decrease=0.0, min_impurity_split=None,\n",
       "            min_samples_leaf=1, min_samples_split=2,\n",
       "            min_weight_fraction_leaf=0.0, n_estimators=1000, n_jobs=None,\n",
       "            oob_score=True, random_state=123456, verbose=0,\n",
       "            warm_start=False)"
      ]
     },
     "execution_count": 158,
     "metadata": {},
     "output_type": "execute_result"
    }
   ],
   "source": [
    "#conts_to_use[conts_to_use==np.inf].dropna(how='any')\n",
    "#create new training set \n",
    "rf = RandomForestClassifier(n_estimators=1000, oob_score=True, random_state=123456)\n",
    "rf.fit(preprocessing.scale(ntrain_data), ntrain_labels)"
   ]
  },
  {
   "cell_type": "code",
   "execution_count": 159,
   "metadata": {},
   "outputs": [
    {
     "name": "stderr",
     "output_type": "stream",
     "text": [
      "/anaconda3/lib/python3.6/site-packages/sklearn/preprocessing/data.py:176: UserWarning: Numerical issues were encountered when centering the data and might not be solved. Dataset may contain too large values. You may need to prescale your features.\n",
      "  warnings.warn(\"Numerical issues were encountered \"\n"
     ]
    },
    {
     "data": {
      "text/plain": [
       "<matplotlib.axes._subplots.AxesSubplot at 0x1c215c7dd8>"
      ]
     },
     "execution_count": 159,
     "metadata": {},
     "output_type": "execute_result"
    },
    {
     "data": {
      "image/png": "[encoded data removed]",
      "text/plain": [
       "<Figure size 432x288 with 2 Axes>"
      ]
     },
     "metadata": {
      "needs_background": "light"
     },
     "output_type": "display_data"
    }
   ],
   "source": [
    "spex_predicted = rf.predict(preprocessing.scale(ntrain_data))\n",
    "model_accuracy = accuracy_score(ntrain_labels, spex_predicted)\n",
    "    #y_test, predicted\n",
    "classes=['unknown', 'M7-L0', 'L0-L5', 'L5-T0','T0-T5','T5-T9']\n",
    "cm = pd.DataFrame(confusion_matrix(ntrain_labels, spex_predicted), \n",
    "                  columns=classes, index=classes)\n",
    "sns.heatmap(cm, annot=True, cmap=wisps.MYCOLORMAP)"
   ]
  },
  {
   "cell_type": "code",
   "execution_count": 161,
   "metadata": {},
   "outputs": [
    {
     "name": "stderr",
     "output_type": "stream",
     "text": [
      "/anaconda3/lib/python3.6/site-packages/sklearn/preprocessing/data.py:176: UserWarning: Numerical issues were encountered when centering the data and might not be solved. Dataset may contain too large values. You may need to prescale your features.\n",
      "  warnings.warn(\"Numerical issues were encountered \"\n"
     ]
    }
   ],
   "source": [
    "pred_new_labels=rf.predict(preprocessing.scale(conts_to_use.drop('grism_id', axis=1).values))"
   ]
  },
  {
   "cell_type": "code",
   "execution_count": 162,
   "metadata": {},
   "outputs": [
    {
     "data": {
      "text/plain": [
       "<matplotlib.axes._subplots.AxesSubplot at 0x1c21a5b4e0>"
      ]
     },
     "execution_count": 162,
     "metadata": {},
     "output_type": "execute_result"
    },
    {
     "data": {
      "image/png": "[encoded data removed]",
      "text/plain": [
       "<Figure size 432x288 with 1 Axes>"
      ]
     },
     "metadata": {
      "needs_background": "light"
     },
     "output_type": "display_data"
    }
   ],
   "source": [
    "sns.distplot(pred_new_labels)"
   ]
  },
  {
   "cell_type": "code",
   "execution_count": 163,
   "metadata": {},
   "outputs": [
    {
     "data": {
      "text/plain": [
       "array([    0,     3,    11, ..., 42366, 42368, 42381])"
      ]
     },
     "execution_count": 163,
     "metadata": {},
     "output_type": "execute_result"
    }
   ],
   "source": [
    "index=np.arange(0, len(pred_new_labels))\n",
    "#pred_new_labels==3.\n",
    "np.where(pred_new_labels>0.0)[0]"
   ]
  },
  {
   "cell_type": "code",
   "execution_count": 180,
   "metadata": {},
   "outputs": [],
   "source": [
    "selectd=conts_to_use.iloc[np.where(pred_new_labels==3.0)[0]]"
   ]
  },
  {
   "cell_type": "code",
   "execution_count": 182,
   "metadata": {},
   "outputs": [],
   "source": [
    "selectd=selectd[selectd.Snr>10]"
   ]
  },
  {
   "cell_type": "code",
   "execution_count": 169,
   "metadata": {},
   "outputs": [],
   "source": [
    "def plot(name):\n",
    "    sp=wisps.Source(name=name, save=True, filename=)\n",
    "    sp.plot()"
   ]
  },
  {
   "cell_type": "code",
   "execution_count": null,
   "metadata": {},
   "outputs": [],
   "source": []
  },
  {
   "cell_type": "code",
   "execution_count": null,
   "metadata": {},
   "outputs": [],
   "source": []
  }
 ],
 "metadata": {
  "kernelspec": {
   "display_name": "Python 3",
   "language": "python",
   "name": "python3"
  },
  "language_info": {
   "codemirror_mode": {
    "name": "ipython",
    "version": 3
   },
   "file_extension": ".py",
   "mimetype": "text/x-python",
   "name": "python",
   "nbconvert_exporter": "python",
   "pygments_lexer": "ipython3",
   "version": "3.6.6"
  }
 },
 "nbformat": 4,
 "nbformat_minor": 2
}
