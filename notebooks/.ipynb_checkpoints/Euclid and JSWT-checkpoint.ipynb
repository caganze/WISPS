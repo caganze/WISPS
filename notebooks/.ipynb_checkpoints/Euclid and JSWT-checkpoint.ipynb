{
 "cells": [
  {
   "cell_type": "code",
   "execution_count": 1,
   "metadata": {},
   "outputs": [],
   "source": [
    "import numpy as np\n",
    "import splat\n",
    "import wisps\n",
    "import pandas as pd\n",
    "import matplotlib.pyplot as plt\n",
    "%matplotlib inline"
   ]
  },
  {
   "cell_type": "code",
   "execution_count": 2,
   "metadata": {},
   "outputs": [],
   "source": [
    "import wisps.simulations as wispsim"
   ]
  },
  {
   "cell_type": "code",
   "execution_count": 3,
   "metadata": {},
   "outputs": [],
   "source": [
    "from astropy.coordinates import SkyCoord"
   ]
  },
  {
   "cell_type": "code",
   "execution_count": 4,
   "metadata": {},
   "outputs": [],
   "source": [
    "J1_NIPS=24 #limiting mag in NISP\n",
    "J2_NIPS=27 #best case scenario"
   ]
  },
  {
   "cell_type": "code",
   "execution_count": 5,
   "metadata": {},
   "outputs": [],
   "source": [
    "def get_abs_mag(spt):\n",
    "    #magnitude from spt and relation\n",
    "    j, h=wisps.absolute_magnitude_jh(spt)\n",
    "    return j"
   ]
  },
  {
   "cell_type": "code",
   "execution_count": 6,
   "metadata": {},
   "outputs": [],
   "source": [
    "spgrid=wispsim.SPGRID"
   ]
  },
  {
   "cell_type": "code",
   "execution_count": 7,
   "metadata": {},
   "outputs": [],
   "source": [
    "abs_mags=np.array([get_abs_mag(s ) for s in spgrid])"
   ]
  },
  {
   "cell_type": "code",
   "execution_count": 8,
   "metadata": {},
   "outputs": [],
   "source": [
    "dmaxs1=wisps.get_distance(abs_mags, np.ones_like(abs_mags)*J1_NIPS)\n",
    "dmaxs2=wisps.get_distance(abs_mags, np.ones_like(abs_mags)*J2_NIPS)"
   ]
  },
  {
   "cell_type": "code",
   "execution_count": 9,
   "metadata": {},
   "outputs": [],
   "source": [
    "import astropy.units as u"
   ]
  },
  {
   "cell_type": "code",
   "execution_count": 10,
   "metadata": {},
   "outputs": [],
   "source": [
    "EDFS=SkyCoord(l=24.6*u.deg, b=-82.0*u.deg , frame='galactic').galactic\n",
    "EDF_CH=SkyCoord(\"3:32:28.0 -27:48:30\" , obstime=\"J2000\", unit=u.deg).galactic"
   ]
  },
  {
   "cell_type": "code",
   "execution_count": 11,
   "metadata": {},
   "outputs": [],
   "source": [
    "#compute volume correction terms \n",
    "EDFS_vcs1=np.array([ wispsim.custom_volume(EDFS.l.radian,EDFS.b.radian, 1., dm, 300.) for dm in dmaxs1])\n",
    "EDF_CH_vcs1=np.array([ wispsim.custom_volume(EDF_CH.l.radian, EDFS.b.radian,1, dm, 300.) for dm in dmaxs1])\n",
    "\n",
    "EDFS_vcs2=np.array([ wispsim.custom_volume(EDFS.l.radian,EDFS.b.radian, 1., dm, 300.) for dm in dmaxs2])\n",
    "EDF_CH_vcs2=np.array([ wispsim.custom_volume(EDF_CH.l.radian, EDFS.b.radian,1, dm,  300.) for dm in dmaxs2])"
   ]
  },
  {
   "cell_type": "code",
   "execution_count": 12,
   "metadata": {},
   "outputs": [],
   "source": [
    "EDFS_CH_vols1=EDF_CH_vcs1*(20*(u.deg**2)).to(u.radian**2)\n",
    "EDF_vols1=EDFS_vcs1*(10*(u.deg**2)).to(u.radian**2)\n",
    "\n",
    "EDFS_CH_vols2=EDF_CH_vcs2*(20*(u.deg**2)).to(u.radian**2)\n",
    "EDF_vols2=EDFS_vcs2*(10*(u.deg**2)).to(u.radian**2)"
   ]
  },
  {
   "cell_type": "code",
   "execution_count": 13,
   "metadata": {},
   "outputs": [
    {
     "data": {
      "text/plain": [
       "array([17, 18, 19, 20, 21, 22, 23, 24, 25, 26, 27, 28, 29, 30, 31, 32, 33,\n",
       "       34, 35, 36, 37, 38, 39, 40, 41])"
      ]
     },
     "execution_count": 13,
     "metadata": {},
     "output_type": "execute_result"
    }
   ],
   "source": [
    "np.round(spgrid).astype(int)"
   ]
  },
  {
   "cell_type": "code",
   "execution_count": 14,
   "metadata": {},
   "outputs": [],
   "source": [
    "#the empirical luminosity function\n",
    "import wisps.simulations.euclid as eucl"
   ]
  },
  {
   "cell_type": "code",
   "execution_count": null,
   "metadata": {},
   "outputs": [],
   "source": [
    "def get_numbers( model, h=300, field='fornax'):\n",
    "    ds=eucl.expected_numbers(model, field=field, h=h)\n",
    "    simdf=pd.DataFrame.from_records(ds)\n",
    "    cutdf=(simdf[simdf.j.between(0, 27)]).reset_index(drop=True)\n",
    "    \n",
    "    NORM = 0.63*(10**-3)/ len(cutdf.teff[np.logical_and(cutdf.teff>=1650, cutdf.teff <=1800)])\n",
    "    \n",
    "    NSIM=dict(zip(wispsim.SPGRID,np.zeros(len(wispsim.SPGRID))))\n",
    "    #rounded spectral type\n",
    "    cutdf['spt_r']=cutdf.spt.apply(np.round)\n",
    "    for g in cutdf.groupby('spt_r'):\n",
    "        NSIM[g[0]]=np.nansum((g[1]).prob*NORM)\n",
    "    return NSIM"
   ]
  },
  {
   "cell_type": "code",
   "execution_count": null,
   "metadata": {},
   "outputs": [],
   "source": [
    "%%capture\n",
    "n_south_brf=get_numbers('baraffe2003', h=300, field='south')\n",
    "n_south_marl=get_numbers('marley2019', h=300, field='south')\n",
    "n_south_phil=get_numbers('phillips2020', h=300, field='south')\n",
    "n_south_saum=get_numbers('saumon2008', h=300, field='south')"
   ]
  },
  {
   "cell_type": "code",
   "execution_count": null,
   "metadata": {},
   "outputs": [],
   "source": [
    "%%capture\n",
    "n_forn_brf=get_numbers('baraffe2003', h=300, field='fornax')\n",
    "n_forn_marl=get_numbers('marley2019', h=300, field='fornax')\n",
    "n_forn_phil=get_numbers('phillips2020', h=300, field='fornax')\n",
    "n_forn_saum=get_numbers('saumon2008', h=300, field='fornax')"
   ]
  },
  {
   "cell_type": "code",
   "execution_count": null,
   "metadata": {},
   "outputs": [],
   "source": [
    "import seaborn as sns\n",
    "sns.set_palette('Set2')"
   ]
  },
  {
   "cell_type": "code",
   "execution_count": null,
   "metadata": {},
   "outputs": [],
   "source": [
    "fig, (ax, ax1)=plt.subplots(ncols=2, figsize=(10, 4), sharey=False, sharex=True)\n",
    "\n",
    "\n",
    "ax.step(spgrid, np.array([n_south_brf[k] for k in wispsim.SPGRID])*EDFS_CH_vols2)\n",
    "ax.step(spgrid, np.array([n_south_marl[k] for k in wispsim.SPGRID])*EDFS_CH_vols2)\n",
    "ax.step(spgrid, np.array([n_south_phil[k] for k in wispsim.SPGRID])*EDFS_CH_vols2)\n",
    "ax.step(spgrid, np.array([n_south_saum[k] for k in wispsim.SPGRID])*EDFS_CH_vols2)\n",
    "\n",
    "ax1.step(spgrid, np.array([n_forn_brf[k] for k in wispsim.SPGRID])*EDFS_CH_vols2)\n",
    "ax1.step(spgrid, np.array([n_forn_marl[k] for k in wispsim.SPGRID])*EDFS_CH_vols2)\n",
    "ax1.step(spgrid, np.array([n_forn_phil[k] for k in wispsim.SPGRID])*EDFS_CH_vols2)\n",
    "ax1.step(spgrid, np.array([n_forn_saum[k] for k in wispsim.SPGRID])*EDFS_CH_vols2)\n",
    "\n",
    "ax.set_title(r'Euclid South', fontsize=18)\n",
    "ax1.set_title(r'Euclid Fornax', fontsize=18)\n",
    "\n",
    "for a in [ax, ax1]:\n",
    "    a.minorticks_on()\n",
    "    a.set_xlabel('SpT', fontsize=18)\n",
    "    a.legend()\n",
    "    #a.set_yscale('log')\n",
    "    a.set_ylabel(r'N', fontsize=18)\n",
    "    a.set_xticks([15, 20, 25, 30, 35, 40])\n",
    "    a.set_xticklabels(['M5', 'L0', 'L5', 'T0', 'T5', 'Y0'])\n",
    "\n",
    "\n",
    "\n",
    "\n",
    "plt.tight_layout()\n",
    "\n",
    "plt.savefig(wisps.OUTPUT_FIGURES+'/euclid_predictions.pdf')"
   ]
  },
  {
   "cell_type": "code",
   "execution_count": null,
   "metadata": {},
   "outputs": [],
   "source": []
  }
 ],
 "metadata": {
  "kernelspec": {
   "display_name": "Python 3",
   "language": "python",
   "name": "python3"
  },
  "language_info": {
   "codemirror_mode": {
    "name": "ipython",
    "version": 3
   },
   "file_extension": ".py",
   "mimetype": "text/x-python",
   "name": "python",
   "nbconvert_exporter": "python",
   "pygments_lexer": "ipython3",
   "version": "3.7.6"
  }
 },
 "nbformat": 4,
 "nbformat_minor": 4
}
