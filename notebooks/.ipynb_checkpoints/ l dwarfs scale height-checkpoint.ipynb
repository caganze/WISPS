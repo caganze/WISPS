{
 "cells": [
  {
   "cell_type": "code",
   "execution_count": 26,
   "metadata": {},
   "outputs": [],
   "source": [
    "import wisps\n",
    "import splat\n",
    "import wisps.simulations as wispsim\n",
    "import matplotlib.pyplot as plt\n",
    "import pandas as pd\n",
    "import astropy.units as u\n",
    "from astropy.coordinates import SkyCoord\n",
    "from tqdm import tqdm\n",
    "import numpy as np\n",
    "import numba\n",
    "\n",
    "%matplotlib inline"
   ]
  },
  {
   "cell_type": "code",
   "execution_count": 22,
   "metadata": {},
   "outputs": [],
   "source": [
    "lf=wisps.LUMINOSITY_FUCTION\n",
    "lfdes=wisps.DES_LUMINOSITY_FUCTION\n",
    "maglimits=wisps.MAG_LIMITS"
   ]
  },
  {
   "cell_type": "code",
   "execution_count": 23,
   "metadata": {},
   "outputs": [],
   "source": [
    "obs=pd.read_csv(wisps.OUTPUT_FILES+'//observation_log_with_limit.csv')"
   ]
  },
  {
   "cell_type": "code",
   "execution_count": 24,
   "metadata": {},
   "outputs": [],
   "source": [
    "ras=obs['ra (deg)']\n",
    "decs=obs['dec(deg)']"
   ]
  },
  {
   "cell_type": "code",
   "execution_count": 27,
   "metadata": {},
   "outputs": [],
   "source": [
    "\n",
    "@numba.jit\n",
    "def convert_to_rz(ra, dec, dist):\n",
    "    \"\"\"\n",
    "    returns r and z given a distance\n",
    "    \"\"\"\n",
    "    newcoord=SkyCoord(ra=ra, dec=dec, distance=dist*u.pc)\n",
    "    r=(newcoord.cartesian.x**2+newcoord.cartesian.y**2)**0.5\n",
    "    z=newcoord.cartesian.z\n",
    "    return r.to(u.pc).value, z.to(u.pc).value\n",
    "\n",
    "\n",
    "@numba.vectorize\n",
    "def l_dwarf_density_function(r, z):\n",
    "    \n",
    "    \"\"\"\n",
    "    A l dwarfs density function beacsue numba doesn't allow vectorization with kwargs\n",
    "    \"\"\"\n",
    "    ##constants\n",
    "    r0 = 8000 # radial offset from galactic center to Sun\n",
    "    z0 = 25.  # vertical offset from galactic plane to Sun\n",
    "    l1 = 2600. # radial length scale of exponential thin disk \n",
    "    h1 = 200.# vertical length scale of exponential thin disk \n",
    "    ftd = 0.12 # relative number of thick disk to thin disk star counts\n",
    "    l2 = 3600. # radial length scale of exponential thin disk \n",
    "    h2 = 900. # vertical length scale of exponential thin disk \n",
    "    fh = 0.0051 # relative number of halo to thin disk star counts\n",
    "    qh = 0.64 # halo axial ratio\n",
    "    nh = 2.77 # halo power law index\n",
    "    \n",
    "    dens0=1.0\n",
    "    \n",
    "    thindens=dens0*np.exp(-abs(r-r0)/l1)*np.exp(-abs(z-z0)/h1)\n",
    "    thickdens=dens0*np.exp(-abs(r-r0)/l2)*np.exp(-abs(z-z0)/h2)\n",
    "    halodens= dens0*(((r0/(r**2+(z/qh)**2)**0.5))**nh)\n",
    "    \n",
    "    return thindens+ftd*thickdens+fh*halodens"
   ]
  },
  {
   "cell_type": "code",
   "execution_count": null,
   "metadata": {},
   "outputs": [],
   "source": []
  }
 ],
 "metadata": {
  "kernelspec": {
   "display_name": "Python 3",
   "language": "python",
   "name": "python3"
  },
  "language_info": {
   "codemirror_mode": {
    "name": "ipython",
    "version": 3
   },
   "file_extension": ".py",
   "mimetype": "text/x-python",
   "name": "python",
   "nbconvert_exporter": "python",
   "pygments_lexer": "ipython3",
   "version": "3.7.3"
  }
 },
 "nbformat": 4,
 "nbformat_minor": 2
}
