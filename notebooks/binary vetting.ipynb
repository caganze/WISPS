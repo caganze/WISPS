{
 "cells": [
  {
   "cell_type": "code",
   "execution_count": 1,
   "metadata": {},
   "outputs": [],
   "source": [
    "import wisps\n",
    "import pandas as pd\n",
    "import splat\n",
    "import numpy as np\n",
    "import matplotlib.pyplot as plt\n",
    "%matplotlib inline"
   ]
  },
  {
   "cell_type": "code",
   "execution_count": 7,
   "metadata": {},
   "outputs": [],
   "source": [
    "def proper_classification(sp):\n",
    "    \"\"\"\n",
    "    Uses splat.classifyByStandard to classify spectra using spex standards\n",
    "    \"\"\" \n",
    "    val=wisps.classify(sp, stripunits=True)\n",
    "    return val\n",
    "\n",
    "def combine_two_spectra(sp10, sp20):\n",
    "    \"\"\"\n",
    "    sp1 and sp2 are splat objects\n",
    "    \"\"\"\n",
    "    sp1=sp10.splat_spectrum\n",
    "    sp2=sp20.splat_spectrum\n",
    "    \n",
    "    sp1.fluxCalibrate('2MASS J',  wisps.absolute_magnitude_jh(wisps.make_spt_number(sp10.spectral_type))[0])\n",
    "    sp2.fluxCalibrate('2MASS J',  wisps.absolute_magnitude_jh(wisps.make_spt_number(sp20.spectral_type))[0])\n",
    "    \n",
    "    sp3=sp1+sp2\n",
    "    types={}\n",
    "    types={'primary': [sp10.spectral_type, sp20.spectral_type], \n",
    "           'system': proper_classification(sp3),\n",
    "           'spectrum': sp3}\n",
    "    return types"
   ]
  },
  {
   "cell_type": "code",
   "execution_count": 49,
   "metadata": {},
   "outputs": [
    {
     "name": "stdout",
     "output_type": "stream",
     "text": [
      "\n",
      "Retrieving 1 lucky file\n",
      "\n"
     ]
    }
   ],
   "source": [
    "sp=splat.getSpectrum(lucky=True)[0]"
   ]
  },
  {
   "cell_type": "code",
   "execution_count": 51,
   "metadata": {},
   "outputs": [
    {
     "data": {
      "text/plain": [
       "(0.0, 1.5)"
      ]
     },
     "execution_count": 51,
     "metadata": {},
     "output_type": "execute_result"
    },
    {
     "data": {
      "image/png": "[encoded data removed]",
      "text/plain": [
       "<Figure size 432x288 with 1 Axes>"
      ]
     },
     "metadata": {
      "needs_background": "light"
     },
     "output_type": "display_data"
    }
   ],
   "source": [
    "fig, ax=plt.subplots()\n",
    "\n",
    "sp.toInstrument('WFC3')\n",
    "ax.step(sp.wave, sp.flux)\n",
    "sp.reset()\n",
    "ax.step(sp.wave.value, sp.flux.value+0.4)\n",
    "ax.set_xlim([1.0, 1.7])\n",
    "ax.set_ylim([0.0, 1.5])"
   ]
  },
  {
   "cell_type": "code",
   "execution_count": 27,
   "metadata": {},
   "outputs": [
    {
     "data": {
      "text/plain": [
       "{'instrument_name': 'HST WFC3 IR G141',\n",
       " 'pixelscale': <Quantity 0.128 arcsec>,\n",
       " 'wave_range': <Quantity [1.075, 1.7  ] micron>,\n",
       " 'slitwidth': <Quantity 0.3 arcsec>,\n",
       " 'resolution': 130.0,\n",
       " 'norders': 7,\n",
       " 'readnoise': 0.0,\n",
       " 'darkcurrent': 0.0,\n",
       " 'gain': 1.0,\n",
       " 'altname': ['WFC3', 'HST WFC3', 'HST WFC3 IR', 'WFC3 IR', 'G141'],\n",
       " 'wunit': Unit(\"micron\"),\n",
       " 'funit': Unit(\"erg / (cm2 micron s)\")}"
      ]
     },
     "execution_count": 27,
     "metadata": {},
     "output_type": "execute_result"
    }
   ],
   "source": [
    "splat.INSTRUMENTS['WFC3-G141']"
   ]
  },
  {
   "cell_type": "code",
   "execution_count": null,
   "metadata": {},
   "outputs": [],
   "source": []
  }
 ],
 "metadata": {
  "kernelspec": {
   "display_name": "Python 3",
   "language": "python",
   "name": "python3"
  },
  "language_info": {
   "codemirror_mode": {
    "name": "ipython",
    "version": 3
   },
   "file_extension": ".py",
   "mimetype": "text/x-python",
   "name": "python",
   "nbconvert_exporter": "python",
   "pygments_lexer": "ipython3",
   "version": "3.7.6"
  }
 },
 "nbformat": 4,
 "nbformat_minor": 4
}
