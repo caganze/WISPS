{
 "cells": [
  {
   "cell_type": "code",
   "execution_count": 1,
   "metadata": {},
   "outputs": [],
   "source": [
    "import wisps\n",
    "import splat\n",
    "import wisps.simulations as wispsim\n",
    "import matplotlib.pyplot as plt\n",
    "import pandas as pd\n",
    "import astropy.units as u\n",
    "from astropy.coordinates import SkyCoord\n",
    "from tqdm import tqdm\n",
    "import numpy as np\n",
    "from scipy.interpolate import interp1d\n",
    "\n",
    "%matplotlib inline"
   ]
  },
  {
   "cell_type": "code",
   "execution_count": 2,
   "metadata": {},
   "outputs": [],
   "source": [
    "lf=wispsim.LUMINOSITY_FUCTION\n",
    "lfdes=wispsim.DES_LUMINOSITY_FUCTION\n",
    "maglimits=wispsim.MAG_LIMITS\n",
    "pnts=wispsim.OBSERVED_POINTINGS\n",
    "candidates=wisps.datasets['candidates']"
   ]
  },
  {
   "cell_type": "code",
   "execution_count": 3,
   "metadata": {},
   "outputs": [],
   "source": [
    "spgrid=np.arange(20., 37.)"
   ]
  },
  {
   "cell_type": "code",
   "execution_count": 4,
   "metadata": {},
   "outputs": [],
   "source": [
    "#spgrid"
   ]
  },
  {
   "cell_type": "code",
   "execution_count": 5,
   "metadata": {},
   "outputs": [],
   "source": [
    "vols=[]\n",
    "for spt in spgrid:\n",
    "    vm=[]\n",
    "    for pntg in pnts:\n",
    "        vm.append(pntg.volume[spt])\n",
    "    vols.append(vm)"
   ]
  },
  {
   "cell_type": "code",
   "execution_count": 6,
   "metadata": {},
   "outputs": [],
   "source": [
    "vols=np.array(vols)"
   ]
  },
  {
   "cell_type": "code",
   "execution_count": 7,
   "metadata": {},
   "outputs": [],
   "source": [
    "#wispsim.SOLID_ANGLE"
   ]
  },
  {
   "cell_type": "code",
   "execution_count": 8,
   "metadata": {},
   "outputs": [],
   "source": [
    "volumes=np.nansum(vols, axis=1)*wispsim.SOLID_ANGLE"
   ]
  },
  {
   "cell_type": "code",
   "execution_count": 9,
   "metadata": {},
   "outputs": [],
   "source": [
    "other_lfs=wispsim.simulate_spts()"
   ]
  },
  {
   "cell_type": "code",
   "execution_count": 10,
   "metadata": {},
   "outputs": [],
   "source": [
    "def drop_nan(x):\n",
    "    x=np.array(x)\n",
    "    return x[(~np.isnan(x)) & (~np.isinf(x)) ]"
   ]
  },
  {
   "cell_type": "code",
   "execution_count": 11,
   "metadata": {},
   "outputs": [],
   "source": [
    "#"
   ]
  },
  {
   "cell_type": "code",
   "execution_count": 12,
   "metadata": {},
   "outputs": [],
   "source": [
    "def interpolated_lf(spts, lumin):\n",
    "    f = interp1d(spts, lumin)\n",
    "    return f(spgrid)"
   ]
  },
  {
   "cell_type": "code",
   "execution_count": 13,
   "metadata": {},
   "outputs": [],
   "source": [
    "interlf=interpolated_lf(lf.spts.values, lf.lsfim.values)\n",
    "interdeslf=interpolated_lf(lfdes.spts.values, lfdes.lf.values)"
   ]
  },
  {
   "cell_type": "code",
   "execution_count": 14,
   "metadata": {},
   "outputs": [],
   "source": [
    "def pick_only_candidates_in_limits(row):\n",
    "    bool1=None\n",
    "    spt=splat.typeToNum(row.spt)\n",
    "    #print ((row.F110[0]))\n",
    "    f160=float(row.F160W)\n",
    "    f140=float(row.F140W)\n",
    "    \n",
    "    bool2=True\n",
    "    #check the spt range\n",
    "    bool1=np.logical_and(spt>=spgrid[0], spt<=spgrid[-1])\n",
    "    #pick things in mag range\n",
    "    #if row.grism_id.lower().startswith('par'): \n",
    "    #    maglmts= maglimits['wisps']['F160W']\n",
    "    #    bool2=np.logical_and(f160>=maglmts[0], f160<=maglmts[0])\n",
    "    #    if np.isnan(f160): bool2=True \n",
    "    #if not row.grism_id.lower().startswith('par'): \n",
    "    #    maglmts= maglimits['hst3d']['F140W']\n",
    "    #    bool2=np.logical_and(f140>=maglmts[0], f140<=maglmts[0])\n",
    "    #    if np.isnan(f140): bool2=True \n",
    "    return (bool1 and bool2)"
   ]
  },
  {
   "cell_type": "code",
   "execution_count": 15,
   "metadata": {},
   "outputs": [],
   "source": [
    "#candidates.apply(pick_only_candidates_in_limits, axis=1)"
   ]
  },
  {
   "cell_type": "code",
   "execution_count": 16,
   "metadata": {},
   "outputs": [],
   "source": [
    "cands=candidates[candidates.apply(pick_only_candidates_in_limits, axis=1) ]"
   ]
  },
  {
   "cell_type": "code",
   "execution_count": 17,
   "metadata": {},
   "outputs": [],
   "source": [
    "nobs=np.histogram(cands.spt.apply(splat.typeToNum), bins=len(spgrid))[0]"
   ]
  },
  {
   "cell_type": "code",
   "execution_count": 18,
   "metadata": {},
   "outputs": [],
   "source": [
    "nobs=np.array([float(x) for x in nobs])"
   ]
  },
  {
   "cell_type": "code",
   "execution_count": 19,
   "metadata": {},
   "outputs": [],
   "source": [
    "#bin in orders of 5 spts\n",
    "def bin_by_spt_bin(sp_types, number):\n",
    "    ranges=[[20, 25], [25, 30], [30, 35], [35, 40]]\n",
    "    numbers=[]\n",
    "    for r in ranges:\n",
    "        idx= np.logical_and((r[0]<=sp_types), (r[1]>sp_types))\n",
    "        numbers.append(np.nansum(number[idx]))\n",
    "    return numbers"
   ]
  },
  {
   "cell_type": "code",
   "execution_count": 20,
   "metadata": {},
   "outputs": [],
   "source": [
    "nobs[nobs==0.0]=np.nan"
   ]
  },
  {
   "cell_type": "code",
   "execution_count": 21,
   "metadata": {},
   "outputs": [],
   "source": [
    "n2=np.array(bin_by_spt_bin(spgrid,nobs ))"
   ]
  },
  {
   "cell_type": "code",
   "execution_count": 22,
   "metadata": {},
   "outputs": [],
   "source": [
    "n2[n2==0.0]=np.nan"
   ]
  },
  {
   "cell_type": "code",
   "execution_count": 23,
   "metadata": {},
   "outputs": [],
   "source": [
    "spgrid2=[ 'L0-L5', 'L5-T0', 'T0-T5', 'T5-Y0']"
   ]
  },
  {
   "cell_type": "code",
   "execution_count": 28,
   "metadata": {},
   "outputs": [],
   "source": [
    "norm=other_lfs['norm']"
   ]
  },
  {
   "cell_type": "code",
   "execution_count": 31,
   "metadata": {},
   "outputs": [
    {
     "data": {
      "text/plain": [
       "[<matplotlib.lines.Line2D at 0x1c2e5c1d30>]"
      ]
     },
     "execution_count": 31,
     "metadata": {},
     "output_type": "execute_result"
    },
    {
     "data": {
      "image/png": "[encoded data removed]",
      "text/plain": [
       "<Figure size 640x320 with 2 Axes>"
      ]
     },
     "metadata": {},
     "output_type": "display_data"
    }
   ],
   "source": [
    "fig, (ax, ax1)=plt.subplots(ncols=2, figsize=(8, 4))\n",
    "\n",
    "ax.step(spgrid, interlf*volumes*norm ,label=r'$\\Phi$',  where='mid')\n",
    "ax.step(spgrid, interdeslf*volumes, label=r'DES $\\Phi$', where='mid')\n",
    "ax.errorbar(spgrid, nobs, color='#111111' ,  yerr=np.sqrt(nobs), label='observations',fmt='o')\n",
    "\n",
    "for idx in np.arange(10):\n",
    "    #print ((other_lfs['spts'][idx]).shape)\n",
    "    n0=drop_nan(other_lfs['spts'][idx][:,0])\n",
    "    #print (len(n0))\n",
    "    npred=np.histogram(n0, bins=len(spgrid))[0]*other_lfs['norm']*volumes\n",
    "    ax.step(spgrid,npred, where='mid')\n",
    "    ax1.step(spgrid2, bin_by_spt_bin(spgrid,npred),  where='mid',)\n",
    "    \n",
    "#ax1.set_yscale('log')\n",
    "#ax.set_yscale('log')\n",
    "ax1.errorbar(spgrid2, n2, color='#111111' ,  yerr=np.sqrt(n2), label='observations',fmt='o')\n",
    "ax1.step(spgrid2, bin_by_spt_bin(spgrid,interlf*volumes), label=r'$\\Phi$',  where='mid',)\n",
    "ax1.step(spgrid2, bin_by_spt_bin(spgrid,interdeslf*volumes), label=r'DES $\\Phi$', where='mid')\n",
    "\n",
    "#plt.legend()"
   ]
  },
  {
   "cell_type": "code",
   "execution_count": 25,
   "metadata": {},
   "outputs": [],
   "source": [
    "#(600*u.arcmin**2).to(u.deg**2)"
   ]
  },
  {
   "cell_type": "code",
   "execution_count": 27,
   "metadata": {},
   "outputs": [
    {
     "data": {
      "text/plain": [
       "8.334596150931958e-07"
      ]
     },
     "execution_count": 27,
     "metadata": {},
     "output_type": "execute_result"
    }
   ],
   "source": [
    "other_lfs['norm']"
   ]
  },
  {
   "cell_type": "code",
   "execution_count": null,
   "metadata": {},
   "outputs": [],
   "source": []
  }
 ],
 "metadata": {
  "kernelspec": {
   "display_name": "Python 3",
   "language": "python",
   "name": "python3"
  },
  "language_info": {
   "codemirror_mode": {
    "name": "ipython",
    "version": 3
   },
   "file_extension": ".py",
   "mimetype": "text/x-python",
   "name": "python",
   "nbconvert_exporter": "python",
   "pygments_lexer": "ipython3",
   "version": "3.7.3"
  }
 },
 "nbformat": 4,
 "nbformat_minor": 2
}
