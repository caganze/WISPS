{
 "cells": [
  {
   "cell_type": "code",
   "execution_count": 1,
   "metadata": {},
   "outputs": [
    {
     "name": "stdout",
     "output_type": "stream",
     "text": [
      "\n",
      "Warning: spectrum object has a flux vector of zero length - maybe empty?\n",
      "\n",
      "Warning: normalize is attempting to divide by nan; ignoring\n",
      "\n",
      "Warning: spectrum object has a flux vector of zero length - maybe empty?\n",
      "\n",
      "Warning: normalize is attempting to divide by nan; ignoring\n"
     ]
    }
   ],
   "source": [
    "import wisps\n",
    "import numpy as np \n",
    "import matplotlib.pyplot as plt\n",
    "import splat\n",
    "%matplotlib inline \n"
   ]
  },
  {
   "cell_type": "code",
   "execution_count": 2,
   "metadata": {},
   "outputs": [],
   "source": [
    "df=wisps.Annotator.reformat_table(wisps.datasets['stars'])"
   ]
  },
  {
   "cell_type": "code",
   "execution_count": 3,
   "metadata": {},
   "outputs": [],
   "source": [
    "df=df[(df.f_test  <0.4) & (df.snr1 >3.)]"
   ]
  },
  {
   "cell_type": "code",
   "execution_count": 4,
   "metadata": {},
   "outputs": [],
   "source": [
    "manj=wisps.Annotator.reformat_table(wisps.datasets['manjavacas']).reset_index(drop=True)\n",
    "schn=wisps.Annotator.reformat_table(wisps.datasets['schneider']).reset_index(drop=True)\n",
    "ydwarfs=(manj[manj['spt'].apply(wisps.make_spt_number)>38].append(schn)).reset_index(drop=True)"
   ]
  },
  {
   "cell_type": "code",
   "execution_count": 5,
   "metadata": {},
   "outputs": [
    {
     "data": {
      "text/plain": [
       "Index(['CH_4/H-Cont', 'CH_4/H_2O-1', 'CH_4/H_2O-2', 'CH_4/J-Cont',\n",
       "       'H-cont/H_2O-1', 'H-cont/H_2O-2', 'H-cont/J-Cont', 'H_2O-1/J-Cont',\n",
       "       'H_2O-2/H_2O-1', 'H_2O-2/J-Cont', 'cdf_snr', 'f_test', 'line_chi',\n",
       "       'grism_id', 'snr1', 'snr2', 'snr3', 'snr4', 'spex_chi', 'spt',\n",
       "       'star_flag', 'class_star', 'F110', 'F140', 'F160', 'RA', 'DEC',\n",
       "       'survey', 'x', 'pointing'],\n",
       "      dtype='object')"
      ]
     },
     "execution_count": 5,
     "metadata": {},
     "output_type": "execute_result"
    }
   ],
   "source": [
    "df.keys()"
   ]
  },
  {
   "cell_type": "code",
   "execution_count": 6,
   "metadata": {},
   "outputs": [],
   "source": [
    "df['H_2O-2+CH_4/J-cont']=df['CH_4/J-Cont']+df['H_2O-2/J-Cont']\n",
    "df['H_2O-1+CH_4/H-cont']=df['CH_4/H-Cont']+1./df['H-cont/H_2O-1']\n",
    "df['J-cont+H-cont']=df['H_2O-2+CH_4/J-cont']+df['H_2O-1+CH_4/H-cont']"
   ]
  },
  {
   "cell_type": "code",
   "execution_count": 7,
   "metadata": {},
   "outputs": [],
   "source": [
    "ydwarfs['H_2O-2+CH_4/J-cont']=ydwarfs['CH_4/J-Cont']+ydwarfs['H_2O-2/J-Cont']\n",
    "ydwarfs['H_2O-1+CH_4/H-cont']=ydwarfs['CH_4/H-Cont']+1./ydwarfs['H-cont/H_2O-1']\n",
    "ydwarfs['J-cont+H-cont']=ydwarfs['H_2O-2+CH_4/J-cont']+df['H_2O-1+CH_4/H-cont']"
   ]
  },
  {
   "cell_type": "code",
   "execution_count": 8,
   "metadata": {},
   "outputs": [],
   "source": [
    "from wispshapes import Box"
   ]
  },
  {
   "cell_type": "code",
   "execution_count": 9,
   "metadata": {},
   "outputs": [],
   "source": [
    "b=Box()"
   ]
  },
  {
   "cell_type": "code",
   "execution_count": 10,
   "metadata": {},
   "outputs": [],
   "source": [
    "tpls=ydwarfs"
   ]
  },
  {
   "cell_type": "code",
   "execution_count": 11,
   "metadata": {},
   "outputs": [],
   "source": [
    "xcol, ycol=('H_2O-2+CH_4/J-cont', 'H_2O-1+CH_4/H-cont')"
   ]
  },
  {
   "cell_type": "code",
   "execution_count": 12,
   "metadata": {},
   "outputs": [],
   "source": [
    "b.data=(ydwarfs[[xcol, ycol]]).reset_index(drop=True)"
   ]
  },
  {
   "cell_type": "code",
   "execution_count": 13,
   "metadata": {},
   "outputs": [
    {
     "data": {
      "text/plain": [
       "(-1.0, 1)"
      ]
     },
     "execution_count": 13,
     "metadata": {},
     "output_type": "execute_result"
    },
    {
     "data": {
      "image/png": "[encoded data removed]",
      "text/plain": [
       "<Figure size 432x288 with 1 Axes>"
      ]
     },
     "metadata": {
      "needs_background": "light"
     },
     "output_type": "display_data"
    }
   ],
   "source": [
    "fig, ax=plt.subplots()\n",
    "plt.scatter(df['H_2O-2+CH_4/J-cont'], df['H_2O-1+CH_4/H-cont'],s=1.,alpha=0.5)\n",
    "b.plot(ax=ax)\n",
    "plt.scatter(ydwarfs['H_2O-2+CH_4/J-cont'], ydwarfs['H_2O-1+CH_4/H-cont'],marker='+')\n",
    "plt.xlim([-1.,1])\n",
    "plt.ylim([-1.,1])"
   ]
  },
  {
   "cell_type": "code",
   "execution_count": 14,
   "metadata": {},
   "outputs": [],
   "source": [
    "df=df.reset_index(drop=True)"
   ]
  },
  {
   "cell_type": "code",
   "execution_count": 15,
   "metadata": {},
   "outputs": [],
   "source": [
    "dfsl=b.select((df[[xcol, ycol]]).reset_index(drop=True))"
   ]
  },
  {
   "cell_type": "code",
   "execution_count": 16,
   "metadata": {},
   "outputs": [],
   "source": [
    "def plot(grismid):\n",
    "    s=wisps.Source(name=grismid.replace('g141','G141'))\n",
    "    if wisps.make_spt_number(s.spectral_type) > 38:\n",
    "        s.plot()"
   ]
  },
  {
   "cell_type": "code",
   "execution_count": 17,
   "metadata": {},
   "outputs": [],
   "source": [
    "#(df.loc[dfsl.index]).grism_id.apply(plot)"
   ]
  },
  {
   "cell_type": "code",
   "execution_count": null,
   "metadata": {},
   "outputs": [],
   "source": []
  },
  {
   "cell_type": "code",
   "execution_count": null,
   "metadata": {},
   "outputs": [],
   "source": []
  },
  {
   "cell_type": "code",
   "execution_count": 18,
   "metadata": {},
   "outputs": [],
   "source": [
    "x=np.random.random(10)"
   ]
  },
  {
   "cell_type": "code",
   "execution_count": 20,
   "metadata": {},
   "outputs": [
    {
     "data": {
      "text/plain": [
       "array([0.12114599, 0.22979448, 0.27400175, 0.49138581])"
      ]
     },
     "execution_count": 20,
     "metadata": {},
     "output_type": "execute_result"
    }
   ],
   "source": [
    "x[x<0.5]"
   ]
  },
  {
   "cell_type": "code",
   "execution_count": null,
   "metadata": {},
   "outputs": [],
   "source": []
  }
 ],
 "metadata": {
  "kernelspec": {
   "display_name": "Python 3",
   "language": "python",
   "name": "python3"
  },
  "language_info": {
   "codemirror_mode": {
    "name": "ipython",
    "version": 3
   },
   "file_extension": ".py",
   "mimetype": "text/x-python",
   "name": "python",
   "nbconvert_exporter": "python",
   "pygments_lexer": "ipython3",
   "version": "3.7.3"
  }
 },
 "nbformat": 4,
 "nbformat_minor": 4
}
