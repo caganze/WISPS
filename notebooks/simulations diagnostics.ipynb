{
 "cells": [
  {
   "cell_type": "code",
   "execution_count": 1,
   "metadata": {},
   "outputs": [],
   "source": [
    "import numpy as np\n",
    "import wisps\n",
    "import wisps.simulations as wispsim\n",
    "import wisps.simulations.effective_numbers as eff\n",
    "import matplotlib.pyplot as plt\n",
    "from astropy.coordinates import SkyCoord\n",
    "import astropy.units as u\n",
    "from tqdm import tqdm \n",
    "import pandas as pd\n",
    "import matplotlib as mpl\n",
    "%matplotlib inline"
   ]
  },
  {
   "cell_type": "code",
   "execution_count": 2,
   "metadata": {},
   "outputs": [
    {
     "name": "stderr",
     "output_type": "stream",
     "text": [
      "535it [01:33,  5.75it/s]\n"
     ]
    }
   ],
   "source": [
    "wispsim.make_pointings()"
   ]
  },
  {
   "cell_type": "code",
   "execution_count": 3,
   "metadata": {},
   "outputs": [],
   "source": [
    "from wisps import drop_nan"
   ]
  },
  {
   "cell_type": "code",
   "execution_count": null,
   "metadata": {},
   "outputs": [],
   "source": [
    "baraffe_data=eff.simulation_outputs()[\"baraffe2003\"]\n",
    "saumon_data=eff.simulation_outputs()[\"saumon2008\"]\n"
   ]
  },
  {
   "cell_type": "code",
   "execution_count": null,
   "metadata": {},
   "outputs": [],
   "source": [
    "import seaborn as sns"
   ]
  },
  {
   "cell_type": "code",
   "execution_count": null,
   "metadata": {},
   "outputs": [],
   "source": [
    "cmap_teff=sns.diverging_palette(100, 300, s=80, l=55, n=19, as_cmap=True)"
   ]
  },
  {
   "cell_type": "code",
   "execution_count": null,
   "metadata": {},
   "outputs": [],
   "source": [
    "pnts=wisps.OBSERVED_POINTINGS"
   ]
  },
  {
   "cell_type": "code",
   "execution_count": null,
   "metadata": {},
   "outputs": [],
   "source": [
    "volumes=[]\n",
    "dlimits=[]\n",
    "for pnt in pnts:\n",
    "    vs=[]\n",
    "    dls=[]\n",
    "    for g in wispsim.SPGRID:\n",
    "        vsx=[]\n",
    "        for h in wispsim.HS:\n",
    "            vsx.append((pnt.volumes[h])[g])\n",
    "        dls.append(pnt.dist_limits[g])\n",
    "        vs.append(vsx)\n",
    "    volumes.append(vs)\n",
    "    dlimits.append(dls)\n",
    "volumes=np.array(volumes)\n",
    "dlimits=np.array(dlimits)"
   ]
  },
  {
   "cell_type": "code",
   "execution_count": null,
   "metadata": {},
   "outputs": [],
   "source": [
    "galc=SkyCoord([x.coord.galactic for x in pnts])"
   ]
  },
  {
   "cell_type": "code",
   "execution_count": null,
   "metadata": {},
   "outputs": [],
   "source": [
    "vls250=volumes[:,0, :,]"
   ]
  },
  {
   "cell_type": "code",
   "execution_count": null,
   "metadata": {},
   "outputs": [],
   "source": [
    "fig = plt.figure(figsize=(8,5))\n",
    "ax = fig.add_subplot(111, projection=\"mollweide\")\n",
    "c=ax.scatter(galc.l.wrap_at(180*u.degree).radian,galc.b.wrap_at(90*u.degree).radian, marker='+', cmap='viridis')\n",
    "ax.set_xlabel('l (deg)', fontsize=18)\n",
    "ax.set_ylabel('b (deg)', fontsize=18)\n",
    "plt.grid()\n",
    "plt.savefig(wisps.OUTPUT_FIGURES+'/fields_skymap.pdf', bbox_inches='tight')"
   ]
  },
  {
   "cell_type": "code",
   "execution_count": null,
   "metadata": {},
   "outputs": [],
   "source": [
    "from matplotlib.colors import Normalize\n",
    "\n"
   ]
  },
  {
   "cell_type": "code",
   "execution_count": null,
   "metadata": {},
   "outputs": [],
   "source": [
    "from scipy import integrate"
   ]
  },
  {
   "cell_type": "code",
   "execution_count": null,
   "metadata": {},
   "outputs": [],
   "source": [
    "volume_fx=np.vectorize(wispsim.custom_volume)"
   ]
  },
  {
   "cell_type": "code",
   "execution_count": null,
   "metadata": {},
   "outputs": [],
   "source": [
    "sns.cm."
   ]
  },
  {
   "cell_type": "code",
   "execution_count": null,
   "metadata": {},
   "outputs": [],
   "source": [
    "import seaborn as sns\n",
    "import matplotlib\n",
    "#cmap= sns.color_palette(\"coolwarm\", 8, as_cmap=True)\n",
    "cmap=matplotlib.cm.get_cmap('coolwarm')\n",
    "cnorm=Normalize(wispsim.HS[0]/100, (wispsim.HS[-1])/100)"
   ]
  },
  {
   "cell_type": "code",
   "execution_count": null,
   "metadata": {},
   "outputs": [],
   "source": [
    "ds=np.logspace(0, 3.5, 1000)\n",
    "fig, ax=plt.subplots(figsize=(8, 5))\n",
    "for idx, h in tqdm(enumerate(wispsim.HS)):\n",
    "    plt.plot(ds, np.log10(volume_fx(0.,np.pi/4, 0, ds,h)), color=cmap(cnorm(h/100)), label=r'h ={}'.format(h))\n",
    "plt.plot(ds, np.log10(ds**3), c='k', label=r'd$^3$')\n",
    "plt.ylabel(r'Log Veff (pc$^3$)', fontsize=18)\n",
    "plt.xlabel('d (pc)', fontsize=18)\n",
    "plt.legend(fontsize=14)"
   ]
  },
  {
   "cell_type": "code",
   "execution_count": null,
   "metadata": {},
   "outputs": [],
   "source": [
    "vsunif=np.nansum((dlimits[:, :,0])**3-(dlimits[:, :,1])**3, axis=0)*4.1*(u.arcmin**2).to(u.radian**2)"
   ]
  },
  {
   "cell_type": "code",
   "execution_count": null,
   "metadata": {},
   "outputs": [],
   "source": [
    "VOLUMES=np.nansum(volumes.T, axis=2)*4.1*(u.arcmin**2).to(u.radian**2)"
   ]
  },
  {
   "cell_type": "code",
   "execution_count": null,
   "metadata": {},
   "outputs": [],
   "source": [
    "fig, ax=plt.subplots(figsize=(8, 5))\n",
    "for idx, h in enumerate(wispsim.HS):\n",
    "    plt.plot(wispsim.SPGRID, np.log10(VOLUMES[idx]), color=cmap(cnorm(h/100)),\n",
    "             label=r'h ={}'.format(h), linewidth=3)\n",
    "\n",
    "#plt.plot(wispsim.SPGRID, np.log10(vsunif), label=r'd$^3$' )\n",
    "plt.ylabel(r'Log Veff (pc$^3$)', fontsize=18)\n",
    "plt.xlabel('SpT', fontsize=18)\n",
    "plt.legend(fontsize=18)\n",
    "\n",
    "plt.minorticks_on()\n",
    "\n",
    "plt.tight_layout()\n",
    "ax.set_xticks([20, 25, 30, 35, 40])\n",
    "ax.set_xticklabels(['L0', 'L5', 'T0', 'T5', 'Y0'])\n",
    "\n",
    "plt.savefig(wisps.OUTPUT_FIGURES+'/simulation_volumes.pdf', bbox_inches='tight')"
   ]
  },
  {
   "cell_type": "code",
   "execution_count": null,
   "metadata": {},
   "outputs": [],
   "source": [
    "cum_volumes=np.cumsum(volumes, axis=1)\n",
    "cum_volumes.shape"
   ]
  },
  {
   "cell_type": "code",
   "execution_count": null,
   "metadata": {},
   "outputs": [],
   "source": [
    "np.nansum((cum_volumes[:, :, 0]), axis=1).shape"
   ]
  },
  {
   "cell_type": "code",
   "execution_count": null,
   "metadata": {},
   "outputs": [],
   "source": [
    "steps=np.arange(533)"
   ]
  },
  {
   "cell_type": "code",
   "execution_count": null,
   "metadata": {},
   "outputs": [],
   "source": [
    "wispsim.SPGRID"
   ]
  },
  {
   "cell_type": "code",
   "execution_count": null,
   "metadata": {},
   "outputs": [],
   "source": [
    "import splat"
   ]
  },
  {
   "cell_type": "code",
   "execution_count": null,
   "metadata": {},
   "outputs": [],
   "source": [
    "fig, ((ax, ax1), (ax2, ax3))=plt.subplots(figsize=(10, 8), ncols=2, nrows=2)\n",
    "for idx, h in enumerate(wispsim.HS):\n",
    "    ax.step(steps, np.log10(np.cumsum(volumes[:, 0, idx])), color=cmap(cnorm(h/100)), linewidth=3)\n",
    "    ax1.step(steps, np.log10(np.cumsum(volumes[:, 9, idx])), color=cmap(cnorm(h/100)), linewidth=3)\n",
    "    ax2.step(steps, np.log10(np.cumsum(volumes[:,-6 , idx])), color=cmap(cnorm(h/100)), linewidth=3)\n",
    "    ax3.step(steps, np.log10(np.cumsum(volumes[:, -1, idx])), color=cmap(cnorm(h/100)), linewidth=3, label=r'h ={}'.format(h))\n",
    "\n",
    "\n",
    "ax.set_ylabel(r'Log Cumulative Veff (pc$^3$)', fontsize=18)\n",
    "ax2.set_ylabel(r'Log Cumulative Veff (pc$^3$)', fontsize=18)\n",
    "\n",
    "for a in [ax, ax1, ax2, ax3]:\n",
    "    a.set_xlabel('Number of Pointings', fontsize=18)\n",
    "    a.minorticks_on()\n",
    "    \n",
    "ax.set_title('{} UCDs'.format(splat.typeToNum(wispsim.SPGRID[0])), fontsize=18)\n",
    "ax1.set_title('{} UCDs'.format(splat.typeToNum(wispsim.SPGRID[9])), fontsize=18)\n",
    "ax2.set_title('{} UCDs'.format(splat.typeToNum(wispsim.SPGRID[-6])), fontsize=18)\n",
    "ax3.set_title('{} UCDs'.format(splat.typeToNum(wispsim.SPGRID[-1])), fontsize=18)\n",
    "\n",
    "ax3.legend(fontsize=15)\n",
    "\n",
    "\n",
    "plt.tight_layout()\n",
    "\n",
    "\n",
    "plt.savefig(wisps.OUTPUT_FIGURES+'/cumulative_volumes.pdf', bbox_inches='tight')"
   ]
  },
  {
   "cell_type": "code",
   "execution_count": null,
   "metadata": {},
   "outputs": [],
   "source": [
    "import numba"
   ]
  },
  {
   "cell_type": "code",
   "execution_count": null,
   "metadata": {},
   "outputs": [],
   "source": [
    "@numba.jit\n",
    "def get_kde(r, z):\n",
    "    kde=wisps.kernel_density([r, z])\n",
    "    dens=kde.pdf([r, z])\n",
    "    return dens"
   ]
  },
  {
   "cell_type": "code",
   "execution_count": null,
   "metadata": {},
   "outputs": [],
   "source": [
    "data=eff.simulation_outputs()['baraffe2003']"
   ]
  },
  {
   "cell_type": "code",
   "execution_count": null,
   "metadata": {},
   "outputs": [],
   "source": [
    "r100=data[150]['r'].flatten()\n",
    "z100=data[150]['z'].flatten()\n",
    "d100=data[150]['d'].flatten()"
   ]
  },
  {
   "cell_type": "code",
   "execution_count": null,
   "metadata": {},
   "outputs": [],
   "source": [
    "r600=data[400]['r'].flatten()\n",
    "z600=data[400]['z'].flatten()\n",
    "d600=data[400]['d'].flatten()"
   ]
  },
  {
   "cell_type": "code",
   "execution_count": null,
   "metadata": {},
   "outputs": [],
   "source": [
    "data[200].keys()"
   ]
  },
  {
   "cell_type": "code",
   "execution_count": null,
   "metadata": {},
   "outputs": [],
   "source": [
    "dens1=wispsim.density_function(r100, z100)\n",
    "dens2=wispsim.density_function(r600, z600)\n",
    "\n",
    "#dens1=data[150]['sl']\n",
    "#dens2=data[400]['sl']"
   ]
  },
  {
   "cell_type": "code",
   "execution_count": null,
   "metadata": {},
   "outputs": [],
   "source": [
    "fig, ax=plt.subplots()\n",
    "ax.scatter(data[400]['spts'], np.log10(data[400]['snrj']), c=data[400]['sl'], cmap='viridis')\n"
   ]
  },
  {
   "cell_type": "code",
   "execution_count": null,
   "metadata": {},
   "outputs": [],
   "source": [
    "fig, (ax, ax1)=plt.subplots( figsize=(10, 10), ncols=2, nrows=2)\n",
    "\n",
    "h=ax[0].hist(np.log10(d100.flatten()), color='#FF4136',\n",
    "          bins='auto', histtype='step', label=\"h = 150 pc\")\n",
    "\n",
    "h=ax[0].hist(np.log10(d600.flatten()),  color='#0074D9', bins='auto', \n",
    "          histtype='step', label=\"h = 400 pc\")\n",
    "\n",
    "\n",
    "h=ax[1].hist(z100.flatten(), color='#FF4136',\n",
    "          bins='auto', histtype='step', label=\"h = 150 pc\")\n",
    "\n",
    "h=ax[1].hist(z600.flatten(),  color='#0074D9', bins='auto', \n",
    "          histtype='step', label=\"h = 400 pc\")\n",
    "\n",
    "c1=ax1[0].scatter(r100, z100, s=1.,  c=np.log10(dens1), cmap='viridis', alpha=0.1)\n",
    "\n",
    "ax1[0].set_title(\"h = 150 pc\", fontsize=18)\n",
    "ax1[1].set_title(\"h = 400 pc\", fontsize=18)\n",
    "\n",
    "c=ax1[1].scatter(r600, z600,s=1.,  c=np.log10(dens2), cmap='viridis', alpha=0.1)\n",
    "\n",
    "cbar0=plt.colorbar(c, ax=ax1[1],    orientation='horizontal')\n",
    "cbar1=plt.colorbar(c1, ax=ax1[0],    orientation='horizontal')\n",
    "\n",
    "\n",
    "cbar0.ax.set_xlabel(r'Log $ \\rho/ \\rho_0$ ', fontsize=18)\n",
    "cbar1.ax.set_xlabel(r'Log $ \\rho/ \\rho_0$ ', fontsize=18)\n",
    "\n",
    "ax[0].legend(fontsize=15, loc='lower left')\n",
    "ax[0].set_xlabel('Log Distance (pc)', fontsize=18)\n",
    "ax[0].set_ylabel('N', fontsize=18)\n",
    "\n",
    "ax[1].set_xlabel('Z (pc)', fontsize=18)\n",
    "ax[1].set_ylabel('N', fontsize=18)\n",
    "ax[1].set_yscale('log')\n",
    "\n",
    "#ax1[0].legend(fontsize=15, loc='lower left')\n",
    "ax1[0].set_xlabel('R (pc)', fontsize=18)\n",
    "ax1[0].set_ylabel('Z (pc)', fontsize=18)\n",
    "\n",
    "#ax1[1].legend(fontsize=15, loc='lower left')\n",
    "ax1[1].set_xlabel('R (pc)', fontsize=18)\n",
    "ax1[1].set_ylabel('Z (pc)', fontsize=18)\n",
    "\n",
    "\n",
    "for a in np.concatenate([ax, ax1]):\n",
    "    a.minorticks_on()\n",
    "    \n",
    "    \n",
    "plt.tight_layout()\n",
    "plt.savefig(wisps.OUTPUT_FIGURES+'/simulation_distances.jpeg', bbox_inches='tight', rasterized=True)"
   ]
  },
  {
   "cell_type": "code",
   "execution_count": null,
   "metadata": {},
   "outputs": [],
   "source": [
    "maglimits=pd.DataFrame([x.mag_limits for x in pnts])\n",
    "exposure_times=[np.nanmean(x.exposure_time) for x in pnts]"
   ]
  },
  {
   "cell_type": "code",
   "execution_count": null,
   "metadata": {},
   "outputs": [],
   "source": [
    "maglimits['survey']=[x.survey for x in pnts]\n",
    "maglimits['exp']=np.log10(exposure_times)"
   ]
  },
  {
   "cell_type": "code",
   "execution_count": null,
   "metadata": {},
   "outputs": [],
   "source": [
    "#magpolw=wispsim.MAG_LIMITS[survey][][0]\n",
    "#magpolh=wispsim.MAG_LIMITS[survey][key][0]\n",
    "\n",
    "#magsctt=MAG_LIMITS[survey][key][1]\n",
    "\n",
    "#maglt=np.nanmean(np.random.normal(magpol(np.log10(pnt.exposure_time)), magsctt, 100))"
   ]
  },
  {
   "cell_type": "code",
   "execution_count": null,
   "metadata": {},
   "outputs": [],
   "source": [
    "import seaborn as sns"
   ]
  },
  {
   "cell_type": "code",
   "execution_count": null,
   "metadata": {},
   "outputs": [],
   "source": [
    "wisps_pnts=[x for x in pnts if x.name.startswith('par')]"
   ]
  },
  {
   "cell_type": "code",
   "execution_count": null,
   "metadata": {},
   "outputs": [],
   "source": [
    "hst3d_pnts=[x for x in pnts if not x.name.startswith('par')]"
   ]
  },
  {
   "cell_type": "code",
   "execution_count": null,
   "metadata": {},
   "outputs": [],
   "source": [
    "pols={'wisps':{}, 'hst3d':{}}"
   ]
  },
  {
   "cell_type": "code",
   "execution_count": null,
   "metadata": {},
   "outputs": [],
   "source": [
    "wisps.MAG_LIMITS"
   ]
  },
  {
   "cell_type": "code",
   "execution_count": null,
   "metadata": {},
   "outputs": [],
   "source": [
    "pnt_dicts={'wisps':wisps_pnts, 'hst3d':hst3d_pnts}"
   ]
  },
  {
   "cell_type": "code",
   "execution_count": null,
   "metadata": {},
   "outputs": [],
   "source": [
    "fig, ax=plt.subplots(ncols=3, figsize=(12, 4))\n",
    "\n",
    "sns.scatterplot(x='F110', y='exp', hue='survey', s=15., ax=ax[0], data=maglimits)\n",
    "sns.scatterplot(x='F140', y='exp', hue='survey', s=15., ax=ax[1], data=maglimits)\n",
    "sns.scatterplot(x='F160', y='exp', hue='survey', s=15., ax=ax[2], data=maglimits)\n",
    "\n",
    "(ax[0]).plot(((wispsim.MAG_LIMITS['wisps'])['F110'][0])(maglimits.exp),maglimits.exp)\n",
    "(ax[1]).plot(((wispsim.MAG_LIMITS['wisps'])['F140'][0])(maglimits.exp),maglimits.exp)\n",
    "(ax[2]).plot(((wispsim.MAG_LIMITS['wisps'])['F160'][0])(maglimits.exp),maglimits.exp)\n",
    "\n",
    "\n",
    "\n",
    "#(ax[1]).plot(((wispsim.MAG_LIMITS['wisps'])['F140'][0])(maglimits.exp),maglimits.exp)\n",
    "\n",
    "#(ax[2]).plot(((wispsim.MAG_LIMITS['wisps'])['F160'][0])(maglimits.exp),maglimits.exp)\n",
    "\n",
    "#ax[1].scatter(maglimits.F140, exposure_times, c='#FF851B', s=15.)\n",
    "#ax[2].scatter(maglimits.F160, exposure_times, c='#FF4136', s=15.)\n",
    "for a,k in zip(ax, maglimits.columns):\n",
    "    #a.set_xlim([20, 25])\n",
    "    #a.set_yscale('log')\n",
    "    a.minorticks_on()\n",
    "    a.set_xlabel('PS Limiting '+ k+'W', fontsize=18)\n",
    "    a.set_ylabel('Log Grism Exposure Time (s)', fontsize=18)\n",
    "plt.tight_layout()\n",
    "plt.savefig(wisps.OUTPUT_FIGURES+'/mag_limit.pdf', bbox_inches='tight')"
   ]
  },
  {
   "cell_type": "code",
   "execution_count": null,
   "metadata": {},
   "outputs": [],
   "source": []
  },
  {
   "cell_type": "code",
   "execution_count": null,
   "metadata": {},
   "outputs": [],
   "source": [
    "asfbfgn"
   ]
  },
  {
   "cell_type": "code",
   "execution_count": null,
   "metadata": {},
   "outputs": [],
   "source": [
    "maglimits[maglimits.F160<15.]"
   ]
  },
  {
   "cell_type": "code",
   "execution_count": null,
   "metadata": {},
   "outputs": [],
   "source": [
    "p=pnts[np.random.randint(533)]"
   ]
  },
  {
   "cell_type": "code",
   "execution_count": null,
   "metadata": {},
   "outputs": [],
   "source": [
    "p.name"
   ]
  },
  {
   "cell_type": "code",
   "execution_count": null,
   "metadata": {},
   "outputs": [],
   "source": [
    "import scipy"
   ]
  },
  {
   "cell_type": "code",
   "execution_count": null,
   "metadata": {},
   "outputs": [],
   "source": [
    "vals=p.mags['F160']\n",
    "vals=vals[~np.isnan(vals)]"
   ]
  },
  {
   "cell_type": "code",
   "execution_count": null,
   "metadata": {},
   "outputs": [],
   "source": [
    "len(vals)"
   ]
  },
  {
   "cell_type": "code",
   "execution_count": null,
   "metadata": {},
   "outputs": [],
   "source": [
    "kde=scipy.stats.gaussian_kde(vals)"
   ]
  },
  {
   "cell_type": "code",
   "execution_count": null,
   "metadata": {},
   "outputs": [],
   "source": [
    "frq, edges=np.histogram(vals, bins=int(np.ptp(vals)/0.3), normed=True)"
   ]
  },
  {
   "cell_type": "code",
   "execution_count": null,
   "metadata": {},
   "outputs": [],
   "source": [
    "firstd=np.diff(frq, n=1, prepend=frq[0])\n",
    "sencd=np.diff(firstd, n=1, prepend=firstd[0])"
   ]
  },
  {
   "cell_type": "code",
   "execution_count": null,
   "metadata": {},
   "outputs": [],
   "source": [
    "len(edges[: -1]), len(np.gradient(frq)), len(frq), len(firstd)"
   ]
  },
  {
   "cell_type": "code",
   "execution_count": null,
   "metadata": {},
   "outputs": [],
   "source": [
    "fig, ax=plt.subplots(figsize=(10, 6))\n",
    "plt.plot(np.sort(vals), kde(np.sort(vals)), c='b')\n",
    "\n",
    "plt.bar(edges[:-1], frq, width=np.diff(edges), align=\"edge\", label='0.5 hist', color='#7FDBFF', \n",
    "        edgecolor='#7FDBFF', fill=True)\n",
    "\n",
    "\n",
    "plt.axvline(edges[:-1][firstd==0][0], c='k')\n",
    "plt.axvline(edges[:-1][firstd==0][-3], c='k')\n",
    "plt.axvline(edges[:-1][firstd==0][-2], c='k')\n",
    "plt.axvline(edges[:-1][firstd==0][-1], c='k')\n",
    "\n",
    "#plt.axvline(edges[:-1][np.argmin(sencd)], c='#2ECC40', label='sec')\n",
    "plt.axvline(vals[np.argmax(kde(vals))], c='#2ECC40', linestyle='--', label='kde')\n",
    "plt.legend(fontsize=18)\n",
    "plt.xlabel('F160W', fontsize=18)\n",
    "\n",
    "plt.minorticks_on()\n",
    "plt.tight_layout()\n",
    "plt.savefig(wisps.OUTPUT_FIGURES+'/mag_limit_illustration.pdf')"
   ]
  },
  {
   "cell_type": "code",
   "execution_count": null,
   "metadata": {},
   "outputs": [],
   "source": [
    "x=np.arange(10).astype(int)"
   ]
  },
  {
   "cell_type": "code",
   "execution_count": null,
   "metadata": {},
   "outputs": [],
   "source": [
    "ys=np.random.random(10)"
   ]
  },
  {
   "cell_type": "code",
   "execution_count": null,
   "metadata": {},
   "outputs": [],
   "source": [
    "bs=(x==3)"
   ]
  },
  {
   "cell_type": "code",
   "execution_count": null,
   "metadata": {},
   "outputs": [],
   "source": [
    "x[bs], ys[bs]"
   ]
  },
  {
   "cell_type": "code",
   "execution_count": null,
   "metadata": {},
   "outputs": [],
   "source": [
    "a=np.empty(23)\n",
    "a[:]=np.nan"
   ]
  },
  {
   "cell_type": "code",
   "execution_count": null,
   "metadata": {},
   "outputs": [],
   "source": [
    "a"
   ]
  },
  {
   "cell_type": "code",
   "execution_count": null,
   "metadata": {},
   "outputs": [],
   "source": []
  }
 ],
 "metadata": {
  "kernelspec": {
   "display_name": "Python 3",
   "language": "python",
   "name": "python3"
  },
  "language_info": {
   "codemirror_mode": {
    "name": "ipython",
    "version": 3
   },
   "file_extension": ".py",
   "mimetype": "text/x-python",
   "name": "python",
   "nbconvert_exporter": "python",
   "pygments_lexer": "ipython3",
   "version": "3.7.6"
  }
 },
 "nbformat": 4,
 "nbformat_minor": 4
}
