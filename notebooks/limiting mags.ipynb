{
 "cells": [
  {
   "cell_type": "code",
   "execution_count": 1,
   "metadata": {},
   "outputs": [
    {
     "name": "stdout",
     "output_type": "stream",
     "text": [
      "\n",
      "Warning: spectrum object has a flux vector of zero length - maybe empty?\n",
      "\n",
      "Warning: normalize is attempting to divide by nan; ignoring\n",
      "\n",
      "Warning: spectrum object has a flux vector of zero length - maybe empty?\n",
      "\n",
      "Warning: normalize is attempting to divide by nan; ignoring\n"
     ]
    }
   ],
   "source": [
    "import splat\n",
    "import wisps\n",
    "import matplotlib.pyplot as plt\n",
    "import pandas as pd\n",
    "import numpy as np\n",
    "\n",
    "import seaborn as sns\n",
    "import matplotlib as mpl\n",
    "from tqdm import tqdm\n",
    "\n",
    "\n",
    "%matplotlib inline"
   ]
  },
  {
   "cell_type": "code",
   "execution_count": 2,
   "metadata": {},
   "outputs": [],
   "source": [
    "#plot mag vs \n",
    "obs=pd.read_csv(wisps.OUTPUT_FILES+'/observation_log.csv')\n",
    "obs.columns=[x.lower() for x in obs.columns]#.lower()\n",
    "def add_survey(pointing):\n",
    "    if pointing.startswith('par'):\n",
    "        return 'wisps'\n",
    "    else:\n",
    "        return '3d-hst'\n",
    "obs_df=obs.drop(['unnamed: 0'], axis=1).drop_duplicates('pointing').reset_index()\n",
    "obs_df['survey']=obs.pointing.apply(add_survey)"
   ]
  },
  {
   "cell_type": "code",
   "execution_count": 3,
   "metadata": {},
   "outputs": [],
   "source": [
    "obs_df=obs_df.drop(['index'], axis=1)"
   ]
  },
  {
   "cell_type": "code",
   "execution_count": 4,
   "metadata": {},
   "outputs": [],
   "source": [
    "#obs_df.to_latex(wisps.LIBRARIES+'/observations.tex', longtable=True, index=False)"
   ]
  },
  {
   "cell_type": "code",
   "execution_count": 5,
   "metadata": {},
   "outputs": [],
   "source": [
    "phot=pd.read_hdf(wisps.COMBINED_PHOTO_SPECTRO_FILE, key='all_phot_spec_data')\n",
    "fphot=wisps.Annotator.reformat_table(phot)"
   ]
  },
  {
   "cell_type": "code",
   "execution_count": 6,
   "metadata": {},
   "outputs": [],
   "source": [
    "stars=wisps.Annotator.reformat_table(pd.read_hdf(wisps.COMBINED_PHOTO_SPECTRO_FILE, key='stars'))"
   ]
  },
  {
   "cell_type": "code",
   "execution_count": 7,
   "metadata": {},
   "outputs": [],
   "source": [
    "stars=stars[stars.snr1>=3.0]"
   ]
  },
  {
   "cell_type": "code",
   "execution_count": 8,
   "metadata": {},
   "outputs": [
    {
     "data": {
      "text/plain": [
       "43023"
      ]
     },
     "execution_count": 8,
     "metadata": {},
     "output_type": "execute_result"
    }
   ],
   "source": [
    "len(stars)"
   ]
  },
  {
   "cell_type": "code",
   "execution_count": 9,
   "metadata": {},
   "outputs": [],
   "source": [
    "cutphot=fphot[((fphot.snr1>=3.0))]"
   ]
  },
  {
   "cell_type": "code",
   "execution_count": 10,
   "metadata": {},
   "outputs": [],
   "source": [
    "import astropy.stats.bayesian_blocks as bb"
   ]
  },
  {
   "cell_type": "code",
   "execution_count": 11,
   "metadata": {},
   "outputs": [],
   "source": [
    "#edgesf160 =bb(cutphot.F160.replace(np.inf, np.nan).dropna(), fitness='events', p0=0.01)\n",
    "#edges140= bb(cutphot.F140.replace(np.inf, np.nan).dropna(), fitness='events', p0=0.01)\n",
    "#edges110= bb(cutphot.F110.replace(np.inf, np.nan).dropna(), fitness='events', p0=0.01)"
   ]
  },
  {
   "cell_type": "code",
   "execution_count": 12,
   "metadata": {},
   "outputs": [],
   "source": [
    "wispsph=fphot[fphot.grism_id.str.startswith('par')]\n",
    "hst3d=fphot[~ fphot.grism_id.str.startswith('par')]"
   ]
  },
  {
   "cell_type": "code",
   "execution_count": 13,
   "metadata": {},
   "outputs": [
    {
     "data": {
      "text/plain": [
       "(271915, 195916, 75999, 43023, 43023)"
      ]
     },
     "execution_count": 13,
     "metadata": {},
     "output_type": "execute_result"
    }
   ],
   "source": [
    "len(phot), len(wispsph), len(hst3d), len(stars),len(stars[stars.snr1>3.])"
   ]
  },
  {
   "cell_type": "code",
   "execution_count": 14,
   "metadata": {},
   "outputs": [],
   "source": [
    "starswisp=stars[stars.grism_id.str.startswith('par')]\n",
    "#starshst3d=stars[(~ stars.grism_id.str.startswith('par')) & (stars.star_flags !=2.) ]\n",
    "starshst3d=stars[(~ stars.grism_id.str.startswith('par')) &  (stars.F160<25.)]\n",
    "#starshst3d=stars[(~ stars.grism_id.str.startswith('par'))]"
   ]
  },
  {
   "cell_type": "code",
   "execution_count": 15,
   "metadata": {},
   "outputs": [],
   "source": [
    "#stars.F160<25."
   ]
  },
  {
   "cell_type": "code",
   "execution_count": 16,
   "metadata": {},
   "outputs": [],
   "source": [
    "from matplotlib.ticker import MultipleLocator"
   ]
  },
  {
   "cell_type": "code",
   "execution_count": 17,
   "metadata": {},
   "outputs": [
    {
     "data": {
      "text/plain": [
       "array([25.763, 27.4  , 24.526, ..., 23.816, 25.792, 20.252])"
      ]
     },
     "execution_count": 17,
     "metadata": {},
     "output_type": "execute_result"
    }
   ],
   "source": [
    "wispsph.F160.dropna().values"
   ]
  },
  {
   "cell_type": "code",
   "execution_count": 18,
   "metadata": {},
   "outputs": [],
   "source": [
    "from scipy import stats"
   ]
  },
  {
   "cell_type": "markdown",
   "metadata": {},
   "source": [
    "https://rmflight.github.io/post/finding-modes-using-kernel-density-estimates/"
   ]
  },
  {
   "cell_type": "code",
   "execution_count": 19,
   "metadata": {},
   "outputs": [],
   "source": [
    "kde_l_mags={}"
   ]
  },
  {
   "cell_type": "code",
   "execution_count": 20,
   "metadata": {},
   "outputs": [
    {
     "data": {
      "image/png": "[encoded data removed]",
      "text/plain": [
       "<Figure size 432x288 with 1 Axes>"
      ]
     },
     "metadata": {
      "needs_background": "light"
     },
     "output_type": "display_data"
    }
   ],
   "source": [
    "values=np.sort(starshst3d.F160.dropna().values)\n",
    "kernel = stats.gaussian_kde(values)\n",
    "height = kernel.pdf(values)\n",
    "mode_value = values[np.argmax(height)]\n",
    "\n",
    "plt.plot(values, height, color='#2ECC40', label='non-parametric')\n",
    "plt.axvline(mode_value, color='#2ECC40')\n",
    "plt.axvline(22.5,  color='#B10DC9', label='eye')\n",
    "h=plt.hist(values,   bins='auto', color='#B10DC9', density=True, histtype='step')\n",
    "plt.legend(fontsize=18)\n",
    "plt.minorticks_on()"
   ]
  },
  {
   "cell_type": "code",
   "execution_count": 21,
   "metadata": {},
   "outputs": [
    {
     "data": {
      "text/plain": [
       "24.528468959933253"
      ]
     },
     "execution_count": 21,
     "metadata": {},
     "output_type": "execute_result"
    }
   ],
   "source": [
    "mode_value"
   ]
  },
  {
   "cell_type": "code",
   "execution_count": 22,
   "metadata": {},
   "outputs": [],
   "source": [
    "#for k in ['F160', 'F140', 'F110']:\n",
    "#    values=\n",
    "    "
   ]
  },
  {
   "cell_type": "code",
   "execution_count": 23,
   "metadata": {},
   "outputs": [
    {
     "name": "stdout",
     "output_type": "stream",
     "text": [
      "24.528468959933253\n"
     ]
    }
   ],
   "source": [
    "kernel = stats.gaussian_kde(values)\n",
    "height = kernel.pdf(values)\n",
    "mode_value = values[np.argmax(height)]\n",
    "print(mode_value)"
   ]
  },
  {
   "cell_type": "code",
   "execution_count": 24,
   "metadata": {},
   "outputs": [],
   "source": [
    "mag_limits={'wisps':{'F110W':[22.5, 18.0], 'F140W':[22., 16.0], 'F160W':[22.0, 16.0] }, \n",
    "            'hst3d':{'F140W':[23., 16.0], 'F160W':[23., 16.0] }}"
   ]
  },
  {
   "cell_type": "code",
   "execution_count": 25,
   "metadata": {},
   "outputs": [
    {
     "data": {
      "image/png": "[encoded data removed]",
      "text/plain": [
       "<Figure size 864x288 with 3 Axes>"
      ]
     },
     "metadata": {
      "needs_background": "light"
     },
     "output_type": "display_data"
    }
   ],
   "source": [
    "fig, ax=plt.subplots(ncols=3, figsize=(12, 4))\n",
    "##top\n",
    "h=ax[0].hist(wispsph.F160.dropna().values, label='wisps', bins='auto', color='#7FDBFF', density=True, histtype='step', linestyle='--')\n",
    "h=ax[2].hist(wispsph.F110.dropna().values,  label='wisps', bins='auto', color='#7FDBFF', density=True, histtype='step', linestyle='--')\n",
    "h=ax[1].hist(wispsph.F140.replace(np.inf, np.nan).dropna().values,   label='wisps', bins='auto', color='#7FDBFF', density=True, histtype='step' , linestyle='--')\n",
    "#h=cutphot.F140.replace(np.inf, np.nan).dropna().plot(kind='hist', ax=ax[0][2], bins='auto',label='F140', color='#7FDBFF', density=True)\n",
    "\n",
    "h=ax[0].hist(hst3d.F160.dropna().values,  label='3d-hst', bins='auto', color='#2ECC40', density=True, histtype='step', linestyle='--')\n",
    "#h=ax[2].hist(hst3d.F110.dropna().values,  label='3d-hst', bins='auto', color='#2ECC40', density=True, histtype='step',  linestyle='--')\n",
    "h=ax[1].hist(hst3d.F140.replace(np.inf, np.nan).dropna().values,  label='3d-sht', bins='auto', color='#2ECC40', density=True, histtype='step',  linestyle='--')\n",
    "\n",
    "h=ax[0].hist(starswisp.F160.dropna().values,  label='ps wisp', bins='auto', color='#B10DC9', density=True, histtype='step')\n",
    "h=ax[2].hist(starswisp.F110.dropna().values,   label='ps wisp', bins='auto', color='#B10DC9', density=True, histtype='step')\n",
    "h=ax[1].hist(starswisp.F140.replace(np.inf, np.nan).dropna().values,   label='ps wisp', bins='auto',  color='#B10DC9', density=True, histtype='step')\n",
    "\n",
    "h=ax[0].hist(starshst3d.F160.dropna().values,  label='ps 3d-hst', bins='auto', color='#111111', density=True, histtype='step')\n",
    "#h=ax[2].hist(starshst3d.F110.dropna().values,   label='ps 3d-hst', bins='auto', color='#111111', density=True, histtype='step')\n",
    "h=ax[1].hist(starshst3d.F140.replace(np.inf, np.nan).dropna().values,   label='ps 3d-hst', bins='auto',  color='#111111', density=True, histtype='step')\n",
    "\n",
    "\n",
    "#bayesian blocks\n",
    "#H2 = ax[0][0].hist(cutphot.F160.replace(np.inf, np.nan).dropna(), bins=edgesf160, color='#111111',  density=True, lw =2, histtype='step')\n",
    "#H2 = ax[0][1].hist(cutphot.F110.replace(np.inf, np.nan).dropna(), bins=edges110, color='#111111',  density=True, lw =2, histtype='step')\n",
    "#H2 =ax[0][2].hist(cutphot.F140.replace(np.inf, np.nan).dropna(), bins=edges140, color='#111111',  density=True, lw =2, histtype='step')\n",
    "\n",
    "#ax[0].axvline(mag_limits['wisps']['F140W'][0], color='#B10DC9', linestyle='-')\n",
    "#ax[0].axvline(mag_limits['hst3d']['F140W'][0], color='#111111', linestyle='-')\n",
    "\n",
    "#ax[2].axvline(mag_limits['wisps']['F110W'][0], color='#B10DC9', linestyle='-')\n",
    "#ax[0][1].axvline(23,  color='#111111')\n",
    "\n",
    "\n",
    "#ax[1].axvline(mag_limits['wisps']['F160W'][0],color='#B10DC9', linestyle='-')\n",
    "#ax[1].axvline(mag_limits['hst3d']['F160W'][0], color='#111111', linestyle='-')\n",
    "\n",
    "\n",
    "\n",
    "\n",
    "\n",
    "#ax[1][0].scatter( cutphot.F160, cutphot.exposure, marker=',', alpha=0.1, s=50)\n",
    "#sns.kdeplot( cutphot.F160, cutphot.exposure, ax=ax[1][0])\n",
    "#df=cutphot[['F160', 'exposure']].replace(np.inf, np.nan).dropna()\n",
    "#ax[1][0].hist2d(df.F160.values, df.exposure.values, cmap=wisps.MYCOLORMAP)\n",
    "\n",
    "#df=cutphot[['F110', 'exposure']].replace(np.inf, np.nan).dropna()\n",
    "#ax[1][2].hist2d(df.F110.values, df.exposure.values, cmap=wisps.MYCOLORMAP)\n",
    "\n",
    "#df=cutphot[['F140', 'exposure']].replace(np.inf, np.nan).dropna()\n",
    "#ax[1][1].hist2d(df.F140.values, df.exposure.values, cmap=wisps.MYCOLORMAP)\n",
    "\n",
    "#sns.kdeplot( df.F160, df.exposure, ax=ax[1][0], shade=True)\n",
    "#ax[1][1].scatter( cutphot.F110, cutphot.exposure, marker=',', alpha=0.1, s=50)\n",
    "#ax[1][2].scatter( cutphot.F140, cutphot.exposure, marker=',', alpha=0.1, s=50)\n",
    "\n",
    "\n",
    "\n",
    "ax[0].set_xlabel('F160W', fontsize=18)\n",
    "ax[2].set_xlabel('F110W', fontsize=18)\n",
    "ax[1].set_xlabel('F140W', fontsize=18)\n",
    "\n",
    "#ax[1][0].set_ylabel('Exposure (s)', fontsize=18)\n",
    "ax[0].set_ylabel('Density', fontsize=18)\n",
    "#ax[1][2].set_ylabel('Exposure (s)', fontsize=18)\n",
    "\n",
    "for a in ax:\n",
    "    a.set_xticks(np.arange(14, 30, 2.0))\n",
    "    a.set_xlim([14, 30])\n",
    "    a.yaxis.set_ticks_position('both')\n",
    "    a.xaxis.set_ticks_position('both')\n",
    "    a.xaxis.set_minor_locator\n",
    "    #a.tick_params(which='major',direction='inout')\n",
    "    a.tick_params(which='minor', direction='in')\n",
    "    ml = MultipleLocator(.5)\n",
    "    a.xaxis.set_minor_locator(ml)\n",
    "\n",
    "\n",
    "#ax[0][0].set_ylim([0., 0.35])\n",
    "#ax[0][1].set_ylim([0., 0.30])\n",
    "#ax[0][2].set_ylim([0., 0.35])\n",
    "\n",
    "\n",
    "ax[0].legend(loc='upper left', fontsize=10)\n",
    "ax[1].legend(loc='upper left', fontsize=10)\n",
    "ax[2].legend(loc='upper left', fontsize=10)\n",
    "    \n",
    "plt.tight_layout()\n",
    "plt.savefig(wisps.OUTPUT_FIGURES+'/mag_limits_all.pdf', bbox_inches='tight')\n"
   ]
  },
  {
   "cell_type": "code",
   "execution_count": 26,
   "metadata": {},
   "outputs": [
    {
     "data": {
      "image/png": "[encoded data removed]",
      "text/plain": [
       "<Figure size 576x288 with 1 Axes>"
      ]
     },
     "metadata": {
      "needs_background": "light"
     },
     "output_type": "display_data"
    }
   ],
   "source": [
    "fig, ax1=plt.subplots(figsize=(8, 4), ncols=1, sharey=False)\n",
    "#h=ax.hist(phot.f_test, bins='auto', color='#001f3f', density=False, histtype='step')\n",
    "\n",
    "#ax.axvline(.4, color='#2ECC40', linestyle='--')\n",
    "#ax.set_xlabel('F(x)', fontsize=18)\n",
    "#ax.set_ylabel('N', fontsize=18)\n",
    "#ax.minorticks_on()\n",
    "\n",
    "\n",
    "h=ax1.hist(phot.snr1.apply(np.log10), bins='auto', color='#001f3f', density=False, histtype='step')\n",
    "\n",
    "ax1.axvline(np.log10(3.), color='#2ECC40', linestyle='--')\n",
    "ax1.set_xlabel('Log J-SNR', fontsize=18)\n",
    "ax1.set_ylabel('N', fontsize=18)\n",
    "ax1.set_xlim([-1., 3.])\n",
    "\n",
    "ax1.minorticks_on()\n",
    "plt.tight_layout()\n",
    "\n",
    "plt.savefig(wisps.OUTPUT_FIGURES+'/f_test_snr_distr.pdf')"
   ]
  },
  {
   "cell_type": "code",
   "execution_count": 27,
   "metadata": {},
   "outputs": [],
   "source": [
    "def get_max_value(values):\n",
    "    values=wisps.drop_nan(values)\n",
    "    if len(values)<1:\n",
    "        return np.nan\n",
    "    if  np.equal.reduce(values):\n",
    "        return  values.mean()\n",
    "    if (len(values)>1) and (~np.equal.reduce(values)):\n",
    "        kernel = wisps.kernel_density(values)\n",
    "        height = kernel.pdf(values)\n",
    "        mode_value = values[np.argmax(height)]\n",
    "        return float(mode_value)\n",
    "\n",
    "def get_polynomials(survey):\n",
    "    exposure_times=[]\n",
    "    mags=[]\n",
    "    df=None\n",
    "    \n",
    "    if survey=='wisps': df= wisps.Annotator.reformat_table(starswisp)\n",
    "    if survey=='hst3d': \n",
    "        df= wisps.Annotator.reformat_table(starshst3d)\n",
    "    for g in df.groupby('pointing'):\n",
    "        if len(g[1]) < 50:\n",
    "            pass\n",
    "        else:\n",
    "            exposure_times.append(g[1].exposure_time.values.mean())\n",
    "            mags.append([get_max_value(g[1].F110.values), get_max_value(g[1].F140.values), get_max_value(g[1].F160.values)])\n",
    "            \n",
    "    mags=np.vstack(mags)\n",
    "    if survey=='hst3d': \n",
    "        p0=None\n",
    "    else:\n",
    "        p0=wisps.fit_polynomial(np.log10(exposure_times),  mags[:, 0], sigma_clip=True, sigma=5, n=1)\n",
    "    p1=wisps.fit_polynomial(np.log10(exposure_times), mags[:, 1], sigma_clip=True, sigma=5, n=1)\n",
    "    p2=wisps.fit_polynomial(np.log10(exposure_times),  mags[:, 2], sigma_clip=True, sigma=5, n=1)\n",
    "    return {survey: {\"F110\":(p0, np.nanstd(mags[:,0])), \"F140\": (p1, np.nanstd(mags[:,1])), \"F160\":(p2, np.nanstd(mags[:,2]))}}\n"
   ]
  },
  {
   "cell_type": "code",
   "execution_count": 28,
   "metadata": {},
   "outputs": [],
   "source": [
    "#fit a line to exposure times\n",
    "wisppol= get_polynomials('wisps')\n",
    "hst3dpol= get_polynomials('hst3d')"
   ]
  },
  {
   "cell_type": "code",
   "execution_count": 29,
   "metadata": {},
   "outputs": [],
   "source": [
    "z = {**wisppol, **hst3dpol}"
   ]
  },
  {
   "cell_type": "code",
   "execution_count": 30,
   "metadata": {},
   "outputs": [
    {
     "data": {
      "text/plain": [
       "{'wisps': {'F110': (poly1d([ 1.55004089, 16.70448803]), 0.5745929550578502),\n",
       "  'F140': (poly1d([ 1.241343  , 16.89157194]), 0.9349842615039278),\n",
       "  'F160': (poly1d([ 0.18777862, 20.71761789]), 1.7432078125291122)},\n",
       " 'hst3d': {'F110': (None, nan),\n",
       "  'F140': (poly1d([ 0.35853188, 21.55963996]), 0.18321541773204744),\n",
       "  'F160': (poly1d([ 0.38589948, 21.3533637 ]), 0.1832225995011817)}}"
      ]
     },
     "execution_count": 30,
     "metadata": {},
     "output_type": "execute_result"
    }
   ],
   "source": [
    "z"
   ]
  },
  {
   "cell_type": "code",
   "execution_count": 31,
   "metadata": {},
   "outputs": [],
   "source": [
    "import pickle\n",
    "#save the random forest\n",
    "output_file=wisps.OUTPUT_FILES+'/magnitude_cutoff.pkl'\n",
    "with open(output_file, 'wb') as file:\n",
    "    pickle.dump(z,file)\n"
   ]
  },
  {
   "cell_type": "code",
   "execution_count": 1,
   "metadata": {},
   "outputs": [
    {
     "name": "stdout",
     "output_type": "stream",
     "text": [
      "\n",
      "Warning: spectrum object has a flux vector of zero length - maybe empty?\n",
      "\n",
      "Warning: normalize is attempting to divide by nan; ignoring\n",
      "\n",
      "Warning: spectrum object has a flux vector of zero length - maybe empty?\n",
      "\n",
      "Warning: normalize is attempting to divide by nan; ignoring\n"
     ]
    }
   ],
   "source": [
    "import wisps.simulations.effective_numbers as nbrs"
   ]
  },
  {
   "cell_type": "code",
   "execution_count": 3,
   "metadata": {},
   "outputs": [],
   "source": [
    "#nbrs.simulation_outputs(recompute=True)"
   ]
  },
  {
   "cell_type": "code",
   "execution_count": null,
   "metadata": {},
   "outputs": [],
   "source": []
  }
 ],
 "metadata": {
  "kernelspec": {
   "display_name": "Python 3",
   "language": "python",
   "name": "python3"
  },
  "language_info": {
   "codemirror_mode": {
    "name": "ipython",
    "version": 3
   },
   "file_extension": ".py",
   "mimetype": "text/x-python",
   "name": "python",
   "nbconvert_exporter": "python",
   "pygments_lexer": "ipython3",
   "version": "3.7.3"
  }
 },
 "nbformat": 4,
 "nbformat_minor": 4
}
