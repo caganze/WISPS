{
 "cells": [
  {
   "cell_type": "code",
   "execution_count": 1,
   "metadata": {},
   "outputs": [],
   "source": [
    "import splat\n",
    "import wisps\n",
    "import matplotlib.pyplot as plt\n",
    "from wisps.data_analysis import selection_criteria as sel_crt\n",
    "from wisps.simulations import selection_function as slf\n",
    "import numpy as np\n",
    "import pandas as pd\n",
    "\n",
    "import numba\n",
    "import matplotlib as mpl\n",
    "mpl.rcParams['font.size'] = 18\n",
    "\n",
    "from itertools import combinations\n",
    "#%%capture  output\n",
    "import itertools\n",
    "from tqdm import tqdm\n",
    "\n",
    "\n",
    "import seaborn as sns \n",
    "cmap=sns.light_palette((260, 75, 60), input=\"husl\", as_cmap=True)\n",
    "from tensorflow import keras\n",
    "\n",
    "from scipy import stats"
   ]
  },
  {
   "cell_type": "code",
   "execution_count": 2,
   "metadata": {},
   "outputs": [],
   "source": [
    "%matplotlib inline"
   ]
  },
  {
   "cell_type": "code",
   "execution_count": 3,
   "metadata": {},
   "outputs": [],
   "source": [
    "#read in some data\n",
    "sf=pd.read_pickle(wisps.OUTPUT_FILES+'/selection_function.pkl.gz') #the simulated spectral data"
   ]
  },
  {
   "cell_type": "code",
   "execution_count": 4,
   "metadata": {},
   "outputs": [],
   "source": [
    "#selection objects \n",
    "rfdict=pd.read_pickle(wisps.OUTPUT_FILES+'/random_forest_classifier.pkl') #the classifier \n",
    "indices_to_use= pd.read_pickle(wisps.OUTPUT_FILES+'/best_indices_to_use.pkl')\n",
    "neural_network= keras.models.load_model(wisps.OUTPUT_FILES+'/deep_model_september23.h5')"
   ]
  },
  {
   "cell_type": "code",
   "execution_count": 5,
   "metadata": {},
   "outputs": [],
   "source": [
    "#some formatting\n",
    "sampled_data=pd.DataFrame.from_records(pd.DataFrame(sf).values.flatten())\n",
    "sampled_data['sp_old']=np.vstack(sampled_data.sp_old.values)[:,0]\n",
    "sampled_data['spt_new']=np.vstack(sampled_data.spt_new.values)[:,0]"
   ]
  },
  {
   "cell_type": "code",
   "execution_count": 6,
   "metadata": {},
   "outputs": [],
   "source": [
    "#things that missed their classification \n",
    "sampled_data['missed_label']=sampled_data['sp_old'].apply(wisps.make_spt_number) != sampled_data['spt_new'].apply(wisps.make_spt_number)\n",
    "sampled_data['missed_label']=1-sampled_data.missed_label.apply(int).apply(float)\n",
    "sampled_data['Names']=['spctr'+ str(idx) for idx in sampled_data.index]\n",
    "sampled_data['spt']=sampled_data['sp_old'].apply(wisps.make_spt_number)"
   ]
  },
  {
   "cell_type": "code",
   "execution_count": 7,
   "metadata": {},
   "outputs": [],
   "source": [
    "#selection criteria\n",
    "slc_crts=sel_crt.crts_from_file()"
   ]
  },
  {
   "cell_type": "code",
   "execution_count": 8,
   "metadata": {},
   "outputs": [
    {
     "data": {
      "text/plain": [
       "[('CH_4/J-Cont H_2O-1+H_2O-2/J-Cont', 'M7-L0'),\n",
       " ('H_2O-1/J-Cont H_2O-2+CH_4/H-Cont', 'L0-L5'),\n",
       " ('CH_4/H_2O-2 H_2O-2+CH_4/J-Cont', 'L5-T0'),\n",
       " ('H_2O-1/J-Cont H_2O-2/H_2O-1', 'T0-T5'),\n",
       " ('H_2O-2/H_2O-1 H_2O-1+H_2O-2/J-Cont', 'T5-T9'),\n",
       " ('H_2O-1/J-Cont H_2O-2/H_2O-1', 'Y dwarfs'),\n",
       " ('H_2O-1/J-Cont CH_4/J-Cont', 'subdwarfs')]"
      ]
     },
     "execution_count": 8,
     "metadata": {},
     "output_type": "execute_result"
    }
   ],
   "source": [
    "indices_to_use"
   ]
  },
  {
   "cell_type": "code",
   "execution_count": 9,
   "metadata": {},
   "outputs": [],
   "source": [
    "#define a number of selectors \n",
    "#each selection should a column of zeros and ones corresponding\n",
    "#to where objects were selected\n",
    "#each selector input is the simulated df\n",
    "def f_test_fx(x, df1, df2):\n",
    "    return stats.f.cdf(x, df1, df2)\n",
    "\n",
    "def select_by_indices(df, idx, spt_range):\n",
    "    print(spt_range)\n",
    "    bs=idx.shapes\n",
    "    bx=[x for x in bs if x.shape_name==spt_range][0]\n",
    "    _, bools= bx._select(np.array([df[idx.xkey].values, df[idx.ykey].values]))\n",
    "    return bools\n",
    "        \n",
    "\n",
    "def apply_scale(x):\n",
    "    ##remove nans \n",
    "    ##this is the same scaling used \n",
    "    ## same scaling used for \n",
    "    #replace nans\n",
    "    y=x\n",
    "    if np.isnan(y) or np.isinf(y) or abs(y) > 1e10:\n",
    "        y=-99\n",
    "    return y\n",
    "\n",
    "\n",
    "def select_by_random_forest(df):\n",
    "    #use the classification given by my rf classifier\n",
    "    \n",
    "    rf=rfdict['classifier']\n",
    "    #min_max_scaler=rfdict['sclr']\n",
    "    features=rfdict['feats']\n",
    "    \n",
    "    #apply logs to problematic features the same way I did on my classification\n",
    "    pred_df=df.copy()\n",
    "    \n",
    "    for c in features:\n",
    "        if c not in ['spt', 'f_test', 'x']:\n",
    "            pred_df.assign(c=np.log10(pred_df[c].apply(apply_scale)))\n",
    "        else:\n",
    "            pred_df.assign(c=pred_df[c].apply(apply_scale))\n",
    "            \n",
    "    pred_df[features]=pred_df[features].applymap(apply_scale)\n",
    "    #make predictions\n",
    "    probs=rf.predict_proba(pred_df[features].values)\n",
    "    \n",
    "    #use my selection probability cutoffs\n",
    "    #return the predictions\n",
    "    \n",
    "    labels=np.logical_or.reduce((probs[:, 2] > .8, probs[:,3] >.8 , probs[:,4] >0.85))\n",
    " \n",
    "    return labels\n",
    "\n",
    "\n",
    "\n",
    "def select_by_neuralnet(df):\n",
    "    #define features (start with indices alone)\n",
    "    #apply logs to problematic features the same way I did on my classification\n",
    "    features=rfdict['feats']\n",
    "    \n",
    "    pred_df=df.copy()\n",
    "    \n",
    "    for c in features:\n",
    "        if c not in ['spt']:\n",
    "            pred_df.assign(c=np.log10(pred_df[c].apply(apply_scale)))\n",
    "        else:\n",
    "            pred_df.assign(c=pred_df[c].apply(apply_scale))\n",
    "            \n",
    "    pred_df[features]=pred_df[features].applymap(apply_scale)\n",
    "    probs= neural_network.predict(  pred_df[features].values)\n",
    "    \n",
    "    #my cuts\n",
    "    labels=np.logical_or.reduce((probs[:, 2] > .95, probs[:,3] >.95 , probs[:,4] >0.8))\n",
    "    #labels=probs[:,0] <0.5\n",
    " \n",
    "    return labels\n"
   ]
  },
  {
   "cell_type": "code",
   "execution_count": 16,
   "metadata": {},
   "outputs": [
    {
     "name": "stdout",
     "output_type": "stream",
     "text": [
      "M7-L0\n",
      "L0-L5\n",
      "L5-T0\n",
      "T0-T5\n",
      "T5-T9\n",
      "Y dwarfs\n",
      "subdwarfs\n"
     ]
    }
   ],
   "source": [
    "df=wisps.Annotator.reformat_table(sampled_data)\n",
    "#indices\n",
    "for idxk, k in indices_to_use:\n",
    "    idx=slc_crts[idxk]\n",
    "    df['selected_by_{}'.format(k)]= select_by_indices(df, idx, k)"
   ]
  },
  {
   "cell_type": "code",
   "execution_count": 27,
   "metadata": {},
   "outputs": [
    {
     "data": {
      "text/plain": [
       "array(['M7-L0', 'L0-L5', 'L5-T0', 'T0-T5', 'T5-T9', 'Y dwarfs',\n",
       "       'subdwarfs'], dtype='<U34')"
      ]
     },
     "execution_count": 27,
     "metadata": {},
     "output_type": "execute_result"
    }
   ],
   "source": []
  },
  {
   "cell_type": "code",
   "execution_count": 18,
   "metadata": {},
   "outputs": [],
   "source": [
    "df['x']=df.spex_chi/df.line_chi\n",
    "df['f_test']= f_test_fx(df.x, df.dof-2, df.dof-2)"
   ]
  },
  {
   "cell_type": "code",
   "execution_count": 19,
   "metadata": {},
   "outputs": [
    {
     "data": {
      "text/plain": [
       "[<matplotlib.lines.Line2D at 0x16329e520>]"
      ]
     },
     "execution_count": 19,
     "metadata": {},
     "output_type": "execute_result"
    },
    {
     "data": {
      "image/png": "[encoded data removed]",
      "text/plain": [
       "<Figure size 432x288 with 1 Axes>"
      ]
     },
     "metadata": {
      "needs_background": "light"
     },
     "output_type": "display_data"
    }
   ],
   "source": [
    "plt.plot(df.spex_chi/df.line_chi, df.f_test, '.')"
   ]
  },
  {
   "cell_type": "code",
   "execution_count": 20,
   "metadata": {},
   "outputs": [],
   "source": [
    "df['f_test_label']=np.logical_and.reduce([df.f_test<0.02, df.x <0.5, df.snr1>=3.])"
   ]
  },
  {
   "cell_type": "code",
   "execution_count": 21,
   "metadata": {},
   "outputs": [],
   "source": [
    "#select by indices before putting on a log-scale"
   ]
  },
  {
   "cell_type": "code",
   "execution_count": 57,
   "metadata": {},
   "outputs": [],
   "source": [
    "#machine learning\n",
    "df['rf_label']=select_by_random_forest(wisps.Annotator.reformat_table(df))\n",
    "df['neural_net_label']=select_by_neuralnet(wisps.Annotator.reformat_table(df))\n",
    "\n",
    "df['rf_label']=np.logical_and(df['rf_label'], df.snr1>=3. ).apply(int)\n",
    "df['neural_net_label']=np.logical_and(df['neural_net_label'], df.snr1>=3. ).apply(int)"
   ]
  },
  {
   "cell_type": "code",
   "execution_count": 58,
   "metadata": {},
   "outputs": [],
   "source": [
    "#indices and total\n",
    "df.f_test_label=(df['f_test_label']).apply(int)\n",
    "\n",
    "df['index_label']=np.logical_or.reduce([df['selected_by_{}'.format(x)].values for x in  np.vstack(indices_to_use)[:,1]]).astype(int)\n",
    "df['idx_ft_label']=np.logical_and(df['index_label'].apply(bool), df['f_test_label'].apply(bool) ).apply(int)\n",
    "\n",
    "\n",
    "df['tot_label']=np.logical_or.reduce((df['idx_ft_label'].apply(bool), df['rf_label'].apply(bool), df['neural_net_label'].apply(bool)))\n",
    "df.tot_label=np.logical_and(df.tot_label.values, (df.snr1>=3.).values).astype(int)\n",
    "\n",
    "#put things on log-scale\n",
    "df['logsnr']=df['snr1'].apply(np.log10)"
   ]
  },
  {
   "cell_type": "code",
   "execution_count": 49,
   "metadata": {},
   "outputs": [],
   "source": [
    "import seaborn as sns"
   ]
  },
  {
   "cell_type": "code",
   "execution_count": 52,
   "metadata": {},
   "outputs": [
    {
     "ename": "TypeError",
     "evalue": "color_palette() got an unexpected keyword argument 'as_cmap'",
     "output_type": "error",
     "traceback": [
      "\u001b[0;31m---------------------------------------------------------------------------\u001b[0m",
      "\u001b[0;31mTypeError\u001b[0m                                 Traceback (most recent call last)",
      "\u001b[0;32m<ipython-input-52-c48d99916707>\u001b[0m in \u001b[0;36m<module>\u001b[0;34m\u001b[0m\n\u001b[0;32m----> 1\u001b[0;31m \u001b[0mcmap\u001b[0m\u001b[0;34m=\u001b[0m\u001b[0msns\u001b[0m\u001b[0;34m.\u001b[0m\u001b[0mcolor_palette\u001b[0m\u001b[0;34m(\u001b[0m\u001b[0;34m\"cubehelix\"\u001b[0m\u001b[0;34m,\u001b[0m \u001b[0mas_cmap\u001b[0m\u001b[0;34m=\u001b[0m\u001b[0;32mTrue\u001b[0m\u001b[0;34m)\u001b[0m\u001b[0;34m\u001b[0m\u001b[0;34m\u001b[0m\u001b[0m\n\u001b[0m",
      "\u001b[0;31mTypeError\u001b[0m: color_palette() got an unexpected keyword argument 'as_cmap'"
     ]
    }
   ],
   "source": [
    "cmap=sns.color_palette(\"cubehelix\", as_cmap=True)"
   ]
  },
  {
   "cell_type": "code",
   "execution_count": 59,
   "metadata": {},
   "outputs": [
    {
     "data": {
      "image/png": "[encoded data removed]",
      "text/plain": [
       "<Figure size 648x432 with 8 Axes>"
      ]
     },
     "metadata": {
      "needs_background": "light"
     },
     "output_type": "display_data"
    }
   ],
   "source": [
    "fig, ax=plt.subplots(ncols=2, nrows=2, figsize=(6*1.5, 4*1.5), sharex=False, sharey=True)\n",
    "df.plot.hexbin(x='logsnr', y='spt', C='idx_ft_label', reduce_C_function=np.nanmean, gridsize=23, cmap=cmap, ax=ax[0][0])\n",
    "df.plot.hexbin(x='logsnr', y='spt', C='rf_label', reduce_C_function=np.nanmean, gridsize=23, cmap=cmap, ax=ax[0][1])\n",
    "df.plot.hexbin(x='logsnr', y='spt', C='neural_net_label', reduce_C_function=np.nanmean, gridsize=23, cmap=cmap, ax=ax[1][0])\n",
    "df.plot.hexbin(x='logsnr', y='spt', C='tot_label', reduce_C_function=np.nanmean, gridsize=23, cmap=cmap, ax=ax[1][1])\n",
    "\n",
    "#ax[0][0].scatter( sf.data.snr1.apply(np.log10), sf.data.spt, marker='+', color='#111111', alpha=.05)\n",
    "\n",
    "\n",
    "ax[0][0].set_title('Indices, F-test ', fontsize=18)\n",
    "ax[0][1].set_title('Random Forest', fontsize=18)\n",
    "ax[1][0].set_title('Neural Network', fontsize=18)\n",
    "ax[1][1].set_title('Total (or) ', fontsize=18)\n",
    "\n",
    "for a in np.concatenate(ax):\n",
    "    a.set_xlabel('Log SNR-J', fontsize=18)\n",
    "    a.set_ylabel('SpT', fontsize=18)\n",
    "    a.axvline(np.log10(3), linestyle='--', color='#111111')\n",
    "    \n",
    "\n",
    "    a.tick_params(which='major',direction='inout')\n",
    "    a.tick_params(which='minor',direction='inout')\n",
    "    \n",
    "    a.minorticks_on()\n",
    "    a.set_yticks(np.arange(17, 42),  minor=True)\n",
    "    a.set_yticks([17, 20, 25, 30, 35, 40], minor=False)\n",
    "    a.set_yticklabels(['M7', 'L0', 'L5', 'T0', 'T5', 'Y0'], minor=False)\n",
    "    a.set_xlim([0., 2.3])\n",
    "    #a.set_ylim([17., 42.])\n",
    "    \n",
    "plt.tight_layout()\n",
    "\n",
    "\n",
    "plt.savefig(wisps.OUTPUT_FIGURES+'/selection_function_samples.pdf', bbox_inches='tight', dpi=200)"
   ]
  },
  {
   "cell_type": "code",
   "execution_count": 33,
   "metadata": {},
   "outputs": [],
   "source": [
    "#save partial of the data to use for my selection function calculations\n",
    "df2=(df[['logsnr', 'tot_label', 'spt']])"
   ]
  },
  {
   "cell_type": "code",
   "execution_count": 54,
   "metadata": {},
   "outputs": [],
   "source": [
    "df2.to_pickle(wisps.OUTPUT_FILES+'/selection_function_lookup_table.pkl')"
   ]
  },
  {
   "cell_type": "code",
   "execution_count": null,
   "metadata": {},
   "outputs": [],
   "source": [
    "fig, ax=plt.subplots(ncols=3, nrows=2, figsize=(8*1.5, 4*1.5), sharex=False, sharey=True)\n",
    "\n",
    "for a, grp in zip(np.concatenate(ax), indices_to_use.values() ):\n",
    "    c=a.scatter(df.spt, df.logsnr, c=df['selected_by_{}'.format(grp)], s=1., cmap='viridis')\n",
    "    \n",
    "    a.set_title(grp, fontsize=18)\n",
    "\n",
    "    #a.set_xlabel('Log SNR-J', fontsize=18)\n",
    "    #a.set_ylabel('SpT', fontsize=18)\n",
    "    a.set_ylim([-1.5, 2.5])\n",
    "\n",
    "#plt.colorbar(c)\n",
    "    \n",
    "plt.tight_layout()"
   ]
  },
  {
   "cell_type": "code",
   "execution_count": null,
   "metadata": {},
   "outputs": [],
   "source": [
    "spex=wisps.datasets['spex']\n",
    "spex=wisps.Annotator.reformat_table(spex)"
   ]
  },
  {
   "cell_type": "code",
   "execution_count": null,
   "metadata": {},
   "outputs": [],
   "source": [
    "inv_indices_to_use={v: k for k, v in indices_to_use.items()}"
   ]
  },
  {
   "cell_type": "code",
   "execution_count": null,
   "metadata": {},
   "outputs": [],
   "source": [
    "inv_indices_to_use"
   ]
  },
  {
   "cell_type": "code",
   "execution_count": null,
   "metadata": {},
   "outputs": [],
   "source": [
    "df=wisps.Annotator.reformat_table(df)\n",
    "tpls=wisps.Annotator.reformat_table(wisps.datasets['spex'])"
   ]
  },
  {
   "cell_type": "code",
   "execution_count": null,
   "metadata": {},
   "outputs": [],
   "source": [
    "fig, ax=plt.subplots(ncols=3, nrows=2, figsize=(8*1.5, 4*1.5), sharex=False, sharey=True)\n",
    "\n",
    "for a, grp in zip(np.concatenate(ax), indices_to_use.values() ):\n",
    "    \n",
    "    bx=None\n",
    "    bs=None\n",
    "\n",
    "    idx_label=inv_indices_to_use[grp]\n",
    "    \n",
    "    idx=slc_crts[idx_label]\n",
    "    \n",
    "    bs=idx.shapes\n",
    "    bx=[x for x in bs if x.shape_name==grp][0]\n",
    "    \n",
    "   \n",
    "    c=a.scatter(spex[idx.xkey], spex[idx.ykey], s=100., c='r')\n",
    "    c=a.scatter(df[idx.xkey], df[idx.ykey], c=df['selected_by_{}'.format(grp)], s=1., cmap='viridis')\n",
    "    \n",
    "    bx.plot(ax=a,  only_shape=True, highlight=True)\n",
    "    \n",
    "    a.set_title(grp, fontsize=18)\n",
    "\n",
    "    a.set_xlim([ bx.xrange[0]-1.5*abs(np.ptp(bx.xrange)), bx.xrange[1]+1.5*abs(np.ptp(bx.xrange))])\n",
    "    a.set_ylim([ bx.yrange[0]-1.5*abs(np.ptp(bx.yrange)), bx.yrange[1]+1.5*abs(np.ptp(bx.yrange))])\n",
    "\n",
    "    #a.set_xlabel('Log SNR-J', fontsize=18)\n",
    "\n",
    "\n",
    "#plt.colorbar(c)\n",
    "    \n",
    "plt.tight_layout()"
   ]
  },
  {
   "cell_type": "code",
   "execution_count": null,
   "metadata": {},
   "outputs": [],
   "source": []
  },
  {
   "cell_type": "code",
   "execution_count": null,
   "metadata": {},
   "outputs": [],
   "source": [
    "np.array(nbrs['baraffe2003']).shape"
   ]
  },
  {
   "cell_type": "code",
   "execution_count": null,
   "metadata": {},
   "outputs": [],
   "source": []
  }
 ],
 "metadata": {
  "kernelspec": {
   "display_name": "Python 3",
   "language": "python",
   "name": "python3"
  },
  "language_info": {
   "codemirror_mode": {
    "name": "ipython",
    "version": 3
   },
   "file_extension": ".py",
   "mimetype": "text/x-python",
   "name": "python",
   "nbconvert_exporter": "python",
   "pygments_lexer": "ipython3",
   "version": "3.8.3"
  }
 },
 "nbformat": 4,
 "nbformat_minor": 4
}
