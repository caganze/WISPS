{
 "cells": [
  {
   "cell_type": "code",
   "execution_count": 83,
   "metadata": {},
   "outputs": [],
   "source": [
    "import splat\n",
    "import wisps\n",
    "import matplotlib.pyplot as plt\n",
    "from wisps.data_analysis import selection_criteria as sel_crt\n",
    "from wisps.simulations import selection_function as slf\n",
    "import numpy as np\n",
    "import pandas as pd\n",
    "\n",
    "import numba\n",
    "import matplotlib as mpl\n",
    "\n",
    "mpl.rcParams['grid.color'] = 'k'\n",
    "mpl.rcParams['grid.linestyle'] = '--'\n",
    "mpl.rcParams['grid.linewidth'] = 0.1\n",
    "mpl.rcParams['figure.figsize'] = [8.0, 6.0]\n",
    "mpl.rcParams['figure.dpi'] = 80\n",
    "mpl.rcParams['savefig.dpi'] = 100\n",
    "mpl.rcParams['font.size'] = 18\n",
    "mpl.rcParams['legend.fontsize'] = 'large'\n",
    "mpl.rcParams['figure.titlesize'] = 'large'\n",
    "\n",
    "%matplotlib inline\n",
    "#%%capture  output\n",
    "import splat\n",
    "import itertools\n",
    "from tqdm import tqdm\n",
    "from numba import cuda"
   ]
  },
  {
   "cell_type": "code",
   "execution_count": 84,
   "metadata": {},
   "outputs": [],
   "source": [
    "sf=pd.read_pickle(wisps.OUTPUT_FILES+'/selection_function.pkl') #the simulated spectral data\n",
    "rf=pd.read_pickle(wisps.OUTPUT_FILES+'/random_forest_classifier.pkl') #the classifier \n",
    "min_max_scaler= pd.read_pickle(wisps.OUTPUT_FILES+'/min_max_scaler.pkl')#the min max scaler used to transform the data\n",
    "indices_to_use= pd.read_pickle(wisps.OUTPUT_FILES+'/best_indices_to_use.pkl')"
   ]
  },
  {
   "cell_type": "code",
   "execution_count": 85,
   "metadata": {},
   "outputs": [],
   "source": [
    "mask=sf.data.snr1.apply(np.log10).between(-1, 3.5)"
   ]
  },
  {
   "cell_type": "code",
   "execution_count": 86,
   "metadata": {},
   "outputs": [],
   "source": [
    "#simulated_data"
   ]
  },
  {
   "cell_type": "code",
   "execution_count": 87,
   "metadata": {},
   "outputs": [],
   "source": [
    "#simulated_data.snr1.min(), simulated_data.snr1.max()"
   ]
  },
  {
   "cell_type": "code",
   "execution_count": 88,
   "metadata": {},
   "outputs": [],
   "source": [
    "simulated_data=sf.data[mask]"
   ]
  },
  {
   "cell_type": "code",
   "execution_count": 89,
   "metadata": {},
   "outputs": [],
   "source": [
    "def get_weight(spt):\n",
    "    number=len(sf.data[sf.data.spt==spt])\n",
    "    return 1/(number)"
   ]
  },
  {
   "cell_type": "code",
   "execution_count": 90,
   "metadata": {},
   "outputs": [],
   "source": [
    "simulated_data['weight']=simulated_data.spt.apply(get_weight)"
   ]
  },
  {
   "cell_type": "code",
   "execution_count": 91,
   "metadata": {},
   "outputs": [],
   "source": [
    "sampled_data=simulated_data.sample(n=10000, weights='weight').reset_index(drop=True)"
   ]
  },
  {
   "cell_type": "code",
   "execution_count": 92,
   "metadata": {},
   "outputs": [],
   "source": [
    "from scipy import stats\n",
    "def f_test_comp(x):\n",
    "    return stats.f.cdf(x, 2, 1, 0, scale=1)\n",
    "sampled_data['f_test_cdf']=(sampled_data.spex_chi/sampled_data.line_chi).apply(f_test_comp)"
   ]
  },
  {
   "cell_type": "code",
   "execution_count": 93,
   "metadata": {},
   "outputs": [
    {
     "data": {
      "text/plain": [
       "<matplotlib.collections.PathCollection at 0x1c35fc43c8>"
      ]
     },
     "execution_count": 93,
     "metadata": {},
     "output_type": "execute_result"
    },
    {
     "data": {
      "image/png": "[encoded data removed]",
      "text/plain": [
       "<Figure size 480x240 with 1 Axes>"
      ]
     },
     "metadata": {},
     "output_type": "display_data"
    }
   ],
   "source": [
    "plt.scatter(sampled_data.snr1.apply(np.log10), sampled_data.spt, marker='+', s=15)"
   ]
  },
  {
   "cell_type": "code",
   "execution_count": 94,
   "metadata": {},
   "outputs": [],
   "source": [
    "#selection criteria\n",
    "slc_crts=sel_crt.crts_from_file()"
   ]
  },
  {
   "cell_type": "code",
   "execution_count": 95,
   "metadata": {},
   "outputs": [],
   "source": [
    "rf_features=['CH_4/H-Cont', 'CH_4/H_2O-1', 'CH_4/H_2O-2', 'CH_4/J-Cont',\n",
    "       'H-cont/H_2O-1', 'H-cont/H_2O-2', 'H-cont/J-Cont', 'H_2O-1/J-Cont',\n",
    "       'H_2O-2/H_2O-1', 'H_2O-2/J-Cont',  'spex_chi', 'snr2', 'snr1',\n",
    "       'line_chi', 'f_test', 'x', 'spt']\n",
    "#features used by the classifier"
   ]
  },
  {
   "cell_type": "markdown",
   "metadata": {},
   "source": [
    "#### Define a bunch of selection processes"
   ]
  },
  {
   "cell_type": "code",
   "execution_count": 96,
   "metadata": {},
   "outputs": [],
   "source": [
    "#define a number of selectors \n",
    "#each selection should a column of zeros and ones corresponding\n",
    "#to where objects were selected\n",
    "#each selector input is the simulated df\n",
    "def select_by_indices(df):\n",
    "    #use spectral indices\n",
    "    good_indices=[slc_crts[k] for k in indices_to_use.keys()]\n",
    "    cands=[]\n",
    "    for idx, k in zip(good_indices, indices_to_use.keys()):\n",
    "        spt_range=indices_to_use[k]\n",
    "        print (spt_range)\n",
    "        bs=idx.shapes\n",
    "        bx=[x for x in bs if x.shape_name==spt_range][0]\n",
    "        df_to_use=wisps.Annotator.reformat_table(df[[idx.xkey, idx.ykey]])\n",
    "        selec_indx_array=bx.select(df_to_use).index\n",
    "        ls=df.iloc[selec_indx_array].Names\n",
    "        cands.append(ls)\n",
    "    \n",
    "    merged = np.array(list(itertools.chain(*cands)))\n",
    "    final_cands=np.unique(merged.flatten())\n",
    "    return (df.Names.isin(final_cands))\n",
    "\n",
    "def select_by_f_test(df):\n",
    "    return df['f_test_cdf']<.35\n",
    "    \n",
    "def select_by_random_forest(df):\n",
    "    #use the classification given by my rf classifier\n",
    "    prblm_feats=['line_chi', 'spex_chi', 'H_2O-2/J-Cont', 'H-cont/J-Cont', 'H_2O-1/J-Cont', 'H-cont/H_2O-1', 'snr2', 'x']\n",
    "    \n",
    "    #apply logs to problematic features the same way I did on my classification\n",
    "    df[prblm_feats]=df[prblm_feats].applymap(np.log10).replace(np.inf, np.nan).replace(-np.inf, np.nan).replace(np.nan, -999999.9)\n",
    "    \n",
    "    #scale the features \n",
    "    x=df[rf_features].replace(-np.inf, np.nan).replace(np.nan,  -999999.9).values\n",
    "    \n",
    "    #check for 15 columns\n",
    "    print (x.shape)\n",
    "    pred_set=min_max_scaler.transform(x)\n",
    "    labels=rf.predict(pred_set)\n",
    "    \n",
    "    #return the predictions\n",
    "    return labels\n",
    "\n",
    "def select_by_snr(df):\n",
    "    #use snr cutoff\n",
    "    pass\n",
    "\n",
    "\n",
    "#@numba.jit(parallel=True, cache=True)\n",
    "def probability_of_selection(vals, method='f_test_label'):\n",
    "    \"\"\"\n",
    "    probablity of selection for a given snr and spt\n",
    "    \"\"\"\n",
    "    spt, snr=vals\n",
    "    #self.data['spt']=self.data.spt.apply(splat.typeToNum)\n",
    "    floor=np.floor(spt)\n",
    "    floor2=np.log10(np.floor(snr))\n",
    "    if floor2 < np.log10(3.):\n",
    "        return 0.\n",
    "    else:\n",
    "        return np.nanmean(df[method][(df.spt==floor) &(df.snr1.apply(np.log10).between(floor2, floor2+.3))])\n",
    "\n",
    "@numba.vectorize(['float32(float32, float32)','float64(float64, float64)'])\n",
    "def selection_function(spt, snr):\n",
    "    return  probability_of_selection((spt, snr))"
   ]
  },
  {
   "cell_type": "markdown",
   "metadata": {},
   "source": [
    "#### Add missing features to the data"
   ]
  },
  {
   "cell_type": "code",
   "execution_count": 97,
   "metadata": {},
   "outputs": [],
   "source": [
    "@numba.vectorize\n",
    "def proper_motion(vt, d):\n",
    "    \"\"\"\n",
    "    mu in arcsec/y\n",
    "    d in pc\n",
    "    vt in\n",
    "    \"\"\"\n",
    "    return vt/(4.74*d)\n",
    "\n",
    "@numba.vectorize(\"float64(float64)\")\n",
    "def probability_of_detection_smearing(mu):\n",
    "    if mu*3>0.1:\n",
    "        return 1.\n",
    "    else:\n",
    "        return 0.0"
   ]
  },
  {
   "cell_type": "code",
   "execution_count": 98,
   "metadata": {},
   "outputs": [],
   "source": [
    "#probability_of_detection_smearing(np.nan)"
   ]
  },
  {
   "cell_type": "code",
   "execution_count": 99,
   "metadata": {},
   "outputs": [],
   "source": [
    "sampled_data=sampled_data.rename(columns={\"f\":\"f_test\"})"
   ]
  },
  {
   "cell_type": "code",
   "execution_count": 100,
   "metadata": {},
   "outputs": [],
   "source": [
    "sampled_data['x']=sampled_data.spex_chi/sampled_data.line_chi"
   ]
  },
  {
   "cell_type": "code",
   "execution_count": 101,
   "metadata": {},
   "outputs": [],
   "source": [
    "df=sampled_data"
   ]
  },
  {
   "cell_type": "code",
   "execution_count": 102,
   "metadata": {},
   "outputs": [],
   "source": [
    "df['f_test_label']=select_by_f_test(df).apply(int)"
   ]
  },
  {
   "cell_type": "code",
   "execution_count": 103,
   "metadata": {},
   "outputs": [
    {
     "name": "stdout",
     "output_type": "stream",
     "text": [
      "(10000, 17)\n"
     ]
    }
   ],
   "source": [
    "df['rf_label']=select_by_random_forest(wisps.Annotator.reformat_table(df))"
   ]
  },
  {
   "cell_type": "code",
   "execution_count": 104,
   "metadata": {},
   "outputs": [
    {
     "name": "stdout",
     "output_type": "stream",
     "text": [
      "L0-L5\n",
      "L5-T0\n",
      "M7-L0\n",
      "T0-T5\n",
      "T5-T9\n",
      "Y dwarfs\n"
     ]
    }
   ],
   "source": [
    "df['index_label']=select_by_indices(df).apply(int)"
   ]
  },
  {
   "cell_type": "code",
   "execution_count": 105,
   "metadata": {},
   "outputs": [],
   "source": [
    "df['idx_ft_label']=np.logical_and(df['index_label'].apply(bool), df['f_test_label'].apply(bool) ).apply(int)"
   ]
  },
  {
   "cell_type": "code",
   "execution_count": 106,
   "metadata": {},
   "outputs": [],
   "source": [
    "df['idx_ml_label']=np.logical_and(df['index_label'].apply(bool), df['rf_label'].apply(bool) ).apply(int)"
   ]
  },
  {
   "cell_type": "code",
   "execution_count": 107,
   "metadata": {},
   "outputs": [],
   "source": [
    "import seaborn as sns \n",
    "cmap=sns.light_palette((210, 90, 60), input=\"husl\", as_cmap=True)"
   ]
  },
  {
   "cell_type": "code",
   "execution_count": 108,
   "metadata": {},
   "outputs": [],
   "source": [
    "df['logsnr']=df['snr2'].apply(np.log10)"
   ]
  },
  {
   "cell_type": "code",
   "execution_count": 109,
   "metadata": {},
   "outputs": [],
   "source": [
    "from matplotlib.ticker import MultipleLocator"
   ]
  },
  {
   "cell_type": "code",
   "execution_count": 110,
   "metadata": {},
   "outputs": [],
   "source": [
    "df2=pd.DataFrame()\n",
    "snrs=df.snr1.values\n",
    "spts=df.spt.values\n",
    "df2['snr']=snrs\n",
    "df2['spt']=spts\n",
    "df2['f_test_label']=selection_function(spts, snrs)\n",
    "df2['rf_label']=df2[['spt', 'snr']].apply(probability_of_selection, axis=1, method='rf_label')\n",
    "df2['index_label']=df2[['spt', 'snr']].apply(probability_of_selection, axis=1, method='index_label')"
   ]
  },
  {
   "cell_type": "code",
   "execution_count": 111,
   "metadata": {},
   "outputs": [],
   "source": [
    "df2['idx_ft_label']=df2[['spt', 'snr']].apply(probability_of_selection, axis=1, method='idx_ft_label')"
   ]
  },
  {
   "cell_type": "code",
   "execution_count": 112,
   "metadata": {},
   "outputs": [],
   "source": [
    "df2['logsnr']=df2.snr.apply(np.log10)"
   ]
  },
  {
   "cell_type": "code",
   "execution_count": 113,
   "metadata": {},
   "outputs": [
    {
     "data": {
      "image/png": "[encoded data removed]",
      "text/plain": [
       "<Figure size 720x480 with 8 Axes>"
      ]
     },
     "metadata": {},
     "output_type": "display_data"
    }
   ],
   "source": [
    "fig, ax=plt.subplots(ncols=2, nrows=2, figsize=(6*1.5, 4*1.5), sharex=False, sharey=True)\n",
    "df2.plot.hexbin(x='logsnr', y='spt', C='f_test_label', reduce_C_function=np.nanmean, gridsize=15, cmap=cmap, ax=ax[0][0])\n",
    "df2.plot.hexbin(x='logsnr', y='spt', C='rf_label', reduce_C_function=np.nanmean, gridsize=15, cmap=cmap, ax=ax[0][1])\n",
    "\n",
    "df2.plot.hexbin(x='logsnr', y='spt', C='index_label', reduce_C_function=np.nanmean, gridsize=15, cmap=cmap, ax=ax[1][0])\n",
    "df2.plot.hexbin(x='logsnr', y='spt', C='idx_ft_label', reduce_C_function=np.nanmean, gridsize=15, cmap=cmap, ax=ax[1][1])\n",
    "\n",
    "#ax[0][0].scatter( sf.data.snr1.apply(np.log10), sf.data.spt, marker='+', color='#111111', alpha=.05)\n",
    "\n",
    "\n",
    "ax[0][0].set_title('F-test')\n",
    "ax[0][1].set_title('RF')\n",
    "ax[1][0].set_title('Indices')\n",
    "ax[1][1].set_title('Indices and F-test')\n",
    "\n",
    "for a in np.concatenate(ax):\n",
    "    a.set_xlabel('log SNR')\n",
    "    a.set_ylabel('SpT')\n",
    "    a.axvline(np.log10(3), linestyle='--', color='#111111')\n",
    "    #a.axvline(np.log10(10), linestyle='--', color='#111111', alpha=0.5)\n",
    "    #a.grid()\n",
    "    a.yaxis.set_ticks_position('both')\n",
    "    a.xaxis.set_ticks_position('both')\n",
    "    #a.set_yticks(np.arange(20, 40, 1), minor=True)\n",
    "    a.tick_params(which='major',direction='inout')\n",
    "    a.tick_params(which='minor', direction='in')\n",
    "    ml = MultipleLocator(1.)\n",
    "    a.yaxis.set_minor_locator(ml)\n",
    "    \n",
    "    a.set_xlim([0., 2.])\n",
    "    \n",
    "plt.tight_layout()\n",
    "\n",
    "#fig.axes[3].set_title(r'$\\mathcal{S}$')\n",
    "#fig.axes[2].set_title(r'$\\mathcal{S}$')\n",
    "\n",
    "plt.savefig(wisps.OUTPUT_FIGURES+'/selection_function_samples.pdf', bbox_inches='tight', dpi=200)"
   ]
  },
  {
   "cell_type": "code",
   "execution_count": 114,
   "metadata": {},
   "outputs": [
    {
     "name": "stdout",
     "output_type": "stream",
     "text": [
      "20 8400\n",
      "21 8700\n",
      "22 6300\n",
      "23 4900\n",
      "24 4700\n",
      "25 8200\n",
      "26 21600\n",
      "27 17900\n",
      "28 4400\n",
      "29 5200\n",
      "30 3300\n",
      "31 2300\n",
      "32 3600\n",
      "33 3800\n",
      "34 5600\n",
      "35 8000\n",
      "36 4500\n",
      "37 700\n",
      "38 300\n",
      "39 0\n"
     ]
    }
   ],
   "source": [
    "#ranges=np.arange(20, 40), np.arange(20, 40)]\n",
    "for x in np.arange(20, 40):\n",
    "    print (x, len(sf.data[sf.data.spt.between(x, x+1)]))"
   ]
  },
  {
   "cell_type": "markdown",
   "metadata": {},
   "source": [
    "### Apply these to the simulations"
   ]
  },
  {
   "cell_type": "markdown",
   "metadata": {},
   "source": [
    "Assign distances, see which objects get selected"
   ]
  },
  {
   "cell_type": "code",
   "execution_count": 115,
   "metadata": {},
   "outputs": [],
   "source": [
    "import wisps.simulations as wispsim"
   ]
  },
  {
   "cell_type": "code",
   "execution_count": 116,
   "metadata": {},
   "outputs": [],
   "source": [
    "#selection_function(20.0, 21.)"
   ]
  },
  {
   "cell_type": "code",
   "execution_count": 117,
   "metadata": {},
   "outputs": [],
   "source": [
    "LF=wisps.LUMINOSITY_FUCTION\n",
    "LFDES=wisps.DES_LUMINOSITY_FUCTION\n",
    "MAGLIMITS=wisps.MAG_LIMITS\n",
    "PNTS=wisps.OBSERVED_POINTINGS\n",
    "CANDS=wisps.datasets['candidates']\n",
    "DIST_DATAFRAME=pd.DataFrame.from_records([x.samples for x in wisps.OBSERVED_POINTINGS])\n",
    "SIMULATED_DIST=wispsim.simulate_spts()"
   ]
  },
  {
   "cell_type": "code",
   "execution_count": 118,
   "metadata": {},
   "outputs": [],
   "source": [
    "spgrid=np.arange(20., 37.)"
   ]
  },
  {
   "cell_type": "code",
   "execution_count": 119,
   "metadata": {},
   "outputs": [],
   "source": [
    "vols=[]\n",
    "for spt in spgrid:\n",
    "    vm=[]\n",
    "    for pntg in PNTS:\n",
    "        vm.append(pntg.volume[spt])\n",
    "    vols.append(vm)"
   ]
  },
  {
   "cell_type": "code",
   "execution_count": 120,
   "metadata": {},
   "outputs": [],
   "source": [
    "vols=np.array(vols)"
   ]
  },
  {
   "cell_type": "code",
   "execution_count": 121,
   "metadata": {},
   "outputs": [],
   "source": [
    "import astropy.units as u"
   ]
  },
  {
   "cell_type": "code",
   "execution_count": 122,
   "metadata": {},
   "outputs": [],
   "source": [
    "volumes=np.nansum(vols, axis=1)*(4.1*(u.arcmin**2).to(u.radian**2))"
   ]
  },
  {
   "cell_type": "code",
   "execution_count": 123,
   "metadata": {},
   "outputs": [],
   "source": [
    "def drop_nan(x):\n",
    "    x=np.array(x)\n",
    "    return x[(~np.isnan(x)) & (~np.isinf(x)) ]"
   ]
  },
  {
   "cell_type": "code",
   "execution_count": 124,
   "metadata": {},
   "outputs": [],
   "source": [
    "def interpolated_lf(spts, lumin):\n",
    "    f = interp1d(spts, lumin)\n",
    "    return f(spgrid)"
   ]
  },
  {
   "cell_type": "code",
   "execution_count": 125,
   "metadata": {},
   "outputs": [],
   "source": [
    "import random"
   ]
  },
  {
   "cell_type": "code",
   "execution_count": 126,
   "metadata": {},
   "outputs": [],
   "source": [
    "#bayesian distances\n",
    "BAYESIAN_TRACES=pd.read_pickle(wisps.OUTPUT_FILES+'/bayesian_pointings.pkl')"
   ]
  },
  {
   "cell_type": "code",
   "execution_count": 127,
   "metadata": {},
   "outputs": [],
   "source": [
    "BAYESIAN_DISTANCES=dict(zip(spgrid, [tr['d'] for tr in BAYESIAN_TRACES]))"
   ]
  },
  {
   "cell_type": "code",
   "execution_count": 128,
   "metadata": {},
   "outputs": [],
   "source": [
    "#"
   ]
  },
  {
   "cell_type": "code",
   "execution_count": 129,
   "metadata": {},
   "outputs": [],
   "source": [
    "def compute_effective_numbers(spts,spgrid):\n",
    "    ##given a distribution of masses, ages, teffss\n",
    "    ## based on my polynomial relations and my own selection function\n",
    "    @numba.vectorize(\"float64(float64)\")\n",
    "    def match_dist_to_spt(spt):\n",
    "        \"\"\"\n",
    "        one to one matching between distance and spt\n",
    "        to avoid all sorts of interpolations or binning\n",
    "        \"\"\"\n",
    "        #round spt to nearets\n",
    "        spt_r=np.floor(spt)\n",
    "        #if spt_r in DIST_DATAFRAME.columns:\n",
    "        if spt_r in spgrid:\n",
    "            #ds=np.concatenate(DIST_DATAFRAME[spt_r])\n",
    "            ds=BAYESIAN_DISTANCES[spt_r]\n",
    "            rdn=random.choice(ds)\n",
    "        else:\n",
    "            rdn=np.nan\n",
    "        \n",
    "        return rdn\n",
    "\n",
    "        \n",
    "    #polynomial relations\n",
    "    rels=wisps.POLYNOMIAL_RELATIONS\n",
    "    #effective volumes\n",
    "    #assign distances\n",
    "    dists_for_spts=match_dist_to_spt(spts)\n",
    "    #compute magnitudes absolute mags\n",
    "    f110s= rels['sp_F110W'](spts)\n",
    "    f140s= rels['sp_F140W'](spts)\n",
    "    f160s= rels['sp_F160W'](spts)\n",
    "    #compute apparent magnitudes\n",
    "    appf140s=f140s+5*np.log10(dists_for_spts/10.0)\n",
    "    #compute snr based on my relations\n",
    "    #only use F140W for SNRJS\n",
    "    #offset them by the scatter in the relation\n",
    "    f140_snrj_scatter=rels['sigma_log_f140']\n",
    "    snrjs=10**np.random.normal(np.array(rels['snr_F140W'](appf140s)), f140_snrj_scatter)\n",
    "    #apply the selection function (this is the slow part)\n",
    "    sl= selection_function(spts, snrjs)\n",
    "    #the probabliy of smearing\n",
    "    #vts=np.random.uniform(0, 100, len(dists_for_spts))\n",
    "    #mus=proper_motion(vts, dists_for_spts)\n",
    "    #smearing_p=probability_of_detection_smearing(mus)\n",
    "\n",
    "    #group these by spt\n",
    "    df=pd.DataFrame()\n",
    "    df['spt']=spts\n",
    "    #df['ps_sme']=smearing_p*sl #selection probability including proper motion\n",
    "    df['ps']=sl\n",
    "    df['appF110']=appf140s\n",
    "    df['snr']=snrjs\n",
    "    #round the spt for groupings\n",
    "    df.spt=df.spt.apply(round)\n",
    "    \n",
    "    #make selection cuts \n",
    "    df_cut=df.drop(df[(df.appF110>MAGLIMITS['wisps']['F110W'][0]) & (df.appF110> MAGLIMITS['wisps']['F110W'][1]) & (df.snr > 3.0)].index)\n",
    "\n",
    "    #group by spt and sum\n",
    "    phi0=[]\n",
    "    phi0_spts=[]\n",
    "\n",
    "    for g in df_cut.groupby('spt'):\n",
    "        phi0_spts.append(g[0])\n",
    "        phi0.append(np.nansum(g[1].ps))\n",
    "\n",
    "    idx=[i for i, x in enumerate(phi0_spts) if x in spgrid]\n",
    "\n",
    "    #finally some luminosity function\n",
    "    phi=np.array(phi0)[idx]\n",
    "    #return all the data\n",
    "\n",
    "    return f110s, f140s, f160s, dists_for_spts, appf140s, snrjs, phi\n",
    "\n",
    "from scipy.interpolate import interp1d\n",
    "def interpolated_lf(spts, lumin):\n",
    "    f = interp1d(spts, lumin)\n",
    "    return f(spgrid)\n"
   ]
  },
  {
   "cell_type": "markdown",
   "metadata": {},
   "source": [
    "## compare simulations"
   ]
  },
  {
   "cell_type": "code",
   "execution_count": 130,
   "metadata": {},
   "outputs": [],
   "source": [
    "NORM=SIMULATED_DIST['norm']"
   ]
  },
  {
   "cell_type": "code",
   "execution_count": 131,
   "metadata": {},
   "outputs": [],
   "source": [
    "#import numpy as np"
   ]
  },
  {
   "cell_type": "code",
   "execution_count": 132,
   "metadata": {},
   "outputs": [],
   "source": [
    "#np.random.choice(np.arange(1000), 10)"
   ]
  },
  {
   "cell_type": "code",
   "execution_count": 133,
   "metadata": {},
   "outputs": [
    {
     "name": "stderr",
     "output_type": "stream",
     "text": [
      "100%|██████████| 3/3 [08:12<00:00, 170.17s/it]\n"
     ]
    }
   ],
   "source": [
    "f110s=[]\n",
    "f140s=[]\n",
    "f160s=[]\n",
    "dists=[]\n",
    "snrjs=[]\n",
    "phis=[]\n",
    "appf110s=[]\n",
    "for idx in tqdm(np.arange(3)):\n",
    "    spts=drop_nan(SIMULATED_DIST['spts'][idx][:,0])\n",
    "    f110, f140, f160, dists_for_spts, appf110, snrj, phi=compute_effective_numbers(spts,spgrid)\n",
    "    f110s.append(f110)\n",
    "    f140s.append(f140)\n",
    "    f160s.append(f160)\n",
    "    dists.append(dists_for_spts)\n",
    "    snrjs.append(snrj)\n",
    "\n",
    "    phis.append(phi)\n",
    "    appf110s.append(appf110)"
   ]
  },
  {
   "cell_type": "code",
   "execution_count": 134,
   "metadata": {},
   "outputs": [],
   "source": [
    "from matplotlib.ticker import MultipleLocator\n",
    "import seaborn as sns\n",
    "ml1 = MultipleLocator(1.)\n",
    "ml2 = MultipleLocator(10.)\n",
    "cmap = sns.cubehelix_palette(reverse=True, as_cmap=True)"
   ]
  },
  {
   "cell_type": "code",
   "execution_count": 135,
   "metadata": {},
   "outputs": [],
   "source": [
    "betas=SIMULATED_DIST['betas']"
   ]
  },
  {
   "cell_type": "code",
   "execution_count": 136,
   "metadata": {},
   "outputs": [],
   "source": [
    "colors=cmap(betas/10.0)"
   ]
  },
  {
   "cell_type": "code",
   "execution_count": 137,
   "metadata": {},
   "outputs": [],
   "source": [
    "#bin in orders of 5 spts\n",
    "def bin_by_spt_bin(sp_types, number):\n",
    "    ranges=[[20, 25], [25, 30], [30, 35], [35, 40]]\n",
    "    numbers=[]\n",
    "    for r in ranges:\n",
    "        idx= np.logical_and((r[0]<=sp_types), (r[1]>sp_types))\n",
    "        numbers.append(np.nansum(number[idx]))\n",
    "    return numbers"
   ]
  },
  {
   "cell_type": "code",
   "execution_count": 138,
   "metadata": {},
   "outputs": [],
   "source": [
    "spgrid2=[ 'L0-L5', 'L5-T0', 'T0-T5', 'T5-Y0']"
   ]
  },
  {
   "cell_type": "code",
   "execution_count": 139,
   "metadata": {},
   "outputs": [
    {
     "data": {
      "text/plain": [
       "{'wisps': {'F110W': [22.0, 18.0],\n",
       "  'F140W': [21.5, 16.0],\n",
       "  'F160W': [21.5, 16.0]},\n",
       " 'hst3d': {'F140W': [22.5, 16.0], 'F160W': [22.5, 16.0]}}"
      ]
     },
     "execution_count": 139,
     "metadata": {},
     "output_type": "execute_result"
    }
   ],
   "source": [
    "wisps.MAG_LIMITS"
   ]
  },
  {
   "cell_type": "code",
   "execution_count": 140,
   "metadata": {},
   "outputs": [],
   "source": [
    "def stay_within_limits(row):\n",
    "    #print (row)\n",
    "    flag=True\n",
    "    if row.survey.lower()=='wisp':\n",
    "        if (row.F110>wisps.MAG_LIMITS['wisps']['F110W'][0] or row.F110<wisps.MAG_LIMITS['wisps']['F110W'][1]):\n",
    "            flag=False\n",
    "        if np.isnan(row.F110):\n",
    "            flag=True\n",
    "    if row.survey.lower()=='hst3d':\n",
    "\n",
    "        if (row.F140>wisps.MAG_LIMITS['hst3d']['F140W'][0] or row.F140<wisps.MAG_LIMITS['hst3d']['F140W'][1]):\n",
    "            flag=False\n",
    "        if np.isnan(row.F140):\n",
    "            flag=True\n",
    "    if splat.typeToNum(row.spt)<=19.:\n",
    "        flag=False\n",
    "            \n",
    "    return flag"
   ]
  },
  {
   "cell_type": "code",
   "execution_count": 141,
   "metadata": {},
   "outputs": [],
   "source": [
    "cands_df=wisps.datasets['stars'][wisps.datasets['stars'].grism_id.isin(wisps.datasets['candidates'].grism_id)].reset_index(drop=True)"
   ]
  },
  {
   "cell_type": "code",
   "execution_count": 142,
   "metadata": {},
   "outputs": [],
   "source": [
    "cands_df=wisps.Annotator.reformat_table(cands_df[['survey', 'spt', 'F110', 'F160', 'F140']])"
   ]
  },
  {
   "cell_type": "code",
   "execution_count": 143,
   "metadata": {},
   "outputs": [],
   "source": [
    "cdf_to_use=cands_df[cands_df.apply(stay_within_limits, axis=1)]"
   ]
  },
  {
   "cell_type": "code",
   "execution_count": 144,
   "metadata": {},
   "outputs": [],
   "source": [
    "#cdf_to_use.spt.apply(splat.typeToNum).values"
   ]
  },
  {
   "cell_type": "code",
   "execution_count": 145,
   "metadata": {},
   "outputs": [],
   "source": [
    "#sptsobs=wisps.datasets['candidates'].spt.apply(splat.typeToNum).values\n",
    "nobs, j =np.histogram(cdf_to_use.spt.apply(splat.typeToNum).values, bins=len(spgrid))"
   ]
  },
  {
   "cell_type": "code",
   "execution_count": 146,
   "metadata": {},
   "outputs": [],
   "source": [
    "his, edges=np.histogram(drop_nan(SIMULATED_DIST['spts'][idx][:,0]), bins=np.arange(20, 38))"
   ]
  },
  {
   "cell_type": "code",
   "execution_count": 147,
   "metadata": {},
   "outputs": [],
   "source": [
    "ldwarfv=pd.read_pickle(wisps.OUTPUT_FILES+'/ldwarfs_scale_height.pkl')"
   ]
  },
  {
   "cell_type": "code",
   "execution_count": 148,
   "metadata": {},
   "outputs": [],
   "source": [
    "#ldwarfv[0]"
   ]
  },
  {
   "cell_type": "code",
   "execution_count": 149,
   "metadata": {},
   "outputs": [],
   "source": [
    "ldwarf_volume=[]\n",
    "for spt in spgrid:\n",
    "    vm=[]\n",
    "    for pntg in ldwarfv:\n",
    "        vm.append(pntg[spt])\n",
    "    ldwarf_volume.append(vm)"
   ]
  },
  {
   "cell_type": "code",
   "execution_count": 150,
   "metadata": {},
   "outputs": [],
   "source": [
    "ldwrfvols=np.nansum(ldwarf_volume, axis=1)*(4.1*(u.arcmin**2).to(u.radian**2))"
   ]
  },
  {
   "cell_type": "code",
   "execution_count": 151,
   "metadata": {},
   "outputs": [
    {
     "data": {
      "text/plain": [
       "[<matplotlib.lines.Line2D at 0x1c4babff28>]"
      ]
     },
     "execution_count": 151,
     "metadata": {},
     "output_type": "execute_result"
    },
    {
     "data": {
      "image/png": "[encoded data removed]",
      "text/plain": [
       "<Figure size 480x240 with 1 Axes>"
      ]
     },
     "metadata": {},
     "output_type": "display_data"
    }
   ],
   "source": [
    "plt.plot(ldwrfvols, volumes)\n",
    "plt.plot(ldwrfvols, ldwrfvols)"
   ]
  },
  {
   "cell_type": "code",
   "execution_count": 152,
   "metadata": {},
   "outputs": [
    {
     "data": {
      "text/plain": [
       "array([19, 20, 21, 22, 23, 24, 25, 26, 27, 28, 29, 30, 31, 32, 33, 34, 35,\n",
       "       36])"
      ]
     },
     "execution_count": 152,
     "metadata": {},
     "output_type": "execute_result"
    }
   ],
   "source": [
    "np.arange(19, 37)"
   ]
  },
  {
   "cell_type": "code",
   "execution_count": 153,
   "metadata": {},
   "outputs": [],
   "source": [
    "edges, bins=np.histogram(drop_nan(SIMULATED_DIST['spts'][idx][:,0]), bins=np.arange(19, 37))"
   ]
  },
  {
   "cell_type": "code",
   "execution_count": 154,
   "metadata": {},
   "outputs": [
    {
     "data": {
      "text/plain": [
       "array([46.32675713, 21.21638824, 15.89119215,  8.92373916,  6.56175711,\n",
       "        4.52831295,  3.3788631 ,  2.37310483,  1.83613214,  1.18329953,\n",
       "        0.7336321 ,  0.52893853,  0.41375198,  0.45061186,  0.53788508,\n",
       "        0.66224943,  0.71281503])"
      ]
     },
     "execution_count": 154,
     "metadata": {},
     "output_type": "execute_result"
    }
   ],
   "source": [
    "edges*ldwrfvols*NORM"
   ]
  },
  {
   "cell_type": "code",
   "execution_count": 155,
   "metadata": {},
   "outputs": [
    {
     "data": {
      "image/png": "[encoded data removed]",
      "text/plain": [
       "<Figure size 960x320 with 2 Axes>"
      ]
     },
     "metadata": {},
     "output_type": "display_data"
    }
   ],
   "source": [
    "fig, (ax, ax1)=plt.subplots(ncols=2, figsize=(12, 4))\n",
    "\n",
    "for x, y in zip(spgrid,nobs):\n",
    "    if y>0:\n",
    "        ax.errorbar(x,y, yerr=np.sqrt(y), label='observations',fmt='o', color='k')\n",
    "    if y==0:\n",
    "        ax.plot(x, y, linestyle='none', marker=r'$\\downarrow$',   label='observations', color='k')\n",
    "\n",
    "\n",
    "ax.step(spgrid, phis[0]*volumes*NORM,     where='mid', label='uniform age')\n",
    "ax.step(spgrid, phis[0]*ldwrfvols*NORM,   where='mid', label='z0=380pc')\n",
    "#ax.step(spgrid, phis[1]*volumes*NORM,   color='#FF851B',  where='mid',  label='rujopakarn')\n",
    "#ax.step(spgrid, phis[2]*volumes*NORM,  color='#FFDC00',  where='mid',  label='aumer')\n",
    "#ax.step(spgrid, interpolated_lf(LFDES.spts.values, LFDES.lf.values)*volumes*NORM, where='mid')\n",
    "\n",
    "\n",
    "#ax1.step(spgrid2,bin_by_spt_bin(spgrid, his*volumes*NORM),  where='mid',)\n",
    "\n",
    "\n",
    "ax1.errorbar(spgrid2,bin_by_spt_bin(spgrid,nobs),yerr=np.sqrt(bin_by_spt_bin(spgrid,nobs)), label='observations',fmt='o', color='k')\n",
    "\n",
    "ax1.step(spgrid2, bin_by_spt_bin(spgrid, phis[0]*ldwrfvols*NORM),  where='mid', label='uniform age')\n",
    "ax1.step(spgrid2, bin_by_spt_bin(spgrid, phis[1]*volumes*NORM), where='mid', label='z0=380pc')\n",
    "#ax1.step(spgrid2, bin_by_spt_bin(spgrid, phis[2]*volumes*NORM),color='#FFDC00',  where='mid',  label='aumer')\n",
    "\n",
    "#for bidx in range(0, len(betas)):\n",
    "#    ax.step(spgrid, phis[bidx+3]*volumes*NORM,   alpha=0.3,where='mid',  color=colors[bidx],\n",
    "#               label=r'$\\beta$ = {}'.format(round(betas[bidx], 2)), linestyle='--')\n",
    "#    \n",
    "#    \n",
    "#    ax1.step(spgrid2, np.array(bin_by_spt_bin(spgrid, phis[bidx+3]*volumes*NORM)), \n",
    "#               where='mid',  color=colors[bidx],alpha=0.3,\n",
    "#               label=r'$\\beta$ = {}'.format(round(betas[bidx], 2)), linestyle='--')\n",
    "#    \n",
    "#    ax.xaxis.set_minor_locator(ml1)\n",
    "#    ax1.yaxis.set_minor_locator(ml2)\n",
    "    \n",
    "ax1.legend( fontsize = 10., loc=(1.01, 0.))\n",
    "\n",
    "\n",
    "ax.set_ylabel('Number in SpT bin')\n",
    "ax1.set_ylabel('Number in SpT bin')\n",
    "ax.set_xlabel('SpT')\n",
    "ax1.set_xlabel('SpT')\n",
    "\n",
    "ax.set_xticklabels(['M9','L0', 'L5', 'T0', 'T5'])\n",
    "plt.savefig(wisps.OUTPUT_FIGURES+'/oberved_numbers.pdf', bbox_inches='tight')\n"
   ]
  },
  {
   "cell_type": "code",
   "execution_count": 156,
   "metadata": {},
   "outputs": [
    {
     "data": {
      "image/png": "[encoded data removed]",
      "text/plain": [
       "<Figure size 800x480 with 6 Axes>"
      ]
     },
     "metadata": {},
     "output_type": "display_data"
    }
   ],
   "source": [
    "fig, ax=plt.subplots(ncols=3, nrows=2, figsize=(10, 6))\n",
    "\n",
    "h= ax[0][0].hist(SIMULATED_DIST['mass'],  histtype='step', bins='auto', color='#0074D9')\n",
    "for idx in np.arange(3):\n",
    "    spts=drop_nan(SIMULATED_DIST['spts'][idx][:,0])\n",
    "    ages=drop_nan(SIMULATED_DIST['ages'][idx])\n",
    "    \n",
    "    h=ax[1][0].hist(drop_nan(np.log10((np.array(dists)[idx]))), bins='auto', histtype='step', color='#0074D9', alpha=0.5)\n",
    "    h=ax[1][1].hist(drop_nan(np.log10((np.array(snrjs)[idx]))), bins='auto', histtype='step', color='#0074D9', alpha=0.5)\n",
    "    h=ax[1][2].hist(drop_nan((np.array(appf110s)[idx])), bins='auto', histtype='step', color='#0074D9', alpha=0.5)\n",
    "    \n",
    "    h=ax[0][2].hist(spts,  histtype='step', bins='auto', color='#0074D9', alpha=0.5)\n",
    "    h=ax[0][1].hist(ages,  histtype='step', bins='auto', color='#0074D9', alpha=0.5)\n",
    "\n",
    "ax[0][0].set_xlabel(r'Mass (M$_\\odot$)')\n",
    "ax[0][2].set_xlabel('Spectral Type')\n",
    "ax[0][1].set_xlabel('Age (Gyr)')\n",
    "\n",
    "ax[1][0].set_xlabel('Log Distance (pc)')\n",
    "ax[1][1].set_xlabel('Log SNR-J')\n",
    "ax[1][2].set_xlabel('F140W')\n",
    "\n",
    "plt.minorticks_on()\n",
    "plt.tight_layout()\n",
    "\n",
    "plt.savefig(wisps.OUTPUT_FIGURES+'/simulations_dists.pdf', bbox_inches='tight')"
   ]
  },
  {
   "cell_type": "code",
   "execution_count": 157,
   "metadata": {},
   "outputs": [],
   "source": [
    "sim_vs=pd.DataFrame()"
   ]
  },
  {
   "cell_type": "code",
   "execution_count": 158,
   "metadata": {},
   "outputs": [],
   "source": [
    "sim_vs['spt']=[splat.typeToNum(x).replace('.0', '') for x in spgrid]\n",
    "sim_vs['volume']=np.round(volumes)\n",
    "sim_vs['Number ex1']=np.round(his*volumes*NORM, 1)\n",
    "sim_vs['Number ex']=np.round(volumes*NORM*phis[0], 1)\n",
    "sim_vs['Number obs']=nobs"
   ]
  },
  {
   "cell_type": "code",
   "execution_count": 159,
   "metadata": {},
   "outputs": [],
   "source": [
    "sim_vs.to_latex(wisps.LIBRARIES+'/expectations.tex', index=False, na_rep=' ')"
   ]
  },
  {
   "cell_type": "code",
   "execution_count": 160,
   "metadata": {},
   "outputs": [
    {
     "data": {
      "text/html": [
       "<div>\n",
       "<style scoped>\n",
       "    .dataframe tbody tr th:only-of-type {\n",
       "        vertical-align: middle;\n",
       "    }\n",
       "\n",
       "    .dataframe tbody tr th {\n",
       "        vertical-align: top;\n",
       "    }\n",
       "\n",
       "    .dataframe thead th {\n",
       "        text-align: right;\n",
       "    }\n",
       "</style>\n",
       "<table border=\"1\" class=\"dataframe\">\n",
       "  <thead>\n",
       "    <tr style=\"text-align: right;\">\n",
       "      <th></th>\n",
       "      <th>spt</th>\n",
       "      <th>volume</th>\n",
       "      <th>Number ex1</th>\n",
       "      <th>Number ex</th>\n",
       "      <th>Number obs</th>\n",
       "    </tr>\n",
       "  </thead>\n",
       "  <tbody>\n",
       "    <tr>\n",
       "      <th>0</th>\n",
       "      <td>L0</td>\n",
       "      <td>13399.0</td>\n",
       "      <td>19.6</td>\n",
       "      <td>7.4</td>\n",
       "      <td>11</td>\n",
       "    </tr>\n",
       "    <tr>\n",
       "      <th>1</th>\n",
       "      <td>L1</td>\n",
       "      <td>10935.0</td>\n",
       "      <td>16.1</td>\n",
       "      <td>14.9</td>\n",
       "      <td>1</td>\n",
       "    </tr>\n",
       "    <tr>\n",
       "      <th>2</th>\n",
       "      <td>L2</td>\n",
       "      <td>8859.0</td>\n",
       "      <td>9.7</td>\n",
       "      <td>9.4</td>\n",
       "      <td>0</td>\n",
       "    </tr>\n",
       "    <tr>\n",
       "      <th>3</th>\n",
       "      <td>L3</td>\n",
       "      <td>7177.0</td>\n",
       "      <td>7.6</td>\n",
       "      <td>6.2</td>\n",
       "      <td>4</td>\n",
       "    </tr>\n",
       "    <tr>\n",
       "      <th>4</th>\n",
       "      <td>L4</td>\n",
       "      <td>5840.0</td>\n",
       "      <td>5.7</td>\n",
       "      <td>4.4</td>\n",
       "      <td>0</td>\n",
       "    </tr>\n",
       "    <tr>\n",
       "      <th>5</th>\n",
       "      <td>L5</td>\n",
       "      <td>4753.0</td>\n",
       "      <td>4.6</td>\n",
       "      <td>3.4</td>\n",
       "      <td>0</td>\n",
       "    </tr>\n",
       "    <tr>\n",
       "      <th>6</th>\n",
       "      <td>L6</td>\n",
       "      <td>3828.0</td>\n",
       "      <td>3.6</td>\n",
       "      <td>2.0</td>\n",
       "      <td>0</td>\n",
       "    </tr>\n",
       "    <tr>\n",
       "      <th>7</th>\n",
       "      <td>L7</td>\n",
       "      <td>3025.0</td>\n",
       "      <td>3.0</td>\n",
       "      <td>1.0</td>\n",
       "      <td>1</td>\n",
       "    </tr>\n",
       "    <tr>\n",
       "      <th>8</th>\n",
       "      <td>L8</td>\n",
       "      <td>2346.0</td>\n",
       "      <td>2.1</td>\n",
       "      <td>0.9</td>\n",
       "      <td>1</td>\n",
       "    </tr>\n",
       "    <tr>\n",
       "      <th>9</th>\n",
       "      <td>L9</td>\n",
       "      <td>1806.0</td>\n",
       "      <td>1.4</td>\n",
       "      <td>0.8</td>\n",
       "      <td>0</td>\n",
       "    </tr>\n",
       "    <tr>\n",
       "      <th>10</th>\n",
       "      <td>T0</td>\n",
       "      <td>1411.0</td>\n",
       "      <td>1.0</td>\n",
       "      <td>0.6</td>\n",
       "      <td>0</td>\n",
       "    </tr>\n",
       "    <tr>\n",
       "      <th>11</th>\n",
       "      <td>T1</td>\n",
       "      <td>1142.0</td>\n",
       "      <td>0.8</td>\n",
       "      <td>0.5</td>\n",
       "      <td>1</td>\n",
       "    </tr>\n",
       "    <tr>\n",
       "      <th>12</th>\n",
       "      <td>T2</td>\n",
       "      <td>969.0</td>\n",
       "      <td>0.8</td>\n",
       "      <td>0.5</td>\n",
       "      <td>1</td>\n",
       "    </tr>\n",
       "    <tr>\n",
       "      <th>13</th>\n",
       "      <td>T3</td>\n",
       "      <td>854.0</td>\n",
       "      <td>1.0</td>\n",
       "      <td>0.6</td>\n",
       "      <td>1</td>\n",
       "    </tr>\n",
       "    <tr>\n",
       "      <th>14</th>\n",
       "      <td>T4</td>\n",
       "      <td>753.0</td>\n",
       "      <td>1.3</td>\n",
       "      <td>0.8</td>\n",
       "      <td>1</td>\n",
       "    </tr>\n",
       "    <tr>\n",
       "      <th>15</th>\n",
       "      <td>T5</td>\n",
       "      <td>611.0</td>\n",
       "      <td>1.9</td>\n",
       "      <td>1.3</td>\n",
       "      <td>1</td>\n",
       "    </tr>\n",
       "    <tr>\n",
       "      <th>16</th>\n",
       "      <td>T6</td>\n",
       "      <td>400.0</td>\n",
       "      <td>2.0</td>\n",
       "      <td>1.5</td>\n",
       "      <td>3</td>\n",
       "    </tr>\n",
       "  </tbody>\n",
       "</table>\n",
       "</div>"
      ],
      "text/plain": [
       "   spt   volume  Number ex1  Number ex  Number obs\n",
       "0   L0  13399.0        19.6        7.4          11\n",
       "1   L1  10935.0        16.1       14.9           1\n",
       "2   L2   8859.0         9.7        9.4           0\n",
       "3   L3   7177.0         7.6        6.2           4\n",
       "4   L4   5840.0         5.7        4.4           0\n",
       "5   L5   4753.0         4.6        3.4           0\n",
       "6   L6   3828.0         3.6        2.0           0\n",
       "7   L7   3025.0         3.0        1.0           1\n",
       "8   L8   2346.0         2.1        0.9           1\n",
       "9   L9   1806.0         1.4        0.8           0\n",
       "10  T0   1411.0         1.0        0.6           0\n",
       "11  T1   1142.0         0.8        0.5           1\n",
       "12  T2    969.0         0.8        0.5           1\n",
       "13  T3    854.0         1.0        0.6           1\n",
       "14  T4    753.0         1.3        0.8           1\n",
       "15  T5    611.0         1.9        1.3           1\n",
       "16  T6    400.0         2.0        1.5           3"
      ]
     },
     "execution_count": 160,
     "metadata": {},
     "output_type": "execute_result"
    }
   ],
   "source": [
    "sim_vs"
   ]
  },
  {
   "cell_type": "code",
   "execution_count": null,
   "metadata": {},
   "outputs": [],
   "source": []
  }
 ],
 "metadata": {
  "kernelspec": {
   "display_name": "Python 3",
   "language": "python",
   "name": "python3"
  },
  "language_info": {
   "codemirror_mode": {
    "name": "ipython",
    "version": 3
   },
   "file_extension": ".py",
   "mimetype": "text/x-python",
   "name": "python",
   "nbconvert_exporter": "python",
   "pygments_lexer": "ipython3",
   "version": "3.7.3"
  }
 },
 "nbformat": 4,
 "nbformat_minor": 4
}
