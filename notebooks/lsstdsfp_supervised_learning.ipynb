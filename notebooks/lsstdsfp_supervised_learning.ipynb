{
 "cells": [
  {
   "cell_type": "code",
   "execution_count": 1,
   "metadata": {},
   "outputs": [
    {
     "name": "stdout",
     "output_type": "stream",
     "text": [
      "\n",
      "Warning: spectrum object has a flux vector of zero length - maybe empty?\n",
      "\n",
      "Warning: normalize is attempting to divide by nan; ignoring\n",
      "\n",
      "Warning: spectrum object has a flux vector of zero length - maybe empty?\n",
      "\n",
      "Warning: normalize is attempting to divide by nan; ignoring\n"
     ]
    }
   ],
   "source": [
    "import splat\n",
    "import wisps\n",
    "import numpy as np\n",
    "import matplotlib.pyplot as plt\n",
    "from wisps import Annotator as an\n",
    "from wisps import datasets\n",
    "import pandas as pd\n",
    "%matplotlib inline"
   ]
  },
  {
   "cell_type": "markdown",
   "metadata": {},
   "source": [
    "#### Create a Training Set\n",
    "\n",
    "My training set has wisps stuff and trash i.e things that I know are not bds\n",
    "\n",
    "But not all of them, I'll just pick 4000 random objects to keep the proportion reasonable? It's a way of scaling my data idk\n",
    "if this is the right way to go about it \n"
   ]
  },
  {
   "cell_type": "code",
   "execution_count": 2,
   "metadata": {},
   "outputs": [],
   "source": [
    "train_df=datasets['traing_set']"
   ]
  },
  {
   "cell_type": "code",
   "execution_count": 3,
   "metadata": {},
   "outputs": [],
   "source": [
    "train_df['x']=train_df.spex_chi/train_df.line_chi"
   ]
  },
  {
   "cell_type": "markdown",
   "metadata": {},
   "source": [
    "#### Choose relevant features"
   ]
  },
  {
   "cell_type": "code",
   "execution_count": 4,
   "metadata": {},
   "outputs": [],
   "source": [
    "features=['CH_4/H-Cont', 'CH_4/H_2O-1', 'CH_4/H_2O-2', 'CH_4/J-Cont',\n",
    "       'H-cont/H_2O-1', 'H-cont/H_2O-2', 'H-cont/J-Cont', 'H_2O-1/J-Cont',\n",
    "       'H_2O-2/H_2O-1', 'H_2O-2/J-Cont',  'spex_chi', 'snr2',\n",
    "       'line_chi', 'f_test', 'x']\n",
    "label='label'"
   ]
  },
  {
   "cell_type": "markdown",
   "metadata": {},
   "source": [
    "#### Create a Prediction Set"
   ]
  },
  {
   "cell_type": "code",
   "execution_count": 5,
   "metadata": {},
   "outputs": [],
   "source": [
    "data=wisps.Annotator.reformat_table(pd.read_hdf(wisps.COMBINED_PHOTO_SPECTRO_FILE, key='stars'))\n",
    "##only look at things with snr >3.0\n",
    "#data=data[data['snr1']>3.0]"
   ]
  },
  {
   "cell_type": "code",
   "execution_count": 6,
   "metadata": {},
   "outputs": [
    {
     "data": {
      "text/plain": [
       "110930"
      ]
     },
     "execution_count": 6,
     "metadata": {},
     "output_type": "execute_result"
    }
   ],
   "source": [
    "len(data)"
   ]
  },
  {
   "cell_type": "code",
   "execution_count": 7,
   "metadata": {},
   "outputs": [],
   "source": [
    "pred_df=wisps.Annotator.reformat_table(data[features]).applymap(np.float)"
   ]
  },
  {
   "cell_type": "markdown",
   "metadata": {},
   "source": [
    "#### Apply logarithms to features that might be problematic features"
   ]
  },
  {
   "cell_type": "code",
   "execution_count": 8,
   "metadata": {},
   "outputs": [],
   "source": [
    "prblm_feats=['line_chi', 'spex_chi', 'H_2O-2/J-Cont', 'H-cont/J-Cont', 'H_2O-1/J-Cont', 'H-cont/H_2O-1', 'snr2', 'x']\n",
    "pred_df[prblm_feats]=pred_df[prblm_feats].applymap(np.log10).replace(np.inf, np.nan).replace(-np.inf, np.nan).replace(np.nan, -999999.9)\n",
    "train_df[prblm_feats]=train_df[prblm_feats].applymap(np.float).applymap(np.log10).replace(np.inf, np.nan).replace(-np.inf, np.nan).replace(np.nan, -999999.9)"
   ]
  },
  {
   "cell_type": "markdown",
   "metadata": {},
   "source": [
    "#### Rename the class only make 2 classes: brown dwarf and not brown dwarf"
   ]
  },
  {
   "cell_type": "code",
   "execution_count": 9,
   "metadata": {},
   "outputs": [],
   "source": [
    "def make_label_binary(labl):\n",
    "    ##only two labels\n",
    "    if labl >0.:\n",
    "        return 1.\n",
    "    else:\n",
    "        return 0."
   ]
  },
  {
   "cell_type": "code",
   "execution_count": 10,
   "metadata": {},
   "outputs": [],
   "source": [
    "train_df['label']=train_df['label'].apply(make_label_binary)\n",
    "#pred_df['label']=pred_df['label'].apply(make_label_binary)"
   ]
  },
  {
   "cell_type": "markdown",
   "metadata": {},
   "source": [
    "#### Scale the data to avoid weird stuff "
   ]
  },
  {
   "cell_type": "code",
   "execution_count": 11,
   "metadata": {},
   "outputs": [],
   "source": [
    "train_df[features]=train_df[features].applymap(np.float).replace(np.inf, np.nan).replace(-np.inf, np.nan).replace(np.nan, -999999.9)\n",
    "pred_df[features]=pred_df[features].applymap(np.float).replace(np.inf, np.nan).replace(-np.inf, np.nan).replace(np.nan, -999999.9)"
   ]
  },
  {
   "cell_type": "code",
   "execution_count": 12,
   "metadata": {},
   "outputs": [
    {
     "data": {
      "text/plain": [
       "(4259, 15)"
      ]
     },
     "execution_count": 12,
     "metadata": {},
     "output_type": "execute_result"
    }
   ],
   "source": [
    "#scale the data \n",
    "from sklearn.preprocessing import MinMaxScaler, StandardScaler\n",
    "from sklearn.model_selection import train_test_split\n",
    "\n",
    "scaler = MinMaxScaler(feature_range=(0, 1))\n",
    "#train_set=train_df[features]\n",
    "\n",
    "X_train, X_test, y_train, y_test = train_test_split(train_df[features].values, train_df[label].values, test_size=0.5,  random_state=123456) ###grammar  \n",
    "\n",
    "scaler.fit(X_train)\n",
    "X_train = scaler.transform(X_train)\n",
    "X_test = scaler.transform(X_test)\n",
    "\n",
    "#scale the data set to predict for \n",
    "pred_set=scaler.transform(pred_df[features].replace(np.nan,  -999999.9).values)\n",
    "\n",
    "#cleanup\n",
    "X_train.shape"
   ]
  },
  {
   "cell_type": "code",
   "execution_count": 13,
   "metadata": {},
   "outputs": [],
   "source": [
    "from sklearn.ensemble import RandomForestClassifier\n",
    "\n",
    "\n",
    "\n",
    "def train_model(nestimators=100, random_state=123456):\n",
    "    \"\"\"\n",
    "    trains the model given different parameters\n",
    "    \"\"\"\n",
    "    rf = RandomForestClassifier(n_estimators=nestimators, oob_score=True, random_state=random_state)\n",
    "    rf.fit(X_train, y_train)\n",
    "    \n",
    "    return rf\n",
    "\n",
    "rf=train_model(nestimators=100, random_state=123456)"
   ]
  },
  {
   "cell_type": "code",
   "execution_count": 14,
   "metadata": {},
   "outputs": [
    {
     "data": {
      "text/plain": [
       "(False, False)"
      ]
     },
     "execution_count": 14,
     "metadata": {},
     "output_type": "execute_result"
    }
   ],
   "source": [
    "np.isnan(X_test).any(), np.isinf(X_test).any()"
   ]
  },
  {
   "cell_type": "code",
   "execution_count": 15,
   "metadata": {},
   "outputs": [
    {
     "name": "stdout",
     "output_type": "stream",
     "text": [
      "accuracy score 0.9474054942474759\n"
     ]
    },
    {
     "data": {
      "image/png": "[encoded data removed]",
      "text/plain": [
       "<Figure size 432x288 with 2 Axes>"
      ]
     },
     "metadata": {
      "needs_background": "light"
     },
     "output_type": "display_data"
    }
   ],
   "source": [
    "from sklearn.metrics import confusion_matrix,accuracy_score\n",
    "import seaborn as sns\n",
    "pred_labels = rf.predict(X_test)\n",
    "model_accuracy = accuracy_score(y_test, pred_labels)\n",
    "\n",
    "print ('accuracy score {}'.format(model_accuracy))\n",
    "classes=['non-UCD', 'UCD']\n",
    "cm = pd.DataFrame(confusion_matrix(y_test, pred_labels), \n",
    "                  columns=classes, index=classes)\n",
    "sns.heatmap(cm, annot=True, cmap=wisps.MYCOLORMAP)\n",
    "plt.savefig(wisps.OUTPUT_FIGURES+'/confusion_matrix.pdf')"
   ]
  },
  {
   "cell_type": "code",
   "execution_count": 16,
   "metadata": {},
   "outputs": [],
   "source": [
    "from sklearn import preprocessing\n",
    "\n",
    "#def plot_histogram(index):\n",
    "#    fig, ax=plt.subplots()\n",
    "#    #plt.xscale('log')\n",
    "#    plt.yscale('log')\n",
    "#    plt.hist(pred_set[:, index], bins=50)\n",
    "    \n",
    "#for index in np.arange(0, 13): plot_histogram(index)\n"
   ]
  },
  {
   "cell_type": "code",
   "execution_count": 17,
   "metadata": {},
   "outputs": [],
   "source": [
    "labels=rf.predict(pred_set)"
   ]
  },
  {
   "cell_type": "code",
   "execution_count": 18,
   "metadata": {},
   "outputs": [],
   "source": [
    "#np.where(labels==1.)"
   ]
  },
  {
   "cell_type": "code",
   "execution_count": 19,
   "metadata": {},
   "outputs": [
    {
     "data": {
      "text/plain": [
       "<matplotlib.axes._subplots.AxesSubplot at 0x1cb458f198>"
      ]
     },
     "execution_count": 19,
     "metadata": {},
     "output_type": "execute_result"
    },
    {
     "data": {
      "image/png": "[encoded data removed]",
      "text/plain": [
       "<Figure size 432x288 with 1 Axes>"
      ]
     },
     "metadata": {
      "needs_background": "light"
     },
     "output_type": "display_data"
    }
   ],
   "source": [
    "sns.distplot(labels)"
   ]
  },
  {
   "cell_type": "code",
   "execution_count": 20,
   "metadata": {},
   "outputs": [
    {
     "data": {
      "text/plain": [
       "(81, 110849)"
      ]
     },
     "execution_count": 20,
     "metadata": {},
     "output_type": "execute_result"
    }
   ],
   "source": [
    "len(data[labels==1]), len(data[labels==0])"
   ]
  },
  {
   "cell_type": "code",
   "execution_count": 21,
   "metadata": {},
   "outputs": [],
   "source": [
    "sv_df=data[labels==1].reset_index(drop=True)"
   ]
  },
  {
   "cell_type": "code",
   "execution_count": 22,
   "metadata": {},
   "outputs": [],
   "source": [
    "#sv_df"
   ]
  },
  {
   "cell_type": "code",
   "execution_count": 23,
   "metadata": {},
   "outputs": [],
   "source": [
    "sv_df.to_pickle(wisps.LIBRARIES+'/labelled_by_rf.pkl')"
   ]
  },
  {
   "cell_type": "code",
   "execution_count": 24,
   "metadata": {},
   "outputs": [
    {
     "data": {
      "text/plain": [
       "<matplotlib.axes._subplots.AxesSubplot at 0x1caee382b0>"
      ]
     },
     "execution_count": 24,
     "metadata": {},
     "output_type": "execute_result"
    },
    {
     "data": {
      "image/png": "[encoded data removed]",
      "text/plain": [
       "<Figure size 432x288 with 1 Axes>"
      ]
     },
     "metadata": {
      "needs_background": "light"
     },
     "output_type": "display_data"
    }
   ],
   "source": [
    "sv_df.f_test.plot(kind='hist')"
   ]
  },
  {
   "cell_type": "code",
   "execution_count": 25,
   "metadata": {},
   "outputs": [
    {
     "data": {
      "text/plain": [
       "<matplotlib.axes._subplots.AxesSubplot at 0x1c667cb7f0>"
      ]
     },
     "execution_count": 25,
     "metadata": {},
     "output_type": "execute_result"
    },
    {
     "data": {
      "image/png": "[encoded data removed]",
      "text/plain": [
       "<Figure size 432x288 with 1 Axes>"
      ]
     },
     "metadata": {
      "needs_background": "light"
     },
     "output_type": "display_data"
    }
   ],
   "source": [
    "sv_df.snr2.apply(np.log10).plot(kind='hist')"
   ]
  },
  {
   "cell_type": "code",
   "execution_count": 26,
   "metadata": {},
   "outputs": [],
   "source": [
    "tot=len(data[np.logical_and(labels==1, data.snr1>3. )])"
   ]
  },
  {
   "cell_type": "code",
   "execution_count": 27,
   "metadata": {},
   "outputs": [
    {
     "data": {
      "text/plain": [
       "75"
      ]
     },
     "execution_count": 27,
     "metadata": {},
     "output_type": "execute_result"
    }
   ],
   "source": [
    "tot"
   ]
  },
  {
   "cell_type": "code",
   "execution_count": 28,
   "metadata": {},
   "outputs": [
    {
     "data": {
      "text/plain": [
       "54"
      ]
     },
     "execution_count": 28,
     "metadata": {},
     "output_type": "execute_result"
    }
   ],
   "source": [
    "cands=pd.read_hdf(wisps.OUTPUT_FILES+'/true_spectra_cands.hdf', key='with_indices')\n",
    "cands['grism_id']=cands.grism_id.apply(lambda x: x.lower().strip())\n",
    "tru_p=len(data[(data.grism_id.isin(cands.grism_id.values)) & (labels==1)])\n",
    "tru_p"
   ]
  },
  {
   "cell_type": "code",
   "execution_count": 29,
   "metadata": {},
   "outputs": [
    {
     "data": {
      "text/plain": [
       "0.28"
      ]
     },
     "execution_count": 29,
     "metadata": {},
     "output_type": "execute_result"
    }
   ],
   "source": [
    "(tot-tru_p)/tot"
   ]
  },
  {
   "cell_type": "code",
   "execution_count": 30,
   "metadata": {},
   "outputs": [],
   "source": [
    "import pickle"
   ]
  },
  {
   "cell_type": "code",
   "execution_count": 31,
   "metadata": {},
   "outputs": [],
   "source": [
    "rf_dict=rf={'classifier': rf,\n",
    "            'sclr':scaler,\n",
    "            'feats':features}"
   ]
  },
  {
   "cell_type": "code",
   "execution_count": 32,
   "metadata": {},
   "outputs": [],
   "source": [
    "#save the random forest\n",
    "output_file=wisps.OUTPUT_FILES+'/random_forest_classifier.pkl'\n",
    "with open(output_file, 'wb') as file:\n",
    "    pickle.dump(rf_dict,file)"
   ]
  },
  {
   "cell_type": "code",
   "execution_count": 1,
   "metadata": {},
   "outputs": [
    {
     "name": "stdout",
     "output_type": "stream",
     "text": [
      "\n",
      "Warning: spectrum object has a flux vector of zero length - maybe empty?\n",
      "\n",
      "Warning: normalize is attempting to divide by nan; ignoring\n",
      "\n",
      "Warning: spectrum object has a flux vector of zero length - maybe empty?\n",
      "\n",
      "Warning: normalize is attempting to divide by nan; ignoring\n"
     ]
    },
    {
     "name": "stderr",
     "output_type": "stream",
     "text": [
      "100%|██████████| 7/7 [26:43<00:00, 229.11s/it]\n",
      "100%|██████████| 7/7 [27:51<00:00, 238.78s/it]\n",
      "100%|██████████| 7/7 [24:12<00:00, 207.56s/it]\n"
     ]
    },
    {
     "data": {
      "text/plain": [
       "{'saumon': {'f110': [array([18.57760095, 12.42267435, 19.76186879, ..., 12.1148962 ,\n",
       "          15.74166916, 20.05754091]),\n",
       "   array([18.11595552, 11.37638781, 19.68207168, ..., 12.37759343,\n",
       "          15.32215157, 20.75453374]),\n",
       "   array([18.44972835, 12.67923215, 19.26325611, ..., 12.59076316,\n",
       "          15.47096737, 20.09998139]),\n",
       "   array([18.35077184, 12.05990284, 18.78814352, ..., 13.1260049 ,\n",
       "          15.60394248, 20.6371716 ]),\n",
       "   array([17.75755136, 12.43823743, 19.97047197, ..., 13.34184552,\n",
       "          14.99693656, 20.687094  ]),\n",
       "   array([18.05847015, 12.37967658, 18.71245048, ..., 13.28495512,\n",
       "          14.76769767, 20.31584392]),\n",
       "   array([18.77608577, 12.01827485, 19.05482068, ..., 14.21273886,\n",
       "          14.43893653, 20.60585463])],\n",
       "  'f140': [array([18.20818569, 11.75126035, 18.83975816, ..., 12.09670875,\n",
       "          15.02610406, 19.27498645]),\n",
       "   array([18.35089296, 12.28858348, 19.23493626, ..., 12.03564891,\n",
       "          14.59561752, 19.88770974]),\n",
       "   array([17.51519179, 12.30285621, 18.93697866, ..., 11.61523611,\n",
       "          14.08600456, 20.09480325]),\n",
       "   array([17.47423112, 11.2994458 , 19.18677713, ..., 12.22514753,\n",
       "          15.46427061, 20.01020217]),\n",
       "   array([17.63224321, 11.37113193, 18.11137778, ..., 11.92544869,\n",
       "          14.61686929, 20.20762806]),\n",
       "   array([18.5885846 , 11.6403372 , 18.66471532, ..., 12.26987731,\n",
       "          14.60601832, 19.44940198]),\n",
       "   array([17.7889517 , 11.85621209, 18.7788461 , ..., 11.69834894,\n",
       "          13.71123345, 20.2347081 ])],\n",
       "  'hs': [100, 200, 250, 300, 350, 400, 600],\n",
       "  'f160': [array([18.30093502, 10.7680416 , 19.5266694 , ..., 11.43305115,\n",
       "          14.69938723, 21.8263558 ]),\n",
       "   array([17.0296151 , 11.17248908, 19.6190506 , ..., 12.2631672 ,\n",
       "          14.94754091, 21.45169191]),\n",
       "   array([17.95642537, 11.38541202, 19.24118599, ..., 12.56071901,\n",
       "          14.52195784, 21.4419879 ]),\n",
       "   array([17.72922194, 11.43287598, 19.57657208, ..., 11.72724054,\n",
       "          14.50646678, 20.98365912]),\n",
       "   array([17.85358966, 10.70789169, 19.486334  , ..., 12.38269276,\n",
       "          14.64726077, 20.48726647]),\n",
       "   array([18.7397513 , 12.41108323, 19.2105419 , ..., 11.61187669,\n",
       "          14.44627809, 20.91155415]),\n",
       "   array([17.84233163, 10.80919862, 20.36380651, ..., 11.39266822,\n",
       "          13.73564479, 21.15556692])],\n",
       "  'appf140s': [array([27.83042072, 21.25960782, 27.30291697, ..., 19.87699941,\n",
       "          22.56555893, 27.15746673]),\n",
       "   array([25.50595063, 20.4359619 , 28.8116251 , ..., 21.7152157 ,\n",
       "          22.56534055, 26.79381807]),\n",
       "   array([26.24616413, 22.97965715, 27.32429363, ..., 21.50844472,\n",
       "          23.62263803, 27.07472224]),\n",
       "   array([27.58038534, 19.48902286, 26.6308546 , ..., 23.79425268,\n",
       "          21.38709132, 26.9588284 ]),\n",
       "   array([26.61476311, 21.23988516, 28.14607952, ..., 21.35468839,\n",
       "          23.27171769, 26.44171101]),\n",
       "   array([28.61034431, 20.79016875, 27.50834682, ..., 22.3231886 ,\n",
       "          23.30076146, 23.84161235]),\n",
       "   array([27.26071595, 20.51368054, 28.55425344, ..., 18.86932815,\n",
       "          24.12612823, 28.76879917])],\n",
       "  'appf110s': [array([28.19983599, 21.93102182, 28.2250276 , ..., 19.89518686,\n",
       "          23.28112404, 27.94002118]),\n",
       "   array([25.27101318, 19.52376622, 29.25876052, ..., 22.05716022,\n",
       "          23.29187459, 27.66064207]),\n",
       "   array([27.18070069, 23.35603309, 27.65057108, ..., 22.48397177,\n",
       "          25.00760084, 27.07990038]),\n",
       "   array([28.45692606, 20.2494799 , 26.23222099, ..., 24.69511005,\n",
       "          21.52676319, 27.58579783]),\n",
       "   array([26.74007125, 22.30699067, 30.00517371, ..., 22.77108522,\n",
       "          23.65178495, 26.92117695]),\n",
       "   array([28.08022986, 21.52950813, 27.55608198, ..., 23.33826641,\n",
       "          23.4624408 , 24.70805429]),\n",
       "   array([28.24785003, 20.6757433 , 28.83022802, ..., 21.38371807,\n",
       "          24.8538313 , 29.1399457 ])],\n",
       "  'appf160s': [array([27.92317005, 20.27638907, 27.98982821, ..., 19.21334181,\n",
       "          22.23884211, 29.70883607]),\n",
       "   array([24.18467277, 19.31986749, 29.19573944, ..., 21.942734  ,\n",
       "          22.91726393, 28.35780024]),\n",
       "   array([26.68739771, 22.06221296, 27.62850096, ..., 22.45392762,\n",
       "          24.05859131, 28.4219069 ]),\n",
       "   array([27.83537615, 19.62245304, 27.02064955, ..., 23.29634569,\n",
       "          20.42928749, 27.93228535]),\n",
       "   array([26.83610956, 20.57664492, 29.52103574, ..., 21.81193246,\n",
       "          23.30210917, 26.72134942]),\n",
       "   array([28.76151101, 21.56091478, 28.0541734 , ..., 21.66518798,\n",
       "          23.14102122, 25.30376453]),\n",
       "   array([27.31409588, 19.46666707, 30.13921385, ..., 18.56364742,\n",
       "          24.15053956, 29.68965798])],\n",
       "  'dists': [array([840.32446204, 797.38763047, 492.75581893, ..., 359.7974921 ,\n",
       "          322.02602747, 377.13431946]),\n",
       "   array([269.78110712, 426.06482672, 822.88238891, ..., 862.80640246,\n",
       "          392.59485563, 240.55903107]),\n",
       "   array([ 557.43530022, 1365.71534202,  475.84224289, ...,  952.01046283,\n",
       "           807.84249437,  248.87644764]),\n",
       "   array([1050.10044499,  434.42560236,  308.18783649, ..., 2059.78091536,\n",
       "           152.95516326,  245.31564471]),\n",
       "   array([ 625.89859921,  941.3489587 , 1016.10911661, ...,  768.86119284,\n",
       "           538.23220358,  176.52921547]),\n",
       "   array([1010.07109179,  676.0305312 ,  587.11922298, ..., 1024.85460722,\n",
       "           548.21211247,   75.58612381]),\n",
       "   array([ 784.06641273,  538.88201536,  901.74027686, ...,  271.76645005,\n",
       "          1210.53947043,  509.11772065])],\n",
       "  'snrjs': [array([  5.17555872,  15.5401914 ,   3.16129436, ..., 373.42702644,\n",
       "           16.36531755,   2.91201314]),\n",
       "   array([  1.63874112, 122.51858865,   9.56591073, ...,  63.03196274,\n",
       "           16.65240775,   3.30127604]),\n",
       "   array([ 1.32036639,  2.87210995,  2.18691553, ...,  6.8760763 ,\n",
       "          15.36621958,  1.52682617]),\n",
       "   array([ 0.44720616, 47.78657143,  2.7610133 , ...,  3.12954449,\n",
       "          16.30337539,  1.50152922]),\n",
       "   array([10.15318404, 33.67682778, 12.926408  , ..., 20.16084933,\n",
       "          15.04159899,  4.03149798]),\n",
       "   array([ 4.8143596 , 13.99047111,  0.71179728, ...,  3.36576173,\n",
       "           4.16311813, 73.63518119]),\n",
       "   array([  1.89421809,  74.31414095,   6.91194122, ..., 112.70022533,\n",
       "           20.34740345,   4.85687108])],\n",
       "  'spgrid': array([17, 18, 19, 20, 21, 22, 23, 24, 25, 26, 27, 28, 29, 30, 31, 32, 33,\n",
       "         34, 35, 36, 37, 38, 39, 40, 41]),\n",
       "  'spts': array([38.19670634, 19.3749213 , 38.94860561, ..., 20.8478723 ,\n",
       "         32.58443151, 39.60451788]),\n",
       "  'sl_prob': array([[1.        , 0.98719566, 1.        , ..., 1.        , 1.        ,\n",
       "          1.        ],\n",
       "         [0.88617886, 1.        , 1.        , ..., 1.        , 1.        ,\n",
       "          1.        ],\n",
       "         [0.88617886, 0.62016242, 1.        , ..., 0.98256739, 1.        ,\n",
       "          0.95238095],\n",
       "         ...,\n",
       "         [1.        , 1.        , 1.        , ..., 1.        , 1.        ,\n",
       "          1.        ],\n",
       "         [1.        , 0.98924092,        nan, ..., 0.92487074, 1.        ,\n",
       "          1.        ],\n",
       "         [0.88617886, 1.        , 1.        , ..., 1.        , 1.        ,\n",
       "          1.        ]]),\n",
       "  'pointing': [array(['par294', 'par30', 'par85', ..., 'par81', 'par181', 'aegis-28'],\n",
       "         dtype='<U10'),\n",
       "   array(['par403', 'cosmos-09', 'par341', ..., 'cosmos-27', 'par359',\n",
       "          'par293'], dtype='<U10'),\n",
       "   array(['par124', 'par271', 'par205', ..., 'goodss-19', 'par157', 'par371'],\n",
       "         dtype='<U10'),\n",
       "   array(['cosmos-22', 'par279', 'cosmos-08', ..., 'par145', 'cosmos-17',\n",
       "          'uds-06'], dtype='<U10'),\n",
       "   array(['par66', 'aegis-21', 'uds-06', ..., 'par403', 'cosmos-08', 'par24'],\n",
       "         dtype='<U10'),\n",
       "   array(['goodss-12', 'goodss-21', 'par135', ..., 'par371', 'goodss-31',\n",
       "          'goodss-28'], dtype='<U10'),\n",
       "   array(['par374', 'par477', 'par108', ..., 'uds-08', 'uds-24', 'par54'],\n",
       "         dtype='<U10')]},\n",
       " 'baraffe03': {'f110': [array([10.96982981, 26.44132186, 21.81039551, ..., 16.6218823 ,\n",
       "          13.4509909 , 27.21108071]),\n",
       "   array([11.47796118, 26.25112122, 21.084608  , ..., 15.99764105,\n",
       "          12.65685164, 27.97154683]),\n",
       "   array([11.01416261, 26.36094543, 21.48954886, ..., 17.59410075,\n",
       "          12.59313845, 27.65417584]),\n",
       "   array([10.70907865, 26.63704944, 21.18367083, ..., 16.93788446,\n",
       "          12.90267667, 27.49902852]),\n",
       "   array([11.6012419 , 26.79466637, 21.08473498, ..., 16.3215113 ,\n",
       "          13.14752253, 27.56528475]),\n",
       "   array([11.60941218, 26.65872073, 20.85887952, ..., 16.34782443,\n",
       "          12.48488165, 26.91809297]),\n",
       "   array([10.99956592, 25.75977165, 21.81620662, ..., 16.66423435,\n",
       "          13.07629584, 27.79239984])],\n",
       "  'f140': [array([10.84101143, 25.98387138, 20.93217507, ..., 16.2174253 ,\n",
       "          11.98068976, 25.93632902]),\n",
       "   array([10.73127058, 25.12646283, 21.35584876, ..., 15.19131277,\n",
       "          12.32190765, 26.34683454]),\n",
       "   array([10.71087859, 24.96043891, 20.47527803, ..., 15.63119658,\n",
       "          12.61243268, 26.67762527]),\n",
       "   array([10.11806142, 25.43972571, 21.10150929, ..., 15.80366832,\n",
       "          12.06113096, 26.78498694]),\n",
       "   array([10.94654215, 26.01369294, 20.75852942, ..., 16.3036586 ,\n",
       "          12.40358472, 26.24784386]),\n",
       "   array([10.97554673, 25.49278584, 20.90297453, ..., 15.85755767,\n",
       "          12.58885214, 26.66050023]),\n",
       "   array([ 9.9736551 , 25.80269002, 21.42879766, ..., 15.79997594,\n",
       "          12.84140566, 26.43097481])],\n",
       "  'hs': [100, 200, 250, 300, 350, 400, 600],\n",
       "  'f160': [array([11.01353582, 30.27124514, 22.12837428, ..., 16.27069833,\n",
       "          12.13260129, 31.90398306]),\n",
       "   array([11.15157671, 29.28842073, 22.63596123, ..., 15.20882342,\n",
       "          12.79507044, 31.78834684]),\n",
       "   array([10.41863762, 29.79213227, 22.23890577, ..., 15.16305788,\n",
       "          12.5929987 , 31.67882555]),\n",
       "   array([11.57907451, 30.62355304, 22.46898012, ..., 15.98479267,\n",
       "          12.67740132, 32.35380499]),\n",
       "   array([ 9.91544751, 29.88764614, 22.16996903, ..., 16.29398782,\n",
       "          12.05140458, 32.19472626]),\n",
       "   array([10.45588002, 30.07850879, 21.84471794, ..., 15.66570118,\n",
       "          11.60593105, 32.50433458]),\n",
       "   array([10.31788632, 30.41741027, 22.62982144, ..., 15.51172455,\n",
       "          11.82954919, 31.58581944])],\n",
       "  'appf140s': [array([18.97806284,         nan, 26.63166163, ..., 25.24093336,\n",
       "          19.23537936,         nan]),\n",
       "   array([19.24535297,         nan, 26.69053471, ..., 24.82464599,\n",
       "          22.49676247,         nan]),\n",
       "   array([18.82728668,         nan, 25.93810733, ..., 26.44322543,\n",
       "          17.54287071,         nan]),\n",
       "   array([19.1308067 ,         nan, 27.38077203, ..., 25.79918039,\n",
       "          22.94392253,         nan]),\n",
       "   array([22.30183406,         nan, 26.85047245, ..., 26.2826175 ,\n",
       "          21.74100954, 29.14541955]),\n",
       "   array([16.80584802,         nan, 26.61305355, ..., 24.70259255,\n",
       "          24.25303145, 29.25441486]),\n",
       "   array([16.89350105, 28.52281155, 26.99990277, ..., 24.28813546,\n",
       "          19.13703108, 29.49511956])],\n",
       "  'appf110s': [array([19.10688122,         nan, 27.50988208, ..., 25.64539036,\n",
       "          20.7056805 ,         nan]),\n",
       "   array([19.99204357,         nan, 26.41929395, ..., 25.63097427,\n",
       "          22.83170646,         nan]),\n",
       "   array([19.13057071,         nan, 26.95237817, ..., 28.4061296 ,\n",
       "          17.52357648,         nan]),\n",
       "   array([19.72182393,         nan, 27.46293356, ..., 26.93339653,\n",
       "          23.78546824,         nan]),\n",
       "   array([22.95653381,         nan, 27.17667802, ..., 26.3004702 ,\n",
       "          22.48494735, 30.46286044]),\n",
       "   array([17.43971347,         nan, 26.56895853, ..., 25.1928593 ,\n",
       "          24.14906095, 29.5120076 ]),\n",
       "   array([17.91941188, 28.47989319, 27.38731172, ..., 25.15239387,\n",
       "          19.37192126, 30.8565446 ])],\n",
       "  'appf160s': [array([19.15058724,         nan, 27.82786085, ..., 25.29420639,\n",
       "          19.38729089,         nan]),\n",
       "   array([19.6656591 ,         nan, 27.97064718, ..., 24.84215664,\n",
       "          22.96992526,         nan]),\n",
       "   array([18.53504572,         nan, 27.70173508, ..., 25.97508673,\n",
       "          17.52343673,         nan]),\n",
       "   array([20.59181979,         nan, 28.74824286, ..., 25.98030474,\n",
       "          23.56019289,         nan]),\n",
       "   array([21.27073941,         nan, 28.26191207, ..., 26.27294672,\n",
       "          21.38882941, 35.09230195]),\n",
       "   array([16.28618131,         nan, 27.55479695, ..., 24.51073605,\n",
       "          23.27011035, 35.09824921]),\n",
       "   array([17.23773227, 33.1375318 , 28.20092654, ..., 23.99988407,\n",
       "          18.12517461, 34.64996419])],\n",
       "  'dists': [array([424.04337529,          nan, 138.00579174, ..., 637.82510976,\n",
       "          282.4476205 ,          nan]),\n",
       "   array([ 504.44808451,           nan,  116.66408793, ...,  844.63027421,\n",
       "          1083.85444931,           nan]),\n",
       "   array([ 420.03126561,           nan,  123.7558853 , ..., 1453.46898966,\n",
       "            96.84731973,           nan]),\n",
       "   array([ 634.67158622,           nan,  180.24056803, ...,  997.93536612,\n",
       "          1501.61401736,           nan]),\n",
       "   array([1866.63060064,           nan,  165.34406372, ...,  990.35700935,\n",
       "           737.02965912,   37.97651764]),\n",
       "   array([ 146.57511984,           nan,  138.68062901, ...,  587.4987884 ,\n",
       "          2151.96825705,   33.02044535]),\n",
       "   array([242.08573021,  34.99647539, 130.08314267, ..., 498.46182499,\n",
       "          181.60386372,  41.00425732])],\n",
       "  'snrjs': [array([132.11881404,          nan,   8.76790726, ...,   4.4707435 ,\n",
       "           17.0261639 ,          nan]),\n",
       "   array([255.69940413,          nan,   0.86053226, ...,   3.23639213,\n",
       "            5.55179623,          nan]),\n",
       "   array([8.58703393e+01,            nan, 1.05345193e+00, ...,\n",
       "          5.27892000e+00, 1.21431164e+03,            nan]),\n",
       "   array([49.59141083,         nan, 12.12411397, ..., 24.16903928,\n",
       "          13.10772827,         nan]),\n",
       "   array([34.87748656,         nan,  4.70231521, ..., 11.51396093,\n",
       "          28.79831215,  1.8695677 ]),\n",
       "   array([7.91256971e+02,            nan, 2.10218510e+01, ...,\n",
       "          1.31406714e+01, 3.23800567e+00, 5.70640395e-01]),\n",
       "   array([1.05235394e+04, 1.26982013e+00, 1.70229191e+00, ...,\n",
       "          2.37663877e+00, 1.44696128e+02, 1.48625335e+01])],\n",
       "  'spgrid': array([17, 18, 19, 20, 21, 22, 23, 24, 25, 26, 27, 28, 29, 30, 31, 32, 33,\n",
       "         34, 35, 36, 37, 38, 39, 40, 41]),\n",
       "  'spts': array([17.65004631, 41.56762225, 40.0245161 , ..., 36.38329783,\n",
       "         21.31759923, 41.82790872]),\n",
       "  'sl_prob': array([[1.        ,        nan, 1.        , ..., 1.        , 1.        ,\n",
       "                 nan],\n",
       "         [1.        ,        nan,        nan, ..., 1.        , 0.99441513,\n",
       "                 nan],\n",
       "         [0.99548506,        nan, 1.        , ..., 1.        ,        nan,\n",
       "                 nan],\n",
       "         ...,\n",
       "         [0.96620394,        nan, 1.        , ..., 1.        , 1.        ,\n",
       "          1.        ],\n",
       "         [1.        ,        nan, 1.        , ..., 1.        , 0.98064195,\n",
       "                 nan],\n",
       "         [       nan, 1.        , 1.        , ..., 1.        , 1.        ,\n",
       "          1.        ]]),\n",
       "  'pointing': [array(['par335', 'cosmos-27', 'par330', ..., 'aegis-26', 'par451',\n",
       "          'par44'], dtype='<U10'),\n",
       "   array(['cosmos-12', 'goodss-27', 'par147', ..., 'par396', 'par114',\n",
       "          'par39'], dtype='<U10'),\n",
       "   array(['cosmos-09', 'par103', 'par154', ..., 'uds-07', 'goodss-04',\n",
       "          'par248'], dtype='<U10'),\n",
       "   array(['par79', 'aegis-02', 'par25', ..., 'par115', 'par348', 'par1'],\n",
       "         dtype='<U10'),\n",
       "   array(['aegis-10', 'goodss-25', 'goodsn-114', ..., 'par391', 'par97',\n",
       "          'par371'], dtype='<U10'),\n",
       "   array(['par103', 'goodss-08', 'goodss-04', ..., 'uds-18', 'goodsn-22',\n",
       "          'par328'], dtype='<U10'),\n",
       "   array(['par83', 'cosmos-02', 'par234', ..., 'cosmos-15', 'par268',\n",
       "          'par333'], dtype='<U10')]},\n",
       " 'marley2019': {'f110': [array([14.65133512, 19.17093218, 27.88526383, ..., 19.21536044,\n",
       "          27.75904794, 28.1390582 ]),\n",
       "   array([14.79959363, 18.96629443, 29.10995324, ..., 19.10861231,\n",
       "          28.84903722, 28.81042603]),\n",
       "   array([13.92955116, 19.6759925 , 28.04405246, ..., 20.11658806,\n",
       "          28.31894624, 27.80394529]),\n",
       "   array([13.87304285, 18.1946399 , 27.98354378, ..., 18.56861818,\n",
       "          27.69555567, 27.61035323]),\n",
       "   array([14.2746869 , 19.96248344, 28.18553832, ..., 19.96433998,\n",
       "          29.18720231, 27.54582848]),\n",
       "   array([13.82913308, 19.1176047 , 27.66249937, ..., 19.93406701,\n",
       "          28.49807879, 27.82989569]),\n",
       "   array([13.63757433, 18.34860583, 27.74001718, ..., 19.4139701 ,\n",
       "          27.56984812, 28.66256407])],\n",
       "  'f140': [array([12.8649297 , 18.04032767, 27.29832466, ..., 18.52866813,\n",
       "          27.37223021, 27.34918185]),\n",
       "   array([13.54816717, 18.18600789, 27.11061033, ..., 18.67072192,\n",
       "          27.88523971, 26.6904972 ]),\n",
       "   array([12.50318328, 18.65819986, 27.67648738, ..., 18.90496149,\n",
       "          26.23191082, 27.23455521]),\n",
       "   array([12.88112622, 18.03714614, 27.35809446, ..., 18.76897364,\n",
       "          27.3869648 , 26.71055159]),\n",
       "   array([13.03055202, 17.66765619, 27.14440332, ..., 18.35400455,\n",
       "          27.07861109, 27.7835754 ]),\n",
       "   array([12.86368086, 17.97970223, 27.05077441, ..., 17.89125134,\n",
       "          27.07556429, 27.26950173]),\n",
       "   array([13.77719366, 17.60611445, 27.18298682, ..., 18.17490171,\n",
       "          26.87809971, 27.20215606])],\n",
       "  'hs': [100, 200, 250, 300, 350, 400, 600],\n",
       "  'f160': [array([12.96794924, 19.73770941, 33.164176  , ..., 19.83591535,\n",
       "          32.68337372, 32.93917921]),\n",
       "   array([13.4977265 , 19.59047723, 33.16036086, ..., 20.56867407,\n",
       "          32.67719874, 32.97169699]),\n",
       "   array([12.6747939 , 19.16925758, 33.54890875, ..., 19.23107338,\n",
       "          33.83977528, 32.58333388]),\n",
       "   array([13.04777189, 18.60270063, 34.23961538, ..., 20.03475135,\n",
       "          33.08278671, 33.61914247]),\n",
       "   array([12.98865719, 18.57480063, 34.09023181, ..., 19.47602943,\n",
       "          32.99711874, 33.16954635]),\n",
       "   array([12.15496622, 18.98113031, 32.64944366, ..., 19.84335391,\n",
       "          32.85787753, 33.88602114]),\n",
       "   array([12.91125115, 19.58144135, 33.06820222, ..., 19.74377568,\n",
       "          33.08310604, 33.42604068])],\n",
       "  'appf140s': [array([17.81525614, 25.5333516 ,         nan, ..., 25.66188412,\n",
       "                  nan,         nan]),\n",
       "   array([21.61579715, 25.67613799,         nan, ..., 26.52689591,\n",
       "                  nan,         nan]),\n",
       "   array([20.63165676, 26.86740931,         nan, ..., 27.36718558,\n",
       "                  nan,         nan]),\n",
       "   array([21.17649861, 25.28795649,         nan, ..., 24.89889324,\n",
       "                  nan,         nan]),\n",
       "   array([21.95835373, 27.14253069,         nan, ..., 25.46320243,\n",
       "                  nan,         nan]),\n",
       "   array([19.92066872, 26.12385725,         nan, ..., 24.52812568,\n",
       "                  nan,         nan]),\n",
       "   array([25.08179235, 26.55847692,         nan, ..., 26.05018937,\n",
       "                  nan,         nan])],\n",
       "  'appf110s': [array([19.60166156, 26.66395611,         nan, ..., 26.34857643,\n",
       "                  nan,         nan]),\n",
       "   array([22.86722361, 26.45642452,         nan, ..., 26.9647863 ,\n",
       "                  nan,         nan]),\n",
       "   array([22.05802463, 27.88520195,         nan, ..., 28.57881214,\n",
       "                  nan,         nan]),\n",
       "   array([22.16841524, 25.44545025,         nan, ..., 24.69853778,\n",
       "                  nan,         nan]),\n",
       "   array([23.20248861, 29.43735794,         nan, ..., 27.07353786,\n",
       "                  nan,         nan]),\n",
       "   array([20.88612094, 27.26175972,         nan, ..., 26.57094134,\n",
       "                  nan,         nan]),\n",
       "   array([24.94217303, 27.3009683 ,         nan, ..., 27.28925775,\n",
       "                  nan,         nan])],\n",
       "  'appf160s': [array([17.91827568, 27.23073333,         nan, ..., 26.96913133,\n",
       "                  nan,         nan]),\n",
       "   array([21.56535648, 27.08060732,         nan, ..., 28.42484805,\n",
       "                  nan,         nan]),\n",
       "   array([20.80326738, 27.37846703,         nan, ..., 27.69329746,\n",
       "                  nan,         nan]),\n",
       "   array([21.34314429, 25.85351098,         nan, ..., 26.16467095,\n",
       "                  nan,         nan]),\n",
       "   array([21.9164589 , 28.04967514,         nan, ..., 26.58522731,\n",
       "                  nan,         nan]),\n",
       "   array([19.21195408, 27.12528532,         nan, ..., 26.48022824,\n",
       "                  nan,         nan]),\n",
       "   array([24.21584984, 28.53380382,         nan, ..., 27.61906333,\n",
       "                  nan,         nan])],\n",
       "  'dists': [array([ 97.73841408, 315.2134827 ,          nan, ..., 267.08112546,\n",
       "                   nan,          nan]),\n",
       "   array([410.70122213, 314.79369079,          nan, ..., 372.59309098,\n",
       "                   nan,          nan]),\n",
       "   array([422.3715862 , 438.3710748 ,          nan, ..., 492.54375491,\n",
       "                   nan,          nan]),\n",
       "   array([456.11513065, 281.94348895,          nan, ..., 168.26117583,\n",
       "                   nan,          nan]),\n",
       "   array([610.32385148, 785.19025425,          nan, ..., 264.14328585,\n",
       "                   nan,          nan]),\n",
       "   array([257.86807138, 425.43283177,          nan, ..., 212.50779554,\n",
       "                   nan,          nan]),\n",
       "   array([1823.55866209,  617.26619586,           nan, ...,  375.88719442,\n",
       "                    nan,           nan])],\n",
       "  'snrjs': [array([238.56885178,   2.86739721,          nan, ...,   5.01792088,\n",
       "                   nan,          nan]),\n",
       "   array([ 6.42651947,  2.96140792,         nan, ..., 16.80966876,\n",
       "                  nan,         nan]),\n",
       "   array([14.12166338,  2.99232449,         nan, ...,  7.16405034,\n",
       "                  nan,         nan]),\n",
       "   array([13.43039888,  3.55451159,         nan, ...,  1.32142073,\n",
       "                  nan,         nan]),\n",
       "   array([4.60105134, 2.27224524,        nan, ..., 6.06854201,        nan,\n",
       "                 nan]),\n",
       "   array([32.57087062,  2.40158883,         nan, ...,  5.17175194,\n",
       "                  nan,         nan]),\n",
       "   array([4.10297826, 7.24734542,        nan, ..., 1.52121093,        nan,\n",
       "                 nan])],\n",
       "  'spgrid': array([17, 18, 19, 20, 21, 22, 23, 24, 25, 26, 27, 28, 29, 30, 31, 32, 33,\n",
       "         34, 35, 36, 37, 38, 39, 40, 41]),\n",
       "  'spts': array([25.42230302, 38.74483072, 42.        , ..., 39.07987381,\n",
       "         42.        , 42.        ]),\n",
       "  'sl_prob': array([[1.        , 1.        ,        nan, ..., 1.        ,        nan,\n",
       "                 nan],\n",
       "         [1.        , 1.        ,        nan, ..., 1.        ,        nan,\n",
       "                 nan],\n",
       "         [1.        , 1.        ,        nan, ..., 1.        ,        nan,\n",
       "                 nan],\n",
       "         ...,\n",
       "         [1.        , 1.        ,        nan, ..., 1.        ,        nan,\n",
       "                 nan],\n",
       "         [1.        , 1.        ,        nan, ..., 1.        ,        nan,\n",
       "                 nan],\n",
       "         [1.        , 1.        ,        nan, ..., 0.95238095,        nan,\n",
       "                 nan]]),\n",
       "  'pointing': [array(['par219', 'par138', 'par14', ..., 'par165', 'par133', 'par406'],\n",
       "         dtype='<U10'),\n",
       "   array(['par194', 'aegis-12', 'aegis-06', ..., 'cosmos-25', 'par293',\n",
       "          'par325'], dtype='<U10'),\n",
       "   array(['par349', 'par124', 'goodss-07', ..., 'par71', 'par450', 'par346'],\n",
       "         dtype='<U10'),\n",
       "   array(['goodss-32', 'aegis-10', 'par24', ..., 'goodss-15', 'par427',\n",
       "          'par359'], dtype='<U10'),\n",
       "   array(['par139', 'goodsn-22', 'par199', ..., 'par457', 'par465',\n",
       "          'aegis-05'], dtype='<U10'),\n",
       "   array(['cosmos-14', 'uds-15', 'par16', ..., 'par408', 'goodsn-13',\n",
       "          'par324'], dtype='<U10'),\n",
       "   array(['par322', 'goodsn-44', 'cosmos-06', ..., 'aegis-18', 'par397',\n",
       "          'aegis-09'], dtype='<U10')]}}"
      ]
     },
     "execution_count": 1,
     "metadata": {},
     "output_type": "execute_result"
    }
   ],
   "source": [
    "import wisps.simulations as wispsim\n",
    "import wisps.simulations.effective_numbers as eff\n",
    "s=eff.simulation_outputs(recompute=True, hs=wispsim.HS)"
   ]
  },
  {
   "cell_type": "code",
   "execution_count": null,
   "metadata": {},
   "outputs": [],
   "source": []
  }
 ],
 "metadata": {
  "kernelspec": {
   "display_name": "Python 3",
   "language": "python",
   "name": "python3"
  },
  "language_info": {
   "codemirror_mode": {
    "name": "ipython",
    "version": 3
   },
   "file_extension": ".py",
   "mimetype": "text/x-python",
   "name": "python",
   "nbconvert_exporter": "python",
   "pygments_lexer": "ipython3",
   "version": "3.7.3"
  }
 },
 "nbformat": 4,
 "nbformat_minor": 4
}
