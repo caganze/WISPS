{
 "cells": [
  {
   "cell_type": "code",
   "execution_count": 1,
   "metadata": {},
   "outputs": [],
   "source": [
    "import numpy as np\n",
    "import wisps\n",
    "import splat\n",
    "import matplotlib.pyplot as plt\n",
    "from sklearn.ensemble import RandomForestClassifier\n",
    "from sklearn.metrics import confusion_matrix,accuracy_score, precision_score\n",
    "from sklearn.preprocessing import MinMaxScaler, StandardScaler\n",
    "from sklearn.model_selection import train_test_split, KFold,RepeatedKFold, GridSearchCV\n",
    "\n",
    "import seaborn as sns\n",
    "import pandas as pd\n",
    "%matplotlib inline"
   ]
  },
  {
   "cell_type": "code",
   "execution_count": 2,
   "metadata": {},
   "outputs": [],
   "source": [
    "comb=pd.read_hdf(wisps.COMBINED_PHOTO_SPECTRO_FILE, key='new_stars')"
   ]
  },
  {
   "cell_type": "code",
   "execution_count": 3,
   "metadata": {},
   "outputs": [],
   "source": [
    "comb=comb.dropna(how='all')"
   ]
  },
  {
   "cell_type": "code",
   "execution_count": 4,
   "metadata": {},
   "outputs": [],
   "source": [
    "comb=comb.loc[(comb[wisps.INDEX_NAMES]).dropna().index]"
   ]
  },
  {
   "cell_type": "code",
   "execution_count": 5,
   "metadata": {},
   "outputs": [
    {
     "data": {
      "text/plain": [
       "(254264, 26)"
      ]
     },
     "execution_count": 5,
     "metadata": {},
     "output_type": "execute_result"
    }
   ],
   "source": [
    "comb.shape"
   ]
  },
  {
   "cell_type": "code",
   "execution_count": 6,
   "metadata": {},
   "outputs": [],
   "source": [
    "train_df=pd.read_pickle(wisps.LIBRARIES+'/training_set.pkl').reset_index(drop=True)\n",
    "                                                                           \n",
    "pred_df=wisps.Annotator.reformat_table(comb).reset_index(drop=True)"
   ]
  },
  {
   "cell_type": "code",
   "execution_count": 7,
   "metadata": {},
   "outputs": [],
   "source": [
    "pred_df=pred_df.drop_duplicates(subset='grism_id')"
   ]
  },
  {
   "cell_type": "code",
   "execution_count": 8,
   "metadata": {},
   "outputs": [
    {
     "data": {
      "text/plain": [
       "((254264, 26), (9728, 26))"
      ]
     },
     "execution_count": 8,
     "metadata": {},
     "output_type": "execute_result"
    }
   ],
   "source": [
    "pred_df.shape, train_df.shape"
   ]
  },
  {
   "cell_type": "code",
   "execution_count": 9,
   "metadata": {},
   "outputs": [],
   "source": [
    "def apply_scale(x):\n",
    "    ##put features on a log scale\n",
    "    #replace nans\n",
    "    y=np.log10(x)\n",
    "    if np.isnan(y) or np.isinf(y):\n",
    "        y=np.random.uniform(-99, -98)\n",
    "    return y\n",
    "\n",
    "def create_labels(row):\n",
    "    #use multiclass system\n",
    "    label=0\n",
    "    if row.label ==0.:\n",
    "        label=0\n",
    "    if (row.label==1) & (row.spt <20):\n",
    "        label=1\n",
    "    if (row.label==1) & np.logical_and(row.spt >=20, row.spt<30):\n",
    "        label=2\n",
    "    if (row.label==1) & np.logical_and(row.spt >=30, row.spt<45):\n",
    "        label=3\n",
    "    return label"
   ]
  },
  {
   "cell_type": "code",
   "execution_count": 10,
   "metadata": {},
   "outputs": [],
   "source": [
    "\n",
    "pred_df['grism_id']=pred_df.grism_id.apply(lambda x: x.lower())"
   ]
  },
  {
   "cell_type": "code",
   "execution_count": 11,
   "metadata": {},
   "outputs": [],
   "source": [
    "#features=wisps.INDEX_NAMES\n",
    "features=np.concatenate([['snr2','f_test', 'line_chi', 'spex_chi'], wisps.INDEX_NAMES])\n",
    "#features=['snr2','snr1', 'snr3', 'snr4', 'f_test']"
   ]
  },
  {
   "cell_type": "code",
   "execution_count": 12,
   "metadata": {},
   "outputs": [],
   "source": [
    "pred_df=pred_df[pred_df.snr2>3.]\n",
    "train_df['spt']=train_df.spt.apply(wisps.make_spt_number)\n",
    "pred_df['spt']=pred_df.spt.apply(wisps.make_spt_number)"
   ]
  },
  {
   "cell_type": "code",
   "execution_count": 13,
   "metadata": {},
   "outputs": [],
   "source": [
    "labels=train_df.apply(create_labels, axis=1).values"
   ]
  },
  {
   "cell_type": "code",
   "execution_count": 14,
   "metadata": {},
   "outputs": [],
   "source": [
    "train_df[features]=(train_df[features]).applymap(apply_scale)\n",
    "pred_df[features]=(pred_df[features]).applymap(apply_scale)"
   ]
  },
  {
   "cell_type": "code",
   "execution_count": 15,
   "metadata": {},
   "outputs": [],
   "source": [
    "scaler = MinMaxScaler(feature_range=(-100, 100))\n",
    "scaler.fit(train_df[features])\n",
    "X=scaler.transform(train_df[features])\n",
    "y=labels"
   ]
  },
  {
   "cell_type": "code",
   "execution_count": 16,
   "metadata": {},
   "outputs": [],
   "source": [
    "#scale the data set to predict for the prediction set\n",
    "pred_set=scaler.transform(pred_df[features])"
   ]
  },
  {
   "cell_type": "code",
   "execution_count": 17,
   "metadata": {},
   "outputs": [],
   "source": [
    "class_weigths={0:1., 1:40/10000, 2:1/10000, 3:5/10000}"
   ]
  },
  {
   "cell_type": "code",
   "execution_count": 18,
   "metadata": {},
   "outputs": [],
   "source": [
    "X_train, X_test, y_train, y_test = train_test_split(X, y, test_size=0.5,  random_state=np.random.randint(1000))"
   ]
  },
  {
   "cell_type": "code",
   "execution_count": 19,
   "metadata": {},
   "outputs": [
    {
     "data": {
      "text/plain": [
       "array([  10,  120,  230,  340,  450,  560,  670,  780,  890, 1000])"
      ]
     },
     "execution_count": 19,
     "metadata": {},
     "output_type": "execute_result"
    }
   ],
   "source": [
    "np.linspace(10, 1000, 10, dtype=int)"
   ]
  },
  {
   "cell_type": "code",
   "execution_count": 20,
   "metadata": {},
   "outputs": [],
   "source": [
    "import dask"
   ]
  },
  {
   "cell_type": "code",
   "execution_count": 21,
   "metadata": {},
   "outputs": [
    {
     "data": {
      "text/html": [
       "<table style=\"border: 2px solid white;\">\n",
       "<tr>\n",
       "<td style=\"vertical-align: top; border: 0px solid white\">\n",
       "<h3 style=\"text-align: left;\">Client</h3>\n",
       "<ul style=\"text-align: left; list-style: none; margin: 0; padding: 0;\">\n",
       "  <li><b>Scheduler: </b>inproc://192.168.0.2/38684/1</li>\n",
       "  <li><b>Dashboard: </b><a href='http://192.168.0.2:8787/status' target='_blank'>http://192.168.0.2:8787/status</a>\n",
       "</ul>\n",
       "</td>\n",
       "<td style=\"vertical-align: top; border: 0px solid white\">\n",
       "<h3 style=\"text-align: left;\">Cluster</h3>\n",
       "<ul style=\"text-align: left; list-style:none; margin: 0; padding: 0;\">\n",
       "  <li><b>Workers: </b>1</li>\n",
       "  <li><b>Cores: </b>4</li>\n",
       "  <li><b>Memory: </b>2.00 GB</li>\n",
       "</ul>\n",
       "</td>\n",
       "</tr>\n",
       "</table>"
      ],
      "text/plain": [
       "<Client: 'inproc://192.168.0.2/38684/1' processes=1 threads=4, memory=2.00 GB>"
      ]
     },
     "execution_count": 21,
     "metadata": {},
     "output_type": "execute_result"
    }
   ],
   "source": [
    "from dask.distributed import Client, progress\n",
    "client = Client(processes=False, threads_per_worker=4,\n",
    "                n_workers=1, memory_limit='2GB',  silence_logs='error')\n",
    "client"
   ]
  },
  {
   "cell_type": "code",
   "execution_count": 22,
   "metadata": {},
   "outputs": [],
   "source": [
    "import warnings\n",
    "warnings.filterwarnings('ignore')\n"
   ]
  },
  {
   "cell_type": "code",
   "execution_count": 23,
   "metadata": {},
   "outputs": [
    {
     "data": {
      "text/plain": [
       "array([ 2,  2,  3,  4,  5,  6,  7,  8,  9, 10])"
      ]
     },
     "execution_count": 23,
     "metadata": {},
     "output_type": "execute_result"
    }
   ],
   "source": [
    "\n",
    "np.linspace(2, 10, 10, dtype=int)"
   ]
  },
  {
   "cell_type": "code",
   "execution_count": 28,
   "metadata": {},
   "outputs": [
    {
     "name": "stdout",
     "output_type": "stream",
     "text": [
      "Fitting 5 folds for each of 100 candidates, totalling 500 fits\n",
      "[CV] min_samples_split=1, n_estimators=10 ............................\n",
      "[CV] ............. min_samples_split=1, n_estimators=10, total=   0.0s\n",
      "[CV] min_samples_split=1, n_estimators=10 ............................\n",
      "[CV] ............. min_samples_split=1, n_estimators=10, total=   0.0s\n",
      "[CV] min_samples_split=1, n_estimators=10 ............................\n",
      "[CV] ............. min_samples_split=1, n_estimators=10, total=   0.0s\n",
      "[CV] min_samples_split=1, n_estimators=10 ............................\n",
      "[CV] ............. min_samples_split=1, n_estimators=10, total=   0.0s\n",
      "[CV] min_samples_split=1, n_estimators=10 ............................\n",
      "[CV] ............. min_samples_split=1, n_estimators=10, total=   0.0s\n",
      "[CV] min_samples_split=1, n_estimators=120 ...........................\n",
      "[CV] ............ min_samples_split=1, n_estimators=120, total=   0.1s\n",
      "[CV] min_samples_split=1, n_estimators=120 ...........................\n"
     ]
    },
    {
     "name": "stderr",
     "output_type": "stream",
     "text": [
      "[Parallel(n_jobs=1)]: Using backend SequentialBackend with 1 concurrent workers.\n",
      "[Parallel(n_jobs=1)]: Done   1 out of   1 | elapsed:    0.0s remaining:    0.0s\n"
     ]
    },
    {
     "name": "stdout",
     "output_type": "stream",
     "text": [
      "[CV] ............ min_samples_split=1, n_estimators=120, total=   0.1s\n",
      "[CV] min_samples_split=1, n_estimators=120 ...........................\n",
      "[CV] ............ min_samples_split=1, n_estimators=120, total=   0.1s\n",
      "[CV] min_samples_split=1, n_estimators=120 ...........................\n",
      "[CV] ............ min_samples_split=1, n_estimators=120, total=   0.1s\n",
      "[CV] min_samples_split=1, n_estimators=120 ...........................\n",
      "[CV] ............ min_samples_split=1, n_estimators=120, total=   0.1s\n",
      "[CV] min_samples_split=1, n_estimators=230 ...........................\n",
      "[CV] ............ min_samples_split=1, n_estimators=230, total=   0.1s\n",
      "[CV] min_samples_split=1, n_estimators=230 ...........................\n",
      "[CV] ............ min_samples_split=1, n_estimators=230, total=   0.1s\n",
      "[CV] min_samples_split=1, n_estimators=230 ...........................\n",
      "[CV] ............ min_samples_split=1, n_estimators=230, total=   0.1s\n",
      "[CV] min_samples_split=1, n_estimators=230 ...........................\n",
      "[CV] ............ min_samples_split=1, n_estimators=230, total=   0.1s\n",
      "[CV] min_samples_split=1, n_estimators=230 ...........................\n",
      "[CV] ............ min_samples_split=1, n_estimators=230, total=   0.1s\n",
      "[CV] min_samples_split=1, n_estimators=340 ...........................\n",
      "[CV] ............ min_samples_split=1, n_estimators=340, total=   0.3s\n",
      "[CV] min_samples_split=1, n_estimators=340 ...........................\n",
      "[CV] ............ min_samples_split=1, n_estimators=340, total=   0.2s\n",
      "[CV] min_samples_split=1, n_estimators=340 ...........................\n",
      "[CV] ............ min_samples_split=1, n_estimators=340, total=   0.2s\n",
      "[CV] min_samples_split=1, n_estimators=340 ...........................\n",
      "[CV] ............ min_samples_split=1, n_estimators=340, total=   0.2s\n",
      "[CV] min_samples_split=1, n_estimators=340 ...........................\n",
      "[CV] ............ min_samples_split=1, n_estimators=340, total=   0.2s\n",
      "[CV] min_samples_split=1, n_estimators=450 ...........................\n",
      "[CV] ............ min_samples_split=1, n_estimators=450, total=   0.3s\n",
      "[CV] min_samples_split=1, n_estimators=450 ...........................\n",
      "[CV] ............ min_samples_split=1, n_estimators=450, total=   0.2s\n",
      "[CV] min_samples_split=1, n_estimators=450 ...........................\n",
      "[CV] ............ min_samples_split=1, n_estimators=450, total=   0.3s\n",
      "[CV] min_samples_split=1, n_estimators=450 ...........................\n",
      "[CV] ............ min_samples_split=1, n_estimators=450, total=   0.3s\n",
      "[CV] min_samples_split=1, n_estimators=450 ...........................\n",
      "[CV] ............ min_samples_split=1, n_estimators=450, total=   0.3s\n",
      "[CV] min_samples_split=1, n_estimators=560 ...........................\n",
      "[CV] ............ min_samples_split=1, n_estimators=560, total=   0.3s\n",
      "[CV] min_samples_split=1, n_estimators=560 ...........................\n",
      "[CV] ............ min_samples_split=1, n_estimators=560, total=   0.4s\n",
      "[CV] min_samples_split=1, n_estimators=560 ...........................\n",
      "[CV] ............ min_samples_split=1, n_estimators=560, total=   0.3s\n",
      "[CV] min_samples_split=1, n_estimators=560 ...........................\n",
      "[CV] ............ min_samples_split=1, n_estimators=560, total=   0.3s\n",
      "[CV] min_samples_split=1, n_estimators=560 ...........................\n",
      "[CV] ............ min_samples_split=1, n_estimators=560, total=   0.4s\n",
      "[CV] min_samples_split=1, n_estimators=670 ...........................\n",
      "[CV] ............ min_samples_split=1, n_estimators=670, total=   0.5s\n",
      "[CV] min_samples_split=1, n_estimators=670 ...........................\n",
      "[CV] ............ min_samples_split=1, n_estimators=670, total=   0.4s\n",
      "[CV] min_samples_split=1, n_estimators=670 ...........................\n",
      "[CV] ............ min_samples_split=1, n_estimators=670, total=   0.4s\n",
      "[CV] min_samples_split=1, n_estimators=670 ...........................\n",
      "[CV] ............ min_samples_split=1, n_estimators=670, total=   0.4s\n",
      "[CV] min_samples_split=1, n_estimators=670 ...........................\n",
      "[CV] ............ min_samples_split=1, n_estimators=670, total=   0.5s\n",
      "[CV] min_samples_split=1, n_estimators=780 ...........................\n",
      "[CV] ............ min_samples_split=1, n_estimators=780, total=   0.6s\n",
      "[CV] min_samples_split=1, n_estimators=780 ...........................\n",
      "[CV] ............ min_samples_split=1, n_estimators=780, total=   0.4s\n",
      "[CV] min_samples_split=1, n_estimators=780 ...........................\n",
      "[CV] ............ min_samples_split=1, n_estimators=780, total=   0.4s\n",
      "[CV] min_samples_split=1, n_estimators=780 ...........................\n",
      "[CV] ............ min_samples_split=1, n_estimators=780, total=   0.4s\n",
      "[CV] min_samples_split=1, n_estimators=780 ...........................\n",
      "[CV] ............ min_samples_split=1, n_estimators=780, total=   0.4s\n",
      "[CV] min_samples_split=1, n_estimators=890 ...........................\n",
      "[CV] ............ min_samples_split=1, n_estimators=890, total=   0.4s\n",
      "[CV] min_samples_split=1, n_estimators=890 ...........................\n",
      "[CV] ............ min_samples_split=1, n_estimators=890, total=   1.2s\n",
      "[CV] min_samples_split=1, n_estimators=890 ...........................\n",
      "[CV] ............ min_samples_split=1, n_estimators=890, total=   0.4s\n",
      "[CV] min_samples_split=1, n_estimators=890 ...........................\n",
      "[CV] ............ min_samples_split=1, n_estimators=890, total=   0.4s\n",
      "[CV] min_samples_split=1, n_estimators=890 ...........................\n",
      "[CV] ............ min_samples_split=1, n_estimators=890, total=   0.4s\n",
      "[CV] min_samples_split=1, n_estimators=1000 ..........................\n",
      "[CV] ........... min_samples_split=1, n_estimators=1000, total=   0.5s\n",
      "[CV] min_samples_split=1, n_estimators=1000 ..........................\n",
      "[CV] ........... min_samples_split=1, n_estimators=1000, total=   0.5s\n",
      "[CV] min_samples_split=1, n_estimators=1000 ..........................\n",
      "[CV] ........... min_samples_split=1, n_estimators=1000, total=   0.5s\n",
      "[CV] min_samples_split=1, n_estimators=1000 ..........................\n",
      "[CV] ........... min_samples_split=1, n_estimators=1000, total=   0.5s\n",
      "[CV] min_samples_split=1, n_estimators=1000 ..........................\n",
      "[CV] ........... min_samples_split=1, n_estimators=1000, total=   0.5s\n",
      "[CV] min_samples_split=2, n_estimators=10 ............................\n",
      "[CV] ............. min_samples_split=2, n_estimators=10, total=   0.3s\n",
      "[CV] min_samples_split=2, n_estimators=10 ............................\n",
      "[CV] ............. min_samples_split=2, n_estimators=10, total=   0.2s\n",
      "[CV] min_samples_split=2, n_estimators=10 ............................\n",
      "[CV] ............. min_samples_split=2, n_estimators=10, total=   0.3s\n",
      "[CV] min_samples_split=2, n_estimators=10 ............................\n",
      "[CV] ............. min_samples_split=2, n_estimators=10, total=   0.2s\n",
      "[CV] min_samples_split=2, n_estimators=10 ............................\n",
      "[CV] ............. min_samples_split=2, n_estimators=10, total=   0.2s\n",
      "[CV] min_samples_split=2, n_estimators=120 ...........................\n",
      "[CV] ............ min_samples_split=2, n_estimators=120, total=   2.2s\n",
      "[CV] min_samples_split=2, n_estimators=120 ...........................\n",
      "[CV] ............ min_samples_split=2, n_estimators=120, total=   2.6s\n",
      "[CV] min_samples_split=2, n_estimators=120 ...........................\n",
      "[CV] ............ min_samples_split=2, n_estimators=120, total=   3.1s\n",
      "[CV] min_samples_split=2, n_estimators=120 ...........................\n",
      "[CV] ............ min_samples_split=5, n_estimators=780, total=26.8min\n"
     ]
    },
    {
     "name": "stderr",
     "output_type": "stream",
     "text": [
      "distributed.client - ERROR - Error in callback <function DaskDistributedBackend.apply_async.<locals>.callback_wrapper at 0x1a5032c440> of <Future: cancelled, type: builtins.list, key: _parallel_build_trees-batch-969183dc7713416f87a0398f1b2a8ef5>:\n",
      "Traceback (most recent call last):\n",
      "  File \"/Users/caganze/anaconda3/lib/python3.7/site-packages/distributed/client.py\", line 285, in execute_callback\n",
      "    fn(fut)\n",
      "  File \"/Users/caganze/anaconda3/lib/python3.7/site-packages/joblib/_dask.py\", line 260, in callback_wrapper\n",
      "    result = future.result()\n",
      "  File \"/Users/caganze/anaconda3/lib/python3.7/site-packages/distributed/client.py\", line 222, in result\n",
      "    raise result\n",
      "concurrent.futures._base.CancelledError: _parallel_build_trees-batch-969183dc7713416f87a0398f1b2a8ef5\n",
      "distributed.client - ERROR - Error in callback <function DaskDistributedBackend.apply_async.<locals>.callback_wrapper at 0x1b0ec71440> of <Future: cancelled, key: _parallel_build_trees-batch-889faa4206c64b38be3f976b1936b462>:\n",
      "Traceback (most recent call last):\n",
      "  File \"/Users/caganze/anaconda3/lib/python3.7/site-packages/distributed/client.py\", line 285, in execute_callback\n",
      "    fn(fut)\n",
      "  File \"/Users/caganze/anaconda3/lib/python3.7/site-packages/joblib/_dask.py\", line 260, in callback_wrapper\n",
      "    result = future.result()\n",
      "  File \"/Users/caganze/anaconda3/lib/python3.7/site-packages/distributed/client.py\", line 222, in result\n",
      "    raise result\n",
      "concurrent.futures._base.CancelledError: _parallel_build_trees-batch-889faa4206c64b38be3f976b1936b462\n",
      "distributed.client - ERROR - Error in callback <function DaskDistributedBackend.apply_async.<locals>.callback_wrapper at 0x1b13563710> of <Future: cancelled, key: _parallel_build_trees-batch-d31607e039ed4958adedc4391561a8e2>:\n",
      "Traceback (most recent call last):\n",
      "  File \"/Users/caganze/anaconda3/lib/python3.7/site-packages/distributed/client.py\", line 285, in execute_callback\n",
      "    fn(fut)\n",
      "  File \"/Users/caganze/anaconda3/lib/python3.7/site-packages/joblib/_dask.py\", line 260, in callback_wrapper\n",
      "    result = future.result()\n",
      "  File \"/Users/caganze/anaconda3/lib/python3.7/site-packages/distributed/client.py\", line 222, in result\n",
      "    raise result\n",
      "concurrent.futures._base.CancelledError: _parallel_build_trees-batch-d31607e039ed4958adedc4391561a8e2\n",
      "distributed.client - ERROR - Error in callback <function DaskDistributedBackend.apply_async.<locals>.callback_wrapper at 0x1b111acf80> of <Future: cancelled, key: _parallel_build_trees-batch-77f6b8953a264c28b364d7eac7010eea>:\n",
      "Traceback (most recent call last):\n",
      "  File \"/Users/caganze/anaconda3/lib/python3.7/site-packages/distributed/client.py\", line 285, in execute_callback\n",
      "    fn(fut)\n",
      "  File \"/Users/caganze/anaconda3/lib/python3.7/site-packages/joblib/_dask.py\", line 260, in callback_wrapper\n",
      "    result = future.result()\n",
      "  File \"/Users/caganze/anaconda3/lib/python3.7/site-packages/distributed/client.py\", line 222, in result\n",
      "    raise result\n",
      "concurrent.futures._base.CancelledError: _parallel_build_trees-batch-77f6b8953a264c28b364d7eac7010eea\n",
      "distributed.client - ERROR - Error in callback <function DaskDistributedBackend.apply_async.<locals>.callback_wrapper at 0x1b11807950> of <Future: cancelled, key: _parallel_build_trees-batch-4ef9cc99d331460694a56b2c84b59b36>:\n",
      "Traceback (most recent call last):\n",
      "  File \"/Users/caganze/anaconda3/lib/python3.7/site-packages/distributed/client.py\", line 285, in execute_callback\n",
      "    fn(fut)\n",
      "  File \"/Users/caganze/anaconda3/lib/python3.7/site-packages/joblib/_dask.py\", line 260, in callback_wrapper\n",
      "    result = future.result()\n",
      "  File \"/Users/caganze/anaconda3/lib/python3.7/site-packages/distributed/client.py\", line 222, in result\n",
      "    raise result\n",
      "concurrent.futures._base.CancelledError: _parallel_build_trees-batch-4ef9cc99d331460694a56b2c84b59b36\n",
      "distributed.client - ERROR - Error in callback <function DaskDistributedBackend.apply_async.<locals>.callback_wrapper at 0x1b3a4637a0> of <Future: cancelled, key: _parallel_build_trees-batch-ed54963ba9c0495095f63a2ded321bc5>:\n",
      "Traceback (most recent call last):\n",
      "  File \"/Users/caganze/anaconda3/lib/python3.7/site-packages/distributed/client.py\", line 285, in execute_callback\n",
      "    fn(fut)\n",
      "  File \"/Users/caganze/anaconda3/lib/python3.7/site-packages/joblib/_dask.py\", line 260, in callback_wrapper\n",
      "    result = future.result()\n",
      "  File \"/Users/caganze/anaconda3/lib/python3.7/site-packages/distributed/client.py\", line 222, in result\n",
      "    raise result\n",
      "concurrent.futures._base.CancelledError: _parallel_build_trees-batch-ed54963ba9c0495095f63a2ded321bc5\n",
      "distributed.client - ERROR - Error in callback <function DaskDistributedBackend.apply_async.<locals>.callback_wrapper at 0x1b10d7f7a0> of <Future: cancelled, key: _parallel_build_trees-batch-20ab4a25d16c408a997c7d9da134b005>:\n",
      "Traceback (most recent call last):\n",
      "  File \"/Users/caganze/anaconda3/lib/python3.7/site-packages/distributed/client.py\", line 285, in execute_callback\n",
      "    fn(fut)\n",
      "  File \"/Users/caganze/anaconda3/lib/python3.7/site-packages/joblib/_dask.py\", line 260, in callback_wrapper\n",
      "    result = future.result()\n",
      "  File \"/Users/caganze/anaconda3/lib/python3.7/site-packages/distributed/client.py\", line 222, in result\n",
      "    raise result\n",
      "concurrent.futures._base.CancelledError: _parallel_build_trees-batch-20ab4a25d16c408a997c7d9da134b005\n"
     ]
    },
    {
     "name": "stdout",
     "output_type": "stream",
     "text": [
      "[CV] ............ min_samples_split=2, n_estimators=120, total=   8.2s\n",
      "[CV] min_samples_split=2, n_estimators=120 ...........................\n",
      "[CV] ............ min_samples_split=2, n_estimators=120, total=   3.0s\n",
      "[CV] min_samples_split=2, n_estimators=230 ...........................\n",
      "[CV] ............ min_samples_split=2, n_estimators=230, total=   8.9s\n",
      "[CV] min_samples_split=2, n_estimators=230 ...........................\n",
      "[CV] ............ min_samples_split=2, n_estimators=230, total=   6.5s\n",
      "[CV] min_samples_split=2, n_estimators=230 ...........................\n",
      "[CV] ............ min_samples_split=2, n_estimators=230, total=   6.5s\n",
      "[CV] min_samples_split=2, n_estimators=230 ...........................\n",
      "[CV] ............ min_samples_split=2, n_estimators=230, total=   5.8s\n",
      "[CV] min_samples_split=2, n_estimators=230 ...........................\n",
      "[CV] ............ min_samples_split=2, n_estimators=230, total=   4.2s\n",
      "[CV] min_samples_split=2, n_estimators=340 ...........................\n",
      "[CV] ............ min_samples_split=2, n_estimators=340, total=   6.2s\n",
      "[CV] min_samples_split=2, n_estimators=340 ...........................\n",
      "[CV] ............ min_samples_split=2, n_estimators=340, total=   7.6s\n",
      "[CV] min_samples_split=2, n_estimators=340 ...........................\n",
      "[CV] ............ min_samples_split=2, n_estimators=340, total=   6.7s\n",
      "[CV] min_samples_split=2, n_estimators=340 ...........................\n",
      "[CV] ............ min_samples_split=2, n_estimators=340, total=   7.2s\n",
      "[CV] min_samples_split=2, n_estimators=340 ...........................\n",
      "[CV] ............ min_samples_split=2, n_estimators=340, total=   7.1s\n",
      "[CV] min_samples_split=2, n_estimators=450 ...........................\n",
      "[CV] ............ min_samples_split=2, n_estimators=450, total=   9.9s\n",
      "[CV] min_samples_split=2, n_estimators=450 ...........................\n",
      "[CV] ............ min_samples_split=2, n_estimators=450, total=   8.1s\n",
      "[CV] min_samples_split=2, n_estimators=450 ...........................\n",
      "[CV] ............ min_samples_split=2, n_estimators=450, total=   9.0s\n",
      "[CV] min_samples_split=2, n_estimators=450 ...........................\n",
      "[CV] ............ min_samples_split=2, n_estimators=450, total=   8.1s\n",
      "[CV] min_samples_split=2, n_estimators=450 ...........................\n",
      "[CV] ............ min_samples_split=2, n_estimators=450, total=   8.5s\n",
      "[CV] min_samples_split=2, n_estimators=560 ...........................\n",
      "[CV] ............ min_samples_split=2, n_estimators=560, total=  10.9s\n",
      "[CV] min_samples_split=2, n_estimators=560 ...........................\n",
      "[CV] ............ min_samples_split=2, n_estimators=560, total=  10.0s\n",
      "[CV] min_samples_split=2, n_estimators=560 ...........................\n",
      "[CV] ............ min_samples_split=2, n_estimators=560, total=  10.7s\n",
      "[CV] min_samples_split=2, n_estimators=560 ...........................\n",
      "[CV] ............ min_samples_split=2, n_estimators=560, total=  10.6s\n",
      "[CV] min_samples_split=2, n_estimators=560 ...........................\n",
      "[CV] ............ min_samples_split=2, n_estimators=560, total=  10.1s\n",
      "[CV] min_samples_split=2, n_estimators=670 ...........................\n",
      "[CV] ............ min_samples_split=2, n_estimators=670, total=  11.8s\n",
      "[CV] min_samples_split=2, n_estimators=670 ...........................\n",
      "[CV] ............ min_samples_split=2, n_estimators=670, total=  12.5s\n",
      "[CV] min_samples_split=2, n_estimators=670 ...........................\n",
      "[CV] ............ min_samples_split=2, n_estimators=670, total=  12.6s\n",
      "[CV] min_samples_split=2, n_estimators=670 ...........................\n",
      "[CV] ............ min_samples_split=2, n_estimators=670, total=  12.6s\n",
      "[CV] min_samples_split=2, n_estimators=670 ...........................\n",
      "[CV] ............ min_samples_split=2, n_estimators=670, total=  13.0s\n",
      "[CV] min_samples_split=2, n_estimators=780 ...........................\n",
      "[CV] ............ min_samples_split=2, n_estimators=780, total=  18.6s\n",
      "[CV] min_samples_split=2, n_estimators=780 ...........................\n",
      "[CV] ............ min_samples_split=2, n_estimators=780, total=  17.8s\n",
      "[CV] min_samples_split=2, n_estimators=780 ...........................\n",
      "[CV] ............ min_samples_split=2, n_estimators=780, total=  24.9s\n",
      "[CV] min_samples_split=2, n_estimators=780 ...........................\n",
      "[CV] ............ min_samples_split=2, n_estimators=780, total=  25.5s\n",
      "[CV] min_samples_split=2, n_estimators=780 ...........................\n",
      "[CV] ............ min_samples_split=2, n_estimators=780, total=  20.8s\n",
      "[CV] min_samples_split=2, n_estimators=890 ...........................\n"
     ]
    },
    {
     "name": "stderr",
     "output_type": "stream",
     "text": [
      "distributed.client - ERROR - Error in callback <function DaskDistributedBackend.apply_async.<locals>.callback_wrapper at 0x1b1127ce60> of <Future: finished, type: builtins.list, key: _parallel_build_trees-batch-218da332986f4017aa21386a4f7b15bc>:\n",
      "Traceback (most recent call last):\n",
      "  File \"/Users/caganze/anaconda3/lib/python3.7/site-packages/distributed/client.py\", line 285, in execute_callback\n",
      "    fn(fut)\n",
      "  File \"/Users/caganze/anaconda3/lib/python3.7/site-packages/joblib/_dask.py\", line 260, in callback_wrapper\n",
      "    result = future.result()\n",
      "  File \"/Users/caganze/anaconda3/lib/python3.7/site-packages/distributed/client.py\", line 217, in result\n",
      "    result = self.client.sync(self._result, callback_timeout=timeout, raiseit=False)\n",
      "  File \"/Users/caganze/anaconda3/lib/python3.7/site-packages/distributed/client.py\", line 780, in sync\n",
      "    self.loop, func, *args, callback_timeout=callback_timeout, **kwargs\n",
      "  File \"/Users/caganze/anaconda3/lib/python3.7/site-packages/distributed/utils.py\", line 348, in sync\n",
      "    raise exc.with_traceback(tb)\n",
      "  File \"/Users/caganze/anaconda3/lib/python3.7/site-packages/distributed/utils.py\", line 332, in f\n",
      "    result[0] = yield future\n",
      "  File \"/Users/caganze/anaconda3/lib/python3.7/site-packages/tornado/gen.py\", line 735, in run\n",
      "    value = future.result()\n",
      "  File \"/Users/caganze/anaconda3/lib/python3.7/site-packages/distributed/client.py\", line 242, in _result\n",
      "    result = await self.client._gather([self])\n",
      "  File \"/Users/caganze/anaconda3/lib/python3.7/site-packages/distributed/client.py\", line 1781, in _gather\n",
      "    response = await future\n",
      "  File \"/Users/caganze/anaconda3/lib/python3.7/site-packages/distributed/client.py\", line 1822, in _gather_remote\n",
      "    who_has, rpc=self.rpc, close=False\n",
      "  File \"/Users/caganze/anaconda3/lib/python3.7/site-packages/distributed/utils_comm.py\", line 87, in gather_from_workers\n",
      "    response.update(r[\"data\"])\n",
      "KeyError: 'data'\n",
      "distributed.client - ERROR - Error in callback <function DaskDistributedBackend.apply_async.<locals>.callback_wrapper at 0x1b0ff1cf80> of <Future: finished, type: builtins.list, key: _parallel_build_trees-batch-c02d92a302b641c5a1d3500a415e18d8>:\n",
      "Traceback (most recent call last):\n",
      "  File \"/Users/caganze/anaconda3/lib/python3.7/site-packages/distributed/client.py\", line 285, in execute_callback\n",
      "    fn(fut)\n",
      "  File \"/Users/caganze/anaconda3/lib/python3.7/site-packages/joblib/_dask.py\", line 260, in callback_wrapper\n",
      "    result = future.result()\n",
      "  File \"/Users/caganze/anaconda3/lib/python3.7/site-packages/distributed/client.py\", line 217, in result\n",
      "    result = self.client.sync(self._result, callback_timeout=timeout, raiseit=False)\n",
      "  File \"/Users/caganze/anaconda3/lib/python3.7/site-packages/distributed/client.py\", line 780, in sync\n",
      "    self.loop, func, *args, callback_timeout=callback_timeout, **kwargs\n",
      "  File \"/Users/caganze/anaconda3/lib/python3.7/site-packages/distributed/utils.py\", line 348, in sync\n",
      "    raise exc.with_traceback(tb)\n",
      "  File \"/Users/caganze/anaconda3/lib/python3.7/site-packages/distributed/utils.py\", line 332, in f\n",
      "    result[0] = yield future\n",
      "  File \"/Users/caganze/anaconda3/lib/python3.7/site-packages/tornado/gen.py\", line 735, in run\n",
      "    value = future.result()\n",
      "  File \"/Users/caganze/anaconda3/lib/python3.7/site-packages/distributed/client.py\", line 242, in _result\n",
      "    result = await self.client._gather([self])\n",
      "  File \"/Users/caganze/anaconda3/lib/python3.7/site-packages/distributed/client.py\", line 1781, in _gather\n",
      "    response = await future\n",
      "  File \"/Users/caganze/anaconda3/lib/python3.7/site-packages/distributed/client.py\", line 1822, in _gather_remote\n",
      "    who_has, rpc=self.rpc, close=False\n",
      "  File \"/Users/caganze/anaconda3/lib/python3.7/site-packages/distributed/utils_comm.py\", line 87, in gather_from_workers\n",
      "    response.update(r[\"data\"])\n",
      "KeyError: 'data'\n",
      "distributed.client - ERROR - Error in callback <function DaskDistributedBackend.apply_async.<locals>.callback_wrapper at 0x1b0ea6e8c0> of <Future: finished, type: builtins.list, key: _parallel_build_trees-batch-f14d9d1f6658471ab8a6ff6513483a3a>:\n",
      "Traceback (most recent call last):\n",
      "  File \"/Users/caganze/anaconda3/lib/python3.7/site-packages/distributed/client.py\", line 285, in execute_callback\n",
      "    fn(fut)\n",
      "  File \"/Users/caganze/anaconda3/lib/python3.7/site-packages/joblib/_dask.py\", line 260, in callback_wrapper\n",
      "    result = future.result()\n",
      "  File \"/Users/caganze/anaconda3/lib/python3.7/site-packages/distributed/client.py\", line 217, in result\n",
      "    result = self.client.sync(self._result, callback_timeout=timeout, raiseit=False)\n",
      "  File \"/Users/caganze/anaconda3/lib/python3.7/site-packages/distributed/client.py\", line 780, in sync\n",
      "    self.loop, func, *args, callback_timeout=callback_timeout, **kwargs\n",
      "  File \"/Users/caganze/anaconda3/lib/python3.7/site-packages/distributed/utils.py\", line 348, in sync\n",
      "    raise exc.with_traceback(tb)\n",
      "  File \"/Users/caganze/anaconda3/lib/python3.7/site-packages/distributed/utils.py\", line 332, in f\n",
      "    result[0] = yield future\n",
      "  File \"/Users/caganze/anaconda3/lib/python3.7/site-packages/tornado/gen.py\", line 735, in run\n",
      "    value = future.result()\n",
      "  File \"/Users/caganze/anaconda3/lib/python3.7/site-packages/distributed/client.py\", line 242, in _result\n",
      "    result = await self.client._gather([self])\n",
      "  File \"/Users/caganze/anaconda3/lib/python3.7/site-packages/distributed/client.py\", line 1781, in _gather\n",
      "    response = await future\n",
      "  File \"/Users/caganze/anaconda3/lib/python3.7/site-packages/distributed/client.py\", line 1822, in _gather_remote\n",
      "    who_has, rpc=self.rpc, close=False\n",
      "  File \"/Users/caganze/anaconda3/lib/python3.7/site-packages/distributed/utils_comm.py\", line 87, in gather_from_workers\n",
      "    response.update(r[\"data\"])\n",
      "KeyError: 'data'\n",
      "distributed.client - ERROR - Error in callback <function DaskDistributedBackend.apply_async.<locals>.callback_wrapper at 0x1b0f62c440> of <Future: finished, type: builtins.list, key: _parallel_build_trees-batch-d618750918e041fc9e3e7e40ee70111f>:\n",
      "Traceback (most recent call last):\n",
      "  File \"/Users/caganze/anaconda3/lib/python3.7/site-packages/distributed/client.py\", line 285, in execute_callback\n",
      "    fn(fut)\n",
      "  File \"/Users/caganze/anaconda3/lib/python3.7/site-packages/joblib/_dask.py\", line 260, in callback_wrapper\n",
      "    result = future.result()\n",
      "  File \"/Users/caganze/anaconda3/lib/python3.7/site-packages/distributed/client.py\", line 217, in result\n",
      "    result = self.client.sync(self._result, callback_timeout=timeout, raiseit=False)\n",
      "  File \"/Users/caganze/anaconda3/lib/python3.7/site-packages/distributed/client.py\", line 780, in sync\n",
      "    self.loop, func, *args, callback_timeout=callback_timeout, **kwargs\n",
      "  File \"/Users/caganze/anaconda3/lib/python3.7/site-packages/distributed/utils.py\", line 348, in sync\n",
      "    raise exc.with_traceback(tb)\n",
      "  File \"/Users/caganze/anaconda3/lib/python3.7/site-packages/distributed/utils.py\", line 332, in f\n",
      "    result[0] = yield future\n",
      "  File \"/Users/caganze/anaconda3/lib/python3.7/site-packages/tornado/gen.py\", line 735, in run\n",
      "    value = future.result()\n",
      "  File \"/Users/caganze/anaconda3/lib/python3.7/site-packages/distributed/client.py\", line 242, in _result\n",
      "    result = await self.client._gather([self])\n",
      "  File \"/Users/caganze/anaconda3/lib/python3.7/site-packages/distributed/client.py\", line 1781, in _gather\n",
      "    response = await future\n",
      "  File \"/Users/caganze/anaconda3/lib/python3.7/site-packages/distributed/client.py\", line 1822, in _gather_remote\n",
      "    who_has, rpc=self.rpc, close=False\n",
      "  File \"/Users/caganze/anaconda3/lib/python3.7/site-packages/distributed/utils_comm.py\", line 87, in gather_from_workers\n",
      "    response.update(r[\"data\"])\n",
      "KeyError: 'data'\n",
      "distributed.client - ERROR - Error in callback <function DaskDistributedBackend.apply_async.<locals>.callback_wrapper at 0x1b11ec1cb0> of <Future: finished, type: builtins.list, key: _parallel_build_trees-batch-e2613388b0a94861aa5ed808435df863>:\n",
      "Traceback (most recent call last):\n",
      "  File \"/Users/caganze/anaconda3/lib/python3.7/site-packages/distributed/client.py\", line 285, in execute_callback\n",
      "    fn(fut)\n",
      "  File \"/Users/caganze/anaconda3/lib/python3.7/site-packages/joblib/_dask.py\", line 260, in callback_wrapper\n",
      "    result = future.result()\n",
      "  File \"/Users/caganze/anaconda3/lib/python3.7/site-packages/distributed/client.py\", line 217, in result\n",
      "    result = self.client.sync(self._result, callback_timeout=timeout, raiseit=False)\n",
      "  File \"/Users/caganze/anaconda3/lib/python3.7/site-packages/distributed/client.py\", line 780, in sync\n",
      "    self.loop, func, *args, callback_timeout=callback_timeout, **kwargs\n",
      "  File \"/Users/caganze/anaconda3/lib/python3.7/site-packages/distributed/utils.py\", line 348, in sync\n",
      "    raise exc.with_traceback(tb)\n",
      "  File \"/Users/caganze/anaconda3/lib/python3.7/site-packages/distributed/utils.py\", line 332, in f\n",
      "    result[0] = yield future\n",
      "  File \"/Users/caganze/anaconda3/lib/python3.7/site-packages/tornado/gen.py\", line 735, in run\n",
      "    value = future.result()\n",
      "  File \"/Users/caganze/anaconda3/lib/python3.7/site-packages/distributed/client.py\", line 242, in _result\n",
      "    result = await self.client._gather([self])\n",
      "  File \"/Users/caganze/anaconda3/lib/python3.7/site-packages/distributed/client.py\", line 1781, in _gather\n",
      "    response = await future\n",
      "  File \"/Users/caganze/anaconda3/lib/python3.7/site-packages/distributed/client.py\", line 1822, in _gather_remote\n",
      "    who_has, rpc=self.rpc, close=False\n",
      "  File \"/Users/caganze/anaconda3/lib/python3.7/site-packages/distributed/utils_comm.py\", line 87, in gather_from_workers\n",
      "    response.update(r[\"data\"])\n",
      "KeyError: 'data'\n"
     ]
    },
    {
     "name": "stdout",
     "output_type": "stream",
     "text": [
      "[CV] ............ min_samples_split=2, n_estimators=890, total=  40.0s\n",
      "[CV] min_samples_split=2, n_estimators=890 ...........................\n",
      "[CV] ............ min_samples_split=2, n_estimators=890, total=  30.4s\n",
      "[CV] min_samples_split=2, n_estimators=890 ...........................\n",
      "[CV] ............ min_samples_split=2, n_estimators=890, total=  27.4s\n",
      "[CV] min_samples_split=2, n_estimators=890 ...........................\n",
      "[CV] ............ min_samples_split=2, n_estimators=890, total=  22.7s\n",
      "[CV] min_samples_split=2, n_estimators=890 ...........................\n",
      "[CV] ............ min_samples_split=2, n_estimators=890, total=  26.3s\n",
      "[CV] min_samples_split=2, n_estimators=1000 ..........................\n",
      "[CV] ........... min_samples_split=2, n_estimators=1000, total=  24.1s\n",
      "[CV] min_samples_split=2, n_estimators=1000 ..........................\n",
      "[CV] ........... min_samples_split=2, n_estimators=1000, total=  24.9s\n",
      "[CV] min_samples_split=2, n_estimators=1000 ..........................\n",
      "[CV] ........... min_samples_split=2, n_estimators=1000, total=  26.5s\n",
      "[CV] min_samples_split=2, n_estimators=1000 ..........................\n",
      "[CV] ........... min_samples_split=2, n_estimators=1000, total=  27.4s\n",
      "[CV] min_samples_split=2, n_estimators=1000 ..........................\n",
      "[CV] ........... min_samples_split=2, n_estimators=1000, total=  24.1s\n",
      "[CV] min_samples_split=3, n_estimators=10 ............................\n",
      "[CV] ............. min_samples_split=3, n_estimators=10, total=   0.3s\n",
      "[CV] min_samples_split=3, n_estimators=10 ............................\n",
      "[CV] ............. min_samples_split=3, n_estimators=10, total=   0.5s\n",
      "[CV] min_samples_split=3, n_estimators=10 ............................\n",
      "[CV] ............. min_samples_split=3, n_estimators=10, total=   0.4s\n",
      "[CV] min_samples_split=3, n_estimators=10 ............................\n",
      "[CV] ............. min_samples_split=3, n_estimators=10, total=   0.4s\n",
      "[CV] min_samples_split=3, n_estimators=10 ............................\n",
      "[CV] ............. min_samples_split=3, n_estimators=10, total=   0.2s\n",
      "[CV] min_samples_split=3, n_estimators=120 ...........................\n",
      "[CV] ............ min_samples_split=3, n_estimators=120, total=   4.2s\n",
      "[CV] min_samples_split=3, n_estimators=120 ...........................\n",
      "[CV] ............ min_samples_split=3, n_estimators=120, total=   6.0s\n",
      "[CV] min_samples_split=3, n_estimators=120 ...........................\n",
      "[CV] ............ min_samples_split=3, n_estimators=120, total=   5.0s\n",
      "[CV] min_samples_split=3, n_estimators=120 ...........................\n",
      "[CV] ............ min_samples_split=3, n_estimators=120, total=   2.6s\n",
      "[CV] min_samples_split=3, n_estimators=120 ...........................\n",
      "[CV] ............ min_samples_split=3, n_estimators=120, total=   4.3s\n",
      "[CV] min_samples_split=3, n_estimators=230 ...........................\n",
      "[CV] ............ min_samples_split=3, n_estimators=230, total=   5.9s\n",
      "[CV] min_samples_split=3, n_estimators=230 ...........................\n",
      "[CV] ............ min_samples_split=3, n_estimators=230, total=   6.6s\n",
      "[CV] min_samples_split=3, n_estimators=230 ...........................\n",
      "[CV] ............ min_samples_split=3, n_estimators=230, total=   5.7s\n",
      "[CV] min_samples_split=3, n_estimators=230 ...........................\n",
      "[CV] ............ min_samples_split=3, n_estimators=230, total=   8.4s\n",
      "[CV] min_samples_split=3, n_estimators=230 ...........................\n",
      "[CV] ............ min_samples_split=3, n_estimators=230, total=   4.7s\n",
      "[CV] min_samples_split=3, n_estimators=340 ...........................\n",
      "[CV] ............ min_samples_split=3, n_estimators=340, total=   7.6s\n",
      "[CV] min_samples_split=3, n_estimators=340 ...........................\n",
      "[CV] ............ min_samples_split=3, n_estimators=340, total=  10.1s\n",
      "[CV] min_samples_split=3, n_estimators=340 ...........................\n",
      "[CV] ............ min_samples_split=3, n_estimators=340, total=   9.3s\n",
      "[CV] min_samples_split=3, n_estimators=340 ...........................\n",
      "[CV] ............ min_samples_split=3, n_estimators=340, total=   9.4s\n",
      "[CV] min_samples_split=3, n_estimators=340 ...........................\n",
      "[CV] ............ min_samples_split=3, n_estimators=340, total=   7.6s\n",
      "[CV] min_samples_split=3, n_estimators=450 ...........................\n",
      "[CV] ............ min_samples_split=3, n_estimators=450, total=  11.8s\n",
      "[CV] min_samples_split=3, n_estimators=450 ...........................\n",
      "[CV] ............ min_samples_split=3, n_estimators=450, total=  14.7s\n",
      "[CV] min_samples_split=3, n_estimators=450 ...........................\n",
      "[CV] ............ min_samples_split=3, n_estimators=450, total=  11.8s\n",
      "[CV] min_samples_split=3, n_estimators=450 ...........................\n",
      "[CV] ............ min_samples_split=3, n_estimators=450, total=  11.8s\n",
      "[CV] min_samples_split=3, n_estimators=450 ...........................\n",
      "[CV] ............ min_samples_split=3, n_estimators=450, total=  13.4s\n",
      "[CV] min_samples_split=3, n_estimators=560 ...........................\n"
     ]
    },
    {
     "name": "stderr",
     "output_type": "stream",
     "text": [
      "distributed.client - ERROR - Error in callback <function DaskDistributedBackend.apply_async.<locals>.callback_wrapper at 0x1b409e07a0> of <Future: finished, type: builtins.list, key: _parallel_build_trees-batch-7b87c5eb72c943eda410cb6f4e4b7ea0>:\n",
      "Traceback (most recent call last):\n",
      "  File \"/Users/caganze/anaconda3/lib/python3.7/site-packages/distributed/client.py\", line 285, in execute_callback\n",
      "    fn(fut)\n",
      "  File \"/Users/caganze/anaconda3/lib/python3.7/site-packages/joblib/_dask.py\", line 260, in callback_wrapper\n",
      "    result = future.result()\n",
      "  File \"/Users/caganze/anaconda3/lib/python3.7/site-packages/distributed/client.py\", line 217, in result\n",
      "    result = self.client.sync(self._result, callback_timeout=timeout, raiseit=False)\n",
      "  File \"/Users/caganze/anaconda3/lib/python3.7/site-packages/distributed/client.py\", line 780, in sync\n",
      "    self.loop, func, *args, callback_timeout=callback_timeout, **kwargs\n",
      "  File \"/Users/caganze/anaconda3/lib/python3.7/site-packages/distributed/utils.py\", line 348, in sync\n",
      "    raise exc.with_traceback(tb)\n",
      "  File \"/Users/caganze/anaconda3/lib/python3.7/site-packages/distributed/utils.py\", line 332, in f\n",
      "    result[0] = yield future\n",
      "  File \"/Users/caganze/anaconda3/lib/python3.7/site-packages/tornado/gen.py\", line 735, in run\n",
      "    value = future.result()\n",
      "  File \"/Users/caganze/anaconda3/lib/python3.7/site-packages/distributed/client.py\", line 242, in _result\n",
      "    result = await self.client._gather([self])\n",
      "  File \"/Users/caganze/anaconda3/lib/python3.7/site-packages/distributed/client.py\", line 1781, in _gather\n",
      "    response = await future\n",
      "  File \"/Users/caganze/anaconda3/lib/python3.7/site-packages/distributed/client.py\", line 1822, in _gather_remote\n",
      "    who_has, rpc=self.rpc, close=False\n",
      "  File \"/Users/caganze/anaconda3/lib/python3.7/site-packages/distributed/utils_comm.py\", line 87, in gather_from_workers\n",
      "    response.update(r[\"data\"])\n",
      "KeyError: 'data'\n",
      "distributed.scheduler - ERROR - Couldn't gather keys {'_parallel_build_trees-batch-4bbc7e924f8a418890e399016bdde2f3': []} state: [None] workers: []\n",
      "NoneType: None\n",
      "distributed.scheduler - ERROR - Workers don't have promised key: [], _parallel_build_trees-batch-4bbc7e924f8a418890e399016bdde2f3\n",
      "NoneType: None\n",
      "distributed.client - ERROR - Error in callback <function DaskDistributedBackend.apply_async.<locals>.callback_wrapper at 0x1b27536950> of <Future: cancelled, type: builtins.list, key: _parallel_build_trees-batch-4bbc7e924f8a418890e399016bdde2f3>:\n",
      "Traceback (most recent call last):\n",
      "  File \"/Users/caganze/anaconda3/lib/python3.7/site-packages/distributed/client.py\", line 285, in execute_callback\n",
      "    fn(fut)\n",
      "  File \"/Users/caganze/anaconda3/lib/python3.7/site-packages/joblib/_dask.py\", line 260, in callback_wrapper\n",
      "    result = future.result()\n",
      "  File \"/Users/caganze/anaconda3/lib/python3.7/site-packages/distributed/client.py\", line 217, in result\n",
      "    result = self.client.sync(self._result, callback_timeout=timeout, raiseit=False)\n",
      "  File \"/Users/caganze/anaconda3/lib/python3.7/site-packages/distributed/client.py\", line 780, in sync\n",
      "    self.loop, func, *args, callback_timeout=callback_timeout, **kwargs\n",
      "  File \"/Users/caganze/anaconda3/lib/python3.7/site-packages/distributed/utils.py\", line 348, in sync\n",
      "    raise exc.with_traceback(tb)\n",
      "  File \"/Users/caganze/anaconda3/lib/python3.7/site-packages/distributed/utils.py\", line 332, in f\n",
      "    result[0] = yield future\n",
      "  File \"/Users/caganze/anaconda3/lib/python3.7/site-packages/tornado/gen.py\", line 735, in run\n",
      "    value = future.result()\n",
      "concurrent.futures._base.CancelledError\n"
     ]
    },
    {
     "name": "stdout",
     "output_type": "stream",
     "text": [
      "[CV] ............ min_samples_split=5, n_estimators=670, total=40.8min\n",
      "[CV] ............ min_samples_split=5, n_estimators=670, total=40.5min\n"
     ]
    },
    {
     "name": "stderr",
     "output_type": "stream",
     "text": [
      "distributed.client - ERROR - Error in callback <function DaskDistributedBackend.apply_async.<locals>.callback_wrapper at 0x1b10c5f5f0> of <Future: cancelled, type: builtins.list, key: _parallel_build_trees-batch-0eecfb4a6331457ca7fedc777e3fac25>:\n",
      "Traceback (most recent call last):\n",
      "  File \"/Users/caganze/anaconda3/lib/python3.7/site-packages/distributed/client.py\", line 285, in execute_callback\n",
      "    fn(fut)\n",
      "  File \"/Users/caganze/anaconda3/lib/python3.7/site-packages/joblib/_dask.py\", line 260, in callback_wrapper\n",
      "    result = future.result()\n",
      "  File \"/Users/caganze/anaconda3/lib/python3.7/site-packages/distributed/client.py\", line 222, in result\n",
      "    raise result\n",
      "concurrent.futures._base.CancelledError: _parallel_build_trees-batch-0eecfb4a6331457ca7fedc777e3fac25\n",
      "distributed.client - ERROR - Error in callback <function DaskDistributedBackend.apply_async.<locals>.callback_wrapper at 0x1a3f583c20> of <Future: cancelled, type: builtins.list, key: _parallel_build_trees-batch-eaef3112704a4fdbad4cc9771b25328d>:\n",
      "Traceback (most recent call last):\n",
      "  File \"/Users/caganze/anaconda3/lib/python3.7/site-packages/distributed/client.py\", line 285, in execute_callback\n",
      "    fn(fut)\n",
      "  File \"/Users/caganze/anaconda3/lib/python3.7/site-packages/joblib/_dask.py\", line 260, in callback_wrapper\n",
      "    result = future.result()\n",
      "  File \"/Users/caganze/anaconda3/lib/python3.7/site-packages/distributed/client.py\", line 222, in result\n",
      "    raise result\n",
      "concurrent.futures._base.CancelledError: _parallel_build_trees-batch-eaef3112704a4fdbad4cc9771b25328d\n",
      "distributed.client - ERROR - Error in callback <function DaskDistributedBackend.apply_async.<locals>.callback_wrapper at 0x1b10c57200> of <Future: cancelled, type: builtins.list, key: _parallel_build_trees-batch-919ff7b591b44310bebb604918c02b04>:\n",
      "Traceback (most recent call last):\n",
      "  File \"/Users/caganze/anaconda3/lib/python3.7/site-packages/distributed/client.py\", line 285, in execute_callback\n",
      "    fn(fut)\n",
      "  File \"/Users/caganze/anaconda3/lib/python3.7/site-packages/joblib/_dask.py\", line 260, in callback_wrapper\n",
      "    result = future.result()\n",
      "  File \"/Users/caganze/anaconda3/lib/python3.7/site-packages/distributed/client.py\", line 222, in result\n",
      "    raise result\n",
      "concurrent.futures._base.CancelledError: _parallel_build_trees-batch-919ff7b591b44310bebb604918c02b04\n",
      "distributed.client - ERROR - Error in callback <function DaskDistributedBackend.apply_async.<locals>.callback_wrapper at 0x1b401f4dd0> of <Future: cancelled, key: _parallel_build_trees-batch-c3ff6e6fbe0145b1a32ca1c77748b2d4>:\n",
      "Traceback (most recent call last):\n",
      "  File \"/Users/caganze/anaconda3/lib/python3.7/site-packages/distributed/client.py\", line 285, in execute_callback\n",
      "    fn(fut)\n",
      "  File \"/Users/caganze/anaconda3/lib/python3.7/site-packages/joblib/_dask.py\", line 260, in callback_wrapper\n",
      "    result = future.result()\n",
      "  File \"/Users/caganze/anaconda3/lib/python3.7/site-packages/distributed/client.py\", line 222, in result\n",
      "    raise result\n",
      "concurrent.futures._base.CancelledError: _parallel_build_trees-batch-c3ff6e6fbe0145b1a32ca1c77748b2d4\n",
      "distributed.client - ERROR - Error in callback <function DaskDistributedBackend.apply_async.<locals>.callback_wrapper at 0x1b0f1f6c20> of <Future: cancelled, key: _parallel_build_trees-batch-1496ab9456644704ba0fd5d3cb6ba94d>:\n",
      "Traceback (most recent call last):\n",
      "  File \"/Users/caganze/anaconda3/lib/python3.7/site-packages/distributed/client.py\", line 285, in execute_callback\n",
      "    fn(fut)\n",
      "  File \"/Users/caganze/anaconda3/lib/python3.7/site-packages/joblib/_dask.py\", line 260, in callback_wrapper\n",
      "    result = future.result()\n",
      "  File \"/Users/caganze/anaconda3/lib/python3.7/site-packages/distributed/client.py\", line 222, in result\n",
      "    raise result\n",
      "concurrent.futures._base.CancelledError: _parallel_build_trees-batch-1496ab9456644704ba0fd5d3cb6ba94d\n",
      "distributed.client - ERROR - Error in callback <function DaskDistributedBackend.apply_async.<locals>.callback_wrapper at 0x1b2f653dd0> of <Future: cancelled, key: _parallel_build_trees-batch-0417776c6bc84f7bb7c95f4ea5a0c1cb>:\n",
      "Traceback (most recent call last):\n",
      "  File \"/Users/caganze/anaconda3/lib/python3.7/site-packages/distributed/client.py\", line 285, in execute_callback\n",
      "    fn(fut)\n",
      "  File \"/Users/caganze/anaconda3/lib/python3.7/site-packages/joblib/_dask.py\", line 260, in callback_wrapper\n",
      "    result = future.result()\n",
      "  File \"/Users/caganze/anaconda3/lib/python3.7/site-packages/distributed/client.py\", line 222, in result\n",
      "    raise result\n",
      "concurrent.futures._base.CancelledError: _parallel_build_trees-batch-0417776c6bc84f7bb7c95f4ea5a0c1cb\n",
      "distributed.client - ERROR - Error in callback <function DaskDistributedBackend.apply_async.<locals>.callback_wrapper at 0x1ad2ea9050> of <Future: cancelled, key: _parallel_build_trees-batch-da294c43ddf9454bb1d358ef9e7f3a05>:\n",
      "Traceback (most recent call last):\n",
      "  File \"/Users/caganze/anaconda3/lib/python3.7/site-packages/distributed/client.py\", line 285, in execute_callback\n",
      "    fn(fut)\n",
      "  File \"/Users/caganze/anaconda3/lib/python3.7/site-packages/joblib/_dask.py\", line 260, in callback_wrapper\n",
      "    result = future.result()\n",
      "  File \"/Users/caganze/anaconda3/lib/python3.7/site-packages/distributed/client.py\", line 222, in result\n",
      "    raise result\n",
      "concurrent.futures._base.CancelledError: _parallel_build_trees-batch-da294c43ddf9454bb1d358ef9e7f3a05\n",
      "distributed.client - ERROR - Error in callback <function DaskDistributedBackend.apply_async.<locals>.callback_wrapper at 0x1b361b54d0> of <Future: cancelled, key: _parallel_build_trees-batch-5b39ac9af47b40219bbe6ef94c2e276c>:\n",
      "Traceback (most recent call last):\n",
      "  File \"/Users/caganze/anaconda3/lib/python3.7/site-packages/distributed/client.py\", line 285, in execute_callback\n",
      "    fn(fut)\n",
      "  File \"/Users/caganze/anaconda3/lib/python3.7/site-packages/joblib/_dask.py\", line 260, in callback_wrapper\n",
      "    result = future.result()\n",
      "  File \"/Users/caganze/anaconda3/lib/python3.7/site-packages/distributed/client.py\", line 222, in result\n",
      "    raise result\n",
      "concurrent.futures._base.CancelledError: _parallel_build_trees-batch-5b39ac9af47b40219bbe6ef94c2e276c\n",
      "distributed.client - ERROR - Error in callback <function DaskDistributedBackend.apply_async.<locals>.callback_wrapper at 0x1b2b116290> of <Future: cancelled, key: _parallel_build_trees-batch-1a9c3f77ccb14f3e9a6eeff4fc7488ad>:\n",
      "Traceback (most recent call last):\n",
      "  File \"/Users/caganze/anaconda3/lib/python3.7/site-packages/distributed/client.py\", line 285, in execute_callback\n",
      "    fn(fut)\n",
      "  File \"/Users/caganze/anaconda3/lib/python3.7/site-packages/joblib/_dask.py\", line 260, in callback_wrapper\n",
      "    result = future.result()\n",
      "  File \"/Users/caganze/anaconda3/lib/python3.7/site-packages/distributed/client.py\", line 222, in result\n",
      "    raise result\n",
      "concurrent.futures._base.CancelledError: _parallel_build_trees-batch-1a9c3f77ccb14f3e9a6eeff4fc7488ad\n",
      "distributed.client - ERROR - Error in callback <function DaskDistributedBackend.apply_async.<locals>.callback_wrapper at 0x1b39dd0440> of <Future: cancelled, key: _parallel_build_trees-batch-88171e75d0414151963503172d6d778a>:\n",
      "Traceback (most recent call last):\n",
      "  File \"/Users/caganze/anaconda3/lib/python3.7/site-packages/distributed/client.py\", line 285, in execute_callback\n",
      "    fn(fut)\n",
      "  File \"/Users/caganze/anaconda3/lib/python3.7/site-packages/joblib/_dask.py\", line 260, in callback_wrapper\n",
      "    result = future.result()\n",
      "  File \"/Users/caganze/anaconda3/lib/python3.7/site-packages/distributed/client.py\", line 222, in result\n",
      "    raise result\n",
      "concurrent.futures._base.CancelledError: _parallel_build_trees-batch-88171e75d0414151963503172d6d778a\n"
     ]
    },
    {
     "name": "stdout",
     "output_type": "stream",
     "text": [
      "[CV] ............ min_samples_split=3, n_estimators=560, total=  18.3s\n",
      "[CV] min_samples_split=3, n_estimators=560 ...........................\n",
      "[CV] ............ min_samples_split=5, n_estimators=780, total=40.3min\n",
      "[CV] ............ min_samples_split=5, n_estimators=780, total=40.1min\n",
      "[CV] ............ min_samples_split=3, n_estimators=560, total=  38.3s\n",
      "[CV] min_samples_split=3, n_estimators=560 ...........................\n",
      "[CV] ............ min_samples_split=3, n_estimators=560, total=  17.8s\n",
      "[CV] min_samples_split=3, n_estimators=560 ...........................\n",
      "[CV] ............ min_samples_split=3, n_estimators=560, total=  15.8s\n",
      "[CV] min_samples_split=3, n_estimators=560 ...........................\n",
      "[CV] ............ min_samples_split=3, n_estimators=560, total=  12.6s\n",
      "[CV] min_samples_split=3, n_estimators=670 ...........................\n",
      "[CV] ............ min_samples_split=3, n_estimators=670, total=  19.8s\n",
      "[CV] min_samples_split=3, n_estimators=670 ...........................\n",
      "[CV] ............ min_samples_split=3, n_estimators=670, total=  20.0s\n",
      "[CV] min_samples_split=3, n_estimators=670 ...........................\n",
      "[CV] ............ min_samples_split=3, n_estimators=670, total=  14.6s\n",
      "[CV] min_samples_split=3, n_estimators=670 ...........................\n",
      "[CV] ............ min_samples_split=3, n_estimators=670, total=  16.6s\n",
      "[CV] min_samples_split=3, n_estimators=670 ...........................\n",
      "[CV] ............ min_samples_split=3, n_estimators=670, total=  20.6s\n",
      "[CV] min_samples_split=3, n_estimators=780 ...........................\n",
      "[CV] ............ min_samples_split=3, n_estimators=780, total=  21.1s\n",
      "[CV] min_samples_split=3, n_estimators=780 ...........................\n",
      "[CV] ............ min_samples_split=3, n_estimators=780, total=  14.6s\n",
      "[CV] min_samples_split=3, n_estimators=780 ...........................\n",
      "[CV] ............ min_samples_split=3, n_estimators=780, total=  13.9s\n",
      "[CV] min_samples_split=3, n_estimators=780 ...........................\n",
      "[CV] ............ min_samples_split=3, n_estimators=780, total=  13.7s\n",
      "[CV] min_samples_split=3, n_estimators=780 ...........................\n",
      "[CV] ............ min_samples_split=3, n_estimators=780, total=  12.7s\n",
      "[CV] min_samples_split=3, n_estimators=890 ...........................\n",
      "[CV] ............ min_samples_split=3, n_estimators=890, total=  15.9s\n",
      "[CV] min_samples_split=3, n_estimators=890 ...........................\n",
      "[CV] ............ min_samples_split=3, n_estimators=890, total=  15.6s\n",
      "[CV] min_samples_split=3, n_estimators=890 ...........................\n",
      "[CV] ............ min_samples_split=3, n_estimators=890, total=  15.3s\n",
      "[CV] min_samples_split=3, n_estimators=890 ...........................\n",
      "[CV] ............ min_samples_split=3, n_estimators=890, total=  18.2s\n",
      "[CV] min_samples_split=3, n_estimators=890 ...........................\n",
      "[CV] ............ min_samples_split=3, n_estimators=890, total=  27.8s\n",
      "[CV] min_samples_split=3, n_estimators=1000 ..........................\n",
      "[CV] ........... min_samples_split=3, n_estimators=1000, total=  24.6s\n",
      "[CV] min_samples_split=3, n_estimators=1000 ..........................\n",
      "[CV] ........... min_samples_split=3, n_estimators=1000, total=  21.3s\n",
      "[CV] min_samples_split=3, n_estimators=1000 ..........................\n",
      "[CV] ........... min_samples_split=3, n_estimators=1000, total=  24.6s\n",
      "[CV] min_samples_split=3, n_estimators=1000 ..........................\n",
      "[CV] ........... min_samples_split=3, n_estimators=1000, total=  23.2s\n",
      "[CV] min_samples_split=3, n_estimators=1000 ..........................\n",
      "[CV] ........... min_samples_split=3, n_estimators=1000, total=  21.6s\n",
      "[CV] min_samples_split=4, n_estimators=10 ............................\n",
      "[CV] ............. min_samples_split=4, n_estimators=10, total=   0.3s\n",
      "[CV] min_samples_split=4, n_estimators=10 ............................\n",
      "[CV] ............. min_samples_split=4, n_estimators=10, total=   0.2s\n",
      "[CV] min_samples_split=4, n_estimators=10 ............................\n",
      "[CV] ............. min_samples_split=4, n_estimators=10, total=   0.2s\n",
      "[CV] min_samples_split=4, n_estimators=10 ............................\n",
      "[CV] ............. min_samples_split=4, n_estimators=10, total=   0.2s\n",
      "[CV] min_samples_split=4, n_estimators=10 ............................\n",
      "[CV] ............. min_samples_split=4, n_estimators=10, total=   0.2s\n",
      "[CV] min_samples_split=4, n_estimators=120 ...........................\n",
      "[CV] ............ min_samples_split=4, n_estimators=120, total=   2.6s\n",
      "[CV] min_samples_split=4, n_estimators=120 ...........................\n",
      "[CV] ............ min_samples_split=4, n_estimators=120, total=   2.7s\n",
      "[CV] min_samples_split=4, n_estimators=120 ...........................\n",
      "[CV] ............ min_samples_split=4, n_estimators=120, total=   2.5s\n",
      "[CV] min_samples_split=4, n_estimators=120 ...........................\n",
      "[CV] ............ min_samples_split=4, n_estimators=120, total=   2.7s\n",
      "[CV] min_samples_split=4, n_estimators=120 ...........................\n",
      "[CV] ............ min_samples_split=4, n_estimators=120, total=   2.6s\n",
      "[CV] min_samples_split=4, n_estimators=230 ...........................\n",
      "[CV] ............ min_samples_split=4, n_estimators=230, total=   5.1s\n",
      "[CV] min_samples_split=4, n_estimators=230 ...........................\n",
      "[CV] ............ min_samples_split=4, n_estimators=230, total=   6.5s\n",
      "[CV] min_samples_split=4, n_estimators=230 ...........................\n",
      "[CV] ............ min_samples_split=4, n_estimators=230, total=   6.1s\n",
      "[CV] min_samples_split=4, n_estimators=230 ...........................\n",
      "[CV] ............ min_samples_split=4, n_estimators=230, total=   5.4s\n",
      "[CV] min_samples_split=4, n_estimators=230 ...........................\n",
      "[CV] ............ min_samples_split=4, n_estimators=230, total=   4.3s\n",
      "[CV] min_samples_split=4, n_estimators=340 ...........................\n",
      "[CV] ............ min_samples_split=4, n_estimators=340, total=   7.3s\n",
      "[CV] min_samples_split=4, n_estimators=340 ...........................\n",
      "[CV] ............ min_samples_split=4, n_estimators=340, total=   6.6s\n",
      "[CV] min_samples_split=4, n_estimators=340 ...........................\n",
      "[CV] ............ min_samples_split=4, n_estimators=340, total=   6.8s\n",
      "[CV] min_samples_split=4, n_estimators=340 ...........................\n",
      "[CV] ............ min_samples_split=4, n_estimators=340, total=   7.0s\n",
      "[CV] min_samples_split=4, n_estimators=340 ...........................\n",
      "[CV] ............ min_samples_split=4, n_estimators=340, total=   6.7s\n",
      "[CV] min_samples_split=4, n_estimators=450 ...........................\n",
      "[CV] ............ min_samples_split=4, n_estimators=450, total=   8.7s\n",
      "[CV] min_samples_split=4, n_estimators=450 ...........................\n",
      "[CV] ............ min_samples_split=4, n_estimators=450, total=   8.7s\n",
      "[CV] min_samples_split=4, n_estimators=450 ...........................\n",
      "[CV] ............ min_samples_split=4, n_estimators=450, total=   8.9s\n",
      "[CV] min_samples_split=4, n_estimators=450 ...........................\n",
      "[CV] ............ min_samples_split=4, n_estimators=450, total=   8.7s\n",
      "[CV] min_samples_split=4, n_estimators=450 ...........................\n",
      "[CV] ............ min_samples_split=4, n_estimators=450, total=   8.2s\n",
      "[CV] min_samples_split=4, n_estimators=560 ...........................\n",
      "[CV] ............ min_samples_split=4, n_estimators=560, total=  11.2s\n",
      "[CV] min_samples_split=4, n_estimators=560 ...........................\n",
      "[CV] ............ min_samples_split=4, n_estimators=560, total=  11.0s\n",
      "[CV] min_samples_split=4, n_estimators=560 ...........................\n",
      "[CV] ............ min_samples_split=4, n_estimators=560, total=  11.4s\n",
      "[CV] min_samples_split=4, n_estimators=560 ...........................\n",
      "[CV] ............ min_samples_split=4, n_estimators=560, total=  11.0s\n",
      "[CV] min_samples_split=4, n_estimators=560 ...........................\n",
      "[CV] ............ min_samples_split=4, n_estimators=560, total=  10.7s\n",
      "[CV] min_samples_split=4, n_estimators=670 ...........................\n",
      "[CV] ............ min_samples_split=4, n_estimators=670, total=  14.3s\n",
      "[CV] min_samples_split=4, n_estimators=670 ...........................\n",
      "[CV] ............ min_samples_split=4, n_estimators=670, total=  13.3s\n",
      "[CV] min_samples_split=4, n_estimators=670 ...........................\n",
      "[CV] ............ min_samples_split=4, n_estimators=670, total=  13.4s\n",
      "[CV] min_samples_split=4, n_estimators=670 ...........................\n",
      "[CV] ............ min_samples_split=4, n_estimators=670, total=  13.3s\n",
      "[CV] min_samples_split=4, n_estimators=670 ...........................\n",
      "[CV] ............ min_samples_split=4, n_estimators=670, total=  13.1s\n",
      "[CV] min_samples_split=4, n_estimators=780 ...........................\n",
      "[CV] ............ min_samples_split=4, n_estimators=780, total=  15.7s\n",
      "[CV] min_samples_split=4, n_estimators=780 ...........................\n",
      "[CV] ............ min_samples_split=4, n_estimators=780, total=  22.4s\n",
      "[CV] min_samples_split=4, n_estimators=780 ...........................\n",
      "[CV] ............ min_samples_split=4, n_estimators=780, total=  15.7s\n",
      "[CV] min_samples_split=4, n_estimators=780 ...........................\n",
      "[CV] ............ min_samples_split=4, n_estimators=780, total=  16.3s\n",
      "[CV] min_samples_split=4, n_estimators=780 ...........................\n",
      "[CV] ............ min_samples_split=4, n_estimators=780, total=  15.3s\n",
      "[CV] min_samples_split=4, n_estimators=890 ...........................\n",
      "[CV] ............ min_samples_split=4, n_estimators=890, total=  17.6s\n",
      "[CV] min_samples_split=4, n_estimators=890 ...........................\n",
      "[CV] ............ min_samples_split=4, n_estimators=890, total=  17.6s\n",
      "[CV] min_samples_split=4, n_estimators=890 ...........................\n",
      "[CV] ............ min_samples_split=4, n_estimators=890, total=  18.4s\n",
      "[CV] min_samples_split=4, n_estimators=890 ...........................\n",
      "[CV] ............ min_samples_split=4, n_estimators=890, total=  18.3s\n",
      "[CV] min_samples_split=4, n_estimators=890 ...........................\n",
      "[CV] ............ min_samples_split=4, n_estimators=890, total=  16.4s\n",
      "[CV] min_samples_split=4, n_estimators=1000 ..........................\n",
      "[CV] ........... min_samples_split=4, n_estimators=1000, total=  21.0s\n",
      "[CV] min_samples_split=4, n_estimators=1000 ..........................\n",
      "[CV] ........... min_samples_split=4, n_estimators=1000, total=  25.8s\n",
      "[CV] min_samples_split=4, n_estimators=1000 ..........................\n",
      "[CV] ........... min_samples_split=4, n_estimators=1000, total=  25.8s\n",
      "[CV] min_samples_split=4, n_estimators=1000 ..........................\n",
      "[CV] ........... min_samples_split=4, n_estimators=1000, total=  21.8s\n",
      "[CV] min_samples_split=4, n_estimators=1000 ..........................\n",
      "[CV] ........... min_samples_split=4, n_estimators=1000, total=  25.6s\n",
      "[CV] min_samples_split=5, n_estimators=10 ............................\n",
      "[CV] ............. min_samples_split=5, n_estimators=10, total=   0.4s\n",
      "[CV] min_samples_split=5, n_estimators=10 ............................\n",
      "[CV] ............. min_samples_split=5, n_estimators=10, total=   0.6s\n",
      "[CV] min_samples_split=5, n_estimators=10 ............................\n",
      "[CV] ............. min_samples_split=5, n_estimators=10, total=   1.8s\n",
      "[CV] min_samples_split=5, n_estimators=10 ............................\n",
      "[CV] ............. min_samples_split=5, n_estimators=10, total=   0.9s\n",
      "[CV] min_samples_split=5, n_estimators=10 ............................\n",
      "[CV] ............. min_samples_split=5, n_estimators=10, total=   0.8s\n",
      "[CV] min_samples_split=5, n_estimators=120 ...........................\n",
      "[CV] ............ min_samples_split=5, n_estimators=120, total=   4.0s\n",
      "[CV] min_samples_split=5, n_estimators=120 ...........................\n",
      "[CV] ............ min_samples_split=5, n_estimators=120, total=   2.9s\n",
      "[CV] min_samples_split=5, n_estimators=120 ...........................\n",
      "[CV] ............ min_samples_split=5, n_estimators=120, total=   3.6s\n",
      "[CV] min_samples_split=5, n_estimators=120 ...........................\n",
      "[CV] ............ min_samples_split=5, n_estimators=120, total=   2.7s\n",
      "[CV] min_samples_split=5, n_estimators=120 ...........................\n",
      "[CV] ............ min_samples_split=5, n_estimators=120, total=   2.5s\n",
      "[CV] min_samples_split=5, n_estimators=230 ...........................\n",
      "[CV] ............ min_samples_split=5, n_estimators=230, total=   6.8s\n",
      "[CV] min_samples_split=5, n_estimators=230 ...........................\n",
      "[CV] ............ min_samples_split=5, n_estimators=230, total=   5.4s\n",
      "[CV] min_samples_split=5, n_estimators=230 ...........................\n",
      "[CV] ............ min_samples_split=5, n_estimators=230, total=   6.2s\n",
      "[CV] min_samples_split=5, n_estimators=230 ...........................\n",
      "[CV] ............ min_samples_split=5, n_estimators=230, total=   7.2s\n",
      "[CV] min_samples_split=5, n_estimators=230 ...........................\n",
      "[CV] ............ min_samples_split=5, n_estimators=230, total=   5.9s\n",
      "[CV] min_samples_split=5, n_estimators=340 ...........................\n",
      "[CV] ............ min_samples_split=5, n_estimators=340, total=   7.5s\n",
      "[CV] min_samples_split=5, n_estimators=340 ...........................\n",
      "[CV] ............ min_samples_split=5, n_estimators=340, total=   7.1s\n",
      "[CV] min_samples_split=5, n_estimators=340 ...........................\n",
      "[CV] ............ min_samples_split=5, n_estimators=340, total=   9.2s\n",
      "[CV] min_samples_split=5, n_estimators=340 ...........................\n",
      "[CV] ............ min_samples_split=5, n_estimators=340, total=  12.2s\n",
      "[CV] min_samples_split=5, n_estimators=340 ...........................\n",
      "[CV] ............ min_samples_split=5, n_estimators=340, total=   6.9s\n",
      "[CV] min_samples_split=5, n_estimators=450 ...........................\n",
      "[CV] ............ min_samples_split=5, n_estimators=450, total=  11.0s\n",
      "[CV] min_samples_split=5, n_estimators=450 ...........................\n",
      "[CV] ............ min_samples_split=5, n_estimators=450, total=   9.8s\n",
      "[CV] min_samples_split=5, n_estimators=450 ...........................\n",
      "[CV] ............ min_samples_split=5, n_estimators=450, total=  10.1s\n",
      "[CV] min_samples_split=5, n_estimators=450 ...........................\n",
      "[CV] ............ min_samples_split=5, n_estimators=450, total=   9.7s\n",
      "[CV] min_samples_split=5, n_estimators=450 ...........................\n",
      "[CV] ............ min_samples_split=5, n_estimators=450, total=  10.8s\n",
      "[CV] min_samples_split=5, n_estimators=560 ...........................\n",
      "[CV] ............ min_samples_split=5, n_estimators=560, total=  15.8s\n",
      "[CV] min_samples_split=5, n_estimators=560 ...........................\n",
      "[CV] ............ min_samples_split=5, n_estimators=560, total=  14.5s\n",
      "[CV] min_samples_split=5, n_estimators=560 ...........................\n",
      "[CV] ............ min_samples_split=5, n_estimators=560, total=  17.5s\n",
      "[CV] min_samples_split=5, n_estimators=560 ...........................\n",
      "[CV] ............ min_samples_split=5, n_estimators=560, total=  15.4s\n",
      "[CV] min_samples_split=5, n_estimators=560 ...........................\n",
      "[CV] ............ min_samples_split=5, n_estimators=560, total=  12.0s\n",
      "[CV] min_samples_split=5, n_estimators=670 ...........................\n",
      "[CV] ............ min_samples_split=5, n_estimators=670, total=  14.0s\n",
      "[CV] min_samples_split=5, n_estimators=670 ...........................\n",
      "[CV] ............ min_samples_split=5, n_estimators=670, total=  19.6s\n",
      "[CV] min_samples_split=5, n_estimators=670 ...........................\n",
      "[CV] ............ min_samples_split=5, n_estimators=670, total=  15.2s\n",
      "[CV] min_samples_split=5, n_estimators=670 ...........................\n",
      "[CV] ............ min_samples_split=5, n_estimators=670, total=  23.4s\n",
      "[CV] min_samples_split=5, n_estimators=670 ...........................\n",
      "[CV] ............ min_samples_split=5, n_estimators=670, total=  23.5s\n",
      "[CV] min_samples_split=5, n_estimators=780 ...........................\n",
      "[CV] ............ min_samples_split=5, n_estimators=780, total=  21.8s\n",
      "[CV] min_samples_split=5, n_estimators=780 ...........................\n",
      "[CV] ............ min_samples_split=5, n_estimators=780, total=  15.6s\n",
      "[CV] min_samples_split=5, n_estimators=780 ...........................\n",
      "[CV] ............ min_samples_split=5, n_estimators=780, total=  16.2s\n",
      "[CV] min_samples_split=5, n_estimators=780 ...........................\n",
      "[CV] ............ min_samples_split=5, n_estimators=780, total=  27.6s\n",
      "[CV] min_samples_split=5, n_estimators=780 ...........................\n",
      "[CV] ............ min_samples_split=5, n_estimators=780, total=  24.6s\n",
      "[CV] min_samples_split=5, n_estimators=890 ...........................\n",
      "[CV] ............ min_samples_split=5, n_estimators=890, total=  28.4s\n",
      "[CV] min_samples_split=5, n_estimators=890 ...........................\n",
      "[CV] ............ min_samples_split=5, n_estimators=890, total=  26.6s\n",
      "[CV] min_samples_split=5, n_estimators=890 ...........................\n",
      "[CV] ............ min_samples_split=5, n_estimators=890, total=  27.1s\n",
      "[CV] min_samples_split=5, n_estimators=890 ...........................\n",
      "[CV] ............ min_samples_split=5, n_estimators=890, total=  28.3s\n",
      "[CV] min_samples_split=5, n_estimators=890 ...........................\n",
      "[CV] ............ min_samples_split=5, n_estimators=890, total=  30.0s\n",
      "[CV] min_samples_split=5, n_estimators=1000 ..........................\n",
      "[CV] ........... min_samples_split=5, n_estimators=1000, total=  27.0s\n",
      "[CV] min_samples_split=5, n_estimators=1000 ..........................\n",
      "[CV] ........... min_samples_split=5, n_estimators=1000, total=  21.5s\n",
      "[CV] min_samples_split=5, n_estimators=1000 ..........................\n",
      "[CV] ........... min_samples_split=5, n_estimators=1000, total=  19.6s\n",
      "[CV] min_samples_split=5, n_estimators=1000 ..........................\n",
      "[CV] ........... min_samples_split=5, n_estimators=1000, total=  19.7s\n",
      "[CV] min_samples_split=5, n_estimators=1000 ..........................\n",
      "[CV] ........... min_samples_split=5, n_estimators=1000, total=  19.5s\n",
      "[CV] min_samples_split=6, n_estimators=10 ............................\n",
      "[CV] ............. min_samples_split=6, n_estimators=10, total=   0.2s\n",
      "[CV] min_samples_split=6, n_estimators=10 ............................\n",
      "[CV] ............. min_samples_split=6, n_estimators=10, total=   0.2s\n",
      "[CV] min_samples_split=6, n_estimators=10 ............................\n",
      "[CV] ............. min_samples_split=6, n_estimators=10, total=   0.2s\n",
      "[CV] min_samples_split=6, n_estimators=10 ............................\n",
      "[CV] ............. min_samples_split=6, n_estimators=10, total=   0.2s\n",
      "[CV] min_samples_split=6, n_estimators=10 ............................\n",
      "[CV] ............. min_samples_split=6, n_estimators=10, total=   0.2s\n",
      "[CV] min_samples_split=6, n_estimators=120 ...........................\n",
      "[CV] ............ min_samples_split=6, n_estimators=120, total=   2.5s\n",
      "[CV] min_samples_split=6, n_estimators=120 ...........................\n",
      "[CV] ............ min_samples_split=6, n_estimators=120, total=   2.3s\n",
      "[CV] min_samples_split=6, n_estimators=120 ...........................\n",
      "[CV] ............ min_samples_split=6, n_estimators=120, total=   2.4s\n",
      "[CV] min_samples_split=6, n_estimators=120 ...........................\n",
      "[CV] ............ min_samples_split=6, n_estimators=120, total=   2.3s\n",
      "[CV] min_samples_split=6, n_estimators=120 ...........................\n",
      "[CV] ............ min_samples_split=6, n_estimators=120, total=   2.2s\n",
      "[CV] min_samples_split=6, n_estimators=230 ...........................\n",
      "[CV] ............ min_samples_split=6, n_estimators=230, total=   4.7s\n",
      "[CV] min_samples_split=6, n_estimators=230 ...........................\n",
      "[CV] ............ min_samples_split=6, n_estimators=230, total=   4.8s\n",
      "[CV] min_samples_split=6, n_estimators=230 ...........................\n",
      "[CV] ............ min_samples_split=6, n_estimators=230, total=   4.5s\n",
      "[CV] min_samples_split=6, n_estimators=230 ...........................\n",
      "[CV] ............ min_samples_split=6, n_estimators=230, total=   4.7s\n",
      "[CV] min_samples_split=6, n_estimators=230 ...........................\n",
      "[CV] ............ min_samples_split=6, n_estimators=230, total=   4.4s\n",
      "[CV] min_samples_split=6, n_estimators=340 ...........................\n",
      "[CV] ............ min_samples_split=6, n_estimators=340, total=   8.2s\n",
      "[CV] min_samples_split=6, n_estimators=340 ...........................\n",
      "[CV] ............ min_samples_split=6, n_estimators=340, total=  11.6s\n",
      "[CV] min_samples_split=6, n_estimators=340 ...........................\n",
      "[CV] ............ min_samples_split=6, n_estimators=340, total=   7.6s\n",
      "[CV] min_samples_split=6, n_estimators=340 ...........................\n",
      "[CV] ............ min_samples_split=6, n_estimators=340, total=   7.2s\n",
      "[CV] min_samples_split=6, n_estimators=340 ...........................\n",
      "[CV] ............ min_samples_split=6, n_estimators=340, total=  11.8s\n",
      "[CV] min_samples_split=6, n_estimators=450 ...........................\n",
      "[CV] ............ min_samples_split=6, n_estimators=450, total=  12.4s\n",
      "[CV] min_samples_split=6, n_estimators=450 ...........................\n",
      "[CV] ............ min_samples_split=6, n_estimators=450, total=  11.7s\n",
      "[CV] min_samples_split=6, n_estimators=450 ...........................\n",
      "[CV] ............ min_samples_split=6, n_estimators=450, total=   8.5s\n",
      "[CV] min_samples_split=6, n_estimators=450 ...........................\n",
      "[CV] ............ min_samples_split=6, n_estimators=450, total=  10.7s\n",
      "[CV] min_samples_split=6, n_estimators=450 ...........................\n",
      "[CV] ............ min_samples_split=6, n_estimators=450, total=   9.5s\n",
      "[CV] min_samples_split=6, n_estimators=560 ...........................\n",
      "[CV] ............ min_samples_split=6, n_estimators=560, total=  16.3s\n",
      "[CV] min_samples_split=6, n_estimators=560 ...........................\n",
      "[CV] ............ min_samples_split=6, n_estimators=560, total=  17.3s\n",
      "[CV] min_samples_split=6, n_estimators=560 ...........................\n",
      "[CV] ............ min_samples_split=6, n_estimators=560, total=  11.9s\n",
      "[CV] min_samples_split=6, n_estimators=560 ...........................\n",
      "[CV] ............ min_samples_split=6, n_estimators=560, total=  11.5s\n",
      "[CV] min_samples_split=6, n_estimators=560 ...........................\n",
      "[CV] ............ min_samples_split=6, n_estimators=560, total=  17.2s\n",
      "[CV] min_samples_split=6, n_estimators=670 ...........................\n",
      "[CV] ............ min_samples_split=6, n_estimators=670, total=  16.1s\n",
      "[CV] min_samples_split=6, n_estimators=670 ...........................\n",
      "[CV] ............ min_samples_split=6, n_estimators=670, total=  18.2s\n",
      "[CV] min_samples_split=6, n_estimators=670 ...........................\n",
      "[CV] ............ min_samples_split=6, n_estimators=670, total=  16.3s\n",
      "[CV] min_samples_split=6, n_estimators=670 ...........................\n",
      "[CV] ............ min_samples_split=6, n_estimators=670, total=  13.8s\n",
      "[CV] min_samples_split=6, n_estimators=670 ...........................\n",
      "[CV] ............ min_samples_split=6, n_estimators=670, total=  13.2s\n",
      "[CV] min_samples_split=6, n_estimators=780 ...........................\n",
      "[CV] ............ min_samples_split=6, n_estimators=780, total=  22.9s\n",
      "[CV] min_samples_split=6, n_estimators=780 ...........................\n",
      "[CV] ............ min_samples_split=6, n_estimators=780, total=  21.8s\n",
      "[CV] min_samples_split=6, n_estimators=780 ...........................\n",
      "[CV] ............ min_samples_split=6, n_estimators=780, total=  17.9s\n",
      "[CV] min_samples_split=6, n_estimators=780 ...........................\n",
      "[CV] ............ min_samples_split=6, n_estimators=780, total=  19.9s\n",
      "[CV] min_samples_split=6, n_estimators=780 ...........................\n",
      "[CV] ............ min_samples_split=6, n_estimators=780, total=  21.9s\n",
      "[CV] min_samples_split=6, n_estimators=890 ...........................\n",
      "[CV] ............ min_samples_split=6, n_estimators=890, total=  22.8s\n",
      "[CV] min_samples_split=6, n_estimators=890 ...........................\n",
      "[CV] ............ min_samples_split=6, n_estimators=890, total=  23.9s\n",
      "[CV] min_samples_split=6, n_estimators=890 ...........................\n",
      "[CV] ............ min_samples_split=6, n_estimators=890, total=  21.6s\n",
      "[CV] min_samples_split=6, n_estimators=890 ...........................\n",
      "[CV] ............ min_samples_split=6, n_estimators=890, total=  17.5s\n",
      "[CV] min_samples_split=6, n_estimators=890 ...........................\n",
      "[CV] ............ min_samples_split=6, n_estimators=890, total=  17.9s\n",
      "[CV] min_samples_split=6, n_estimators=1000 ..........................\n",
      "[CV] ........... min_samples_split=6, n_estimators=1000, total=  19.1s\n",
      "[CV] min_samples_split=6, n_estimators=1000 ..........................\n",
      "[CV] ........... min_samples_split=6, n_estimators=1000, total=  21.1s\n",
      "[CV] min_samples_split=6, n_estimators=1000 ..........................\n",
      "[CV] ........... min_samples_split=6, n_estimators=1000, total=  18.7s\n",
      "[CV] min_samples_split=6, n_estimators=1000 ..........................\n",
      "[CV] ........... min_samples_split=6, n_estimators=1000, total=  21.1s\n",
      "[CV] min_samples_split=6, n_estimators=1000 ..........................\n",
      "[CV] ........... min_samples_split=6, n_estimators=1000, total=  26.1s\n",
      "[CV] min_samples_split=7, n_estimators=10 ............................\n",
      "[CV] ............. min_samples_split=7, n_estimators=10, total=   0.6s\n",
      "[CV] min_samples_split=7, n_estimators=10 ............................\n",
      "[CV] ............. min_samples_split=7, n_estimators=10, total=   0.4s\n",
      "[CV] min_samples_split=7, n_estimators=10 ............................\n",
      "[CV] ............. min_samples_split=7, n_estimators=10, total=   0.4s\n",
      "[CV] min_samples_split=7, n_estimators=10 ............................\n",
      "[CV] ............. min_samples_split=7, n_estimators=10, total=   0.5s\n",
      "[CV] min_samples_split=7, n_estimators=10 ............................\n",
      "[CV] ............. min_samples_split=7, n_estimators=10, total=   0.2s\n",
      "[CV] min_samples_split=7, n_estimators=120 ...........................\n",
      "[CV] ............ min_samples_split=7, n_estimators=120, total=   3.8s\n",
      "[CV] min_samples_split=7, n_estimators=120 ...........................\n",
      "[CV] ............ min_samples_split=7, n_estimators=120, total=   2.9s\n",
      "[CV] min_samples_split=7, n_estimators=120 ...........................\n",
      "[CV] ............ min_samples_split=7, n_estimators=120, total=   3.9s\n",
      "[CV] min_samples_split=7, n_estimators=120 ...........................\n",
      "[CV] ............ min_samples_split=7, n_estimators=120, total=   4.1s\n",
      "[CV] min_samples_split=7, n_estimators=120 ...........................\n",
      "[CV] ............ min_samples_split=7, n_estimators=120, total=   3.8s\n",
      "[CV] min_samples_split=7, n_estimators=230 ...........................\n",
      "[CV] ............ min_samples_split=7, n_estimators=230, total=   7.0s\n",
      "[CV] min_samples_split=7, n_estimators=230 ...........................\n",
      "[CV] ............ min_samples_split=7, n_estimators=230, total=   4.9s\n",
      "[CV] min_samples_split=7, n_estimators=230 ...........................\n",
      "[CV] ............ min_samples_split=7, n_estimators=230, total=   4.7s\n",
      "[CV] min_samples_split=7, n_estimators=230 ...........................\n",
      "[CV] ............ min_samples_split=7, n_estimators=230, total=   5.2s\n",
      "[CV] min_samples_split=7, n_estimators=230 ...........................\n",
      "[CV] ............ min_samples_split=7, n_estimators=230, total=   4.5s\n",
      "[CV] min_samples_split=7, n_estimators=340 ...........................\n",
      "[CV] ............ min_samples_split=7, n_estimators=340, total=   7.2s\n",
      "[CV] min_samples_split=7, n_estimators=340 ...........................\n",
      "[CV] ............ min_samples_split=7, n_estimators=340, total=   7.3s\n",
      "[CV] min_samples_split=7, n_estimators=340 ...........................\n",
      "[CV] ............ min_samples_split=7, n_estimators=340, total=   7.8s\n",
      "[CV] min_samples_split=7, n_estimators=340 ...........................\n",
      "[CV] ............ min_samples_split=7, n_estimators=340, total=   8.3s\n",
      "[CV] min_samples_split=7, n_estimators=340 ...........................\n",
      "[CV] ............ min_samples_split=7, n_estimators=340, total=   6.4s\n",
      "[CV] min_samples_split=7, n_estimators=450 ...........................\n",
      "[CV] ............ min_samples_split=7, n_estimators=450, total=  10.7s\n",
      "[CV] min_samples_split=7, n_estimators=450 ...........................\n",
      "[CV] ............ min_samples_split=7, n_estimators=450, total=  11.9s\n",
      "[CV] min_samples_split=7, n_estimators=450 ...........................\n",
      "[CV] ............ min_samples_split=7, n_estimators=450, total=  15.0s\n",
      "[CV] min_samples_split=7, n_estimators=450 ...........................\n",
      "[CV] ............ min_samples_split=7, n_estimators=450, total=  16.6s\n",
      "[CV] min_samples_split=7, n_estimators=450 ...........................\n",
      "[CV] ............ min_samples_split=7, n_estimators=450, total=  11.4s\n",
      "[CV] min_samples_split=7, n_estimators=560 ...........................\n",
      "[CV] ............ min_samples_split=7, n_estimators=560, total=  12.0s\n",
      "[CV] min_samples_split=7, n_estimators=560 ...........................\n",
      "[CV] ............ min_samples_split=7, n_estimators=560, total=  15.1s\n",
      "[CV] min_samples_split=7, n_estimators=560 ...........................\n",
      "[CV] ............ min_samples_split=7, n_estimators=560, total=  12.0s\n",
      "[CV] min_samples_split=7, n_estimators=560 ...........................\n",
      "[CV] ............ min_samples_split=7, n_estimators=560, total=  11.9s\n",
      "[CV] min_samples_split=7, n_estimators=560 ...........................\n",
      "[CV] ............ min_samples_split=7, n_estimators=560, total=  10.9s\n",
      "[CV] min_samples_split=7, n_estimators=670 ...........................\n",
      "[CV] ............ min_samples_split=7, n_estimators=670, total=  14.3s\n",
      "[CV] min_samples_split=7, n_estimators=670 ...........................\n",
      "[CV] ............ min_samples_split=7, n_estimators=670, total=  15.2s\n",
      "[CV] min_samples_split=7, n_estimators=670 ...........................\n",
      "[CV] ............ min_samples_split=7, n_estimators=670, total=  22.1s\n",
      "[CV] min_samples_split=7, n_estimators=670 ...........................\n",
      "[CV] ............ min_samples_split=7, n_estimators=670, total=  15.5s\n",
      "[CV] min_samples_split=7, n_estimators=670 ...........................\n",
      "[CV] ............ min_samples_split=7, n_estimators=670, total=  15.1s\n",
      "[CV] min_samples_split=7, n_estimators=780 ...........................\n",
      "[CV] ............ min_samples_split=7, n_estimators=780, total=  24.7s\n",
      "[CV] min_samples_split=7, n_estimators=780 ...........................\n",
      "[CV] ............ min_samples_split=7, n_estimators=780, total=  18.0s\n",
      "[CV] min_samples_split=7, n_estimators=780 ...........................\n",
      "[CV] ............ min_samples_split=7, n_estimators=780, total=  18.9s\n",
      "[CV] min_samples_split=7, n_estimators=780 ...........................\n",
      "[CV] ............ min_samples_split=7, n_estimators=780, total=  22.4s\n",
      "[CV] min_samples_split=7, n_estimators=780 ...........................\n",
      "[CV] ............ min_samples_split=7, n_estimators=780, total=  18.1s\n",
      "[CV] min_samples_split=7, n_estimators=890 ...........................\n",
      "[CV] ............ min_samples_split=7, n_estimators=890, total=  20.1s\n",
      "[CV] min_samples_split=7, n_estimators=890 ...........................\n",
      "[CV] ............ min_samples_split=7, n_estimators=890, total=  19.4s\n",
      "[CV] min_samples_split=7, n_estimators=890 ...........................\n",
      "[CV] ............ min_samples_split=7, n_estimators=890, total=  17.5s\n",
      "[CV] min_samples_split=7, n_estimators=890 ...........................\n",
      "[CV] ............ min_samples_split=7, n_estimators=890, total=  19.0s\n",
      "[CV] min_samples_split=7, n_estimators=890 ...........................\n",
      "[CV] ............ min_samples_split=7, n_estimators=890, total=  17.3s\n",
      "[CV] min_samples_split=7, n_estimators=1000 ..........................\n",
      "[CV] ........... min_samples_split=7, n_estimators=1000, total=  22.2s\n",
      "[CV] min_samples_split=7, n_estimators=1000 ..........................\n",
      "[CV] ........... min_samples_split=7, n_estimators=1000, total=  22.7s\n",
      "[CV] min_samples_split=7, n_estimators=1000 ..........................\n",
      "[CV] ........... min_samples_split=7, n_estimators=1000, total=  21.5s\n",
      "[CV] min_samples_split=7, n_estimators=1000 ..........................\n",
      "[CV] ........... min_samples_split=7, n_estimators=1000, total=  20.0s\n",
      "[CV] min_samples_split=7, n_estimators=1000 ..........................\n",
      "[CV] ........... min_samples_split=7, n_estimators=1000, total=  19.1s\n",
      "[CV] min_samples_split=8, n_estimators=10 ............................\n",
      "[CV] ............. min_samples_split=8, n_estimators=10, total=   0.2s\n",
      "[CV] min_samples_split=8, n_estimators=10 ............................\n",
      "[CV] ............. min_samples_split=8, n_estimators=10, total=   0.3s\n",
      "[CV] min_samples_split=8, n_estimators=10 ............................\n",
      "[CV] ............. min_samples_split=8, n_estimators=10, total=   0.2s\n",
      "[CV] min_samples_split=8, n_estimators=10 ............................\n",
      "[CV] ............. min_samples_split=8, n_estimators=10, total=   0.2s\n",
      "[CV] min_samples_split=8, n_estimators=10 ............................\n",
      "[CV] ............. min_samples_split=8, n_estimators=10, total=   0.2s\n",
      "[CV] min_samples_split=8, n_estimators=120 ...........................\n",
      "[CV] ............ min_samples_split=8, n_estimators=120, total=   2.4s\n",
      "[CV] min_samples_split=8, n_estimators=120 ...........................\n",
      "[CV] ............ min_samples_split=8, n_estimators=120, total=   2.4s\n",
      "[CV] min_samples_split=8, n_estimators=120 ...........................\n",
      "[CV] ............ min_samples_split=8, n_estimators=120, total=   2.5s\n",
      "[CV] min_samples_split=8, n_estimators=120 ...........................\n",
      "[CV] ............ min_samples_split=8, n_estimators=120, total=   2.4s\n",
      "[CV] min_samples_split=8, n_estimators=120 ...........................\n",
      "[CV] ............ min_samples_split=8, n_estimators=120, total=   2.3s\n",
      "[CV] min_samples_split=8, n_estimators=230 ...........................\n",
      "[CV] ............ min_samples_split=8, n_estimators=230, total=   4.4s\n",
      "[CV] min_samples_split=8, n_estimators=230 ...........................\n",
      "[CV] ............ min_samples_split=8, n_estimators=230, total=   5.3s\n",
      "[CV] min_samples_split=8, n_estimators=230 ...........................\n",
      "[CV] ............ min_samples_split=8, n_estimators=230, total=   4.8s\n",
      "[CV] min_samples_split=8, n_estimators=230 ...........................\n",
      "[CV] ............ min_samples_split=8, n_estimators=230, total=   4.4s\n",
      "[CV] min_samples_split=8, n_estimators=230 ...........................\n",
      "[CV] ............ min_samples_split=8, n_estimators=230, total=   4.4s\n",
      "[CV] min_samples_split=8, n_estimators=340 ...........................\n",
      "[CV] ............ min_samples_split=8, n_estimators=340, total=   6.7s\n",
      "[CV] min_samples_split=8, n_estimators=340 ...........................\n",
      "[CV] ............ min_samples_split=8, n_estimators=340, total=   6.0s\n",
      "[CV] min_samples_split=8, n_estimators=340 ...........................\n",
      "[CV] ............ min_samples_split=8, n_estimators=340, total=   7.0s\n",
      "[CV] min_samples_split=8, n_estimators=340 ...........................\n",
      "[CV] ............ min_samples_split=8, n_estimators=340, total=   6.7s\n",
      "[CV] min_samples_split=8, n_estimators=340 ...........................\n",
      "[CV] ............ min_samples_split=8, n_estimators=340, total=   6.4s\n",
      "[CV] min_samples_split=8, n_estimators=450 ...........................\n",
      "[CV] ............ min_samples_split=8, n_estimators=450, total=  11.6s\n",
      "[CV] min_samples_split=8, n_estimators=450 ...........................\n",
      "[CV] ............ min_samples_split=8, n_estimators=450, total=   8.1s\n",
      "[CV] min_samples_split=8, n_estimators=450 ...........................\n",
      "[CV] ............ min_samples_split=8, n_estimators=450, total=   8.4s\n",
      "[CV] min_samples_split=8, n_estimators=450 ...........................\n",
      "[CV] ............ min_samples_split=8, n_estimators=450, total=   9.9s\n",
      "[CV] min_samples_split=8, n_estimators=450 ...........................\n",
      "[CV] ............ min_samples_split=8, n_estimators=450, total=   8.3s\n",
      "[CV] min_samples_split=8, n_estimators=560 ...........................\n",
      "[CV] ............ min_samples_split=8, n_estimators=560, total=  11.1s\n",
      "[CV] min_samples_split=8, n_estimators=560 ...........................\n",
      "[CV] ............ min_samples_split=8, n_estimators=560, total=  12.1s\n",
      "[CV] min_samples_split=8, n_estimators=560 ...........................\n",
      "[CV] ............ min_samples_split=8, n_estimators=560, total=  11.9s\n",
      "[CV] min_samples_split=8, n_estimators=560 ...........................\n",
      "[CV] ............ min_samples_split=8, n_estimators=560, total=  14.1s\n",
      "[CV] min_samples_split=8, n_estimators=560 ...........................\n",
      "[CV] ............ min_samples_split=8, n_estimators=560, total=  14.9s\n",
      "[CV] min_samples_split=8, n_estimators=670 ...........................\n",
      "[CV] ............ min_samples_split=8, n_estimators=670, total=  16.2s\n",
      "[CV] min_samples_split=8, n_estimators=670 ...........................\n",
      "[CV] ............ min_samples_split=8, n_estimators=670, total=  16.8s\n",
      "[CV] min_samples_split=8, n_estimators=670 ...........................\n",
      "[CV] ............ min_samples_split=8, n_estimators=670, total=  16.5s\n",
      "[CV] min_samples_split=8, n_estimators=670 ...........................\n",
      "[CV] ............ min_samples_split=8, n_estimators=670, total=  15.1s\n",
      "[CV] min_samples_split=8, n_estimators=670 ...........................\n",
      "[CV] ............ min_samples_split=8, n_estimators=670, total=  15.7s\n",
      "[CV] min_samples_split=8, n_estimators=780 ...........................\n",
      "[CV] ............ min_samples_split=8, n_estimators=780, total=  20.6s\n",
      "[CV] min_samples_split=8, n_estimators=780 ...........................\n",
      "[CV] ............ min_samples_split=8, n_estimators=780, total=  14.5s\n",
      "[CV] min_samples_split=8, n_estimators=780 ...........................\n",
      "[CV] ............ min_samples_split=8, n_estimators=780, total=  18.2s\n",
      "[CV] min_samples_split=8, n_estimators=780 ...........................\n",
      "[CV] ............ min_samples_split=8, n_estimators=780, total=  21.0s\n",
      "[CV] min_samples_split=8, n_estimators=780 ...........................\n",
      "[CV] ............ min_samples_split=8, n_estimators=780, total=  16.0s\n",
      "[CV] min_samples_split=8, n_estimators=890 ...........................\n",
      "[CV] ............ min_samples_split=8, n_estimators=890, total=  21.3s\n",
      "[CV] min_samples_split=8, n_estimators=890 ...........................\n",
      "[CV] ............ min_samples_split=8, n_estimators=890, total=  24.1s\n",
      "[CV] min_samples_split=8, n_estimators=890 ...........................\n",
      "[CV] ............ min_samples_split=8, n_estimators=890, total=  23.6s\n",
      "[CV] min_samples_split=8, n_estimators=890 ...........................\n",
      "[CV] ............ min_samples_split=8, n_estimators=890, total=  29.4s\n",
      "[CV] min_samples_split=8, n_estimators=890 ...........................\n",
      "[CV] ............ min_samples_split=8, n_estimators=890, total=  18.4s\n",
      "[CV] min_samples_split=8, n_estimators=1000 ..........................\n",
      "[CV] ........... min_samples_split=8, n_estimators=1000, total=  22.0s\n",
      "[CV] min_samples_split=8, n_estimators=1000 ..........................\n",
      "[CV] ........... min_samples_split=8, n_estimators=1000, total=  27.8s\n",
      "[CV] min_samples_split=8, n_estimators=1000 ..........................\n",
      "[CV] ........... min_samples_split=8, n_estimators=1000, total=  24.3s\n",
      "[CV] min_samples_split=8, n_estimators=1000 ..........................\n",
      "[CV] ........... min_samples_split=8, n_estimators=1000, total=  19.8s\n",
      "[CV] min_samples_split=8, n_estimators=1000 ..........................\n",
      "[CV] ........... min_samples_split=8, n_estimators=1000, total=  19.8s\n",
      "[CV] min_samples_split=9, n_estimators=10 ............................\n",
      "[CV] ............. min_samples_split=9, n_estimators=10, total=   0.2s\n",
      "[CV] min_samples_split=9, n_estimators=10 ............................\n",
      "[CV] ............. min_samples_split=9, n_estimators=10, total=   0.3s\n",
      "[CV] min_samples_split=9, n_estimators=10 ............................\n",
      "[CV] ............. min_samples_split=9, n_estimators=10, total=   0.4s\n",
      "[CV] min_samples_split=9, n_estimators=10 ............................\n",
      "[CV] ............. min_samples_split=9, n_estimators=10, total=   0.3s\n",
      "[CV] min_samples_split=9, n_estimators=10 ............................\n",
      "[CV] ............. min_samples_split=9, n_estimators=10, total=   0.3s\n",
      "[CV] min_samples_split=9, n_estimators=120 ...........................\n",
      "[CV] ............ min_samples_split=9, n_estimators=120, total=   3.0s\n",
      "[CV] min_samples_split=9, n_estimators=120 ...........................\n",
      "[CV] ............ min_samples_split=9, n_estimators=120, total=   2.6s\n",
      "[CV] min_samples_split=9, n_estimators=120 ...........................\n",
      "[CV] ............ min_samples_split=9, n_estimators=120, total=   2.9s\n",
      "[CV] min_samples_split=9, n_estimators=120 ...........................\n",
      "[CV] ............ min_samples_split=9, n_estimators=120, total=   2.4s\n",
      "[CV] min_samples_split=9, n_estimators=120 ...........................\n",
      "[CV] ............ min_samples_split=9, n_estimators=120, total=   2.5s\n",
      "[CV] min_samples_split=9, n_estimators=230 ...........................\n",
      "[CV] ............ min_samples_split=9, n_estimators=230, total=   5.3s\n",
      "[CV] min_samples_split=9, n_estimators=230 ...........................\n",
      "[CV] ............ min_samples_split=9, n_estimators=230, total=   6.1s\n",
      "[CV] min_samples_split=9, n_estimators=230 ...........................\n",
      "[CV] ............ min_samples_split=9, n_estimators=230, total=   5.2s\n",
      "[CV] min_samples_split=9, n_estimators=230 ...........................\n",
      "[CV] ............ min_samples_split=9, n_estimators=230, total=   5.0s\n",
      "[CV] min_samples_split=9, n_estimators=230 ...........................\n",
      "[CV] ............ min_samples_split=9, n_estimators=230, total=   5.0s\n",
      "[CV] min_samples_split=9, n_estimators=340 ...........................\n",
      "[CV] ............ min_samples_split=9, n_estimators=340, total=   7.5s\n",
      "[CV] min_samples_split=9, n_estimators=340 ...........................\n",
      "[CV] ............ min_samples_split=9, n_estimators=340, total=   7.3s\n",
      "[CV] min_samples_split=9, n_estimators=340 ...........................\n",
      "[CV] ............ min_samples_split=9, n_estimators=340, total=   6.8s\n",
      "[CV] min_samples_split=9, n_estimators=340 ...........................\n",
      "[CV] ............ min_samples_split=9, n_estimators=340, total=   6.8s\n",
      "[CV] min_samples_split=9, n_estimators=340 ...........................\n",
      "[CV] ............ min_samples_split=9, n_estimators=340, total=   7.8s\n",
      "[CV] min_samples_split=9, n_estimators=450 ...........................\n",
      "[CV] ............ min_samples_split=9, n_estimators=450, total=   9.5s\n",
      "[CV] min_samples_split=9, n_estimators=450 ...........................\n",
      "[CV] ............ min_samples_split=9, n_estimators=450, total=  11.7s\n",
      "[CV] min_samples_split=9, n_estimators=450 ...........................\n",
      "[CV] ............ min_samples_split=9, n_estimators=450, total=  10.2s\n",
      "[CV] min_samples_split=9, n_estimators=450 ...........................\n",
      "[CV] ............ min_samples_split=9, n_estimators=450, total=  10.9s\n",
      "[CV] min_samples_split=9, n_estimators=450 ...........................\n",
      "[CV] ............ min_samples_split=9, n_estimators=450, total=   8.6s\n",
      "[CV] min_samples_split=9, n_estimators=560 ...........................\n",
      "[CV] ............ min_samples_split=9, n_estimators=560, total=  14.3s\n",
      "[CV] min_samples_split=9, n_estimators=560 ...........................\n",
      "[CV] ............ min_samples_split=9, n_estimators=560, total=  13.7s\n",
      "[CV] min_samples_split=9, n_estimators=560 ...........................\n",
      "[CV] ............ min_samples_split=9, n_estimators=560, total=  15.9s\n",
      "[CV] min_samples_split=9, n_estimators=560 ...........................\n",
      "[CV] ............ min_samples_split=9, n_estimators=560, total=  13.4s\n",
      "[CV] min_samples_split=9, n_estimators=560 ...........................\n",
      "[CV] ............ min_samples_split=9, n_estimators=560, total=  14.5s\n",
      "[CV] min_samples_split=9, n_estimators=670 ...........................\n",
      "[CV] ............ min_samples_split=9, n_estimators=670, total=  14.4s\n",
      "[CV] min_samples_split=9, n_estimators=670 ...........................\n",
      "[CV] ............ min_samples_split=9, n_estimators=670, total=  18.6s\n",
      "[CV] min_samples_split=9, n_estimators=670 ...........................\n",
      "[CV] ............ min_samples_split=9, n_estimators=670, total=  15.7s\n",
      "[CV] min_samples_split=9, n_estimators=670 ...........................\n",
      "[CV] ............ min_samples_split=9, n_estimators=670, total=  14.2s\n",
      "[CV] min_samples_split=9, n_estimators=670 ...........................\n",
      "[CV] ............ min_samples_split=9, n_estimators=670, total=  12.2s\n",
      "[CV] min_samples_split=9, n_estimators=780 ...........................\n",
      "[CV] ............ min_samples_split=9, n_estimators=780, total=  15.3s\n",
      "[CV] min_samples_split=9, n_estimators=780 ...........................\n",
      "[CV] ............ min_samples_split=9, n_estimators=780, total=  28.0s\n",
      "[CV] min_samples_split=9, n_estimators=780 ...........................\n",
      "[CV] ............ min_samples_split=9, n_estimators=780, total=  21.3s\n",
      "[CV] min_samples_split=9, n_estimators=780 ...........................\n",
      "[CV] ............ min_samples_split=9, n_estimators=780, total=  14.1s\n",
      "[CV] min_samples_split=9, n_estimators=780 ...........................\n",
      "[CV] ............ min_samples_split=9, n_estimators=780, total=  16.9s\n",
      "[CV] min_samples_split=9, n_estimators=890 ...........................\n",
      "[CV] ............ min_samples_split=9, n_estimators=890, total=  18.0s\n",
      "[CV] min_samples_split=9, n_estimators=890 ...........................\n",
      "[CV] ............ min_samples_split=9, n_estimators=890, total=  20.5s\n",
      "[CV] min_samples_split=9, n_estimators=890 ...........................\n",
      "[CV] ............ min_samples_split=9, n_estimators=890, total=  19.8s\n",
      "[CV] min_samples_split=9, n_estimators=890 ...........................\n",
      "[CV] ............ min_samples_split=9, n_estimators=890, total=  18.3s\n",
      "[CV] min_samples_split=9, n_estimators=890 ...........................\n",
      "[CV] ............ min_samples_split=9, n_estimators=890, total=  17.5s\n",
      "[CV] min_samples_split=9, n_estimators=1000 ..........................\n",
      "[CV] ........... min_samples_split=9, n_estimators=1000, total=  20.2s\n",
      "[CV] min_samples_split=9, n_estimators=1000 ..........................\n",
      "[CV] ........... min_samples_split=9, n_estimators=1000, total=  21.5s\n",
      "[CV] min_samples_split=9, n_estimators=1000 ..........................\n",
      "[CV] ........... min_samples_split=9, n_estimators=1000, total=  26.8s\n",
      "[CV] min_samples_split=9, n_estimators=1000 ..........................\n",
      "[CV] ........... min_samples_split=9, n_estimators=1000, total=  24.8s\n",
      "[CV] min_samples_split=9, n_estimators=1000 ..........................\n",
      "[CV] ........... min_samples_split=9, n_estimators=1000, total=  22.9s\n",
      "[CV] min_samples_split=10, n_estimators=10 ...........................\n",
      "[CV] ............ min_samples_split=10, n_estimators=10, total=   0.2s\n",
      "[CV] min_samples_split=10, n_estimators=10 ...........................\n",
      "[CV] ............ min_samples_split=10, n_estimators=10, total=   0.2s\n",
      "[CV] min_samples_split=10, n_estimators=10 ...........................\n",
      "[CV] ............ min_samples_split=10, n_estimators=10, total=   0.2s\n",
      "[CV] min_samples_split=10, n_estimators=10 ...........................\n",
      "[CV] ............ min_samples_split=10, n_estimators=10, total=   0.2s\n",
      "[CV] min_samples_split=10, n_estimators=10 ...........................\n",
      "[CV] ............ min_samples_split=10, n_estimators=10, total=   0.2s\n",
      "[CV] min_samples_split=10, n_estimators=120 ..........................\n",
      "[CV] ........... min_samples_split=10, n_estimators=120, total=   3.4s\n",
      "[CV] min_samples_split=10, n_estimators=120 ..........................\n",
      "[CV] ........... min_samples_split=10, n_estimators=120, total=   2.3s\n",
      "[CV] min_samples_split=10, n_estimators=120 ..........................\n",
      "[CV] ........... min_samples_split=10, n_estimators=120, total=   2.6s\n",
      "[CV] min_samples_split=10, n_estimators=120 ..........................\n",
      "[CV] ........... min_samples_split=10, n_estimators=120, total=   2.2s\n",
      "[CV] min_samples_split=10, n_estimators=120 ..........................\n",
      "[CV] ........... min_samples_split=10, n_estimators=120, total=   2.1s\n",
      "[CV] min_samples_split=10, n_estimators=230 ..........................\n",
      "[CV] ........... min_samples_split=10, n_estimators=230, total=   4.7s\n",
      "[CV] min_samples_split=10, n_estimators=230 ..........................\n",
      "[CV] ........... min_samples_split=10, n_estimators=230, total=   4.3s\n",
      "[CV] min_samples_split=10, n_estimators=230 ..........................\n",
      "[CV] ........... min_samples_split=10, n_estimators=230, total=   4.4s\n",
      "[CV] min_samples_split=10, n_estimators=230 ..........................\n",
      "[CV] ........... min_samples_split=10, n_estimators=230, total=   4.4s\n",
      "[CV] min_samples_split=10, n_estimators=230 ..........................\n",
      "[CV] ........... min_samples_split=10, n_estimators=230, total=   5.2s\n",
      "[CV] min_samples_split=10, n_estimators=340 ..........................\n",
      "[CV] ........... min_samples_split=10, n_estimators=340, total=   8.1s\n",
      "[CV] min_samples_split=10, n_estimators=340 ..........................\n",
      "[CV] ........... min_samples_split=10, n_estimators=340, total=   9.5s\n",
      "[CV] min_samples_split=10, n_estimators=340 ..........................\n",
      "[CV] ........... min_samples_split=10, n_estimators=340, total=   6.7s\n",
      "[CV] min_samples_split=10, n_estimators=340 ..........................\n",
      "[CV] ........... min_samples_split=10, n_estimators=340, total=   9.6s\n",
      "[CV] min_samples_split=10, n_estimators=340 ..........................\n",
      "[CV] ........... min_samples_split=10, n_estimators=340, total=   7.8s\n",
      "[CV] min_samples_split=10, n_estimators=450 ..........................\n",
      "[CV] ........... min_samples_split=10, n_estimators=450, total=  10.4s\n",
      "[CV] min_samples_split=10, n_estimators=450 ..........................\n",
      "[CV] ........... min_samples_split=10, n_estimators=450, total=  13.2s\n",
      "[CV] min_samples_split=10, n_estimators=450 ..........................\n",
      "[CV] ........... min_samples_split=10, n_estimators=450, total=  11.6s\n",
      "[CV] min_samples_split=10, n_estimators=450 ..........................\n",
      "[CV] ........... min_samples_split=10, n_estimators=450, total=   8.9s\n",
      "[CV] min_samples_split=10, n_estimators=450 ..........................\n",
      "[CV] ........... min_samples_split=10, n_estimators=450, total=   8.9s\n",
      "[CV] min_samples_split=10, n_estimators=560 ..........................\n",
      "[CV] ........... min_samples_split=10, n_estimators=560, total=  12.6s\n",
      "[CV] min_samples_split=10, n_estimators=560 ..........................\n",
      "[CV] ........... min_samples_split=10, n_estimators=560, total=  11.8s\n",
      "[CV] min_samples_split=10, n_estimators=560 ..........................\n",
      "[CV] ........... min_samples_split=10, n_estimators=560, total=  10.9s\n",
      "[CV] min_samples_split=10, n_estimators=560 ..........................\n",
      "[CV] ........... min_samples_split=10, n_estimators=560, total=  13.6s\n",
      "[CV] min_samples_split=10, n_estimators=560 ..........................\n",
      "[CV] ........... min_samples_split=10, n_estimators=560, total=  10.2s\n",
      "[CV] min_samples_split=10, n_estimators=670 ..........................\n",
      "[CV] ........... min_samples_split=10, n_estimators=670, total=  15.1s\n",
      "[CV] min_samples_split=10, n_estimators=670 ..........................\n",
      "[CV] ........... min_samples_split=10, n_estimators=670, total=  20.6s\n",
      "[CV] min_samples_split=10, n_estimators=670 ..........................\n",
      "[CV] ........... min_samples_split=10, n_estimators=670, total=  18.5s\n",
      "[CV] min_samples_split=10, n_estimators=670 ..........................\n",
      "[CV] ........... min_samples_split=10, n_estimators=670, total=  18.0s\n",
      "[CV] min_samples_split=10, n_estimators=670 ..........................\n",
      "[CV] ........... min_samples_split=10, n_estimators=670, total=  18.3s\n",
      "[CV] min_samples_split=10, n_estimators=780 ..........................\n",
      "[CV] ........... min_samples_split=10, n_estimators=780, total=  14.9s\n",
      "[CV] min_samples_split=10, n_estimators=780 ..........................\n",
      "[CV] ........... min_samples_split=10, n_estimators=780, total=  20.3s\n",
      "[CV] min_samples_split=10, n_estimators=780 ..........................\n",
      "[CV] ........... min_samples_split=10, n_estimators=780, total=  19.9s\n",
      "[CV] min_samples_split=10, n_estimators=780 ..........................\n",
      "[CV] ........... min_samples_split=10, n_estimators=780, total=  19.9s\n",
      "[CV] min_samples_split=10, n_estimators=780 ..........................\n",
      "[CV] ........... min_samples_split=10, n_estimators=780, total=  18.8s\n",
      "[CV] min_samples_split=10, n_estimators=890 ..........................\n",
      "[CV] ........... min_samples_split=10, n_estimators=890, total=  22.2s\n",
      "[CV] min_samples_split=10, n_estimators=890 ..........................\n",
      "[CV] ........... min_samples_split=10, n_estimators=890, total=  24.3s\n",
      "[CV] min_samples_split=10, n_estimators=890 ..........................\n",
      "[CV] ........... min_samples_split=10, n_estimators=890, total=  20.2s\n",
      "[CV] min_samples_split=10, n_estimators=890 ..........................\n",
      "[CV] ........... min_samples_split=10, n_estimators=890, total=  25.0s\n",
      "[CV] min_samples_split=10, n_estimators=890 ..........................\n",
      "[CV] ........... min_samples_split=10, n_estimators=890, total=  26.0s\n",
      "[CV] min_samples_split=10, n_estimators=1000 .........................\n",
      "[CV] .......... min_samples_split=10, n_estimators=1000, total=  25.3s\n",
      "[CV] min_samples_split=10, n_estimators=1000 .........................\n",
      "[CV] .......... min_samples_split=10, n_estimators=1000, total=  23.5s\n",
      "[CV] min_samples_split=10, n_estimators=1000 .........................\n",
      "[CV] .......... min_samples_split=10, n_estimators=1000, total=  23.4s\n",
      "[CV] min_samples_split=10, n_estimators=1000 .........................\n",
      "[CV] .......... min_samples_split=10, n_estimators=1000, total=  23.3s\n",
      "[CV] min_samples_split=10, n_estimators=1000 .........................\n",
      "[CV] .......... min_samples_split=10, n_estimators=1000, total=  27.0s\n"
     ]
    },
    {
     "name": "stderr",
     "output_type": "stream",
     "text": [
      "[Parallel(n_jobs=1)]: Done 500 out of 500 | elapsed: 91.1min finished\n"
     ]
    },
    {
     "data": {
      "text/plain": [
       "GridSearchCV(cv=None, error_score=nan,\n",
       "             estimator=RandomForestClassifier(bootstrap=True, ccp_alpha=0.0,\n",
       "                                              class_weight=None,\n",
       "                                              criterion='gini', max_depth=None,\n",
       "                                              max_features='auto',\n",
       "                                              max_leaf_nodes=None,\n",
       "                                              max_samples=None,\n",
       "                                              min_impurity_decrease=0.0,\n",
       "                                              min_impurity_split=None,\n",
       "                                              min_samples_leaf=1,\n",
       "                                              min_samples_split=2,\n",
       "                                              min_weight_fraction_leaf=0.0,\n",
       "                                              n_estimators=100, n_jobs=None,\n",
       "                                              oob_score=False,\n",
       "                                              random_state=None, verbose=0,\n",
       "                                              warm_start=False),\n",
       "             iid='deprecated', n_jobs=None,\n",
       "             param_grid={'min_samples_split': array([ 1,  2,  3,  4,  5,  6,  7,  8,  9, 10]),\n",
       "                         'n_estimators': array([  10,  120,  230,  340,  450,  560,  670,  780,  890, 1000])},\n",
       "             pre_dispatch='2*n_jobs', refit=False, return_train_score=False,\n",
       "             scoring='precision_macro', verbose=2)"
      ]
     },
     "execution_count": 28,
     "metadata": {},
     "output_type": "execute_result"
    }
   ],
   "source": [
    "#do some grid search, use dask to make it faster?\n",
    "parameters = {'n_estimators': np.linspace(10, 1000, 10, dtype=int),\n",
    "              'min_samples_split': np.linspace(1, 10, 10, dtype=int)}\n",
    "#random forest\n",
    "mrf= RandomForestClassifier()\n",
    "\n",
    "#initialize grid search object\n",
    "\n",
    "clf = GridSearchCV(mrf, parameters, refit=False, verbose=2, scoring='precision_macro')\n",
    "#fit the training data\n",
    "clf.fit(X, y)"
   ]
  },
  {
   "cell_type": "code",
   "execution_count": 33,
   "metadata": {},
   "outputs": [],
   "source": [
    "ressc=pd.DataFrame(clf.cv_results_)"
   ]
  },
  {
   "cell_type": "code",
   "execution_count": 34,
   "metadata": {},
   "outputs": [
    {
     "data": {
      "text/plain": [
       "[<matplotlib.lines.Line2D at 0x1b398b9550>]"
      ]
     },
     "execution_count": 34,
     "metadata": {},
     "output_type": "execute_result"
    },
    {
     "data": {
      "image/png": "[encoded data removed]",
      "text/plain": [
       "<Figure size 432x288 with 1 Axes>"
      ]
     },
     "metadata": {
      "needs_background": "light"
     },
     "output_type": "display_data"
    }
   ],
   "source": [
    "plt.plot(ressc['mean_test_score'])"
   ]
  },
  {
   "cell_type": "code",
   "execution_count": 35,
   "metadata": {},
   "outputs": [
    {
     "data": {
      "text/plain": [
       "(0.9699100581040024, {'min_samples_split': 3, 'n_estimators': 670})"
      ]
     },
     "execution_count": 35,
     "metadata": {},
     "output_type": "execute_result"
    }
   ],
   "source": [
    "clf.best_score_, clf.best_params_"
   ]
  },
  {
   "cell_type": "code",
   "execution_count": null,
   "metadata": {},
   "outputs": [],
   "source": []
  },
  {
   "cell_type": "code",
   "execution_count": 75,
   "metadata": {},
   "outputs": [
    {
     "name": "stderr",
     "output_type": "stream",
     "text": [
      "[Parallel(n_jobs=-1)]: Using backend ThreadingBackend with 4 concurrent workers.\n",
      "[Parallel(n_jobs=-1)]: Done  42 tasks      | elapsed:    0.3s\n",
      "[Parallel(n_jobs=-1)]: Done 192 tasks      | elapsed:    1.1s\n",
      "[Parallel(n_jobs=-1)]: Done 442 tasks      | elapsed:    2.5s\n",
      "[Parallel(n_jobs=-1)]: Done 670 out of 670 | elapsed:    3.8s finished\n",
      "[Parallel(n_jobs=4)]: Using backend ThreadingBackend with 4 concurrent workers.\n",
      "[Parallel(n_jobs=4)]: Done  42 tasks      | elapsed:    0.0s\n",
      "[Parallel(n_jobs=4)]: Done 192 tasks      | elapsed:    0.1s\n",
      "[Parallel(n_jobs=4)]: Done 442 tasks      | elapsed:    0.2s\n",
      "[Parallel(n_jobs=4)]: Done 670 out of 670 | elapsed:    0.3s finished\n"
     ]
    }
   ],
   "source": [
    "rf = RandomForestClassifier(n_estimators=670, min_samples_split=3, verbose=True,bootstrap=True, n_jobs=-1, \n",
    "                            class_weight=class_weigths, criterion='entropy',  random_state=np.random.randint(1000), \n",
    "                            warm_start=False)\n",
    "rf.fit(X_train, y_train)\n",
    "pred_labels = rf.predict(X_test)\n",
    "model_accuracy = accuracy_score(y_test, pred_labels)"
   ]
  },
  {
   "cell_type": "code",
   "execution_count": 76,
   "metadata": {},
   "outputs": [
    {
     "name": "stdout",
     "output_type": "stream",
     "text": [
      "accuracy score 0.9769736842105263\n"
     ]
    }
   ],
   "source": [
    "print ('accuracy score {}'.format(model_accuracy))\n",
    "classes=['non-UCD', 'M7-L0', 'L', 'T']\n",
    "cm = pd.DataFrame(confusion_matrix(y_test, pred_labels), \n",
    "                  columns=classes, index=classes)\n"
   ]
  },
  {
   "cell_type": "code",
   "execution_count": 77,
   "metadata": {},
   "outputs": [
    {
     "data": {
      "text/plain": [
       "0.9647710976400707"
      ]
     },
     "execution_count": 77,
     "metadata": {},
     "output_type": "execute_result"
    }
   ],
   "source": [
    "precision_score(y_test, pred_labels, average='macro')"
   ]
  },
  {
   "cell_type": "code",
   "execution_count": 78,
   "metadata": {},
   "outputs": [
    {
     "data": {
      "image/png": "[encoded data removed]",
      "text/plain": [
       "<Figure size 576x432 with 1 Axes>"
      ]
     },
     "metadata": {
      "needs_background": "light"
     },
     "output_type": "display_data"
    }
   ],
   "source": [
    "#create a table a confusion matrix\n",
    "\n",
    "fig, ax=plt.subplots(figsize=(8, 6))\n",
    "\n",
    "#matr=(cm/cm.sum()).applymap(lambda x: np.round(x, 2)).values\n",
    "matr=cm.values\n",
    "im = ax.imshow(matr, cmap='Blues')\n",
    "\n",
    "# We want to show all ticks...\n",
    "ax.set_xticks(np.arange(len(classes)))\n",
    "ax.set_yticks(np.arange(len(classes)))\n",
    "# ... and label them with the respective list entries\n",
    "ax.set_xticklabels(classes)\n",
    "ax.set_yticklabels(classes)\n",
    "\n",
    "ax.set_xlabel('True Label', fontsize=18)\n",
    "ax.set_ylabel('Predicted Label', fontsize=18)\n",
    "# Rotate the tick labels and set their alignment.\n",
    "plt.setp(ax.get_xticklabels(), rotation=0, ha=\"right\",\n",
    "         rotation_mode=\"anchor\")\n",
    "\n",
    "# Loop over data dimensions and create text annotations.\n",
    "for i in range(len(classes)):\n",
    "    for j in range(len(classes)):\n",
    "        text = ax.text(j, i, matr[i, j], ha=\"center\", va=\"center\", color=\"k\", fontsize=18)\n",
    "        \n",
    "ax.set_xlim([-0.5, 3.5])\n",
    "ax.set_ylim([3.5, -0.5])\n",
    "plt.tight_layout()\n",
    "plt.savefig(wisps.OUTPUT_FIGURES+'/confusion_matrix.pdf')"
   ]
  },
  {
   "cell_type": "code",
   "execution_count": 79,
   "metadata": {},
   "outputs": [
    {
     "name": "stderr",
     "output_type": "stream",
     "text": [
      "[Parallel(n_jobs=4)]: Using backend ThreadingBackend with 4 concurrent workers.\n",
      "[Parallel(n_jobs=4)]: Done  42 tasks      | elapsed:    0.1s\n",
      "[Parallel(n_jobs=4)]: Done 192 tasks      | elapsed:    0.6s\n",
      "[Parallel(n_jobs=4)]: Done 442 tasks      | elapsed:    1.3s\n",
      "[Parallel(n_jobs=4)]: Done 670 out of 670 | elapsed:    2.1s finished\n"
     ]
    }
   ],
   "source": [
    "rlabels=rf.predict(pred_set)"
   ]
  },
  {
   "cell_type": "code",
   "execution_count": 80,
   "metadata": {},
   "outputs": [
    {
     "data": {
      "text/plain": [
       "168"
      ]
     },
     "execution_count": 80,
     "metadata": {},
     "output_type": "execute_result"
    }
   ],
   "source": [
    "len(rlabels[rlabels>0])"
   ]
  },
  {
   "cell_type": "code",
   "execution_count": 42,
   "metadata": {},
   "outputs": [],
   "source": [
    "cands=pd.read_pickle(wisps.OUTPUT_FILES+'/true_spectra_cands.pkl')"
   ]
  },
  {
   "cell_type": "code",
   "execution_count": 43,
   "metadata": {},
   "outputs": [],
   "source": [
    "cands['grism_id']=cands.grism_id.apply(lambda x: x.lower())\n",
    "cands['spt']=[x.spectral_type for x in cands.spectra]"
   ]
  },
  {
   "cell_type": "code",
   "execution_count": 44,
   "metadata": {},
   "outputs": [
    {
     "data": {
      "text/plain": [
       "(364, 362)"
      ]
     },
     "execution_count": 44,
     "metadata": {},
     "output_type": "execute_result"
    }
   ],
   "source": [
    "len(cands), len( pred_df[pred_df.grism_id.isin(cands.grism_id.values)])"
   ]
  },
  {
   "cell_type": "code",
   "execution_count": 45,
   "metadata": {},
   "outputs": [],
   "source": [
    "strs=wisps.datasets['stars']"
   ]
  },
  {
   "cell_type": "code",
   "execution_count": 46,
   "metadata": {},
   "outputs": [],
   "source": [
    "#cands[~ cands.grism_id.isin(pred_df.grism_id.values) ]"
   ]
  },
  {
   "cell_type": "code",
   "execution_count": 47,
   "metadata": {},
   "outputs": [
    {
     "data": {
      "text/html": [
       "<div>\n",
       "<style scoped>\n",
       "    .dataframe tbody tr th:only-of-type {\n",
       "        vertical-align: middle;\n",
       "    }\n",
       "\n",
       "    .dataframe tbody tr th {\n",
       "        vertical-align: top;\n",
       "    }\n",
       "\n",
       "    .dataframe thead th {\n",
       "        text-align: right;\n",
       "    }\n",
       "</style>\n",
       "<table border=\"1\" class=\"dataframe\">\n",
       "  <thead>\n",
       "    <tr style=\"text-align: right;\">\n",
       "      <th></th>\n",
       "      <th>grism_id</th>\n",
       "      <th>spectra</th>\n",
       "      <th>spt</th>\n",
       "      <th>spt_unc</th>\n",
       "      <th>distance</th>\n",
       "      <th>RA</th>\n",
       "      <th>DEC</th>\n",
       "      <th>snr1</th>\n",
       "      <th>pointing</th>\n",
       "      <th>designation</th>\n",
       "    </tr>\n",
       "  </thead>\n",
       "  <tbody>\n",
       "  </tbody>\n",
       "</table>\n",
       "</div>"
      ],
      "text/plain": [
       "Empty DataFrame\n",
       "Columns: [grism_id, spectra, spt, spt_unc, distance, RA, DEC, snr1, pointing, designation]\n",
       "Index: []"
      ]
     },
     "execution_count": 47,
     "metadata": {},
     "output_type": "execute_result"
    }
   ],
   "source": [
    "cands[~ cands.grism_id.isin(strs.grism_id.values) ]"
   ]
  },
  {
   "cell_type": "code",
   "execution_count": 48,
   "metadata": {},
   "outputs": [],
   "source": [
    "true=(pred_df[(rlabels>0) & pred_df.grism_id.isin(cands.grism_id.values)])#.drop_duplicates(subset='grism_id')\n",
    "truep=len(true)\n",
    "ps=len(rlabels[rlabels>0])"
   ]
  },
  {
   "cell_type": "code",
   "execution_count": 49,
   "metadata": {},
   "outputs": [
    {
     "data": {
      "text/plain": [
       "(40, 11, 5)"
      ]
     },
     "execution_count": 49,
     "metadata": {},
     "output_type": "execute_result"
    }
   ],
   "source": [
    "len(true[true.spt.between(17,19)]), len(true[true.spt.between(20,29)]), len(true[true.spt.between(30,40)])"
   ]
  },
  {
   "cell_type": "code",
   "execution_count": 50,
   "metadata": {},
   "outputs": [
    {
     "data": {
      "text/plain": [
       "'FP rate 0.42011834319526625'"
      ]
     },
     "execution_count": 50,
     "metadata": {},
     "output_type": "execute_result"
    }
   ],
   "source": [
    "'FP rate {}'.format((ps-truep)/ps)"
   ]
  },
  {
   "cell_type": "code",
   "execution_count": 51,
   "metadata": {},
   "outputs": [],
   "source": [
    "rf_dict={'classifier': rf,\n",
    "            'sclr':scaler,\n",
    "            'feats':features}"
   ]
  },
  {
   "cell_type": "code",
   "execution_count": 52,
   "metadata": {},
   "outputs": [],
   "source": [
    "import pickle"
   ]
  },
  {
   "cell_type": "code",
   "execution_count": 53,
   "metadata": {},
   "outputs": [],
   "source": [
    "#save the random forest\n",
    "output_file=wisps.OUTPUT_FILES+'/random_forest_classifier.pkl'\n",
    "with open(output_file, 'wb') as file:\n",
    "    pickle.dump(rf_dict,file)"
   ]
  },
  {
   "cell_type": "code",
   "execution_count": 54,
   "metadata": {},
   "outputs": [],
   "source": [
    "sv_df=pred_df[(rlabels>0)]"
   ]
  },
  {
   "cell_type": "code",
   "execution_count": 55,
   "metadata": {},
   "outputs": [],
   "source": [
    "sv_df.to_pickle(wisps.LIBRARIES+'/labelled_by_rf.pkl')"
   ]
  },
  {
   "cell_type": "code",
   "execution_count": 56,
   "metadata": {},
   "outputs": [],
   "source": [
    "slbyids=pd.read_pickle(wisps.OUTPUT_FILES+'/selected_by_indices.pkl')"
   ]
  },
  {
   "cell_type": "code",
   "execution_count": 57,
   "metadata": {},
   "outputs": [],
   "source": [
    "#slbyids"
   ]
  },
  {
   "cell_type": "code",
   "execution_count": 58,
   "metadata": {},
   "outputs": [
    {
     "data": {
      "text/plain": [
       "23"
      ]
     },
     "execution_count": 58,
     "metadata": {},
     "output_type": "execute_result"
    }
   ],
   "source": [
    "len(sv_df[(sv_df.grism_id.isin(slbyids.grism_id)) & (sv_df.grism_id.isin(cands.grism_id))])"
   ]
  },
  {
   "cell_type": "code",
   "execution_count": 59,
   "metadata": {},
   "outputs": [
    {
     "data": {
      "text/plain": [
       "75"
      ]
     },
     "execution_count": 59,
     "metadata": {},
     "output_type": "execute_result"
    }
   ],
   "source": [
    "len(sv_df[( ~sv_df.grism_id.isin(slbyids.grism_id)) & (sv_df.grism_id.isin(cands.grism_id))])"
   ]
  },
  {
   "cell_type": "code",
   "execution_count": 60,
   "metadata": {},
   "outputs": [
    {
     "data": {
      "text/plain": [
       "58"
      ]
     },
     "execution_count": 60,
     "metadata": {},
     "output_type": "execute_result"
    }
   ],
   "source": [
    "len(slbyids[( ~slbyids.grism_id.isin(sv_df.grism_id)) & (slbyids.grism_id.isin(cands.grism_id))])"
   ]
  },
  {
   "cell_type": "code",
   "execution_count": 61,
   "metadata": {},
   "outputs": [
    {
     "data": {
      "text/plain": [
       "(67450, 26)"
      ]
     },
     "execution_count": 61,
     "metadata": {},
     "output_type": "execute_result"
    }
   ],
   "source": [
    "pred_df.shape"
   ]
  },
  {
   "cell_type": "code",
   "execution_count": 62,
   "metadata": {},
   "outputs": [],
   "source": [
    "not_in=cands[~cands.grism_id.isin(comb.grism_id)]"
   ]
  },
  {
   "cell_type": "code",
   "execution_count": 63,
   "metadata": {},
   "outputs": [
    {
     "data": {
      "text/plain": [
       "array([[array([16.,  1.]), 'goodsn-36-g141_24221'],\n",
       "       [array([17.,  0.]), 'goodsn-36-g141_22694']], dtype=object)"
      ]
     },
     "execution_count": 63,
     "metadata": {},
     "output_type": "execute_result"
    }
   ],
   "source": [
    "(not_in[['spt', 'grism_id']]).values"
   ]
  },
  {
   "cell_type": "code",
   "execution_count": 64,
   "metadata": {},
   "outputs": [],
   "source": [
    "s=wisps.Source(filename='goodss-04-G141_17402', is_ucd=True)"
   ]
  },
  {
   "cell_type": "code",
   "execution_count": 65,
   "metadata": {},
   "outputs": [],
   "source": [
    "#low=pd.read_pickle(wisps.LIBRARIES+'/lowsnr_obejcts.pkl')"
   ]
  },
  {
   "cell_type": "code",
   "execution_count": 66,
   "metadata": {},
   "outputs": [],
   "source": [
    "#high=pd.read_pickle(wisps.LIBRARIES+'/highsnr_obejcts.pkl')"
   ]
  },
  {
   "cell_type": "code",
   "execution_count": 67,
   "metadata": {},
   "outputs": [],
   "source": [
    "#comb=pd.concat([low, high], ignore_index=True)"
   ]
  },
  {
   "cell_type": "code",
   "execution_count": 68,
   "metadata": {},
   "outputs": [],
   "source": [
    "#comb['grism_id']=comb.grism_id.apply(lambda x: str(x).lower())"
   ]
  },
  {
   "cell_type": "code",
   "execution_count": 69,
   "metadata": {},
   "outputs": [],
   "source": [
    "#comb.to_hdf(wisps.COMBINED_PHOTO_SPECTRO_FILE, key='new_stars')"
   ]
  },
  {
   "cell_type": "code",
   "execution_count": 70,
   "metadata": {},
   "outputs": [],
   "source": [
    "#comb.loc[578]"
   ]
  },
  {
   "cell_type": "code",
   "execution_count": 71,
   "metadata": {},
   "outputs": [
    {
     "data": {
      "text/plain": [
       "(254264, 26)"
      ]
     },
     "execution_count": 71,
     "metadata": {},
     "output_type": "execute_result"
    }
   ],
   "source": [
    "comb.shape"
   ]
  },
  {
   "cell_type": "code",
   "execution_count": 82,
   "metadata": {},
   "outputs": [],
   "source": [
    "s=wisps.Source(filename='goodss-28-G141_14876')"
   ]
  },
  {
   "cell_type": "code",
   "execution_count": 83,
   "metadata": {},
   "outputs": [
    {
     "data": {
      "image/png": "[encoded data removed]",
      "text/plain": [
       "<Figure size 576x432 with 3 Axes>"
      ]
     },
     "metadata": {
      "needs_background": "light"
     },
     "output_type": "display_data"
    }
   ],
   "source": [
    "s.plot()"
   ]
  },
  {
   "cell_type": "code",
   "execution_count": 142,
   "metadata": {},
   "outputs": [],
   "source": [
    "files=glob.glob('/users/caganze/desktop/ATMO_2020_models/evolutionary_tracks/ATMO_CEQ/MKO_WISE_IRAC/*')"
   ]
  },
  {
   "cell_type": "code",
   "execution_count": 143,
   "metadata": {},
   "outputs": [],
   "source": [
    "dframes=[]"
   ]
  },
  {
   "cell_type": "code",
   "execution_count": 144,
   "metadata": {},
   "outputs": [
    {
     "name": "stderr",
     "output_type": "stream",
     "text": [
      "100%|██████████| 76/76 [00:00<00:00, 83.94it/s]\n"
     ]
    }
   ],
   "source": [
    "for f in tqdm(files):\n",
    "    dframes.append(ascii.read(f).to_pandas())\n",
    "    "
   ]
  },
  {
   "cell_type": "code",
   "execution_count": 145,
   "metadata": {},
   "outputs": [],
   "source": [
    "df=pd.concat(dframes).rename(columns='Teff')"
   ]
  },
  {
   "cell_type": "code",
   "execution_count": 147,
   "metadata": {},
   "outputs": [],
   "source": [
    "df.columns=[x.lower() for x in df.columns]"
   ]
  },
  {
   "cell_type": "code",
   "execution_count": 149,
   "metadata": {},
   "outputs": [],
   "source": [
    "df=df.rename(columns={'teff':'temperature'})"
   ]
  },
  {
   "cell_type": "code",
   "execution_count": 150,
   "metadata": {},
   "outputs": [],
   "source": [
    "df.to_csv('/users/caganze/research/wisps/evmodels/phillips2020.csv')"
   ]
  },
  {
   "cell_type": "code",
   "execution_count": null,
   "metadata": {},
   "outputs": [],
   "source": []
  }
 ],
 "metadata": {
  "kernelspec": {
   "display_name": "Python 3",
   "language": "python",
   "name": "python3"
  },
  "language_info": {
   "codemirror_mode": {
    "name": "ipython",
    "version": 3
   },
   "file_extension": ".py",
   "mimetype": "text/x-python",
   "name": "python",
   "nbconvert_exporter": "python",
   "pygments_lexer": "ipython3",
   "version": "3.7.6"
  }
 },
 "nbformat": 4,
 "nbformat_minor": 4
}
