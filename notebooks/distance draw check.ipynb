{
 "cells": [
  {
   "cell_type": "code",
   "execution_count": 1,
   "metadata": {},
   "outputs": [
    {
     "name": "stdout",
     "output_type": "stream",
     "text": [
      "Adding 2404 sources from /Users/caganze/research/splat//resources/Spectra/Public/SPEX-PRISM/ to spectral database\n",
      "Adding 145 sources from /Users/caganze/research/splat//resources/Spectra/Public/LRIS-RED/ to spectral database\n",
      "Adding 89 sources from /Users/caganze/research/splat//resources/Spectra/Public/MAGE/ to spectral database\n",
      "\n",
      "Warning: spectrum object has a flux vector of zero length - maybe empty?\n",
      "\n",
      "Warning: normalize is attempting to divide by nan; ignoring\n",
      "\n",
      "Warning: spectrum object has a flux vector of zero length - maybe empty?\n",
      "\n",
      "Warning: normalize is attempting to divide by nan; ignoring\n",
      "\n",
      "Warning: spectrum object has a flux vector of zero length - maybe empty?\n",
      "\n",
      "Warning: normalize is attempting to divide by nan; ignoring\n",
      "\n",
      "Warning: spectrum object has a flux vector of zero length - maybe empty?\n",
      "\n",
      "Warning: normalize is attempting to divide by nan; ignoring\n",
      "\n",
      "Warning: spectrum object has a flux vector of zero length - maybe empty?\n",
      "\n",
      "Warning: normalize is attempting to divide by nan; ignoring\n"
     ]
    }
   ],
   "source": [
    "import numpy as np\n",
    "import pandas as pd\n",
    "import pymc3 as pm\n",
    "import arviz as az\n",
    "import matplotlib.pyplot as plt\n",
    "%matplotlib inline\n",
    "\n",
    "#import wisps\n",
    "import astropy.units as u\n",
    "from astropy.coordinates import SkyCoord\n",
    "\n",
    "import wisps\n",
    "import wisps.simulations as wispsim"
   ]
  },
  {
   "cell_type": "code",
   "execution_count": 2,
   "metadata": {},
   "outputs": [],
   "source": [
    "#pm.__version__"
   ]
  },
  {
   "cell_type": "code",
   "execution_count": 3,
   "metadata": {},
   "outputs": [],
   "source": [
    "h=300\n",
    "Rsun=83000.\n",
    "Zsun=27."
   ]
  },
  {
   "cell_type": "code",
   "execution_count": 23,
   "metadata": {},
   "outputs": [],
   "source": [
    "def density_function(r, z, h=300.):\n",
    "    \n",
    "    \"\"\"\n",
    "    A custom density \n",
    "    \"\"\"\n",
    "    l = 2600.\n",
    "    zpart=np.exp(-abs(z-27)/h)\n",
    "    rpart=np.exp(-(r-8300)/l)\n",
    "    return zpart*rpart\n",
    "\n",
    "def logp(l, b, r, z, d, h):\n",
    "    return np.log((d**2)*density_function(r, z, h))\n",
    "\n",
    "\n",
    "def draw_with_pymc(l, b, dmax, nsample):\n",
    "    \n",
    "    with pm.Model() as model:\n",
    "        d=pm.Uniform('d', lower=0., upper=dmax, testval=dmax/10.)\n",
    "        \n",
    "        x=pm.Deterministic('x',  Rsun-d*np.cos(b)*np.cos(l))\n",
    "        y=pm.Deterministic('y', -d*np.cos(b)*np.sin(l))\n",
    "        r=pm.Deterministic('r', (x**2+y**2)**0.5 )\n",
    "        z=pm.Deterministic('z', Zsun+ d * np.sin(b))\n",
    "        \n",
    "        like = pm.Potential('likelihood', logp(l, b, r, z, d, h))\n",
    "\n",
    "        trace = pm.sample(draws=int(nsample), cores=4, tune=int(nsample/20),\n",
    "            discard_tuned_samples=True)\n",
    "        \n",
    "    return trace\n",
    "\n",
    "def draw_with_cdf(l, b, dmax, nsample):\n",
    "    d=np.logspace(0, np.log10(dmax), int(nsample))\n",
    "    cdfvals=np.array([wispsim.custom_volume(l,b,0, dx, h) for dx in d])\n",
    "    return wisps.random_draw(d, cdfvals/np.nanmax(cdfvals), nsample)\n"
   ]
  },
  {
   "cell_type": "code",
   "execution_count": 5,
   "metadata": {},
   "outputs": [],
   "source": [
    "from itertools import combinations, product"
   ]
  },
  {
   "cell_type": "code",
   "execution_count": 9,
   "metadata": {},
   "outputs": [],
   "source": [
    "from astropy.coordinates import SkyCoord\n",
    "pnts=pd.read_pickle(wisps.OUTPUT_FILES+'/pointings_correctedf110.pkl')\n",
    "#print (pnts[0].survey)\n",
    "COORDS=SkyCoord([p.coord for p in pnts ])\n",
    "galc=COORDS.transform_to('galactic')\n",
    "\n",
    "LBS=np.vstack([[x.coord.galactic.l.radian,x.coord.galactic.b.radian] for x in pnts ])\n",
    "\n",
    "LS=galc.l.radian\n",
    "BS=galc.b.radian"
   ]
  },
  {
   "cell_type": "code",
   "execution_count": 29,
   "metadata": {},
   "outputs": [
    {
     "name": "stderr",
     "output_type": "stream",
     "text": [
      "Auto-assigning NUTS sampler...\n",
      "Initializing NUTS using jitter+adapt_diag...\n",
      "Multiprocess sampling (4 chains in 4 jobs)\n",
      "NUTS: [d]\n"
     ]
    },
    {
     "data": {
      "text/html": [
       "\n",
       "    <div>\n",
       "        <style>\n",
       "            /* Turns off some styling */\n",
       "            progress {\n",
       "                /* gets rid of default border in Firefox and Opera. */\n",
       "                border: none;\n",
       "                /* Needs to be in here for Safari polyfill so background images work as expected. */\n",
       "                background-size: auto;\n",
       "            }\n",
       "            .progress-bar-interrupted, .progress-bar-interrupted::-webkit-progress-bar {\n",
       "                background: #F44336;\n",
       "            }\n",
       "        </style>\n",
       "      <progress value='4200' class='' max='4200' style='width:300px; height:20px; vertical-align: middle;'></progress>\n",
       "      100.00% [4200/4200 00:06<00:00 Sampling 4 chains, 0 divergences]\n",
       "    </div>\n",
       "    "
      ],
      "text/plain": [
       "<IPython.core.display.HTML object>"
      ]
     },
     "metadata": {},
     "output_type": "display_data"
    },
    {
     "name": "stderr",
     "output_type": "stream",
     "text": [
      "Sampling 4 chains for 50 tune and 1_000 draw iterations (200 + 4_000 draws total) took 28 seconds.\n",
      "The acceptance probability does not match the target. It is 0.9517906537602921, but should be close to 0.8. Try to increase the number of tuning steps.\n",
      "The acceptance probability does not match the target. It is 0.959643950292167, but should be close to 0.8. Try to increase the number of tuning steps.\n",
      "The acceptance probability does not match the target. It is 0.9094041628112418, but should be close to 0.8. Try to increase the number of tuning steps.\n",
      "The acceptance probability does not match the target. It is 0.9377066098080206, but should be close to 0.8. Try to increase the number of tuning steps.\n"
     ]
    }
   ],
   "source": [
    "tr=draw_with_pymc(LS, BS,1000, 1000)"
   ]
  },
  {
   "cell_type": "code",
   "execution_count": 30,
   "metadata": {},
   "outputs": [],
   "source": [
    "#pm.traceplot(tr)"
   ]
  },
  {
   "cell_type": "code",
   "execution_count": 31,
   "metadata": {},
   "outputs": [
    {
     "data": {
      "text/plain": [
       "[<matplotlib.lines.Line2D at 0x7fd50850aee0>]"
      ]
     },
     "execution_count": 31,
     "metadata": {},
     "output_type": "execute_result"
    },
    {
     "data": {
      "image/png": "[encoded data removed]",
      "text/plain": [
       "<Figure size 432x288 with 1 Axes>"
      ]
     },
     "metadata": {
      "needs_background": "light"
     },
     "output_type": "display_data"
    }
   ],
   "source": [
    "%matplotlib inline\n",
    "fig, ax=plt.subplots()\n",
    "plt.plot(tr['d'])"
   ]
  },
  {
   "cell_type": "code",
   "execution_count": 11,
   "metadata": {},
   "outputs": [
    {
     "ename": "NameError",
     "evalue": "name 'GHJK' is not defined",
     "output_type": "error",
     "traceback": [
      "\u001b[0;31m---------------------------------------------------------------------------\u001b[0m",
      "\u001b[0;31mNameError\u001b[0m                                 Traceback (most recent call last)",
      "\u001b[0;32m<ipython-input-11-65a203558fd5>\u001b[0m in \u001b[0;36m<module>\u001b[0;34m\u001b[0m\n\u001b[0;32m----> 1\u001b[0;31m \u001b[0mGHJK\u001b[0m\u001b[0;34m\u001b[0m\u001b[0;34m\u001b[0m\u001b[0m\n\u001b[0m",
      "\u001b[0;31mNameError\u001b[0m: name 'GHJK' is not defined"
     ]
    }
   ],
   "source": [
    "\n",
    "GHJK"
   ]
  },
  {
   "cell_type": "code",
   "execution_count": null,
   "metadata": {
    "scrolled": false
   },
   "outputs": [],
   "source": [
    "l_values=[0, np.pi/2, np.pi, 1.5*np.pi, 2*np.pi  ]\n",
    "b_values=[0, np.pi/2, np.pi]\n",
    "d_values=[20, 100, 500, 1000, 3000]\n",
    "s=[l_values, b_values, d_values]\n",
    "nsample=int(1e3)\n",
    "VALS={}\n",
    "for l, b, dmax in list(product(*s)):\n",
    "    pym_draws=draw_with_pymc(l, b, dmax, nsample)\n",
    "    cdf_draws=(draw_with_cdf(l, b, dmax, nsample)['d']).flatten()\n",
    "    \n",
    "    VALS.update({'l (deg) {} b (de) {} d {} '.format(np.round(l*u.radian.to(u.degree)),\n",
    "                                                      np.round(b*u.radian.to(u.degree)), dmax): \n",
    "                 {'cdf': cdf_draws, 'pymc': pym_draws}})\n",
    "    "
   ]
  },
  {
   "cell_type": "raw",
   "metadata": {},
   "source": [
    "draw_with_cdf(0., 0., 100., 1e4)"
   ]
  },
  {
   "cell_type": "code",
   "execution_count": null,
   "metadata": {
    "scrolled": false
   },
   "outputs": [],
   "source": [
    "%matplotlib inline\n",
    "for k in VALS.keys():\n",
    "    fig, ax=plt.subplots()\n",
    "    plt.hist(VALS[k]['cdf'], bins=32, histtype='step', label='CDF', density=True)\n",
    "    plt.hist(VALS[k]['pymc'], bins=32,histtype='step', label='PYMC',density=True)\n",
    "    plt.title(k)\n",
    "    plt.legend()\n",
    "    plt.show()"
   ]
  },
  {
   "cell_type": "code",
   "execution_count": null,
   "metadata": {},
   "outputs": [],
   "source": [
    "#pm.model_graph.model_to_graphviz(model)"
   ]
  },
  {
   "cell_type": "code",
   "execution_count": null,
   "metadata": {},
   "outputs": [],
   "source": []
  }
 ],
 "metadata": {
  "kernelspec": {
   "display_name": "Python 3",
   "language": "python",
   "name": "python3"
  },
  "language_info": {
   "codemirror_mode": {
    "name": "ipython",
    "version": 3
   },
   "file_extension": ".py",
   "mimetype": "text/x-python",
   "name": "python",
   "nbconvert_exporter": "python",
   "pygments_lexer": "ipython3",
   "version": "3.8.5"
  }
 },
 "nbformat": 4,
 "nbformat_minor": 4
}
