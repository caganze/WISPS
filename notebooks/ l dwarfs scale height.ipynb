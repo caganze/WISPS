{
 "cells": [
  {
   "cell_type": "code",
   "execution_count": 1,
   "metadata": {},
   "outputs": [],
   "source": [
    "import wisps\n",
    "import splat\n",
    "import wisps.simulations as wispsim\n",
    "import matplotlib.pyplot as plt\n",
    "import pandas as pd\n",
    "import astropy.units as u\n",
    "from astropy.coordinates import SkyCoord\n",
    "import scipy.integrate as integrate\n",
    "from tqdm import tqdm\n",
    "import numpy as np\n",
    "import wisps.simulations as wispsim\n",
    "import numba\n",
    "import bisect\n",
    "\n",
    "%matplotlib inline"
   ]
  },
  {
   "cell_type": "code",
   "execution_count": 2,
   "metadata": {},
   "outputs": [],
   "source": [
    "lf=wisps.LUMINOSITY_FUCTION\n",
    "lfdes=wisps.DES_LUMINOSITY_FUCTION\n",
    "maglimits=wisps.MAG_LIMITS"
   ]
  },
  {
   "cell_type": "code",
   "execution_count": 3,
   "metadata": {},
   "outputs": [],
   "source": [
    "obs=pd.read_csv(wisps.OUTPUT_FILES+'//observation_log_with_limit.csv')"
   ]
  },
  {
   "cell_type": "code",
   "execution_count": 4,
   "metadata": {},
   "outputs": [],
   "source": [
    "ras=obs['ra (deg)']\n",
    "decs=obs['dec(deg)']"
   ]
  },
  {
   "cell_type": "code",
   "execution_count": 5,
   "metadata": {},
   "outputs": [],
   "source": [
    "direcs=SkyCoord(ra=ras*u.deg, dec=decs*u.deg)"
   ]
  },
  {
   "cell_type": "code",
   "execution_count": 6,
   "metadata": {},
   "outputs": [],
   "source": [
    "n=2\n",
    "zscl=280"
   ]
  },
  {
   "cell_type": "code",
   "execution_count": 7,
   "metadata": {},
   "outputs": [],
   "source": [
    "import splat"
   ]
  },
  {
   "cell_type": "code",
   "execution_count": 8,
   "metadata": {},
   "outputs": [],
   "source": [
    "import copy"
   ]
  },
  {
   "cell_type": "code",
   "execution_count": 9,
   "metadata": {},
   "outputs": [],
   "source": [
    "import numpy"
   ]
  },
  {
   "cell_type": "code",
   "execution_count": 10,
   "metadata": {},
   "outputs": [],
   "source": [
    "dmin=5\n",
    "dmax=10000"
   ]
  },
  {
   "cell_type": "code",
   "execution_count": 12,
   "metadata": {},
   "outputs": [],
   "source": [
    "from wisps.simulations import custom_volume_correction"
   ]
  },
  {
   "cell_type": "code",
   "execution_count": 13,
   "metadata": {},
   "outputs": [],
   "source": [
    "juricp=wisps.OBSERVED_POINTINGS[0]"
   ]
  },
  {
   "cell_type": "code",
   "execution_count": 26,
   "metadata": {},
   "outputs": [],
   "source": [
    "class Pointing(object):\n",
    "    ## a pointing object making it easier to draw samples\n",
    "    \n",
    "    def __init__(self, **kwargs):\n",
    "        #only input is the direction\n",
    "        self.coord=kwargs.get('coord', None)\n",
    "        self._samples={}\n",
    "        self.survey=kwargs.get('survey', None)\n",
    "        self.mag_limits=None\n",
    "        self.dist_limits=None\n",
    "        self.name=kwargs.get('name', None)\n",
    "        self.volume=None\n",
    "    \n",
    "    def compute_distance_limits(self):\n",
    "        \"\"\"\n",
    "        computes distance limits based on limiting mags\n",
    "        \"\"\"\n",
    "        rels=wisps.POLYNOMIAL_RELATIONS\n",
    "        spgrid=np.arange(20, 38)\n",
    "        if self.mag_limits is None:\n",
    "            pass\n",
    "        else:\n",
    "            #use F140W for 3d-hst pointing and f110w for wisps\n",
    "            pol=None\n",
    "            maglmts=None\n",
    "            if self.survey=='wisps':\n",
    "                pol=rels['sp_F110W']\n",
    "                maglmts= self.mag_limits['F110W']\n",
    "            if self.survey=='hst3d':\n",
    "                pol=rels['sp_F140W']\n",
    "                maglmts=self.mag_limits['F140W']\n",
    "\n",
    "            #compute asbmags using abolute mag relations\n",
    "            absmags=pol(spgrid)\n",
    "            relfaintmags=np.array([maglmts[0] for s in spgrid])\n",
    "            relbrightmags=np.array([maglmts[1] for s in spgrid])\n",
    "            \n",
    "            #compute distances\n",
    "            dmins=get_distance(absmags, relbrightmags)\n",
    "            dmaxs=get_distance(absmags, relfaintmags)\n",
    "\n",
    "            distances=np.array([dmaxs, dmins]).T\n",
    "\n",
    "            self.dist_limits=dict(zip(spgrid, distances))\n",
    "            #create a dictionary\n",
    "\n",
    "    def computer_volume(self):\n",
    "        \"\"\"\n",
    "        given area calculate the volume\n",
    "        \"\"\"\n",
    "        volumes={}\n",
    "        solid_angle=SOLID_ANGLE\n",
    "        for k in self.dist_limits.keys():\n",
    "             vc=custom_volume_correction(self.coord,  self.dist_limits[k][1],self.dist_limits[k][0])\n",
    "             volumes['vc_'+str(k)]=vc\n",
    "             volumes[k]= vc*0.33333333333*(self.dist_limits[k][0]**3-self.dist_limits[k][1]**3)\n",
    "\n",
    "        self.volume=volumes\n",
    "    "
   ]
  },
  {
   "cell_type": "code",
   "execution_count": 27,
   "metadata": {},
   "outputs": [],
   "source": [
    "def get_survey(pointing):\n",
    "    if pointing.startswith('par'):\n",
    "        return 'wisps'\n",
    "    else:\n",
    "        return 'hst3d'"
   ]
  },
  {
   "cell_type": "code",
   "execution_count": 28,
   "metadata": {},
   "outputs": [],
   "source": [
    "from wisps.utils.tools import get_distance\n",
    "from wisps.simulations import SOLID_ANGLE\n",
    "import splat.simulate as spsim\n",
    "from functools import partial\n",
    "import bisect"
   ]
  },
  {
   "cell_type": "code",
   "execution_count": 29,
   "metadata": {},
   "outputs": [],
   "source": [
    "ras=obs['ra (deg)']\n",
    "decs=obs['dec(deg)']\n",
    "surveys=obs.pointing.apply(get_survey)"
   ]
  },
  {
   "cell_type": "code",
   "execution_count": 30,
   "metadata": {},
   "outputs": [],
   "source": [
    "def make_pointing(ra, dec, survey, name):\n",
    "    coord=SkyCoord(ra=ra*u.deg,dec=dec*u.deg )\n",
    "    return Pointing(coord=coord, survey=survey, name=name)\n",
    "pnts=[make_pointing(ra, dec, survey, name) for ra, dec, survey, name in zip(ras, decs, surveys, obs.pointing.values)]"
   ]
  },
  {
   "cell_type": "code",
   "execution_count": 31,
   "metadata": {},
   "outputs": [
    {
     "name": "stderr",
     "output_type": "stream",
     "text": [
      "100%|██████████| 533/533 [00:24<00:00, 21.76it/s]\n"
     ]
    }
   ],
   "source": [
    "for pnt in tqdm(pnts):\n",
    "    pnt.mag_limits=maglimits[pnt.survey]\n",
    "    pnt.compute_distance_limits()\n",
    "    pnt.computer_volume()\n",
    "    #pnt.create_sample(nsample=1000)"
   ]
  },
  {
   "cell_type": "code",
   "execution_count": 32,
   "metadata": {},
   "outputs": [],
   "source": [
    "vols=[x.volume for x in pnts]"
   ]
  },
  {
   "cell_type": "code",
   "execution_count": 33,
   "metadata": {},
   "outputs": [],
   "source": [
    "import pickle\n",
    "with open(wisps.OUTPUT_FILES+'/ldwarfs_scale_height.pkl', 'wb') as file:\n",
    "    pickle.dump(vols,file)"
   ]
  },
  {
   "cell_type": "code",
   "execution_count": 35,
   "metadata": {},
   "outputs": [],
   "source": [
    "#vols"
   ]
  },
  {
   "cell_type": "code",
   "execution_count": null,
   "metadata": {},
   "outputs": [],
   "source": [
    "#float(integrate.trapz(rho*(d**2),x=d)/integrate.trapz(d**2,x=d))"
   ]
  },
  {
   "cell_type": "code",
   "execution_count": null,
   "metadata": {},
   "outputs": [],
   "source": []
  },
  {
   "cell_type": "code",
   "execution_count": null,
   "metadata": {},
   "outputs": [],
   "source": [
    "import wisps"
   ]
  },
  {
   "cell_type": "code",
   "execution_count": null,
   "metadata": {},
   "outputs": [],
   "source": []
  }
 ],
 "metadata": {
  "kernelspec": {
   "display_name": "Python 3",
   "language": "python",
   "name": "python3"
  },
  "language_info": {
   "codemirror_mode": {
    "name": "ipython",
    "version": 3
   },
   "file_extension": ".py",
   "mimetype": "text/x-python",
   "name": "python",
   "nbconvert_exporter": "python",
   "pygments_lexer": "ipython3",
   "version": "3.7.3"
  }
 },
 "nbformat": 4,
 "nbformat_minor": 4
}
