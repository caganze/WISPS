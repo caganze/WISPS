{
 "cells": [
  {
   "cell_type": "code",
   "execution_count": 1,
   "metadata": {},
   "outputs": [],
   "source": [
    "import wisps\n",
    "import splat\n",
    "import wisps.simulations as wispsim\n",
    "import matplotlib.pyplot as plt\n",
    "import pandas as pd\n",
    "import astropy.units as u\n",
    "from astropy.coordinates import SkyCoord\n",
    "import scipy.integrate as integrate\n",
    "from tqdm import tqdm\n",
    "import numpy as np\n",
    "import wisps.simulations as wispsim\n",
    "import numba\n",
    "import bisect\n",
    "\n",
    "%matplotlib inline"
   ]
  },
  {
   "cell_type": "code",
   "execution_count": 2,
   "metadata": {},
   "outputs": [],
   "source": [
    "lf=wisps.LUMINOSITY_FUCTION\n",
    "lfdes=wisps.DES_LUMINOSITY_FUCTION\n",
    "maglimits=wisps.MAG_LIMITS"
   ]
  },
  {
   "cell_type": "code",
   "execution_count": 3,
   "metadata": {},
   "outputs": [],
   "source": [
    "obs=pd.read_csv(wisps.OUTPUT_FILES+'//observation_log_with_limit.csv')"
   ]
  },
  {
   "cell_type": "code",
   "execution_count": 4,
   "metadata": {},
   "outputs": [],
   "source": [
    "ras=obs['ra (deg)']\n",
    "decs=obs['dec(deg)']"
   ]
  },
  {
   "cell_type": "code",
   "execution_count": 5,
   "metadata": {},
   "outputs": [],
   "source": [
    "direcs=SkyCoord(ra=ras*u.deg, dec=decs*u.deg)"
   ]
  },
  {
   "cell_type": "code",
   "execution_count": 6,
   "metadata": {},
   "outputs": [],
   "source": [
    "n=2\n",
    "zscl=280"
   ]
  },
  {
   "cell_type": "code",
   "execution_count": 7,
   "metadata": {},
   "outputs": [],
   "source": [
    "import splat"
   ]
  },
  {
   "cell_type": "code",
   "execution_count": 8,
   "metadata": {},
   "outputs": [],
   "source": [
    "#custom_volume_correction(direcs[0],1., 100.)"
   ]
  },
  {
   "cell_type": "code",
   "execution_count": 9,
   "metadata": {},
   "outputs": [],
   "source": [
    "import copy"
   ]
  },
  {
   "cell_type": "code",
   "execution_count": 10,
   "metadata": {},
   "outputs": [],
   "source": [
    "@numba.jit\n",
    "def custom_volume_correction(coordinate,dmin, dmax):\n",
    "    nsamp=1000\n",
    "    rho_function = ryan_density_function_l\n",
    "    d = np.linspace(dmin,dmax,nsamp)\n",
    "    rho = []\n",
    "    c = splat.properCoordinates(coordinate)\n",
    "    x,y,z = splat.xyz(c,distance=d,center='sun',unit=u.pc)\n",
    "    r = (x**2+y**2)**0.5\n",
    "    rho.append(rho_function(r.value, z.value))\n",
    "    return float(integrate.trapz(rho*(d**2),x=d)/integrate.trapz(d**2,x=d))"
   ]
  },
  {
   "cell_type": "code",
   "execution_count": 11,
   "metadata": {},
   "outputs": [],
   "source": [
    "@numba.jit\n",
    "def convert_to_rz(ra, dec, dist):\n",
    "    \"\"\"\n",
    "    returns r and z given a distance\n",
    "    \"\"\"\n",
    "    newcoord=SkyCoord(ra=ra, dec=dec, distance=dist*u.pc)\n",
    "    r=(newcoord.cartesian.x**2+newcoord.cartesian.y**2)**0.5\n",
    "    z=newcoord.cartesian.z\n",
    "    return r.to(u.pc).value, z.to(u.pc).value\n",
    "\n",
    "@numba.vectorize\n",
    "def ryan_density_function_l(r, z):\n",
    "    \n",
    "    \"\"\"\n",
    "    A l dwarfs density function beacsue numba doesn't allow vectorization with kwargs\n",
    "    \"\"\"\n",
    "     \n",
    "    \"\"\"\n",
    "    A custom juric density function that only uses numpy arrays for speed\n",
    "    All units are in pc\n",
    "    \"\"\"\n",
    "    ##constants\n",
    "    r0 = 8000 # radial offset from galactic center to Sun\n",
    "    z0 = 25.  # vertical offset from galactic plane to Sun\n",
    "    l1 = 2600. # radial length scale of exponential thin disk \n",
    "    h1 = 350.# vertical length scale of exponential thin disk \n",
    "    ftd = 0.12 # relative number of thick disk to thin disk star counts\n",
    "    l2 = 3600. # radial length scale of exponential thin disk \n",
    "    h2 = 900. # vertical length scale of exponential thin disk \n",
    "    fh = 0.0051 # relative number of halo to thin disk star counts\n",
    "    qh = 0.64 # halo axial ratio\n",
    "    nh = 2.77 # halo power law index\n",
    "    \n",
    "    dens0=1.0\n",
    "    \n",
    "    thindens=dens0*np.exp(-abs(r-r0)/l1)\n",
    "    halodens=1/(np.cosh(abs(z-z0)/h1)**2)\n",
    "    \n",
    "    return thindens*halodens\n",
    "\n",
    "\n",
    "@numba.vectorize\n",
    "def juric_density_function(r, z):\n",
    "    \n",
    "    \"\"\"\n",
    "    A custom juric density function that only uses numpy arrays for speed\n",
    "    All units are in pc\n",
    "    \"\"\"\n",
    "    ##constants\n",
    "    r0 = 8000 # radial offset from galactic center to Sun\n",
    "    z0 = 25.  # vertical offset from galactic plane to Sun\n",
    "    l1 = 2600. # radial length scale of exponential thin disk \n",
    "    h1 = 300.# vertical length scale of exponential thin disk \n",
    "    ftd = 0.12 # relative number of thick disk to thin disk star counts\n",
    "    l2 = 3600. # radial length scale of exponential thin disk \n",
    "    h2 = 900. # vertical length scale of exponential thin disk \n",
    "    fh = 0.0051 # relative number of halo to thin disk star counts\n",
    "    qh = 0.64 # halo axial ratio\n",
    "    nh = 2.77 # halo power law index\n",
    "    \n",
    "    dens0=1.0\n",
    "    \n",
    "    thindens=dens0*np.exp(-abs(r-r0)/l1)*np.exp(-abs(z-z0)/h1)\n",
    "    thickdens=dens0*np.exp(-abs(r-r0)/l2)*np.exp(-abs(z-z0)/h2)\n",
    "    halodens= dens0*(((r0/(r**2+(z/qh)**2)**0.5))**nh)\n",
    "    \n",
    "    return thindens+ftd*thickdens+fh*halodens\n",
    "\n",
    "\n"
   ]
  },
  {
   "cell_type": "code",
   "execution_count": 12,
   "metadata": {},
   "outputs": [],
   "source": [
    "zs=(np.logspace(-1, 3, 1000)+25.)\n",
    "rs=abs(np.logspace(-1, 3, 1000)+8000)"
   ]
  },
  {
   "cell_type": "code",
   "execution_count": 13,
   "metadata": {},
   "outputs": [],
   "source": [
    "juric=juric_density_function(rs, zs)"
   ]
  },
  {
   "cell_type": "code",
   "execution_count": 14,
   "metadata": {},
   "outputs": [
    {
     "data": {
      "text/plain": [
       "Text(0, 0.5, '$\\\\rho$ (z)')"
      ]
     },
     "execution_count": 14,
     "metadata": {},
     "output_type": "execute_result"
    },
    {
     "data": {
      "image/png": "[encoded data removed]",
      "text/plain": [
       "<Figure size 480x240 with 1 Axes>"
      ]
     },
     "metadata": {},
     "output_type": "display_data"
    }
   ],
   "source": [
    "#plt.plot(zs, ryan_density_function_t(zs), label='ryan zscl=280 ', c='#0074D9')\n",
    "plt.plot(zs, ryan_density_function_l(rs, zs), label='secant ', c='#2ECC40')\n",
    "plt.plot(zs, juric, label='juric', c='#FF4136')\n",
    "plt.legend()\n",
    "plt.xlabel('z (pc)')\n",
    "plt.ylabel(r'$\\rho$ (z)')"
   ]
  },
  {
   "cell_type": "code",
   "execution_count": 15,
   "metadata": {},
   "outputs": [],
   "source": [
    "def cdf(coord,  dmin, dmax):\n",
    "    \"\"\"\n",
    "    The cumulative distribution function along the line of sight\n",
    "    \"\"\"\n",
    "    @numba.vectorize(\"float64(float64)\")\n",
    "    def get_z_position(d):\n",
    "        r, z=convert_to_rz(coord.ra, coord.dec, d)\n",
    "        return z\n",
    "    \n",
    "    @numba.vectorize(\"float64(float64)\")\n",
    "    def get_volume(d):\n",
    "        vc=custom_volume_correction(coord, dmin, d)\n",
    "        return vc*(d**3)\n",
    "\n",
    "    norm=(dmax)**3*custom_volume_correction(coord, dmin, dmax)\n",
    "    dds=np.logspace(np.log10(dmin), np.log10(dmax), 5000)\n",
    "    #zzs=get_z_position(dds)\n",
    "    vs=get_volume(dds)\n",
    "    return dds,vs/norm\n",
    "\n",
    "def random_draw(dvals, cdfvals, dmax, dmin, nsample=1000):\n",
    "    \"\"\"\n",
    "    randomly drawing x distances in a given direction\n",
    "    \"\"\"\n",
    "    @numba.vectorize(\"int32(float64)\")\n",
    "    def invert_cdf(i):\n",
    "        return bisect.bisect(cdfvals, i)\n",
    "    x=np.random.rand(nsample)\n",
    "    idx=invert_cdf(x)\n",
    "    res= np.array(dvals)[idx-1]\n",
    "    return res\n",
    "\n"
   ]
  },
  {
   "cell_type": "code",
   "execution_count": 16,
   "metadata": {},
   "outputs": [],
   "source": [
    "dmin=5\n",
    "dmax=10000"
   ]
  },
  {
   "cell_type": "code",
   "execution_count": 17,
   "metadata": {},
   "outputs": [],
   "source": [
    "vals1, cdf1=cdf(direcs[0],  dmin, dmax)"
   ]
  },
  {
   "cell_type": "code",
   "execution_count": 18,
   "metadata": {},
   "outputs": [],
   "source": [
    "juricp=wisps.OBSERVED_POINTINGS[0]"
   ]
  },
  {
   "cell_type": "code",
   "execution_count": 19,
   "metadata": {},
   "outputs": [],
   "source": [
    "vals2, cdf2=juricp.cdf(dmin, dmax)"
   ]
  },
  {
   "cell_type": "code",
   "execution_count": 29,
   "metadata": {},
   "outputs": [
    {
     "data": {
      "text/plain": [
       "<matplotlib.legend.Legend at 0x1c612a6240>"
      ]
     },
     "execution_count": 29,
     "metadata": {},
     "output_type": "execute_result"
    },
    {
     "data": {
      "image/png": "[encoded data removed]",
      "text/plain": [
       "<Figure size 480x240 with 1 Axes>"
      ]
     },
     "metadata": {},
     "output_type": "display_data"
    }
   ],
   "source": [
    "plt.plot(vals1, cdf1, label='secant ', c='#2ECC40')\n",
    "plt.plot(vals2, cdf2,label='juric', c='#FF4136')\n",
    "plt.legend()"
   ]
  },
  {
   "cell_type": "code",
   "execution_count": 21,
   "metadata": {},
   "outputs": [
    {
     "data": {
      "image/png": "[encoded data removed]",
      "text/plain": [
       "<Figure size 480x240 with 1 Axes>"
      ]
     },
     "metadata": {},
     "output_type": "display_data"
    }
   ],
   "source": [
    "h=plt.hist(random_draw(vals1, cdf1, dmax, dmin, nsample=1000), bins=32, histtype='step',label='secant ', color='#2ECC40')\n",
    "j=plt.hist(random_draw(vals2, cdf2, dmax, dmin, nsample=1000), histtype='step', bins=32,label='juric', color='#FF4136')\n",
    "#plt.legend(loc='top right')"
   ]
  },
  {
   "cell_type": "code",
   "execution_count": 22,
   "metadata": {},
   "outputs": [],
   "source": [
    "\n",
    "class Pointing(object):\n",
    "    ## a pointing object making it easier to draw samples\n",
    "    \n",
    "    def __init__(self, **kwargs):\n",
    "        #only input is the direction\n",
    "        self.coord=kwargs.get('coord', None)\n",
    "        self._samples={}\n",
    "        self.survey=kwargs.get('survey', None)\n",
    "        self.mag_limits=None\n",
    "        self.dist_limits=None\n",
    "        self.name=kwargs.get('name', None)\n",
    "        self.volume=None\n",
    "    \n",
    "    def cdf(self,  dmin, dmax):\n",
    "        \"\"\"\n",
    "        The cumulative distribution function along the line of sight\n",
    "        \"\"\"\n",
    "        coord=self.coord\n",
    "        @numba.vectorize(\"float64(float64)\")\n",
    "        def get_z_position(d):\n",
    "            r, z=convert_to_rz(coord.ra, coord.dec, d)\n",
    "            return z\n",
    "\n",
    "        @numba.vectorize(\"float64(float64)\")\n",
    "        def get_volume(d):\n",
    "            vc=custom_volume_correction(coord, dmin, d)\n",
    "            return vc*(d**3)\n",
    "\n",
    "        norm=(dmax)**3*custom_volume_correction(coord, dmin, dmax)\n",
    "        dds=np.logspace(np.log10(dmin), np.log10(dmax), 5000)\n",
    "        #zzs=get_z_position(dds)\n",
    "        vs=get_volume(dds)\n",
    "        return dds,vs/norm\n",
    "\n",
    "    def compute_distance_limits(self):\n",
    "        \"\"\"\n",
    "        computes distance limits based on limiting mags\n",
    "        \"\"\"\n",
    "        rels=wisps.POLYNOMIAL_RELATIONS\n",
    "        spgrid=np.arange(20, 38)\n",
    "        if self.mag_limits is None:\n",
    "            pass\n",
    "        else:\n",
    "            #use F140W for 3d-hst pointing and f110w for wisps\n",
    "            pol=None\n",
    "            maglmts=None\n",
    "            if self.survey=='wisps':\n",
    "                pol=rels['sp_F110W']\n",
    "                maglmts= self.mag_limits['F110W']\n",
    "            if self.survey=='hst3d':\n",
    "                pol=rels['sp_F140W']\n",
    "                maglmts=self.mag_limits['F140W']\n",
    "\n",
    "            #compute asbmags using abolute mag relations\n",
    "            absmags=pol(spgrid)\n",
    "            relfaintmags=np.array([maglmts[0] for s in spgrid])\n",
    "            relbrightmags=np.array([maglmts[1] for s in spgrid])\n",
    "            \n",
    "            #compute distances\n",
    "            dmins=get_distance(absmags, relbrightmags)\n",
    "            dmaxs=get_distance(absmags, relfaintmags)\n",
    "\n",
    "            distances=np.array([dmaxs, dmins]).T\n",
    "\n",
    "            self.dist_limits=dict(zip(spgrid, distances))\n",
    "            #create a dictionary\n",
    "\n",
    "    def computer_volume(self):\n",
    "        \"\"\"\n",
    "        given area calculate the volume\n",
    "        \"\"\"\n",
    "        volumes={}\n",
    "        solid_angle=SOLID_ANGLE\n",
    "        for k in self.dist_limits.keys():\n",
    "             vc=spsim.volumeCorrection(self.coord,  self.dist_limits[k][1], self.dist_limits[k][0])\n",
    "             volumes['vc_'+str(k)]=vc\n",
    "             volumes[k]= vc*0.33333333333*(self.dist_limits[k][0]**3-self.dist_limits[k][1]**3)\n",
    "\n",
    "        self.volume=volumes\n",
    "    \n",
    "\n",
    "    def random_draw(self,  dmax, dmin, nsample=1000):\n",
    "        \"\"\"\n",
    "        randomly drawing x distances in a given direction\n",
    "        \"\"\"\n",
    "        dvals, cdfvals=self.cdf(dmin, dmax)\n",
    "        @numba.vectorize(\"int32(float64)\")\n",
    "        def invert_cdf(i):\n",
    "            return bisect.bisect(cdfvals, i)\n",
    "        x=np.random.rand(nsample)\n",
    "        idx=invert_cdf(x)\n",
    "        res= np.array(dvals)[idx-1]\n",
    "        return res\n",
    "\n",
    "    @property\n",
    "    def samples(self):\n",
    "        return self._samples\n",
    "    \n",
    "    def create_sample(self, nsample=1000):\n",
    "        self._samples={}\n",
    "        for k in  self.dist_limits.keys():\n",
    "            #draw up to twice the distance limit\n",
    "            self._samples[k]=self.random_draw( 2*self.dist_limits[k][0], self.dist_limits[k][1], nsample=nsample)"
   ]
  },
  {
   "cell_type": "code",
   "execution_count": 23,
   "metadata": {},
   "outputs": [],
   "source": [
    "def get_survey(pointing):\n",
    "    if pointing.startswith('par'):\n",
    "        return 'wisps'\n",
    "    else:\n",
    "        return 'hst3d'"
   ]
  },
  {
   "cell_type": "code",
   "execution_count": 24,
   "metadata": {},
   "outputs": [],
   "source": [
    "from wisps.utils.tools import get_distance\n",
    "from wisps.simulations import SOLID_ANGLE\n",
    "import splat.simulate as spsim\n",
    "from functools import partial\n",
    "import bisect"
   ]
  },
  {
   "cell_type": "code",
   "execution_count": 25,
   "metadata": {},
   "outputs": [],
   "source": [
    "ras=obs['ra (deg)']\n",
    "decs=obs['dec(deg)']\n",
    "surveys=obs.pointing.apply(get_survey)"
   ]
  },
  {
   "cell_type": "code",
   "execution_count": 26,
   "metadata": {},
   "outputs": [],
   "source": [
    "def make_pointing(ra, dec, survey, name):\n",
    "    coord=SkyCoord(ra=ra*u.deg,dec=dec*u.deg )\n",
    "    return Pointing(coord=coord, survey=survey, name=name)\n",
    "pnts=[make_pointing(ra, dec, survey, name) for ra, dec, survey, name in zip(ras, decs, surveys, obs.pointing.values)]"
   ]
  },
  {
   "cell_type": "code",
   "execution_count": 27,
   "metadata": {},
   "outputs": [],
   "source": [
    "#for pnt in tqdm(pnts):\n",
    "#    pnt.mag_limits=maglimits[pnt.survey]\n",
    "#    #print( pnt.survey)\n",
    "#    pnt.compute_distance_limits()\n",
    "##    pnt.computer_volume()\n",
    "#    pnt.create_sample( nsample=1000)"
   ]
  },
  {
   "cell_type": "code",
   "execution_count": null,
   "metadata": {},
   "outputs": [],
   "source": []
  }
 ],
 "metadata": {
  "kernelspec": {
   "display_name": "Python 3",
   "language": "python",
   "name": "python3"
  },
  "language_info": {
   "codemirror_mode": {
    "name": "ipython",
    "version": 3
   },
   "file_extension": ".py",
   "mimetype": "text/x-python",
   "name": "python",
   "nbconvert_exporter": "python",
   "pygments_lexer": "ipython3",
   "version": "3.7.3"
  }
 },
 "nbformat": 4,
 "nbformat_minor": 2
}
