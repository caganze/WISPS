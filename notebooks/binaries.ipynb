{
 "cells": [
  {
   "cell_type": "code",
   "execution_count": 1,
   "metadata": {},
   "outputs": [],
   "source": [
    "import wisps\n",
    "import splat\n",
    "import pandas as pd\n",
    "import matplotlib.pyplot as plt\n",
    "import numpy as np\n",
    "%matplotlib inline"
   ]
  },
  {
   "cell_type": "code",
   "execution_count": 2,
   "metadata": {},
   "outputs": [],
   "source": [
    "binar=pd.read_pickle(wisps.OUTPUT_FILES+'/binary_templates.pkl').dropna()"
   ]
  },
  {
   "cell_type": "code",
   "execution_count": 3,
   "metadata": {},
   "outputs": [
    {
     "data": {
      "text/html": [
       "<div>\n",
       "<style scoped>\n",
       "    .dataframe tbody tr th:only-of-type {\n",
       "        vertical-align: middle;\n",
       "    }\n",
       "\n",
       "    .dataframe tbody tr th {\n",
       "        vertical-align: top;\n",
       "    }\n",
       "\n",
       "    .dataframe thead th {\n",
       "        text-align: right;\n",
       "    }\n",
       "</style>\n",
       "<table border=\"1\" class=\"dataframe\">\n",
       "  <thead>\n",
       "    <tr style=\"text-align: right;\">\n",
       "      <th></th>\n",
       "      <th>primary</th>\n",
       "      <th>system</th>\n",
       "      <th>spectrum</th>\n",
       "    </tr>\n",
       "  </thead>\n",
       "  <tbody>\n",
       "    <tr>\n",
       "      <th>0</th>\n",
       "      <td>[[21.0, 0.0], [26.0, 0.0]]</td>\n",
       "      <td>[21.0, 0.0]</td>\n",
       "      <td>WFC3-G141 spectrum of  +</td>\n",
       "    </tr>\n",
       "    <tr>\n",
       "      <th>1</th>\n",
       "      <td>[[21.0, 0.0], [18.0, 0.0]]</td>\n",
       "      <td>[19.0, 1.0]</td>\n",
       "      <td>WFC3-G141 spectrum of  +</td>\n",
       "    </tr>\n",
       "    <tr>\n",
       "      <th>2</th>\n",
       "      <td>[[21.0, 0.0], [22.0, 1.0]]</td>\n",
       "      <td>[21.0, 0.0]</td>\n",
       "      <td>WFC3-G141 spectrum of  +</td>\n",
       "    </tr>\n",
       "    <tr>\n",
       "      <th>3</th>\n",
       "      <td>[[21.0, 0.0], [29.0, 0.0]]</td>\n",
       "      <td>[21.0, 0.0]</td>\n",
       "      <td>WFC3-G141 spectrum of  +</td>\n",
       "    </tr>\n",
       "    <tr>\n",
       "      <th>4</th>\n",
       "      <td>[[21.0, 0.0], [37.0, 0.0]]</td>\n",
       "      <td>[21.0, 0.0]</td>\n",
       "      <td>WFC3-G141 spectrum of  +</td>\n",
       "    </tr>\n",
       "    <tr>\n",
       "      <th>...</th>\n",
       "      <td>...</td>\n",
       "      <td>...</td>\n",
       "      <td>...</td>\n",
       "    </tr>\n",
       "    <tr>\n",
       "      <th>15748</th>\n",
       "      <td>[[40.0, 0.0], [40.0, 0.0]]</td>\n",
       "      <td>[40.0, 0.0]</td>\n",
       "      <td>WFC3-G141 spectrum of  +</td>\n",
       "    </tr>\n",
       "    <tr>\n",
       "      <th>15749</th>\n",
       "      <td>[[40.0, 0.0], [41.0, 0.0]]</td>\n",
       "      <td>[40.0, 0.0]</td>\n",
       "      <td>WFC3-G141 spectrum of  +</td>\n",
       "    </tr>\n",
       "    <tr>\n",
       "      <th>15750</th>\n",
       "      <td>[[41.0, 0.0], [40.0, 0.0]]</td>\n",
       "      <td>[40.0, 0.0]</td>\n",
       "      <td>WFC3-G141 spectrum of  +</td>\n",
       "    </tr>\n",
       "    <tr>\n",
       "      <th>15751</th>\n",
       "      <td>[[41.0, 0.0], [41.0, 0.0]]</td>\n",
       "      <td>[41.0, 0.0]</td>\n",
       "      <td>WFC3-G141 spectrum of  +</td>\n",
       "    </tr>\n",
       "    <tr>\n",
       "      <th>15752</th>\n",
       "      <td>[[40.0, 0.0], [41.0, 0.0]]</td>\n",
       "      <td>[40.0, 0.0]</td>\n",
       "      <td>WFC3-G141 spectrum of  +</td>\n",
       "    </tr>\n",
       "  </tbody>\n",
       "</table>\n",
       "<p>15753 rows × 3 columns</p>\n",
       "</div>"
      ],
      "text/plain": [
       "                          primary       system                   spectrum\n",
       "0      [[21.0, 0.0], [26.0, 0.0]]  [21.0, 0.0]  WFC3-G141 spectrum of  + \n",
       "1      [[21.0, 0.0], [18.0, 0.0]]  [19.0, 1.0]  WFC3-G141 spectrum of  + \n",
       "2      [[21.0, 0.0], [22.0, 1.0]]  [21.0, 0.0]  WFC3-G141 spectrum of  + \n",
       "3      [[21.0, 0.0], [29.0, 0.0]]  [21.0, 0.0]  WFC3-G141 spectrum of  + \n",
       "4      [[21.0, 0.0], [37.0, 0.0]]  [21.0, 0.0]  WFC3-G141 spectrum of  + \n",
       "...                           ...          ...                        ...\n",
       "15748  [[40.0, 0.0], [40.0, 0.0]]  [40.0, 0.0]  WFC3-G141 spectrum of  + \n",
       "15749  [[40.0, 0.0], [41.0, 0.0]]  [40.0, 0.0]  WFC3-G141 spectrum of  + \n",
       "15750  [[41.0, 0.0], [40.0, 0.0]]  [40.0, 0.0]  WFC3-G141 spectrum of  + \n",
       "15751  [[41.0, 0.0], [41.0, 0.0]]  [41.0, 0.0]  WFC3-G141 spectrum of  + \n",
       "15752  [[40.0, 0.0], [41.0, 0.0]]  [40.0, 0.0]  WFC3-G141 spectrum of  + \n",
       "\n",
       "[15753 rows x 3 columns]"
      ]
     },
     "execution_count": 3,
     "metadata": {},
     "output_type": "execute_result"
    }
   ],
   "source": [
    "binar"
   ]
  },
  {
   "cell_type": "code",
   "execution_count": 4,
   "metadata": {},
   "outputs": [],
   "source": [
    "primary_spts=np.vstack(binar.primary.apply(lambda x: [x[0][0], x[1][0]]))"
   ]
  },
  {
   "cell_type": "code",
   "execution_count": 5,
   "metadata": {},
   "outputs": [],
   "source": [
    "system_spts=binar.system.apply(wisps.make_spt_number).values"
   ]
  },
  {
   "cell_type": "code",
   "execution_count": 6,
   "metadata": {},
   "outputs": [],
   "source": [
    "df=pd.DataFrame()\n",
    "df['prim']=primary_spts[:,0]\n",
    "df['sec']=primary_spts[:,1]\n",
    "df['sys']=np.vstack(system_spts)[:,0]"
   ]
  },
  {
   "cell_type": "code",
   "execution_count": 7,
   "metadata": {},
   "outputs": [],
   "source": [
    "import seaborn as sns"
   ]
  },
  {
   "cell_type": "code",
   "execution_count": 8,
   "metadata": {},
   "outputs": [],
   "source": [
    "cmap=sns.diverging_palette(220, 20, sep=20, as_cmap=True)"
   ]
  },
  {
   "cell_type": "code",
   "execution_count": 9,
   "metadata": {},
   "outputs": [
    {
     "data": {
      "image/png": "[encoded data removed]",
      "text/plain": [
       "<Figure size 432x288 with 2 Axes>"
      ]
     },
     "metadata": {
      "needs_background": "light"
     },
     "output_type": "display_data"
    }
   ],
   "source": [
    "h=plt.hist2d(primary_spts[:,0], primary_spts[:,1], cmap='viridis')\n",
    "cb=plt.colorbar()"
   ]
  },
  {
   "cell_type": "code",
   "execution_count": 10,
   "metadata": {},
   "outputs": [],
   "source": [
    "df=(df[(df.prim<=df.sec) &( df.sys >15.)]).reset_index(drop=True).applymap(float)"
   ]
  },
  {
   "cell_type": "code",
   "execution_count": 11,
   "metadata": {},
   "outputs": [],
   "source": [
    "#df['diff']=df.prim-df.sec"
   ]
  },
  {
   "cell_type": "code",
   "execution_count": 12,
   "metadata": {},
   "outputs": [],
   "source": [
    "#df=(df[df.new_prim>=df.new_sec]).reset_index(drop=True).applymap(float)"
   ]
  },
  {
   "cell_type": "code",
   "execution_count": 13,
   "metadata": {},
   "outputs": [],
   "source": [
    "df['diffr']=df['prim']-df['sec']"
   ]
  },
  {
   "cell_type": "code",
   "execution_count": 14,
   "metadata": {},
   "outputs": [],
   "source": [
    "kdspt=wisps.kernel_density(df['diffr'].values)"
   ]
  },
  {
   "cell_type": "code",
   "execution_count": 69,
   "metadata": {},
   "outputs": [],
   "source": [
    "acc=pd.DataFrame()"
   ]
  },
  {
   "cell_type": "code",
   "execution_count": 70,
   "metadata": {},
   "outputs": [],
   "source": [
    "acc['sys_number']=df.groupby('sys').apply(lambda x: len(x.sys))"
   ]
  },
  {
   "cell_type": "code",
   "execution_count": 71,
   "metadata": {},
   "outputs": [],
   "source": [
    "acc['prim_number']=df.groupby('prim').apply(lambda x: len(x.prim))"
   ]
  },
  {
   "cell_type": "code",
   "execution_count": 72,
   "metadata": {},
   "outputs": [],
   "source": [
    "acc['ratio']=acc.sys_number/acc.prim_number"
   ]
  },
  {
   "cell_type": "code",
   "execution_count": 77,
   "metadata": {},
   "outputs": [],
   "source": [
    "acc['sys_difference']=df.groupby('sys').apply(lambda x: np.nanmean(x.sys-x.prim))"
   ]
  },
  {
   "cell_type": "code",
   "execution_count": 78,
   "metadata": {},
   "outputs": [],
   "source": [
    "acc['sys_difference_std']=df.groupby('sys').apply(lambda x: np.nanstd(x.sys-x.prim))"
   ]
  },
  {
   "cell_type": "code",
   "execution_count": 79,
   "metadata": {},
   "outputs": [],
   "source": [
    "cmap=sns.diverging_palette(240, 10, n=9, as_cmap=True)"
   ]
  },
  {
   "cell_type": "code",
   "execution_count": 81,
   "metadata": {},
   "outputs": [
    {
     "data": {
      "image/png": "[encoded data removed]",
      "text/plain": [
       "<Figure size 864x288 with 3 Axes>"
      ]
     },
     "metadata": {
      "needs_background": "light"
     },
     "output_type": "display_data"
    }
   ],
   "source": [
    "fig, (ax, ax1)=plt.subplots(figsize=(12,4), ncols=2)\n",
    "df.plot.hexbin(x='prim', y='sec', C='sys', reduce_C_function=np.nanmedian, gridsize=15, cmap='coolwarm', ax=ax)\n",
    "ax.set_xlabel('Primary', fontsize=18)\n",
    "ax.set_ylabel('Secondary', fontsize=18)\n",
    "#fig.axes[-1].set_title('Composite', fontsize=18)\n",
    "#plt.tight_layout()\n",
    "\n",
    "\n",
    "\n",
    "#sns.kdeplot(df.prim, df.sys,  ax=ax1, shade=False)\n",
    "c=ax1.errorbar(acc.index, acc.sys_difference, yerr=acc.sys_difference_std)\n",
    "ax1.scatter(acc.index, acc.sys_difference, s=acc.ratio*100)\n",
    "#ax1.set_xlabel('Primary', fontsize=18)\n",
    "#ax1.set_ylabel('System', fontsize=18)\n",
    "\n",
    "\n",
    "fig.axes[-1].set_title('System', fontsize=18)\n",
    "\n",
    "ax1.minorticks_on()\n",
    "ax.minorticks_on()\n",
    "\n",
    "#ax1.plot(df.prim, df.prim, c='k')\n",
    "\n",
    "\n",
    "ax.set_xticks([15, 20, 25, 30, 35, 40])\n",
    "ax.set_xticklabels(['M5', 'L0', 'L5', 'T0', 'T5', 'Y0'])\n",
    "ax.set_yticks([15, 20, 25, 30, 35, 40])\n",
    "ax.set_yticklabels(['M5', 'L0', 'L5', 'T0', 'T5', 'Y0'])\n",
    "\n",
    "ax1.set_xticks([15, 20, 25, 30, 35, 40])\n",
    "ax1.set_xticklabels(['M5', 'L0', 'L5', 'T0', 'T5', 'Y0'])\n",
    "    \n",
    "#cbar=plt.colorbar(c)\n",
    "#ax.set_yticklabels(['M5', 'L0', 'L5', 'T0', 'T5', 'Y0'])\n",
    "    \n",
    "\n",
    "fig.axes[-1].set_yticks([15, 20, 25, 30, 35, 40])\n",
    "fig.axes[-1].set_yticklabels(['M5', 'L0', 'L5', 'T0', 'T5', 'Y0'])\n",
    "\n",
    "#fig.axes[-1].set_yticks([15, 20, 25, 30, 35, 40])\n",
    "#fig.axes[-1].set_yticklabels(['M5', 'L0', 'L5', 'T0', 'T5', 'Y0'])\n",
    "\n",
    "ax.set_xlim([15, 42])\n",
    "ax.set_ylim([15, 42])\n",
    "\n",
    "\n",
    "ax1.set_xlim([16, 42])\n",
    "\n",
    "ax1.set_xlabel('System', fontsize=18)\n",
    "ax1.set_ylabel(r' Mean (System-Primary) ', fontsize=18)\n",
    "#plt.tight_layout()\n",
    "\n",
    "plt.savefig(wisps.OUTPUT_FIGURES+'/composite_types.pdf', bbox_inches='tight')"
   ]
  },
  {
   "cell_type": "code",
   "execution_count": 23,
   "metadata": {},
   "outputs": [],
   "source": [
    "df.to_pickle(wisps.OUTPUT_FILES+'/binary_lookup_table.pkl')"
   ]
  },
  {
   "cell_type": "code",
   "execution_count": 24,
   "metadata": {},
   "outputs": [],
   "source": [
    " tpls=pd.read_pickle(wisps.OUTPUT_FILES+'/binary_spex.pkl')"
   ]
  },
  {
   "cell_type": "code",
   "execution_count": 25,
   "metadata": {},
   "outputs": [],
   "source": [
    "def combine_two_spectra(sp10, sp20):\n",
    "    \"\"\"\n",
    "    sp1 and sp2 are splat objects\n",
    "    \"\"\"\t\n",
    "\n",
    "    \n",
    "    sp1=sp10.splat_spectrum\n",
    "    sp2=sp20.splat_spectrum\n",
    "    \n",
    "    absj0=(wisps.absolute_magnitude_jh(wisps.make_spt_number(sp10.spectral_type[0]))[1]).flatten()[0]\n",
    "    absj1=(wisps.absolute_magnitude_jh(wisps.make_spt_number(sp20.spectral_type[0]))[1]).flatten()[0]\n",
    "\n",
    "\n",
    "\n",
    "    sp1.fluxCalibrate('2MASS H',  absj0)\n",
    "    sp2.fluxCalibrate('2MASS H',  absj1)\n",
    "    \n",
    "        \n",
    "    sp3=sp1+sp2\n",
    "    \n",
    "    plt.plot(sp3.wave, sp3.flux)\n",
    "    plt.plot(sp2.wave, sp2.flux)\n",
    "    plt.plot(sp1.wave, sp1.flux)\n",
    "    return {'primary': [sp10.spectral_type, sp20.spectral_type], \n",
    "    'spectrum': sp3}"
   ]
  },
  {
   "cell_type": "code",
   "execution_count": 26,
   "metadata": {},
   "outputs": [
    {
     "data": {
      "text/plain": [
       "{'primary': [array([21.,  0.]), array([20.,  1.])],\n",
       " 'spectrum': WFC3-G141 spectrum of  + }"
      ]
     },
     "execution_count": 26,
     "metadata": {},
     "output_type": "execute_result"
    },
    {
     "data": {
      "image/png": "[encoded data removed]",
      "text/plain": [
       "<Figure size 432x288 with 1 Axes>"
      ]
     },
     "metadata": {
      "needs_background": "light"
     },
     "output_type": "display_data"
    }
   ],
   "source": [
    "combine_two_spectra(tpls.spectra.iloc[0], tpls.spectra.iloc[30])"
   ]
  },
  {
   "cell_type": "code",
   "execution_count": null,
   "metadata": {},
   "outputs": [],
   "source": []
  }
 ],
 "metadata": {
  "kernelspec": {
   "display_name": "Python 3",
   "language": "python",
   "name": "python3"
  },
  "language_info": {
   "codemirror_mode": {
    "name": "ipython",
    "version": 3
   },
   "file_extension": ".py",
   "mimetype": "text/x-python",
   "name": "python",
   "nbconvert_exporter": "python",
   "pygments_lexer": "ipython3",
   "version": "3.7.6"
  }
 },
 "nbformat": 4,
 "nbformat_minor": 4
}
