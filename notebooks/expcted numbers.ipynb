{
 "cells": [
  {
   "cell_type": "code",
   "execution_count": 1,
   "metadata": {},
   "outputs": [
    {
     "name": "stdout",
     "output_type": "stream",
     "text": [
      "Adding 145 sources from /Users/caganze/research/splat//resources/Spectra/Public/LRIS-RED/ to spectral database\n",
      "Adding 89 sources from /Users/caganze/research/splat//resources/Spectra/Public/MAGE/ to spectral database\n",
      "Adding 2404 sources from /Users/caganze/research/splat//resources/Spectra/Public/SPEX-PRISM/ to spectral database\n",
      "\n",
      "Warning: spectrum object has a flux vector of zero length - maybe empty?\n",
      "\n",
      "Warning: normalize is attempting to divide by nan; ignoring\n",
      "\n",
      "Warning: spectrum object has a flux vector of zero length - maybe empty?\n",
      "\n",
      "Warning: normalize is attempting to divide by nan; ignoring\n",
      "\n",
      "Warning: spectrum object has a flux vector of zero length - maybe empty?\n",
      "\n",
      "Warning: normalize is attempting to divide by nan; ignoring\n",
      "\n",
      "Warning: spectrum object has a flux vector of zero length - maybe empty?\n",
      "\n",
      "Warning: normalize is attempting to divide by nan; ignoring\n",
      "\n",
      "Warning: spectrum object has a flux vector of zero length - maybe empty?\n",
      "\n",
      "Warning: normalize is attempting to divide by nan; ignoring\n"
     ]
    }
   ],
   "source": [
    "import wisps\n",
    "import numpy as np\n",
    "import matplotlib.pyplot as plt\n",
    "import wisps.simulations as wispsim\n",
    "import pandas as pd\n",
    "from tqdm import tqdm\n",
    "import seaborn as sns\n",
    "from matplotlib.colors import Normalize\n",
    "import astropy.units as u \n",
    "import wisps.simulations.effective_numbers as eff\n",
    "import seaborn as sns\n",
    "import matplotlib\n",
    "import itertools\n",
    "#plt.style.use('dark_background')\n",
    "\n",
    "\n",
    "%matplotlib inline"
   ]
  },
  {
   "cell_type": "code",
   "execution_count": 2,
   "metadata": {},
   "outputs": [],
   "source": [
    "sgrid=wispsim.SPGRID\n",
    "pnts=pd.read_pickle(wisps.OUTPUT_FILES+'/pointings_correctedf110.pkl')\n",
    "corr_pols=wisps.POLYNOMIAL_RELATIONS['mag_limit_corrections'] \n",
    "klf=pd.read_csv('/users/caganze/research/wisps/data/kirkpatricklf.txt', delimiter=',')\n",
    "klf['bin_center']=np.mean(np.array([klf.t0.values, klf.tf.values]), axis=0)\n",
    "klf=klf.replace(0.0,np.nan)\n",
    "\n",
    "cands=pd.read_pickle(wisps.LIBRARIES+'/real_ucds.pkl')\n",
    "cands=cands[(cands.spt >=17) & (cands.snr1>=3)].reset_index(drop=True)\n",
    "tab=wisps.Annotator.reformat_table(cands)\n",
    "pnt_names=[x.name for x in pnts]"
   ]
  },
  {
   "cell_type": "code",
   "execution_count": null,
   "metadata": {},
   "outputs": [],
   "source": []
  },
  {
   "cell_type": "code",
   "execution_count": 3,
   "metadata": {},
   "outputs": [],
   "source": [
    "#cmap= sns.color_palette(\"coolwarm\", 8, as_cmap=True)\n",
    "cmap=matplotlib.cm.get_cmap('coolwarm')\n",
    "cnorm=Normalize(wispsim.HS[0]/100, (wispsim.HS[-1])/100)"
   ]
  },
  {
   "cell_type": "code",
   "execution_count": 4,
   "metadata": {},
   "outputs": [],
   "source": [
    "kirkpatrick2020LF={'bin_center':np.flip(np.array([2025, 1875, 1725, 1575, 1425, 1275, 1125 , 975, 825, 675, 525])), \n",
    "                   'values':np.flip(np.array([0.72, 0.50,0.78, 0.81,0.94, 1.95, 1.11, 1.72, 1.99, 2.80, 4.24])), \n",
    "                   'unc':np.flip(([0.18, 0.17, 0.20,0.20, 0.22, 0.3, 0.25, 0.3, 0.32, 0.37, 0.70]))}\n"
   ]
  },
  {
   "cell_type": "code",
   "execution_count": 5,
   "metadata": {},
   "outputs": [],
   "source": [
    "def bin_by_spt_bin(sp_types, number, ltonly=False):\n",
    "    ranges=[[17, 20], [20, 25], [25, 30], [30, 35], [35, 40]]\n",
    "    if ltonly:\n",
    "        ranges=[[17, 20], [20, 30], [30, 41]]\n",
    "    numbers=[]\n",
    "    for r in ranges:\n",
    "        idx= np.logical_and((r[0]<=sp_types), (r[1]>sp_types))\n",
    "        numbers.append(np.nansum(number[idx]))\n",
    "    return numbers\n",
    "\n",
    "def get_all_numbers():\n",
    "    #Distribute the parameter sets evenly across the cores\n",
    "    func=lambda x, y:  get_simulated_number_model(y, x)\n",
    "\n",
    "    paramlist=[(i, j)  for i, j in itertools.product(['saumon2008', 'baraffe2003', 'marley2019', 'phillips2020'], wispsim.HS)]\n",
    "    res  = [func(x, y) for x,y in tqdm(paramlist)]\n",
    "    \n",
    "    nbrs = {}\n",
    "    for k in ['saumon2008', 'marley2019', 'phillips2020', 'baraffe2003']:\n",
    "        ds0={}\n",
    "        for j in res:\n",
    "            if k in j.keys():\n",
    "                key=[x for x in j[k].keys()][0]\n",
    "                ds0.update({key: [(j[k][key])[yi] for yi in wispsim.SPGRID]})\n",
    "        #print (ds0)\n",
    "        nbrs[k]=np.array([ds0[k] for k in wispsim.HS])\n",
    "\n",
    "    return nbrs\n",
    "    \n",
    "\n",
    "\n",
    "def get_pointing(grism_id):\n",
    "    if grism_id.startswith('par'):\n",
    "        pntname=grism_id.lower().split('-')[0]\n",
    "    else:\n",
    "        pntname=grism_id.lower().split('-g141')[0]\n",
    "    loc=pnt_names.index(pntname)\n",
    "    return np.array(pnts)[loc]\n",
    "\n",
    "\n",
    "def iswithin_mag_limits(mags, pnt, spt):\n",
    "    #mgs is a dictionary\n",
    "    flags=[]\n",
    "    for k in pnt.mag_limits.keys():\n",
    "        if k =='F110' and pnt.survey =='hst3d':\n",
    "            flags.append(True)\n",
    "        else:\n",
    "            flags.append(mags[k] <= pnt.mag_limits[k]+ (corr_pols[k+'W'][0])(spt))\n",
    "    return np.logical_or.reduce(flags)\n",
    "\n",
    "def scale_lf_teff(teffs):\n",
    "    binedges= np.append(kirkpatrick2020LF['bin_center']-75, kirkpatrick2020LF['bin_center'][-1]-75)\n",
    "    bools=np.logical_and(teffs <= binedges[-1], teffs >= binedges[0])\n",
    "    preds=np.histogram(teffs, bins=binedges, normed=False)[0]\n",
    "    \n",
    "    obs=np.array(kirkpatrick2020LF['values'])\n",
    "    unc=np.array(kirkpatrick2020LF['unc'])\n",
    "    \n",
    "    obs_monte_carlo= np.random.normal(obs, unc, (10000, len(obs)))\n",
    "    pred_monte= np.ones_like(obs_monte_carlo)*(preds)\n",
    "    unc_monte=  np.ones_like(obs_monte_carlo)*(unc)\n",
    "    \n",
    "    \n",
    "    \n",
    "    #unc_monte= \n",
    "    scale=(np.nansum((obs_monte_carlo*pred_monte)/(unc_monte**2), axis=1)\\\n",
    "           /np.nansum(((pred_monte**2)/(unc_monte**2)), axis=1))*(10**-3)\n",
    "    \n",
    "    \n",
    "    \n",
    "    #fig, ax=plt.subplots()\n",
    "    #ax.step(kirkpatrick2020LF['bin_centertw'], preds*scale*(10**-3), where='mid')\n",
    "    #x.errorbar(kirkpatrick2020LF['bin_center'], np.array(kirkpatrick2020LF['values'])*(10**-3),\n",
    "    #         yerr= np.array(kirkpatrick2020LF['unc'])*(10**-3), fmt='o', color='#111111')\n",
    "    return [np.nanmedian(scale), np.nanstd(scale), len(teffs)]\n",
    "def get_simulated_number_model(hidx, model):\n",
    "    #hidx is a scale height, model is evolutionary model\n",
    "    cutdf=pd.read_hdf(wisps.OUTPUT_FILES+'/final_simulated_sample_cut.h5', key=str(model)+str('h')+str(hidx)+'F110_corrected')\n",
    "    scl_dict=pd.read_pickle(wisps.OUTPUT_FILES+'/lf_scales.pkl') \n",
    "    scale=scl_dict[model]\n",
    "    #scale=scale_lf_teff(cutdf.teff)\n",
    "    NSIM=dict(zip(wispsim.SPGRID,np.zeros((len(wispsim.SPGRID), 2))))\n",
    "    cutdf['spt_r']=cutdf.spt.apply(np.round)\n",
    "    for g in cutdf.groupby('spt_r'):\n",
    "        sn= len(cutdf.teff[np.logical_and(cutdf.teff>=450, cutdf.teff<=1950)])\n",
    "        n0=scale[-1]/scale[0]\n",
    "        #print (n0)\n",
    "        scln=np.array([scale[0]*n0/sn,\\\n",
    "                       (scale[1]*scale[-1])/(sn*scale[0])])\n",
    "        #scln=np.array(scale)\n",
    "        #assert scln[0] > scale[0]\n",
    "        NSIM[g[0]]=np.nansum(g[1].sl)*scln\n",
    "    del cutdf\n",
    "    return {model: {hidx:NSIM}}\n",
    "\n",
    "\n",
    "def plot(NUMBERS, VOLUMES, filename='/oberved_numbers.pdf'):\n",
    "    # In[ ]:\n",
    "    nall=wisps.custom_histogram(cands.spt.apply(wisps.make_spt_number), sgrid, 1)\n",
    "    \n",
    "    y2=bin_by_spt_bin(wispsim.SPGRID,nobs, ltonly=False)\n",
    "    yall=bin_by_spt_bin(wispsim.SPGRID,nall, ltonly=False)\n",
    "    \n",
    "    dy2=np.sqrt(y2)\n",
    "    dyall=np.sqrt(yall)\n",
    "\n",
    "    fig, ax=plt.subplots(figsize=(12, 12), ncols=2, nrows=2, sharey=False, sharex=False)\n",
    "    \n",
    "    for model, a in zip(['baraffe2003', 'saumon2008', 'marley2019', 'phillips2020'], np.concatenate(ax)):\n",
    "        \n",
    "        for idx, h in enumerate(wispsim.HS):\n",
    "            \n",
    "            ns=None\n",
    "            ns=((NUMBERS[model])[idx])[:,0]*VOLUMES[idx]\n",
    "            nuncs=((NUMBERS[model])[idx])[:,1]*VOLUMES[idx]\n",
    "            \n",
    "            a.plot(spgrid2, bin_by_spt_bin(wispsim.SPGRID,ns, ltonly=False), \n",
    "                          label='h={} pc'.format(h), color= cmap(cnorm(h/100)), \n",
    "                   linewidth=3, drawstyle=\"steps-mid\")\n",
    "            a.fill_between(spgrid2, bin_by_spt_bin(wispsim.SPGRID,ns+nuncs, ltonly=False),  \n",
    "                           bin_by_spt_bin(wispsim.SPGRID,ns-nuncs, ltonly=False), alpha=0.5, \n",
    "                           color= cmap(cnorm(h/100)),  step=\"mid\")\n",
    "        \n",
    "        a.set_yscale('log')\n",
    "        a.errorbar(spgrid2,y2, yerr=dy2,fmt='o', color='#111111')\n",
    "        a.errorbar(spgrid2,yall, yerr=dyall,color='#B10DC9', mfc='white', fmt='o')\n",
    "        a.set_xlabel('SpT',fontsize=18)\n",
    "        a.set_ylabel('N',fontsize=18)\n",
    "        a.minorticks_on()\n",
    "            \n",
    "\n",
    "\n",
    "    ax[0][1].set_title('Model= SM08', fontsize=18)\n",
    "    ax[0][0].set_title('Model= B03', fontsize=18)\n",
    "    ax[1][0].set_title('Model= M19', fontsize=18)\n",
    "    ax[1][1].set_title('Model= P20', fontsize=18)\n",
    "\n",
    "    ax[0][-1].errorbar(spgrid2,y2, yerr=dy2,fmt='o', label='Mag Limited', color='#111111')\n",
    "    ax[0][-1].errorbar(spgrid2,yall, yerr=dyall,color='#B10DC9', fmt='o', mfc='white', label='All Observations')\n",
    "    \n",
    "    ax[0][-1].legend(fontsize=14,  bbox_to_anchor=(1.05, 1), loc='upper left')\n",
    "    plt.tight_layout()\n",
    "    plt.savefig(wisps.OUTPUT_FIGURES+filename, bbox_inches='tight')"
   ]
  },
  {
   "cell_type": "code",
   "execution_count": 6,
   "metadata": {},
   "outputs": [],
   "source": [
    "def plot_one(NUMBERS, VOLUMES, filename='/oberved_numbers_one_panel.pdf'):\n",
    "    data_to_save={}\n",
    "    # In[ ]:\n",
    "    nall=wisps.custom_histogram(cands.spt.apply(wisps.make_spt_number), sgrid, 1)\n",
    "    \n",
    "    y2=bin_by_spt_bin(wispsim.SPGRID,nobs, ltonly=False)\n",
    "    yall=bin_by_spt_bin(wispsim.SPGRID,nall, ltonly=False)\n",
    "    \n",
    "    dy2=np.sqrt(y2)\n",
    "    dyall=np.sqrt(yall)\n",
    "     #add this to the dictionary\n",
    "    data_to_save['nall']=nall\n",
    "    data_to_save['nobs']=nobs\n",
    "    data_to_save['yall']=yall\n",
    "    data_to_save['y2']=y2\n",
    "\n",
    "    fig, a=plt.subplots(figsize=(8, 6))\n",
    "    \n",
    "    #for model, a in zip(['baraffe2003', 'saumon2008', 'marley2019', 'phillips2020'], np.concatenate(ax)):\n",
    "    model='baraffe2003'\n",
    "    for idx, h in enumerate(wispsim.HS):\n",
    "            \n",
    "            ns=None\n",
    "            ns=((NUMBERS[model])[idx])[:,0]*VOLUMES[idx]\n",
    "            nuncs=((NUMBERS[model])[idx])[:,1]*VOLUMES[idx]\n",
    "            \n",
    "            a.plot(spgrid2, bin_by_spt_bin(wispsim.SPGRID,ns, ltonly=False), \n",
    "                          label='h={} pc'.format(h), color= cmap(cnorm(h/100)), \n",
    "                   linewidth=3, drawstyle=\"steps-mid\")\n",
    "            a.fill_between(spgrid2, bin_by_spt_bin(wispsim.SPGRID,ns+nuncs, ltonly=False),  \n",
    "                           bin_by_spt_bin(wispsim.SPGRID,ns-nuncs, ltonly=False), alpha=0.5, \n",
    "                           color= cmap(cnorm(h/100)),  step=\"mid\")\n",
    "            data_to_save.update({h: bin_by_spt_bin(wispsim.SPGRID,ns, ltonly=False)})\n",
    "        \n",
    "    a.set_yscale('log')\n",
    "    a.errorbar(spgrid2,y2, yerr=dy2,fmt='o', color='#111111')\n",
    "    a.errorbar(spgrid2,yall, yerr=dyall,color='#B10DC9', mfc='white', fmt='o')\n",
    "    a.set_xlabel('SpT',fontsize=18)\n",
    "    a.set_ylabel('N',fontsize=18)\n",
    "    a.minorticks_on()\n",
    "            \n",
    "\n",
    "    #a.set_title('Model= SM08', fontsize=18)\n",
    "    a.set_title('Model= B03', fontsize=18)\n",
    "    #a.set_title('Model= M19', fontsize=18)\n",
    "    #a.set_title('Model= P20', fontsize=18)\n",
    "\n",
    "    a.errorbar(spgrid2,y2, yerr=dy2,fmt='o', label='Mag Limited', color='#111111')\n",
    "    a.errorbar(spgrid2,yall, yerr=dyall,color='#B10DC9', fmt='o', mfc='white', label='All Observations')\n",
    "    \n",
    "    a.legend(fontsize=14,  bbox_to_anchor=(1.05, 1), loc='upper left')\n",
    "    plt.tight_layout()\n",
    "    plt.savefig(wisps.OUTPUT_FIGURES+filename, bbox_inches='tight',  facecolor='white', transparent=False)\n",
    "    \n",
    "    import pickle\n",
    "    with open('/users/caganze/results.pkl', 'wb') as file:\n",
    "        pickle.dump(data_to_save,file)"
   ]
  },
  {
   "cell_type": "code",
   "execution_count": 7,
   "metadata": {},
   "outputs": [],
   "source": [
    "#d=pd.read_pickle(wisps.OUTPUT_FILES+'/distance_samples{}'.format(h))"
   ]
  },
  {
   "cell_type": "code",
   "execution_count": 8,
   "metadata": {},
   "outputs": [],
   "source": [
    "#np.shape(d[17])"
   ]
  },
  {
   "cell_type": "code",
   "execution_count": 9,
   "metadata": {},
   "outputs": [],
   "source": [
    "tab['pnt']=tab['grism_id'].apply(get_pointing)\n",
    "tab['spt_val']=np.vstack(tab.spt.values)[:,0]\n",
    "obsmgs=tab[['F140W', 'F110W', 'F160W']].rename(columns={\"F110W\": \"F110\", \n",
    "                                                                    \"F140W\": \"F140\",\n",
    "                                                                    \"F160W\": \"F160\"}).to_dict('records')\n",
    "\n",
    "flags=[iswithin_mag_limits(x, y, z) for x, y, z in zip(obsmgs, tab.pnt.values,tab.spt.values )]\n",
    "\n",
    "#let's see what happens if we include all objects\n",
    "#flags=np.ones(len(flags)).astype(bool)\n",
    "cdf_to_use=tab[flags]\n",
    "\n",
    "nobs=wisps.custom_histogram(cdf_to_use.spt_val.apply(wisps.make_spt_number), sgrid, 1)\n",
    "\n",
    "spgrid2=['M7-L0', 'L0-L5', 'L5-T0', 'T0-T5', 'T5-Y0']\n",
    "spgrid3=['Late M', 'L', 'T']"
   ]
  },
  {
   "cell_type": "code",
   "execution_count": 10,
   "metadata": {},
   "outputs": [],
   "source": [
    "for k in ['F140', 'F110', 'F160']:\n",
    "    tab['lim_{}'.format(k)]=tab.pnt.apply(lambda x: x.mag_limits[k])\n",
    "    tab['detected_{}'.format(k)]= tab[k+'W'] < tab['lim_{}'.format(k)]"
   ]
  },
  {
   "cell_type": "code",
   "execution_count": 11,
   "metadata": {},
   "outputs": [],
   "source": [
    "subtab=(tab[tab.spt.between(30, 35)]).reset_index(drop=True)"
   ]
  },
  {
   "cell_type": "code",
   "execution_count": 12,
   "metadata": {},
   "outputs": [],
   "source": [
    "#with pd.option_context('display.max_rows', None, 'display.max_columns', None):  # more options can be specified also\n",
    "#    print( subtab[['F140W', 'F160W', 'lim_F140', 'lim_F160', 'detected_F140', 'detected_F160', 'grism_id',\n",
    "#                  'spt']])"
   ]
  },
  {
   "cell_type": "code",
   "execution_count": 13,
   "metadata": {},
   "outputs": [
    {
     "name": "stderr",
     "output_type": "stream",
     "text": [
      "100%|██████████| 44/44 [01:58<00:00,  2.70s/it]\n"
     ]
    }
   ],
   "source": [
    "#NUMBERS=pd.read_pickle(wisps.OUTPUT_FILES+'/numbers_simulated.pkl')\n",
    "NUMBERS=get_all_numbers()"
   ]
  },
  {
   "cell_type": "code",
   "execution_count": 14,
   "metadata": {},
   "outputs": [],
   "source": [
    "#plt.hist(np.log10(NUMBERS['baraffe2003'][0][:,1]))"
   ]
  },
  {
   "cell_type": "code",
   "execution_count": 15,
   "metadata": {},
   "outputs": [],
   "source": [
    "volumes=[]\n",
    "for pnt in pnts:\n",
    "    vs=[]\n",
    "    for h in wispsim.HS:\n",
    "        vsx=[]\n",
    "        for g in wispsim.SPGRID:\n",
    "            vsx.append((pnt.volumes[h])[g])\n",
    "        vs.append(vsx)\n",
    "    volumes.append(vs)\n",
    "volumes=np.array(volumes)\n",
    "\n",
    "VOLUMES=(np.nansum(volumes, axis=0))*4.1*(u.arcmin**2).to(u.radian**2)"
   ]
  },
  {
   "cell_type": "code",
   "execution_count": 16,
   "metadata": {
    "scrolled": true
   },
   "outputs": [
    {
     "name": "stderr",
     "output_type": "stream",
     "text": [
      "findfont: Font family ['serif'] not found. Falling back to DejaVu Sans.\n"
     ]
    },
    {
     "data": {
      "image/png": "[encoded data removed]",
      "text/plain": [
       "<Figure size 864x864 with 4 Axes>"
      ]
     },
     "metadata": {
      "needs_background": "light"
     },
     "output_type": "display_data"
    }
   ],
   "source": [
    " plot(NUMBERS, VOLUMES, filename='/obs_numbers.pdf')"
   ]
  },
  {
   "cell_type": "code",
   "execution_count": 17,
   "metadata": {},
   "outputs": [
    {
     "data": {
      "image/png": "[encoded data removed]",
      "text/plain": [
       "<Figure size 576x432 with 1 Axes>"
      ]
     },
     "metadata": {
      "needs_background": "light"
     },
     "output_type": "display_data"
    }
   ],
   "source": [
    "plot_one(NUMBERS, VOLUMES)"
   ]
  },
  {
   "cell_type": "code",
   "execution_count": 18,
   "metadata": {},
   "outputs": [],
   "source": [
    "nall=wisps.custom_histogram(cands.spt.apply(wisps.make_spt_number), sgrid, 1)\n",
    "y2=bin_by_spt_bin(wispsim.SPGRID,nobs, ltonly=False)"
   ]
  },
  {
   "cell_type": "code",
   "execution_count": 19,
   "metadata": {},
   "outputs": [],
   "source": [
    "#cands[cands.spt.between(30, 35)].F140W,cands[cands.spt.between(30, 35)].F160W, "
   ]
  },
  {
   "cell_type": "code",
   "execution_count": null,
   "metadata": {},
   "outputs": [],
   "source": []
  },
  {
   "cell_type": "code",
   "execution_count": 20,
   "metadata": {},
   "outputs": [],
   "source": [
    "#bin_by_spt_bin(wispsim.SPGRID,nall, ltonly=False)"
   ]
  },
  {
   "cell_type": "code",
   "execution_count": 21,
   "metadata": {},
   "outputs": [
    {
     "name": "stdout",
     "output_type": "stream",
     "text": [
      "all ----- [190, 22, 8, 7, 3]\n",
      "used ----- [116, 14, 4, 2, 2]\n",
      "MLT ----[116, 18, 4]\n",
      "All ----138\n"
     ]
    }
   ],
   "source": [
    "#just for L dwarfs and T dwarfs\n",
    "y3=bin_by_spt_bin(wispsim.SPGRID,nall, ltonly=False)\n",
    "y4=bin_by_spt_bin(wispsim.SPGRID,nobs, ltonly=True)\n",
    "y5= np.nansum(y4)\n",
    "print ('all ----- {}'.format(y3))\n",
    "print ('used ----- {}'.format(y2))\n",
    "print ('MLT ----{}'.format(y4))\n",
    "print ('All ----{}'.format(y5))\n"
   ]
  },
  {
   "cell_type": "code",
   "execution_count": 22,
   "metadata": {},
   "outputs": [],
   "source": [
    "#PRINT THE BEST FIT NUMBER \n",
    "#best_fit={}\n",
    "numbers_fit={} #predictions for all\n",
    "numbers_fit_lt={} #predictions for M, L, T\n",
    "#numbers_fit_total={} #predictions for total number counts\n",
    "for model in ['saumon2008', 'baraffe2003', 'marley2019', 'phillips2020']:\n",
    "        model_number_lt={}\n",
    "        model_number={}\n",
    "        for idx, h in enumerate(wispsim.HS):\n",
    "            \n",
    "            ns=None\n",
    "            ns=((NUMBERS[model])[idx])[:,0]*VOLUMES[idx]\n",
    "            nuncs=((NUMBERS[model])[idx])[:,1]*VOLUMES[idx]\n",
    "            \n",
    "            binned=np.array(bin_by_spt_bin(wispsim.SPGRID,ns, ltonly=False))\n",
    "            binned_lt= np.array(bin_by_spt_bin(wispsim.SPGRID,ns, ltonly=True))\n",
    "            #binned_unc=np.array(bin_by_spt_bin(wispsim.SPGRID,nuncs, ltonly=False))\n",
    "            #add L and \n",
    "            #compute chi-squared\n",
    "            #print (ns)\n",
    "            #chisq= abs((y2-binned)**2/(y2))\n",
    "            #model_fit.update({h: chisq})\n",
    "            #binned_total=np.append(binned, binned_lt)\n",
    "            #binned_total=np.append(binned, binned_lt)\n",
    "            model_number.update({h: binned})\n",
    "            model_number_lt.update({h: binned_lt})\n",
    "        # best_fit.update({model: model_fit})\n",
    "        numbers_fit.update({model: model_number})\n",
    "        numbers_fit_lt.update({model:  model_number_lt})"
   ]
  },
  {
   "cell_type": "code",
   "execution_count": 23,
   "metadata": {},
   "outputs": [],
   "source": [
    "#chisq_dicts=pd.DataFrame.from_records(best_fit)\n",
    "pred_number_dicts=pd.DataFrame.from_records(numbers_fit)\n",
    "pred_number_lt_dicts=pd.DataFrame.from_records(numbers_fit_lt)"
   ]
  },
  {
   "cell_type": "code",
   "execution_count": 24,
   "metadata": {},
   "outputs": [],
   "source": [
    "from scipy.interpolate import interp1d"
   ]
  },
  {
   "cell_type": "code",
   "execution_count": null,
   "metadata": {},
   "outputs": [],
   "source": []
  },
  {
   "cell_type": "code",
   "execution_count": 25,
   "metadata": {},
   "outputs": [],
   "source": [
    "def get_poisson_predictions(spt_grid, obstns, predns):\n",
    "    res={}\n",
    "    for c in  predns.columns:\n",
    "        min_vals={}\n",
    "        dist={}\n",
    "        #for idx,s  in enumerate(np.append(spgrid2, ['L dwarfs', 'T dwarfs'])):\n",
    "        for idx,s  in enumerate(spt_grid):\n",
    "            #compare between subtypes\n",
    "            #predicted\n",
    "            predvals=(np.vstack(predns[c].values))[:,idx]\n",
    "            #observed\n",
    "            nreal=  obstns[idx]\n",
    "            #make an interpolation function\n",
    "            interpf = interp1d(predvals, wispsim.HS)\n",
    "            #using a 2nd degree polynomial \n",
    "\n",
    "            #draw a bunch of random values based on a poisson distribution\n",
    "            npoisson=np.random.poisson(nreal, 100000).astype(float)\n",
    "            #stay within the range of possible values to avoid interpolation error\n",
    "            #i.e take this as a prior\n",
    "            #dflag=npoisson>=vals.min()\n",
    "            #uflag= npoisson <=vals.max()\n",
    "            #npoisson[dflag]= vals.min()\n",
    "            #npoisson[uflag]= vals.max()\n",
    "            npoisson=npoisson[np.logical_and(npoisson>=predvals.min(), npoisson <=predvals.max())]\n",
    "            #predict scale heights\n",
    "            predhs=interpf(npoisson)\n",
    "            #use a weighted mean and std \n",
    "            #mean, unc= (np.nanmean(predhs), np.nanstd(predhs))\n",
    "\n",
    "            #print (' scale height for model {} and spt {} is {} +/- {} '.format(c, s, np.round(mean), np.round(unc, 4)))\n",
    "            dist.update({s:predhs})\n",
    "        #min_chi_ssqrs.update({c:min_vals})\n",
    "        res.update({c: dist})\n",
    "    return  res"
   ]
  },
  {
   "cell_type": "code",
   "execution_count": 26,
   "metadata": {},
   "outputs": [],
   "source": [
    "#number_dicts"
   ]
  },
  {
   "cell_type": "code",
   "execution_count": 27,
   "metadata": {},
   "outputs": [],
   "source": [
    "#min_chi_ssqrs={}\n"
   ]
  },
  {
   "cell_type": "code",
   "execution_count": 28,
   "metadata": {},
   "outputs": [],
   "source": [
    "def compute_vdispersion(hs):\n",
    "    return np.sqrt((np.array(hs)*68)/435*20)\n",
    "def compute_age(sigmas):\n",
    "    beta, tau1, sigma10= 0.385, 0.261, 57.15747\n",
    "    return ((sigmas/sigma10)**(1/beta))*(10+tau1)-tau1\n",
    "scale_height_dist=get_poisson_predictions(spgrid2, y2,pred_number_dicts)\n",
    "scale_height_dist_df=pd.DataFrame(scale_height_dist)\n",
    "vel_df=scale_height_dist_df.applymap(compute_vdispersion)\n",
    "age_distdf=vals=vel_df.applymap(compute_age)"
   ]
  },
  {
   "cell_type": "code",
   "execution_count": 29,
   "metadata": {},
   "outputs": [],
   "source": [
    "scalh_tables=scale_height_dist_df.applymap(lambda x: (np.nanmedian(x), np.nanstd(x)))\n",
    "vel_tables=vel_df.applymap(lambda x: (np.nanmedian(x), np.nanstd(x)))\n",
    "age_tables=age_distdf.applymap(lambda x: (np.nanmedian(x), np.nanstd(x)))"
   ]
  },
  {
   "cell_type": "code",
   "execution_count": 30,
   "metadata": {},
   "outputs": [
    {
     "data": {
      "text/html": [
       "<div>\n",
       "<style scoped>\n",
       "    .dataframe tbody tr th:only-of-type {\n",
       "        vertical-align: middle;\n",
       "    }\n",
       "\n",
       "    .dataframe tbody tr th {\n",
       "        vertical-align: top;\n",
       "    }\n",
       "\n",
       "    .dataframe thead th {\n",
       "        text-align: right;\n",
       "    }\n",
       "</style>\n",
       "<table border=\"1\" class=\"dataframe\">\n",
       "  <thead>\n",
       "    <tr style=\"text-align: right;\">\n",
       "      <th></th>\n",
       "      <th>baraffe2003</th>\n",
       "      <th>saumon2008</th>\n",
       "      <th>marley2019</th>\n",
       "      <th>phillips2020</th>\n",
       "    </tr>\n",
       "  </thead>\n",
       "  <tbody>\n",
       "    <tr>\n",
       "      <th>M7-L0</th>\n",
       "      <td>(589.3659115300958, 62.66770766871768)</td>\n",
       "      <td>(nan, nan)</td>\n",
       "      <td>(nan, nan)</td>\n",
       "      <td>(nan, nan)</td>\n",
       "    </tr>\n",
       "    <tr>\n",
       "      <th>L0-L5</th>\n",
       "      <td>(212.00551856642923, 33.08166654409101)</td>\n",
       "      <td>(226.29502684660523, 41.13077293520512)</td>\n",
       "      <td>(228.73403782744447, 48.12808150819764)</td>\n",
       "      <td>(403.7085080735485, 145.20434766173707)</td>\n",
       "    </tr>\n",
       "    <tr>\n",
       "      <th>L5-T0</th>\n",
       "      <td>(332.31419772849426, 189.05332962117166)</td>\n",
       "      <td>(237.1684507835403, 160.596804883354)</td>\n",
       "      <td>(328.54491916529446, 202.92816329180764)</td>\n",
       "      <td>(344.71463909413455, 207.4638654239263)</td>\n",
       "    </tr>\n",
       "    <tr>\n",
       "      <th>T0-T5</th>\n",
       "      <td>(297.1949880688928, 159.21501226544498)</td>\n",
       "      <td>(248.5044835958861, 150.03750924358243)</td>\n",
       "      <td>(304.6822560503771, 192.79937201532923)</td>\n",
       "      <td>(281.5174971301301, 152.83198020173734)</td>\n",
       "    </tr>\n",
       "    <tr>\n",
       "      <th>T5-Y0</th>\n",
       "      <td>(305.57762512594536, 0.0)</td>\n",
       "      <td>(428.8454963404471, 1.1368683772161603e-13)</td>\n",
       "      <td>(302.7707942857672, 341.11291388009465)</td>\n",
       "      <td>(281.3580820236116, 297.0002427278547)</td>\n",
       "    </tr>\n",
       "  </tbody>\n",
       "</table>\n",
       "</div>"
      ],
      "text/plain": [
       "                                    baraffe2003  \\\n",
       "M7-L0    (589.3659115300958, 62.66770766871768)   \n",
       "L0-L5   (212.00551856642923, 33.08166654409101)   \n",
       "L5-T0  (332.31419772849426, 189.05332962117166)   \n",
       "T0-T5   (297.1949880688928, 159.21501226544498)   \n",
       "T5-Y0                 (305.57762512594536, 0.0)   \n",
       "\n",
       "                                        saumon2008  \\\n",
       "M7-L0                                   (nan, nan)   \n",
       "L0-L5      (226.29502684660523, 41.13077293520512)   \n",
       "L5-T0        (237.1684507835403, 160.596804883354)   \n",
       "T0-T5      (248.5044835958861, 150.03750924358243)   \n",
       "T5-Y0  (428.8454963404471, 1.1368683772161603e-13)   \n",
       "\n",
       "                                     marley2019  \\\n",
       "M7-L0                                (nan, nan)   \n",
       "L0-L5   (228.73403782744447, 48.12808150819764)   \n",
       "L5-T0  (328.54491916529446, 202.92816329180764)   \n",
       "T0-T5   (304.6822560503771, 192.79937201532923)   \n",
       "T5-Y0   (302.7707942857672, 341.11291388009465)   \n",
       "\n",
       "                                  phillips2020  \n",
       "M7-L0                               (nan, nan)  \n",
       "L0-L5  (403.7085080735485, 145.20434766173707)  \n",
       "L5-T0  (344.71463909413455, 207.4638654239263)  \n",
       "T0-T5  (281.5174971301301, 152.83198020173734)  \n",
       "T5-Y0   (281.3580820236116, 297.0002427278547)  "
      ]
     },
     "execution_count": 30,
     "metadata": {},
     "output_type": "execute_result"
    }
   ],
   "source": [
    "scalh_tables[['baraffe2003', 'saumon2008', 'marley2019', 'phillips2020']]"
   ]
  },
  {
   "cell_type": "code",
   "execution_count": 31,
   "metadata": {},
   "outputs": [
    {
     "data": {
      "text/plain": [
       "1.0017491235250744"
      ]
     },
     "execution_count": 31,
     "metadata": {},
     "output_type": "execute_result"
    }
   ],
   "source": [
    "import numpy as np\n",
    "np.exp(-1/588)/np.exp(-1/290)"
   ]
  },
  {
   "cell_type": "code",
   "execution_count": null,
   "metadata": {},
   "outputs": [],
   "source": []
  },
  {
   "cell_type": "code",
   "execution_count": 32,
   "metadata": {},
   "outputs": [
    {
     "data": {
      "text/html": [
       "<div>\n",
       "<style scoped>\n",
       "    .dataframe tbody tr th:only-of-type {\n",
       "        vertical-align: middle;\n",
       "    }\n",
       "\n",
       "    .dataframe tbody tr th {\n",
       "        vertical-align: top;\n",
       "    }\n",
       "\n",
       "    .dataframe thead th {\n",
       "        text-align: right;\n",
       "    }\n",
       "</style>\n",
       "<table border=\"1\" class=\"dataframe\">\n",
       "  <thead>\n",
       "    <tr style=\"text-align: right;\">\n",
       "      <th></th>\n",
       "      <th>baraffe2003</th>\n",
       "      <th>saumon2008</th>\n",
       "      <th>marley2019</th>\n",
       "      <th>phillips2020</th>\n",
       "    </tr>\n",
       "  </thead>\n",
       "  <tbody>\n",
       "    <tr>\n",
       "      <th>M7-L0</th>\n",
       "      <td>(42.92569467852935, 2.2725120583634455)</td>\n",
       "      <td>(nan, nan)</td>\n",
       "      <td>(nan, nan)</td>\n",
       "      <td>(nan, nan)</td>\n",
       "    </tr>\n",
       "    <tr>\n",
       "      <th>L0-L5</th>\n",
       "      <td>(25.745326782742833, 1.955873866513523)</td>\n",
       "      <td>(26.598817556960437, 2.4249721442256305)</td>\n",
       "      <td>(26.741774605843034, 2.788809098530233)</td>\n",
       "      <td>(35.52701969895188, 5.990955818681485)</td>\n",
       "    </tr>\n",
       "    <tr>\n",
       "      <th>L5-T0</th>\n",
       "      <td>(32.23289206430778, 8.281663033763694)</td>\n",
       "      <td>(27.230353798049165, 7.092469709617406)</td>\n",
       "      <td>(32.04956972705244, 8.795144137837264)</td>\n",
       "      <td>(32.82877589589721, 8.936890423466192)</td>\n",
       "    </tr>\n",
       "    <tr>\n",
       "      <th>T0-T5</th>\n",
       "      <td>(30.48214792314499, 7.056475282113816)</td>\n",
       "      <td>(27.873527905684583, 6.862220863539852)</td>\n",
       "      <td>(30.863729716603757, 8.108532757140072)</td>\n",
       "      <td>(29.667265760332548, 7.117881244722725)</td>\n",
       "    </tr>\n",
       "    <tr>\n",
       "      <th>T5-Y0</th>\n",
       "      <td>(30.909046035595175, 3.552713678800501e-15)</td>\n",
       "      <td>(36.616367015123515, 7.105427357601002e-15)</td>\n",
       "      <td>(30.76676368505556, 12.309164996883979)</td>\n",
       "      <td>(29.658864719365713, 11.275088724164403)</td>\n",
       "    </tr>\n",
       "  </tbody>\n",
       "</table>\n",
       "</div>"
      ],
      "text/plain": [
       "                                       baraffe2003  \\\n",
       "M7-L0      (42.92569467852935, 2.2725120583634455)   \n",
       "L0-L5      (25.745326782742833, 1.955873866513523)   \n",
       "L5-T0       (32.23289206430778, 8.281663033763694)   \n",
       "T0-T5       (30.48214792314499, 7.056475282113816)   \n",
       "T5-Y0  (30.909046035595175, 3.552713678800501e-15)   \n",
       "\n",
       "                                        saumon2008  \\\n",
       "M7-L0                                   (nan, nan)   \n",
       "L0-L5     (26.598817556960437, 2.4249721442256305)   \n",
       "L5-T0      (27.230353798049165, 7.092469709617406)   \n",
       "T0-T5      (27.873527905684583, 6.862220863539852)   \n",
       "T5-Y0  (36.616367015123515, 7.105427357601002e-15)   \n",
       "\n",
       "                                    marley2019  \\\n",
       "M7-L0                               (nan, nan)   \n",
       "L0-L5  (26.741774605843034, 2.788809098530233)   \n",
       "L5-T0   (32.04956972705244, 8.795144137837264)   \n",
       "T0-T5  (30.863729716603757, 8.108532757140072)   \n",
       "T5-Y0  (30.76676368505556, 12.309164996883979)   \n",
       "\n",
       "                                   phillips2020  \n",
       "M7-L0                                (nan, nan)  \n",
       "L0-L5    (35.52701969895188, 5.990955818681485)  \n",
       "L5-T0    (32.82877589589721, 8.936890423466192)  \n",
       "T0-T5   (29.667265760332548, 7.117881244722725)  \n",
       "T5-Y0  (29.658864719365713, 11.275088724164403)  "
      ]
     },
     "execution_count": 32,
     "metadata": {},
     "output_type": "execute_result"
    }
   ],
   "source": [
    "vel_tables[['baraffe2003', 'saumon2008', 'marley2019', 'phillips2020']]"
   ]
  },
  {
   "cell_type": "code",
   "execution_count": 33,
   "metadata": {},
   "outputs": [
    {
     "data": {
      "text/html": [
       "<div>\n",
       "<style scoped>\n",
       "    .dataframe tbody tr th:only-of-type {\n",
       "        vertical-align: middle;\n",
       "    }\n",
       "\n",
       "    .dataframe tbody tr th {\n",
       "        vertical-align: top;\n",
       "    }\n",
       "\n",
       "    .dataframe thead th {\n",
       "        text-align: right;\n",
       "    }\n",
       "</style>\n",
       "<table border=\"1\" class=\"dataframe\">\n",
       "  <thead>\n",
       "    <tr style=\"text-align: right;\">\n",
       "      <th></th>\n",
       "      <th>baraffe2003</th>\n",
       "      <th>saumon2008</th>\n",
       "      <th>marley2019</th>\n",
       "      <th>phillips2020</th>\n",
       "    </tr>\n",
       "  </thead>\n",
       "  <tbody>\n",
       "    <tr>\n",
       "      <th>M7-L0</th>\n",
       "      <td>(4.6163953587209825, 0.6766727687761518)</td>\n",
       "      <td>(nan, nan)</td>\n",
       "      <td>(nan, nan)</td>\n",
       "      <td>(nan, nan)</td>\n",
       "    </tr>\n",
       "    <tr>\n",
       "      <th>L0-L5</th>\n",
       "      <td>(1.0317526359338158, 0.26730605089870446)</td>\n",
       "      <td>(1.1460348024879234, 0.33354088922542713)</td>\n",
       "      <td>(1.1657612841450327, 0.3955070772047593)</td>\n",
       "      <td>(2.7229333299289262, 1.4723466461440187)</td>\n",
       "    </tr>\n",
       "    <tr>\n",
       "      <th>L5-T0</th>\n",
       "      <td>(2.0565236400293814, 1.8641261018370714)</td>\n",
       "      <td>(1.2344601634459242, 1.5821765436679258)</td>\n",
       "      <td>(2.0224432545396764, 2.0191621283417067)</td>\n",
       "      <td>(2.169455027415803, 2.073443310358432)</td>\n",
       "    </tr>\n",
       "    <tr>\n",
       "      <th>T0-T5</th>\n",
       "      <td>(1.7435990939413828, 1.5611486165173736)</td>\n",
       "      <td>(1.3279455687965465, 1.4655990745317646)</td>\n",
       "      <td>(1.8094315758050041, 1.965619013204517)</td>\n",
       "      <td>(1.6073626682521995, 1.4588153187175952)</td>\n",
       "    </tr>\n",
       "    <tr>\n",
       "      <th>T5-Y0</th>\n",
       "      <td>(1.8173368242390278, 0.0)</td>\n",
       "      <td>(2.9664378171006844, 4.440892098500626e-16)</td>\n",
       "      <td>(1.7925784330624146, 3.7355877336324417)</td>\n",
       "      <td>(1.6059887597821514, 3.1525562592184064)</td>\n",
       "    </tr>\n",
       "  </tbody>\n",
       "</table>\n",
       "</div>"
      ],
      "text/plain": [
       "                                     baraffe2003  \\\n",
       "M7-L0   (4.6163953587209825, 0.6766727687761518)   \n",
       "L0-L5  (1.0317526359338158, 0.26730605089870446)   \n",
       "L5-T0   (2.0565236400293814, 1.8641261018370714)   \n",
       "T0-T5   (1.7435990939413828, 1.5611486165173736)   \n",
       "T5-Y0                  (1.8173368242390278, 0.0)   \n",
       "\n",
       "                                        saumon2008  \\\n",
       "M7-L0                                   (nan, nan)   \n",
       "L0-L5    (1.1460348024879234, 0.33354088922542713)   \n",
       "L5-T0     (1.2344601634459242, 1.5821765436679258)   \n",
       "T0-T5     (1.3279455687965465, 1.4655990745317646)   \n",
       "T5-Y0  (2.9664378171006844, 4.440892098500626e-16)   \n",
       "\n",
       "                                     marley2019  \\\n",
       "M7-L0                                (nan, nan)   \n",
       "L0-L5  (1.1657612841450327, 0.3955070772047593)   \n",
       "L5-T0  (2.0224432545396764, 2.0191621283417067)   \n",
       "T0-T5   (1.8094315758050041, 1.965619013204517)   \n",
       "T5-Y0  (1.7925784330624146, 3.7355877336324417)   \n",
       "\n",
       "                                   phillips2020  \n",
       "M7-L0                                (nan, nan)  \n",
       "L0-L5  (2.7229333299289262, 1.4723466461440187)  \n",
       "L5-T0    (2.169455027415803, 2.073443310358432)  \n",
       "T0-T5  (1.6073626682521995, 1.4588153187175952)  \n",
       "T5-Y0  (1.6059887597821514, 3.1525562592184064)  "
      ]
     },
     "execution_count": 33,
     "metadata": {},
     "output_type": "execute_result"
    }
   ],
   "source": [
    "age_tables[['baraffe2003', 'saumon2008', 'marley2019', 'phillips2020']]"
   ]
  },
  {
   "cell_type": "code",
   "execution_count": 51,
   "metadata": {},
   "outputs": [],
   "source": [
    "def propagate_uncertainties(row):\n",
    "    vals=np.vstack(row.values)[:, 0]\n",
    "    uncs=np.vstack(row.values)[:,1]\n",
    "    \n",
    "    return np.round(np.nanmedian(vals), 1), \\\n",
    "np.round(np.sqrt(np.nansum(uncs**2)+ np.nanstd(vals)**2), 1)"
   ]
  },
  {
   "cell_type": "code",
   "execution_count": 63,
   "metadata": {},
   "outputs": [
    {
     "data": {
      "text/plain": [
       "M7-L0    (4.6163953587209825, 0.6766727687761518)\n",
       "L0-L5     (1.300839459723293, 1.2555741571271368)\n",
       "L5-T0    (1.9130484542689126, 1.9127923737664656)\n",
       "T0-T5    (1.3279455687965465, 1.6385660820114147)\n",
       "T5-Y0    (1.8173368242390278, 2.9502125118088833)\n",
       "dtype: object"
      ]
     },
     "execution_count": 63,
     "metadata": {},
     "output_type": "execute_result"
    }
   ],
   "source": [
    "age_distdf.apply(lambda x: np.concatenate(x), axis=1).apply(lambda x: (np.nanmedian(x), np.nanstd(x)))"
   ]
  },
  {
   "cell_type": "code",
   "execution_count": 64,
   "metadata": {},
   "outputs": [
    {
     "data": {
      "text/plain": [
       "M7-L0    (42.92569467852935, 2.2725120583634455)\n",
       "L0-L5     (27.68949134808109, 6.042587431814472)\n",
       "L5-T0    (31.449490697685334, 8.379995014359457)\n",
       "T0-T5    (27.873527905684583, 7.385131359051568)\n",
       "T5-Y0    (30.909046035595175, 9.964617844679987)\n",
       "dtype: object"
      ]
     },
     "execution_count": 64,
     "metadata": {},
     "output_type": "execute_result"
    }
   ],
   "source": [
    "vel_df.apply(lambda x: np.concatenate(x), axis=1).apply(lambda x: (np.nanmedian(x), np.nanstd(x)))"
   ]
  },
  {
   "cell_type": "code",
   "execution_count": 62,
   "metadata": {},
   "outputs": [
    {
     "data": {
      "text/plain": [
       "M7-L0      (589.3659115300958, 62.66770766871768)\n",
       "L0-L5     (245.2337867906059, 131.25282206604297)\n",
       "L5-T0    (316.35709730702314, 192.69336354995926)\n",
       "T0-T5     (248.5044835958861, 166.06841367231212)\n",
       "T5-Y0    (305.57762512594536, 271.75500348914113)\n",
       "dtype: object"
      ]
     },
     "execution_count": 62,
     "metadata": {},
     "output_type": "execute_result"
    }
   ],
   "source": [
    "scale_height_dist_df.apply(lambda x: np.concatenate(x), axis=1).apply(lambda x: (np.nanmedian(x), np.nanstd(x)))"
   ]
  },
  {
   "cell_type": "code",
   "execution_count": 50,
   "metadata": {},
   "outputs": [
    {
     "data": {
      "text/plain": [
       "0.2857142857142857"
      ]
     },
     "execution_count": 50,
     "metadata": {},
     "output_type": "execute_result"
    }
   ],
   "source": [
    "8/28"
   ]
  },
  {
   "cell_type": "code",
   "execution_count": 38,
   "metadata": {},
   "outputs": [],
   "source": [
    "#upper and lo limits on ages \n",
    "up_lims_table=pd.DataFrame(columns= age_tables.columns,\n",
    "                           index=age_tables.index).fillna(0)\n",
    "#up_lims_table.saumon2008['T0-T5']=1\n",
    "#up_lims_table.saumon2008['T0-T5']=1\n",
    "\n",
    "#lo limts\n",
    "lo_lims_table=pd.DataFrame(columns= age_tables.columns,\n",
    "                           index=age_tables.index).fillna(0)\n",
    "lo_lims_table.baraffe2003['T5-Y0']=1\n",
    "#lo_lims_table.baraffe2003['L5-T0']=1\n",
    "#lo_lims_table.phillips2020['T5-Y0']=1\n",
    "lo_lims_table.saumon2008['T5-Y0']=1\n",
    "lo_lims_table.marley2019['T5-Y0']=1\n"
   ]
  },
  {
   "cell_type": "code",
   "execution_count": 39,
   "metadata": {},
   "outputs": [],
   "source": [
    "def get_simpler_class(x):\n",
    "    if x.startswith('M'):\n",
    "        return 'Late M'\n",
    "    if x.startswith('L'):\n",
    "        return 'L'\n",
    "    if x.startswith('T'):\n",
    "        return 'T'"
   ]
  },
  {
   "cell_type": "code",
   "execution_count": 40,
   "metadata": {},
   "outputs": [
    {
     "name": "stdout",
     "output_type": "stream",
     "text": [
      "1475962\n",
      "1594004\n",
      "1440150\n",
      "1379405\n"
     ]
    }
   ],
   "source": [
    "#plot age with scale heights\n",
    "age_dictionaries={}\n",
    "for model in ['saumon2008', 'baraffe2003', 'marley2019', 'phillips2020']:\n",
    "    dfs=[]\n",
    "    for hidx in wispsim.HS:\n",
    "        dfs.append(pd.read_hdf(wisps.OUTPUT_FILES+'/final_simulated_sample_cut.h5',\n",
    "                               key=str(model)+str('h')+str(hidx)+'F110_corrected'))\n",
    "        \n",
    "    df=pd.concat(dfs)\n",
    "    print (len(df))\n",
    "    cutdf_lblded=wisps.Annotator.group_by_spt(df, spt_label='spt', assign_number=False).rename(columns={'spt_range': 'subtype'})\n",
    "    cutdf_lblded['spectclass']=  cutdf_lblded.subtype.apply(get_simpler_class)\n",
    "    final_df=cutdf_lblded[~((cutdf_lblded.spectclass=='') | (cutdf_lblded.subtype=='')|   (cutdf_lblded.subtype=='trash'))]\n",
    "    age_dictionaries[model]=final_df"
   ]
  },
  {
   "cell_type": "code",
   "execution_count": 41,
   "metadata": {},
   "outputs": [
    {
     "data": {
      "image/png": "[encoded data removed]",
      "text/plain": [
       "<Figure size 432x576 with 1 Axes>"
      ]
     },
     "metadata": {
      "needs_background": "light"
     },
     "output_type": "display_data"
    }
   ],
   "source": [
    "\n",
    "#fig, ax=plt.subplots(figsize=(12, 12), ncols=2, nrows=2, sharex=False, sharey=False)\n",
    "fig, a= plt.subplots(figsize=(6, 8))\n",
    "#for model, a in zip([ 'baraffe2003', 'saumon2008','marley2019', 'phillips2020'], np.concatenate(ax)):\n",
    "model='baraffe2003'\n",
    "dfn=age_dictionaries[model].replace('T5-T9', 'T5-Y0')\n",
    "dfn['Survey']=dfn.pnt.apply(lambda x: x.survey)\n",
    "dfn.Survey=dfn.Survey.replace('hst3d', '3d-hst'.upper())\n",
    "dfn.Survey=dfn.Survey.replace('wisps', 'wisps'.upper())\n",
    "age_emp=pd.DataFrame()\n",
    "age_emp['subtype']=np.array(age_tables[model].index)\n",
    "age_emp['age']=np.vstack(age_tables[model].values)[:,0]\n",
    "age_emp['unc']=np.vstack(age_tables[model].values)[:,1]\n",
    "age_emp.unc[age_emp.unc<0.01]=1\n",
    "agfn= age_emp\n",
    "#lower limits\n",
    "lolims=lo_lims_table[model].values.astype(bool)\n",
    "#upper limits\n",
    "uplims =up_lims_table[model].values.astype(bool)\n",
    "if model !='baraffe2003':\n",
    "    dfn=dfn[dfn.subtype != 'M7-L0']\n",
    "    agfn=agfn[agfn.subtype !='M7-L0']\n",
    "    lolims=lo_lims_table[model].values.astype(bool)[1:]\n",
    "    uplims =up_lims_table[model].values.astype(bool)[1:]\n",
    "\n",
    "    sns.violinplot(x='age', y='subtype', data=dfn, ax=a,\n",
    "               saturation=0.9, scale='area',\n",
    "                   order=['L0-L5', 'L5-T0', 'T0-T5', 'T5-Y0'], \n",
    "                   split=True, linewidth=0.5, inner=\"quartile\", color='grey')\n",
    "    a.set_ylim([-0.5, 3.5])\n",
    "else:\n",
    "    sns.violinplot(x='age', y='subtype', data=dfn, ax=a,\n",
    "               saturation=0.9, scale='area', \n",
    "                   order=spgrid2, split=True, linewidth=0.5, inner=\"quartile\", color='grey')\n",
    "    a.set_ylim([-0.5, 4.5])\n",
    "\n",
    "\n",
    "#sns.boxplot(y=dfn.age.values*dfn.slprob, x=dfn.spectclass, ax=a,\n",
    "#            color='#FF851B')\n",
    "\n",
    "#upper and low limit of the error\n",
    "#print (lolims =\n",
    "a.errorbar(  agfn.age, agfn.subtype, xerr=agfn.unc,  fmt='o',xlolims=lolims, ms=20, lw=7, \n",
    "           capsize=7, \n",
    "           mfc='#0074D9', mec='#111111', ecolor='#111111', xuplims=uplims)\n",
    "#a.set_xlim()\n",
    "a.set_ylabel('Subtype Group', fontsize=18)\n",
    "a.set_xlabel('Age (Gyr)', fontsize=18)\n",
    "a.set_xlim([-1, 9.])\n",
    "a.minorticks_on()\n",
    "a.set_title('Model= B03', fontsize=18)\n",
    "#ax[0][0].set_title('Model= B03', fontsize=18)\n",
    "#ax[0][1].set_title('Model= SM08', fontsize=18)\n",
    "#ax[1][0].set_title('Model= M19', fontsize=18)\n",
    "#ax[1][1].set_title('Model= P20', fontsize=18)\n",
    "\n",
    "plt.tight_layout()\n",
    "\n",
    "\n",
    "plt.savefig(wisps.OUTPUT_FIGURES+'/age_comparison_one.pdf', bbox_inches='tight',  facecolor='white', transparent=False)\n"
   ]
  },
  {
   "cell_type": "code",
   "execution_count": 42,
   "metadata": {},
   "outputs": [
    {
     "data": {
      "text/plain": [
       "baraffe2003      (305.57762512594536, 186.3293156767018)\n",
       "marley2019       (297.9321332732552, 236.56359973089877)\n",
       "phillips2020    (339.07760278931886, 210.70679834085576)\n",
       "saumon2008       (239.37823241645822, 137.8130219912839)\n",
       "dtype: object"
      ]
     },
     "execution_count": 42,
     "metadata": {},
     "output_type": "execute_result"
    }
   ],
   "source": [
    "scale_height_dist_df.apply(lambda x: np.concatenate(x.values), axis=0).apply(lambda x: \\\n",
    "                            (np.nanmedian(x), \n",
    "                            np.nanstd(x)))"
   ]
  },
  {
   "cell_type": "code",
   "execution_count": 43,
   "metadata": {},
   "outputs": [
    {
     "data": {
      "text/html": [
       "<div>\n",
       "<style scoped>\n",
       "    .dataframe tbody tr th:only-of-type {\n",
       "        vertical-align: middle;\n",
       "    }\n",
       "\n",
       "    .dataframe tbody tr th {\n",
       "        vertical-align: top;\n",
       "    }\n",
       "\n",
       "    .dataframe thead th {\n",
       "        text-align: right;\n",
       "    }\n",
       "</style>\n",
       "<table border=\"1\" class=\"dataframe\">\n",
       "  <thead>\n",
       "    <tr style=\"text-align: right;\">\n",
       "      <th></th>\n",
       "      <th>baraffe2003</th>\n",
       "      <th>marley2019</th>\n",
       "      <th>phillips2020</th>\n",
       "      <th>saumon2008</th>\n",
       "    </tr>\n",
       "  </thead>\n",
       "  <tbody>\n",
       "    <tr>\n",
       "      <th>M7-L0</th>\n",
       "      <td>(4.6163953587209825, 0.6766727687761518)</td>\n",
       "      <td>(nan, nan)</td>\n",
       "      <td>(nan, nan)</td>\n",
       "      <td>(nan, nan)</td>\n",
       "    </tr>\n",
       "    <tr>\n",
       "      <th>L0-L5</th>\n",
       "      <td>(1.0317526359338158, 0.26730605089870446)</td>\n",
       "      <td>(1.1657612841450327, 0.3955070772047593)</td>\n",
       "      <td>(2.7229333299289262, 1.4723466461440187)</td>\n",
       "      <td>(1.1460348024879234, 0.33354088922542713)</td>\n",
       "    </tr>\n",
       "    <tr>\n",
       "      <th>L5-T0</th>\n",
       "      <td>(2.0565236400293814, 1.8641261018370714)</td>\n",
       "      <td>(2.0224432545396764, 2.0191621283417067)</td>\n",
       "      <td>(2.169455027415803, 2.073443310358432)</td>\n",
       "      <td>(1.2344601634459242, 1.5821765436679258)</td>\n",
       "    </tr>\n",
       "    <tr>\n",
       "      <th>T0-T5</th>\n",
       "      <td>(1.7435990939413828, 1.5611486165173736)</td>\n",
       "      <td>(1.8094315758050041, 1.965619013204517)</td>\n",
       "      <td>(1.6073626682521995, 1.4588153187175952)</td>\n",
       "      <td>(1.3279455687965465, 1.4655990745317646)</td>\n",
       "    </tr>\n",
       "    <tr>\n",
       "      <th>T5-Y0</th>\n",
       "      <td>(1.8173368242390278, 0.0)</td>\n",
       "      <td>(1.7925784330624146, 3.7355877336324417)</td>\n",
       "      <td>(1.6059887597821514, 3.1525562592184064)</td>\n",
       "      <td>(2.9664378171006844, 4.440892098500626e-16)</td>\n",
       "    </tr>\n",
       "  </tbody>\n",
       "</table>\n",
       "</div>"
      ],
      "text/plain": [
       "                                     baraffe2003  \\\n",
       "M7-L0   (4.6163953587209825, 0.6766727687761518)   \n",
       "L0-L5  (1.0317526359338158, 0.26730605089870446)   \n",
       "L5-T0   (2.0565236400293814, 1.8641261018370714)   \n",
       "T0-T5   (1.7435990939413828, 1.5611486165173736)   \n",
       "T5-Y0                  (1.8173368242390278, 0.0)   \n",
       "\n",
       "                                     marley2019  \\\n",
       "M7-L0                                (nan, nan)   \n",
       "L0-L5  (1.1657612841450327, 0.3955070772047593)   \n",
       "L5-T0  (2.0224432545396764, 2.0191621283417067)   \n",
       "T0-T5   (1.8094315758050041, 1.965619013204517)   \n",
       "T5-Y0  (1.7925784330624146, 3.7355877336324417)   \n",
       "\n",
       "                                   phillips2020  \\\n",
       "M7-L0                                (nan, nan)   \n",
       "L0-L5  (2.7229333299289262, 1.4723466461440187)   \n",
       "L5-T0    (2.169455027415803, 2.073443310358432)   \n",
       "T0-T5  (1.6073626682521995, 1.4588153187175952)   \n",
       "T5-Y0  (1.6059887597821514, 3.1525562592184064)   \n",
       "\n",
       "                                        saumon2008  \n",
       "M7-L0                                   (nan, nan)  \n",
       "L0-L5    (1.1460348024879234, 0.33354088922542713)  \n",
       "L5-T0     (1.2344601634459242, 1.5821765436679258)  \n",
       "T0-T5     (1.3279455687965465, 1.4655990745317646)  \n",
       "T5-Y0  (2.9664378171006844, 4.440892098500626e-16)  "
      ]
     },
     "execution_count": 43,
     "metadata": {},
     "output_type": "execute_result"
    }
   ],
   "source": [
    "age_tables"
   ]
  },
  {
   "cell_type": "code",
   "execution_count": 44,
   "metadata": {},
   "outputs": [],
   "source": [
    "import scipy.stats as stats"
   ]
  },
  {
   "cell_type": "code",
   "execution_count": 45,
   "metadata": {},
   "outputs": [],
   "source": [
    "from pprint import pprint"
   ]
  },
  {
   "cell_type": "code",
   "execution_count": 46,
   "metadata": {},
   "outputs": [
    {
     "name": "stdout",
     "output_type": "stream",
     "text": [
      "baraffe2003 M7-L0\n",
      "KstestResult(statistic=0.4579654313049541, pvalue=0.0)\n",
      "baraffe2003 L0-L5\n",
      "KstestResult(statistic=0.6080059601883643, pvalue=0.0)\n",
      "baraffe2003 L5-T0\n",
      "KstestResult(statistic=0.29970153083886736, pvalue=0.0)\n",
      "baraffe2003 T0-T5\n",
      "KstestResult(statistic=0.5252830920094824, pvalue=0.0)\n",
      "baraffe2003 T5-Y0\n",
      "KstestResult(statistic=0.798257022889119, pvalue=0.0)\n",
      "------------------------\n",
      "saumon2008 L0-L5\n",
      "KstestResult(statistic=0.6460643792171238, pvalue=0.0)\n",
      "saumon2008 L5-T0\n",
      "KstestResult(statistic=0.36063670306488, pvalue=0.0)\n",
      "saumon2008 T0-T5\n",
      "KstestResult(statistic=0.5626818997211424, pvalue=0.0)\n",
      "saumon2008 T5-Y0\n",
      "KstestResult(statistic=0.6552115422265374, pvalue=0.0)\n",
      "------------------------\n",
      "marley2019 L0-L5\n",
      "KstestResult(statistic=0.5649294005617078, pvalue=0.0)\n",
      "marley2019 L5-T0\n",
      "KstestResult(statistic=0.2704515896156558, pvalue=0.0)\n",
      "marley2019 T0-T5\n",
      "KstestResult(statistic=0.5039472935743599, pvalue=0.0)\n",
      "marley2019 T5-Y0\n",
      "KstestResult(statistic=0.4018679089673004, pvalue=0.0)\n",
      "------------------------\n",
      "phillips2020 L0-L5\n",
      "KstestResult(statistic=0.364752784405337, pvalue=0.0)\n",
      "phillips2020 L5-T0\n",
      "KstestResult(statistic=0.25125483677885313, pvalue=0.0)\n",
      "phillips2020 T0-T5\n",
      "KstestResult(statistic=0.5507234811487398, pvalue=0.0)\n",
      "phillips2020 T5-Y0\n",
      "KstestResult(statistic=0.424093353675178, pvalue=0.0)\n",
      "------------------------\n"
     ]
    }
   ],
   "source": [
    "for model in ['baraffe2003', 'saumon2008','marley2019', 'phillips2020']:\n",
    "    for subtype in [ 'M7-L0','L0-L5', 'L5-T0', 'T0-T5', 'T5-Y0']:\n",
    "        dfn=age_dictionaries[model].replace('T5-T9', 'T5-Y0')\n",
    "        x=dfn[dfn.subtype ==subtype].age.values\n",
    "        y=age_distdf[model][subtype]\n",
    "        #fig, ax=plt.subplots()\n",
    "        #h=plt.hist(x, density=True)\n",
    "        #h=plt.hist(y, density=True)\n",
    "        if len(y)==0:\n",
    "            pass\n",
    "        else:\n",
    "            print (model, subtype)\n",
    "            pprint(stats.ks_2samp(x, y, mode='asymp', alternative='two-sided'))\n",
    "            #print (stats.anderson_ksamp(np.array([np.random.choice(x, 100),\\\n",
    "            #                                      np.random.choice(y, 100)])))\n",
    "    print ('------------------------')"
   ]
  },
  {
   "cell_type": "code",
   "execution_count": 47,
   "metadata": {},
   "outputs": [],
   "source": [
    "stats.ks_2samp?"
   ]
  },
  {
   "cell_type": "code",
   "execution_count": 48,
   "metadata": {},
   "outputs": [
    {
     "ename": "NameError",
     "evalue": "name 'number_dicts' is not defined",
     "output_type": "error",
     "traceback": [
      "\u001b[0;31m---------------------------------------------------------------------------\u001b[0m",
      "\u001b[0;31mNameError\u001b[0m                                 Traceback (most recent call last)",
      "\u001b[0;32m<ipython-input-48-18cd9421359d>\u001b[0m in \u001b[0;36m<module>\u001b[0;34m\u001b[0m\n\u001b[1;32m      1\u001b[0m \u001b[0mfig\u001b[0m\u001b[0;34m,\u001b[0m \u001b[0max\u001b[0m\u001b[0;34m=\u001b[0m\u001b[0mplt\u001b[0m\u001b[0;34m.\u001b[0m\u001b[0msubplots\u001b[0m\u001b[0;34m(\u001b[0m\u001b[0mfigsize\u001b[0m\u001b[0;34m=\u001b[0m\u001b[0;34m(\u001b[0m\u001b[0;36m10\u001b[0m\u001b[0;34m,\u001b[0m \u001b[0;36m6\u001b[0m\u001b[0;34m)\u001b[0m\u001b[0;34m)\u001b[0m\u001b[0;34m\u001b[0m\u001b[0;34m\u001b[0m\u001b[0m\n\u001b[1;32m      2\u001b[0m \u001b[0midx\u001b[0m\u001b[0;34m=\u001b[0m\u001b[0;36m0\u001b[0m\u001b[0;34m\u001b[0m\u001b[0;34m\u001b[0m\u001b[0m\n\u001b[0;32m----> 3\u001b[0;31m \u001b[0;32mfor\u001b[0m \u001b[0mc\u001b[0m \u001b[0;32min\u001b[0m \u001b[0mnumber_dicts\u001b[0m\u001b[0;34m.\u001b[0m\u001b[0mcolumns\u001b[0m\u001b[0;34m:\u001b[0m\u001b[0;34m\u001b[0m\u001b[0;34m\u001b[0m\u001b[0m\n\u001b[0m\u001b[1;32m      4\u001b[0m \u001b[0;34m\u001b[0m\u001b[0m\n\u001b[1;32m      5\u001b[0m     \u001b[0mvals\u001b[0m\u001b[0;34m=\u001b[0m\u001b[0mnp\u001b[0m\u001b[0;34m.\u001b[0m\u001b[0mvstack\u001b[0m\u001b[0;34m(\u001b[0m\u001b[0;34m[\u001b[0m\u001b[0mnumber_dicts\u001b[0m\u001b[0;34m[\u001b[0m\u001b[0mc\u001b[0m\u001b[0;34m]\u001b[0m\u001b[0;34m[\u001b[0m\u001b[0mh\u001b[0m\u001b[0;34m]\u001b[0m \u001b[0;32mfor\u001b[0m \u001b[0mh\u001b[0m \u001b[0;32min\u001b[0m \u001b[0mwispsim\u001b[0m\u001b[0;34m.\u001b[0m\u001b[0mHS\u001b[0m\u001b[0;34m]\u001b[0m\u001b[0;34m)\u001b[0m\u001b[0;34m[\u001b[0m\u001b[0;34m:\u001b[0m\u001b[0;34m,\u001b[0m\u001b[0midx\u001b[0m\u001b[0;34m]\u001b[0m\u001b[0;34m\u001b[0m\u001b[0;34m\u001b[0m\u001b[0m\n",
      "\u001b[0;31mNameError\u001b[0m: name 'number_dicts' is not defined"
     ]
    },
    {
     "data": {
      "image/png": "[encoded data removed]",
      "text/plain": [
       "<Figure size 720x432 with 1 Axes>"
      ]
     },
     "metadata": {
      "needs_background": "light"
     },
     "output_type": "display_data"
    }
   ],
   "source": [
    "fig, ax=plt.subplots(figsize=(10, 6))\n",
    "idx=0\n",
    "for c in number_dicts.columns:\n",
    "    \n",
    "    vals=np.vstack([number_dicts[c][h] for h in wispsim.HS])[:,idx]\n",
    "\n",
    "    interpf = interp1d(vals, wispsim.HS)\n",
    "    npoisson=np.random.poisson(y3[idx], int(1e6)).astype(float)\n",
    "    #assign up and down \n",
    "    dflag=npoisson>=vals.min()\n",
    "    uflag= npoisson <=vals.max()\n",
    "    npoisson[dflag]= vals.min()\n",
    "    npoisson[uflag]= vals.max()\n",
    "    predhs=interpf(npoisson)\n",
    "    sortarray=np.argsort(npoisson)\n",
    "    plt.plot(  (npoisson)[sortarray], predhs[sortarray],'o-', c='k', alpha=0.1)\n",
    "    plt.plot(vals, wispsim.HS, 'o-', label=c)\n",
    "plt.ylabel('h (expcted)', fontsize=18)\n",
    "plt.xlabel('N', fontsize=18)\n",
    "plt.xscale('log')\n",
    "plt.axvline(y3[idx], c='k')\n",
    "plt.legend()\n",
    "plt.minorticks_on()\n"
   ]
  },
  {
   "cell_type": "code",
   "execution_count": null,
   "metadata": {},
   "outputs": [],
   "source": []
  },
  {
   "cell_type": "code",
   "execution_count": null,
   "metadata": {},
   "outputs": [],
   "source": []
  }
 ],
 "metadata": {
  "kernelspec": {
   "display_name": "Python 3",
   "language": "python",
   "name": "python3"
  },
  "language_info": {
   "codemirror_mode": {
    "name": "ipython",
    "version": 3
   },
   "file_extension": ".py",
   "mimetype": "text/x-python",
   "name": "python",
   "nbconvert_exporter": "python",
   "pygments_lexer": "ipython3",
   "version": "3.8.5"
  }
 },
 "nbformat": 4,
 "nbformat_minor": 4
}
