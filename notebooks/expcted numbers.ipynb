{
 "cells": [
  {
   "cell_type": "code",
   "execution_count": 1,
   "metadata": {},
   "outputs": [
    {
     "name": "stdout",
     "output_type": "stream",
     "text": [
      "\n",
      "Warning: spectrum object has a flux vector of zero length - maybe empty?\n",
      "\n",
      "Warning: normalize is attempting to divide by nan; ignoring\n",
      "\n",
      "Warning: spectrum object has a flux vector of zero length - maybe empty?\n",
      "\n",
      "Warning: normalize is attempting to divide by nan; ignoring\n"
     ]
    }
   ],
   "source": [
    "import numpy as np\n",
    "import wisps\n",
    "import wisps.simulations as wispsim\n",
    "import pandas as pd\n",
    "import splat\n",
    "import matplotlib.pyplot as plt\n",
    "import astropy.units as u\n",
    "from astropy.coordinates import SkyCoord\n",
    "from scipy.interpolate import interp1d\n",
    "import numba\n",
    "from tqdm import tqdm\n",
    "import splat.empirical as spem\n",
    "import wisps.simulations.effective_numbers as ef \n",
    "import seaborn as sns\n",
    "from matplotlib.ticker import MultipleLocator\n",
    "from matplotlib.colors import Normalize\n",
    "import matplotlib as mpl\n",
    "import splat.empirical as spe\n",
    "\n",
    "%matplotlib inline"
   ]
  },
  {
   "cell_type": "code",
   "execution_count": 2,
   "metadata": {},
   "outputs": [],
   "source": [
    "pnts=wisps.OBSERVED_POINTINGS"
   ]
  },
  {
   "cell_type": "code",
   "execution_count": 3,
   "metadata": {},
   "outputs": [],
   "source": [
    "def bin_by_spt_bin(sp_types, number):\n",
    "    ranges=[[17, 20], [20, 25], [25, 30], [30, 35], [35, 40]]\n",
    "    numbers=[]\n",
    "    for r in ranges:\n",
    "        idx= np.logical_and((r[0]<=sp_types), (r[1]>sp_types))\n",
    "        numbers.append(np.nansum(number[idx]))\n",
    "    return numbers\n",
    "\n",
    "def iswithin_mag_limits(mags, pnt):\n",
    "    #mgs is a dictionary\n",
    "    flags=[]\n",
    "    for k in pnt.mag_limits.keys():\n",
    "        if k =='F110' and pnt.survey =='hst3d':\n",
    "            flags.append(True)\n",
    "        else:\n",
    "            flags.append(mags[k] < pnt.mag_limits[k])\n",
    "    return np.logical_or.reduce(flags)\n"
   ]
  },
  {
   "cell_type": "code",
   "execution_count": 4,
   "metadata": {},
   "outputs": [],
   "source": [
    "sgrid=wispsim.SPGRID"
   ]
  },
  {
   "cell_type": "code",
   "execution_count": 5,
   "metadata": {},
   "outputs": [],
   "source": [
    "cands=pd.read_pickle(wisps.OUTPUT_FILES+'/true_spectra_cands.pkl')"
   ]
  },
  {
   "cell_type": "code",
   "execution_count": 6,
   "metadata": {},
   "outputs": [],
   "source": [
    "cands['spt']=cands.spectra.apply(lambda x: x.spectral_type)"
   ]
  },
  {
   "cell_type": "code",
   "execution_count": 7,
   "metadata": {},
   "outputs": [],
   "source": [
    "pnt_names=[x.name for x in pnts]"
   ]
  },
  {
   "cell_type": "code",
   "execution_count": 8,
   "metadata": {},
   "outputs": [
    {
     "data": {
      "text/plain": [
       "149"
      ]
     },
     "execution_count": 8,
     "metadata": {},
     "output_type": "execute_result"
    }
   ],
   "source": [
    "pnt_names.index('par1')"
   ]
  },
  {
   "cell_type": "code",
   "execution_count": 9,
   "metadata": {},
   "outputs": [
    {
     "data": {
      "text/plain": [
       "'hst3d'"
      ]
     },
     "execution_count": 9,
     "metadata": {},
     "output_type": "execute_result"
    }
   ],
   "source": [
    "pnts[0].survey"
   ]
  },
  {
   "cell_type": "code",
   "execution_count": 10,
   "metadata": {},
   "outputs": [],
   "source": [
    "def get_pointing(grism_id):\n",
    "    if grism_id.startswith('par'):\n",
    "        pntname=grism_id.lower().split('-')[0]\n",
    "    else:\n",
    "        pntname=grism_id.lower().split('-g141')[0]\n",
    "    loc=pnt_names.index(pntname)\n",
    "    return np.array(pnts)[loc]\n",
    "    \n",
    "\n",
    "def get_mags(row):\n",
    "    return pd.Series(row.spectra.mags)"
   ]
  },
  {
   "cell_type": "code",
   "execution_count": 11,
   "metadata": {},
   "outputs": [],
   "source": [
    "mags_df=cands.apply(get_mags, axis=1)\n",
    "tab=wisps.Annotator.reformat_table(cands.join(mags_df))\n",
    "tab['pnt']=tab['grism_id'].apply(get_pointing)"
   ]
  },
  {
   "cell_type": "code",
   "execution_count": 12,
   "metadata": {},
   "outputs": [],
   "source": [
    "obsmgs=tab[['F140W', 'F110W', 'F160W']].rename(columns={\"F110W\": \"F110\", \n",
    "                                                                    \"F140W\": \"F140\",\n",
    "                                                                    \"F160W\": \"F160\"}).to_dict('records')\n",
    "flags=[iswithin_mag_limits(x, y) for x, y in zip(obsmgs, tab.pnt.values)]\n",
    "\n",
    "cdf_to_use=tab[flags]\n",
    "nobs=wisps.custom_histogram(cdf_to_use.spt.apply(wisps.make_spt_number), sgrid, 1)"
   ]
  },
  {
   "cell_type": "code",
   "execution_count": 13,
   "metadata": {},
   "outputs": [],
   "source": [
    "spgrid2=['M7-L0', 'L0-L5', 'L5-T0', 'T0-T5', 'T5-Y0']\n",
    "cnorm=Normalize(wispsim.HS[0], wispsim.HS[-1])"
   ]
  },
  {
   "cell_type": "code",
   "execution_count": 14,
   "metadata": {},
   "outputs": [],
   "source": [
    "data=(ef.simulation_outputs()['baraffe2003'])[100]"
   ]
  },
  {
   "cell_type": "code",
   "execution_count": 15,
   "metadata": {},
   "outputs": [
    {
     "data": {
      "text/plain": [
       "dict_keys(['f110', 'f140', 'f160', 'd', 'r', 'z', 'appf140', 'appf110', 'appf160', 'snrj', 'sl', 'pnt', 'spts', 'teff'])"
      ]
     },
     "execution_count": 15,
     "metadata": {},
     "output_type": "execute_result"
    }
   ],
   "source": [
    "data.keys()"
   ]
  },
  {
   "cell_type": "code",
   "execution_count": 16,
   "metadata": {},
   "outputs": [],
   "source": [
    "def compute_simulated_numbers(hidx, model='saumon2008', selection='prob'):\n",
    "    #an index in accordance with the scale height\n",
    "    \n",
    "    data=(ef.simulation_outputs()[model])[hidx]\n",
    "\n",
    "    simdf=pd.DataFrame()\n",
    "    simdf['spt']=data['spts'].flatten()\n",
    "    simdf['teff']=data['teff'].flatten()\n",
    "    simdf['slprob']=data['sl']\n",
    "    simdf['snr']=data['snrj']\n",
    "    simdf['appF140']=data['appf140']\n",
    "    simdf['appF110']=data['appf110']\n",
    "    simdf['appF160']=data['appf160']\n",
    "    simdf['pntname']=data['pnt']\n",
    "    \n",
    "    simdf['pnt']=simdf.pntname.apply(lambda x: np.array(pnts)[pnt_names.index(x)])\n",
    "    \n",
    "    simmgs=simdf[['appF140', 'appF110', 'appF160']].rename(columns={\"appF110\": \"F110\", \n",
    "                                                                    \"appF140\": \"F140\",\n",
    "                                                                    \"appF160\": \"F160\"}).to_dict('records')\n",
    "    flags=[iswithin_mag_limits(x, y) for x, y in zip(simmgs,  simdf.pnt.values)]\n",
    "    \n",
    "    \n",
    "    cutdf=(simdf[flags]).reset_index(drop=True)\n",
    "    NORM = 0.63*(10**-3)/ len(cutdf.teff[np.logical_and(cutdf.teff>=1650, cutdf.teff <=1800)])\n",
    "    \n",
    "    NSIM=dict(zip(wispsim.SPGRID,np.zeros(len(wispsim.SPGRID))))\n",
    "    #rounded spectral type\n",
    "    cutdf['spt_r']=cutdf.spt.apply(np.round)\n",
    "    for g in cutdf.groupby('spt_r'):\n",
    "        NSIM[g[0]]=np.nansum((g[1]).slprob*NORM)\n",
    "        \n",
    "    return NSIM"
   ]
  },
  {
   "cell_type": "code",
   "execution_count": 17,
   "metadata": {},
   "outputs": [],
   "source": [
    "volumes=[]\n",
    "for pnt in pnts:\n",
    "    vs=[]\n",
    "    for h in wispsim.HS:\n",
    "        vsx=[]\n",
    "        for g in wispsim.SPGRID:\n",
    "            vsx.append((pnt.volumes[h])[g])\n",
    "        vs.append(vsx)\n",
    "    volumes.append(vs)\n",
    "volumes=np.array(volumes)"
   ]
  },
  {
   "cell_type": "code",
   "execution_count": 18,
   "metadata": {},
   "outputs": [],
   "source": [
    "VOLUMES=np.nansum(volumes, axis=0)*4.1*(u.arcmin**2).to(u.radian**2)"
   ]
  },
  {
   "cell_type": "code",
   "execution_count": 19,
   "metadata": {},
   "outputs": [],
   "source": [
    "import seaborn as sns\n",
    "#flatui =['#001f3f', '#0074D9', '#7FDBFF', '#39CCCC', '#3D9970', '#2ECC40', '#01FF70', '#FFDC00']\n",
    "sns.set_palette(sns.color_palette(\"husl\"))\n",
    "#sns.set_palette(sns.color_palette(flatui, len(wispsim.HS)))"
   ]
  },
  {
   "cell_type": "code",
   "execution_count": 20,
   "metadata": {},
   "outputs": [
    {
     "name": "stderr",
     "output_type": "stream",
     "text": [
      "7it [1:29:43, 769.06s/it]\n"
     ]
    },
    {
     "data": {
      "image/png": "[encoded data removed]",
      "text/plain": [
       "<Figure size 1008x576 with 3 Axes>"
      ]
     },
     "metadata": {
      "needs_background": "light"
     },
     "output_type": "display_data"
    }
   ],
   "source": [
    "fig, (ax, ax1, ax2)=plt.subplots(figsize=(14, 8), ncols=3, sharey=True, sharex=True)\n",
    "\n",
    "\n",
    "nexpct=[]\n",
    "for idx, h in tqdm(enumerate(wispsim.HS)):\n",
    "    \n",
    "    nsimulated_saumon=compute_simulated_numbers(h, model='saumon2008')\n",
    "    nsimulated_baraffe=compute_simulated_numbers(h, model='baraffe2003' )\n",
    "    nsimulated_sonora=compute_simulated_numbers(h, model='marley2019' )\n",
    "    \n",
    "    ns_bar=[]\n",
    "    ns_saumon=[]\n",
    "    ns_sonora=[]\n",
    "    for s in wispsim.SPGRID:\n",
    "            ns_bar.append(nsimulated_baraffe[s])\n",
    "            ns_saumon.append(nsimulated_saumon[s])\n",
    "            ns_sonora.append(nsimulated_sonora[s])\n",
    "    \n",
    "        \n",
    "    ns_bar=np.array(ns_bar)\n",
    "    ns_saumon=np.array(ns_saumon)\n",
    "    ns_sonora=np.array(ns_sonora)\n",
    "    \n",
    "    \n",
    "    \n",
    "    ax1.step(spgrid2, bin_by_spt_bin(wispsim.SPGRID,ns_bar*VOLUMES[idx]), \n",
    "                 where='mid', label='h={} pc'.format(wispsim.HS[idx]))\n",
    "    \n",
    "    ax.step(spgrid2, bin_by_spt_bin(wispsim.SPGRID,ns_saumon*VOLUMES[idx]),\n",
    "            where='mid', label='h={} pc'.format(wispsim.HS[idx]))\n",
    "    \n",
    "    ax2.step(spgrid2, bin_by_spt_bin(wispsim.SPGRID,ns_sonora*VOLUMES[idx]),\n",
    "            where='mid', label='h={} pc'.format(wispsim.HS[idx]))\n",
    "    \n",
    "    nexpct.append( bin_by_spt_bin(wispsim.SPGRID,ns_bar*VOLUMES[idx]))\n",
    "    \n",
    "\n",
    "\n",
    "\n",
    "ax.set_yscale('log')\n",
    "ax1.set_yscale('log')\n",
    "ax2.set_yscale('log')\n",
    "\n",
    "ax.set_ylim([0.6, 1000])\n",
    "ax1.set_ylim([0.6, 1000])\n",
    "ax2.set_ylim([0.6, 1000])\n",
    "\n",
    "y2=bin_by_spt_bin(wispsim.SPGRID,nobs)\n",
    "dy2=np.sqrt(y2)\n",
    "ax1.errorbar(spgrid2,y2, yerr=dy2,\n",
    "            label='observations',fmt='o', color='k')\n",
    "ax.errorbar(spgrid2,y2, yerr=dy2,\n",
    "            label='observations',fmt='o', color='k')\n",
    "ax2.errorbar(spgrid2,y2, yerr=dy2,\n",
    "            label='observations',fmt='o', color='k')\n",
    "\n",
    "\n",
    "\n",
    "\n",
    "ax1.set_xlabel('SpT',fontsize=18)\n",
    "\n",
    "ax.set_xlabel('SpT',fontsize=18)\n",
    "ax.set_ylabel('N',fontsize=18)\n",
    "\n",
    "ax.set_title('Model= S03', fontsize=18)\n",
    "ax1.set_title('Model= B03', fontsize=18)\n",
    "ax2.set_title('Model= Sonora', fontsize=18)\n",
    "ax.legend(fontsize=14, loc='upper right')\n",
    "\n",
    "plt.minorticks_on()\n",
    "\n",
    "plt.tight_layout()\n",
    "plt.savefig(wisps.OUTPUT_FIGURES+'/oberved_numbers.pdf', bbox_inches='tight')\n"
   ]
  },
  {
   "cell_type": "code",
   "execution_count": 22,
   "metadata": {},
   "outputs": [],
   "source": [
    "#visually inspect all templates you used for the classification\n",
    "#how many things star_flag and sexctrator says are point-sources and vice-versa\n",
    "#raise the binary fraction to 20%\n",
    "#it's okay to scale in temperature \n",
    "#all spectral primary spectral types must less than secondary spectral types\n",
    "#scale them by their absolute \n",
    "#use daniella's criteria to get rid of spcectral binaries and burgasser 2010 \n",
    "#the binary composite spectral type\n",
    "#(1) must have parallax\n",
    "#(2) cross-match with daniella's table put an excel \n",
    "#(3) must scale them by flux\n",
    "#(4) secondary must be less than primary in spt \n",
    "#(5) also color code them by delta spt (primary spt-secondary spt \n",
    "#use (best 2018) and peacaut 2019\n",
    "#double check that m1> m2 for the mass ratios\n",
    "#double mass ratio s"
   ]
  }
 ],
 "metadata": {
  "kernelspec": {
   "display_name": "Python 3",
   "language": "python",
   "name": "python3"
  },
  "language_info": {
   "codemirror_mode": {
    "name": "ipython",
    "version": 3
   },
   "file_extension": ".py",
   "mimetype": "text/x-python",
   "name": "python",
   "nbconvert_exporter": "python",
   "pygments_lexer": "ipython3",
   "version": "3.7.3"
  }
 },
 "nbformat": 4,
 "nbformat_minor": 4
}
