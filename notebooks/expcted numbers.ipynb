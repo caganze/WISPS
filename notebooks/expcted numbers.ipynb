{
 "cells": [
  {
   "cell_type": "code",
   "execution_count": 1,
   "metadata": {},
   "outputs": [],
   "source": [
    "import wisps\n",
    "import numpy as np\n",
    "import matplotlib.pyplot as plt\n",
    "import wisps.simulations as wispsim\n",
    "import pandas as pd\n",
    "\n",
    "import seaborn as sns\n",
    "from matplotlib.colors import Normalize\n",
    "import astropy.units as u \n",
    "\n",
    "%matplotlib inline"
   ]
  },
  {
   "cell_type": "code",
   "execution_count": 2,
   "metadata": {},
   "outputs": [],
   "source": [
    "import seaborn as sns\n",
    "import matplotlib\n",
    "\n",
    "#cmap= sns.color_palette(\"coolwarm\", 8, as_cmap=True)\n",
    "cmap=matplotlib.cm.get_cmap('coolwarm')\n",
    "cnorm=Normalize(wispsim.HS[0]/100, (wispsim.HS[-1])/100)"
   ]
  },
  {
   "cell_type": "code",
   "execution_count": 239,
   "metadata": {},
   "outputs": [],
   "source": [
    "def bin_by_spt_bin(sp_types, number, ltonly=False):\n",
    "    ranges=[[17, 20], [20, 25], [25, 30], [30, 35], [35, 40]]\n",
    "    if ltonly:\n",
    "        ranges=[[20, 30], [30, 41]]\n",
    "    numbers=[]\n",
    "    for r in ranges:\n",
    "        idx= np.logical_and((r[0]<=sp_types), (r[1]>sp_types))\n",
    "        numbers.append(np.nansum(number[idx]))\n",
    "    return numbers\n",
    "\n",
    "\n",
    "def get_pointing(grism_id):\n",
    "    if grism_id.startswith('par'):\n",
    "        pntname=grism_id.lower().split('-')[0]\n",
    "    else:\n",
    "        pntname=grism_id.lower().split('-g141')[0]\n",
    "    loc=pnt_names.index(pntname)\n",
    "    return np.array(pnts)[loc]\n",
    "\n",
    "def iswithin_mag_limits(mags, pnt):\n",
    "    #mgs is a dictionary\n",
    "    flags=[]\n",
    "    for k in pnt.mag_limits.keys():\n",
    "        if k =='F110' and pnt.survey =='hst3d':\n",
    "            flags.append(True)\n",
    "        else:\n",
    "            flags.append(mags[k] < pnt.mag_limits[k])\n",
    "    return np.logical_or.reduce(flags)\n",
    "\n",
    "\n",
    "def plot(NUMBERS, VOLUMES):\n",
    "    # In[ ]:\n",
    "    y2=bin_by_spt_bin(wispsim.SPGRID,nobs)\n",
    "    dy2=np.sqrt(y2)\n",
    "\n",
    "    fig, ax=plt.subplots(figsize=(12, 12), ncols=2, nrows=2, sharey=True, sharex=False)\n",
    "    for model, a in zip(['saumon2008', 'baraffe2003', 'marley2019', 'phillips2020'], np.concatenate(ax)):\n",
    "        \n",
    "        for idx, h in enumerate(wispsim.HS):\n",
    "            \n",
    "            ns=None\n",
    "            ns=((NUMBERS[model])[idx])*VOLUMES[idx]\n",
    "            \n",
    "            a.step(spgrid2, bin_by_spt_bin(wispsim.SPGRID,ns), \n",
    "                         where='mid', label='h={} pc'.format(h), color= cmap(cnorm(h/100)), linewidth=3)\n",
    "        \n",
    "        a.set_yscale('log')\n",
    "        a.errorbar(spgrid2,y2, yerr=dy2,fmt='o', color='k')\n",
    "        a.set_xlabel('SpT',fontsize=18)\n",
    "        a.set_ylabel('N',fontsize=18)\n",
    "        a.minorticks_on()\n",
    "            \n",
    "\n",
    "\n",
    "    ax[0][0].set_title('Model= SM08', fontsize=18)\n",
    "    ax[0][1].set_title('Model= B03', fontsize=18)\n",
    "    ax[1][0].set_title('Model= M19', fontsize=18)\n",
    "    ax[1][1].set_title('Model= P20', fontsize=18)\n",
    "\n",
    "    ax[0][0].errorbar(spgrid2,y2, yerr=dy2,fmt='o', color='k', label='observations')\n",
    "    ax[0][0].legend(fontsize=14, loc='upper right')\n",
    "    plt.tight_layout()\n",
    "    plt.savefig(wisps.OUTPUT_FIGURES+'/oberved_numbers.pdf', bbox_inches='tight')"
   ]
  },
  {
   "cell_type": "code",
   "execution_count": 4,
   "metadata": {},
   "outputs": [],
   "source": [
    "sgrid=wispsim.SPGRID\n",
    "pnts=wisps.OBSERVED_POINTINGS"
   ]
  },
  {
   "cell_type": "code",
   "execution_count": 5,
   "metadata": {},
   "outputs": [],
   "source": [
    "cands=pd.read_pickle(wisps.LIBRARIES+'/candidates.pkl')\n",
    "cands=cands[(cands.spt >=17) & (cands.snr1>=3)].reset_index(drop=True)\n",
    "tab=wisps.Annotator.reformat_table(cands)\n",
    "pnt_names=[x.name for x in pnts]"
   ]
  },
  {
   "cell_type": "code",
   "execution_count": 6,
   "metadata": {},
   "outputs": [],
   "source": [
    "tab['pnt']=tab['grism_id'].apply(get_pointing)\n",
    "tab['spt_val']=np.vstack(tab.spt.values)[:,0]\n",
    "obsmgs=tab[['F140W', 'F110W', 'F160W']].rename(columns={\"F110W\": \"F110\", \n",
    "                                                                    \"F140W\": \"F140\",\n",
    "                                                                    \"F160W\": \"F160\"}).to_dict('records')\n",
    "flags=[iswithin_mag_limits(x, y) for x, y in zip(obsmgs, tab.pnt.values)]\n",
    "\n",
    "cdf_to_use=tab[flags]\n",
    "nobs=wisps.custom_histogram(cdf_to_use.spt_val.apply(wisps.make_spt_number), sgrid, 1)\n",
    "\n",
    "spgrid2=['M7-L0', 'L0-L5', 'L5-T0', 'T0-T5', 'T5-Y0']"
   ]
  },
  {
   "cell_type": "code",
   "execution_count": 7,
   "metadata": {},
   "outputs": [],
   "source": [
    "NUMBERS=pd.read_pickle(wisps.OUTPUT_FILES+'/numbers_simulated.pkl.gz')"
   ]
  },
  {
   "cell_type": "code",
   "execution_count": 8,
   "metadata": {},
   "outputs": [],
   "source": [
    "volumes=[]\n",
    "for pnt in pnts:\n",
    "    vs=[]\n",
    "    for h in wispsim.HS:\n",
    "        vsx=[]\n",
    "        for g in wispsim.SPGRID:\n",
    "            vsx.append((pnt.volumes[h])[g])\n",
    "        vs.append(vsx)\n",
    "    volumes.append(vs)\n",
    "volumes=np.array(volumes)\n",
    "\n",
    "VOLUMES=np.nansum(volumes, axis=0)*4.1*(u.arcmin**2).to(u.radian**2)"
   ]
  },
  {
   "cell_type": "code",
   "execution_count": 9,
   "metadata": {},
   "outputs": [
    {
     "data": {
      "image/png": "[encoded data removed]",
      "text/plain": [
       "<Figure size 864x864 with 4 Axes>"
      ]
     },
     "metadata": {
      "needs_background": "light"
     },
     "output_type": "display_data"
    }
   ],
   "source": [
    " plot(NUMBERS, VOLUMES)"
   ]
  },
  {
   "cell_type": "code",
   "execution_count": 240,
   "metadata": {},
   "outputs": [],
   "source": [
    "y2=bin_by_spt_bin(wispsim.SPGRID,nobs)"
   ]
  },
  {
   "cell_type": "code",
   "execution_count": 241,
   "metadata": {},
   "outputs": [
    {
     "data": {
      "text/plain": [
       "[73, 14, 2, 2, 2]"
      ]
     },
     "execution_count": 241,
     "metadata": {},
     "output_type": "execute_result"
    }
   ],
   "source": [
    "y2"
   ]
  },
  {
   "cell_type": "code",
   "execution_count": 242,
   "metadata": {},
   "outputs": [],
   "source": [
    "#just for L dwarfs and T dwarfs\n",
    "y3=bin_by_spt_bin(wispsim.SPGRID,nobs, ltonly=True)"
   ]
  },
  {
   "cell_type": "code",
   "execution_count": 243,
   "metadata": {},
   "outputs": [
    {
     "data": {
      "text/plain": [
       "[16, 4]"
      ]
     },
     "execution_count": 243,
     "metadata": {},
     "output_type": "execute_result"
    }
   ],
   "source": [
    "y3"
   ]
  },
  {
   "cell_type": "code",
   "execution_count": 245,
   "metadata": {},
   "outputs": [],
   "source": [
    "y4=np.append(y2, y3)"
   ]
  },
  {
   "cell_type": "code",
   "execution_count": 247,
   "metadata": {},
   "outputs": [],
   "source": [
    "#PRINT THE BEST FIT NUMBER \n",
    "#best_fit={}\n",
    "numbers_fit={}\n",
    "for model in ['saumon2008', 'baraffe2003', 'marley2019', 'phillips2020']:\n",
    "        model_fit={}\n",
    "        model_number={}\n",
    "        for idx, h in enumerate(wispsim.HS):\n",
    "            ns=None\n",
    "            ns=np.array(((NUMBERS[model])[idx])*VOLUMES[idx])\n",
    "            binned=np.array(bin_by_spt_bin(wispsim.SPGRID,ns))\n",
    "            \n",
    "            binned_lt=np.array(bin_by_spt_bin(wispsim.SPGRID,ns, ltonly=True))\n",
    "            #add L and \n",
    "            #compute chi-squared\n",
    "            #print (ns)\n",
    "            #chisq= abs((y2-binned)**2/(y2))\n",
    "            #model_fit.update({h: chisq})\n",
    "            binned_total=np.append(binned, binned_lt)\n",
    "            model_number.update({h: binned_total})\n",
    "        # best_fit.update({model: model_fit})\n",
    "        numbers_fit.update({model: model_number})"
   ]
  },
  {
   "cell_type": "code",
   "execution_count": 248,
   "metadata": {},
   "outputs": [],
   "source": [
    "chisq_dicts=pd.DataFrame.from_records(best_fit)\n",
    "number_dicts=pd.DataFrame.from_records(numbers_fit)"
   ]
  },
  {
   "cell_type": "code",
   "execution_count": 264,
   "metadata": {},
   "outputs": [],
   "source": [
    "brfsm=np.vstack(number_dicts['saumon2008'].values)[:,-1]"
   ]
  },
  {
   "cell_type": "code",
   "execution_count": 265,
   "metadata": {},
   "outputs": [],
   "source": [
    "from scipy.interpolate import interp1d"
   ]
  },
  {
   "cell_type": "code",
   "execution_count": 266,
   "metadata": {},
   "outputs": [
    {
     "data": {
      "text/plain": [
       "Text(0.5, 0, 'N')"
      ]
     },
     "execution_count": 266,
     "metadata": {},
     "output_type": "execute_result"
    },
    {
     "data": {
      "image/png": "[encoded data removed]",
      "text/plain": [
       "<Figure size 432x288 with 1 Axes>"
      ]
     },
     "metadata": {
      "needs_background": "light"
     },
     "output_type": "display_data"
    }
   ],
   "source": [
    "plt.plot(brfsm, wispsim.HS, 'o')\n",
    "interpf =np.poly1d(np.polyfit(brfsm, wispsim.HS,2))\n",
    "plt.plot(brfsm, interpf(brfsm))\n",
    "plt.ylabel('h (expcted)', fontsize=18)\n",
    "plt.xlabel('N', fontsize=18)"
   ]
  },
  {
   "cell_type": "code",
   "execution_count": 252,
   "metadata": {},
   "outputs": [],
   "source": [
    "#draw a posson based on nobs\n",
    "npoisson= np.random.poisson(y2[-1], 100000).astype(float)\n",
    "npoisson=npoisson[np.logical_and(npoisson>=brfsm7[0], npoisson <=brfsm7[-1])]"
   ]
  },
  {
   "cell_type": "code",
   "execution_count": 253,
   "metadata": {},
   "outputs": [
    {
     "data": {
      "text/plain": [
       "(553.3773359492477, 2.2737367544323206e-13)"
      ]
     },
     "execution_count": 253,
     "metadata": {},
     "output_type": "execute_result"
    }
   ],
   "source": [
    "np.nanmean(interpf(npoisson)), np.nanstd(interpf(npoisson))"
   ]
  },
  {
   "cell_type": "code",
   "execution_count": 254,
   "metadata": {},
   "outputs": [
    {
     "data": {
      "text/plain": [
       "['M7-L0', 'L0-L5', 'L5-T0', 'T0-T5', 'T5-Y0']"
      ]
     },
     "execution_count": 254,
     "metadata": {},
     "output_type": "execute_result"
    }
   ],
   "source": [
    "spgrid2"
   ]
  },
  {
   "cell_type": "code",
   "execution_count": 300,
   "metadata": {},
   "outputs": [
    {
     "name": "stdout",
     "output_type": "stream",
     "text": [
      " scale height for model baraffe2003 and spt M7-L0 is 353.0 +/- 22.1657 \n",
      " scale height for model baraffe2003 and spt L0-L5 is 210.0 +/- 34.1617 \n",
      " scale height for model baraffe2003 and spt L5-T0 is 181.0 +/- 65.6149 \n",
      " scale height for model baraffe2003 and spt T0-T5 is 211.0 +/- 0.0 \n",
      " scale height for model baraffe2003 and spt T5-Y0 is nan +/- nan \n",
      " scale height for model marley2019 and spt M7-L0 is nan +/- nan \n",
      " scale height for model marley2019 and spt L0-L5 is 224.0 +/- 38.7432 \n",
      " scale height for model marley2019 and spt L5-T0 is 189.0 +/- 71.4278 \n",
      " scale height for model marley2019 and spt T0-T5 is 223.0 +/- 0.0 \n",
      " scale height for model marley2019 and spt T5-Y0 is nan +/- nan \n",
      " scale height for model phillips2020 and spt M7-L0 is nan +/- nan \n",
      " scale height for model phillips2020 and spt L0-L5 is 329.0 +/- 50.8304 \n",
      " scale height for model phillips2020 and spt L5-T0 is 172.0 +/- 64.6101 \n",
      " scale height for model phillips2020 and spt T0-T5 is 203.0 +/- 0.0 \n",
      " scale height for model phillips2020 and spt T5-Y0 is 376.0 +/- 0.0 \n",
      " scale height for model saumon2008 and spt M7-L0 is nan +/- nan \n",
      " scale height for model saumon2008 and spt L0-L5 is 209.0 +/- 33.8648 \n",
      " scale height for model saumon2008 and spt L5-T0 is 177.0 +/- 46.3519 \n",
      " scale height for model saumon2008 and spt T0-T5 is 272.0 +/- 90.1766 \n",
      " scale height for model saumon2008 and spt T5-Y0 is nan +/- nan \n"
     ]
    }
   ],
   "source": [
    "min_chi_ssqrs={}\n",
    "for c in number_dicts.columns:\n",
    "    min_vals={}\n",
    "    #for idx,s  in enumerate(np.append(spgrid2, ['L dwarfs', 'T dwarfs'])):\n",
    "    for idx,s  in enumerate(spgrid2):\n",
    "        #compare between subtypes\n",
    "        #predicted\n",
    "        vals=(np.vstack(number_dicts[c].values))[:,idx]\n",
    "        #observed\n",
    "        nreal= y2[idx]\n",
    "        #make an interpolation function\n",
    "        interpf = interp1d(vals, wispsim.HS)\n",
    "        #using a 2nd degree polynomial \n",
    "        #draw a bunch of random values based on a poisson distribution\n",
    "        npoisson=np.random.poisson(nreal, 100000).astype(float)\n",
    "        #stay within the range of possible values to avoid interpolation error\n",
    "        #i.e take this as a prior\n",
    "        npoisson=npoisson[np.logical_and(npoisson>=vals[0], npoisson <=vals[-1])]\n",
    "        #predict scale heights\n",
    "        predhs=interpf(npoisson)\n",
    "        #use a weighted mean and std \n",
    "        mean, unc= (np.nanmean(predhs), np.nanstd(predhs))\n",
    "        \n",
    "        min_vals.update({s:[np.round(mean), np.round(unc, 4)]})\n",
    "        #final minimal\n",
    "        print (' scale height for model {} and spt {} is {} +/- {} '.format(c, s, np.round(mean), np.round(unc, 4)))\n",
    "        \n",
    "    min_chi_ssqrs.update({c:min_vals})\n",
    "    "
   ]
  },
  {
   "cell_type": "code",
   "execution_count": 301,
   "metadata": {},
   "outputs": [
    {
     "data": {
      "text/html": [
       "<div>\n",
       "<style scoped>\n",
       "    .dataframe tbody tr th:only-of-type {\n",
       "        vertical-align: middle;\n",
       "    }\n",
       "\n",
       "    .dataframe tbody tr th {\n",
       "        vertical-align: top;\n",
       "    }\n",
       "\n",
       "    .dataframe thead th {\n",
       "        text-align: right;\n",
       "    }\n",
       "</style>\n",
       "<table border=\"1\" class=\"dataframe\">\n",
       "  <thead>\n",
       "    <tr style=\"text-align: right;\">\n",
       "      <th></th>\n",
       "      <th>baraffe2003</th>\n",
       "      <th>marley2019</th>\n",
       "      <th>phillips2020</th>\n",
       "      <th>saumon2008</th>\n",
       "    </tr>\n",
       "  </thead>\n",
       "  <tbody>\n",
       "    <tr>\n",
       "      <th>M7-L0</th>\n",
       "      <td>[353.0, 22.1657]</td>\n",
       "      <td>[nan, nan]</td>\n",
       "      <td>[nan, nan]</td>\n",
       "      <td>[nan, nan]</td>\n",
       "    </tr>\n",
       "    <tr>\n",
       "      <th>L0-L5</th>\n",
       "      <td>[210.0, 34.1617]</td>\n",
       "      <td>[224.0, 38.7432]</td>\n",
       "      <td>[329.0, 50.8304]</td>\n",
       "      <td>[209.0, 33.8648]</td>\n",
       "    </tr>\n",
       "    <tr>\n",
       "      <th>L5-T0</th>\n",
       "      <td>[181.0, 65.6149]</td>\n",
       "      <td>[189.0, 71.4278]</td>\n",
       "      <td>[172.0, 64.6101]</td>\n",
       "      <td>[177.0, 46.3519]</td>\n",
       "    </tr>\n",
       "    <tr>\n",
       "      <th>T0-T5</th>\n",
       "      <td>[211.0, 0.0]</td>\n",
       "      <td>[223.0, 0.0]</td>\n",
       "      <td>[203.0, 0.0]</td>\n",
       "      <td>[272.0, 90.1766]</td>\n",
       "    </tr>\n",
       "    <tr>\n",
       "      <th>T5-Y0</th>\n",
       "      <td>[nan, nan]</td>\n",
       "      <td>[nan, nan]</td>\n",
       "      <td>[376.0, 0.0]</td>\n",
       "      <td>[nan, nan]</td>\n",
       "    </tr>\n",
       "  </tbody>\n",
       "</table>\n",
       "</div>"
      ],
      "text/plain": [
       "            baraffe2003        marley2019      phillips2020        saumon2008\n",
       "M7-L0  [353.0, 22.1657]        [nan, nan]        [nan, nan]        [nan, nan]\n",
       "L0-L5  [210.0, 34.1617]  [224.0, 38.7432]  [329.0, 50.8304]  [209.0, 33.8648]\n",
       "L5-T0  [181.0, 65.6149]  [189.0, 71.4278]  [172.0, 64.6101]  [177.0, 46.3519]\n",
       "T0-T5      [211.0, 0.0]      [223.0, 0.0]      [203.0, 0.0]  [272.0, 90.1766]\n",
       "T5-Y0        [nan, nan]        [nan, nan]      [376.0, 0.0]        [nan, nan]"
      ]
     },
     "execution_count": 301,
     "metadata": {},
     "output_type": "execute_result"
    }
   ],
   "source": [
    "pd.DataFrame(min_chi_ssqrs)"
   ]
  },
  {
   "cell_type": "code",
   "execution_count": 302,
   "metadata": {},
   "outputs": [],
   "source": [
    "def propagate_uncertainties(row):\n",
    "    vals=np.vstack(row.values)[:,0]\n",
    "    uncs=np.vstack(row.values)[:,1]\n",
    "    \n",
    "    return round(np.nanmean(vals)), round(np.sqrt(np.nansum(uncs**2)))"
   ]
  },
  {
   "cell_type": "code",
   "execution_count": 303,
   "metadata": {},
   "outputs": [
    {
     "data": {
      "text/plain": [
       "M7-L0     (353, 22)\n",
       "L0-L5     (243, 80)\n",
       "L5-T0    (180, 125)\n",
       "T0-T5     (227, 90)\n",
       "T5-Y0      (376, 0)\n",
       "dtype: object"
      ]
     },
     "execution_count": 303,
     "metadata": {},
     "output_type": "execute_result"
    }
   ],
   "source": [
    "pd.DataFrame(min_chi_ssqrs).apply(propagate_uncertainties, axis=1)"
   ]
  },
  {
   "cell_type": "code",
   "execution_count": 304,
   "metadata": {},
   "outputs": [
    {
     "data": {
      "text/plain": [
       "301.5"
      ]
     },
     "execution_count": 304,
     "metadata": {},
     "output_type": "execute_result"
    }
   ],
   "source": [
    "(376+227)/2"
   ]
  },
  {
   "cell_type": "code",
   "execution_count": 305,
   "metadata": {},
   "outputs": [],
   "source": [
    "#use my velocity dispersion converter \n",
    "def velocity_dispersion(h, hunc):\n",
    "    #do a monte carlo uncertainty prop\n",
    "    hs= np.random.normal(h, hunc, 10000)\n",
    "    vals=np.sqrt((hs*68)/217*20)\n",
    "\n",
    "    return np.nanmean(vals), np.nanstd(vals)\n",
    "    \n",
    "vel_tables=pd.DataFrame(min_chi_ssqrs).apply(propagate_uncertainties, axis=1).apply(lambda x: velocity_dispersion(x[0], x[1]))"
   ]
  },
  {
   "cell_type": "code",
   "execution_count": 306,
   "metadata": {},
   "outputs": [],
   "source": [
    "brfvls=pd.DataFrame(min_chi_ssqrs).baraffe2003.iloc[0]"
   ]
  },
  {
   "cell_type": "code",
   "execution_count": 307,
   "metadata": {},
   "outputs": [],
   "source": [
    "vel_tables['M7-L0']=velocity_dispersion(brfvls[0], brfvls[1])"
   ]
  },
  {
   "cell_type": "code",
   "execution_count": 308,
   "metadata": {},
   "outputs": [],
   "source": [
    "#do monte carlo uncertainty propagation\n",
    "def get_age(sigma, sigmaunc, beta, tau1, sigma10):\n",
    "    sigmas=np.random.normal(sigma, sigmaunc, 10000)\n",
    "    vals=((sigmas/sigma10)**(1/beta))*(10+tau1)-tau1\n",
    "    return np.nanmean(vals), np.nanstd(vals)"
   ]
  },
  {
   "cell_type": "code",
   "execution_count": 309,
   "metadata": {},
   "outputs": [],
   "source": [
    "age_tables= vel_tables.apply(lambda x: get_age(x[0], x[1], 0.385, 0.261, 57.157))\n",
    "age_tables=age_tables.apply(lambda x:np.array(x)).apply(lambda x: np.round(x, 1))"
   ]
  },
  {
   "cell_type": "code",
   "execution_count": 310,
   "metadata": {},
   "outputs": [],
   "source": [
    "age_emp=pd.DataFrame()\n",
    "age_emp['subtype']=np.array(age_tables.index)\n",
    "age_emp['age']=np.vstack(age_tables.values)[:,0]\n",
    "age_emp['unc']=np.vstack(age_tables.values)[:,1]"
   ]
  },
  {
   "cell_type": "code",
   "execution_count": 311,
   "metadata": {},
   "outputs": [
    {
     "data": {
      "text/plain": [
       "M7-L0         (47.01137292919217, 1.4668271899744005)\n",
       "L0-L5         (38.469962363787246, 6.856670722002436)\n",
       "L5-T0        (33.708007198605905, 10.498682103879522)\n",
       "T0-T5          (36.99438463548936, 7.838663770320338)\n",
       "T5-Y0    (48.543770927406705, 1.4210854715202004e-14)\n",
       "dtype: object"
      ]
     },
     "execution_count": 311,
     "metadata": {},
     "output_type": "execute_result"
    }
   ],
   "source": [
    "vel_tables"
   ]
  },
  {
   "cell_type": "code",
   "execution_count": 312,
   "metadata": {},
   "outputs": [],
   "source": [
    "#do a global scale height\n",
    "#convert velocity dispersion to age using emprical relations\n",
    "#compare this to the median age of the population "
   ]
  },
  {
   "cell_type": "code",
   "execution_count": 321,
   "metadata": {},
   "outputs": [],
   "source": [
    "#binning class \n",
    "def istoldwarf(x):\n",
    "    if np.logical_or(x >=17, x<20):\n",
    "        return 'M dwarfs'\n",
    "    elif np.logical_or(x >=20, x<30):\n",
    "        return 'L dwarfs'\n",
    "    elif np.logical_or(x >=30,  x<40):\n",
    "        return 'T dwarfs'\n",
    "    else: \n",
    "        return ''"
   ]
  },
  {
   "cell_type": "code",
   "execution_count": 322,
   "metadata": {},
   "outputs": [
    {
     "name": "stdout",
     "output_type": "stream",
     "text": [
      "982178\n",
      "1060630\n",
      "972469\n",
      "381757\n"
     ]
    }
   ],
   "source": [
    "#plot age with scale heights\n",
    "age_dictionaries={}\n",
    "for model in ['saumon2008', 'baraffe2003', 'marley2019', 'phillips2020']:\n",
    "    dfs=[]\n",
    "    for hidx in wispsim.HS:\n",
    "        dfs.append(pd.read_hdf(wisps.OUTPUT_FILES+'/final_simulated_sample.hdf', key=str(model)+str('h')+str(hidx)))\n",
    "        \n",
    "    df=pd.concat(dfs)\n",
    "    print (len(df))\n",
    "    cutdf_lblded=wisps.Annotator.group_by_spt(df, spt_label='spt', assign_number=False).rename(columns={'spt_range': 'subtype'})\n",
    "    cutdf_lblded['spectclass']=  cutdf_lblded.spt.apply(lambda x: istoldwarf(x))\n",
    "    final_df=cutdf_lblded[~((cutdf_lblded.spectclass=='') | (cutdf_lblded.subtype=='')|   (cutdf_lblded.subtype=='trash'))]\n",
    "    age_dictionaries[model]=final_df"
   ]
  },
  {
   "cell_type": "code",
   "execution_count": 315,
   "metadata": {},
   "outputs": [],
   "source": [
    "#change the tdwarf uncertainty\n",
    "age_emp.unc.loc[4]=1."
   ]
  },
  {
   "cell_type": "code",
   "execution_count": 325,
   "metadata": {},
   "outputs": [
    {
     "data": {
      "text/html": [
       "<div>\n",
       "<style scoped>\n",
       "    .dataframe tbody tr th:only-of-type {\n",
       "        vertical-align: middle;\n",
       "    }\n",
       "\n",
       "    .dataframe tbody tr th {\n",
       "        vertical-align: top;\n",
       "    }\n",
       "\n",
       "    .dataframe thead th {\n",
       "        text-align: right;\n",
       "    }\n",
       "</style>\n",
       "<table border=\"1\" class=\"dataframe\">\n",
       "  <thead>\n",
       "    <tr style=\"text-align: right;\">\n",
       "      <th></th>\n",
       "      <th>spt</th>\n",
       "      <th>teff</th>\n",
       "      <th>age</th>\n",
       "      <th>slprob</th>\n",
       "      <th>snr</th>\n",
       "      <th>appF140</th>\n",
       "      <th>appF110</th>\n",
       "      <th>appF160</th>\n",
       "      <th>pntname</th>\n",
       "      <th>dist</th>\n",
       "      <th>pnt</th>\n",
       "      <th>subtype</th>\n",
       "      <th>data_type</th>\n",
       "      <th>spectclass</th>\n",
       "    </tr>\n",
       "  </thead>\n",
       "  <tbody>\n",
       "  </tbody>\n",
       "</table>\n",
       "</div>"
      ],
      "text/plain": [
       "Empty DataFrame\n",
       "Columns: [spt, teff, age, slprob, snr, appF140, appF110, appF160, pntname, dist, pnt, subtype, data_type, spectclass]\n",
       "Index: []"
      ]
     },
     "execution_count": 325,
     "metadata": {},
     "output_type": "execute_result"
    }
   ],
   "source": [
    "dfn[dfn.spectclass=='L dwarfs']"
   ]
  },
  {
   "cell_type": "code",
   "execution_count": 324,
   "metadata": {},
   "outputs": [
    {
     "data": {
      "image/png": "[encoded data removed]",
      "text/plain": [
       "<Figure size 864x864 with 4 Axes>"
      ]
     },
     "metadata": {
      "needs_background": "light"
     },
     "output_type": "display_data"
    }
   ],
   "source": [
    "\n",
    "fig, ax=plt.subplots(figsize=(12, 12), ncols=2, nrows=2, sharex=True, sharey='row')\n",
    "\n",
    "for model, a in zip(['saumon2008', 'baraffe2003', 'marley2019', 'phillips2020'], np.concatenate(ax)):\n",
    "    \n",
    "    dfn=age_dictionaries[model].replace('T5-T9', 'T5-Y0')\n",
    "    #change T5-T9 to T5-Y0\n",
    "\n",
    "    sns.boxplot(y=dfn.age.values*dfn.slprob, x=dfn.subtype, ax=a,\n",
    "                color='#FF851B', order=['M7-L0', 'L0-L5', 'L5-T0', 'T0-T5', 'T5-Y0'])\n",
    "    \n",
    "    #sns.boxplot(y=dfn.age.values*dfn.slprob, x=dfn.spectclass, ax=a,\n",
    "    #            color='#FF851B')\n",
    "    \n",
    "    #upper and low limit of the error\n",
    "    lolims = np.array([0, 0, 0, 0,1], dtype=bool)\n",
    "    \n",
    "    a.errorbar(age_emp.subtype,  age_emp.age, yerr=age_emp.unc, color='#001f3f', fmt='o',lolims=lolims, ms=20, lw=3)\n",
    "    \n",
    "    a.set_xlabel('Subtype Group', fontsize=18)\n",
    "    a.set_ylabel('Age (Gyr)', fontsize=18)\n",
    "    a.minorticks_on()\n",
    "\n",
    "ax[0][0].set_title('Model= SM08', fontsize=18)\n",
    "ax[0][1].set_title('Model= B03', fontsize=18)\n",
    "ax[1][0].set_title('Model= M19', fontsize=18)\n",
    "ax[1][1].set_title('Model= P20', fontsize=18)\n",
    "\n",
    "plt.tight_layout()\n",
    "\n",
    "\n",
    "plt.savefig(wisps.OUTPUT_FIGURES+'/age_comparison.pdf', bbox_inches='tight')\n"
   ]
  },
  {
   "cell_type": "code",
   "execution_count": null,
   "metadata": {},
   "outputs": [],
   "source": []
  }
 ],
 "metadata": {
  "kernelspec": {
   "display_name": "Python 3",
   "language": "python",
   "name": "python3"
  },
  "language_info": {
   "codemirror_mode": {
    "name": "ipython",
    "version": 3
   },
   "file_extension": ".py",
   "mimetype": "text/x-python",
   "name": "python",
   "nbconvert_exporter": "python",
   "pygments_lexer": "ipython3",
   "version": "3.7.7"
  }
 },
 "nbformat": 4,
 "nbformat_minor": 4
}
