{
 "cells": [
  {
   "cell_type": "code",
   "execution_count": 1,
   "metadata": {},
   "outputs": [],
   "source": [
    "import wisps\n",
    "import numpy as np\n",
    "import matplotlib.pyplot as plt\n",
    "import wisps.simulations as wispsim\n",
    "import pandas as pd\n",
    "\n",
    "import seaborn as sns\n",
    "from matplotlib.colors import Normalize\n",
    "import astropy.units as u \n",
    "\n",
    "%matplotlib inline"
   ]
  },
  {
   "cell_type": "code",
   "execution_count": 2,
   "metadata": {},
   "outputs": [],
   "source": [
    "import seaborn as sns\n",
    "import matplotlib\n",
    "\n",
    "#cmap= sns.color_palette(\"coolwarm\", 8, as_cmap=True)\n",
    "cmap=matplotlib.cm.get_cmap('coolwarm')\n",
    "cnorm=Normalize(wispsim.HS[0]/100, (wispsim.HS[-1])/100)"
   ]
  },
  {
   "cell_type": "code",
   "execution_count": 70,
   "metadata": {},
   "outputs": [],
   "source": [
    "def bin_by_spt_bin(sp_types, number, ltonly=False):\n",
    "    ranges=[[17, 20], [20, 25], [25, 30], [30, 35], [35, 40]]\n",
    "    if ltonly:\n",
    "        ranges=[[20, 30], [30, 41]]\n",
    "    numbers=[]\n",
    "    for r in ranges:\n",
    "        idx= np.logical_and((r[0]<=sp_types), (r[1]>sp_types))\n",
    "        numbers.append(np.nansum(number[idx]))\n",
    "    return numbers\n",
    "\n",
    "\n",
    "def get_pointing(grism_id):\n",
    "    if grism_id.startswith('par'):\n",
    "        pntname=grism_id.lower().split('-')[0]\n",
    "    else:\n",
    "        pntname=grism_id.lower().split('-g141')[0]\n",
    "    loc=pnt_names.index(pntname)\n",
    "    return np.array(pnts)[loc]\n",
    "\n",
    "\n",
    "def iswithin_mag_limits(mags, pnt):\n",
    "    #mgs is a dictionary\n",
    "    flags=[]\n",
    "    for k in wispsim.REDEFINED_MAG_LIMITS.keys():\n",
    "        if k =='F110' and pnt.survey =='hst3d':\n",
    "            flags.append(True)\n",
    "        else:\n",
    "            flags.append(mags[k] < wispsim.REDEFINED_MAG_LIMITS[k])\n",
    "    return np.logical_or.reduce(flags)\n",
    "\n",
    "\n",
    "\n",
    "def plot(NUMBERS, VOLUMES):\n",
    "    # In[ ]:\n",
    "    y2=bin_by_spt_bin(wispsim.SPGRID,nobs)\n",
    "    dy2=np.sqrt(y2)\n",
    "\n",
    "    fig, ax=plt.subplots(figsize=(12, 12), ncols=2, nrows=2, sharey=True, sharex=False)\n",
    "    for model, a in zip(['saumon2008', 'baraffe2003', 'marley2019', 'phillips2020'], np.concatenate(ax)):\n",
    "        \n",
    "        for idx, h in enumerate(wispsim.HS):\n",
    "            \n",
    "            ns=None\n",
    "            ns=((NUMBERS[model])[idx])*VOLUMES[idx]\n",
    "            \n",
    "            a.step(spgrid2, bin_by_spt_bin(wispsim.SPGRID,ns), \n",
    "                         where='mid', label='h={} pc'.format(h), color= cmap(cnorm(h/100)), linewidth=3)\n",
    "        \n",
    "        a.set_yscale('log')\n",
    "        a.errorbar(spgrid2,y2, yerr=dy2,fmt='o', color='k')\n",
    "        a.set_xlabel('SpT',fontsize=18)\n",
    "        a.set_ylabel('N',fontsize=18)\n",
    "        a.minorticks_on()\n",
    "            \n",
    "\n",
    "\n",
    "    ax[0][0].set_title('Model= SM08', fontsize=18)\n",
    "    ax[0][1].set_title('Model= B03', fontsize=18)\n",
    "    ax[1][0].set_title('Model= M19', fontsize=18)\n",
    "    ax[1][1].set_title('Model= P20', fontsize=18)\n",
    "\n",
    "    ax[0][0].errorbar(spgrid2,y2, yerr=dy2,fmt='o', color='k', label='observations')\n",
    "    ax[0][0].legend(fontsize=14, loc='upper right')\n",
    "    plt.tight_layout()\n",
    "    plt.savefig(wisps.OUTPUT_FIGURES+'/oberved_numbers.pdf', bbox_inches='tight')"
   ]
  },
  {
   "cell_type": "code",
   "execution_count": 71,
   "metadata": {},
   "outputs": [],
   "source": [
    "sgrid=wispsim.SPGRID\n",
    "pnts=wisps.OBSERVED_POINTINGS"
   ]
  },
  {
   "cell_type": "code",
   "execution_count": 72,
   "metadata": {},
   "outputs": [],
   "source": [
    "cands=pd.read_pickle(wisps.LIBRARIES+'/real_ucds.pkl')\n",
    "cands=cands[(cands.spt >=17) & (cands.snr1>=3)].reset_index(drop=True)\n",
    "tab=wisps.Annotator.reformat_table(cands)\n",
    "pnt_names=[x.name for x in pnts]"
   ]
  },
  {
   "cell_type": "code",
   "execution_count": 73,
   "metadata": {},
   "outputs": [],
   "source": [
    "tab['pnt']=tab['grism_id'].apply(get_pointing)\n",
    "tab['spt_val']=np.vstack(tab.spt.values)[:,0]\n",
    "obsmgs=tab[['F140W', 'F110W', 'F160W']].rename(columns={\"F110W\": \"F110\", \n",
    "                                                                    \"F140W\": \"F140\",\n",
    "                                                                    \"F160W\": \"F160\"}).to_dict('records')\n",
    "flags=[iswithin_mag_limits(x, y) for x, y in zip(obsmgs, tab.pnt.values)]\n",
    "\n",
    "cdf_to_use=tab[flags]\n",
    "nobs=wisps.custom_histogram(cdf_to_use.spt_val.apply(wisps.make_spt_number), sgrid, 1)\n",
    "\n",
    "spgrid2=['M7-L0', 'L0-L5', 'L5-T0', 'T0-T5', 'T5-Y0']"
   ]
  },
  {
   "cell_type": "code",
   "execution_count": 74,
   "metadata": {},
   "outputs": [],
   "source": [
    "NUMBERS=pd.read_pickle(wisps.OUTPUT_FILES+'/numbers_simulated.pkl.gz')"
   ]
  },
  {
   "cell_type": "code",
   "execution_count": 75,
   "metadata": {},
   "outputs": [],
   "source": [
    "volumes=[]\n",
    "for pnt in pnts:\n",
    "    vs=[]\n",
    "    for h in wispsim.HS:\n",
    "        vsx=[]\n",
    "        for g in wispsim.SPGRID:\n",
    "            vsx.append((pnt.volumes[h])[g])\n",
    "        vs.append(vsx)\n",
    "    volumes.append(vs)\n",
    "volumes=np.array(volumes)\n",
    "\n",
    "VOLUMES=np.nansum(volumes, axis=0)*4.1*(u.arcmin**2).to(u.radian**2)"
   ]
  },
  {
   "cell_type": "code",
   "execution_count": 76,
   "metadata": {},
   "outputs": [
    {
     "data": {
      "image/png": "[encoded data removed]",
      "text/plain": [
       "<Figure size 864x864 with 4 Axes>"
      ]
     },
     "metadata": {
      "needs_background": "light"
     },
     "output_type": "display_data"
    }
   ],
   "source": [
    " plot(NUMBERS, VOLUMES)"
   ]
  },
  {
   "cell_type": "code",
   "execution_count": 77,
   "metadata": {},
   "outputs": [],
   "source": [
    "y2=bin_by_spt_bin(wispsim.SPGRID,nobs)"
   ]
  },
  {
   "cell_type": "code",
   "execution_count": 78,
   "metadata": {},
   "outputs": [
    {
     "data": {
      "text/plain": [
       "[142, 24, 5, 4, 4]"
      ]
     },
     "execution_count": 78,
     "metadata": {},
     "output_type": "execute_result"
    }
   ],
   "source": [
    "y2"
   ]
  },
  {
   "cell_type": "code",
   "execution_count": 79,
   "metadata": {},
   "outputs": [],
   "source": [
    "#just for L dwarfs and T dwarfs\n",
    "y3=bin_by_spt_bin(wispsim.SPGRID,nobs, ltonly=True)"
   ]
  },
  {
   "cell_type": "code",
   "execution_count": 80,
   "metadata": {},
   "outputs": [
    {
     "data": {
      "text/plain": [
       "[29, 8]"
      ]
     },
     "execution_count": 80,
     "metadata": {},
     "output_type": "execute_result"
    }
   ],
   "source": [
    "y3"
   ]
  },
  {
   "cell_type": "code",
   "execution_count": 81,
   "metadata": {},
   "outputs": [],
   "source": [
    "y4=np.append(y2, y3)"
   ]
  },
  {
   "cell_type": "code",
   "execution_count": 82,
   "metadata": {},
   "outputs": [],
   "source": [
    "#PRINT THE BEST FIT NUMBER \n",
    "#best_fit={}\n",
    "numbers_fit={}\n",
    "for model in ['saumon2008', 'baraffe2003', 'marley2019', 'phillips2020']:\n",
    "        model_fit={}\n",
    "        model_number={}\n",
    "        for idx, h in enumerate(wispsim.HS):\n",
    "            ns=None\n",
    "            ns=np.array(((NUMBERS[model])[idx])*VOLUMES[idx])\n",
    "            binned=np.array(bin_by_spt_bin(wispsim.SPGRID,ns))\n",
    "            \n",
    "            binned_lt=np.array(bin_by_spt_bin(wispsim.SPGRID,ns, ltonly=True))\n",
    "            #add L and \n",
    "            #compute chi-squared\n",
    "            #print (ns)\n",
    "            #chisq= abs((y2-binned)**2/(y2))\n",
    "            #model_fit.update({h: chisq})\n",
    "            binned_total=np.append(binned, binned_lt)\n",
    "            model_number.update({h: binned_total})\n",
    "        # best_fit.update({model: model_fit})\n",
    "        numbers_fit.update({model: model_number})"
   ]
  },
  {
   "cell_type": "code",
   "execution_count": 83,
   "metadata": {},
   "outputs": [],
   "source": [
    "#chisq_dicts=pd.DataFrame.from_records(best_fit)\n",
    "number_dicts=pd.DataFrame.from_records(numbers_fit)"
   ]
  },
  {
   "cell_type": "code",
   "execution_count": 84,
   "metadata": {},
   "outputs": [],
   "source": [
    "from scipy.interpolate import interp1d"
   ]
  },
  {
   "cell_type": "code",
   "execution_count": 104,
   "metadata": {},
   "outputs": [
    {
     "data": {
      "text/plain": [
       "Text(0.5, 0, 'N')"
      ]
     },
     "execution_count": 104,
     "metadata": {},
     "output_type": "execute_result"
    },
    {
     "data": {
      "image/png": "[encoded data removed]",
      "text/plain": [
       "<Figure size 432x288 with 1 Axes>"
      ]
     },
     "metadata": {
      "needs_background": "light"
     },
     "output_type": "display_data"
    }
   ],
   "source": [
    "plt.plot(np.vstack(number_dicts['saumon2008'].values)[:,-2], wispsim.HS, 'o-')\n",
    "plt.plot(np.vstack(number_dicts['marley2019'].values)[:,-2], wispsim.HS, 'o-')\n",
    "plt.plot(np.vstack(number_dicts['phillips2020'].values)[:,-2], wispsim.HS, 'o-')\n",
    "plt.plot(np.vstack(number_dicts['baraffe2003'].values)[:,-2], wispsim.HS, 'o-')\n",
    "\n",
    "#plt.plot(brfsm, interpf(brfsm))\n",
    "plt.ylabel('h (expcted)', fontsize=18)\n",
    "plt.xlabel('N', fontsize=18)"
   ]
  },
  {
   "cell_type": "code",
   "execution_count": 86,
   "metadata": {},
   "outputs": [
    {
     "data": {
      "text/plain": [
       "Index(['baraffe2003', 'marley2019', 'phillips2020', 'saumon2008'], dtype='object')"
      ]
     },
     "execution_count": 86,
     "metadata": {},
     "output_type": "execute_result"
    }
   ],
   "source": [
    "number_dicts.columns"
   ]
  },
  {
   "cell_type": "code",
   "execution_count": 87,
   "metadata": {},
   "outputs": [
    {
     "name": "stdout",
     "output_type": "stream",
     "text": [
      " scale height for model baraffe2003 and spt M7-L0 is 378.0 +/- 12.581 \n",
      " scale height for model baraffe2003 and spt L0-L5 is 219.0 +/- 25.2236 \n",
      " scale height for model baraffe2003 and spt L5-T0 is 232.0 +/- 68.2421 \n",
      " scale height for model baraffe2003 and spt T0-T5 is 220.0 +/- 50.7203 \n",
      " scale height for model baraffe2003 and spt T5-Y0 is 188.0 +/- 0.0 \n",
      " scale height for model marley2019 and spt M7-L0 is nan +/- nan \n",
      " scale height for model marley2019 and spt L0-L5 is 233.0 +/- 28.6819 \n",
      " scale height for model marley2019 and spt L5-T0 is 232.0 +/- 64.666 \n",
      " scale height for model marley2019 and spt T0-T5 is 230.0 +/- 54.5234 \n",
      " scale height for model marley2019 and spt T5-Y0 is 183.0 +/- 0.0 \n",
      " scale height for model phillips2020 and spt M7-L0 is nan +/- nan \n",
      " scale height for model phillips2020 and spt L0-L5 is 343.0 +/- 38.1124 \n",
      " scale height for model phillips2020 and spt L5-T0 is 222.0 +/- 67.3315 \n",
      " scale height for model phillips2020 and spt T0-T5 is 292.0 +/- 99.8767 \n",
      " scale height for model phillips2020 and spt T5-Y0 is 319.0 +/- 105.1253 \n",
      " scale height for model saumon2008 and spt M7-L0 is nan +/- nan \n",
      " scale height for model saumon2008 and spt L0-L5 is 218.0 +/- 24.6493 \n",
      " scale height for model saumon2008 and spt L5-T0 is 192.0 +/- 57.3976 \n",
      " scale height for model saumon2008 and spt T0-T5 is 250.0 +/- 78.3552 \n",
      " scale height for model saumon2008 and spt T5-Y0 is 215.0 +/- 0.0 \n"
     ]
    }
   ],
   "source": [
    "min_chi_ssqrs={}\n",
    "for c in number_dicts.columns:\n",
    "    min_vals={}\n",
    "    #for idx,s  in enumerate(np.append(spgrid2, ['L dwarfs', 'T dwarfs'])):\n",
    "    for idx,s  in enumerate(spgrid2):\n",
    "        #compare between subtypes\n",
    "        #predicted\n",
    "        vals=(np.vstack(number_dicts[c].values))[:,idx]\n",
    "        #observed\n",
    "        nreal= y2[idx]\n",
    "        #make an interpolation function\n",
    "        interpf = interp1d(vals, wispsim.HS)\n",
    "        #using a 2nd degree polynomial \n",
    "        #draw a bunch of random values based on a poisson distribution\n",
    "        npoisson=np.random.poisson(nreal, 100000).astype(float)\n",
    "        #stay within the range of possible values to avoid interpolation error\n",
    "        #i.e take this as a prior\n",
    "        npoisson=npoisson[np.logical_and(npoisson>=vals[0], npoisson <=vals[-1])]\n",
    "        #predict scale heights\n",
    "        predhs=interpf(npoisson)\n",
    "        #use a weighted mean and std \n",
    "        mean, unc= (np.nanmean(predhs), np.nanstd(predhs))\n",
    "        \n",
    "        min_vals.update({s:[np.round(mean), np.round(unc, 4)]})\n",
    "        #final minimal\n",
    "        print (' scale height for model {} and spt {} is {} +/- {} '.format(c, s, np.round(mean), np.round(unc, 4)))\n",
    "        \n",
    "    min_chi_ssqrs.update({c:min_vals})\n",
    "    "
   ]
  },
  {
   "cell_type": "code",
   "execution_count": 88,
   "metadata": {},
   "outputs": [
    {
     "data": {
      "text/html": [
       "<div>\n",
       "<style scoped>\n",
       "    .dataframe tbody tr th:only-of-type {\n",
       "        vertical-align: middle;\n",
       "    }\n",
       "\n",
       "    .dataframe tbody tr th {\n",
       "        vertical-align: top;\n",
       "    }\n",
       "\n",
       "    .dataframe thead th {\n",
       "        text-align: right;\n",
       "    }\n",
       "</style>\n",
       "<table border=\"1\" class=\"dataframe\">\n",
       "  <thead>\n",
       "    <tr style=\"text-align: right;\">\n",
       "      <th></th>\n",
       "      <th>baraffe2003</th>\n",
       "      <th>marley2019</th>\n",
       "      <th>phillips2020</th>\n",
       "      <th>saumon2008</th>\n",
       "    </tr>\n",
       "  </thead>\n",
       "  <tbody>\n",
       "    <tr>\n",
       "      <th>M7-L0</th>\n",
       "      <td>[378.0, 12.581]</td>\n",
       "      <td>[nan, nan]</td>\n",
       "      <td>[nan, nan]</td>\n",
       "      <td>[nan, nan]</td>\n",
       "    </tr>\n",
       "    <tr>\n",
       "      <th>L0-L5</th>\n",
       "      <td>[219.0, 25.2236]</td>\n",
       "      <td>[233.0, 28.6819]</td>\n",
       "      <td>[343.0, 38.1124]</td>\n",
       "      <td>[218.0, 24.6493]</td>\n",
       "    </tr>\n",
       "    <tr>\n",
       "      <th>L5-T0</th>\n",
       "      <td>[232.0, 68.2421]</td>\n",
       "      <td>[232.0, 64.666]</td>\n",
       "      <td>[222.0, 67.3315]</td>\n",
       "      <td>[192.0, 57.3976]</td>\n",
       "    </tr>\n",
       "    <tr>\n",
       "      <th>T0-T5</th>\n",
       "      <td>[220.0, 50.7203]</td>\n",
       "      <td>[230.0, 54.5234]</td>\n",
       "      <td>[292.0, 99.8767]</td>\n",
       "      <td>[250.0, 78.3552]</td>\n",
       "    </tr>\n",
       "    <tr>\n",
       "      <th>T5-Y0</th>\n",
       "      <td>[188.0, 0.0]</td>\n",
       "      <td>[183.0, 0.0]</td>\n",
       "      <td>[319.0, 105.1253]</td>\n",
       "      <td>[215.0, 0.0]</td>\n",
       "    </tr>\n",
       "  </tbody>\n",
       "</table>\n",
       "</div>"
      ],
      "text/plain": [
       "            baraffe2003        marley2019       phillips2020        saumon2008\n",
       "M7-L0   [378.0, 12.581]        [nan, nan]         [nan, nan]        [nan, nan]\n",
       "L0-L5  [219.0, 25.2236]  [233.0, 28.6819]   [343.0, 38.1124]  [218.0, 24.6493]\n",
       "L5-T0  [232.0, 68.2421]   [232.0, 64.666]   [222.0, 67.3315]  [192.0, 57.3976]\n",
       "T0-T5  [220.0, 50.7203]  [230.0, 54.5234]   [292.0, 99.8767]  [250.0, 78.3552]\n",
       "T5-Y0      [188.0, 0.0]      [183.0, 0.0]  [319.0, 105.1253]      [215.0, 0.0]"
      ]
     },
     "execution_count": 88,
     "metadata": {},
     "output_type": "execute_result"
    }
   ],
   "source": [
    "pd.DataFrame(min_chi_ssqrs)"
   ]
  },
  {
   "cell_type": "code",
   "execution_count": 89,
   "metadata": {},
   "outputs": [],
   "source": [
    "def propagate_uncertainties(row):\n",
    "    vals=np.vstack(row.values)[:,0]\n",
    "    uncs=np.vstack(row.values)[:,1]\n",
    "    \n",
    "    return round(np.nanmean(vals)), round(np.sqrt(np.nansum(uncs**2)))"
   ]
  },
  {
   "cell_type": "code",
   "execution_count": 90,
   "metadata": {},
   "outputs": [
    {
     "data": {
      "text/plain": [
       "M7-L0     (378.0, 13.0)\n",
       "L0-L5     (253.0, 59.0)\n",
       "L5-T0    (220.0, 129.0)\n",
       "T0-T5    (248.0, 147.0)\n",
       "T5-Y0    (226.0, 105.0)\n",
       "dtype: object"
      ]
     },
     "execution_count": 90,
     "metadata": {},
     "output_type": "execute_result"
    }
   ],
   "source": [
    "pd.DataFrame(min_chi_ssqrs).apply(propagate_uncertainties, axis=1)"
   ]
  },
  {
   "cell_type": "code",
   "execution_count": 91,
   "metadata": {},
   "outputs": [
    {
     "data": {
      "text/plain": [
       "301.5"
      ]
     },
     "execution_count": 91,
     "metadata": {},
     "output_type": "execute_result"
    }
   ],
   "source": [
    "(376+227)/2"
   ]
  },
  {
   "cell_type": "code",
   "execution_count": 92,
   "metadata": {},
   "outputs": [],
   "source": [
    "#use my velocity dispersion converter \n",
    "def velocity_dispersion(h, hunc):\n",
    "    #do a monte carlo uncertainty prop\n",
    "    hs= np.random.normal(h, hunc, 10000)\n",
    "    vals=np.sqrt((hs*68)/217*20)\n",
    "\n",
    "    return np.nanmean(vals), np.nanstd(vals)\n",
    "    \n",
    "vel_tables=pd.DataFrame(min_chi_ssqrs).apply(propagate_uncertainties, axis=1).apply(lambda x: velocity_dispersion(x[0], x[1]))"
   ]
  },
  {
   "cell_type": "code",
   "execution_count": 93,
   "metadata": {},
   "outputs": [],
   "source": [
    "brfvls=pd.DataFrame(min_chi_ssqrs).baraffe2003.iloc[0]"
   ]
  },
  {
   "cell_type": "code",
   "execution_count": 94,
   "metadata": {},
   "outputs": [],
   "source": [
    "vel_tables['M7-L0']=velocity_dispersion(brfvls[0], brfvls[1])"
   ]
  },
  {
   "cell_type": "code",
   "execution_count": 95,
   "metadata": {},
   "outputs": [],
   "source": [
    "#do monte carlo uncertainty propagation\n",
    "def get_age(sigma, sigmaunc, beta, tau1, sigma10):\n",
    "    sigmas=np.random.normal(sigma, sigmaunc, 10000)\n",
    "    vals=((sigmas/sigma10)**(1/beta))*(10+tau1)-tau1\n",
    "    return np.nanmean(vals), np.nanstd(vals)"
   ]
  },
  {
   "cell_type": "code",
   "execution_count": 96,
   "metadata": {},
   "outputs": [],
   "source": [
    "age_tables= vel_tables.apply(lambda x: get_age(x[0], x[1], 0.385, 0.261, 57.157))\n",
    "age_tables=age_tables.apply(lambda x:np.array(x)).apply(lambda x: np.round(x, 1))"
   ]
  },
  {
   "cell_type": "code",
   "execution_count": 97,
   "metadata": {},
   "outputs": [],
   "source": [
    "age_emp=pd.DataFrame()\n",
    "age_emp['subtype']=np.array(age_tables.index)\n",
    "age_emp['age']=np.vstack(age_tables.values)[:,0]\n",
    "age_emp['unc']=np.vstack(age_tables.values)[:,1]"
   ]
  },
  {
   "cell_type": "code",
   "execution_count": 98,
   "metadata": {},
   "outputs": [
    {
     "data": {
      "text/plain": [
       "M7-L0     (48.66094079174169, 0.8138136538980316)\n",
       "L0-L5      (39.52164175270598, 4.807120915741931)\n",
       "L5-T0    (36.673707465468176, 10.469138594299626)\n",
       "T0-T5     (39.11159122683204, 11.261314906827542)\n",
       "T5-Y0      (36.95232845825992, 8.916140343604006)\n",
       "dtype: object"
      ]
     },
     "execution_count": 98,
     "metadata": {},
     "output_type": "execute_result"
    }
   ],
   "source": [
    "vel_tables"
   ]
  },
  {
   "cell_type": "code",
   "execution_count": 99,
   "metadata": {},
   "outputs": [],
   "source": [
    "#do a global scale height\n",
    "#convert velocity dispersion to age using emprical relations\n",
    "#compare this to the median age of the population "
   ]
  },
  {
   "cell_type": "code",
   "execution_count": 100,
   "metadata": {},
   "outputs": [],
   "source": [
    "#binning class \n",
    "def istoldwarf(x):\n",
    "    if np.logical_or(x >=17, x<20):\n",
    "        return 'M dwarfs'\n",
    "    elif np.logical_or(x >=20, x<30):\n",
    "        return 'L dwarfs'\n",
    "    elif np.logical_or(x >=30,  x<40):\n",
    "        return 'T dwarfs'\n",
    "    else: \n",
    "        return ''"
   ]
  },
  {
   "cell_type": "code",
   "execution_count": 101,
   "metadata": {},
   "outputs": [
    {
     "name": "stdout",
     "output_type": "stream",
     "text": [
      "1123380\n",
      "1215364\n",
      "1111967\n",
      "444251\n"
     ]
    }
   ],
   "source": [
    "#plot age with scale heights\n",
    "age_dictionaries={}\n",
    "for model in ['saumon2008', 'baraffe2003', 'marley2019', 'phillips2020']:\n",
    "    dfs=[]\n",
    "    for hidx in wispsim.HS:\n",
    "        dfs.append(pd.read_hdf(wisps.OUTPUT_FILES+'/final_simulated_sample.5', key=str(model)+str('h')+str(hidx)))\n",
    "        \n",
    "    df=pd.concat(dfs)\n",
    "    print (len(df))\n",
    "    cutdf_lblded=wisps.Annotator.group_by_spt(df, spt_label='spt', assign_number=False).rename(columns={'spt_range': 'subtype'})\n",
    "    cutdf_lblded['spectclass']=  cutdf_lblded.spt.apply(lambda x: istoldwarf(x))\n",
    "    final_df=cutdf_lblded[~((cutdf_lblded.spectclass=='') | (cutdf_lblded.subtype=='')|   (cutdf_lblded.subtype=='trash'))]\n",
    "    age_dictionaries[model]=final_df"
   ]
  },
  {
   "cell_type": "code",
   "execution_count": 102,
   "metadata": {},
   "outputs": [],
   "source": [
    "#change the tdwarf uncertainty\n",
    "age_emp.unc.loc[4]=1."
   ]
  },
  {
   "cell_type": "code",
   "execution_count": 103,
   "metadata": {},
   "outputs": [
    {
     "data": {
      "image/png": "[encoded data removed]",
      "text/plain": [
       "<Figure size 864x864 with 4 Axes>"
      ]
     },
     "metadata": {
      "needs_background": "light"
     },
     "output_type": "display_data"
    }
   ],
   "source": [
    "\n",
    "fig, ax=plt.subplots(figsize=(12, 12), ncols=2, nrows=2, sharex=True, sharey='row')\n",
    "\n",
    "for model, a in zip(['saumon2008', 'baraffe2003', 'marley2019', 'phillips2020'], np.concatenate(ax)):\n",
    "    \n",
    "    dfn=age_dictionaries[model].replace('T5-T9', 'T5-Y0')\n",
    "    #change T5-T9 to T5-Y0\n",
    "\n",
    "    sns.boxplot(y=dfn.age.values*dfn.slprob, x=dfn.subtype, ax=a,\n",
    "                color='#FF851B', order=['M7-L0', 'L0-L5', 'L5-T0', 'T0-T5', 'T5-Y0'])\n",
    "    \n",
    "    #sns.boxplot(y=dfn.age.values*dfn.slprob, x=dfn.spectclass, ax=a,\n",
    "    #            color='#FF851B')\n",
    "    \n",
    "    #upper and low limit of the error\n",
    "    lolims = np.array([0, 0, 0, 0,1], dtype=bool)\n",
    "    \n",
    "    a.errorbar(age_emp.subtype,  age_emp.age, yerr=age_emp.unc, color='#001f3f', fmt='o',lolims=lolims, ms=20, lw=3)\n",
    "    \n",
    "    a.set_xlabel('Subtype Group', fontsize=18)\n",
    "    a.set_ylabel('Age (Gyr)', fontsize=18)\n",
    "    a.minorticks_on()\n",
    "\n",
    "ax[0][0].set_title('Model= SM08', fontsize=18)\n",
    "ax[0][1].set_title('Model= B03', fontsize=18)\n",
    "ax[1][0].set_title('Model= M19', fontsize=18)\n",
    "ax[1][1].set_title('Model= P20', fontsize=18)\n",
    "\n",
    "plt.tight_layout()\n",
    "\n",
    "\n",
    "plt.savefig(wisps.OUTPUT_FIGURES+'/age_comparison.pdf', bbox_inches='tight')\n"
   ]
  },
  {
   "cell_type": "code",
   "execution_count": null,
   "metadata": {},
   "outputs": [],
   "source": []
  }
 ],
 "metadata": {
  "kernelspec": {
   "display_name": "Python 3",
   "language": "python",
   "name": "python3"
  },
  "language_info": {
   "codemirror_mode": {
    "name": "ipython",
    "version": 3
   },
   "file_extension": ".py",
   "mimetype": "text/x-python",
   "name": "python",
   "nbconvert_exporter": "python",
   "pygments_lexer": "ipython3",
   "version": "3.8.3"
  }
 },
 "nbformat": 4,
 "nbformat_minor": 4
}
