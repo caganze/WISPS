{
 "cells": [
  {
   "cell_type": "code",
   "execution_count": 1,
   "metadata": {},
   "outputs": [
    {
     "name": "stdout",
     "output_type": "stream",
     "text": [
      "\n",
      "Warning: spectrum object has a flux vector of zero length - maybe empty?\n",
      "\n",
      "Warning: normalize is attempting to divide by nan; ignoring\n",
      "\n",
      "Warning: spectrum object has a flux vector of zero length - maybe empty?\n",
      "\n",
      "Warning: normalize is attempting to divide by nan; ignoring\n"
     ]
    }
   ],
   "source": [
    "import numpy as np\n",
    "import wisps\n",
    "import wisps.simulations as wispsim\n",
    "import pandas as pd\n",
    "import splat\n",
    "import matplotlib.pyplot as plt\n",
    "import astropy.units as u\n",
    "from astropy.coordinates import SkyCoord\n",
    "from scipy.interpolate import interp1d\n",
    "import numba\n",
    "from tqdm import tqdm\n",
    "import splat.empirical as spem\n",
    "import wisps.simulations.effective_numbers as ef \n",
    "import seaborn as sns\n",
    "from matplotlib.ticker import MultipleLocator\n",
    "from matplotlib.colors import Normalize\n",
    "import matplotlib as mpl\n",
    "import splat.empirical as spe\n",
    "\n",
    "%matplotlib inline"
   ]
  },
  {
   "cell_type": "code",
   "execution_count": 2,
   "metadata": {},
   "outputs": [],
   "source": [
    "def custom_histogram(things, grid):\n",
    "    n=[]\n",
    "    for g in grid:\n",
    "        n.append(len(things[np.logical_and(g<=things, things< g+1)]))\n",
    "    return np.array(n)\n",
    "\n",
    "def bin_by_spt_bin(sp_types, number):\n",
    "    ranges=[[17, 20], [20, 25], [25, 30], [30, 35], [35, 41]]\n",
    "    numbers=[]\n",
    "    for r in ranges:\n",
    "        idx= np.logical_and((r[0]<=sp_types), (r[1]>sp_types))\n",
    "        numbers.append(np.nansum(number[idx]))\n",
    "    return numbers\n",
    "\n",
    "def stay_within_limits(row):\n",
    "    #print (row)\n",
    "    flag=True\n",
    "    if row.survey.lower()=='wisp':\n",
    "        if ((row['F110W']>wisps.MAG_LIMITS['wisps']['F110W'][0]) or (row['F110W']<wisps.MAG_LIMITS['wisps']['F110W'][1])):\n",
    "            flag=False\n",
    "        if np.isnan(row['F110W']):\n",
    "            flag=True\n",
    "            \n",
    "    if row.survey.lower()=='hst3d':\n",
    "        if (row['F140W']>wisps.MAG_LIMITS['hst3d']['F140W'][0]) or (row['F140W']<wisps.MAG_LIMITS['hst3d']['F140W'][1]):\n",
    "            flag=True\n",
    "        if np.isnan(row['F140W']):\n",
    "            flag=True\n",
    "            \n",
    "    if row.spt<17.:\n",
    "        flag=False\n",
    "    return flag\n",
    "\n",
    "def selection_cuts(df):\n",
    "    #make selection cuts in the simulated data\n",
    "    flag_snr=(df.snr > 3.0).values\n",
    "    flag0=  (df.appF140.between( wisps.MAG_LIMITS['hst3d']['F140W'][1], wisps.MAG_LIMITS['hst3d']['F140W'][0])).values \n",
    "    flag1=  (df.appF110.between( wisps.MAG_LIMITS['wisps']['F110W'][1], wisps.MAG_LIMITS['wisps']['F110W'][0])).values\n",
    "    flag2=  (df.appF110.between( wisps.MAG_LIMITS['hst3d']['F160W'][1], wisps.MAG_LIMITS['hst3d']['F160W'][0])).values\n",
    "\n",
    "    flag= np.logical_and.reduce((flag0, flag1, flag2, flag_snr))\n",
    "    \n",
    "    return df[flag]\n",
    "    \n",
    "    "
   ]
  },
  {
   "cell_type": "code",
   "execution_count": 3,
   "metadata": {},
   "outputs": [],
   "source": [
    "SIMULATED_DIST=wispsim.simulate_spts()\n",
    "\n",
    "data=ef.simulation_outputs()\n",
    "\n",
    "MASSES=SIMULATED_DIST['mass']"
   ]
  },
  {
   "cell_type": "code",
   "execution_count": 4,
   "metadata": {},
   "outputs": [],
   "source": [
    "drop_nan=ef.drop_nan\n",
    "\n",
    "idx0=np.isnan(SIMULATED_DIST['teffs'])[0]\n",
    "\n",
    "nan_masses=SIMULATED_DIST['mass'][idx0]\n",
    "nan_ages=(SIMULATED_DIST['ages'][0])[idx0]\n",
    "\n",
    "cmap= sns.cubehelix_palette(10, as_cmap=True)\n",
    "\n",
    "cands=pd.read_hdf(wisps.OUTPUT_FILES+'/true_spectra_cands.hdf', key='with_indices')"
   ]
  },
  {
   "cell_type": "code",
   "execution_count": 5,
   "metadata": {},
   "outputs": [],
   "source": [
    "def get_survey(grism_id):\n",
    "    if grism_id.lower().startswith('par'):\n",
    "        return 'wisp'\n",
    "    else:\n",
    "        return 'hst3d'\n",
    "\n",
    "def get_mags(row):\n",
    "    return pd.Series(row.spectra.mags)"
   ]
  },
  {
   "cell_type": "code",
   "execution_count": 6,
   "metadata": {},
   "outputs": [],
   "source": [
    "mags_df=cands.apply(get_mags, axis=1)"
   ]
  },
  {
   "cell_type": "code",
   "execution_count": 7,
   "metadata": {},
   "outputs": [],
   "source": [
    "tab=wisps.Annotator.reformat_table(cands.join(mags_df))\n",
    "tab['survey']=tab['grism_id'].apply(get_survey)\n",
    "flags=tab.apply(stay_within_limits, axis=1).values\n",
    "cdf_to_use=tab[flags]\n",
    "nobs=custom_histogram(cdf_to_use.spt.apply(wisps.make_spt_number), data['spgrid'])"
   ]
  },
  {
   "cell_type": "code",
   "execution_count": 8,
   "metadata": {},
   "outputs": [],
   "source": [
    "spgrid2=['M7-L0', 'L0-L5', 'L5-T0', 'T0-T5', 'T5-Y0']\n",
    "cnorm=Normalize(data['hs'][1], data['hs'][-2])"
   ]
  },
  {
   "cell_type": "code",
   "execution_count": 9,
   "metadata": {},
   "outputs": [],
   "source": [
    "hs=data['hs']"
   ]
  },
  {
   "cell_type": "code",
   "execution_count": 10,
   "metadata": {},
   "outputs": [],
   "source": [
    "def compute_simulated_numbers(hidx,selection='prob'):\n",
    "    #an index in accordance with the scale height\n",
    "    simdf=pd.DataFrame()\n",
    "    nanidx=np.isnan(SIMULATED_DIST['spts'][0])\n",
    "    simdf['spt']=wisps.drop_nan(SIMULATED_DIST['spts'][0])\n",
    "    simdf['mass']=(SIMULATED_DIST['mass'])[~nanidx]\n",
    "    \n",
    "    if selection =='prob':\n",
    "        simdf['slprob']=data['sl_prob'][hidx]\n",
    "    \n",
    "    if selection == 'uniform':\n",
    "        simdf['slprob']=1.\n",
    "        \n",
    "    simdf['snr']=data['snrjs'][hidx]\n",
    "    simdf['appF140']=data['appf140s'][hidx]\n",
    "    simdf['appF110']=data['appf110s'][hidx]\n",
    "    simdf['appF160']=data['appf160s'][hidx]\n",
    "    cutdf=selection_cuts(simdf)\n",
    "    NORM = 0.0055/ len(cutdf.mass[np.logical_and(cutdf.mass>=0.09, cutdf.mass <=0.1)])\n",
    "    \n",
    "    NSIM={}\n",
    "    #rounded spectral type\n",
    "    cutdf['spt_r']=cutdf.spt.apply(np.round)\n",
    "    for g in cutdf.groupby('spt_r'):\n",
    "        NSIM[g[0]]=np.nansum((g[1]).slprob*NORM)\n",
    "    return NSIM"
   ]
  },
  {
   "cell_type": "code",
   "execution_count": 13,
   "metadata": {},
   "outputs": [
    {
     "data": {
      "text/plain": [
       "[200, 250, 275, 300, 325, 350, 1000]"
      ]
     },
     "execution_count": 13,
     "metadata": {},
     "output_type": "execute_result"
    }
   ],
   "source": [
    "hs"
   ]
  },
  {
   "cell_type": "code",
   "execution_count": 15,
   "metadata": {},
   "outputs": [
    {
     "name": "stderr",
     "output_type": "stream",
     "text": [
      "7it [00:02,  3.22it/s]\n"
     ]
    },
    {
     "data": {
      "image/png": "[encoded data removed]",
      "text/plain": [
       "<Figure size 576x504 with 1 Axes>"
      ]
     },
     "metadata": {
      "needs_background": "light"
     },
     "output_type": "display_data"
    }
   ],
   "source": [
    "fig, ax1=plt.subplots(figsize=(8 , 7))\n",
    "\n",
    "NS=[]\n",
    "for idx, h in tqdm(enumerate(hs)):\n",
    "    \n",
    "    nsimulatedunif=compute_simulated_numbers(idx,selection = 'uniform')\n",
    "    nsimulated=compute_simulated_numbers(idx)\n",
    "    \n",
    "    ns=[]\n",
    "    nsunif=[]\n",
    "    for s in data['spgrid']:\n",
    "        try:\n",
    "            ns.append(nsimulated[s])\n",
    "            nsunif.append(nsimulatedunif[s])\n",
    "        except:\n",
    "            ns.append(np.nan)\n",
    "            nsunif.append(np.nan)\n",
    "        \n",
    "    ns=np.array(ns)\n",
    "    NS.append(ns)\n",
    "    nsunif=np.array(nsunif)\n",
    "    \n",
    "    if hs[idx]==100:\n",
    "        ax1.step(spgrid2, bin_by_spt_bin(data['spgrid'], ns*((data['vol'].T)[idx])), \n",
    "                 where='mid', label='h={} pc'.format(hs[idx]), color='#FF851B')\n",
    "            \n",
    "    elif hs[idx]==1000:\n",
    "        ax1.step(spgrid2, bin_by_spt_bin(data['spgrid'], ns*((data['vol'].T)[idx])), \n",
    "                 where='mid', label='h={} pc'.format(hs[idx]), color='#FF851B', linestyle='--')\n",
    "    else:\n",
    "        ax1.step(spgrid2, bin_by_spt_bin(data['spgrid'], ns*((data['vol'].T)[idx])), \n",
    "                 where='mid', label='h={} pc'.format(hs[idx]), color=cmap(cnorm(hs[idx])))\n",
    "        \n",
    "    #ax1.step(spgrid2, bin_by_spt_bin(data['spgrid'], nsunif*((data['vol'].T)[idx])), \n",
    "    #             where='mid',  color='#AAAAAA')\n",
    "        \n",
    "    ax1.set_yscale('log')\n",
    "\n",
    "y2=bin_by_spt_bin(data['spgrid'],nobs)\n",
    "dy2=np.sqrt(y2)\n",
    "ax1.errorbar(spgrid2,y2, yerr=dy2,\n",
    "            label='observations',fmt='o', color='k')\n",
    "\n",
    "ax1.set_xlabel('SpT',fontsize=18)\n",
    "ax1.set_ylabel('N',fontsize=18)\n",
    "ax1.legend(fontsize=18)\n",
    "\n",
    "plt.minorticks_on()\n",
    "\n",
    "plt.tight_layout()\n",
    "plt.savefig(wisps.OUTPUT_FIGURES+'/oberved_numbers.pdf', bbox_inches='tight')\n"
   ]
  },
  {
   "cell_type": "code",
   "execution_count": null,
   "metadata": {},
   "outputs": [],
   "source": [
    "snew=np.arange(17, 39)\n",
    "sptidx=[i for i, spt in enumerate(data['spgrid']) if spt in snew]\n",
    "VOLUMES=data['vol'].T"
   ]
  },
  {
   "cell_type": "code",
   "execution_count": null,
   "metadata": {},
   "outputs": [],
   "source": [
    "sim_vs=pd.DataFrame(index=[splat.typeToNum(x).replace('.0', ' ') for x in (data['spgrid'])[sptidx]])\n",
    "for hindex, h in enumerate(hs):\n",
    "    numbaexcpected=data['n'][hindex]*(data['vol'].T)[hindex]*NORM\n",
    "    sim_vs['volume {}'.format(h)]=np.round(VOLUMES[hindex])[sptidx]\n",
    "    sim_vs['Number ex {}'.format(h)]=np.round(numbaexcpected, 1)[sptidx]\n",
    "    sim_vs['Number ex {}'.format(h)]=(sim_vs['Number ex {}'.format(h)])[sptidx]\n",
    "sim_vs['Number obs']=nobs[sptidx]"
   ]
  },
  {
   "cell_type": "code",
   "execution_count": null,
   "metadata": {},
   "outputs": [],
   "source": [
    "sim_vs.loc[\"Total\"] = sim_vs.sum()"
   ]
  },
  {
   "cell_type": "code",
   "execution_count": null,
   "metadata": {},
   "outputs": [],
   "source": [
    "sim_vs"
   ]
  },
  {
   "cell_type": "code",
   "execution_count": null,
   "metadata": {},
   "outputs": [],
   "source": [
    "sim_vs=sim_vs.reindex(sorted(sim_vs.columns), axis=1)"
   ]
  },
  {
   "cell_type": "code",
   "execution_count": null,
   "metadata": {},
   "outputs": [],
   "source": [
    "len(sim_vs), sim_vs.shape"
   ]
  },
  {
   "cell_type": "code",
   "execution_count": null,
   "metadata": {},
   "outputs": [],
   "source": [
    "sim_vs.to_latex(wisps.LIBRARIES+'/expectations.tex', index=True)"
   ]
  }
 ],
 "metadata": {
  "kernelspec": {
   "display_name": "Python 3",
   "language": "python",
   "name": "python3"
  },
  "language_info": {
   "codemirror_mode": {
    "name": "ipython",
    "version": 3
   },
   "file_extension": ".py",
   "mimetype": "text/x-python",
   "name": "python",
   "nbconvert_exporter": "python",
   "pygments_lexer": "ipython3",
   "version": "3.7.3"
  }
 },
 "nbformat": 4,
 "nbformat_minor": 4
}
