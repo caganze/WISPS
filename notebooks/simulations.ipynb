{
 "cells": [
  {
   "cell_type": "code",
   "execution_count": 1,
   "metadata": {},
   "outputs": [],
   "source": [
    "#simulations infrastructure\n",
    "import splat\n",
    "import wisps.simulations as wispsim\n",
    "from wisps.utils.tools import distance\n",
    "from astropy.coordinates import SkyCoord\n",
    "\n",
    "import astropy.units as u\n",
    "import numpy as np\n",
    "import matplotlib.pyplot as plt\n",
    "import wisps\n",
    "import pandas as pd\n",
    "\n",
    "import seaborn as sns\n",
    "%matplotlib inline\n",
    "import splat.photometry as sphot\n",
    "import splat.core as spl\n",
    "import splat.empirical as spe\n",
    "import matplotlib as mpl\n",
    "from tqdm import tqdm\n",
    "\n",
    "#matplotlib defaults\n",
    "mpl.rcParams['grid.color'] = 'k'\n",
    "mpl.rcParams['grid.linestyle'] = '--'\n",
    "mpl.rcParams['grid.linewidth'] = 0.1\n",
    "mpl.rcParams['figure.figsize'] = [6.0, 3.0]\n",
    "mpl.rcParams['figure.dpi'] = 80\n",
    "mpl.rcParams['savefig.dpi'] = 100\n",
    "mpl.rcParams['font.size'] = 18\n",
    "mpl.rcParams['legend.fontsize'] = 'large'\n",
    "mpl.rcParams['figure.titlesize'] = 'large'\n",
    "\n",
    "from astropy import stats as astrostats"
   ]
  },
  {
   "cell_type": "markdown",
   "metadata": {},
   "source": [
    "Aim: to integrate the number density of UCDs found and compare it to predictions <br>\n",
    "\n",
    "$$ \n",
    "N_{pred}(SpT) = \\Delta \\Omega \\times \\Phi(SpT) \\int _{l_{min}} ^{l_{max}}  F_s(SpT, r) \\cdot \\rho (r, z)l^2 dl\n",
    "$$\n",
    "\n",
    "## Visualize the luminosity function"
   ]
  },
  {
   "cell_type": "code",
   "execution_count": 2,
   "metadata": {},
   "outputs": [],
   "source": [
    "#wispsim.make_luminosity_function()"
   ]
  },
  {
   "cell_type": "code",
   "execution_count": 3,
   "metadata": {},
   "outputs": [
    {
     "data": {
      "image/png": "[encoded data removed]",
      "text/plain": [
       "<Figure size 640x320 with 1 Axes>"
      ]
     },
     "metadata": {
      "needs_background": "light"
     },
     "output_type": "display_data"
    }
   ],
   "source": [
    "lf=wispsim.LUMINOSITY_FUCTION\n",
    "sp_grid=np.arange(20, 38)\n",
    "spts=[splat.typeToNum(x) for x in sp_grid] #spectral range\n",
    "phi=wispsim.interpolate_luminosity(sp_grid)\n",
    "cphi=np.cumsum(phi)  \n",
    "\n",
    "fig, ax=plt.subplots(ncols=1, figsize=[8.0, 4.0])\n",
    "ax.step(sp_grid, phi)\n",
    "\n",
    "\n",
    "ax.set_ylabel(r'$\\Phi$(SpT) [pc$^{-3}]$')\n",
    "ax.set_xlabel(r'SpT')\n",
    "plt.tight_layout()\n",
    "#plt.savefig(wisps.OUTPUT_FIGURES+'/simulated_phi.pdf')"
   ]
  },
  {
   "cell_type": "markdown",
   "metadata": {},
   "source": [
    "## Visualize the selection function\n",
    "\n",
    "The selection function is a matrix of selected spectra per magnitude per spectral type"
   ]
  },
  {
   "cell_type": "code",
   "execution_count": 4,
   "metadata": {},
   "outputs": [],
   "source": [
    "SF=pd.read_pickle(wisps.OUTPUT_FILES+'/selection_function.pkl').weight_function\n",
    "#ds=np.logspace(-1, 4, 100)\n",
    "#for s in sp_grid:\n",
    "#    fx=SF( np.linspace(100, 3000, 100))\n",
    "#    plt.plot(np.linspace(100, 3000, 100), fx, c='k')\n",
    "#    plt.yticks(np.linspace(0, 1, 6))\n",
    "#    plt.grid(_)\n",
    "#    plt.xlabel('d (pc)')\n",
    "#    plt.ylabel(r'< F$_s$ >')\n",
    "#    plt.tight_layout()\n",
    "#    plt.savefig(wisps.OUTPUT_FIGURES+'/selection_function.pdf')"
   ]
  },
  {
   "cell_type": "code",
   "execution_count": 5,
   "metadata": {},
   "outputs": [
    {
     "data": {
      "text/plain": [
       "<scipy.interpolate.interpolate.interp2d at 0x1c4f4ea358>"
      ]
     },
     "execution_count": 5,
     "metadata": {},
     "output_type": "execute_result"
    }
   ],
   "source": [
    "SF"
   ]
  },
  {
   "cell_type": "markdown",
   "metadata": {},
   "source": [
    "## Distance limits for each pointing\n",
    "\n",
    "The selection function is a matrix of selected spectra per magnitude per spectral type"
   ]
  },
  {
   "cell_type": "code",
   "execution_count": 6,
   "metadata": {},
   "outputs": [],
   "source": [
    "def get_pointing_name(grism_id):\n",
    "    if grism_id.lower().startswith('par'):\n",
    "        return grism_id.split('_BEAM_')[0]\n",
    "    else:\n",
    "        return grism_id.split('-G')[0]\n",
    "obs=pd.read_csv(wisps.OUTPUT_FILES+'//observation_log_with_limit.csv')\n",
    "cands=pd.read_csv(wisps.OUTPUT_FILES+'/candidates.csv')\n",
    "cands['pointing']=cands.grism_id.apply(get_pointing_name)"
   ]
  },
  {
   "cell_type": "code",
   "execution_count": 7,
   "metadata": {},
   "outputs": [],
   "source": [
    "#cands['pointing']"
   ]
  },
  {
   "cell_type": "code",
   "execution_count": 8,
   "metadata": {},
   "outputs": [],
   "source": [
    "bmags={'F110W':obs.bright_F110W.values, 'F140W':obs.bright_F140W.values, 'F160W':obs.bright_F160W.values} #suppose each mag is a field\n",
    "fmags={'F110W':obs.faint_F110W.values, 'F140W':obs.faint_F140W.values, 'F160W':obs.faint_F160W.values} \n",
    "#suppose I have a range of limiting magnitudes \n",
    "coords= SkyCoord(obs['ra (deg)'].values, obs['dec(deg)'].values, unit=u.deg)\n",
    "\n",
    "area=(4.3*(u.arcmin**2)).to((u.radian)**2)"
   ]
  },
  {
   "cell_type": "code",
   "execution_count": 9,
   "metadata": {},
   "outputs": [],
   "source": [
    "bmags=pd.DataFrame(bmags)\n",
    "for k in bmags.columns: bmags[k]=18.0\n",
    "fmags=pd.DataFrame(fmags)\n",
    "for k in fmags.columns: fmags[k]=22.0"
   ]
  },
  {
   "cell_type": "code",
   "execution_count": 10,
   "metadata": {},
   "outputs": [],
   "source": [
    "spts=[splat.typeToNum(x) for x in sp_grid]"
   ]
  },
  {
   "cell_type": "code",
   "execution_count": 11,
   "metadata": {},
   "outputs": [
    {
     "name": "stderr",
     "output_type": "stream",
     "text": [
      "100%|██████████| 18/18 [13:45<00:00, 45.33s/it]\n"
     ]
    }
   ],
   "source": [
    "result=[]\n",
    "error_bars=[]\n",
    "ds=[]\n",
    "dserror=[]\n",
    "res_w_slfx=[]\n",
    "\n",
    "for spt in  tqdm(spts):\n",
    "    distancesmax=distance(dict(fmags), spt)\n",
    "    distancesmin=distance(dict(bmags), spt)\n",
    "    \n",
    "\n",
    "    \n",
    "    mean_distmax=np.nanmean([distancesmax.distF110W, distancesmax.distF140W, distancesmax.distF160W], axis=0)\n",
    "    std_distmax=np.nanstd([distancesmax.distF110W, distancesmax.distF140W, distancesmax.distF160W], axis=0)\n",
    "    \n",
    "    mean_distmin=np.nanmean([distancesmin.distF110W, distancesmin.distF140W, distancesmin.distF160W], axis=0)\n",
    "    std_distmin=np.nanstd([distancesmin.distF110W, distancesmin.distF140W, distancesmin.distF160W], axis=0)\n",
    "    \n",
    "    derror=np.nanmedian([std_distmax, std_distmin], axis=0)\n",
    "    \n",
    "    #print (mean_distmin, mean_distmax, distancesmax)\n",
    "    solid_angle=(np.sin(np.sqrt(area)))**2.0\n",
    "    ds.append(mean_distmax-mean_distmin)\n",
    "    dserror.append(derror)\n",
    "      \n",
    "    result.append([wispsim.number(c, d0, df, splat.typeToNum(spt), weight_function=SF)*solid_angle for c, d0, df in zip(coords, mean_distmin, mean_distmax)])\n",
    "    error_bars.append([wispsim.number(c, 0, de, splat.typeToNum(spt), weight_function=SF)*solid_angle for c, de in zip(coords, derror)])\n",
    "    res_w_slfx.append([wispsim.number(c, d0, df, splat.typeToNum(spt))*solid_angle for c, d0, df in zip(coords, mean_distmin, mean_distmax)])\n",
    "    "
   ]
  },
  {
   "cell_type": "code",
   "execution_count": 12,
   "metadata": {},
   "outputs": [],
   "source": [
    "result=abs(np.array(result))\n",
    "errors=abs(np.array(error_bars))\n",
    "wisp_o_sel=abs(np.array(res_w_slfx))"
   ]
  },
  {
   "cell_type": "code",
   "execution_count": 13,
   "metadata": {},
   "outputs": [
    {
     "data": {
      "text/plain": [
       "0.21905879551663202"
      ]
     },
     "execution_count": 13,
     "metadata": {},
     "output_type": "execute_result"
    }
   ],
   "source": [
    "np.nanmedian(np.array(dserror))/np.nanmedian(np.array(ds))"
   ]
  },
  {
   "cell_type": "markdown",
   "metadata": {},
   "source": [
    "## Volume sampled for each spectral type\n",
    "\n",
    "The selection function is a matrix of selected spectra per magnitude per spectral type"
   ]
  },
  {
   "cell_type": "code",
   "execution_count": 23,
   "metadata": {},
   "outputs": [
    {
     "data": {
      "text/plain": [
       "Text(0.5, 0, 'SpT')"
      ]
     },
     "execution_count": 23,
     "metadata": {},
     "output_type": "execute_result"
    },
    {
     "data": {
      "image/png": "[encoded data removed]",
      "text/plain": [
       "<Figure size 480x240 with 1 Axes>"
      ]
     },
     "metadata": {
      "needs_background": "light"
     },
     "output_type": "display_data"
    }
   ],
   "source": [
    "volumes=np.nansum([np.array(d)**3*0.3*solid_angle for d in ds], axis=1)\n",
    "plt.plot(mdf.spt, volumes)\n",
    "plt.ylabel(r'V$_{tot}$ (pc$^3$)')\n",
    "plt.xlabel(r'SpT')"
   ]
  },
  {
   "cell_type": "markdown",
   "metadata": {},
   "source": [
    "## Comparison to the observed numbers\n",
    "\n",
    "The selection function is a matrix of selected spectra per magnitude per spectral type"
   ]
  },
  {
   "cell_type": "code",
   "execution_count": 15,
   "metadata": {},
   "outputs": [],
   "source": [
    "pred_nbrs=np.nansum(result, axis=1)*phi\n",
    "pred_w_selc=np.nansum(wisp_o_sel, axis=1)*phi\n",
    "pred_errors=np.nansum(error_bars, axis=1)"
   ]
  },
  {
   "cell_type": "code",
   "execution_count": 16,
   "metadata": {},
   "outputs": [],
   "source": [
    "cands=wisps.datasets['candidates']"
   ]
  },
  {
   "cell_type": "code",
   "execution_count": 17,
   "metadata": {},
   "outputs": [],
   "source": [
    "cands['spt']=cands.spt.apply(splat.typeToNum)\n",
    "#only look between 17 and 38, that's where the lfunction is defined\n",
    "maskd=(cands[(cands.spt>=20)&(cands.spt<=38.0)]).spt\n",
    "mdf=pd.DataFrame()\n",
    "mdf['spt']=np.arange(20, 38)\n",
    "mdf['number']=np.histogram(maskd.values, bins=18)[0]\n",
    "mdf.to_pickle(wisps.OUTPUT_FILES+'/measured_lf.pickle')"
   ]
  },
  {
   "cell_type": "code",
   "execution_count": 18,
   "metadata": {},
   "outputs": [],
   "source": [
    "#the and their cumulative distributions\n",
    "pred_cm_numbers=np.cumsum(np.flip(pred_nbrs))\n",
    "pred_cm_w_sel=np.cumsum(np.flip(pred_w_selc))\n",
    "observed_cm_numbers=np.cumsum(np.flip(mdf.number.values))\n",
    "\n",
    "pred_numbers=pred_nbrs"
   ]
  },
  {
   "cell_type": "code",
   "execution_count": 19,
   "metadata": {},
   "outputs": [],
   "source": [
    "#plt.plot(pred_cm_numbers, pred_cm_w_sel)\n",
    "#plt.plot(pred_cm_w_sel, pred_cm_w_sel)"
   ]
  },
  {
   "cell_type": "code",
   "execution_count": 20,
   "metadata": {},
   "outputs": [
    {
     "data": {
      "image/png": "[encoded data removed]",
      "text/plain": [
       "<Figure size 960x320 with 2 Axes>"
      ]
     },
     "metadata": {
      "needs_background": "light"
     },
     "output_type": "display_data"
    }
   ],
   "source": [
    "fig, ax=plt.subplots(ncols=2, figsize=(12, 4))\n",
    "#plt.yscale('log')\n",
    "ax[0].step(mdf.spt,mdf.number, label='observed', where='mid')\n",
    "ax[0].step(mdf.spt, pred_numbers, label='predicted', where='mid', color='#2ECC40')\n",
    "ax[0].step(mdf.spt,pred_w_selc, label=r'F$_s$= 1.0', color='#111111')\n",
    "\n",
    "#ax[0].step(mdf.spt, pred_numbers*0.9, label='predicted*completeness', where='mid', color='#39CCCC')\n",
    "poisson=astrostats.poisson_conf_interval(mdf.number, interval='root-n')\n",
    "\n",
    "ax[0].fill_between(mdf.spt, poisson[0], poisson[1],\n",
    "                 color='gray',step=\"mid\", alpha=0.2)\n",
    "\n",
    "\n",
    "\n",
    "ax[0].set_xlabel('Spectral Type')\n",
    "ax[0].set_ylabel('Number')\n",
    "#ax[0].grid()\n",
    "#ax[0].legend()\n",
    "\n",
    "\n",
    "ax[1].step(np.flip(mdf.spt.values),observed_cm_numbers, label='observed', where='mid')\n",
    "ax[1].step(np.flip(mdf.spt.values), pred_cm_numbers, label='predicted/100', where='mid', color='#2ECC40')\n",
    "ax[1].step(np.flip(mdf.spt.values),pred_cm_w_sel , label=r'F$_s$= 1.0', where='mid',  color='#111111')\n",
    "\n",
    "ax[1].fill_between(np.flip(mdf.spt.values), pred_cm_numbers+ pred_cm_numbers*0.37,  pred_cm_numbers- pred_cm_numbers*0.37,\n",
    "                 color='#FFDC00',step=\"mid\", alpha=0.2)\n",
    "\n",
    "#ax[1].fill_between(np.flip(mdf.spt.values), pred_cm_numbers+ pred_cm_numbers*3.0*0.37,  pred_cm_numbers- pred_cm_numbers*3.0*0.37,\n",
    "#                 color='#FFDC00',step=\"mid\", alpha=0.1)\n",
    "\n",
    "poissonc=astrostats.poisson_conf_interval(observed_cm_numbers, interval='root-n')\n",
    "\n",
    "ax[1].fill_between(np.flip(mdf.spt.values), poissonc[0],  poissonc[1],\n",
    "                 color='gray',step=\"mid\", alpha=0.2)\n",
    "\n",
    "ax[1].yaxis.set_ticks_position('both')\n",
    "ax[1].xaxis.set_ticks_position('both')\n",
    "ax[0].yaxis.set_ticks_position('both')\n",
    "ax[0].xaxis.set_ticks_position('both')\n",
    "\n",
    "ax[1].set_xlabel('Spectral Type')\n",
    "ax[1].set_ylabel('Cumulative Number')\n",
    "#ax[1].grid()\n",
    "ax[1].invert_xaxis()\n",
    "\n",
    "#ax[0].set_yscale('log')\n",
    "ax[1].set_yscale('log')\n",
    "\n",
    "#ax[1].grid()\n",
    "#ax[0].grid()\n",
    "ax[0].legend()\n",
    "plt.tight_layout()\n",
    "#plt.savefig(wisps.OUTPUT_FIGURES+'/oberved_numbers.pdf')"
   ]
  },
  {
   "cell_type": "code",
   "execution_count": 21,
   "metadata": {},
   "outputs": [
    {
     "data": {
      "text/plain": [
       "533"
      ]
     },
     "execution_count": 21,
     "metadata": {},
     "output_type": "execute_result"
    }
   ],
   "source": [
    "len(coords)"
   ]
  },
  {
   "cell_type": "code",
   "execution_count": null,
   "metadata": {},
   "outputs": [],
   "source": []
  }
 ],
 "metadata": {
  "kernelspec": {
   "display_name": "Python 3",
   "language": "python",
   "name": "python3"
  },
  "language_info": {
   "codemirror_mode": {
    "name": "ipython",
    "version": 3
   },
   "file_extension": ".py",
   "mimetype": "text/x-python",
   "name": "python",
   "nbconvert_exporter": "python",
   "pygments_lexer": "ipython3",
   "version": "3.6.6"
  }
 },
 "nbformat": 4,
 "nbformat_minor": 2
}
