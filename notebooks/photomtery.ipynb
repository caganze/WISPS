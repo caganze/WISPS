{
 "cells": [
  {
   "cell_type": "code",
   "execution_count": 1,
   "metadata": {},
   "outputs": [
    {
     "name": "stdout",
     "output_type": "stream",
     "text": [
      "\n",
      "Warning: spectrum object has a flux vector of zero length - maybe empty?\n",
      "\n",
      "Warning: normalize is attempting to divide by nan; ignoring\n",
      "\n",
      "Warning: spectrum object has a flux vector of zero length - maybe empty?\n",
      "\n",
      "Warning: normalize is attempting to divide by nan; ignoring\n"
     ]
    }
   ],
   "source": [
    "import splat\n",
    "import wisps\n",
    "import pandas as pd\n",
    "import numpy as np\n",
    "import matplotlib.pyplot as plt\n",
    "from os.path import expanduser\n",
    "homedir = expanduser(\"~\")\n",
    "from astropy.io import ascii\n",
    "%matplotlib inline\n",
    "from scipy import stats\n",
    "import ast"
   ]
  },
  {
   "cell_type": "code",
   "execution_count": 2,
   "metadata": {},
   "outputs": [],
   "source": [
    "def strip_diction(s):\n",
    "        #from string to dictionary\n",
    "        return pd.Series(ast.literal_eval(((s.strip().replace('nan', \"'nan'\").replace('-inf', \"'nan'\")).replace('inf', \"'nan'\"))))\n",
    "    \n",
    "def reformat_index_table(df):\n",
    "    #assign dictionary keys\n",
    "    ids_list=[]\n",
    "    snr_list=[]\n",
    "    for k in df.columns:\n",
    "        first=df[k].iloc[0]\n",
    "        print (k)\n",
    "        if isinstance(first, str):\n",
    "            if first.strip().startswith(\"{\"):\n",
    "                if not k=='indices':\n",
    "                    snr_list.append(df[k].apply(lambda x: strip_diction(x)))\n",
    "                else:\n",
    "                    ids_list.append(df[k].apply(lambda x: strip_diction(x)).applymap(tuple))\n",
    "      \n",
    "    \n",
    "    return snr_list, ids_list\n",
    "\n",
    "def replace(x):\n",
    "    #print (x)\n",
    "    if (isinstance(x, float)):\n",
    "        if (np.isnan(x)):\n",
    "            return tuple([np.nan, np.nan])\n",
    "    else:\n",
    "        return x\n",
    "    \n",
    "def comp_f_test(tupl):\n",
    "    num=tupl[0]\n",
    "    den=tupl[1]\n",
    "    if den ==0: return np.nan\n",
    "    else:\n",
    "        x=num/den\n",
    "        return stats.f.cdf(x, 2, 1, 0, scale=1)"
   ]
  },
  {
   "cell_type": "code",
   "execution_count": 3,
   "metadata": {},
   "outputs": [],
   "source": [
    "#get photometry catalogs\n",
    "w_phot=pd.read_csv(wisps.OUTPUT_FILES+'/wisp_photometry.csv')\n",
    "hst_phot=pd.read_csv(wisps.OUTPUT_FILES+'/hst3d_photometry_all.csv')"
   ]
  },
  {
   "cell_type": "code",
   "execution_count": 4,
   "metadata": {},
   "outputs": [],
   "source": [
    "#use the indices\n",
    "hst_3d_indices=pd.read_pickle('/users/caganze/new_indices_measurements_october.pkl')\n",
    "wisp_indices=pd.read_pickle('/users/caganze/new_wisps_indices_measurements_october.pkl')"
   ]
  },
  {
   "cell_type": "code",
   "execution_count": 5,
   "metadata": {},
   "outputs": [],
   "source": [
    "#drop nan columns\n",
    "hst_3d_indices=(hst_3d_indices[~ hst_3d_indices.isnull().all(1)])"
   ]
  },
  {
   "cell_type": "code",
   "execution_count": 6,
   "metadata": {},
   "outputs": [],
   "source": [
    "#combine both\n",
    "new_indices=pd.concat([wisp_indices,hst_3d_indices ])"
   ]
  },
  {
   "cell_type": "code",
   "execution_count": 7,
   "metadata": {},
   "outputs": [],
   "source": [
    "new_indices=new_indices[~ new_indices.isnull().all(1)]"
   ]
  },
  {
   "cell_type": "code",
   "execution_count": 8,
   "metadata": {},
   "outputs": [
    {
     "data": {
      "text/plain": [
       "(761000, 20)"
      ]
     },
     "execution_count": 8,
     "metadata": {},
     "output_type": "execute_result"
    }
   ],
   "source": [
    "new_indices.shape"
   ]
  },
  {
   "cell_type": "code",
   "execution_count": 9,
   "metadata": {},
   "outputs": [],
   "source": [
    "#old_indices\n",
    "cols=['name', 'snr', 'spex_chi', 'line_chi', 'spt', 'indices']\n",
    "old_indices=pd.read_csv('~/wisp_indices.txt', names =cols, delimiter ='\\t')"
   ]
  },
  {
   "cell_type": "code",
   "execution_count": 10,
   "metadata": {},
   "outputs": [
    {
     "name": "stdout",
     "output_type": "stream",
     "text": [
      "name\n",
      "snr\n",
      "spex_chi\n",
      "line_chi\n",
      "spt\n",
      "indices\n"
     ]
    }
   ],
   "source": [
    "snr_list, ids_list=reformat_index_table(old_indices)\n",
    "fmtids=(pd.concat(snr_list).join(pd.concat((ids_list )))).replace('nan', np.nan)"
   ]
  },
  {
   "cell_type": "code",
   "execution_count": 11,
   "metadata": {},
   "outputs": [
    {
     "data": {
      "text/plain": [
       "(1.0909776305129566, 0.014650873974899593)"
      ]
     },
     "execution_count": 11,
     "metadata": {},
     "output_type": "execute_result"
    }
   ],
   "source": [
    "fmtids[wisps.INDEX_NAMES].iloc[0]['H_2O-1/J-Cont' ]"
   ]
  },
  {
   "cell_type": "code",
   "execution_count": 12,
   "metadata": {},
   "outputs": [],
   "source": [
    "def replace_new_with_old_where_nan(column):\n",
    "    #replaces new index with olf index if nan\n",
    "    col"
   ]
  },
  {
   "cell_type": "code",
   "execution_count": 13,
   "metadata": {},
   "outputs": [
    {
     "data": {
      "text/html": [
       "<div>\n",
       "<style scoped>\n",
       "    .dataframe tbody tr th:only-of-type {\n",
       "        vertical-align: middle;\n",
       "    }\n",
       "\n",
       "    .dataframe tbody tr th {\n",
       "        vertical-align: top;\n",
       "    }\n",
       "\n",
       "    .dataframe thead th {\n",
       "        text-align: right;\n",
       "    }\n",
       "</style>\n",
       "<table border=\"1\" class=\"dataframe\">\n",
       "  <thead>\n",
       "    <tr style=\"text-align: right;\">\n",
       "      <th></th>\n",
       "      <th>CH_4/H-Cont</th>\n",
       "      <th>CH_4/H_2O-1</th>\n",
       "      <th>CH_4/H_2O-2</th>\n",
       "      <th>CH_4/J-Cont</th>\n",
       "      <th>H-cont/H_2O-1</th>\n",
       "      <th>H-cont/H_2O-2</th>\n",
       "      <th>H-cont/J-Cont</th>\n",
       "      <th>H_2O-1/J-Cont</th>\n",
       "      <th>H_2O-2/H_2O-1</th>\n",
       "      <th>H_2O-2/J-Cont</th>\n",
       "      <th>cdf_snr</th>\n",
       "      <th>f_test</th>\n",
       "      <th>line_chi</th>\n",
       "      <th>name</th>\n",
       "      <th>snr1</th>\n",
       "      <th>snr2</th>\n",
       "      <th>snr3</th>\n",
       "      <th>snr4</th>\n",
       "      <th>spex_chi</th>\n",
       "      <th>spt</th>\n",
       "    </tr>\n",
       "  </thead>\n",
       "  <tbody>\n",
       "    <tr>\n",
       "      <td>6</td>\n",
       "      <td>(nan, nan)</td>\n",
       "      <td>(nan, nan)</td>\n",
       "      <td>(nan, nan)</td>\n",
       "      <td>(nan, nan)</td>\n",
       "      <td>(nan, nan)</td>\n",
       "      <td>(nan, nan)</td>\n",
       "      <td>(nan, nan)</td>\n",
       "      <td>(nan, nan)</td>\n",
       "      <td>(nan, nan)</td>\n",
       "      <td>(nan, nan)</td>\n",
       "      <td>14.439330</td>\n",
       "      <td>1.000000</td>\n",
       "      <td>0.000000</td>\n",
       "      <td>par321-00287</td>\n",
       "      <td>NaN</td>\n",
       "      <td>NaN</td>\n",
       "      <td>NaN</td>\n",
       "      <td>NaN</td>\n",
       "      <td>1.000000e-60</td>\n",
       "      <td>L0.0</td>\n",
       "    </tr>\n",
       "    <tr>\n",
       "      <td>17</td>\n",
       "      <td>(nan, nan)</td>\n",
       "      <td>(nan, nan)</td>\n",
       "      <td>(nan, nan)</td>\n",
       "      <td>(nan, nan)</td>\n",
       "      <td>(nan, nan)</td>\n",
       "      <td>(nan, nan)</td>\n",
       "      <td>(nan, nan)</td>\n",
       "      <td>(nan, nan)</td>\n",
       "      <td>(nan, nan)</td>\n",
       "      <td>(nan, nan)</td>\n",
       "      <td>3.670267</td>\n",
       "      <td>1.000000</td>\n",
       "      <td>0.000000</td>\n",
       "      <td>par321-00376</td>\n",
       "      <td>NaN</td>\n",
       "      <td>NaN</td>\n",
       "      <td>NaN</td>\n",
       "      <td>NaN</td>\n",
       "      <td>1.000000e-60</td>\n",
       "      <td>L0.0</td>\n",
       "    </tr>\n",
       "    <tr>\n",
       "      <td>29</td>\n",
       "      <td>(nan, nan)</td>\n",
       "      <td>(nan, nan)</td>\n",
       "      <td>(nan, nan)</td>\n",
       "      <td>(nan, nan)</td>\n",
       "      <td>(nan, nan)</td>\n",
       "      <td>(nan, nan)</td>\n",
       "      <td>(nan, nan)</td>\n",
       "      <td>(nan, nan)</td>\n",
       "      <td>(nan, nan)</td>\n",
       "      <td>(nan, nan)</td>\n",
       "      <td>2.186004</td>\n",
       "      <td>1.000000</td>\n",
       "      <td>0.000000</td>\n",
       "      <td>par321-00653</td>\n",
       "      <td>NaN</td>\n",
       "      <td>NaN</td>\n",
       "      <td>NaN</td>\n",
       "      <td>NaN</td>\n",
       "      <td>1.000000e-60</td>\n",
       "      <td>L0.0</td>\n",
       "    </tr>\n",
       "    <tr>\n",
       "      <td>40</td>\n",
       "      <td>(nan, nan)</td>\n",
       "      <td>(nan, nan)</td>\n",
       "      <td>(nan, nan)</td>\n",
       "      <td>(nan, nan)</td>\n",
       "      <td>(nan, nan)</td>\n",
       "      <td>(nan, nan)</td>\n",
       "      <td>(nan, nan)</td>\n",
       "      <td>(nan, nan)</td>\n",
       "      <td>(nan, nan)</td>\n",
       "      <td>(nan, nan)</td>\n",
       "      <td>NaN</td>\n",
       "      <td>1.000000</td>\n",
       "      <td>0.000000</td>\n",
       "      <td>par321-00481</td>\n",
       "      <td>NaN</td>\n",
       "      <td>NaN</td>\n",
       "      <td>NaN</td>\n",
       "      <td>NaN</td>\n",
       "      <td>1.000000e-60</td>\n",
       "      <td>L0.0</td>\n",
       "    </tr>\n",
       "    <tr>\n",
       "      <td>50</td>\n",
       "      <td>(nan, nan)</td>\n",
       "      <td>(nan, nan)</td>\n",
       "      <td>(nan, nan)</td>\n",
       "      <td>(nan, nan)</td>\n",
       "      <td>(nan, nan)</td>\n",
       "      <td>(nan, nan)</td>\n",
       "      <td>(nan, nan)</td>\n",
       "      <td>(nan, nan)</td>\n",
       "      <td>(nan, nan)</td>\n",
       "      <td>(nan, nan)</td>\n",
       "      <td>NaN</td>\n",
       "      <td>1.000000</td>\n",
       "      <td>0.000000</td>\n",
       "      <td>par321-00264</td>\n",
       "      <td>NaN</td>\n",
       "      <td>NaN</td>\n",
       "      <td>NaN</td>\n",
       "      <td>NaN</td>\n",
       "      <td>1.000000e-60</td>\n",
       "      <td>L0.0</td>\n",
       "    </tr>\n",
       "    <tr>\n",
       "      <td>...</td>\n",
       "      <td>...</td>\n",
       "      <td>...</td>\n",
       "      <td>...</td>\n",
       "      <td>...</td>\n",
       "      <td>...</td>\n",
       "      <td>...</td>\n",
       "      <td>...</td>\n",
       "      <td>...</td>\n",
       "      <td>...</td>\n",
       "      <td>...</td>\n",
       "      <td>...</td>\n",
       "      <td>...</td>\n",
       "      <td>...</td>\n",
       "      <td>...</td>\n",
       "      <td>...</td>\n",
       "      <td>...</td>\n",
       "      <td>...</td>\n",
       "      <td>...</td>\n",
       "      <td>...</td>\n",
       "      <td>...</td>\n",
       "    </tr>\n",
       "    <tr>\n",
       "      <td>235926</td>\n",
       "      <td>(1.0216846708746152, 0.0)</td>\n",
       "      <td>(0.045815596483300754, 0.0)</td>\n",
       "      <td>(1.6746058178174605, 0.0)</td>\n",
       "      <td>(-0.540022191179014, 0.0)</td>\n",
       "      <td>(0.044843186737920045, 0.0)</td>\n",
       "      <td>(1.6390632702592187, 0.0)</td>\n",
       "      <td>(-0.5285605300476192, 0.0)</td>\n",
       "      <td>(-11.786863702098602, 0.0)</td>\n",
       "      <td>(0.0273590333891309, 0.0)</td>\n",
       "      <td>(-0.3224771975788507, 0.0)</td>\n",
       "      <td>111.065443</td>\n",
       "      <td>0.211279</td>\n",
       "      <td>38.609610</td>\n",
       "      <td>goodsn-13-G141_21342.1D.ascii</td>\n",
       "      <td>-0.000001</td>\n",
       "      <td>5.908453e-07</td>\n",
       "      <td>6.546530e-07</td>\n",
       "      <td>4.458627e-07</td>\n",
       "      <td>1.172781e+01</td>\n",
       "      <td>T8.0</td>\n",
       "    </tr>\n",
       "    <tr>\n",
       "      <td>235941</td>\n",
       "      <td>(1.2504022316590122, 0.0)</td>\n",
       "      <td>(1.801543980713708, 0.0)</td>\n",
       "      <td>(0.9783230373340567, 0.0)</td>\n",
       "      <td>(6.663959181737227, 0.0)</td>\n",
       "      <td>(1.4407715654213527, 0.0)</td>\n",
       "      <td>(0.7824066628832184, 0.0)</td>\n",
       "      <td>(5.329452405803531, 0.0)</td>\n",
       "      <td>(3.6990266421901077, 0.0)</td>\n",
       "      <td>(1.8414612678680646, 0.0)</td>\n",
       "      <td>(6.811614290405146, 0.0)</td>\n",
       "      <td>277.690888</td>\n",
       "      <td>0.403643</td>\n",
       "      <td>336.750251</td>\n",
       "      <td>goodsn-13-G141_18967.1D.ascii</td>\n",
       "      <td>2.309465</td>\n",
       "      <td>2.472423e+00</td>\n",
       "      <td>2.475724e+00</td>\n",
       "      <td>2.504135e+00</td>\n",
       "      <td>3.050658e+02</td>\n",
       "      <td>M0.0</td>\n",
       "    </tr>\n",
       "    <tr>\n",
       "      <td>235951</td>\n",
       "      <td>(0.5355065131194822, 0.0)</td>\n",
       "      <td>(0.6232573592559626, 0.0)</td>\n",
       "      <td>(0.6808990782422197, 0.0)</td>\n",
       "      <td>(3.468713272859216, 0.0)</td>\n",
       "      <td>(1.163865133264778, 0.0)</td>\n",
       "      <td>(1.2715047558913586, 0.0)</td>\n",
       "      <td>(6.477443668524116, 0.0)</td>\n",
       "      <td>(5.565458989525812, 0.0)</td>\n",
       "      <td>(0.9153446952299267, 0.0)</td>\n",
       "      <td>(5.09431336258216, 0.0)</td>\n",
       "      <td>263.306754</td>\n",
       "      <td>0.407292</td>\n",
       "      <td>331.705198</td>\n",
       "      <td>goodsn-13-G141_23221.1D.ascii</td>\n",
       "      <td>1.747306</td>\n",
       "      <td>2.229555e+00</td>\n",
       "      <td>2.512612e+00</td>\n",
       "      <td>2.156207e+00</td>\n",
       "      <td>3.062543e+02</td>\n",
       "      <td>M0.0</td>\n",
       "    </tr>\n",
       "    <tr>\n",
       "      <td>235963</td>\n",
       "      <td>(0.43126159545256587, 0.0)</td>\n",
       "      <td>(0.4657905348581254, 0.0)</td>\n",
       "      <td>(0.22079562753720955, 0.0)</td>\n",
       "      <td>(0.4464869113320863, 0.0)</td>\n",
       "      <td>(1.0800649530810293, 0.0)</td>\n",
       "      <td>(0.5119760949395613, 0.0)</td>\n",
       "      <td>(1.0353041310426516, 0.0)</td>\n",
       "      <td>(0.9585572868458592, 0.0)</td>\n",
       "      <td>(2.1096003578224307, 0.0)</td>\n",
       "      <td>(2.022172795323323, 0.0)</td>\n",
       "      <td>324.262804</td>\n",
       "      <td>0.416926</td>\n",
       "      <td>514.114497</td>\n",
       "      <td>goodsn-13-G141_21941.1D.ascii</td>\n",
       "      <td>3.179967</td>\n",
       "      <td>1.783721e+00</td>\n",
       "      <td>1.106399e+00</td>\n",
       "      <td>2.451091e+00</td>\n",
       "      <td>4.990485e+02</td>\n",
       "      <td>M0.0</td>\n",
       "    </tr>\n",
       "    <tr>\n",
       "      <td>235969</td>\n",
       "      <td>(1.023415333952868, 0.0)</td>\n",
       "      <td>(0.7900841924126504, 0.0)</td>\n",
       "      <td>(0.6975727992223857, 0.0)</td>\n",
       "      <td>(0.708888696483901, 0.0)</td>\n",
       "      <td>(0.7720073817547829, 0.0)</td>\n",
       "      <td>(0.6816126122793774, 0.0)</td>\n",
       "      <td>(0.6926696063326211, 0.0)</td>\n",
       "      <td>(0.8972318435066954, 0.0)</td>\n",
       "      <td>(1.1326189801170445, 0.0)</td>\n",
       "      <td>(1.016221815521089, 0.0)</td>\n",
       "      <td>246.858283</td>\n",
       "      <td>0.407005</td>\n",
       "      <td>374.475475</td>\n",
       "      <td>goodsn-13-G141_18382.1D.ascii</td>\n",
       "      <td>3.853965</td>\n",
       "      <td>3.109633e+00</td>\n",
       "      <td>2.461792e+00</td>\n",
       "      <td>3.185368e+00</td>\n",
       "      <td>3.452269e+02</td>\n",
       "      <td>M0.0</td>\n",
       "    </tr>\n",
       "  </tbody>\n",
       "</table>\n",
       "<p>52891 rows × 20 columns</p>\n",
       "</div>"
      ],
      "text/plain": [
       "                       CH_4/H-Cont                  CH_4/H_2O-1  \\\n",
       "6                       (nan, nan)                   (nan, nan)   \n",
       "17                      (nan, nan)                   (nan, nan)   \n",
       "29                      (nan, nan)                   (nan, nan)   \n",
       "40                      (nan, nan)                   (nan, nan)   \n",
       "50                      (nan, nan)                   (nan, nan)   \n",
       "...                            ...                          ...   \n",
       "235926   (1.0216846708746152, 0.0)  (0.045815596483300754, 0.0)   \n",
       "235941   (1.2504022316590122, 0.0)     (1.801543980713708, 0.0)   \n",
       "235951   (0.5355065131194822, 0.0)    (0.6232573592559626, 0.0)   \n",
       "235963  (0.43126159545256587, 0.0)    (0.4657905348581254, 0.0)   \n",
       "235969    (1.023415333952868, 0.0)    (0.7900841924126504, 0.0)   \n",
       "\n",
       "                       CH_4/H_2O-2                CH_4/J-Cont  \\\n",
       "6                       (nan, nan)                 (nan, nan)   \n",
       "17                      (nan, nan)                 (nan, nan)   \n",
       "29                      (nan, nan)                 (nan, nan)   \n",
       "40                      (nan, nan)                 (nan, nan)   \n",
       "50                      (nan, nan)                 (nan, nan)   \n",
       "...                            ...                        ...   \n",
       "235926   (1.6746058178174605, 0.0)  (-0.540022191179014, 0.0)   \n",
       "235941   (0.9783230373340567, 0.0)   (6.663959181737227, 0.0)   \n",
       "235951   (0.6808990782422197, 0.0)   (3.468713272859216, 0.0)   \n",
       "235963  (0.22079562753720955, 0.0)  (0.4464869113320863, 0.0)   \n",
       "235969   (0.6975727992223857, 0.0)   (0.708888696483901, 0.0)   \n",
       "\n",
       "                      H-cont/H_2O-1              H-cont/H_2O-2  \\\n",
       "6                        (nan, nan)                 (nan, nan)   \n",
       "17                       (nan, nan)                 (nan, nan)   \n",
       "29                       (nan, nan)                 (nan, nan)   \n",
       "40                       (nan, nan)                 (nan, nan)   \n",
       "50                       (nan, nan)                 (nan, nan)   \n",
       "...                             ...                        ...   \n",
       "235926  (0.044843186737920045, 0.0)  (1.6390632702592187, 0.0)   \n",
       "235941    (1.4407715654213527, 0.0)  (0.7824066628832184, 0.0)   \n",
       "235951     (1.163865133264778, 0.0)  (1.2715047558913586, 0.0)   \n",
       "235963    (1.0800649530810293, 0.0)  (0.5119760949395613, 0.0)   \n",
       "235969    (0.7720073817547829, 0.0)  (0.6816126122793774, 0.0)   \n",
       "\n",
       "                     H-cont/J-Cont               H_2O-1/J-Cont  \\\n",
       "6                       (nan, nan)                  (nan, nan)   \n",
       "17                      (nan, nan)                  (nan, nan)   \n",
       "29                      (nan, nan)                  (nan, nan)   \n",
       "40                      (nan, nan)                  (nan, nan)   \n",
       "50                      (nan, nan)                  (nan, nan)   \n",
       "...                            ...                         ...   \n",
       "235926  (-0.5285605300476192, 0.0)  (-11.786863702098602, 0.0)   \n",
       "235941    (5.329452405803531, 0.0)   (3.6990266421901077, 0.0)   \n",
       "235951    (6.477443668524116, 0.0)    (5.565458989525812, 0.0)   \n",
       "235963   (1.0353041310426516, 0.0)   (0.9585572868458592, 0.0)   \n",
       "235969   (0.6926696063326211, 0.0)   (0.8972318435066954, 0.0)   \n",
       "\n",
       "                    H_2O-2/H_2O-1               H_2O-2/J-Cont     cdf_snr  \\\n",
       "6                      (nan, nan)                  (nan, nan)   14.439330   \n",
       "17                     (nan, nan)                  (nan, nan)    3.670267   \n",
       "29                     (nan, nan)                  (nan, nan)    2.186004   \n",
       "40                     (nan, nan)                  (nan, nan)         NaN   \n",
       "50                     (nan, nan)                  (nan, nan)         NaN   \n",
       "...                           ...                         ...         ...   \n",
       "235926  (0.0273590333891309, 0.0)  (-0.3224771975788507, 0.0)  111.065443   \n",
       "235941  (1.8414612678680646, 0.0)    (6.811614290405146, 0.0)  277.690888   \n",
       "235951  (0.9153446952299267, 0.0)     (5.09431336258216, 0.0)  263.306754   \n",
       "235963  (2.1096003578224307, 0.0)    (2.022172795323323, 0.0)  324.262804   \n",
       "235969  (1.1326189801170445, 0.0)    (1.016221815521089, 0.0)  246.858283   \n",
       "\n",
       "          f_test    line_chi                           name      snr1  \\\n",
       "6       1.000000    0.000000                   par321-00287       NaN   \n",
       "17      1.000000    0.000000                   par321-00376       NaN   \n",
       "29      1.000000    0.000000                   par321-00653       NaN   \n",
       "40      1.000000    0.000000                   par321-00481       NaN   \n",
       "50      1.000000    0.000000                   par321-00264       NaN   \n",
       "...          ...         ...                            ...       ...   \n",
       "235926  0.211279   38.609610  goodsn-13-G141_21342.1D.ascii -0.000001   \n",
       "235941  0.403643  336.750251  goodsn-13-G141_18967.1D.ascii  2.309465   \n",
       "235951  0.407292  331.705198  goodsn-13-G141_23221.1D.ascii  1.747306   \n",
       "235963  0.416926  514.114497  goodsn-13-G141_21941.1D.ascii  3.179967   \n",
       "235969  0.407005  374.475475  goodsn-13-G141_18382.1D.ascii  3.853965   \n",
       "\n",
       "                snr2          snr3          snr4      spex_chi   spt  \n",
       "6                NaN           NaN           NaN  1.000000e-60  L0.0  \n",
       "17               NaN           NaN           NaN  1.000000e-60  L0.0  \n",
       "29               NaN           NaN           NaN  1.000000e-60  L0.0  \n",
       "40               NaN           NaN           NaN  1.000000e-60  L0.0  \n",
       "50               NaN           NaN           NaN  1.000000e-60  L0.0  \n",
       "...              ...           ...           ...           ...   ...  \n",
       "235926  5.908453e-07  6.546530e-07  4.458627e-07  1.172781e+01  T8.0  \n",
       "235941  2.472423e+00  2.475724e+00  2.504135e+00  3.050658e+02  M0.0  \n",
       "235951  2.229555e+00  2.512612e+00  2.156207e+00  3.062543e+02  M0.0  \n",
       "235963  1.783721e+00  1.106399e+00  2.451091e+00  4.990485e+02  M0.0  \n",
       "235969  3.109633e+00  2.461792e+00  3.185368e+00  3.452269e+02  M0.0  \n",
       "\n",
       "[52891 rows x 20 columns]"
      ]
     },
     "execution_count": 13,
     "metadata": {},
     "output_type": "execute_result"
    }
   ],
   "source": [
    "new_indices[(wisps.Annotator.reformat_table(new_indices)[wisps.INDEX_NAMES]).isnull().all(1)]"
   ]
  },
  {
   "cell_type": "code",
   "execution_count": 14,
   "metadata": {},
   "outputs": [],
   "source": [
    "#cols=list(wisps.INDEX_NAMES)"
   ]
  },
  {
   "cell_type": "code",
   "execution_count": null,
   "metadata": {},
   "outputs": [],
   "source": []
  },
  {
   "cell_type": "code",
   "execution_count": 15,
   "metadata": {},
   "outputs": [],
   "source": [
    "def combined_wisp_hst_catalogs(hst3d_phot,wisp_phot, indices):\n",
    "    \"\"\"\n",
    "    combine both hst-3d and wisps into one big file with all the information\n",
    "    \"\"\"\n",
    "    #hst_3d does not have 110 photometry\n",
    "    hst3d_phot['F110_mag']=np.nan\n",
    "    hst3d_phot['F110_mag_er']=np.nan\n",
    "\n",
    "    \n",
    "    #combine flags into one flag\n",
    "    flgs=hst3d_phot[['use_phot_x', 'f_cover', 'f_flagged', 'f_negative']].values\n",
    "    hst3d_phot['phot_flags']= pd.Series([i for i in flgs])\n",
    "    \n",
    "    hst3d_phot['survey']='HST3D'\n",
    "    wisp_phot['survey']='WISP'\n",
    "    wisp_phot=wisp_phot.rename(columns={'EXTRACTION_FLAG':'phot_flags'})\n",
    "   \n",
    "    #rename some columns\n",
    "    indices=indices.rename(columns={'name':'grism_id'})\n",
    "    \n",
    "    ##drop .ascii from hst_phot\n",
    "    indices['grism_id']=indices['grism_id']\n",
    "    \n",
    "    #combined_photometry (the order matters: HST3D+WISPP\n",
    "    comb_phot=pd.DataFrame()\n",
    "    grism_ids=hst3d_phot['grism_id'].append(wisp_phot['grism_id'])\n",
    "    star_flags=hst3d_phot['star_flag'].append(wisp_phot['star_flag'])\n",
    "    comb_phot['grism_id']=grism_ids\n",
    "    comb_phot['star_flag']=star_flags\n",
    "    comb_phot['class_star']=hst3d_phot['class_star'].append(wisp_phot['star_flag'])\n",
    "    \n",
    "    print(comb_phot.columns)\n",
    "    for flt in ['110', '140', '160']:\n",
    "        mag_tuple1=hst3d_phot[['F'+flt+'_mag', 'F'+flt+'_mag_er']].apply(tuple, axis=1)\n",
    "        mag_tuple2=wisp_phot[['NIMCOS_'+flt+'W', 'NIMCOS_'+flt+'W_ER']].apply(tuple, axis=1)\n",
    "        mags=mag_tuple1.append(mag_tuple2)\n",
    "        comb_phot['F'+flt]=mags\n",
    "        \n",
    "    ras=hst3d_phot['ra_x'].append(wisp_phot['RA'])\n",
    "    decs=hst3d_phot['dec_x'].append(wisp_phot['DEC'])\n",
    "        \n",
    "    comb_phot['RA']=ras\n",
    "    comb_phot['DEC']=decs\n",
    "    comb_phot['survey']=hst3d_phot['survey'].append(wisp_phot['survey'])\n",
    "    #comb_phot['flags']=hst3d_phot['flags'].append(wisp_phot['flags'])\n",
    "    \n",
    "    #strip white spaces from grism_ids #the combination might pose problems\n",
    "    comb_phot['grism_id']=comb_phot['grism_id']\n",
    "    indices['grism_id']=indices['grism_id']\n",
    "    \n",
    "    indices=indices.drop_duplicates(subset='grism_id')\n",
    "    comb_phot=comb_phot.drop_duplicates(subset='grism_id')\n",
    "    \n",
    "    comb_phot.grism_id=comb_phot.grism_id.apply(lambda x: x.replace('.1D.ascii', ' ').strip().lower())\n",
    "    indices.grism_id=indices.grism_id.apply(lambda x: x.replace('.1D.ascii', ' ').strip().lower())\n",
    "    \n",
    "    print (comb_phot.grism_id.iloc[0], indices.grism_id.iloc[0])\n",
    "    master_table=pd.merge(indices, comb_phot, on='grism_id', validate='one_to_one')\n",
    "    \n",
    "    # I probably lost tons of objects with grism id ='0000'\n",
    "    print (master_table.shape, comb_phot.shape, indices.shape)\n",
    "\n",
    "    \n",
    "    master_table[['spex_chi', 'line_chi']]=master_table[['spex_chi', 'line_chi']].applymap(np.float)\n",
    "    master_table['x']=master_table.spex_chi/master_table.line_chi\n",
    "    master_table['f_test']=master_table.f_test\n",
    "\n",
    "    #save the result\n",
    "    #master_table=master_table.join(df)\n",
    "\n",
    "    #drop the spectrum column because it makes the file heavier\n",
    "    #master_table=master_table.drop(columns='spectra')\n",
    "\n",
    "    #make the cut \n",
    "    \n",
    "\n",
    "    return master_table"
   ]
  },
  {
   "cell_type": "code",
   "execution_count": 16,
   "metadata": {},
   "outputs": [
    {
     "data": {
      "text/plain": [
       "((79609, 435), (204078, 30))"
      ]
     },
     "execution_count": 16,
     "metadata": {},
     "output_type": "execute_result"
    }
   ],
   "source": [
    "hst_phot.shape, w_phot.shape"
   ]
  },
  {
   "cell_type": "code",
   "execution_count": 17,
   "metadata": {},
   "outputs": [
    {
     "name": "stdout",
     "output_type": "stream",
     "text": [
      "Index(['grism_id', 'star_flag', 'class_star'], dtype='object')\n",
      "aegis-26-g141_00002 par321-00514\n",
      "(271915, 28) (279595, 9) (430098, 20)\n"
     ]
    }
   ],
   "source": [
    "mdf=combined_wisp_hst_catalogs(hst_phot, w_phot, new_indices)"
   ]
  },
  {
   "cell_type": "code",
   "execution_count": 18,
   "metadata": {},
   "outputs": [
    {
     "data": {
      "text/plain": [
       "(271915, 29)"
      ]
     },
     "execution_count": 18,
     "metadata": {},
     "output_type": "execute_result"
    }
   ],
   "source": [
    "mdf.shape"
   ]
  },
  {
   "cell_type": "code",
   "execution_count": 19,
   "metadata": {},
   "outputs": [],
   "source": [
    "#get all the observation info for each field\n",
    "obs=pd.read_csv(wisps.OUTPUT_FILES+'/observation_log.csv')\n",
    "obs=obs.drop(columns=['Unnamed: 0']).drop_duplicates(subset='POINTING').reindex()"
   ]
  },
  {
   "cell_type": "code",
   "execution_count": 20,
   "metadata": {},
   "outputs": [],
   "source": [
    "obs.columns=[x.lower() for x in obs.columns]"
   ]
  },
  {
   "cell_type": "code",
   "execution_count": 21,
   "metadata": {},
   "outputs": [
    {
     "data": {
      "text/plain": [
       "Index(['ra (deg)', 'dec(deg)', 'l (deg)', 'b (deg)', 'exposure (s)',\n",
       "       'observation date (ut)', 'pointing'],\n",
       "      dtype='object')"
      ]
     },
     "execution_count": 21,
     "metadata": {},
     "output_type": "execute_result"
    }
   ],
   "source": [
    "obs.columns"
   ]
  },
  {
   "cell_type": "code",
   "execution_count": 22,
   "metadata": {},
   "outputs": [
    {
     "data": {
      "text/plain": [
       "2609.0"
      ]
     },
     "execution_count": 22,
     "metadata": {},
     "output_type": "execute_result"
    }
   ],
   "source": [
    "(obs[obs.pointing=='par1'])['exposure (s)'].values[0]"
   ]
  },
  {
   "cell_type": "code",
   "execution_count": 23,
   "metadata": {},
   "outputs": [],
   "source": [
    "def get_proper_pointing(grism_id):\n",
    "    grism_id=grism_id.lower()\n",
    "    if grism_id.startswith('par'):\n",
    "        return grism_id.split('-')[0]\n",
    "    else:\n",
    "        return grism_id.split('-g141')[0]\n",
    "    \n",
    "def get_time(pntg):\n",
    "    try:\n",
    "        g=(obs[obs.pointing==pntg])[['exposure (s)', 'observation date (ut)']]\n",
    "        return g.values[0]\n",
    "    except:\n",
    "        return (np.nan, np.nan)\n",
    "\n",
    "def add_pointing_information(row):\n",
    "    \n",
    "    pntg=get_proper_pointing(row.grism_id)\n",
    "    obst,   obsdate = get_time(pntg)\n",
    "    s3 = pd.Series({'pointing':pntg, 'exposure_time': obst, 'observation_date':obsdate})\n",
    "    row=row.append(s3)\n",
    "    return row"
   ]
  },
  {
   "cell_type": "code",
   "execution_count": 24,
   "metadata": {},
   "outputs": [],
   "source": [
    "obs.columns=obs.columns.str.lower()"
   ]
  },
  {
   "cell_type": "code",
   "execution_count": 25,
   "metadata": {},
   "outputs": [],
   "source": [
    "mt=mdf.reset_index(drop=True).apply(add_pointing_information, axis=1)"
   ]
  },
  {
   "cell_type": "code",
   "execution_count": 26,
   "metadata": {},
   "outputs": [
    {
     "data": {
      "text/plain": [
       "(array([4915., 4915., 4915., ..., 3812., 3812., 3812.]), (271915, 32))"
      ]
     },
     "execution_count": 26,
     "metadata": {},
     "output_type": "execute_result"
    }
   ],
   "source": [
    "mt.exposure_time.values, mt.shape"
   ]
  },
  {
   "cell_type": "code",
   "execution_count": 27,
   "metadata": {},
   "outputs": [],
   "source": [
    "mt.to_hdf(wisps.COMBINED_PHOTO_SPECTRO_FILE, key='all_phot_spec_data')"
   ]
  },
  {
   "cell_type": "code",
   "execution_count": 28,
   "metadata": {},
   "outputs": [
    {
     "data": {
      "text/plain": [
       "Index(['ra (deg)', 'dec(deg)', 'l (deg)', 'b (deg)', 'exposure (s)',\n",
       "       'observation date (ut)', 'pointing'],\n",
       "      dtype='object')"
      ]
     },
     "execution_count": 28,
     "metadata": {},
     "output_type": "execute_result"
    }
   ],
   "source": [
    "obs.columns"
   ]
  },
  {
   "cell_type": "code",
   "execution_count": 29,
   "metadata": {},
   "outputs": [],
   "source": [
    "stars=mt[mt.class_star !=0.]"
   ]
  },
  {
   "cell_type": "code",
   "execution_count": 30,
   "metadata": {},
   "outputs": [
    {
     "data": {
      "text/plain": [
       "(110930, 32)"
      ]
     },
     "execution_count": 30,
     "metadata": {},
     "output_type": "execute_result"
    }
   ],
   "source": [
    "stars.shape"
   ]
  },
  {
   "cell_type": "code",
   "execution_count": 31,
   "metadata": {},
   "outputs": [],
   "source": [
    "stars.to_hdf(wisps.COMBINED_PHOTO_SPECTRO_FILE, key='stars')"
   ]
  },
  {
   "cell_type": "code",
   "execution_count": 32,
   "metadata": {},
   "outputs": [],
   "source": [
    "st=wisps.Annotator.reformat_table(stars)"
   ]
  },
  {
   "cell_type": "code",
   "execution_count": 33,
   "metadata": {},
   "outputs": [],
   "source": [
    "snrs=(st[st.F140.between(18.0, 26.)]).snr1.values\n",
    "mags=(st[st.F140.between(18.0, 26.)]).F140.values\n",
    "xs=(st[st.F140.between(18.0, 26.)]).f_test.values"
   ]
  },
  {
   "cell_type": "code",
   "execution_count": 34,
   "metadata": {},
   "outputs": [],
   "source": [
    "idx=np.logical_and(snrs<200., snrs>0.1)"
   ]
  },
  {
   "cell_type": "code",
   "execution_count": 35,
   "metadata": {},
   "outputs": [
    {
     "data": {
      "text/plain": [
       "Index(['CH_4/H-Cont', 'CH_4/H_2O-1', 'CH_4/H_2O-2', 'CH_4/J-Cont',\n",
       "       'H-cont/H_2O-1', 'H-cont/H_2O-2', 'H-cont/J-Cont', 'H_2O-1/J-Cont',\n",
       "       'H_2O-2/H_2O-1', 'H_2O-2/J-Cont', 'cdf_snr', 'f_test', 'line_chi',\n",
       "       'grism_id', 'snr1', 'snr2', 'snr3', 'snr4', 'spex_chi', 'spt',\n",
       "       'star_flag', 'class_star', 'F110', 'F140', 'F160', 'RA', 'DEC',\n",
       "       'survey', 'x', 'pointing', 'exposure_time', 'observation_date'],\n",
       "      dtype='object')"
      ]
     },
     "execution_count": 35,
     "metadata": {},
     "output_type": "execute_result"
    }
   ],
   "source": [
    "st.columns"
   ]
  },
  {
   "cell_type": "code",
   "execution_count": 36,
   "metadata": {},
   "outputs": [],
   "source": [
    "import seaborn as sns"
   ]
  },
  {
   "cell_type": "code",
   "execution_count": 37,
   "metadata": {},
   "outputs": [],
   "source": [
    "cmap=sns.diverging_palette(150, 275, s=80, l=55, n=9, as_cmap=True)"
   ]
  },
  {
   "cell_type": "code",
   "execution_count": 38,
   "metadata": {},
   "outputs": [
    {
     "data": {
      "text/plain": [
       "<matplotlib.colorbar.Colorbar at 0x1cdfa0d128>"
      ]
     },
     "execution_count": 38,
     "metadata": {},
     "output_type": "execute_result"
    },
    {
     "data": {
      "image/png": "[encoded data removed]",
      "text/plain": [
       "<Figure size 432x288 with 2 Axes>"
      ]
     },
     "metadata": {
      "needs_background": "light"
     },
     "output_type": "display_data"
    }
   ],
   "source": [
    "c=plt.scatter(np.log10(snrs[idx]), mags[idx], marker='+', alpha=0.3, c=xs[idx], cmap=cmap)\n",
    "plt.xlabel('Log SNR', fontsize=18)\n",
    "plt.ylabel('F140W', fontsize=18)\n",
    "plt.axvline(np.log10(3.), c='k')\n",
    "plt.minorticks_on()\n",
    "plt.colorbar()"
   ]
  },
  {
   "cell_type": "code",
   "execution_count": null,
   "metadata": {},
   "outputs": [],
   "source": []
  }
 ],
 "metadata": {
  "kernelspec": {
   "display_name": "Python 3",
   "language": "python",
   "name": "python3"
  },
  "language_info": {
   "codemirror_mode": {
    "name": "ipython",
    "version": 3
   },
   "file_extension": ".py",
   "mimetype": "text/x-python",
   "name": "python",
   "nbconvert_exporter": "python",
   "pygments_lexer": "ipython3",
   "version": "3.7.3"
  }
 },
 "nbformat": 4,
 "nbformat_minor": 4
}
