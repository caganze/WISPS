{
 "cells": [
  {
   "cell_type": "code",
   "execution_count": 58,
   "metadata": {},
   "outputs": [],
   "source": [
    "import splat\n",
    "import wisps\n",
    "import pandas as pd\n",
    "import numpy as np\n",
    "import matplotlib.pyplot as plt\n",
    "from os.path import expanduser\n",
    "homedir = expanduser(\"~\")\n",
    "from astropy.io import ascii\n",
    "%matplotlib inline\n",
    "import ast"
   ]
  },
  {
   "cell_type": "code",
   "execution_count": 59,
   "metadata": {},
   "outputs": [],
   "source": [
    "#get photometry catalogs\n",
    "w_phot=pd.read_csv(wisps.OUTPUT_FILES+'/wisp_photometry.csv')\n",
    "hst_phot=pd.read_csv(wisps.OUTPUT_FILES+'/hst3d_photometry_all.csv')"
   ]
  },
  {
   "cell_type": "code",
   "execution_count": 60,
   "metadata": {},
   "outputs": [],
   "source": [
    "#w_phot.columns"
   ]
  },
  {
   "cell_type": "code",
   "execution_count": 63,
   "metadata": {},
   "outputs": [],
   "source": [
    "#rename wisp grism ids\n",
    "w_phot['grism_id']=w_phot['grism_id'].apply(lambda x: x.lower())\n",
    "#w_phot"
   ]
  },
  {
   "cell_type": "code",
   "execution_count": 64,
   "metadata": {},
   "outputs": [],
   "source": [
    "#read in the indices\n",
    "cols=['name', 'snr', 'spex_chi', 'line_chi', 'spt', 'indices']\n",
    "ids=pd.read_csv(homedir+'/wisp_indices.txt', names =cols, delimiter ='\\t')"
   ]
  },
  {
   "cell_type": "code",
   "execution_count": 65,
   "metadata": {},
   "outputs": [],
   "source": [
    "def strip_diction(s):\n",
    "        #from string to dictionary\n",
    "        return pd.Series(ast.literal_eval(((s.strip().replace('nan', \"'nan'\").replace('-inf', \"'nan'\")).replace('inf', \"'nan'\"))))"
   ]
  },
  {
   "cell_type": "code",
   "execution_count": 66,
   "metadata": {},
   "outputs": [],
   "source": [
    "def reformat_index_table(df):\n",
    "    #assign dictionary keys\n",
    "    ids_list=[]\n",
    "    snr_list=[]\n",
    "    for k in df.columns:\n",
    "        first=df[k].iloc[0]\n",
    "        print (k)\n",
    "        if isinstance(first, str):\n",
    "            if first.strip().startswith(\"{\"):\n",
    "                if not k=='indices':\n",
    "                    snr_list.append(df[k].apply(lambda x: strip_diction(x)))\n",
    "                else:\n",
    "                    ids_list.append(df[k].apply(lambda x: strip_diction(x)).applymap(tuple))\n",
    "      \n",
    "    \n",
    "    return snr_list, ids_list"
   ]
  },
  {
   "cell_type": "code",
   "execution_count": 67,
   "metadata": {},
   "outputs": [],
   "source": [
    "def replace(x):\n",
    "    #print (x)\n",
    "    if (isinstance(x, float)):\n",
    "        if (np.isnan(x)):\n",
    "            return tuple([np.nan, np.nan])\n",
    "    else:\n",
    "        return x"
   ]
  },
  {
   "cell_type": "code",
   "execution_count": 68,
   "metadata": {},
   "outputs": [],
   "source": [
    "cols=list(wisps.INDEX_NAMES)"
   ]
  },
  {
   "cell_type": "code",
   "execution_count": 69,
   "metadata": {},
   "outputs": [
    {
     "name": "stdout",
     "output_type": "stream",
     "text": [
      "name\n",
      "snr\n",
      "spex_chi\n",
      "line_chi\n",
      "spt\n",
      "indices\n"
     ]
    },
    {
     "data": {
      "text/plain": [
       "(430413, 430413)"
      ]
     },
     "execution_count": 69,
     "metadata": {},
     "output_type": "execute_result"
    }
   ],
   "source": [
    "snr_list, ids_list=reformat_index_table(ids)\n",
    "fmtids=(pd.concat(snr_list).join(pd.concat((ids_list )))).replace('nan', np.nan)\n",
    "fmtids[cols]=fmtids[cols].applymap(lambda x: replace(x))\n",
    "len(fmtids), len(ids)"
   ]
  },
  {
   "cell_type": "code",
   "execution_count": 70,
   "metadata": {},
   "outputs": [],
   "source": [
    "indices=fmtids\n",
    "indices[['name', 'spex_chi', 'line_chi', 'spt']]=ids[['name',  'spex_chi', 'line_chi', 'spt']]"
   ]
  },
  {
   "cell_type": "code",
   "execution_count": 13,
   "metadata": {},
   "outputs": [],
   "source": [
    "#hst_phot.grism_id"
   ]
  },
  {
   "cell_type": "code",
   "execution_count": 71,
   "metadata": {},
   "outputs": [],
   "source": [
    "from scipy import stats\n",
    "def f_test(x):\n",
    "    \"\"\"\n",
    "    f-test statistic with defualt degrees of freedom\n",
    "    \"\"\"\n",
    "    return stats.f.pdf(x, 2, 1, 0, scale=1)"
   ]
  },
  {
   "cell_type": "code",
   "execution_count": 72,
   "metadata": {},
   "outputs": [],
   "source": [
    "def combined_wisp_hst_catalogs(hst3d_phot,wisp_phot, indices):\n",
    "    \"\"\"\n",
    "    combine both hst-3d and wisps into one big file with all the information\n",
    "    \"\"\"\n",
    "    #hst_3d does not have 110 photometry\n",
    "    hst3d_phot['F110_mag']=np.nan\n",
    "    hst3d_phot['F110_mag_er']=np.nan\n",
    "\n",
    "    \n",
    "    #combine flags into one flag\n",
    "    flgs=hst3d_phot[['use_phot_x', 'f_cover', 'f_flagged', 'f_negative']].values\n",
    "    hst3d_phot['phot_flags']= pd.Series([i for i in flgs])\n",
    "    \n",
    "    hst3d_phot['survey']='HST3D'\n",
    "    wisp_phot['survey']='WISP'\n",
    "    wisp_phot=wisp_phot.rename(columns={'EXTRACTION_FLAG':'phot_flags'})\n",
    "   \n",
    "    #rename some columns\n",
    "    indices=indices.rename(columns={'name':'grism_id'})\n",
    "    \n",
    "    ##drop .ascii from hst_phot\n",
    "    indices['grism_id']=indices['grism_id'].apply(lambda x : x.split('.1D.ascii')[0])\n",
    "    \n",
    "    #combined_photometry (the order matters: HST3D+WISPP\n",
    "    comb_phot=pd.DataFrame()\n",
    "    grism_ids=hst3d_phot['grism_id'].append(wisp_phot['grism_id'])\n",
    "    star_flags=hst3d_phot['star_flag'].append(wisp_phot['star_flag'])\n",
    "    comb_phot['grism_id']=grism_ids\n",
    "    comb_phot['star_flag']=star_flags\n",
    "    comb_phot['class_star']=hst3d_phot['class_star'].append(wisp_phot['star_flag'])\n",
    "    \n",
    "    print(comb_phot.columns)\n",
    "    for flt in ['110', '140', '160']:\n",
    "        mag_tuple1=hst3d_phot[['F'+flt+'_mag', 'F'+flt+'_mag_er']].apply(tuple, axis=1)\n",
    "        mag_tuple2=wisp_phot[['NIMCOS_'+flt+'W', 'NIMCOS_'+flt+'W_ER']].apply(tuple, axis=1)\n",
    "        mags=mag_tuple1.append(mag_tuple2)\n",
    "        comb_phot['F'+flt]=mags\n",
    "        \n",
    "    ras=hst3d_phot['ra_x'].append(wisp_phot['RA'])\n",
    "    decs=hst3d_phot['dec_x'].append(wisp_phot['DEC'])\n",
    "        \n",
    "    comb_phot['RA']=ras\n",
    "    comb_phot['DEC']=decs\n",
    "    comb_phot['survey']=hst3d_phot['survey'].append(wisp_phot['survey'])\n",
    "    #comb_phot['flags']=hst3d_phot['flags'].append(wisp_phot['flags'])\n",
    "    \n",
    "    #strip white spaces from grism_ids #the combination might pose problems\n",
    "    comb_phot['grism_id']=comb_phot['grism_id'].apply(lambda x: x.strip())\n",
    "    indices['grism_id']=indices['grism_id'].apply(lambda x: x.strip())\n",
    "    \n",
    "    indices=indices.drop_duplicates(subset='grism_id')\n",
    "    comb_phot=comb_phot.drop_duplicates(subset='grism_id')\n",
    "    master_table=pd.merge(indices, comb_phot, on='grism_id', validate='one_to_one')\n",
    "    \n",
    "    # I probably lost tons of objects with grism id ='0000'\n",
    "    print (master_table.shape, comb_phot.shape, indices.shape)\n",
    "    #print (comb_phot.grism_id, indices.grism_id)\n",
    "    #measure line and std chi-square\n",
    "    #df=master_table.grism_id.apply(compare_to_both)\n",
    "    #replace zeros with something close to zero to avoid dividing by zero\n",
    "    master_table.line_chi[(master_table.line_chi==0.0)]=np.float(10**-40)\n",
    "    ###\n",
    "    master_table[['spex_chi', 'line_chi']]=master_table[['spex_chi', 'line_chi']].applymap(np.float)\n",
    "    master_table['x']=master_table.spex_chi/master_table.line_chi\n",
    "    master_table['f_test']=master_table.x.apply(f_test)\n",
    "\n",
    "    #save the result\n",
    "    #master_table=master_table.join(df)\n",
    "\n",
    "    #drop the spectrum column because it makes the file heavier\n",
    "    #master_table=master_table.drop(columns='spectra')\n",
    "\n",
    "    #make the cut \n",
    "\n",
    "    return master_table"
   ]
  },
  {
   "cell_type": "code",
   "execution_count": 73,
   "metadata": {},
   "outputs": [
    {
     "name": "stdout",
     "output_type": "stream",
     "text": [
      "Index(['grism_id', 'star_flag', 'class_star'], dtype='object')\n",
      "(270436, 27) (279595, 9) (430413, 19)\n"
     ]
    }
   ],
   "source": [
    "mdf=combined_wisp_hst_catalogs(hst_phot, w_phot, indices)"
   ]
  },
  {
   "cell_type": "code",
   "execution_count": 74,
   "metadata": {},
   "outputs": [],
   "source": [
    "#get all the observation info for each field\n",
    "obs=pd.read_csv(wisps.OUTPUT_FILES+'/observation_log.csv')\n",
    "obs=obs.drop(columns=['Unnamed: 0']).drop_duplicates(subset='POINTING').reindex()"
   ]
  },
  {
   "cell_type": "code",
   "execution_count": 75,
   "metadata": {},
   "outputs": [],
   "source": [
    "obs.columns=[x.lower() for x in obs.columns]"
   ]
  },
  {
   "cell_type": "code",
   "execution_count": 76,
   "metadata": {},
   "outputs": [],
   "source": [
    "def get_pointing_name(grism_id):\n",
    "    if grism_id.lower().startswith('par'):\n",
    "        return grism_id.split('-')[0]\n",
    "    else:\n",
    "        return grism_id.split('-G')[0]\n",
    "\n",
    "def add_pointing_information(row):\n",
    "    #print (type(row))\n",
    "    pntg=get_pointing_name(row.grism_id)\n",
    "    #print (pntg)\n",
    "    s3 = pd.Series({'pointing':pntg, 'exposure':obs['exposure (s)'][obs.pointing.isin([pntg])].iloc[0] })\n",
    "    row=row.append(s3)\n",
    "    return row"
   ]
  },
  {
   "cell_type": "code",
   "execution_count": 37,
   "metadata": {},
   "outputs": [],
   "source": [
    "#"
   ]
  },
  {
   "cell_type": "code",
   "execution_count": 77,
   "metadata": {},
   "outputs": [],
   "source": [
    "mt=mdf.reset_index(drop=True).apply(add_pointing_information, axis=1)"
   ]
  },
  {
   "cell_type": "code",
   "execution_count": 79,
   "metadata": {},
   "outputs": [],
   "source": [
    "mt.to_hdf(wisps.COMBINED_PHOTO_SPECTRO_FILE, key='all_phot_spec_data')"
   ]
  },
  {
   "cell_type": "code",
   "execution_count": 80,
   "metadata": {},
   "outputs": [
    {
     "data": {
      "text/plain": [
       "270436"
      ]
     },
     "execution_count": 80,
     "metadata": {},
     "output_type": "execute_result"
    }
   ],
   "source": [
    "len(mt)"
   ]
  },
  {
   "cell_type": "code",
   "execution_count": 81,
   "metadata": {},
   "outputs": [
    {
     "data": {
      "text/plain": [
       "430413"
      ]
     },
     "execution_count": 81,
     "metadata": {},
     "output_type": "execute_result"
    }
   ],
   "source": [
    "len(ids)"
   ]
  },
  {
   "cell_type": "code",
   "execution_count": 42,
   "metadata": {},
   "outputs": [],
   "source": [
    "#idsonly=indices[indices.snr2>5.0]\n",
    "#idsonly['f']=f_test(idsonly.spex_chi.apply(float)/idsonly.line_chi.apply(float))"
   ]
  },
  {
   "cell_type": "code",
   "execution_count": 51,
   "metadata": {},
   "outputs": [],
   "source": [
    "#wisps.Spectrum(filepath=wisps.REMOTE_FOLDER+'/aegis/aegis-01/1D/ASCII/aegis-01-G141_14735.1D.ascii')"
   ]
  },
  {
   "cell_type": "code",
   "execution_count": 43,
   "metadata": {},
   "outputs": [],
   "source": [
    "#idsonly[idsonly.f>0.6].rename(columns={'name':'Names'}).to_hdf(wisps.COMBINED_PHOTO_SPECTRO_FILE, key='indices_only')"
   ]
  },
  {
   "cell_type": "code",
   "execution_count": 82,
   "metadata": {},
   "outputs": [],
   "source": [
    "grism_ids=(wisps.datasets['candidates']['grism_id'])[wisps.datasets['candidates']['spt'].apply(splat.typeToNum) >20.].values"
   ]
  },
  {
   "cell_type": "code",
   "execution_count": 53,
   "metadata": {},
   "outputs": [],
   "source": [
    "#mt['class_star']"
   ]
  },
  {
   "cell_type": "code",
   "execution_count": 83,
   "metadata": {},
   "outputs": [
    {
     "data": {
      "text/html": [
       "<div>\n",
       "<style scoped>\n",
       "    .dataframe tbody tr th:only-of-type {\n",
       "        vertical-align: middle;\n",
       "    }\n",
       "\n",
       "    .dataframe tbody tr th {\n",
       "        vertical-align: top;\n",
       "    }\n",
       "\n",
       "    .dataframe thead th {\n",
       "        text-align: right;\n",
       "    }\n",
       "</style>\n",
       "<table border=\"1\" class=\"dataframe\">\n",
       "  <thead>\n",
       "    <tr style=\"text-align: right;\">\n",
       "      <th></th>\n",
       "      <th>class_star</th>\n",
       "      <th>grism_id</th>\n",
       "    </tr>\n",
       "  </thead>\n",
       "  <tbody>\n",
       "    <tr>\n",
       "      <th>13277</th>\n",
       "      <td>0.03</td>\n",
       "      <td>par338-00136</td>\n",
       "    </tr>\n",
       "    <tr>\n",
       "      <th>13340</th>\n",
       "      <td>0.83</td>\n",
       "      <td>par338-00035</td>\n",
       "    </tr>\n",
       "    <tr>\n",
       "      <th>17150</th>\n",
       "      <td>0.05</td>\n",
       "      <td>par27-00036</td>\n",
       "    </tr>\n",
       "    <tr>\n",
       "      <th>30603</th>\n",
       "      <td>0.31</td>\n",
       "      <td>par65-00035</td>\n",
       "    </tr>\n",
       "    <tr>\n",
       "      <th>78946</th>\n",
       "      <td>0.42</td>\n",
       "      <td>par199-00009</td>\n",
       "    </tr>\n",
       "    <tr>\n",
       "      <th>98634</th>\n",
       "      <td>0.83</td>\n",
       "      <td>par156-00041</td>\n",
       "    </tr>\n",
       "    <tr>\n",
       "      <th>106025</th>\n",
       "      <td>0.17</td>\n",
       "      <td>par463-00176</td>\n",
       "    </tr>\n",
       "    <tr>\n",
       "      <th>108555</th>\n",
       "      <td>0.03</td>\n",
       "      <td>par32-00075</td>\n",
       "    </tr>\n",
       "    <tr>\n",
       "      <th>114500</th>\n",
       "      <td>0.03</td>\n",
       "      <td>par191-00077</td>\n",
       "    </tr>\n",
       "    <tr>\n",
       "      <th>116648</th>\n",
       "      <td>0.03</td>\n",
       "      <td>par201-00044</td>\n",
       "    </tr>\n",
       "    <tr>\n",
       "      <th>116930</th>\n",
       "      <td>0.31</td>\n",
       "      <td>par21-00005</td>\n",
       "    </tr>\n",
       "    <tr>\n",
       "      <th>117654</th>\n",
       "      <td>0.72</td>\n",
       "      <td>par130-00092</td>\n",
       "    </tr>\n",
       "    <tr>\n",
       "      <th>120754</th>\n",
       "      <td>0.84</td>\n",
       "      <td>par244-00072</td>\n",
       "    </tr>\n",
       "    <tr>\n",
       "      <th>131285</th>\n",
       "      <td>0.84</td>\n",
       "      <td>par438-00051</td>\n",
       "    </tr>\n",
       "    <tr>\n",
       "      <th>168590</th>\n",
       "      <td>0.03</td>\n",
       "      <td>par58-00112</td>\n",
       "    </tr>\n",
       "    <tr>\n",
       "      <th>177640</th>\n",
       "      <td>0.04</td>\n",
       "      <td>par106-00047</td>\n",
       "    </tr>\n",
       "    <tr>\n",
       "      <th>185087</th>\n",
       "      <td>0.69</td>\n",
       "      <td>par467-00135</td>\n",
       "    </tr>\n",
       "    <tr>\n",
       "      <th>212490</th>\n",
       "      <td>0.98</td>\n",
       "      <td>aegis-03-G141_17053</td>\n",
       "    </tr>\n",
       "    <tr>\n",
       "      <th>233810</th>\n",
       "      <td>0.87</td>\n",
       "      <td>uds-25-G141_36758</td>\n",
       "    </tr>\n",
       "    <tr>\n",
       "      <th>244543</th>\n",
       "      <td>0.98</td>\n",
       "      <td>goodsn-24-G141_21552</td>\n",
       "    </tr>\n",
       "    <tr>\n",
       "      <th>248591</th>\n",
       "      <td>0.98</td>\n",
       "      <td>goodsn-33-G141_09283</td>\n",
       "    </tr>\n",
       "    <tr>\n",
       "      <th>249221</th>\n",
       "      <td>0.91</td>\n",
       "      <td>goodss-04-G141_17402</td>\n",
       "    </tr>\n",
       "    <tr>\n",
       "      <th>254102</th>\n",
       "      <td>0.95</td>\n",
       "      <td>goodss-28-G141_10859</td>\n",
       "    </tr>\n",
       "    <tr>\n",
       "      <th>256860</th>\n",
       "      <td>0.96</td>\n",
       "      <td>goodss-01-G141_45889</td>\n",
       "    </tr>\n",
       "  </tbody>\n",
       "</table>\n",
       "</div>"
      ],
      "text/plain": [
       "        class_star              grism_id\n",
       "13277         0.03          par338-00136\n",
       "13340         0.83          par338-00035\n",
       "17150         0.05           par27-00036\n",
       "30603         0.31           par65-00035\n",
       "78946         0.42          par199-00009\n",
       "98634         0.83          par156-00041\n",
       "106025        0.17          par463-00176\n",
       "108555        0.03           par32-00075\n",
       "114500        0.03          par191-00077\n",
       "116648        0.03          par201-00044\n",
       "116930        0.31           par21-00005\n",
       "117654        0.72          par130-00092\n",
       "120754        0.84          par244-00072\n",
       "131285        0.84          par438-00051\n",
       "168590        0.03           par58-00112\n",
       "177640        0.04          par106-00047\n",
       "185087        0.69          par467-00135\n",
       "212490        0.98   aegis-03-G141_17053\n",
       "233810        0.87     uds-25-G141_36758\n",
       "244543        0.98  goodsn-24-G141_21552\n",
       "248591        0.98  goodsn-33-G141_09283\n",
       "249221        0.91  goodss-04-G141_17402\n",
       "254102        0.95  goodss-28-G141_10859\n",
       "256860        0.96  goodss-01-G141_45889"
      ]
     },
     "execution_count": 83,
     "metadata": {},
     "output_type": "execute_result"
    }
   ],
   "source": [
    "(mt[['class_star', 'grism_id']])[mt.grism_id.isin(grism_ids)]"
   ]
  },
  {
   "cell_type": "code",
   "execution_count": 85,
   "metadata": {},
   "outputs": [],
   "source": [
    "stars=mt[mt.class_star !=0.]"
   ]
  },
  {
   "cell_type": "code",
   "execution_count": 86,
   "metadata": {},
   "outputs": [],
   "source": [
    "stars.to_hdf(wisps.COMBINED_PHOTO_SPECTRO_FILE, key='stars')"
   ]
  },
  {
   "cell_type": "code",
   "execution_count": 90,
   "metadata": {},
   "outputs": [],
   "source": [
    "st=wisps.Annotator.reformat_table(stars)"
   ]
  },
  {
   "cell_type": "code",
   "execution_count": 104,
   "metadata": {},
   "outputs": [],
   "source": [
    "snrs=(st[st.F140.between(24.0, 26.)]).snr1\n",
    "mags=(st[st.F140.between(24.0, 26.)]).F140"
   ]
  },
  {
   "cell_type": "code",
   "execution_count": 108,
   "metadata": {},
   "outputs": [],
   "source": [
    "idx=np.logical_and(snrs<10., snrs>1.)"
   ]
  },
  {
   "cell_type": "code",
   "execution_count": 109,
   "metadata": {},
   "outputs": [
    {
     "data": {
      "text/plain": [
       "<matplotlib.lines.Line2D at 0x1c34fd9e10>"
      ]
     },
     "execution_count": 109,
     "metadata": {},
     "output_type": "execute_result"
    },
    {
     "data": {
      "image/png": "[encoded data removed]",
      "text/plain": [
       "<Figure size 480x240 with 1 Axes>"
      ]
     },
     "metadata": {},
     "output_type": "display_data"
    }
   ],
   "source": [
    "plt.scatter(snrs[idx], mags[idx], marker='+', alpha=0.3)\n",
    "plt.xlabel('SNR')\n",
    "plt.ylabel('F140W')\n",
    "plt.axvline(3., c='y')"
   ]
  },
  {
   "cell_type": "code",
   "execution_count": null,
   "metadata": {},
   "outputs": [],
   "source": []
  }
 ],
 "metadata": {
  "kernelspec": {
   "display_name": "Python 3",
   "language": "python",
   "name": "python3"
  },
  "language_info": {
   "codemirror_mode": {
    "name": "ipython",
    "version": 3
   },
   "file_extension": ".py",
   "mimetype": "text/x-python",
   "name": "python",
   "nbconvert_exporter": "python",
   "pygments_lexer": "ipython3",
   "version": "3.7.3"
  }
 },
 "nbformat": 4,
 "nbformat_minor": 2
}
