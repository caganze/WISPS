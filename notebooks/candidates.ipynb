{
 "cells": [
  {
   "cell_type": "code",
   "execution_count": null,
   "metadata": {},
   "outputs": [],
   "source": [
    "import splat\n",
    "import wisps\n",
    "import matplotlib.pyplot as plt\n",
    "import numpy as np\n",
    "import pandas as pd\n",
    "import matplotlib as mpl\n",
    "from astropy.visualization import ZScaleInterval\n",
    "import matplotlib\n",
    "\n",
    "%matplotlib inline"
   ]
  },
  {
   "cell_type": "code",
   "execution_count": null,
   "metadata": {},
   "outputs": [],
   "source": [
    "df_ids=wisps.UCD_SPECTRA.grism_id"
   ]
  },
  {
   "cell_type": "code",
   "execution_count": null,
   "metadata": {},
   "outputs": [],
   "source": [
    "df=pd.DataFrame()"
   ]
  },
  {
   "cell_type": "code",
   "execution_count": null,
   "metadata": {},
   "outputs": [],
   "source": [
    "df['grism_id']=df_ids.values"
   ]
  },
  {
   "cell_type": "code",
   "execution_count": null,
   "metadata": {},
   "outputs": [],
   "source": [
    "s=wisps.Source(filename=df_ids[0], is_ucd=True)"
   ]
  },
  {
   "cell_type": "code",
   "execution_count": null,
   "metadata": {},
   "outputs": [],
   "source": [
    "s.distance, s.mags, s.spectral_type"
   ]
  },
  {
   "cell_type": "code",
   "execution_count": null,
   "metadata": {},
   "outputs": [],
   "source": [
    "hvgjbkn"
   ]
  },
  {
   "cell_type": "code",
   "execution_count": null,
   "metadata": {},
   "outputs": [],
   "source": [
    "%%capture\n",
    "df['spectra']=df.grism_id.apply(lambda x: wisps.Source(filename=x, is_ucd=True))"
   ]
  },
  {
   "cell_type": "code",
   "execution_count": null,
   "metadata": {},
   "outputs": [],
   "source": [
    "#remove extra problematic spectra\n",
    "problems=['cosmos-02-g141_04153', 'cosmos-05-g141_07469']"
   ]
  },
  {
   "cell_type": "code",
   "execution_count": null,
   "metadata": {},
   "outputs": [],
   "source": [
    "df=(df[ ~df.grism_id.str.lower().isin(problems)]).reset_index(drop=True)"
   ]
  },
  {
   "cell_type": "code",
   "execution_count": null,
   "metadata": {},
   "outputs": [],
   "source": [
    "df['spt']=df['spectra'].apply(lambda x: wisps.make_spt_number(x.spectral_type[0]))"
   ]
  },
  {
   "cell_type": "code",
   "execution_count": null,
   "metadata": {},
   "outputs": [],
   "source": [
    "df=df.sort_values(by='spt').reset_index(drop=True)"
   ]
  },
  {
   "cell_type": "code",
   "execution_count": null,
   "metadata": {},
   "outputs": [],
   "source": [
    "df"
   ]
  },
  {
   "cell_type": "code",
   "execution_count": null,
   "metadata": {},
   "outputs": [],
   "source": [
    "df['distance']=df.spectra.apply(lambda x: x.distance['val'].value)"
   ]
  },
  {
   "cell_type": "code",
   "execution_count": null,
   "metadata": {},
   "outputs": [],
   "source": [
    "df['RA']=df.spectra.apply(lambda x: x.coords.ra.value)\n",
    "df['DEC']=df.spectra.apply(lambda x: x.coords.dec.value)"
   ]
  },
  {
   "cell_type": "code",
   "execution_count": null,
   "metadata": {},
   "outputs": [],
   "source": [
    "df['snr1']=df.spectra.apply(lambda x: x.snr['snr1'])"
   ]
  },
  {
   "cell_type": "code",
   "execution_count": null,
   "metadata": {},
   "outputs": [],
   "source": [
    "fdf=df[df.spt >=17.]"
   ]
  },
  {
   "cell_type": "code",
   "execution_count": null,
   "metadata": {},
   "outputs": [],
   "source": [
    "len(fdf)"
   ]
  },
  {
   "cell_type": "code",
   "execution_count": null,
   "metadata": {},
   "outputs": [],
   "source": [
    "#distance distributions\n",
    "from astropy.coordinates import SkyCoord\n",
    "import astropy.coordinates as astrocoord\n",
    "import astropy.units as u\n",
    "coords=SkyCoord(ra=fdf.RA.values*u.deg, dec=fdf.DEC.values*u.deg, distance=fdf.distance.values*u.pc)"
   ]
  },
  {
   "cell_type": "code",
   "execution_count": null,
   "metadata": {},
   "outputs": [],
   "source": [
    "galoc=coords.transform_to(astrocoord.Galactocentric(galcen_distance=8.3*u.kpc))"
   ]
  },
  {
   "cell_type": "code",
   "execution_count": null,
   "metadata": {},
   "outputs": [],
   "source": [
    "#Rsun=8300.\n",
    "#Zsun=27.\n",
    "#r=np.sqrt( (coords.distance.value * np.cos( coords.galactic.b.radian ) )**2 + Rsun * (Rsun - 2 * coords.distance.value * np.cos( coords.galactic.b.radian ) * np.cos( coords.galactic.l.radian ) ) )\n",
    "#z=Zsun+ coords.distance.value * np.sin( coords.galactic.b.radian - np.arctan( Zsun / Rsun) )\n",
    "x, y, z=galoc.cartesian.xyz\n",
    "r=(x**2+y**2)**0.5"
   ]
  },
  {
   "cell_type": "code",
   "execution_count": null,
   "metadata": {},
   "outputs": [],
   "source": [
    "fig, (ax, ax1)=plt.subplots(figsize=(11, 4), ncols=2)\n",
    "sc=ax.scatter(r, z, c=fdf.spt.values, s=50, cmap='viridis')\n",
    "br=plt.colorbar(sc)\n",
    "#ax.ylabel('z (pc)', fontsize=20)\n",
    "#ax.xlabel('r (pc)', fontsize=20)\n",
    "#plt.grid()\n",
    "\n",
    "ax.minorticks_on()\n",
    "\n",
    "sc=ax1.scatter(x, y, c=fdf.spt.values, s=50, cmap='viridis')\n",
    "\n",
    "\n",
    "#plt.grid()\n",
    "ax.minorticks_on()\n",
    "\n",
    "ax.set_xlim([6000, 11000])\n",
    "ax.set_ylim([-5000, 6000])\n",
    "\n",
    "ax1.set_xlim([-13000, -2500])\n",
    "ax1.set_ylim([-3000, 3000])\n",
    "\n",
    "ax.set_ylabel('z (pc)', fontsize=20)\n",
    "ax.set_xlabel('r (pc)', fontsize=20)\n",
    "ax1.set_ylabel('x (pc)', fontsize=20)\n",
    "ax1.set_xlabel('y (pc)', fontsize=20)\n",
    "\n",
    "ax.minorticks_on()\n",
    "ax1.minorticks_on()\n",
    "\n",
    "br.set_ticks([20, 25, 30, 35, 40])\n",
    "br.set_ticklabels(['L0', 'L5', 'T0', 'T5', 'Y0'])\n",
    "plt.tight_layout()\n",
    "plt.savefig(wisps.OUTPUT_FIGURES+'/candidate_distances.pdf', bbox_inches='tight')"
   ]
  },
  {
   "cell_type": "code",
   "execution_count": null,
   "metadata": {},
   "outputs": [],
   "source": [
    "mags=wisps.Annotator.reformat_table(pd.DataFrame.from_records(fdf.spectra.apply(lambda x: x.mags).values))"
   ]
  },
  {
   "cell_type": "code",
   "execution_count": null,
   "metadata": {},
   "outputs": [],
   "source": [
    "#MAKE THIS COLOR ABSOLUTE MAG from your mag relations"
   ]
  },
  {
   "cell_type": "code",
   "execution_count": null,
   "metadata": {},
   "outputs": [],
   "source": [
    "abs_mag_relation_140=wisps.POLYNOMIAL_RELATIONS['sp_F140W']\n",
    "abs_mag_relation_110=wisps.POLYNOMIAL_RELATIONS['sp_F110W']\n",
    "abs_mag_relation_160=wisps.POLYNOMIAL_RELATIONS['sp_F160W']"
   ]
  },
  {
   "cell_type": "code",
   "execution_count": null,
   "metadata": {},
   "outputs": [],
   "source": [
    "dhgjk=fdf.sort_values(by='distance')[['grism_id', 'distance', 'spt']]"
   ]
  },
  {
   "cell_type": "code",
   "execution_count": null,
   "metadata": {},
   "outputs": [],
   "source": [
    "latc_df=pd.DataFrame()"
   ]
  },
  {
   "cell_type": "code",
   "execution_count": null,
   "metadata": {},
   "outputs": [],
   "source": [
    "latc_df['Shortname']=fdf.spectra.apply(lambda x: x.shortname.upper())\n",
    "latc_df['grism id']=fdf.spectra.apply(lambda x: x.name.upper())\n",
    "latc_df['snrj']=fdf.spectra.apply(lambda x: int(round(x.snr['snr1'])))\n",
    "latc_df['spt']=fdf.spectra.apply(lambda x: x.spectral_type)\n",
    "latc_df['ra']=fdf.spectra.apply(lambda x: x.ra.value)\n",
    "latc_df['dec']=fdf.spectra.apply(lambda x: x.dec.value)\n",
    "latc_df['f110']=fdf.spectra.apply(lambda x: round(x.mags['F110W'][0], 1))\n",
    "latc_df['f110_er']=fdf.spectra.apply(lambda x: round(x.mags['F110W'][1], 1))\n",
    "latc_df['f140']=fdf.spectra.apply(lambda x: round(x.mags['F140W'][0],1))\n",
    "latc_df['f140_er']=fdf.spectra.apply(lambda x: round(x.mags['F140W'][1], 1))\n",
    "latc_df['f160']=fdf.spectra.apply(lambda x: round(x.mags['F160W'][0], 1))\n",
    "latc_df['f160_er']=fdf.spectra.apply(lambda x: round(x.mags['F160W'][1], 1))\n",
    "latc_df['distance']=fdf.spectra.apply(lambda x: int(round(x.distance['val'].value)))\n",
    "latc_df['distance_er']=fdf.spectra.apply(lambda x: int(round(x.distance['er'].value)))\n",
    "\n"
   ]
  },
  {
   "cell_type": "code",
   "execution_count": null,
   "metadata": {},
   "outputs": [],
   "source": [
    "df[df.grism_id=='goodsn-33-G141_09283'].spt.apply(wisps.make_spt_number)>=17"
   ]
  },
  {
   "cell_type": "code",
   "execution_count": null,
   "metadata": {},
   "outputs": [],
   "source": [
    "'goodsn-33-G141_09283'.lower() in latc_df['grism id'].apply(lambda x: x.lower()).values"
   ]
  },
  {
   "cell_type": "code",
   "execution_count": null,
   "metadata": {},
   "outputs": [],
   "source": [
    "latc_df[latc_df.spt=='L4']"
   ]
  },
  {
   "cell_type": "code",
   "execution_count": null,
   "metadata": {},
   "outputs": [],
   "source": [
    "%%capture\n",
    "fold='/Users/caganze/research/wisps/figures/ltwarfs/'\n",
    "\n",
    "ids=0\n",
    "for idx, row in fdf.iterrows():\n",
    "    s=row.spectra\n",
    "    \n",
    "    filename=fold+'spectrum'+str(ids)+'.jpeg'\n",
    "    s.plot(save=True, filename=filename)\n",
    "    ids=ids+1\n"
   ]
  },
  {
   "cell_type": "code",
   "execution_count": null,
   "metadata": {},
   "outputs": [],
   "source": [
    "from astropy.coordinates import SkyCoord"
   ]
  },
  {
   "cell_type": "code",
   "execution_count": null,
   "metadata": {},
   "outputs": [],
   "source": [
    "indices_df=pd.DataFrame.from_records(df.spectra.apply(lambda x: x.indices).values)"
   ]
  },
  {
   "cell_type": "code",
   "execution_count": null,
   "metadata": {},
   "outputs": [],
   "source": [
    "for k in indices_df.columns: df[k]= indices_df[k]"
   ]
  },
  {
   "cell_type": "code",
   "execution_count": null,
   "metadata": {},
   "outputs": [],
   "source": [
    "#df.to_hdf(wisps.OUTPUT_FILES+'/true_spectra_cands.hdf', key='with_indices')"
   ]
  },
  {
   "cell_type": "code",
   "execution_count": null,
   "metadata": {},
   "outputs": [],
   "source": [
    "import astropy.units as u"
   ]
  },
  {
   "cell_type": "code",
   "execution_count": null,
   "metadata": {},
   "outputs": [],
   "source": [
    "#latc_df.ra.values*u.deg"
   ]
  },
  {
   "cell_type": "code",
   "execution_count": null,
   "metadata": {},
   "outputs": [],
   "source": [
    "sk=SkyCoord(ra=latc_df.ra.values*u.deg, dec=latc_df.dec.values*u.deg, distance=latc_df.distance.values*u.pc)"
   ]
  },
  {
   "cell_type": "code",
   "execution_count": null,
   "metadata": {},
   "outputs": [],
   "source": [
    "norm = matplotlib.colors.Normalize(vmin=20., vmax=37.0)"
   ]
  },
  {
   "cell_type": "code",
   "execution_count": null,
   "metadata": {},
   "outputs": [],
   "source": [
    "from matplotlib import cm"
   ]
  },
  {
   "cell_type": "code",
   "execution_count": null,
   "metadata": {},
   "outputs": [],
   "source": [
    "import wisps.simulations as wispsim"
   ]
  },
  {
   "cell_type": "code",
   "execution_count": null,
   "metadata": {},
   "outputs": [],
   "source": [
    "df['pointing']=df.grism_id.apply(wispsim.get_proper_pointing)"
   ]
  },
  {
   "cell_type": "code",
   "execution_count": null,
   "metadata": {},
   "outputs": [],
   "source": [
    "pntcoords=SkyCoord([x.coord for x in wisps.OBSERVED_POINTINGS if not x.name in df.pointing.values])"
   ]
  },
  {
   "cell_type": "code",
   "execution_count": null,
   "metadata": {},
   "outputs": [],
   "source": [
    "fig = plt.figure(figsize=(8, 8))\n",
    "ax = fig.add_subplot(111, projection='mollweide')\n",
    "\n",
    "ax.scatter(pntcoords.galactic.l.wrap_at(180*u.deg).radian, pntcoords.galactic.b.wrap_at(180*u.deg).radian, c='grey', marker='x', alpha=0.5)\n",
    "c=ax.scatter(sk.galactic.l.wrap_at(180*u.deg).radian, sk.galactic.b.wrap_at(180*u.deg).radian,\n",
    "           c=latc_df.spt.values, cmap='viridis')\n",
    "\n",
    "\n",
    "plt.xlabel(\"l\", fontsize=18)\n",
    "plt.ylabel(\"b\", fontsize=18)\n",
    "plt.grid()\n",
    "#br=plt.colorbar(c, orientation=\"horizontal\")\n",
    "#br.set_ticks([20, 25, 30, 35, 40])\n",
    "#br.set_ticklabels(['L0', 'L5', 'T0', 'T5', 'Y0'])\n",
    "plt.tight_layout()\n",
    "plt.savefig(wisps.OUTPUT_FIGURES+'/candidate_skymap.pdf', bbox_inches='tight')"
   ]
  },
  {
   "cell_type": "code",
   "execution_count": null,
   "metadata": {},
   "outputs": [],
   "source": [
    "df.columns"
   ]
  },
  {
   "cell_type": "code",
   "execution_count": null,
   "metadata": {},
   "outputs": [],
   "source": [
    "latc_df.to_latex(wisps.LIBRARIES+'/candidates.tex',\n",
    "             header=True, index=False, na_rep=' ')"
   ]
  },
  {
   "cell_type": "code",
   "execution_count": null,
   "metadata": {},
   "outputs": [],
   "source": [
    "#check that I'm not crazy\n",
    "stars=wisps.Annotator.reformat_table((wisps.datasets['stars']))\n",
    "stars['grism_id']=stars.grism_id.apply(lambda x: x.lower())"
   ]
  },
  {
   "cell_type": "code",
   "execution_count": null,
   "metadata": {},
   "outputs": [],
   "source": [
    "sts=pd.concat([stars[stars.grism_id.isin([x.lower()])] for x in df.grism_id.values])"
   ]
  },
  {
   "cell_type": "code",
   "execution_count": null,
   "metadata": {},
   "outputs": [],
   "source": [
    "df=wisps.Annotator.reformat_table(df)"
   ]
  },
  {
   "cell_type": "code",
   "execution_count": null,
   "metadata": {},
   "outputs": [],
   "source": [
    "wisps.INDEX_NAMES"
   ]
  },
  {
   "cell_type": "code",
   "execution_count": null,
   "metadata": {},
   "outputs": [],
   "source": [
    "for x in wisps.INDEX_NAMES:\n",
    "    \n",
    "    fig, ax=plt.subplots()\n",
    "    plt.scatter(df[x], sts[x], c=df.spt)\n",
    "    plt.plot(df[x], df[x], c='k')\n",
    "\n",
    "    sm=df[x].replace(np.inf, np.nan).dropna()\n",
    "    ax.set_xlim([sm.min(), sm.max()])\n",
    "    ax.set_ylim([sm.min(), sm.max()])\n",
    "\n",
    "    ax.set_ylabel('From ratios', fontsize=18)\n",
    "    ax.set_xlabel('From spectrum', fontsize=18)\n",
    "    plt.minorticks_on()\n",
    "    ax.set_title(r'$'+str(x.split(' ')[0])+'$', fontsize=18)\n"
   ]
  },
  {
   "cell_type": "code",
   "execution_count": null,
   "metadata": {},
   "outputs": [],
   "source": [
    "def plot_vals(values, ax, title):\n",
    "    values=wisps.drop_nan(np.sort(values))\n",
    "    kernel = stats.gaussian_kde(values)\n",
    "    height = kernel.pdf(values)\n",
    "    mode_value = values[np.argmax(height)]\n",
    "    h=ax.hist(values, bins='auto', normed=True, histtype='step')\n",
    "    ax.plot(values, height)\n",
    "    ax.axvline(mode_value, c='k')\n",
    "    ax.set_xlabel(title, fontsize=18)"
   ]
  },
  {
   "cell_type": "code",
   "execution_count": null,
   "metadata": {},
   "outputs": [],
   "source": [
    "SFDGF"
   ]
  },
  {
   "cell_type": "code",
   "execution_count": null,
   "metadata": {},
   "outputs": [],
   "source": [
    "fig, ax=plt.subplots(ncols=3,figsize=(12, 4))\n",
    "plot_vals((wisps.OBSERVED_POINTINGS[np.random.randint(533)]).mags['F110'], ax[0], 'F110W')\n",
    "plot_vals((wisps.OBSERVED_POINTINGS[np.random.randint(533)]).mags['F140'], ax[1], 'F140W')\n",
    "plot_vals((wisps.OBSERVED_POINTINGS[np.random.randint(533)]).mags['F160'], ax[2], 'F160W')\n",
    "plt.tight_layout()\n",
    "plt.savefig(wisps.OUTPUT_FIGURES+'/mag_limits_illustration.pdf', bbox_inches='tight')"
   ]
  },
  {
   "cell_type": "code",
   "execution_count": null,
   "metadata": {},
   "outputs": [],
   "source": []
  }
 ],
 "metadata": {
  "kernelspec": {
   "display_name": "Python 3",
   "language": "python",
   "name": "python3"
  },
  "language_info": {
   "codemirror_mode": {
    "name": "ipython",
    "version": 3
   },
   "file_extension": ".py",
   "mimetype": "text/x-python",
   "name": "python",
   "nbconvert_exporter": "python",
   "pygments_lexer": "ipython3",
   "version": "3.7.6"
  }
 },
 "nbformat": 4,
 "nbformat_minor": 4
}
