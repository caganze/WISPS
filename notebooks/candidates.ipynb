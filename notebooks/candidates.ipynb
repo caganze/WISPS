{
 "cells": [
  {
   "cell_type": "code",
   "execution_count": 1,
   "metadata": {},
   "outputs": [
    {
     "name": "stdout",
     "output_type": "stream",
     "text": [
      "Adding 2404 sources from /Users/caganze/research/splat//resources/Spectra/Public/SPEX-PRISM/ to spectral database\n",
      "Adding 89 sources from /Users/caganze/research/splat//resources/Spectra/Public/MAGE/ to spectral database\n",
      "Adding 145 sources from /Users/caganze/research/splat//resources/Spectra/Public/LRIS-RED/ to spectral database\n",
      "\n",
      "Warning: spectrum object has a flux vector of zero length - maybe empty?\n",
      "\n",
      "Warning: normalize is attempting to divide by nan; ignoring\n",
      "\n",
      "Warning: spectrum object has a flux vector of zero length - maybe empty?\n",
      "\n",
      "Warning: normalize is attempting to divide by nan; ignoring\n",
      "\n",
      "Warning: spectrum object has a flux vector of zero length - maybe empty?\n",
      "\n",
      "Warning: normalize is attempting to divide by nan; ignoring\n",
      "\n",
      "Warning: spectrum object has a flux vector of zero length - maybe empty?\n",
      "\n",
      "Warning: normalize is attempting to divide by nan; ignoring\n",
      "\n",
      "Warning: spectrum object has a flux vector of zero length - maybe empty?\n",
      "\n",
      "Warning: normalize is attempting to divide by nan; ignoring\n"
     ]
    }
   ],
   "source": [
    "import splat\n",
    "import matplotlib.pyplot as plt\n",
    "import numpy as np\n",
    "import pandas as pd\n",
    "import matplotlib as mpl\n",
    "from astropy.visualization import ZScaleInterval\n",
    "import matplotlib\n",
    "import wisps\n",
    "import wisps.simulations as wispsim\n",
    "import seaborn as sns\n",
    "import matplotlib.colors as mcolors\n",
    "\n",
    "from astropy.coordinates import SkyCoord\n",
    "import astropy.coordinates as astrocoord\n",
    "import astropy.units as u\n",
    "\n",
    "import matplotlib as mpl\n",
    "mpl.rcParams['font.size'] = 18\n",
    "%matplotlib inline"
   ]
  },
  {
   "cell_type": "code",
   "execution_count": 2,
   "metadata": {},
   "outputs": [],
   "source": [
    "#MIX MY COLORMAP WITH COOOLWARM \n",
    "colors1 = plt.cm.coolwarm(np.linspace(0., 1, 256))\n",
    "colors2=plt.cm.YlOrBr(np.linspace(0., 1, 256))\n",
    "colors = np.vstack((colors1+colors1)/2)\n",
    "mymap=mcolors.LinearSegmentedColormap.from_list('my_colormap', colors)"
   ]
  },
  {
   "cell_type": "code",
   "execution_count": 3,
   "metadata": {},
   "outputs": [],
   "source": [
    "mymap_r=mymap.reversed(name='revers')"
   ]
  },
  {
   "cell_type": "code",
   "execution_count": 4,
   "metadata": {},
   "outputs": [
    {
     "name": "stdout",
     "output_type": "stream",
     "text": [
      "helo\n"
     ]
    }
   ],
   "source": [
    "print ('helo')"
   ]
  },
  {
   "cell_type": "code",
   "execution_count": 5,
   "metadata": {},
   "outputs": [],
   "source": [
    "def get_indices(x):\n",
    "    if x is None :\n",
    "        return pd.Series({})\n",
    "    else:\n",
    "        return  pd.Series(x.indices)\n",
    "    \n",
    "def get_spt(x):\n",
    "    if x is None:\n",
    "        return np.nan\n",
    "    else:\n",
    "        return x.spectral_type[0]\n",
    "\n",
    "def reclassify(s):\n",
    "    if s is None:\n",
    "        return None\n",
    "    #spt_unc=s.spectral_type[1\n",
    "    #rngs=[[1.17,1.35],[1.45,1.67]]\n",
    "    rngs=[1.17, 1.67]\n",
    "    #spt,spt_e = splat.classifyByStandard(s.splat_spectrum,fit_ranges=rngs, average=True)\n",
    "    #s.classify_by_standard(comprange=rngs)\n",
    "    #print(wisps.make_spt_number(spt))\n",
    "    spt, spt_e=wisps.classify_by_templates(s, comprange=rngs)\n",
    "    s.spectral_type=(np.round(wisps.make_spt_number(spt)), spt_e)\n",
    "    s.calculate_distance(use_spt_unc=True, use_index_type=False)\n",
    "    \n",
    "    return s\n",
    "    \n"
   ]
  },
  {
   "cell_type": "code",
   "execution_count": 6,
   "metadata": {},
   "outputs": [],
   "source": [
    "#jklj"
   ]
  },
  {
   "cell_type": "code",
   "execution_count": 7,
   "metadata": {},
   "outputs": [],
   "source": [
    "rngo=np.array([[1.2,1.35],[1.45,1.65]])\n",
    "rng1=np.array([1.2, 1.6])\n"
   ]
  },
  {
   "cell_type": "code",
   "execution_count": 8,
   "metadata": {},
   "outputs": [
    {
     "data": {
      "text/plain": [
       "2"
      ]
     },
     "execution_count": 8,
     "metadata": {},
     "output_type": "execute_result"
    }
   ],
   "source": [
    "len(np.shape(rngo))"
   ]
  },
  {
   "cell_type": "code",
   "execution_count": 9,
   "metadata": {},
   "outputs": [],
   "source": [
    "#read in the data\n",
    "cands0=pd.read_hdf(wisps.LIBRARIES+'/objects_of_interest.h5', key='all')"
   ]
  },
  {
   "cell_type": "code",
   "execution_count": 10,
   "metadata": {},
   "outputs": [],
   "source": [
    "spectra= [reclassify(x) for x in cands0.spectra]"
   ]
  },
  {
   "cell_type": "code",
   "execution_count": 11,
   "metadata": {},
   "outputs": [],
   "source": [
    "cands0['spectra']=spectra"
   ]
  },
  {
   "cell_type": "code",
   "execution_count": 12,
   "metadata": {},
   "outputs": [],
   "source": [
    "cands=cands0.spectra.apply(get_indices)\n",
    "cands['spectra']=cands0.spectra"
   ]
  },
  {
   "cell_type": "code",
   "execution_count": 13,
   "metadata": {},
   "outputs": [],
   "source": [
    "cands['grism_id']=cands0.grism_id\n",
    "cands['spt']=cands0.spectra.apply(get_spt)"
   ]
  },
  {
   "cell_type": "code",
   "execution_count": 14,
   "metadata": {},
   "outputs": [],
   "source": [
    "canddf=cands[~cands.spectra.isna()].reset_index(drop=True)"
   ]
  },
  {
   "cell_type": "code",
   "execution_count": 15,
   "metadata": {},
   "outputs": [],
   "source": [
    "canddf['spt']=canddf.spectra.apply(lambda x: x.spectral_type[0])\n",
    "canddf['spt_er']=canddf.spectra.apply(lambda x: x.spectral_type[1])\n",
    "canddf['distance']=canddf.spectra.apply(lambda x: x.distance['val'].value)\n",
    "canddf['distance_er']=canddf.spectra.apply(lambda x: x.distance['er'].value)\n",
    "canddf['coord']=canddf.spectra.apply(lambda x:x.coords)\n",
    "canddf['designation']=canddf.spectra.apply(lambda x: x.designation)\n",
    "#canddf['index_type_er']=canddf.spectra.apply(lambda x: x.index_type[1])"
   ]
  },
  {
   "cell_type": "code",
   "execution_count": 16,
   "metadata": {},
   "outputs": [],
   "source": [
    "canddfj=canddf.join(canddf.spectra.apply(lambda x: pd.Series(x.mags)))\n",
    "canddff=canddfj.join(canddf.spectra.apply(lambda x: pd.Series(x.snr)))\n",
    "canddff['spectra']=canddf.spectra\n",
    "\n",
    "canddff=canddff.drop_duplicates('designation')"
   ]
  },
  {
   "cell_type": "code",
   "execution_count": 17,
   "metadata": {},
   "outputs": [],
   "source": [
    "#noisy and re-checked objects\n",
    "exclude=['J01253527-0001383', 'J20220361-3113264', \n",
    "         'J05300520-0723374', 'J05315184-0723016',\n",
    "         'J14313999+2447186', 'J15343866+5014150']"
   ]
  },
  {
   "cell_type": "code",
   "execution_count": 18,
   "metadata": {},
   "outputs": [],
   "source": [
    "#canddff.designation.str.upper()"
   ]
  },
  {
   "cell_type": "code",
   "execution_count": 19,
   "metadata": {},
   "outputs": [],
   "source": [
    "#canddff[canddff.designation.str.upper().isin(exclude)]"
   ]
  },
  {
   "cell_type": "code",
   "execution_count": 20,
   "metadata": {},
   "outputs": [],
   "source": [
    "ucds=wisps.Annotator.reformat_table((canddff[(canddff.spt>=17) & \\\n",
    "                                             (~(canddff.designation.str.upper().isin(exclude))) \\\n",
    "&(canddff.snr1 >=3.)]).reset_index(drop=True)).sort_values(by='spt')"
   ]
  },
  {
   "cell_type": "code",
   "execution_count": 21,
   "metadata": {},
   "outputs": [],
   "source": [
    "\n",
    "#%prun "
   ]
  },
  {
   "cell_type": "code",
   "execution_count": 22,
   "metadata": {},
   "outputs": [],
   "source": [
    "#ghj"
   ]
  },
  {
   "cell_type": "code",
   "execution_count": 23,
   "metadata": {},
   "outputs": [],
   "source": [
    "#remove some objects by name\n",
    "ucds=(ucds[~ ucds.grism_id.isin(['par199-00124'])]).reset_index(drop=True).sort_values(by='spt')"
   ]
  },
  {
   "cell_type": "code",
   "execution_count": 24,
   "metadata": {},
   "outputs": [
    {
     "data": {
      "text/plain": [
       "Text(0, 0.5, 'SPT ER')"
      ]
     },
     "execution_count": 24,
     "metadata": {},
     "output_type": "execute_result"
    },
    {
     "data": {
      "image/png": "[encoded data removed]",
      "text/plain": [
       "<Figure size 432x288 with 1 Axes>"
      ]
     },
     "metadata": {
      "needs_background": "light"
     },
     "output_type": "display_data"
    }
   ],
   "source": [
    "fig, ax=plt.subplots()\n",
    "plt.scatter(ucds.snr4.apply(np.log10), ucds.spt_er,  c=ucds.spt)\n",
    "plt.xlabel('Log J-SNR')\n",
    "plt.ylabel('SPT ER')"
   ]
  },
  {
   "cell_type": "code",
   "execution_count": 25,
   "metadata": {},
   "outputs": [
    {
     "data": {
      "text/html": [
       "<div>\n",
       "<style scoped>\n",
       "    .dataframe tbody tr th:only-of-type {\n",
       "        vertical-align: middle;\n",
       "    }\n",
       "\n",
       "    .dataframe tbody tr th {\n",
       "        vertical-align: top;\n",
       "    }\n",
       "\n",
       "    .dataframe thead th {\n",
       "        text-align: right;\n",
       "    }\n",
       "</style>\n",
       "<table border=\"1\" class=\"dataframe\">\n",
       "  <thead>\n",
       "    <tr style=\"text-align: right;\">\n",
       "      <th></th>\n",
       "      <th>snr1</th>\n",
       "      <th>F110W</th>\n",
       "      <th>F140W</th>\n",
       "      <th>F160W</th>\n",
       "      <th>designation</th>\n",
       "      <th>spt_er</th>\n",
       "      <th>spt</th>\n",
       "    </tr>\n",
       "  </thead>\n",
       "  <tbody>\n",
       "    <tr>\n",
       "      <th>206</th>\n",
       "      <td>4.580164</td>\n",
       "      <td>NaN</td>\n",
       "      <td>24.401167</td>\n",
       "      <td>24.742002</td>\n",
       "      <td>J10001529+0221196</td>\n",
       "      <td>5.024938</td>\n",
       "      <td>23.0</td>\n",
       "    </tr>\n",
       "    <tr>\n",
       "      <th>210</th>\n",
       "      <td>4.476141</td>\n",
       "      <td>NaN</td>\n",
       "      <td>24.511110</td>\n",
       "      <td>24.955962</td>\n",
       "      <td>J10004273+0220589</td>\n",
       "      <td>6.020797</td>\n",
       "      <td>24.0</td>\n",
       "    </tr>\n",
       "  </tbody>\n",
       "</table>\n",
       "</div>"
      ],
      "text/plain": [
       "         snr1  F110W      F140W      F160W        designation    spt_er   spt\n",
       "206  4.580164    NaN  24.401167  24.742002  J10001529+0221196  5.024938  23.0\n",
       "210  4.476141    NaN  24.511110  24.955962  J10004273+0220589  6.020797  24.0"
      ]
     },
     "execution_count": 25,
     "metadata": {},
     "output_type": "execute_result"
    }
   ],
   "source": [
    "ucds[ucds.spt_er>5][['snr1', 'F110W', 'F140W', 'F160W', 'designation', 'spt_er', 'spt']]"
   ]
  },
  {
   "cell_type": "code",
   "execution_count": 40,
   "metadata": {},
   "outputs": [
    {
     "data": {
      "text/plain": [
       "(190, 30, 11)"
      ]
     },
     "execution_count": 40,
     "metadata": {},
     "output_type": "execute_result"
    }
   ],
   "source": [
    "len(ucds[ucds.spt.between(17, 19)]), len(ucds[ucds.spt.between(20, 29)]), len(ucds[ucds.spt.between(30, 40)])"
   ]
  },
  {
   "cell_type": "code",
   "execution_count": 100,
   "metadata": {},
   "outputs": [
    {
     "data": {
      "text/plain": [
       "distance                                        906.241\n",
       "distance_er    [220.19011970661097, 226.85191343871008]\n",
       "Name: 223, dtype: object"
      ]
     },
     "execution_count": 100,
     "metadata": {},
     "output_type": "execute_result"
    }
   ],
   "source": [
    "tdwarfs.iloc[tdwarfs.distance.argmax()][['distance', 'distance_er']]"
   ]
  },
  {
   "cell_type": "code",
   "execution_count": 27,
   "metadata": {},
   "outputs": [],
   "source": [
    "OBSERVED_POINTINGS =pd.read_pickle(wisps.OUTPUT_FILES+'/pointings.pkl')\n"
   ]
  },
  {
   "cell_type": "code",
   "execution_count": 28,
   "metadata": {},
   "outputs": [],
   "source": [
    "mdwarfs=(ucds.sort_values('spt')[ucds.spt.between(17, 20)])\n",
    "ldwarfs=(ucds.sort_values('spt')[ucds.spt.between(20, 30)])\n",
    "tdwarfs=(ucds.sort_values('spt')[ucds.spt.between(30, 40)])\n",
    "\n",
    "coords=SkyCoord(ucds.coord.values)\n",
    "\n",
    "galoc=coords.transform_to(astrocoord.Galactocentric(galcen_distance=8.3*u.kpc))\n",
    "x, y, z=galoc.cartesian.xyz\n",
    "\n",
    "r=(x**2+y**2)**0.5\n",
    "\n",
    "ucds['pointing']=ucds.grism_id.apply(wispsim.get_proper_pointing)\n",
    "pntcoords=SkyCoord([x.coord for x in OBSERVED_POINTINGS \n",
    "                    if not (x.name.lower() in ucds.pointing.str.lower().values)])"
   ]
  },
  {
   "cell_type": "code",
   "execution_count": 29,
   "metadata": {},
   "outputs": [],
   "source": [
    "#plt.style.use('dark_background')"
   ]
  },
  {
   "cell_type": "code",
   "execution_count": 30,
   "metadata": {},
   "outputs": [
    {
     "name": "stderr",
     "output_type": "stream",
     "text": [
      "findfont: Font family ['serif'] not found. Falling back to DejaVu Sans.\n"
     ]
    },
    {
     "data": {
      "image/png": "[encoded data removed]",
      "text/plain": [
       "<Figure size 792x288 with 2 Axes>"
      ]
     },
     "metadata": {
      "needs_background": "light"
     },
     "output_type": "display_data"
    }
   ],
   "source": [
    "fig, (ax, ax1)=plt.subplots(figsize=(11, 4), ncols=2)\n",
    "\n",
    "sc=ax.scatter(r[mdwarfs.index], z[mdwarfs.index], s=150, cmap='coolwarm',  marker='*', edgecolors='#111111', label='M')\n",
    "sc=ax.scatter(r[ldwarfs.index], z[ldwarfs.index], s=150, cmap='coolwarm',  marker='o', edgecolors='#111111', label='L')\n",
    "sc=ax.scatter(r[tdwarfs.index], z[tdwarfs.index], s=150, cmap='coolwarm',  marker='^', edgecolors='#111111', label='T')\n",
    "\n",
    "ax.minorticks_on()\n",
    "\n",
    "sc=ax1.scatter(x[mdwarfs.index], y[mdwarfs.index], s=150, cmap='coolwarm',  marker='*', edgecolors='#111111')\n",
    "sc=ax1.scatter(x[ldwarfs.index], y[ldwarfs.index], s=150, cmap='coolwarm',  marker='o', edgecolors='#111111')\n",
    "sc=ax1.scatter(x[tdwarfs.index], y[tdwarfs.index], s=150, cmap='coolwarm',  marker='^', edgecolors='#111111')\n",
    "\n",
    "ax.minorticks_on()\n",
    "\n",
    "\n",
    "\n",
    "ax.set_ylabel('Z (pc)', fontsize=20)\n",
    "ax.set_xlabel('R (pc)', fontsize=20)\n",
    "ax1.set_ylabel('X (pc)', fontsize=20)\n",
    "ax1.set_xlabel('Y (pc)', fontsize=20)\n",
    "\n",
    "ax.minorticks_on()\n",
    "ax1.minorticks_on()\n",
    "\n",
    "\n",
    "#add the sun\n",
    "#Rsun=83000.\n",
    "#Zsun=27.\n",
    "\n",
    "#ax1.scatter(0., 0.)\n",
    "#ax.scatter(8300, 27., marker='')\n",
    "ax.legend()\n",
    "#plt.grid(color='#7FDBFF')\n",
    "#mplcyberpunk.make_lines_glow(ax)\n",
    "#mplcyberpunk.make_lines_glow(ax1)\n",
    "ax.set_xscale('log')\n",
    "\n",
    "\n",
    "plt.tight_layout()\n",
    "plt.savefig(wisps.OUTPUT_FIGURES+'/candidate_distances.pdf', bbox_inches='tight')"
   ]
  },
  {
   "cell_type": "code",
   "execution_count": 31,
   "metadata": {},
   "outputs": [
    {
     "data": {
      "image/png": "[encoded data removed]",
      "text/plain": [
       "<Figure size 576x576 with 1 Axes>"
      ]
     },
     "metadata": {
      "needs_background": "light"
     },
     "output_type": "display_data"
    }
   ],
   "source": [
    "fig = plt.figure(figsize=(8, 8))\n",
    "ax = fig.add_subplot(111, projection='mollweide')\n",
    "\n",
    "ax.scatter(pntcoords.galactic.l.wrap_at(180*u.deg).radian, pntcoords.galactic.b.wrap_at(180*u.deg).radian, c='grey', marker='x', alpha=0.5)\n",
    "\n",
    "c=ax.scatter(galoc.galactic.l.wrap_at(180*u.deg).radian[mdwarfs.index], galoc.galactic.b.wrap_at(180*u.deg).radian[mdwarfs.index], \n",
    "             marker='*', edgecolors='#111111', s=150)\n",
    "c=ax.scatter(galoc.galactic.l.wrap_at(180*u.deg).radian[ldwarfs.index], galoc.galactic.b.wrap_at(180*u.deg).radian[ldwarfs.index], \n",
    "             marker='o', edgecolors='#111111', s=150)\n",
    "c=ax.scatter(galoc.galactic.l.wrap_at(180*u.deg).radian[tdwarfs.index], galoc.galactic.b.wrap_at(180*u.deg).radian[tdwarfs.index], \n",
    "             marker='^', edgecolors='#111111', s=150)\n",
    "\n",
    "\n",
    "\n",
    "\n",
    "             \n",
    "\n",
    "#plt.xlabel(\"l\", fontsize=18)\n",
    "#plt.ylabel(\"b\", fontsize=18)\n",
    "plt.grid(color='#7FDBFF')\n",
    "plt.minorticks_on()\n",
    "#mplcyberpunk.make_lines_glow(ax)\n",
    "\n",
    "plt.tight_layout()\n",
    "plt.savefig(wisps.OUTPUT_FIGURES+'/candidate_skymap.pdf', bbox_inches='tight')"
   ]
  },
  {
   "cell_type": "code",
   "execution_count": 32,
   "metadata": {},
   "outputs": [],
   "source": [
    "#4*533*0.1"
   ]
  },
  {
   "cell_type": "code",
   "execution_count": 33,
   "metadata": {},
   "outputs": [
    {
     "name": "stdout",
     "output_type": "stream",
     "text": [
      "ucds density in north 0.22648083623693382 1 / arcmin2\n",
      "ucds density in middle 1.5345528455284554 1 / arcmin2\n",
      "ucds density in south 0.21951219512195125 1 / arcmin2\n"
     ]
    }
   ],
   "source": [
    "bucds=abs(galoc.galactic.b.wrap_at(180*u.deg).to(u.deg).value)\n",
    "bpnts=abs(pntcoords.galactic.l.wrap_at(180*u.deg).to(u.deg).value)\n",
    "\n",
    "areanorth= len(bpnts[np.logical_and(bpnts >0, bpnts <= 30.) ])*4.1*(u.arcmin**2)\n",
    "areamid= len(bpnts[np.logical_and(bpnts >30, bpnts <= 60.) ])*4.1*(u.arcmin**2)\n",
    "areasouth= len(bpnts[np.logical_and(bpnts >30, bpnts <= 90.) ])*4.1*(u.arcmin**2)\n",
    "\n",
    "print ('ucds density in north {}'.format(len(bucds[np.logical_and(bucds >0, bucds <= 30.) ])/areanorth))\n",
    "print ('ucds density in middle {}'.format(len(bucds[np.logical_and(bucds >30, bucds <=60) ])/areamid))\n",
    "print ('ucds density in south {}'.format(len(bucds[np.logical_and(bucds >60, bucds <=90) ])/areasouth))"
   ]
  },
  {
   "cell_type": "code",
   "execution_count": 68,
   "metadata": {},
   "outputs": [],
   "source": [
    "#np.array(list(mdwarfs.index))"
   ]
  },
  {
   "cell_type": "code",
   "execution_count": 104,
   "metadata": {},
   "outputs": [
    {
     "data": {
      "image/png": "[encoded data removed]",
      "text/plain": [
       "<Figure size 576x288 with 2 Axes>"
      ]
     },
     "metadata": {
      "needs_background": "light"
     },
     "output_type": "display_data"
    }
   ],
   "source": [
    "fig, (ax, ax1)=plt.subplots(ncols=2, figsize=(8, 4))\n",
    "\n",
    "h=ax.hist(r.value[mdwarfs.index], bins=30, histtype='step', linewidth=3, log=True)\n",
    "h=ax1.hist(z.value[mdwarfs.index], bins=30, histtype='step', linewidth=3, log=True, label='M')\n",
    "\n",
    "h=ax.hist(r.value[np.concatenate([list(ldwarfs.index), list(tdwarfs.index)])],\\\n",
    "                                 histtype='step', linewidth=3, linestyle='--', log=True)\n",
    "h=ax1.hist(z.value[np.concatenate([list(ldwarfs.index), list(tdwarfs.index)])],\\\n",
    "           histtype='step', linewidth=3, linestyle='--', log=True, label='L\\&T')\n",
    "\n",
    "#h=ax.hist(r.value[tdwarfs.index], histtype='step', linewidth=3, linestyle=':', log=True)\n",
    "#h=ax1.hist(z.value[tdwarfs.index],  histtype='step', linewidth=3, linestyle=':', log=True)\n",
    "\n",
    "ax.axvline(8300, c='k', linestyle='--')\n",
    "ax1.axvline(27, c='k', linestyle='--')\n",
    "#ax1.text(27, 1, s=r'\\u2609')\n",
    "\n",
    "ax.set_xlabel('R (pc)')\n",
    "ax1.set_xlabel('Z (pc)')\n",
    "for a in [ax, ax1]:\n",
    "    a.minorticks_on()\n",
    "    a.set_ylabel('Number')\n",
    "plt.tight_layout()\n",
    "ax1.legend()\n",
    "plt.savefig(wisps.OUTPUT_FIGURES+'/rz_distribution.pdf',  bbox_inches='tight',  facecolor='white', transparent=False)"
   ]
  },
  {
   "cell_type": "code",
   "execution_count": 115,
   "metadata": {},
   "outputs": [],
   "source": [
    "#favorite T dwarf\n",
    "fav_t=tdwarfs.iloc[-3].spectra"
   ]
  },
  {
   "cell_type": "code",
   "execution_count": null,
   "metadata": {},
   "outputs": [],
   "source": []
  },
  {
   "cell_type": "code",
   "execution_count": 117,
   "metadata": {},
   "outputs": [
    {
     "data": {
      "text/plain": [
       "'/volumes/burgasserlab/Surveys//goods*/goodss-01/goodss-01*F160*drz_sci.fits'"
      ]
     },
     "execution_count": 117,
     "metadata": {},
     "output_type": "execute_result"
    }
   ],
   "source": [
    "import glob\n",
    "fav_t.photo_image.path"
   ]
  },
  {
   "cell_type": "code",
   "execution_count": 35,
   "metadata": {},
   "outputs": [
    {
     "data": {
      "text/plain": [
       "(45, 186)"
      ]
     },
     "execution_count": 35,
     "metadata": {},
     "output_type": "execute_result"
    }
   ],
   "source": [
    "len(z[abs(z.value) > 1000.]), len(z[abs(z.value) <= 1000.])"
   ]
  },
  {
   "cell_type": "code",
   "execution_count": null,
   "metadata": {},
   "outputs": [],
   "source": []
  },
  {
   "cell_type": "code",
   "execution_count": 36,
   "metadata": {},
   "outputs": [
    {
     "ename": "NameError",
     "evalue": "name 'fghjnk' is not defined",
     "output_type": "error",
     "traceback": [
      "\u001b[0;31m---------------------------------------------------------------------------\u001b[0m",
      "\u001b[0;31mNameError\u001b[0m                                 Traceback (most recent call last)",
      "\u001b[0;32m<ipython-input-36-e7fbd144a5c7>\u001b[0m in \u001b[0;36m<module>\u001b[0;34m\u001b[0m\n\u001b[0;32m----> 1\u001b[0;31m \u001b[0mfghjnk\u001b[0m\u001b[0;34m\u001b[0m\u001b[0;34m\u001b[0m\u001b[0m\n\u001b[0m",
      "\u001b[0;31mNameError\u001b[0m: name 'fghjnk' is not defined"
     ]
    }
   ],
   "source": [
    "fghjnk"
   ]
  },
  {
   "cell_type": "code",
   "execution_count": null,
   "metadata": {},
   "outputs": [],
   "source": [
    "fdf=ucds.sort_values(by='spt')[['grism_id', 'distance', 'spt','spectra']]"
   ]
  },
  {
   "cell_type": "code",
   "execution_count": null,
   "metadata": {},
   "outputs": [],
   "source": [
    "def formatted_distance(x):\n",
    "    d= str(int(round(x.distance['val'].value, 0)))\n",
    "    der=[str(int(abs(round(x.distance['er'].value[0], 0)))),\\\n",
    "            str(int(abs(round(x.distance['er'].value[0], 0))))]\n",
    "         \n",
    "    if abs(x.distance['er'].value[0])/x.distance['val'].value >0.9:\n",
    "        return \"$\\\\approx$\"+d\n",
    "    else:\n",
    "        #return r'$'+d+'\\substack{+'+der[0]+'\\\\\\ -'+der[-1]+'}$'\n",
    "        return d+'$^{+'+der[0]+'}'+'_{-'+der[1]+'}$'"
   ]
  },
  {
   "cell_type": "code",
   "execution_count": null,
   "metadata": {},
   "outputs": [],
   "source": [
    "formatted_distance(fdf.spectra.iloc[0])"
   ]
  },
  {
   "cell_type": "code",
   "execution_count": null,
   "metadata": {},
   "outputs": [],
   "source": [
    "latc_df=pd.DataFrame()"
   ]
  },
  {
   "cell_type": "code",
   "execution_count": null,
   "metadata": {},
   "outputs": [],
   "source": [
    "latc_df['Shortname']=fdf.spectra.apply(lambda x: x.shortname.upper())\n",
    "latc_df['designation']=fdf.spectra.apply(lambda x: x.designation.upper())\n",
    "latc_df['grism id']=fdf.spectra.apply(lambda x: x.name.upper().replace('_', '-'))\n",
    "latc_df['snrj']=fdf.spectra.apply(lambda x: int(round(x.snr['snr1'])))\n",
    "latc_df['spt']=fdf.spectra.apply(lambda x: splat.typeToNum(x.spectral_type[0]) +r'$\\pm$'+ str(round(x.spectral_type[1], 1)))\n",
    "latc_df['ra']=fdf.spectra.apply(lambda x: x.ra.value)\n",
    "latc_df['dec']=fdf.spectra.apply(lambda x: x.dec.value)\n",
    "latc_df['f110']=fdf.spectra.apply(lambda x:  str(round(x.mags['F110W'][0],3)) +r'$\\pm$'+ str(round(x.mags['F110W'][1],3)))\n",
    "#latc_df['f110_er']=fdf.spectra.apply(lambda x: round(x.mags['F110W'][1], 1))\n",
    "latc_df['f140']=fdf.spectra.apply(lambda x:  str(round(x.mags['F140W'][0],3)) +r'$\\pm$'+  str(round(x.mags['F140W'][1],3)))\n",
    "#latc_df['f140_er']=fdf.spectra.apply(lambda x: round(x.mags['F140W'][1], 1))\n",
    "latc_df['f160']=fdf.spectra.apply(lambda x:   str(round(x.mags['F160W'][0],3)) + r'$\\pm$'+ str(round(x.mags['F160W'][1],3)))\n",
    "#latc_df['f160_er']=fdf.spectra.apply(lambda x: round(x.mags['F160W'][1], 1))\n",
    "latc_df['distance']=fdf.spectra.apply(formatted_distance)\n",
    "                                                    \n",
    "#lat_df['c'+ r''+ \n",
    "#                                                 str((int(round(x.distance['er'].value[0], 0)))))"
   ]
  },
  {
   "cell_type": "code",
   "execution_count": null,
   "metadata": {},
   "outputs": [],
   "source": [
    "#x.distance"
   ]
  },
  {
   "cell_type": "code",
   "execution_count": null,
   "metadata": {},
   "outputs": [],
   "source": [
    "latc_df.iloc[0]['f110']"
   ]
  },
  {
   "cell_type": "code",
   "execution_count": null,
   "metadata": {},
   "outputs": [],
   "source": [
    "latc_df=latc_df.replace('nan$\\\\pm$nan', '\\nodata')"
   ]
  },
  {
   "cell_type": "code",
   "execution_count": null,
   "metadata": {},
   "outputs": [],
   "source": [
    "#get the right sequence of coplumns\n",
    "col_list=['designation','grism id', 'f110', 'f140', 'f160', 'snrj', 'spt', 'distance']"
   ]
  },
  {
   "cell_type": "code",
   "execution_count": null,
   "metadata": {},
   "outputs": [],
   "source": [
    "#latc_df[latc_df.d]"
   ]
  },
  {
   "cell_type": "code",
   "execution_count": null,
   "metadata": {},
   "outputs": [],
   "source": [
    "latc_df[col_list].to_latex(wisps.LIBRARIES+'/candidates.tex',\n",
    "             header=True, index=False, escape=False, na_rep=' ')"
   ]
  },
  {
   "cell_type": "code",
   "execution_count": null,
   "metadata": {},
   "outputs": [],
   "source": [
    "dfghjkl;"
   ]
  },
  {
   "cell_type": "code",
   "execution_count": null,
   "metadata": {},
   "outputs": [],
   "source": [
    "fdf=fdf.reset_index(drop=True)"
   ]
  },
  {
   "cell_type": "markdown",
   "metadata": {},
   "source": [
    "#########################"
   ]
  },
  {
   "cell_type": "code",
   "execution_count": null,
   "metadata": {},
   "outputs": [],
   "source": [
    "spdwarf=splat.searchLibrary(giant=False, ucd=True, binary=False)\n",
    "spdwarf.shortname=spdwarf.DESIGNATION.apply(splat.designationToShortName)\n",
    "spdwarf=spdwarf[~ ( spdwarf.shortname.isin(wisps.FORBIDDEN_LIST)\n",
    "               | (spdwarf.H_2MASS_E > 0.4) | (spdwarf.J_2MASS_E > 0.4) | (spdwarf.MEDIAN_SNR <3) )]\n",
    "#spdwarf=spdwarf[~spdwarf.]\n",
    "spdwarf.SPEX_TYPE=spdwarf.SPEX_TYPE.apply(wisps.make_spt_number)"
   ]
  },
  {
   "cell_type": "code",
   "execution_count": null,
   "metadata": {},
   "outputs": [],
   "source": [
    "def format_jk_zhang(row):\n",
    "    jmag=np.nan\n",
    "    hmag=np.nan\n",
    "    jmag_er=np.nan\n",
    "    hmag_er=np.nan\n",
    "    if row['J'] !='none':\n",
    "        #print ((row['J']).split('±'))\n",
    "        #row['J_mag']=(row['J']).split('±')[0]\n",
    "        #row['J_er']=(row['J']).split('±')[-1]\n",
    "        jmag=(row['J']).split('±')[0]\n",
    "        jmag_er=(row['J']).split('±')[1]\n",
    "        \n",
    "    if row['H'] !='none':\n",
    "        #print ((row['H']).split('±'))\n",
    "        #row['H_mag']=(row['H']).split('±')[0]\n",
    "        #row['H_er']=(row['H']).split('±')[-1]\n",
    "        hmag=(row['H']).split('±')[0]\n",
    "        hmag_er=(row['H']).split('±')[1]\n",
    "        \n",
    "    spt=splat.typeToNum(row[' SpT'])\n",
    "        \n",
    "    return pd.Series({'H':jmag, 'J':hmag, 'H_er':hmag_er, 'J_er':jmag_er, 'SpTn':spt})\n",
    "\n",
    "def format_jk_manj(row):\n",
    "    jmag=np.nan\n",
    "    hmag=np.nan\n",
    "    jmag_er=np.nan\n",
    "    hmag_er=np.nan\n",
    "    if str(row['J (mag)']) !='nan':\n",
    "        #ignore others\n",
    "        if not str(row['J (mag)']).startswith('>'):\n",
    "            jmag=((row['J (mag)']).split('+or-')[0]).strip()\n",
    "            jmag_er=((row['J (mag)']).split('+or-')[1]).strip()\n",
    "\n",
    "    if str(row['H (mag)']) !='nan':\n",
    "        if not str(row['J (mag)']).startswith('>'):\n",
    "            hmag=(row['H (mag)']).split('+or-')[0]\n",
    "            hmag_er=(row['H (mag)']).split('+or-')[1]\n",
    "        \n",
    "    spt=splat.typeToNum(row['SpT'])\n",
    "        \n",
    "    return pd.Series({'H':jmag, 'J':hmag, 'H_er':hmag_er, 'J_er':jmag_er, 'SpTn':spt})"
   ]
  },
  {
   "cell_type": "code",
   "execution_count": null,
   "metadata": {},
   "outputs": [],
   "source": [
    "fdf=ucds\n",
    "pols=wisps.POLYNOMIAL_RELATIONS\n",
    "color_pol=pols['colors']"
   ]
  },
  {
   "cell_type": "code",
   "execution_count": null,
   "metadata": {},
   "outputs": [],
   "source": [
    "#zhang\n",
    "zhng=pd.read_csv('~/research/wisps/data/zhang_data.csv')\n",
    "zhng_clrs=zhng.apply(format_jk_zhang, axis=1 ).applymap(float)"
   ]
  },
  {
   "cell_type": "code",
   "execution_count": null,
   "metadata": {},
   "outputs": [],
   "source": [
    "#manjavacas\n",
    "man_df0=pd.read_csv('/users/caganze/research/wisps/data/manjavaca_phot.txt', sep='\\t',  index_col=None)\n",
    "man_clrs=man_df0.apply(format_jk_manj, axis=1 ).applymap(float)"
   ]
  },
  {
   "cell_type": "code",
   "execution_count": null,
   "metadata": {},
   "outputs": [],
   "source": [
    "man_clrs.columns"
   ]
  },
  {
   "cell_type": "code",
   "execution_count": null,
   "metadata": {},
   "outputs": [],
   "source": [
    "fdf['J']=fdf['F140W']+color_pol['j_f140'][0](fdf['spt'])\n",
    "fdf['J_er']=(fdf['F140W_er']**2+color_pol['j_f140'][1]**2)**0.5\n",
    "\n",
    "fdf['H']=fdf['F160W']+color_pol['h_f160'][0](fdf['spt'])\n",
    "fdf['H_er']=(fdf['F160W_er']**2+color_pol['h_f160'][1]**2)**0.5"
   ]
  },
  {
   "cell_type": "code",
   "execution_count": null,
   "metadata": {},
   "outputs": [],
   "source": [
    "fdf['J_110']=fdf['F110W']+color_pol['j_f110'][0](fdf['spt'])\n",
    "fdf['J_110_er']=(fdf['F110W_er']**2+color_pol['j_f110'][1]**2)**0.5"
   ]
  },
  {
   "cell_type": "code",
   "execution_count": null,
   "metadata": {},
   "outputs": [],
   "source": [
    "ucd_wisp=fdf[fdf.grism_id.str.startswith('par')]\n",
    "ucd_hst3d=fdf[~fdf.grism_id.str.startswith('par')]"
   ]
  },
  {
   "cell_type": "code",
   "execution_count": null,
   "metadata": {},
   "outputs": [],
   "source": [
    "#remove planets\n",
    "man_clrs=man_clrs[abs(man_clrs['H']-man_clrs['J']<2)]\n",
    "spdwarf=spdwarf[(spdwarf['J_2MASS']-spdwarf['H_2MASS']<2) &(spdwarf.SPEX_TYPE >=17.)]"
   ]
  },
  {
   "cell_type": "code",
   "execution_count": null,
   "metadata": {},
   "outputs": [],
   "source": [
    "fig, ax=plt.subplots(figsize=(8, 6))\n",
    "\n",
    "\n",
    "\n",
    "ax.errorbar(spdwarf['J_2MASS']-spdwarf['H_2MASS'], spdwarf.SPEX_TYPE, fmt='D', \n",
    "            xerr=(spdwarf.J_2MASS_E**2+spdwarf.H_2MASS_E**2)**0.5, color='#0074D9', \n",
    "            mfc='white',  label='Templates')\n",
    "\n",
    "#ax.errorbar(spsubdwarf['J_2MASS']-spsubdwarf['H_2MASS'],spsubdwarf.SPEX_TYPE, fmt='D', \n",
    "#            xerr=(spsubdwarf.J_2MASS_E**2+spsubdwarf.H_2MASS_E**2)**0.5, color='#2ECC40', mfc='white', label='Spex Subdwarfs')\n",
    "\n",
    "ax.errorbar(-man_clrs['J']+man_clrs['H'], man_clrs['SpTn'], fmt='^', \n",
    "            xerr=(man_clrs['J_er']**2+man_clrs['H_er']**2)**0.5, color='#001f3f', label='Cloud-Atlas')\n",
    "\n",
    "#ax.errorbar(-zhng_clrs['J']+zhng_clrs['H'],zhng_clrs.SpTn, fmt='*', \n",
    "#            xerr=(zhng_clrs.J_er**2+zhng_clrs.H_er**2)**0.5, color='#FF4136', label='Primeval')\n",
    "\n",
    "\n",
    "\n",
    "ax.errorbar(ucd_wisp['J_110']-ucd_wisp['H'], ucd_wisp['spt'], fmt='o', \n",
    "            xerr=(ucd_wisp['J_110_er']**2+ucd_wisp['H_er']**2)**0.5, \n",
    "            yerr=ucd_wisp['spt_er'], color='#111111', label=r'WISP')\n",
    "\n",
    "ax.errorbar(ucd_hst3d['J']-ucd_hst3d['H'], ucd_hst3d['spt'], fmt='D',\n",
    "            xerr=(ucd_hst3d['J_er']**2+ucd_hst3d['H_er']**2)**0.5, \n",
    "            yerr=ucd_hst3d['spt_er'], color='#FF851B', label=r'3D-HST')\n",
    "\n",
    "\n",
    "ax.set_ylim([15, 42])\n",
    "ax.set_xlim([-1.5, 2.3])\n",
    "ax.invert_yaxis()\n",
    "\n",
    "\n",
    "ax.set_yticks([17, 20, 25, 30, 35, 40])\n",
    "ax.set_yticklabels(['M7', 'L0', 'L5', 'T0', 'T5', 'Y0'])\n",
    "\n",
    "\n",
    "ax.minorticks_on()\n",
    "ax.set_ylabel('Spectral Type', fontsize=18)\n",
    "ax.set_xlabel(r'J - H', fontsize=18)\n",
    "\n",
    "ax.legend(fontsize=18)\n",
    "#mplcyberpunk.make_lines_glow(ax)\n",
    "#plt.grid(which='both', color='#7FDBFF')\n",
    "plt.tight_layout()\n",
    "\n",
    "plt.savefig(wisps.OUTPUT_FIGURES+'/color_color_plots.pdf', bbox_inches='tight')\n"
   ]
  },
  {
   "cell_type": "code",
   "execution_count": null,
   "metadata": {},
   "outputs": [],
   "source": [
    "wispsucd=ucds[ucds.grism_id.str.lower().str.startswith('par')]\n",
    "hst3ducd=ucds[~ucds.grism_id.str.lower().str.startswith('par')]"
   ]
  },
  {
   "cell_type": "code",
   "execution_count": null,
   "metadata": {},
   "outputs": [],
   "source": [
    "older_pnts=pd.read_pickle(wisps.OUTPUT_FILES+'/pointings_corrected.pkl')\n",
    "pnts=pd.read_pickle(wisps.OUTPUT_FILES+'/pointings_correctedf110.pkl')\n",
    "maglimits=pd.DataFrame([x.mag_limits for x in pnts])"
   ]
  },
  {
   "cell_type": "code",
   "execution_count": null,
   "metadata": {},
   "outputs": [],
   "source": [
    "MAX_LTS=maglimits.max()[['F110', 'F140', 'F160']].values\n",
    "MED_LTS=maglimits.median()[['F110', 'F140', 'F160']].values"
   ]
  },
  {
   "cell_type": "code",
   "execution_count": null,
   "metadata": {},
   "outputs": [],
   "source": [
    "corr_pols=wisps.POLYNOMIAL_RELATIONS['mag_limit_corrections']"
   ]
  },
  {
   "cell_type": "code",
   "execution_count": null,
   "metadata": {},
   "outputs": [],
   "source": [
    "sp_grid=np.arange(15, 40)\n",
    "\n",
    "d_limitsdict=(pd.DataFrame([wisps.distance({'F110W': (MED_LTS[0], 0.5), 'F140W': (MED_LTS[1], 0.5), \n",
    "                                            'F160W': (MED_LTS[2], 0.5)}, x, 0.) \n",
    "                        for x in sp_grid])[['distF110W', 'distF140W', 'distF160W']]).apply(lambda x: np.nanmean(x), axis=1)\n",
    "\n",
    "\n",
    "corrected_limits=(pd.DataFrame([wisps.distance({'F110W': (MAX_LTS[0], 0.5), 'F140W': (MAX_LTS[1], 0.5), \n",
    "                                            'F160W': (MAX_LTS[2], 0.5)}, x, 0.)\n",
    "                        for x in sp_grid])[['distF110W', 'distF140W', 'distF160W']]).apply(lambda x: np.nanmean(x), axis=1)\n",
    "\n",
    "\n",
    "new_corrected_limits=(pd.DataFrame([wisps.distance({'F110W': (MAX_LTS[0]+(corr_pols['F110W'][0])(x), 0.5), \n",
    "                                                    'F140W': (MAX_LTS[0]+(corr_pols['F140W'][0])(x), 0.5), \n",
    "                                                    'F160W': (MAX_LTS[0]+(corr_pols['F160W'][0])(x), 0.5)},\n",
    "                                                   x, 0.) \n",
    "                        for x in sp_grid])[['distF110W', 'distF140W', 'distF160W']]).apply(lambda x: np.nanmean(x), axis=1)\n"
   ]
  },
  {
   "cell_type": "code",
   "execution_count": null,
   "metadata": {},
   "outputs": [],
   "source": []
  },
  {
   "cell_type": "code",
   "execution_count": null,
   "metadata": {},
   "outputs": [],
   "source": [
    "#xs"
   ]
  },
  {
   "cell_type": "code",
   "execution_count": null,
   "metadata": {},
   "outputs": [],
   "source": [
    "#plt.plot(xs[:,0], xs[:,1], '.')"
   ]
  },
  {
   "cell_type": "code",
   "execution_count": null,
   "metadata": {},
   "outputs": [],
   "source": [
    "fig, (ax, ax1, ax2)=plt.subplots(nrows=3, figsize=(6, 10))\n",
    "sns.distplot(ucds.spt, kde=False, ax=ax, rug=True, hist_kws={'align': 'mid'})\n",
    "ax.set_xlabel('Spectral Type', fontsize=18)\n",
    "ax.set_ylabel('Number', fontsize=18)\n",
    "ax.minorticks_on()\n",
    "ax.set_yscale('log')\n",
    "\n",
    "\n",
    "sns.distplot(ucds.distance, kde=False, ax=ax1, rug=True, hist_kws={'align': 'mid'})\n",
    "plt.tight_layout()\n",
    "ax1.set_xlabel('Distance (pc)', fontsize=18)\n",
    "ax1.set_ylabel('Number', fontsize=18)\n",
    "ax1.minorticks_on()\n",
    "ax1.set_xscale('log')\n",
    "\n",
    "#for a in [ax, ax1]:\n",
    "ax.set_xticks([17, 20, 25, 30, 35, 40])\n",
    "ax.set_xticklabels(['M7', 'L0', 'L5', 'T0', 'T5', 'Y0'])\n",
    "\n",
    "\n",
    "\n",
    "#ax2.plot(sp_grid, d_limitsdict.values, c='#FF4136', linestyle='--')\n",
    "ax2.plot(sp_grid,  corrected_limits.values, c='#FF4136')\n",
    "ax2.plot(sp_grid, new_corrected_limits.values, c='#2ECC40')\n",
    "\n",
    "ax2.errorbar(wispsucd.spt, wispsucd.distance, \n",
    "             yerr=np.abs(np.vstack(wispsucd.distance_er.values).T) ,\n",
    "             xerr= wispsucd.spt_er, label='WISP', fmt='^',  \n",
    "             mec='#111111', mfc='none', mew=3, rasterized=True, c='#0074D9')\n",
    "ax2.errorbar(hst3ducd.spt, hst3ducd.distance,\\\n",
    "             yerr=np.abs(np.vstack(hst3ducd.distance_er.values).T),\\\n",
    "              xerr= hst3ducd.spt_er, label='3D-HST', fmt='o',\\\n",
    "             mec='#111111',  mfc='none', mew=3, rasterized=True, c='#0074D9')\n",
    "ax2.legend()\n",
    "\n",
    "\n",
    "ax2.set_yscale('log')\n",
    "ax2.set_ylabel('Distance (pc)', fontsize=18)\n",
    "ax2.set_xlabel('Spectral Type', fontsize=18)\n",
    "\n",
    "ax2.minorticks_on()\n",
    "\n",
    "ax2.set_ylim([10, 8000])\n",
    "ax2.set_xticks([17, 20, 25, 30, 35, 40])\n",
    "ax2.set_xticklabels(['M7', 'L0', 'L5', 'T0', 'T5', 'Y0'])\n",
    "\n",
    "plt.tight_layout()\n",
    "plt.savefig(wisps.OUTPUT_FIGURES+'/sptdistribution.pdf',  bbox_inches='tight')"
   ]
  },
  {
   "cell_type": "code",
   "execution_count": null,
   "metadata": {},
   "outputs": [],
   "source": [
    "#np.vstack(wispsucd.distance_er.values).T "
   ]
  },
  {
   "cell_type": "code",
   "execution_count": null,
   "metadata": {},
   "outputs": [],
   "source": [
    "plt.hist(ucds.spt, log=True, bins=23)"
   ]
  },
  {
   "cell_type": "code",
   "execution_count": null,
   "metadata": {},
   "outputs": [],
   "source": [
    "fig, ax=plt.subplots(figsize=(7, 14))\n",
    "\n",
    "for  idx, y in enumerate(tdwarfs.spectra):\n",
    "    x=y.splat_spectrum\n",
    "    \n",
    "    if x.wave.value.min()< 0.9:\n",
    "        x.trim([0.88, 1.7])\n",
    "        \n",
    "    if x.wave.value.min()>0.9:\n",
    "        x.trim([1.1, 1.7])\n",
    "  \n",
    "    std= splat.STDS_DWARF_SPEX[splat.typeToNum(y.spectral_type[0])]\n",
    "    \n",
    "    std.normalize(waverange=[1.15, 1.65])\n",
    "    x.normalize(waverange=[1.15, 1.65])\n",
    "    \n",
    "\n",
    "    \n",
    "    med0=(x.flux.value[np.logical_and(x.wave.value >1.15, x.wave.value <1.65) ]).mean()\n",
    "    med1=(std.flux.value[np.logical_and(std.wave.value >1.15, std.wave.value <1.65) ]).mean()\n",
    "    \n",
    "    std.scale(med0/med1)\n",
    "    \n",
    "    plt.text(1.4, (x.flux.value+idx/1.5).mean(),splat.typeToNum(y.spectral_type[0]),\n",
    "             {'fontsize':17, 'weight': 'bold'}, color='#0074D9')\n",
    "    \n",
    "    \n",
    "    plt.step(x.wave.value, x.flux.value+idx/1.5, c='#0074D9')\n",
    "    plt.plot(std.wave.value, std.flux.value+ idx/1.5, c='#01FF70')\n",
    "    plt.ylim([0., 8.05])\n",
    "    plt.xlim([0.85, 1.7])\n",
    "    \n",
    "plt.minorticks_on()\n",
    " \n",
    "#mplcyberpunk.make_lines_glow(ax)\n",
    "    \n",
    "ax.set_xlabel(r'$\\lambda$ ( micron)', fontsize=24)\n",
    "ax.set_ylabel(r'Normalized Flux + offset', fontsize=24)\n",
    "\n",
    "plt.tight_layout()  \n",
    "#mplcyberpunk.add_underglow()\n",
    "#mplcyberpunk.make_lines_glow(ax)\n",
    "plt.savefig(wisps.OUTPUT_FIGURES+'/tdwarfsequence.pdf')"
   ]
  },
  {
   "cell_type": "code",
   "execution_count": null,
   "metadata": {},
   "outputs": [],
   "source": [
    "ucds.to_pickle('~/research/wisps/libraries/real_ucds.pkl')"
   ]
  },
  {
   "cell_type": "code",
   "execution_count": null,
   "metadata": {},
   "outputs": [],
   "source": [
    "#define a number of selectors \n",
    "#each selection should a column of zeros and ones corresponding\n",
    "#to where objects were selected\n",
    "#each selector input is the simulated df\n",
    "def f_test_fx(x, df1, df2):\n",
    "    return stats.f.cdf(x, df1, df2)\n",
    "\n",
    "def select_by_indices(df, idx, spt_range):\n",
    "    print(spt_range)\n",
    "    bs=idx.shapes\n",
    "    bx=[x for x in bs if x.shape_name==spt_range][0]\n",
    "    _, bools= bx._select(np.array([df[idx.xkey].values, df[idx.ykey].values]))\n",
    "    return bools\n",
    "        \n",
    "\n",
    "def apply_scale(x):\n",
    "    ##remove nans \n",
    "    ##this is the same scaling used \n",
    "    ## same scaling used for \n",
    "    #replace nans\n",
    "    y=x\n",
    "    if np.isnan(y) or np.isinf(y) or abs(y) > 1e10:\n",
    "        y=-99\n",
    "    return y\n",
    "\n",
    "\n",
    "def select_by_random_forest(df):\n",
    "    #use the classification given by my rf classifier\n",
    "    \n",
    "    rf=rfdict['classifier']\n",
    "    #min_max_scaler=rfdict['sclr']\n",
    "    features=rfdict['feats']\n",
    "    \n",
    "    #apply logs to problematic features the same way I did on my classification\n",
    "    pred_df=df.copy()\n",
    "    \n",
    "    for c in features:\n",
    "        if c not in ['spt', 'f_test', 'x']:\n",
    "            pred_df.assign(c=np.log10(pred_df[c].apply(apply_scale)))\n",
    "        else:\n",
    "            pred_df.assign(c=pred_df[c].apply(apply_scale))\n",
    "            \n",
    "    pred_df[features]=pred_df[features].applymap(apply_scale)\n",
    "    #make predictions\n",
    "    probs=rf.predict_proba(pred_df[features].values)\n",
    "    \n",
    "    #use my selection probability cutoffs\n",
    "    #return the predictions\n",
    "    \n",
    "    labels=np.logical_or.reduce((probs[:, 2] > .8, probs[:,3] >.8 , probs[:,4] >0.85))\n",
    " \n",
    "    return labels\n",
    "\n",
    "\n",
    "\n",
    "def select_by_neuralnet(df):\n",
    "    #define features (start with indices alone)\n",
    "    #apply logs to problematic features the same way I did on my classification\n",
    "    features=rfdict['feats']\n",
    "    \n",
    "    pred_df=df.copy()\n",
    "    \n",
    "    for c in features:\n",
    "        if c not in ['spt']:\n",
    "            pred_df.assign(c=np.log10(pred_df[c].apply(apply_scale)))\n",
    "        else:\n",
    "            pred_df.assign(c=pred_df[c].apply(apply_scale))\n",
    "            \n",
    "    pred_df[features]=pred_df[features].applymap(apply_scale)\n",
    "    probs= neural_network.predict(  pred_df[features].values)\n",
    "    \n",
    "    #my cuts\n",
    "    labels=np.logical_or.reduce((probs[:, 2] > .95, probs[:,3] >.95 , probs[:,4] >0.8))\n",
    "    #labels=probs[:,0] <0.5\n",
    " \n",
    "    return labels\n",
    "\n",
    "import wisps.data_analysis.selection_criteria as sel_crt\n",
    "indices_to_use= pd.read_pickle(wisps.OUTPUT_FILES+'/best_indices_to_use.pkl')\n",
    "slc_crts=sel_crt.crts_from_file()\n",
    "\n",
    "rfselection=pd.read_csv(wisps.OUTPUT_FILES+'/selected_by_rf.csv')\n",
    "nnres=pd.read_pickle(wisps.OUTPUT_FILES+'/deep_neural_net_classifier_results.pkl')\n",
    "\n",
    "#rfselection.shape\n",
    "\n",
    "nnsel= pd.concat(nnres['selected'])\n",
    "\n",
    "nnselection =pd.DataFrame()\n",
    "nnselection['grism_id']=np.concatenate([nnsel.l.values, nnsel.t.values])\n",
    "nnselection=nnselection.drop_duplicates('grism_id')\n",
    "\n",
    "\n",
    "\n",
    "labelled=wisps.Annotator.group_by_spt(ucds, spt_label='spt', assign_number=False)\n",
    "\n",
    "for idxk, k in indices_to_use:\n",
    "    idx=slc_crts[idxk]\n",
    "    labelled['selected_by_{}'.format(k)]= select_by_indices(labelled, idx, k)\n",
    "\n",
    "labelled['index_label']=np.logical_or.reduce([labelled['selected_by_{}'.format(x)].values \n",
    "                                              for x in  np.vstack(indices_to_use)[:,1]])\n",
    "\n",
    "#add labels for index selection\n",
    "labelled['selected_by_rf']=labelled.grism_id.str.lower().isin(rfselection.grism_id.str.lower())\n",
    "labelled['selected_by_nn']=labelled.grism_id.str.lower().isin(nnselection.grism_id.str.lower())\n",
    "for g in labelled.groupby('spt_range'):\n",
    "    df0=g[1]\n",
    "    print ('{}'.format(g[0]))\n",
    "    print ('selected by rf {}'.format(len(df0[df0.selected_by_rf])))\n",
    "    print ('selected by NN {}'.format(len(df0[df0.selected_by_nn])))\n",
    "    print ('selected by indices {}'.format(len(df0[df0.index_label])))\n",
    "    print ('selected by rf and indices {}'.format(len(df0[np.logical_and(df0.index_label,df0.selected_by_rf) ])))\n",
    "    print ('selected by NOT rf and indices {}'.format(len(df0[np.logical_and(df0.index_label,~df0.selected_by_rf) ])))\n",
    "    print ('selected by rf and NOT indices {}'.format(len(df0[np.logical_and(~df0.index_label,df0.selected_by_rf) ])))\n",
    "    print ('selected by NN and indices {}'.format(len(df0[np.logical_and(df0.index_label,df0.selected_by_nn) ])))\n",
    "    print ('selected by NOT NN and indices {}'.format(len(df0[np.logical_and(df0.index_label,~df0.selected_by_nn) ])))\n",
    "    print ('selected by NN and NOT indices {}'.format(len(df0[np.logical_and(~df0.index_label,df0.selected_by_nn) ])))\n",
    "    print ('---------------------------------------------------------------- ')"
   ]
  },
  {
   "cell_type": "code",
   "execution_count": null,
   "metadata": {},
   "outputs": [],
   "source": [
    "nnselection"
   ]
  },
  {
   "cell_type": "code",
   "execution_count": null,
   "metadata": {},
   "outputs": [],
   "source": [
    "\n",
    "\n",
    "plt.errorbar(ucds.F140W, ucds.spt, xerr=ucds.F140W_er, yerr=ucds.spt_er, \n",
    "             fmt='o', c='k', label='WISP')\n",
    "\n",
    "\n",
    "len(ucds)"
   ]
  },
  {
   "cell_type": "code",
   "execution_count": null,
   "metadata": {},
   "outputs": [],
   "source": [
    "ucds['f_test']=ucds.spectra.apply(lambda x: x.f_test)\n",
    "ucds['dof']=ucds.spectra.apply(lambda x: x.dof)\n",
    "ucds['line_chi']=ucds.spectra.apply(lambda x: x.line_chi)\n",
    "ucds['spex_chi']=ucds.spectra.apply(lambda x: x.spex_chi)\n",
    "ucds['wavenumber']=ucds.spectra.apply(lambda x:len(x.wave))"
   ]
  },
  {
   "cell_type": "markdown",
   "metadata": {},
   "source": [
    "\n",
    "%%capture\n",
    "fold='/Users/caganze/research/wisps/figures/ltwarfs/'\n",
    "ids=0\n",
    "for idx, row in ucds.iterrows():\n",
    "    try:\n",
    "        s=row.spectra\n",
    "        filename=fold+'spectrum'+str(ids)+'.pdf'\n",
    "        s.pixels_per_image=100\n",
    "        s.plot(save=True, filename=filename)\n",
    "        ids=ids+1\n",
    "    except:\n",
    "        s=wisps.Source(filename=row.grism_id.replace('g141', 'G141'),is_ucd=False )\n",
    "        s.pixels_per_image=100\n",
    "        filename=fold+'spectrum'+str(ids)+'.pdf'\n",
    "        s.plot(save=True, filename=filename)\n",
    "        ids=ids+1"
   ]
  },
  {
   "cell_type": "code",
   "execution_count": null,
   "metadata": {},
   "outputs": [],
   "source": [
    "len(ucds)"
   ]
  },
  {
   "cell_type": "code",
   "execution_count": null,
   "metadata": {},
   "outputs": [],
   "source": [
    "import wisps.simulations as wispsim\n"
   ]
  },
  {
   "cell_type": "code",
   "execution_count": null,
   "metadata": {},
   "outputs": [],
   "source": [
    "px=wisps.POLYNOMIAL_RELATIONS['abs_mags']['F110W'][0]"
   ]
  },
  {
   "cell_type": "code",
   "execution_count": null,
   "metadata": {},
   "outputs": [],
   "source": [
    "wisps.POLYNOMIAL_RELATIONS['colors']['h_f160']"
   ]
  },
  {
   "cell_type": "code",
   "execution_count": null,
   "metadata": {},
   "outputs": [],
   "source": [
    "#px=np.poly1d(np.flip([6.4E-07, -9.1E-05, 5.2E-03, -1.6E-01, \\\n",
    "#                      .6E+00, -2.1E+01, 7.1E+01]))"
   ]
  },
  {
   "cell_type": "code",
   "execution_count": null,
   "metadata": {},
   "outputs": [],
   "source": [
    "plt.plot(np.arange(15, 40, 1), px(np.arange(15, 40, 1)))"
   ]
  },
  {
   "cell_type": "code",
   "execution_count": null,
   "metadata": {},
   "outputs": [],
   "source": [
    "ucds['med_dist_er']=np.nanmedian(np.vstack(ucds.distance_er.values), axis=1)"
   ]
  },
  {
   "cell_type": "code",
   "execution_count": null,
   "metadata": {},
   "outputs": [],
   "source": [
    "ms=ucds[ucds.spt.between(16,19)]\n",
    "ls=ucds[ucds.spt.between(20,29)]\n",
    "ts=ucds[ucds.spt.between(30,45)]\n"
   ]
  },
  {
   "cell_type": "code",
   "execution_count": null,
   "metadata": {},
   "outputs": [],
   "source": [
    "ts[ts.med_dist_er/ts.distance <0.6].sort_values('distance')[['designation', 'distance', \\\n",
    "                                                             'distance_er', 'spt', 'spt_er']]"
   ]
  },
  {
   "cell_type": "markdown",
   "metadata": {},
   "source": [
    "ms.spt_er "
   ]
  },
  {
   "cell_type": "code",
   "execution_count": null,
   "metadata": {},
   "outputs": [],
   "source": [
    "870-(123-20-7-7-4)"
   ]
  },
  {
   "cell_type": "code",
   "execution_count": null,
   "metadata": {},
   "outputs": [],
   "source": []
  }
 ],
 "metadata": {
  "kernelspec": {
   "display_name": "Python 3",
   "language": "python",
   "name": "python3"
  },
  "language_info": {
   "codemirror_mode": {
    "name": "ipython",
    "version": 3
   },
   "file_extension": ".py",
   "mimetype": "text/x-python",
   "name": "python",
   "nbconvert_exporter": "python",
   "pygments_lexer": "ipython3",
   "version": "3.8.5"
  }
 },
 "nbformat": 4,
 "nbformat_minor": 4
}
