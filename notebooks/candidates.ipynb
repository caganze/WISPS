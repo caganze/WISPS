{
 "cells": [
  {
   "cell_type": "code",
   "execution_count": 1,
   "metadata": {},
   "outputs": [],
   "source": [
    "import splat\n",
    "import matplotlib.pyplot as plt\n",
    "import numpy as np\n",
    "import pandas as pd\n",
    "import matplotlib as mpl\n",
    "from astropy.visualization import ZScaleInterval\n",
    "import matplotlib\n",
    "import wisps\n",
    "%matplotlib inline"
   ]
  },
  {
   "cell_type": "code",
   "execution_count": 2,
   "metadata": {},
   "outputs": [],
   "source": [
    "#df_ids=wisps.UCD_SPECTRA.grism_id\n",
    "df_ids=pd.read_pickle(wisps.LIBRARIES+'/candidates_ids.pkl')[0]"
   ]
  },
  {
   "cell_type": "code",
   "execution_count": 3,
   "metadata": {},
   "outputs": [],
   "source": [
    "df=pd.DataFrame()"
   ]
  },
  {
   "cell_type": "code",
   "execution_count": 4,
   "metadata": {},
   "outputs": [],
   "source": [
    "df['grism_id']=df_ids.apply(lambda x: x.replace('g141', 'G141')).values"
   ]
  },
  {
   "cell_type": "code",
   "execution_count": 5,
   "metadata": {},
   "outputs": [
    {
     "data": {
      "text/html": [
       "<table style=\"border: 2px solid white;\">\n",
       "<tr>\n",
       "<td style=\"vertical-align: top; border: 0px solid white\">\n",
       "<h3 style=\"text-align: left;\">Client</h3>\n",
       "<ul style=\"text-align: left; list-style: none; margin: 0; padding: 0;\">\n",
       "  <li><b>Scheduler: </b>inproc://192.168.0.2/4088/1</li>\n",
       "  <li><b>Dashboard: </b><a href='http://192.168.0.2:8787/status' target='_blank'>http://192.168.0.2:8787/status</a>\n",
       "</ul>\n",
       "</td>\n",
       "<td style=\"vertical-align: top; border: 0px solid white\">\n",
       "<h3 style=\"text-align: left;\">Cluster</h3>\n",
       "<ul style=\"text-align: left; list-style:none; margin: 0; padding: 0;\">\n",
       "  <li><b>Workers: </b>1</li>\n",
       "  <li><b>Cores: </b>4</li>\n",
       "  <li><b>Memory: </b>2.00 GB</li>\n",
       "</ul>\n",
       "</td>\n",
       "</tr>\n",
       "</table>"
      ],
      "text/plain": [
       "<Client: 'inproc://192.168.0.2/4088/1' processes=1 threads=4, memory=2.00 GB>"
      ]
     },
     "execution_count": 5,
     "metadata": {},
     "output_type": "execute_result"
    }
   ],
   "source": [
    "from dask.distributed import Client, progress\n",
    "client = Client(processes=False, threads_per_worker=4,\n",
    "                n_workers=1, memory_limit='2GB',  silence_logs='error')\n",
    "client"
   ]
  },
  {
   "cell_type": "code",
   "execution_count": 6,
   "metadata": {},
   "outputs": [
    {
     "name": "stdout",
     "output_type": "stream",
     "text": [
      "yikes .....  goodsn-41-G141_00942\n",
      "yikes .....  uds-21-G141_14877\n",
      "yikes .....  uds-05-G141_41125\n",
      "yikes .....  uds-25-G141_36758\n",
      "yikes .....  uds-01-G141_29272\n",
      "yikes .....  uds-19-G141_32382\n",
      "yikes .....  uds-15-G141_14762\n",
      "yikes .....  uds-14-G141_11264\n",
      "yikes .....  goodsn-36-G141_22694\n",
      "yikes .....  goodsn-46-G141_19334\n",
      "yikes .....  goodsn-43-G141_04640\n",
      "yikes .....  goodsn-43-G141_05553\n",
      "yikes .....  goodsn-43-G141_05338\n",
      "yikes .....  goodsn-24-G141_21829\n",
      "yikes .....  uds-24-G141_32644\n",
      "yikes .....  uds-14-G141_05410\n",
      "yikes .....  goodsn-31-G141_01429\n",
      "yikes .....  uds-10-G141_10211\n",
      "yikes .....  goodsn-33-G141_09283\n",
      "yikes .....  uds-07-G141_19719\n",
      "yikes .....  goodsn-15-G141_29162\n",
      "yikes .....  goodsn-13-G141_20147\n",
      "yikes .....  goodsn-22-G141_10686\n",
      "yikes .....  goodsn-11-G141_11878\n",
      "yikes .....  goodsn-11-G141_10603\n",
      "yikes .....  uds-26-G141_34302\n",
      "yikes .....  goodsn-31-G141_04491\n",
      "yikes .....  goodsn-32-G141_05180\n",
      "yikes .....  uds-23-G141_31620\n",
      "yikes .....  uds-23-G141_32939\n",
      "yikes .....  uds-09-G141_17647\n",
      "yikes .....  uds-20-G141_28798\n",
      "yikes .....  uds-15-G141_15337\n",
      "yikes .....  goodsn-21-G141_04680\n",
      "yikes .....  goodsn-16-G141_33587\n",
      "yikes .....  goodsn-24-G141_21552\n",
      "yikes .....  goodsn-12-G141_13647\n",
      "yikes .....  goodsn-34-G141_14883\n",
      "yikes .....  uds-18-G141_36798\n",
      "yikes .....  goodsn-36-G141_26883\n",
      "yikes .....  uds-25-G141_36035\n",
      "yikes .....  uds-01-G141_31820\n",
      "yikes .....  goodsn-27-G141_34168\n",
      "yikes .....  goodsn-45-G141_14687\n",
      "yikes .....  uds-21-G141_18303\n",
      "yikes .....  goodsn-35-G141_19075\n",
      "yikes .....  uds-10-G141_05241\n",
      "yikes .....  goodsn-36-G141_24221\n"
     ]
    }
   ],
   "source": [
    "res=wisps.get_multiple_sources(df.grism_id, source_type='source')"
   ]
  },
  {
   "cell_type": "code",
   "execution_count": 7,
   "metadata": {},
   "outputs": [],
   "source": [
    "df['spectra']=res"
   ]
  },
  {
   "cell_type": "code",
   "execution_count": 8,
   "metadata": {},
   "outputs": [],
   "source": [
    "#remove extra problematic spectra\n",
    "problems=['cosmos-02-g141_04153', 'cosmos-05-g141_07469']"
   ]
  },
  {
   "cell_type": "code",
   "execution_count": 9,
   "metadata": {},
   "outputs": [],
   "source": [
    "df=(df[ ~df.grism_id.str.lower().isin(problems)]).reset_index(drop=True)"
   ]
  },
  {
   "cell_type": "code",
   "execution_count": 10,
   "metadata": {},
   "outputs": [
    {
     "ename": "AttributeError",
     "evalue": "'NoneType' object has no attribute 'spectral_type'",
     "output_type": "error",
     "traceback": [
      "\u001b[0;31m---------------------------------------------------------------------------\u001b[0m",
      "\u001b[0;31mAttributeError\u001b[0m                            Traceback (most recent call last)",
      "\u001b[0;32m<ipython-input-10-106859e343c8>\u001b[0m in \u001b[0;36m<module>\u001b[0;34m\u001b[0m\n\u001b[0;32m----> 1\u001b[0;31m \u001b[0mdf\u001b[0m\u001b[0;34m[\u001b[0m\u001b[0;34m'spt'\u001b[0m\u001b[0;34m]\u001b[0m\u001b[0;34m=\u001b[0m\u001b[0mdf\u001b[0m\u001b[0;34m[\u001b[0m\u001b[0;34m'spectra'\u001b[0m\u001b[0;34m]\u001b[0m\u001b[0;34m.\u001b[0m\u001b[0mapply\u001b[0m\u001b[0;34m(\u001b[0m\u001b[0;32mlambda\u001b[0m \u001b[0mx\u001b[0m\u001b[0;34m:\u001b[0m \u001b[0mwisps\u001b[0m\u001b[0;34m.\u001b[0m\u001b[0mmake_spt_number\u001b[0m\u001b[0;34m(\u001b[0m\u001b[0mx\u001b[0m\u001b[0;34m.\u001b[0m\u001b[0mspectral_type\u001b[0m\u001b[0;34m[\u001b[0m\u001b[0;36m0\u001b[0m\u001b[0;34m]\u001b[0m\u001b[0;34m)\u001b[0m\u001b[0;34m)\u001b[0m\u001b[0;34m\u001b[0m\u001b[0;34m\u001b[0m\u001b[0m\n\u001b[0m",
      "\u001b[0;32m~/anaconda3/lib/python3.7/site-packages/pandas/core/series.py\u001b[0m in \u001b[0;36mapply\u001b[0;34m(self, func, convert_dtype, args, **kwds)\u001b[0m\n\u001b[1;32m   3846\u001b[0m             \u001b[0;32melse\u001b[0m\u001b[0;34m:\u001b[0m\u001b[0;34m\u001b[0m\u001b[0;34m\u001b[0m\u001b[0m\n\u001b[1;32m   3847\u001b[0m                 \u001b[0mvalues\u001b[0m \u001b[0;34m=\u001b[0m \u001b[0mself\u001b[0m\u001b[0;34m.\u001b[0m\u001b[0mastype\u001b[0m\u001b[0;34m(\u001b[0m\u001b[0mobject\u001b[0m\u001b[0;34m)\u001b[0m\u001b[0;34m.\u001b[0m\u001b[0mvalues\u001b[0m\u001b[0;34m\u001b[0m\u001b[0;34m\u001b[0m\u001b[0m\n\u001b[0;32m-> 3848\u001b[0;31m                 \u001b[0mmapped\u001b[0m \u001b[0;34m=\u001b[0m \u001b[0mlib\u001b[0m\u001b[0;34m.\u001b[0m\u001b[0mmap_infer\u001b[0m\u001b[0;34m(\u001b[0m\u001b[0mvalues\u001b[0m\u001b[0;34m,\u001b[0m \u001b[0mf\u001b[0m\u001b[0;34m,\u001b[0m \u001b[0mconvert\u001b[0m\u001b[0;34m=\u001b[0m\u001b[0mconvert_dtype\u001b[0m\u001b[0;34m)\u001b[0m\u001b[0;34m\u001b[0m\u001b[0;34m\u001b[0m\u001b[0m\n\u001b[0m\u001b[1;32m   3849\u001b[0m \u001b[0;34m\u001b[0m\u001b[0m\n\u001b[1;32m   3850\u001b[0m         \u001b[0;32mif\u001b[0m \u001b[0mlen\u001b[0m\u001b[0;34m(\u001b[0m\u001b[0mmapped\u001b[0m\u001b[0;34m)\u001b[0m \u001b[0;32mand\u001b[0m \u001b[0misinstance\u001b[0m\u001b[0;34m(\u001b[0m\u001b[0mmapped\u001b[0m\u001b[0;34m[\u001b[0m\u001b[0;36m0\u001b[0m\u001b[0;34m]\u001b[0m\u001b[0;34m,\u001b[0m \u001b[0mSeries\u001b[0m\u001b[0;34m)\u001b[0m\u001b[0;34m:\u001b[0m\u001b[0;34m\u001b[0m\u001b[0;34m\u001b[0m\u001b[0m\n",
      "\u001b[0;32mpandas/_libs/lib.pyx\u001b[0m in \u001b[0;36mpandas._libs.lib.map_infer\u001b[0;34m()\u001b[0m\n",
      "\u001b[0;32m<ipython-input-10-106859e343c8>\u001b[0m in \u001b[0;36m<lambda>\u001b[0;34m(x)\u001b[0m\n\u001b[0;32m----> 1\u001b[0;31m \u001b[0mdf\u001b[0m\u001b[0;34m[\u001b[0m\u001b[0;34m'spt'\u001b[0m\u001b[0;34m]\u001b[0m\u001b[0;34m=\u001b[0m\u001b[0mdf\u001b[0m\u001b[0;34m[\u001b[0m\u001b[0;34m'spectra'\u001b[0m\u001b[0;34m]\u001b[0m\u001b[0;34m.\u001b[0m\u001b[0mapply\u001b[0m\u001b[0;34m(\u001b[0m\u001b[0;32mlambda\u001b[0m \u001b[0mx\u001b[0m\u001b[0;34m:\u001b[0m \u001b[0mwisps\u001b[0m\u001b[0;34m.\u001b[0m\u001b[0mmake_spt_number\u001b[0m\u001b[0;34m(\u001b[0m\u001b[0mx\u001b[0m\u001b[0;34m.\u001b[0m\u001b[0mspectral_type\u001b[0m\u001b[0;34m[\u001b[0m\u001b[0;36m0\u001b[0m\u001b[0;34m]\u001b[0m\u001b[0;34m)\u001b[0m\u001b[0;34m)\u001b[0m\u001b[0;34m\u001b[0m\u001b[0;34m\u001b[0m\u001b[0m\n\u001b[0m",
      "\u001b[0;31mAttributeError\u001b[0m: 'NoneType' object has no attribute 'spectral_type'"
     ]
    }
   ],
   "source": [
    "df['spt']=df['spectra'].apply(lambda x: wisps.make_spt_number(x.spectral_type[0]))"
   ]
  },
  {
   "cell_type": "code",
   "execution_count": null,
   "metadata": {},
   "outputs": [],
   "source": [
    "df['spt_unc']=df['spectra'].apply(lambda x: wisps.make_spt_number(x.spectral_type[1]))"
   ]
  },
  {
   "cell_type": "code",
   "execution_count": null,
   "metadata": {},
   "outputs": [],
   "source": [
    "df=df.sort_values(by='spt').reset_index(drop=True)"
   ]
  },
  {
   "cell_type": "code",
   "execution_count": null,
   "metadata": {},
   "outputs": [],
   "source": [
    "s=df.spectra.values[0]"
   ]
  },
  {
   "cell_type": "code",
   "execution_count": null,
   "metadata": {},
   "outputs": [],
   "source": [
    "df['distance']=df.spectra.apply(lambda x: x.distance['val'].value)"
   ]
  },
  {
   "cell_type": "code",
   "execution_count": null,
   "metadata": {},
   "outputs": [],
   "source": [
    "df['RA']=df.spectra.apply(lambda x: x.coords.ra.value)\n",
    "df['DEC']=df.spectra.apply(lambda x: x.coords.dec.value)"
   ]
  },
  {
   "cell_type": "code",
   "execution_count": null,
   "metadata": {},
   "outputs": [],
   "source": [
    "df['snr1']=df.spectra.apply(lambda x: x.snr['snr1'])"
   ]
  },
  {
   "cell_type": "code",
   "execution_count": null,
   "metadata": {},
   "outputs": [],
   "source": [
    "fdf=df[(df.spt >=17.) ]"
   ]
  },
  {
   "cell_type": "code",
   "execution_count": null,
   "metadata": {},
   "outputs": [],
   "source": [
    "len(fdf)"
   ]
  },
  {
   "cell_type": "code",
   "execution_count": null,
   "metadata": {},
   "outputs": [],
   "source": [
    "#distance distributions\n",
    "from astropy.coordinates import SkyCoord\n",
    "import astropy.coordinates as astrocoord\n",
    "import astropy.units as u\n",
    "coords=SkyCoord(ra=fdf.RA.values*u.deg, dec=fdf.DEC.values*u.deg, distance=fdf.distance.values*u.pc)"
   ]
  },
  {
   "cell_type": "code",
   "execution_count": null,
   "metadata": {},
   "outputs": [],
   "source": [
    "galoc=coords.transform_to(astrocoord.Galactocentric(galcen_distance=8.3*u.kpc))"
   ]
  },
  {
   "cell_type": "code",
   "execution_count": null,
   "metadata": {},
   "outputs": [],
   "source": [
    "#Rsun=8300.\n",
    "#Zsun=27.\n",
    "#r=np.sqrt( (coords.distance.value * np.cos( coords.galactic.b.radian ) )**2 + Rsun * (Rsun - 2 * coords.distance.value * np.cos( coords.galactic.b.radian ) * np.cos( coords.galactic.l.radian ) ) )\n",
    "#z=Zsun+ coords.distance.value * np.sin( coords.galactic.b.radian - np.arctan( Zsun / Rsun) )\n",
    "x, y, z=galoc.cartesian.xyz\n",
    "r=(x**2+y**2)**0.5"
   ]
  },
  {
   "cell_type": "code",
   "execution_count": null,
   "metadata": {},
   "outputs": [],
   "source": [
    "fig, (ax, ax1)=plt.subplots(figsize=(11, 4), ncols=2)\n",
    "sc=ax.scatter(r, z, c=fdf.spt.values, s=50, cmap='viridis',  marker='*')\n",
    "br=plt.colorbar(sc)\n",
    "#ax.ylabel('z (pc)', fontsize=20)\n",
    "#ax.xlabel('r (pc)', fontsize=20)\n",
    "#plt.grid()\n",
    "\n",
    "ax.minorticks_on()\n",
    "\n",
    "sc=ax1.scatter(coords.cartesian.x.value, coords.cartesian.y.value, c=fdf.spt.values, s=50, cmap='viridis', marker='*')\n",
    "\n",
    "\n",
    "#plt.grid()\n",
    "ax.minorticks_on()\n",
    "\n",
    "#ax.set_xlim([6000, 11000])\n",
    "#ax.set_ylim([-5000, 6000])\n",
    "\n",
    "#ax1.set_xlim([-11000, -5000])\n",
    "#ax1.set_ylim([-3000, 3000])\n",
    "\n",
    "ax.set_ylabel('Z (pc)', fontsize=20)\n",
    "ax.set_xlabel('R (pc)', fontsize=20)\n",
    "ax1.set_ylabel('X (pc)', fontsize=20)\n",
    "ax1.set_xlabel('Y (pc)', fontsize=20)\n",
    "\n",
    "ax.minorticks_on()\n",
    "ax1.minorticks_on()\n",
    "\n",
    "\n",
    "br.set_ticks([20, 25, 30, 35, 40])\n",
    "br.set_ticklabels(['L0', 'L5', 'T0', 'T5', 'Y0'])\n",
    "plt.tight_layout()\n",
    "plt.savefig(wisps.OUTPUT_FIGURES+'/candidate_distances.pdf', bbox_inches='tight')"
   ]
  },
  {
   "cell_type": "code",
   "execution_count": null,
   "metadata": {},
   "outputs": [],
   "source": [
    "mags=wisps.Annotator.reformat_table(pd.DataFrame.from_records(fdf.spectra.apply(lambda x: x.mags).values))"
   ]
  },
  {
   "cell_type": "code",
   "execution_count": null,
   "metadata": {},
   "outputs": [],
   "source": [
    "#MAKE THIS COLOR ABSOLUTE MAG from your mag relations"
   ]
  },
  {
   "cell_type": "code",
   "execution_count": null,
   "metadata": {},
   "outputs": [],
   "source": [
    "abs_mag_relation_140=wisps.POLYNOMIAL_RELATIONS['sp_F140W']\n",
    "abs_mag_relation_110=wisps.POLYNOMIAL_RELATIONS['sp_F110W']\n",
    "abs_mag_relation_160=wisps.POLYNOMIAL_RELATIONS['sp_F160W']"
   ]
  },
  {
   "cell_type": "code",
   "execution_count": null,
   "metadata": {},
   "outputs": [],
   "source": [
    "dhgjk=fdf.sort_values(by='distance')[['grism_id', 'distance', 'spt']]"
   ]
  },
  {
   "cell_type": "code",
   "execution_count": null,
   "metadata": {},
   "outputs": [],
   "source": [
    "latc_df=pd.DataFrame()"
   ]
  },
  {
   "cell_type": "code",
   "execution_count": null,
   "metadata": {},
   "outputs": [],
   "source": [
    "latc_df['Shortname']=fdf.spectra.apply(lambda x: x.shortname.upper())\n",
    "latc_df['designation']=fdf.spectra.apply(lambda x: x.designation.upper())\n",
    "latc_df['grism id']=fdf.spectra.apply(lambda x: x.name.upper())\n",
    "latc_df['snrj']=fdf.spectra.apply(lambda x: int(round(x.snr['snr1'])))\n",
    "latc_df['spt']=fdf.spectra.apply(lambda x: splat.typeToNum(x.spectral_type[0]) +r'$\\pm$'+ str(x.spectral_type[1]))\n",
    "latc_df['ra']=fdf.spectra.apply(lambda x: x.ra.value)\n",
    "latc_df['dec']=fdf.spectra.apply(lambda x: x.dec.value)\n",
    "latc_df['f110']=fdf.spectra.apply(lambda x:  str(round(x.mags['F110W'][0],3)) +r'$\\pm$'+ str(round(x.mags['F110W'][1],3)))\n",
    "#latc_df['f110_er']=fdf.spectra.apply(lambda x: round(x.mags['F110W'][1], 1))\n",
    "latc_df['f140']=fdf.spectra.apply(lambda x:  str(round(x.mags['F140W'][0],3)) +r'$\\pm$'+  str(round(x.mags['F140W'][1],3)))\n",
    "#latc_df['f140_er']=fdf.spectra.apply(lambda x: round(x.mags['F140W'][1], 1))\n",
    "latc_df['f160']=fdf.spectra.apply(lambda x:   str(round(x.mags['F160W'][0],3)) + r'$\\pm$'+ str(round(x.mags['F160W'][1],3)))\n",
    "#latc_df['f160_er']=fdf.spectra.apply(lambda x: round(x.mags['F160W'][1], 1))\n",
    "latc_df['distance']=fdf.spectra.apply(lambda x: str(int(round(x.distance['val'].value, 0)))  + r'$\\pm$'+ \n",
    "                                                 str((int(round(x.distance['er'].value, 0)))))"
   ]
  },
  {
   "cell_type": "code",
   "execution_count": null,
   "metadata": {},
   "outputs": [],
   "source": [
    "latc_df=latc_df.replace('nan$\\\\pm$nan', 'nodata')"
   ]
  },
  {
   "cell_type": "code",
   "execution_count": null,
   "metadata": {},
   "outputs": [],
   "source": [
    "#get the right sequence of coplumns\n",
    "\n",
    "col_list=['designation','grism id', 'ra', 'dec', 'f110', 'f140', 'f160', 'snrj', 'spt', 'distance']"
   ]
  },
  {
   "cell_type": "code",
   "execution_count": null,
   "metadata": {},
   "outputs": [],
   "source": [
    "latc_df[col_list]"
   ]
  },
  {
   "cell_type": "code",
   "execution_count": null,
   "metadata": {},
   "outputs": [],
   "source": []
  },
  {
   "cell_type": "code",
   "execution_count": null,
   "metadata": {},
   "outputs": [],
   "source": [
    "latc_df[col_list].to_latex(wisps.LIBRARIES+'/candidates.tex',\n",
    "             header=True, index=False, na_rep=' ')"
   ]
  },
  {
   "cell_type": "code",
   "execution_count": null,
   "metadata": {},
   "outputs": [],
   "source": [
    "for k in (fdf.spectra.iloc[0]).mags.keys():\n",
    "    fdf[k]=fdf.spectra.apply(lambda x: x.mags[k])\n",
    "    \n",
    "for k in (fdf.spectra.iloc[0]).indices.keys():\n",
    "    fdf[k]=fdf.spectra.apply(lambda x: x.indices[k])\n",
    "    "
   ]
  },
  {
   "cell_type": "code",
   "execution_count": null,
   "metadata": {},
   "outputs": [],
   "source": [
    "fdf.columns"
   ]
  },
  {
   "cell_type": "code",
   "execution_count": null,
   "metadata": {},
   "outputs": [],
   "source": [
    "fdf.to_pickle(wisps.LIBRARIES+'/candidates.pkl')"
   ]
  },
  {
   "cell_type": "code",
   "execution_count": null,
   "metadata": {},
   "outputs": [],
   "source": [
    "#%%capture\n",
    "fold='/Users/caganze/research/wisps/figures/ltwarfs/'\n",
    "\n",
    "ids=0\n",
    "for idx, row in fdf.iterrows():\n",
    "    try:\n",
    "        s=row.spectra\n",
    "        print (s)\n",
    "        filename=fold+'spectrum'+str(ids)+'.jpeg'\n",
    "        s.plot(save=True, filename=filename)\n",
    "        ids=ids+1\n",
    "    except:\n",
    "        s=wisps.Source(filename=row.grism_id.replace('g141', 'G141'),is_ucd=False )\n",
    "        print (s)\n",
    "        filename=fold+'spectrum'+str(ids)+'.jpeg'\n",
    "        s.plot(save=True, filename=filename)\n",
    "        ids=ids+1\n"
   ]
  },
  {
   "cell_type": "code",
   "execution_count": null,
   "metadata": {},
   "outputs": [],
   "source": [
    "from astropy.coordinates import SkyCoord"
   ]
  },
  {
   "cell_type": "code",
   "execution_count": null,
   "metadata": {},
   "outputs": [],
   "source": [
    "#indices_df=pd.DataFrame.from_records(df.spectra.apply(lambda x: x.indices).values)"
   ]
  },
  {
   "cell_type": "code",
   "execution_count": null,
   "metadata": {},
   "outputs": [],
   "source": [
    "#for k in indices_df.columns: df[k]= indices_df[k]"
   ]
  },
  {
   "cell_type": "code",
   "execution_count": null,
   "metadata": {},
   "outputs": [],
   "source": [
    "#df.to_hdf(wisps.OUTPUT_FILES+'/true_spectra_cands.hdf', key='with_indices')"
   ]
  },
  {
   "cell_type": "code",
   "execution_count": null,
   "metadata": {},
   "outputs": [],
   "source": [
    "import astropy.units as u"
   ]
  },
  {
   "cell_type": "code",
   "execution_count": null,
   "metadata": {},
   "outputs": [],
   "source": [
    "sk=SkyCoord(ra=fdf.RA.values*u.deg, dec=fdf.DEC.values*u.deg, distance=fdf.distance.values*u.pc)"
   ]
  },
  {
   "cell_type": "code",
   "execution_count": null,
   "metadata": {},
   "outputs": [],
   "source": [
    "norm = matplotlib.colors.Normalize(vmin=20., vmax=37.0)"
   ]
  },
  {
   "cell_type": "code",
   "execution_count": null,
   "metadata": {},
   "outputs": [],
   "source": [
    "from matplotlib import cm"
   ]
  },
  {
   "cell_type": "code",
   "execution_count": null,
   "metadata": {},
   "outputs": [],
   "source": [
    "import wisps.simulations as wispsim"
   ]
  },
  {
   "cell_type": "code",
   "execution_count": null,
   "metadata": {},
   "outputs": [],
   "source": [
    "df['pointing']=df.grism_id.apply(wispsim.get_proper_pointing)"
   ]
  },
  {
   "cell_type": "code",
   "execution_count": null,
   "metadata": {},
   "outputs": [],
   "source": [
    "pntcoords=SkyCoord([x.coord for x in wisps.OBSERVED_POINTINGS if not x.name in df.pointing.values])"
   ]
  },
  {
   "cell_type": "code",
   "execution_count": null,
   "metadata": {},
   "outputs": [],
   "source": [
    "fig = plt.figure(figsize=(8, 8))\n",
    "ax = fig.add_subplot(111, projection='mollweide')\n",
    "\n",
    "ax.scatter(pntcoords.galactic.l.wrap_at(180*u.deg).radian, pntcoords.galactic.b.wrap_at(180*u.deg).radian, c='grey', marker='x', alpha=0.5)\n",
    "c=ax.scatter(sk.galactic.l.wrap_at(180*u.deg).radian, sk.galactic.b.wrap_at(180*u.deg).radian,\n",
    "           c=np.vstack(fdf.spt.values)[:,0], cmap='viridis')\n",
    "\n",
    "\n",
    "plt.xlabel(\"l\", fontsize=18)\n",
    "plt.ylabel(\"b\", fontsize=18)\n",
    "plt.grid()\n",
    "plt.minorticks_on()\n",
    "plt.tight_layout()\n",
    "plt.savefig(wisps.OUTPUT_FIGURES+'/candidate_skymap.pdf', bbox_inches='tight')"
   ]
  },
  {
   "cell_type": "code",
   "execution_count": null,
   "metadata": {},
   "outputs": [],
   "source": [
    "def plot_vals(values, ax, title):\n",
    "    values=wisps.drop_nan(np.sort(values))\n",
    "    kernel = stats.gaussian_kde(values)\n",
    "    height = kernel.pdf(values)\n",
    "    mode_value = values[np.argmax(height)]\n",
    "    h=ax.hist(values, bins='auto', normed=True, histtype='step')\n",
    "    ax.plot(values, height)\n",
    "    ax.axvline(mode_value, c='k')\n",
    "    ax.set_xlabel(title, fontsize=18)"
   ]
  },
  {
   "cell_type": "code",
   "execution_count": null,
   "metadata": {},
   "outputs": [],
   "source": [
    "#fig, ax=plt.subplots(ncols=3,figsize=(12, 4))\n",
    "#plot_vals((wisps.OBSERVED_POINTINGS[np.random.randint(533)]).mags['F110'], ax[0], 'F110W')\n",
    "#plot_vals((wisps.OBSERVED_POINTINGS[np.random.randint(533)]).mags['F140'], ax[1], 'F140W')\n",
    "#plot_vals((wisps.OBSERVED_POINTINGS[np.random.randint(533)]).mags['F160'], ax[2], 'F160W')\n",
    "#plt.tight_layout()\n",
    "#plt.savefig(wisps.OUTPUT_FIGURES+'/mag_limits_illustration.pdf', bbox_inches='tight')"
   ]
  },
  {
   "cell_type": "code",
   "execution_count": null,
   "metadata": {},
   "outputs": [],
   "source": [
    "df['designation']=df.spectra.apply(lambda x: x.designation)"
   ]
  },
  {
   "cell_type": "code",
   "execution_count": null,
   "metadata": {},
   "outputs": [],
   "source": [
    "df.shape"
   ]
  },
  {
   "cell_type": "code",
   "execution_count": null,
   "metadata": {},
   "outputs": [],
   "source": [
    "df.to_pickle(wisps.OUTPUT_FILES+'/true_spectra_cands.pkl')"
   ]
  },
  {
   "cell_type": "code",
   "execution_count": null,
   "metadata": {},
   "outputs": [],
   "source": [
    "dfn=df[df.spt>=17]"
   ]
  },
  {
   "cell_type": "code",
   "execution_count": null,
   "metadata": {},
   "outputs": [],
   "source": [
    "import seaborn as sns"
   ]
  },
  {
   "cell_type": "code",
   "execution_count": null,
   "metadata": {},
   "outputs": [],
   "source": [
    "fig, ax=plt.subplots()\n",
    "\n",
    "sns.distplot(fdf.spt,  ax=ax, hist_kws={'log': True},  norm_hist=False, kde=False)\n",
    "#h=ax.hist(dfn.spt, log=True, bins=38-17)\n",
    "#dfn['spt'].plot(kind='hist')\n",
    "\n",
    "ax.set_xticks([17, 20, 25, 30, 35, 40])\n",
    "ax.set_xticklabels(['M7', 'L0', 'L5', 'T0', 'T5', 'Y0'])\n",
    "\n",
    "ax.set_xlabel('Spectral Type', fontsize=18)\n",
    "ax.set_ylabel('Number', fontsize=18)\n",
    "\n",
    "plt.minorticks_on()\n",
    "plt.tight_layout()\n",
    "plt.savefig(wisps.OUTPUT_FIGURES+'/sptdistribution.pdf')"
   ]
  },
  {
   "cell_type": "code",
   "execution_count": null,
   "metadata": {},
   "outputs": [],
   "source": [
    "fig, ax=plt.subplots()\n",
    "\n",
    "sns.distplot(fdf.distance.apply(np.log10),  ax=ax, hist_kws={'log': True}, norm_hist=False, kde=False)\n",
    "#h=ax.hist(dfn.spt, log=True, bins=38-17)\n",
    "#dfn['spt'].plot(kind='hist')\n",
    "\n",
    "#ax.set_xticks([17, 20, 25, 30, 35, 40])\n",
    "#ax.set_xticklabels(['M7', 'L0', 'L5', 'T0', 'T5', 'Y0'])\n",
    "\n",
    "ax.set_xlabel('Log Distance (pc)', fontsize=18)\n",
    "ax.set_ylabel('Number', fontsize=18)\n",
    "\n",
    "plt.minorticks_on()\n",
    "plt.tight_layout()\n",
    "plt.savefig(wisps.OUTPUT_FIGURES+'/distdistribution.pdf')"
   ]
  },
  {
   "cell_type": "code",
   "execution_count": null,
   "metadata": {},
   "outputs": [],
   "source": [
    "s=fdf.spectra.iloc[-1]"
   ]
  },
  {
   "cell_type": "code",
   "execution_count": null,
   "metadata": {},
   "outputs": [],
   "source": [
    "%%capture \n",
    "res=splat.classifyByTemplate(s.splat_spectrum, range=[[1.15, 1.65]], spt=[34,38], force=True )"
   ]
  },
  {
   "cell_type": "markdown",
   "metadata": {},
   "source": [
    "#########################"
   ]
  },
  {
   "cell_type": "code",
   "execution_count": 1,
   "metadata": {},
   "outputs": [],
   "source": [
    "import wisps.simulations as wispsim\n",
    "import splat\n",
    "import matplotlib.pyplot as plt\n",
    "import numpy as np\n",
    "import pandas as pd\n",
    "import matplotlib as mpl\n",
    "from astropy.visualization import ZScaleInterval\n",
    "import matplotlib\n",
    "import wisps\n",
    "\n",
    "%matplotlib inline"
   ]
  },
  {
   "cell_type": "code",
   "execution_count": 186,
   "metadata": {},
   "outputs": [],
   "source": [
    "def format_jk_zhang(row):\n",
    "    jmag=np.nan\n",
    "    hmag=np.nan\n",
    "    jmag_er=np.nan\n",
    "    hmag_er=np.nan\n",
    "    if row['J'] !='none':\n",
    "        #print ((row['J']).split('±'))\n",
    "        #row['J_mag']=(row['J']).split('±')[0]\n",
    "        #row['J_er']=(row['J']).split('±')[-1]\n",
    "        jmag=(row['J']).split('±')[0]\n",
    "        jmag_er=(row['J']).split('±')[1]\n",
    "        \n",
    "    if row['H'] !='none':\n",
    "        #print ((row['H']).split('±'))\n",
    "        #row['H_mag']=(row['H']).split('±')[0]\n",
    "        #row['H_er']=(row['H']).split('±')[-1]\n",
    "        hmag=(row['H']).split('±')[0]\n",
    "        hmag_er=(row['H']).split('±')[1]\n",
    "        \n",
    "    spt=splat.typeToNum(row[' SpT'])\n",
    "        \n",
    "    return pd.Series({'H':jmag, 'J':hmag, 'H_er':hmag_er, 'J_er':jmag_er, 'SpTn':spt})\n",
    "\n",
    "def format_jk_manj(row):\n",
    "    jmag=np.nan\n",
    "    hmag=np.nan\n",
    "    jmag_er=np.nan\n",
    "    hmag_er=np.nan\n",
    "    if str(row['J (mag)']) !='nan':\n",
    "        #ignore others\n",
    "        if not str(row['J (mag)']).startswith('>'):\n",
    "            jmag=((row['J (mag)']).split('+or-')[0]).strip()\n",
    "            jmag_er=((row['J (mag)']).split('+or-')[1]).strip()\n",
    "\n",
    "    if str(row['H (mag)']) !='nan':\n",
    "        if not str(row['J (mag)']).startswith('>'):\n",
    "            hmag=(row['H (mag)']).split('+or-')[0]\n",
    "            hmag_er=(row['H (mag)']).split('+or-')[1]\n",
    "        \n",
    "    spt=splat.typeToNum(row['SpT'])\n",
    "        \n",
    "    return pd.Series({'H':jmag, 'J':hmag, 'H_er':hmag_er, 'J_er':jmag_er, 'SpTn':spt})"
   ]
  },
  {
   "cell_type": "code",
   "execution_count": 3,
   "metadata": {},
   "outputs": [],
   "source": [
    "fdf=pd.read_pickle(wisps.LIBRARIES+'/candidates.pkl')"
   ]
  },
  {
   "cell_type": "code",
   "execution_count": 170,
   "metadata": {},
   "outputs": [],
   "source": [
    "fdf=wisps.Annotator.reformat_table(fdf)\n",
    "spts0ssss=np.vstack(fdf.spt.values)[:,0]"
   ]
  },
  {
   "cell_type": "code",
   "execution_count": 171,
   "metadata": {},
   "outputs": [],
   "source": [
    "pols=wisps.POLYNOMIAL_RELATIONS"
   ]
  },
  {
   "cell_type": "code",
   "execution_count": 172,
   "metadata": {},
   "outputs": [],
   "source": [
    "color_pol=pols['colors']"
   ]
  },
  {
   "cell_type": "code",
   "execution_count": 173,
   "metadata": {},
   "outputs": [],
   "source": [
    "#splat \n",
    "spdf=splat.searchLibrary()\n",
    "spdf['SHORTNAME']=spdf.DESIGNATION.apply(lambda x: splat.designationToShortName)\n",
    "spdwarf=spdf[~ (spdf.PARALLAX.isna() | spdf.SHORTNAME.isin(wisps.FORBIDDEN_LIST) \n",
    "               |(spdf.METALLICITY_CLASS=='sd') | (spdf.METALLICITY_CLASS=='d/sd'))]\n",
    "spsubdwarf=spdf[(spdf.METALLICITY_CLASS=='sd') ]\n",
    "spdwarf['SPEX_TYPE']=spdwarf['SPEX_TYPE'].apply(wisps.make_spt_number)\n",
    "spsubdwarf['SPEX_TYPE']=spsubdwarf['SPEX_TYPE'].apply(wisps.make_spt_number)"
   ]
  },
  {
   "cell_type": "code",
   "execution_count": 174,
   "metadata": {},
   "outputs": [],
   "source": [
    "#zhang\n",
    "zhng=pd.read_csv('~/research/wisps/data/zhang_data.csv')\n",
    "zhng_clrs=zhng.apply(format_jk_zhang, axis=1 ).applymap(float)"
   ]
  },
  {
   "cell_type": "code",
   "execution_count": 187,
   "metadata": {},
   "outputs": [],
   "source": [
    "#manjavacas\n",
    "man_df0=pd.read_csv('/users/caganze/research/wisps/data/manjavaca_phot.txt', sep='\\t',  index_col=None)\n",
    "man_clrs=man_df0.apply(format_jk_manj, axis=1 ).applymap(float)"
   ]
  },
  {
   "cell_type": "code",
   "execution_count": 199,
   "metadata": {},
   "outputs": [],
   "source": [
    "fdf['J']=fdf['F140W']+color_pol['j_f140'][0](fdf['spt'])\n",
    "fdf['J_er']=(fdf['F140W_er']**2+color_pol['j_f140'][1]**2)**0.5\n",
    "\n",
    "fdf['H']=fdf['F160W']+color_pol['h_f160'][0](fdf['spt'])\n",
    "fdf['H_er']=(fdf['F160W_er']**2+color_pol['h_f160'][1]**2)**0.5"
   ]
  },
  {
   "cell_type": "code",
   "execution_count": 219,
   "metadata": {},
   "outputs": [
    {
     "data": {
      "text/plain": [
       "Index(['H', 'J', 'H_er', 'J_er', 'SpTn'], dtype='object')"
      ]
     },
     "execution_count": 219,
     "metadata": {},
     "output_type": "execute_result"
    }
   ],
   "source": [
    "zhng_clrs.columns"
   ]
  },
  {
   "cell_type": "code",
   "execution_count": 242,
   "metadata": {},
   "outputs": [
    {
     "data": {
      "image/png": "[encoded data removed]",
      "text/plain": [
       "<Figure size 576x432 with 1 Axes>"
      ]
     },
     "metadata": {
      "needs_background": "light"
     },
     "output_type": "display_data"
    }
   ],
   "source": [
    "fig, ax=plt.subplots(figsize=(8, 6))\n",
    "\n",
    "\n",
    "\n",
    "ax.errorbar(spdwarf['J_2MASS']-spdwarf['H_2MASS'], spdwarf.SPEX_TYPE, fmt='D', \n",
    "            xerr=(spdwarf.J_2MASS_E**2+spdwarf.H_2MASS_E**2)**0.5, color='#0074D9', mfc='white', label='Spex Templates')\n",
    "\n",
    "ax.errorbar(spsubdwarf['J_2MASS']-spsubdwarf['H_2MASS'],spsubdwarf.SPEX_TYPE, fmt='D', \n",
    "            xerr=(spsubdwarf.J_2MASS_E**2+spsubdwarf.H_2MASS_E**2)**0.5, color='#2ECC40', mfc='white', label='Spex Subdwarfs')\n",
    "\n",
    "\n",
    "ax.errorbar(zhng_clrs['J']-zhng_clrs['H'],zhng_clrs.SpTn, fmt='*', \n",
    "            xerr=(zhng_clrs.J_er**2+zhng_clrs.H_er**2)**0.5, color='#FF4136', label='Prim. Subdwarfs')\n",
    "\n",
    "\n",
    "\n",
    "ax.errorbar(fdf['J']-fdf['H'], fdf['spt'], fmt='o', xerr=(fdf['J_er']**2+fdf['H_er']**2)**0.5, \n",
    "            yerr=fdf['spt_unc'], color='#111111', label='Sample UCDs')\n",
    "\n",
    "ax.invert_yaxis()\n",
    "\n",
    "ax.minorticks_on()\n",
    "ax.set_ylabel('Spectral Type', fontsize=18)\n",
    "ax.set_xlabel('J-H', fontsize=18)\n",
    "\n",
    "ax.legend(loc='upper left', fontsize=15)\n",
    "\n",
    "plt.tight_layout()\n",
    "#plt.grid()\n",
    "\n",
    "plt.savefig(wisps.OUTPUT_FIGURES+'/color_color_plots.pdf')\n"
   ]
  },
  {
   "cell_type": "code",
   "execution_count": null,
   "metadata": {},
   "outputs": [],
   "source": []
  }
 ],
 "metadata": {
  "kernelspec": {
   "display_name": "Python 3",
   "language": "python",
   "name": "python3"
  },
  "language_info": {
   "codemirror_mode": {
    "name": "ipython",
    "version": 3
   },
   "file_extension": ".py",
   "mimetype": "text/x-python",
   "name": "python",
   "nbconvert_exporter": "python",
   "pygments_lexer": "ipython3",
   "version": "3.7.6"
  }
 },
 "nbformat": 4,
 "nbformat_minor": 4
}
