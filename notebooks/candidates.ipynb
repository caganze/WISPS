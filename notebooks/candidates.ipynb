{
 "cells": [
  {
   "cell_type": "code",
   "execution_count": 1,
   "metadata": {},
   "outputs": [],
   "source": [
    "import splat\n",
    "import wisps\n",
    "import matplotlib.pyplot as plt\n",
    "import numpy as np\n",
    "import pandas as pd\n",
    "import matplotlib as mpl\n",
    "from astropy.visualization import ZScaleInterval\n",
    "import matplotlib\n",
    "\n",
    "%matplotlib inline"
   ]
  },
  {
   "cell_type": "code",
   "execution_count": 2,
   "metadata": {},
   "outputs": [],
   "source": [
    "#wisps.POLYNOMIAL_RELATIONS"
   ]
  },
  {
   "cell_type": "code",
   "execution_count": 3,
   "metadata": {},
   "outputs": [],
   "source": [
    "df_ids=pd.read_pickle(wisps.LIBRARIES+'/candidates.pkl')"
   ]
  },
  {
   "cell_type": "code",
   "execution_count": 4,
   "metadata": {},
   "outputs": [],
   "source": [
    "df=pd.DataFrame()"
   ]
  },
  {
   "cell_type": "code",
   "execution_count": 5,
   "metadata": {},
   "outputs": [],
   "source": [
    "df['grism_id']=df_ids[0].values"
   ]
  },
  {
   "cell_type": "code",
   "execution_count": null,
   "metadata": {},
   "outputs": [],
   "source": [
    "%%capture\n",
    "df['spectra']=df.grism_id.apply(lambda x: wisps.Source(name=x.replace('g141', 'G141')))"
   ]
  },
  {
   "cell_type": "code",
   "execution_count": null,
   "metadata": {},
   "outputs": [],
   "source": [
    "df.to_hdf(wisps.OUTPUT_FILES+'/true_spectra_cands.hdf', key='spectra_only')"
   ]
  },
  {
   "cell_type": "code",
   "execution_count": null,
   "metadata": {},
   "outputs": [],
   "source": [
    "df=pd.read_hdf(wisps.OUTPUT_FILES+'/true_spectra_cands.hdf', key='spectra_only')"
   ]
  },
  {
   "cell_type": "code",
   "execution_count": null,
   "metadata": {},
   "outputs": [],
   "source": [
    "#remove extra problematic spectra\n",
    "problems=['cosmos-02-g141_04153', 'cosmos-05-g141_07469']"
   ]
  },
  {
   "cell_type": "code",
   "execution_count": null,
   "metadata": {},
   "outputs": [],
   "source": [
    "df=(df[ ~df.grism_id.str.lower().isin(problems)]).reset_index(drop=True)"
   ]
  },
  {
   "cell_type": "code",
   "execution_count": null,
   "metadata": {},
   "outputs": [],
   "source": [
    "df['spt']=df['spectra'].apply(lambda x: x.spt)"
   ]
  },
  {
   "cell_type": "code",
   "execution_count": null,
   "metadata": {},
   "outputs": [],
   "source": [
    "df=df.sort_values(by='spt').reset_index(drop=True)"
   ]
  },
  {
   "cell_type": "code",
   "execution_count": null,
   "metadata": {},
   "outputs": [],
   "source": [
    "def plot_image(sp, ax, cmap='inferno'):\n",
    "     # mapping between filters and images\n",
    "    image_data_dict={'F140W' : sp.photo_image.f140,\n",
    "                'F160W': sp.photo_image.f160,\n",
    "                'F110W': sp.photo_image.f110}\n",
    "    try:\n",
    "        image_key_to_use=[ k for k in image_data_dict.keys() if image_data_dict[k]['grid'] is not None  ][0]\n",
    "    except:\n",
    "        image_key_to_use='F140W'\n",
    "\n",
    "    \n",
    "    mag_in_filter=np.round(sp.mags[image_key_to_use][0])\n",
    "    image_data=image_data_dict[image_key_to_use]\n",
    "    \n",
    "    image=image_data['data']\n",
    "    \n",
    "    mask=image<3.*np.nanstd(image)\n",
    "    vmin, vmax=ZScaleInterval().get_limits( image[mask])\n",
    "    #norm=matplotlib.colors.Normalize(vmin=vmin, vmax=vmax, clip=False)\n",
    "    norm=LogNorm()\n",
    "    \n",
    "    ax.pcolormesh(image_data['grid'][0], image_data['grid'][1], \n",
    "                   image_data['data'], cmap=cmap,\n",
    "                   vmin=vmin, vmax=vmax, rasterized=True, alpha=1.0)\n",
    "    \n",
    "    ax.plot(image_data['center'][0], \n",
    "             image_data['center'][1], marker='+',c='#111111', ms=30)"
   ]
  },
  {
   "cell_type": "code",
   "execution_count": null,
   "metadata": {},
   "outputs": [],
   "source": [
    "from matplotlib import gridspec\n",
    "from matplotlib.colors import LogNorm"
   ]
  },
  {
   "cell_type": "code",
   "execution_count": null,
   "metadata": {},
   "outputs": [],
   "source": [
    "df['distance']=df.spectra.apply(lambda x: x.distance['val'].value)"
   ]
  },
  {
   "cell_type": "code",
   "execution_count": null,
   "metadata": {},
   "outputs": [],
   "source": [
    "df['RA']=df.spectra.apply(lambda x: x.coords.ra.value)\n",
    "df['DEC']=df.spectra.apply(lambda x: x.coords.dec.value)"
   ]
  },
  {
   "cell_type": "code",
   "execution_count": null,
   "metadata": {},
   "outputs": [],
   "source": [
    "df['snr1']=df.spectra.apply(lambda x: x.snr['snr1'])"
   ]
  },
  {
   "cell_type": "code",
   "execution_count": null,
   "metadata": {},
   "outputs": [],
   "source": [
    "fdf=df[df.spt.apply(wisps.make_spt_number) >=17.]"
   ]
  },
  {
   "cell_type": "code",
   "execution_count": null,
   "metadata": {},
   "outputs": [],
   "source": [
    "#distance distributions\n",
    "from astropy.coordinates import SkyCoord\n",
    "import astropy.coordinates as coord\n",
    "import astropy.units as u\n",
    "coords=SkyCoord(ra=fdf.RA.values*u.deg, dec=fdf.DEC.values*u.deg, distance=fdf.distance.values*u.pc)#.transform_to(coord.Galactocentric) "
   ]
  },
  {
   "cell_type": "code",
   "execution_count": null,
   "metadata": {},
   "outputs": [],
   "source": [
    "x, y, z=coords.cartesian.xyz"
   ]
  },
  {
   "cell_type": "code",
   "execution_count": null,
   "metadata": {},
   "outputs": [],
   "source": [
    "r=np.sqrt(x**2+y**2)"
   ]
  },
  {
   "cell_type": "code",
   "execution_count": null,
   "metadata": {},
   "outputs": [],
   "source": [
    "fig, ax=plt.subplots(figsize=(6, 4))\n",
    "sc=plt.scatter(r, z, c=fdf.spt.apply(splat.typeToNum), cmap='viridis', s=50)\n",
    "br=plt.colorbar(sc)\n",
    "plt.ylabel('z (pc)', fontsize=18)\n",
    "plt.xlabel('r (pc)', fontsize=18)\n",
    "plt.grid()\n",
    "plt.minorticks_on()\n",
    "\n",
    "ax.set_xlim([0, 4000])\n",
    "ax.set_ylim([-3000, 5000])\n",
    "\n",
    "\n",
    "#ax.tick_params(which='major',direction='inout')\n",
    "#ax.tick_params(which='minor', direction='in')\n",
    "\n",
    "br.set_ticks([20, 25, 30, 35, 40])\n",
    "br.set_ticklabels(['L0', 'L5', 'T0', 'T5', 'Y0'])\n",
    "plt.tight_layout()\n",
    "plt.savefig(wisps.OUTPUT_FIGURES+'/candidate_distances.pdf')"
   ]
  },
  {
   "cell_type": "code",
   "execution_count": null,
   "metadata": {},
   "outputs": [],
   "source": [
    "mags=wisps.Annotator.reformat_table(pd.DataFrame.from_records(fdf.spectra.apply(lambda x: x.mags).values))"
   ]
  },
  {
   "cell_type": "code",
   "execution_count": null,
   "metadata": {},
   "outputs": [],
   "source": [
    "import seaborn as sns\n",
    "fig, ax=plt.subplots(figsize=(12, 8), ncols=3, nrows=2, sharex='col')\n",
    "ax[1][0].errorbar(mags.F160W.values,  fdf.snr1.apply(np.log10).values,fmt='o', color='#2ECC40' )\n",
    "ax[1][1].errorbar(mags.F140W,   fdf.snr1.apply(np.log10),fmt='o', color='#0074D9')\n",
    "ax[1][2].errorbar(mags.F110W,   fdf.snr1.apply(np.log10),fmt='o', color='#FF851B')\n",
    "\n",
    "\n",
    "ax[0][0].hist(mags.F160W.values,  color='#2ECC40', bins='auto' )\n",
    "ax[0][1].hist(mags.F140W,   color='#0074D9', bins='auto')\n",
    "ax[0][2].hist(mags.F110W, color='#FF851B' , bins='auto')\n",
    "\n",
    "\n",
    "for a in np.concatenate(ax):\n",
    "    a.minorticks_on()\n",
    "    \n",
    "    \n",
    "ax[1][0].set_xlabel('F160W', fontsize=18)\n",
    "ax[1][1].set_xlabel('F140W', fontsize=18)\n",
    "ax[1][2].set_xlabel('F110W', fontsize=18)\n",
    "\n",
    "ax[1][0].set_ylabel('Log J-SNR', fontsize=18)\n",
    "ax[1][1].set_ylabel('Log J-SNR', fontsize=18)\n",
    "ax[1][2].set_ylabel('Log J-SNR', fontsize=18)\n",
    "\n",
    "ax[1][2].set_xlim([18, 25])\n",
    "plt.tight_layout()\n",
    "\n",
    "\n",
    "plt.savefig(wisps.OUTPUT_FIGURES+'/mag_distribution_candidates.pdf')"
   ]
  },
  {
   "cell_type": "code",
   "execution_count": null,
   "metadata": {},
   "outputs": [],
   "source": [
    "dhgjk=fdf.sort_values(by='distance')[['grism_id', 'distance', 'spt']]"
   ]
  },
  {
   "cell_type": "code",
   "execution_count": null,
   "metadata": {},
   "outputs": [],
   "source": [
    "latc_df=pd.DataFrame()"
   ]
  },
  {
   "cell_type": "code",
   "execution_count": null,
   "metadata": {},
   "outputs": [],
   "source": [
    "latc_df['Shortname']=fdf.spectra.apply(lambda x: x.shortname.upper())\n",
    "latc_df['grism id']=fdf.spectra.apply(lambda x: x.name.upper())\n",
    "latc_df['snrj']=fdf.spectra.apply(lambda x: int(round(x.snr['snr1'])))\n",
    "latc_df['spt']=fdf.spectra.apply(lambda x: x.spt.upper().replace('.0', ''))\n",
    "latc_df['ra']=fdf.spectra.apply(lambda x: x.ra.value)\n",
    "latc_df['dec']=fdf.spectra.apply(lambda x: x.dec.value)\n",
    "latc_df['f110']=fdf.spectra.apply(lambda x: round(x.mags['F110W'][0], 1))\n",
    "latc_df['f110_er']=fdf.spectra.apply(lambda x: round(x.mags['F110W'][1], 1))\n",
    "latc_df['f140']=fdf.spectra.apply(lambda x: round(x.mags['F140W'][0],1))\n",
    "latc_df['f140_er']=fdf.spectra.apply(lambda x: round(x.mags['F140W'][1], 1))\n",
    "latc_df['f160']=fdf.spectra.apply(lambda x: round(x.mags['F160W'][0], 1))\n",
    "latc_df['f160_er']=fdf.spectra.apply(lambda x: round(x.mags['F160W'][1], 1))\n",
    "latc_df['distance']=fdf.spectra.apply(lambda x: int(round(x.distance['val'].value)))\n",
    "latc_df['distance_er']=fdf.spectra.apply(lambda x: int(round(x.distance['er'].value)))\n",
    "\n"
   ]
  },
  {
   "cell_type": "code",
   "execution_count": null,
   "metadata": {},
   "outputs": [],
   "source": [
    "latc_df"
   ]
  },
  {
   "cell_type": "code",
   "execution_count": null,
   "metadata": {},
   "outputs": [],
   "source": [
    "%%capture \n",
    "fold='/Users/caganze/research/wisps/figures/ltwarfs/'\n",
    "\n",
    "ids=0\n",
    "for idx, row in fdf.iterrows():\n",
    "    s=row.spectra\n",
    "    filename=fold+'spectrum'+str(ids)+'.jpeg'\n",
    "    s.plot(save=True, filename=filename)\n",
    "    ids=ids+1"
   ]
  },
  {
   "cell_type": "code",
   "execution_count": null,
   "metadata": {},
   "outputs": [],
   "source": [
    "from astropy.coordinates import SkyCoord"
   ]
  },
  {
   "cell_type": "code",
   "execution_count": null,
   "metadata": {},
   "outputs": [],
   "source": [
    "indices_df=pd.DataFrame.from_records(df.spectra.apply(lambda x: x.indices).values)"
   ]
  },
  {
   "cell_type": "code",
   "execution_count": null,
   "metadata": {},
   "outputs": [],
   "source": [
    "for k in indices_df.columns: df[k]= indices_df[k]"
   ]
  },
  {
   "cell_type": "code",
   "execution_count": null,
   "metadata": {},
   "outputs": [],
   "source": [
    "df.to_hdf(wisps.OUTPUT_FILES+'/true_spectra_cands.hdf', key='with_indices')"
   ]
  },
  {
   "cell_type": "code",
   "execution_count": null,
   "metadata": {},
   "outputs": [],
   "source": [
    "import astropy.units as u"
   ]
  },
  {
   "cell_type": "code",
   "execution_count": null,
   "metadata": {},
   "outputs": [],
   "source": [
    "#latc_df.ra.values*u.deg"
   ]
  },
  {
   "cell_type": "code",
   "execution_count": null,
   "metadata": {},
   "outputs": [],
   "source": [
    "sk=SkyCoord(ra=latc_df.ra.values*u.deg, dec=latc_df.dec.values*u.deg, distance=latc_df.distance.values*u.pc)"
   ]
  },
  {
   "cell_type": "code",
   "execution_count": null,
   "metadata": {},
   "outputs": [],
   "source": [
    "norm = matplotlib.colors.Normalize(vmin=20., vmax=37.0)"
   ]
  },
  {
   "cell_type": "code",
   "execution_count": null,
   "metadata": {},
   "outputs": [],
   "source": [
    "from matplotlib import cm"
   ]
  },
  {
   "cell_type": "code",
   "execution_count": null,
   "metadata": {},
   "outputs": [],
   "source": [
    "#cm.viridis[latc_df.spt.apply(splat.typeToNum).values]"
   ]
  },
  {
   "cell_type": "code",
   "execution_count": null,
   "metadata": {},
   "outputs": [],
   "source": [
    "fig = plt.figure(figsize=(8, 8))\n",
    "ax = fig.add_subplot(111, projection='mollweide')\n",
    "c=ax.scatter(sk.galactic.l.wrap_at(180*u.deg).radian, sk.galactic.b.wrap_at(180*u.deg).radian,\n",
    "           c=latc_df.spt.apply(splat.typeToNum).values, cmap='viridis')\n",
    "plt.xlabel(\"l\", fontsize=18)\n",
    "plt.ylabel(\"b\", fontsize=18)\n",
    "plt.grid()\n",
    "br=plt.colorbar(c, orientation=\"horizontal\")\n",
    "br.set_ticks([20, 25, 30, 35, 40])\n",
    "br.set_ticklabels(['L0', 'L5', 'T0', 'T5', 'Y0'])\n",
    "plt.tight_layout()\n",
    "plt.savefig(wisps.OUTPUT_FIGURES+'/candidate_skymap.pdf')"
   ]
  },
  {
   "cell_type": "code",
   "execution_count": null,
   "metadata": {},
   "outputs": [],
   "source": [
    "latc_df.columns"
   ]
  },
  {
   "cell_type": "code",
   "execution_count": null,
   "metadata": {},
   "outputs": [],
   "source": [
    "import splat.empirical as spe"
   ]
  },
  {
   "cell_type": "code",
   "execution_count": null,
   "metadata": {},
   "outputs": [],
   "source": [
    "import numba"
   ]
  },
  {
   "cell_type": "code",
   "execution_count": null,
   "metadata": {},
   "outputs": [],
   "source": [
    "numba.types.containers.UniTuple(numba.types.float64, 2)"
   ]
  },
  {
   "cell_type": "code",
   "execution_count": null,
   "metadata": {},
   "outputs": [],
   "source": [
    "\n",
    "def compute_mag(M, d):\n",
    "    return M+np.log10(d)-5\n",
    "\n",
    "def get_mag(M, d, der):\n",
    "    ds=np.random.normal(d, der, 1000)\n",
    "    mags=compute_mag(M, ds)\n",
    "    mean=np.nanmean(mags)\n",
    "    std=np.nanstd(mags)\n",
    "    return mean, std\n",
    "\n",
    "def compute_apparent_2mass_mag(spt, dist, dist_er):\n",
    "    val=np.nanmean(spt)\n",
    "    MJ, err2=spe.typeToMag(val, '2MASS J', ref='dupuy')\n",
    "    MH, err2=spe.typeToMag(val, '2MASS H', ref='dupuy')\n",
    "    \n",
    "    mj, mj_er=get_mag(MJ, dist, dist_er)\n",
    "    mh, mh_er=get_mag(MH, dist, dist_er)\n",
    "\n",
    "    return [MJ, MH, mj, mj_er, mh, mh_er]"
   ]
  },
  {
   "cell_type": "code",
   "execution_count": null,
   "metadata": {},
   "outputs": [],
   "source": [
    "jhs=np.array([compute_apparent_2mass_mag(x, y, z) for x, y, z in zip(latc_df.spt.apply(wisps.make_spt_number).values, latc_df.distance.values, latc_df.distance_er.values)])"
   ]
  },
  {
   "cell_type": "code",
   "execution_count": null,
   "metadata": {},
   "outputs": [],
   "source": [
    "sl=splat.searchLibrary(vlm=True, spex_type=[20, 40])"
   ]
  },
  {
   "cell_type": "code",
   "execution_count": null,
   "metadata": {},
   "outputs": [],
   "source": [
    "sl['abs_j']=[compute_mag(M, d) for M, d in (sl[['J_2MASS', 'DISTANCE']]).applymap(float).values]\n",
    "sl['abs_h']=[compute_mag(M, d) for M, d in (sl[['H_2MASS', 'DISTANCE']]).applymap(float).values]\n",
    "sl['j-h']=(sl['J_2MASS']-sl['H_2MASS']).values"
   ]
  },
  {
   "cell_type": "code",
   "execution_count": null,
   "metadata": {},
   "outputs": [],
   "source": [
    "m=plt.errorbar(jhs[:,2]-jhs[:,4], jhs[:,0], xerr=((jhs[:,3])**2+(jhs[:,5])**2)**0.5,\n",
    "               fmt='o', mfc='w', mec='k')\n",
    "\n",
    "mp=plt.scatter(jhs[:,2]-jhs[:,4], jhs[:,0], c=latc_df.spt.apply(wisps.make_spt_number).values, \n",
    "            cmap='viridis', s=200)\n",
    "\n",
    "plt.xlabel('J-H', fontsize=18)\n",
    "plt.ylabel(r'$M_J$', fontsize=18)\n",
    "plt.colorbar(mp)\n",
    "\n",
    "plt.minorticks_on()\n",
    "\n",
    "plt.gca().invert_yaxis()\n",
    "plt.savefig(wisps.OUTPUT_FILES+'/abs_mag_2mass_distribution_candidates.pdf')"
   ]
  },
  {
   "cell_type": "code",
   "execution_count": null,
   "metadata": {},
   "outputs": [],
   "source": [
    "latc_df['2MASS j']=jhs[:,2]\n",
    "latc_df['2MASS j']=jhs[:,4]\n",
    "latc_df['2MASS h_ER']=jhs[:,5]\n",
    "latc_df['2MASS j_ER']=jhs[:,3]\n"
   ]
  },
  {
   "cell_type": "code",
   "execution_count": null,
   "metadata": {},
   "outputs": [],
   "source": [
    "latc_df.to_latex(wisps.LIBRARIES+'/candidates.tex',\n",
    "             header=True, index=False, na_rep=' ')"
   ]
  },
  {
   "cell_type": "code",
   "execution_count": null,
   "metadata": {},
   "outputs": [],
   "source": [
    "import splat\n",
    "import wisps"
   ]
  },
  {
   "cell_type": "code",
   "execution_count": null,
   "metadata": {},
   "outputs": [],
   "source": [
    "s=wisps.Source(name='cosmos-23-G141_10232')"
   ]
  },
  {
   "cell_type": "code",
   "execution_count": null,
   "metadata": {},
   "outputs": [],
   "source": [
    "import splat"
   ]
  },
  {
   "cell_type": "code",
   "execution_count": null,
   "metadata": {},
   "outputs": [],
   "source": [
    "splat.classifyByStandard(s.splat_spectrum, comprange=[[1.15, 1.4]])"
   ]
  },
  {
   "cell_type": "code",
   "execution_count": null,
   "metadata": {},
   "outputs": [],
   "source": [
    "s.classify_by_standard(comprange=[[1.2, 1.6]])"
   ]
  },
  {
   "cell_type": "code",
   "execution_count": null,
   "metadata": {},
   "outputs": [],
   "source": [
    "s.plot()"
   ]
  },
  {
   "cell_type": "code",
   "execution_count": null,
   "metadata": {},
   "outputs": [],
   "source": [
    " latc_df.f110.max(), latc_df.f140.max(), latc_df.f160.max()"
   ]
  },
  {
   "cell_type": "code",
   "execution_count": null,
   "metadata": {},
   "outputs": [],
   "source": []
  }
 ],
 "metadata": {
  "kernelspec": {
   "display_name": "Python 3",
   "language": "python",
   "name": "python3"
  },
  "language_info": {
   "codemirror_mode": {
    "name": "ipython",
    "version": 3
   },
   "file_extension": ".py",
   "mimetype": "text/x-python",
   "name": "python",
   "nbconvert_exporter": "python",
   "pygments_lexer": "ipython3",
   "version": "3.7.3"
  }
 },
 "nbformat": 4,
 "nbformat_minor": 4
}
