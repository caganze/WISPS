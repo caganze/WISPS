{
 "cells": [
  {
   "cell_type": "code",
   "execution_count": 1,
   "metadata": {},
   "outputs": [],
   "source": [
    "#add spex templates to selection function\n",
    "#select the highest SNR spectra of each spectral type i.e "
   ]
  },
  {
   "cell_type": "code",
   "execution_count": 2,
   "metadata": {},
   "outputs": [],
   "source": [
    "import splat\n",
    "import wisps\n",
    "import pandas as pd\n",
    "import numpy as np\n",
    "import matplotlib.pyplot as plt\n",
    "import copy\n",
    "import numba\n",
    "%matplotlib inline"
   ]
  },
  {
   "cell_type": "code",
   "execution_count": 3,
   "metadata": {},
   "outputs": [],
   "source": [
    "splat.initializeStandards()"
   ]
  },
  {
   "cell_type": "code",
   "execution_count": 4,
   "metadata": {},
   "outputs": [],
   "source": [
    "spts=np.array([splat.typeToNum(x) for x in np.arange(16, 42)])"
   ]
  },
  {
   "cell_type": "code",
   "execution_count": 5,
   "metadata": {},
   "outputs": [
    {
     "data": {
      "text/plain": [
       "array(['M6.0', 'M7.0', 'M8.0', 'M9.0', 'L0.0', 'L1.0', 'L2.0', 'L3.0',\n",
       "       'L4.0', 'L5.0', 'L6.0', 'L7.0', 'L8.0', 'L9.0', 'T0.0', 'T1.0',\n",
       "       'T2.0', 'T3.0', 'T4.0', 'T5.0', 'T6.0', 'T7.0', 'T8.0', 'T9.0',\n",
       "       'Y0.0', 'Y1.0'], dtype='<U4')"
      ]
     },
     "execution_count": 5,
     "metadata": {},
     "output_type": "execute_result"
    }
   ],
   "source": [
    "spts"
   ]
  },
  {
   "cell_type": "code",
   "execution_count": 6,
   "metadata": {},
   "outputs": [],
   "source": [
    "splat_db=splat.searchLibrary(vlm=True, giant=False, young=False)"
   ]
  },
  {
   "cell_type": "code",
   "execution_count": 7,
   "metadata": {},
   "outputs": [],
   "source": [
    "df=splat_db[splat_db.SPEX_TYPE.isin(spts)]"
   ]
  },
  {
   "cell_type": "code",
   "execution_count": 8,
   "metadata": {},
   "outputs": [],
   "source": [
    "splat_within_snr=df[df.MEDIAN_SNR.between(5, 200)]"
   ]
  },
  {
   "cell_type": "code",
   "execution_count": 9,
   "metadata": {},
   "outputs": [
    {
     "data": {
      "text/plain": [
       "<matplotlib.axes._subplots.AxesSubplot at 0x1c654e6cf8>"
      ]
     },
     "execution_count": 9,
     "metadata": {},
     "output_type": "execute_result"
    },
    {
     "data": {
      "image/png": "[encoded data removed]",
      "text/plain": [
       "<Figure size 432x288 with 1 Axes>"
      ]
     },
     "metadata": {
      "needs_background": "light"
     },
     "output_type": "display_data"
    }
   ],
   "source": [
    "splat_within_snr.SPEX_TYPE.apply(splat.typeToNum).plot(kind='hist', bins=10)"
   ]
  },
  {
   "cell_type": "code",
   "execution_count": 10,
   "metadata": {},
   "outputs": [
    {
     "name": "stdout",
     "output_type": "stream",
     "text": [
      "Could not import regions, which is required for some of the functionalities of this module.\n"
     ]
    }
   ],
   "source": [
    "import splat.database as splatdb"
   ]
  },
  {
   "cell_type": "code",
   "execution_count": 11,
   "metadata": {},
   "outputs": [],
   "source": [
    "#binary vetting\n",
    "folder='/users/caganze/research/wisps/data/'\n",
    "bindf=pd.read_csv(folder+'/binaries.txt', names=['name', ' '], sep=',')"
   ]
  },
  {
   "cell_type": "markdown",
   "metadata": {},
   "source": [
    "## Group by spt and pick the Top 30"
   ]
  },
  {
   "cell_type": "code",
   "execution_count": 12,
   "metadata": {},
   "outputs": [],
   "source": [
    "groups=splat_within_snr.sort_values('MEDIAN_SNR',ascending=False).groupby('SPEX_TYPE')"
   ]
  },
  {
   "cell_type": "code",
   "execution_count": 13,
   "metadata": {},
   "outputs": [],
   "source": [
    "picks=[]\n",
    "for g in groups:\n",
    "    picks.append(g[1].nlargest(20,'MEDIAN_SNR'  ))"
   ]
  },
  {
   "cell_type": "code",
   "execution_count": 14,
   "metadata": {},
   "outputs": [],
   "source": [
    "df_picks=pd.concat(picks)"
   ]
  },
  {
   "cell_type": "code",
   "execution_count": 15,
   "metadata": {},
   "outputs": [
    {
     "data": {
      "text/plain": [
       "Text(0.5, 0, 'SNR')"
      ]
     },
     "execution_count": 15,
     "metadata": {},
     "output_type": "execute_result"
    },
    {
     "data": {
      "image/png": "[encoded data removed]",
      "text/plain": [
       "<Figure size 432x288 with 1 Axes>"
      ]
     },
     "metadata": {
      "needs_background": "light"
     },
     "output_type": "display_data"
    }
   ],
   "source": [
    "df_picks['MEDIAN_SNR' ].plot(kind='hist')\n",
    "plt.xlabel('SNR')"
   ]
  },
  {
   "cell_type": "code",
   "execution_count": 16,
   "metadata": {},
   "outputs": [],
   "source": [
    "import splat"
   ]
  },
  {
   "cell_type": "code",
   "execution_count": 17,
   "metadata": {},
   "outputs": [
    {
     "data": {
      "text/plain": [
       "<matplotlib.collections.PathCollection at 0x1c785b7908>"
      ]
     },
     "execution_count": 17,
     "metadata": {},
     "output_type": "execute_result"
    },
    {
     "data": {
      "image/png": "[encoded data removed]",
      "text/plain": [
       "<Figure size 432x288 with 1 Axes>"
      ]
     },
     "metadata": {
      "needs_background": "light"
     },
     "output_type": "display_data"
    }
   ],
   "source": [
    "plt.scatter(df_picks.MEDIAN_SNR, df_picks.SPEX_TYPE.apply(splat.typeToNum))"
   ]
  },
  {
   "cell_type": "code",
   "execution_count": 18,
   "metadata": {},
   "outputs": [],
   "source": [
    "\n",
    "def create_splat_source(filename):\n",
    "    try:\n",
    "        #create a wisps spectrum\n",
    "        #retrieve splat spectrum\n",
    "\n",
    "        splat_s=splat.getSpectrum(filename=filename)[0]\n",
    "        spt=splat.typeToNum(splat_s.spex_type)\n",
    "\n",
    "        #create a source object\n",
    "        s=wisps.Spectrum( \n",
    "                       wave=splat_s.wave.value, \n",
    "                       flux=splat_s.flux.value,\n",
    "                      noise=splat_s.noise.value)\n",
    "        \n",
    "        s._splat_spectrum=splat_s\n",
    "\n",
    "        s.normalize()\n",
    "        return s\n",
    "    except OSError:\n",
    "        return "
   ]
  },
  {
   "cell_type": "code",
   "execution_count": 19,
   "metadata": {},
   "outputs": [],
   "source": [
    "import wisps"
   ]
  },
  {
   "cell_type": "code",
   "execution_count": 20,
   "metadata": {},
   "outputs": [],
   "source": [
    "df_picks['spt']=df_picks.SPEX_TYPE.apply(wisps.make_spt_number)"
   ]
  },
  {
   "cell_type": "code",
   "execution_count": 21,
   "metadata": {},
   "outputs": [],
   "source": [
    "df_picks=df_picks.sort_values(by='spt')"
   ]
  },
  {
   "cell_type": "code",
   "execution_count": 22,
   "metadata": {},
   "outputs": [],
   "source": [
    "#df_picks"
   ]
  },
  {
   "cell_type": "code",
   "execution_count": 23,
   "metadata": {},
   "outputs": [],
   "source": [
    "%%capture\n",
    "spectra=df_picks.DATA_FILE.apply(create_splat_source)"
   ]
  },
  {
   "cell_type": "code",
   "execution_count": 24,
   "metadata": {},
   "outputs": [],
   "source": [
    "splat.initializeStandards()"
   ]
  },
  {
   "cell_type": "code",
   "execution_count": 25,
   "metadata": {},
   "outputs": [
    {
     "data": {
      "text/plain": [
       "SPEX-PRISM spectrum of 2MASP J0345432+254023 (L0.0)"
      ]
     },
     "execution_count": 25,
     "metadata": {},
     "output_type": "execute_result"
    }
   ],
   "source": [
    "splat.STDS_DWARF_SPEX['L0.0']"
   ]
  },
  {
   "cell_type": "code",
   "execution_count": 26,
   "metadata": {},
   "outputs": [
    {
     "data": {
      "text/plain": [
       "34.0"
      ]
     },
     "execution_count": 26,
     "metadata": {},
     "output_type": "execute_result"
    }
   ],
   "source": [
    "spectra[0].spectral_type"
   ]
  },
  {
   "cell_type": "code",
   "execution_count": 27,
   "metadata": {},
   "outputs": [],
   "source": [
    "def plot_sp_sp(s, a, shortname):\n",
    "    std=splat.STDS_DWARF_SPEX[splat.typeToNum(s.spectral_type)]\n",
    "    std.normalize(waverange=[1.1, 1.7])\n",
    "    mask2=np.logical_and(std.wave.value>0.8, std.wave.value<2.5)\n",
    "    \n",
    "    mask=np.logical_and(s.wave>0.8, s.wave<2.5)\n",
    "    a.plot(s.wave[mask], s.flux[mask], label=shortname)\n",
    "    a.plot(std.wave.value[mask2], std.flux.value[mask2], linestyle='--', label='std')\n",
    "    \n",
    "    \n",
    "    a.set_title(\"{} \".format(s.spectral_type ))\n",
    "    a.legend()\n"
   ]
  },
  {
   "cell_type": "code",
   "execution_count": 28,
   "metadata": {},
   "outputs": [
    {
     "data": {
      "text/plain": [
       "anon spectrum"
      ]
     },
     "execution_count": 28,
     "metadata": {},
     "output_type": "execute_result"
    }
   ],
   "source": [
    "(spectra.iloc[0])"
   ]
  },
  {
   "cell_type": "code",
   "execution_count": 29,
   "metadata": {},
   "outputs": [],
   "source": [
    "#for idx, s in enumerate(spectra.dropna().values):\n",
    "#    s.normalize()\n",
    "#    fig, ax=plt.subplots()\n",
    "#    plot_sp_sp(s, ax, idx)\n",
    "    \n",
    "    \n",
    "   "
   ]
  },
  {
   "cell_type": "code",
   "execution_count": 30,
   "metadata": {},
   "outputs": [],
   "source": [
    "def make_wisps(splat_s):\n",
    "    s=wisps.Spectrum(wave=splat_s.wave.value, \n",
    "                       flux=splat_s.flux.value,\n",
    "                      noise=splat_s.noise.value)\n",
    "    return s"
   ]
  },
  {
   "cell_type": "code",
   "execution_count": null,
   "metadata": {},
   "outputs": [],
   "source": []
  },
  {
   "cell_type": "code",
   "execution_count": 31,
   "metadata": {},
   "outputs": [],
   "source": [
    "ydwarfs_stds=pd.read_pickle('/users/caganze/y_standards.pkl')\n",
    "ydwarfs_data=pd.read_pickle(wisps.LIBRARIES+'/schneider.pkl').spectra.values"
   ]
  },
  {
   "cell_type": "code",
   "execution_count": 32,
   "metadata": {},
   "outputs": [
    {
     "name": "stdout",
     "output_type": "stream",
     "text": [
      "\n",
      "Retrieving 2 files\n",
      "\n",
      "\n",
      "Retrieving 14 files\n",
      "\n",
      "\n",
      "Retrieving 78 files\n",
      "\n"
     ]
    }
   ],
   "source": [
    "t9s=[make_wisps(x) for x in splat.getSpectrum(spt='T9.0')]\n",
    "t8s=[make_wisps(x) for x in splat.getSpectrum(spt='T8.0')]\n",
    "y0=[make_wisps(x ) for x in ydwarfs_stds.spec]\n",
    "y1=[make_wisps(x) for x in ydwarfs_stds.spec]\n",
    "l3s=[make_wisps(x) for x in splat.getSpectrum(spt='L3.0', binary=False, vlm=True, young=False)]"
   ]
  },
  {
   "cell_type": "code",
   "execution_count": 33,
   "metadata": {},
   "outputs": [
    {
     "data": {
      "text/plain": [
       "[anon spectrum,\n",
       " anon spectrum,\n",
       " anon spectrum,\n",
       " anon spectrum,\n",
       " anon spectrum,\n",
       " anon spectrum,\n",
       " anon spectrum,\n",
       " anon spectrum,\n",
       " anon spectrum,\n",
       " anon spectrum]"
      ]
     },
     "execution_count": 33,
     "metadata": {},
     "output_type": "execute_result"
    }
   ],
   "source": [
    "l3s[:10]"
   ]
  },
  {
   "cell_type": "code",
   "execution_count": 34,
   "metadata": {},
   "outputs": [],
   "source": [
    "extras=[x for x in np.concatenate([t9s, t8s, y0, y1, l3s[:10]])]"
   ]
  },
  {
   "cell_type": "code",
   "execution_count": 35,
   "metadata": {},
   "outputs": [],
   "source": [
    "retain=np.append(spectra.dropna().values, extras)\n",
    "retain=np.append(retain, ydwarfs_data)"
   ]
  },
  {
   "cell_type": "code",
   "execution_count": 36,
   "metadata": {},
   "outputs": [],
   "source": [
    "import pandas as pd\n",
    "import wisps "
   ]
  },
  {
   "cell_type": "code",
   "execution_count": 37,
   "metadata": {},
   "outputs": [],
   "source": [
    "dfsp=pd.DataFrame()\n",
    "dfsp['spectra']=retain\n",
    "dfsp['spt']= [x.spectral_type for x in retain]"
   ]
  },
  {
   "cell_type": "code",
   "execution_count": 38,
   "metadata": {},
   "outputs": [],
   "source": [
    "import pickle\n",
    "with open(wisps.OUTPUT_FILES+'/l_t_dwarfs_spex.pkl', 'wb') as file:\n",
    "    pickle.dump(retain,file)"
   ]
  },
  {
   "cell_type": "code",
   "execution_count": 39,
   "metadata": {},
   "outputs": [],
   "source": [
    "rdpck=pd.read_pickle(wisps.OUTPUT_FILES+'/l_t_dwarfs_spex.pkl')"
   ]
  },
  {
   "cell_type": "code",
   "execution_count": 40,
   "metadata": {},
   "outputs": [],
   "source": [
    "bindf['shortname']=bindf.name.apply(str).apply(splat.designationToShortName)"
   ]
  },
  {
   "cell_type": "code",
   "execution_count": 41,
   "metadata": {},
   "outputs": [],
   "source": [
    "splat_within_snr['shortname']=splat_within_snr.DESIGNATION.apply(splat.designationToShortName)"
   ]
  },
  {
   "cell_type": "code",
   "execution_count": 42,
   "metadata": {},
   "outputs": [],
   "source": [
    "bsample=splat_within_snr[ ~ (splat_within_snr.shortname.isin(bindf.shortname) |\n",
    "                             np.isnan(splat_db['PARALLAX']) | (splat_within_snr['SBINARY'] =='Y'))]"
   ]
  },
  {
   "cell_type": "code",
   "execution_count": 43,
   "metadata": {},
   "outputs": [],
   "source": [
    "bsample=bsample.reset_index(drop=True)"
   ]
  },
  {
   "cell_type": "code",
   "execution_count": 44,
   "metadata": {},
   "outputs": [],
   "source": [
    "%%capture\n",
    "bsample_spectra=bsample.DATA_FILE.apply(create_splat_source)"
   ]
  },
  {
   "cell_type": "code",
   "execution_count": 45,
   "metadata": {},
   "outputs": [],
   "source": [
    "bsample['spectra']=bsample_spectra"
   ]
  },
  {
   "cell_type": "code",
   "execution_count": 46,
   "metadata": {},
   "outputs": [],
   "source": [
    "from matplotlib.backends.backend_pdf import PdfPages"
   ]
  },
  {
   "cell_type": "code",
   "execution_count": 47,
   "metadata": {},
   "outputs": [],
   "source": [
    "bsample=bsample.drop_duplicates(subset='shortname').reset_index(drop=True)"
   ]
  },
  {
   "cell_type": "code",
   "execution_count": 48,
   "metadata": {},
   "outputs": [],
   "source": [
    "dfextr=pd.DataFrame()\n",
    "#dfextr['NAME']=['J045853.90+643451.9', 'WISE1738+2732', 'WISE1738+2732']\n",
    "dfextr['SPEX_TYPE']=[x.spectral_type for x in extras]\n",
    "#dfextr['shortname']=['J045853.90+643451.9', 'WISE1738+2732', 'WISE1738+2732']\n",
    "dfextr['spectra']=extras\n"
   ]
  },
  {
   "cell_type": "code",
   "execution_count": 49,
   "metadata": {},
   "outputs": [],
   "source": [
    "#add T9 and y dwarfs\n",
    "#dfextr\n",
    "bspl=bsample.append(dfextr, ignore_index=True, verify_integrity=True, sort=True)"
   ]
  },
  {
   "cell_type": "code",
   "execution_count": 50,
   "metadata": {},
   "outputs": [],
   "source": [
    "%%capture\n",
    "with PdfPages(wisps.OUTPUT_FIGURES+'/multipage_binaries.pdf') as pdf:\n",
    "    \n",
    "    for g in np.array_split(bspl, int(len(bspl)/4)):\n",
    "        fig, ax=plt.subplots(ncols=2, nrows=2)\n",
    "        \n",
    "        plot_sp_sp(g.spectra.iloc[0], ax[0][0], g.shortname.iloc[0])\n",
    "        plot_sp_sp(g.spectra.iloc[1], ax[0][1],  g.shortname.iloc[1])\n",
    "        plot_sp_sp(g.spectra.iloc[2], ax[1][0],  g.shortname.iloc[2])\n",
    "        plot_sp_sp(g.spectra.iloc[3], ax[1][1],  g.shortname.iloc[3])\n",
    "\n",
    "        pdf.savefig() \n",
    "        plt.close()"
   ]
  },
  {
   "cell_type": "code",
   "execution_count": 51,
   "metadata": {},
   "outputs": [],
   "source": [
    "bspl.reset_index(drop=True).to_pickle(wisps.OUTPUT_FILES+'/binary_spex.pkl')"
   ]
  },
  {
   "cell_type": "code",
   "execution_count": 52,
   "metadata": {},
   "outputs": [],
   "source": [
    "(bspl[['SOURCE_KEY', 'NAME', 'DESIGNATION', 'RA', 'DEC', 'DISCOVERY_REFERENCE',\n",
    "       'OPT_TYPE', 'NIR_TYPE', 'LIT_TYPE',\n",
    "       'J_2MASS',\n",
    "       'H_2MASS_E', 'GRAVITY_CLASS_NIR','BINARY', 'SBINARY','SIMBAD_NAME', 'SIMBAD_SPT',\n",
    "       'SIMBAD_SPT_REF', 'PARALLAX', 'PARALLAX_E', 'DISTANCE',\n",
    "       'SPEX_GRAVITY_CLASSIFICATION', \n",
    "       'shortname']]).to_excel(wisps.OUTPUT_FILES+\"/nonbinaries.xlsx\")  "
   ]
  },
  {
   "cell_type": "code",
   "execution_count": 53,
   "metadata": {},
   "outputs": [
    {
     "data": {
      "text/plain": [
       "wisps.data_analysis.spectrum_tools.Spectrum"
      ]
     },
     "execution_count": 53,
     "metadata": {},
     "output_type": "execute_result"
    }
   ],
   "source": [
    "type(bsample.spectra.iloc[0])"
   ]
  },
  {
   "cell_type": "code",
   "execution_count": null,
   "metadata": {},
   "outputs": [],
   "source": []
  }
 ],
 "metadata": {
  "kernelspec": {
   "display_name": "Python 3",
   "language": "python",
   "name": "python3"
  },
  "language_info": {
   "codemirror_mode": {
    "name": "ipython",
    "version": 3
   },
   "file_extension": ".py",
   "mimetype": "text/x-python",
   "name": "python",
   "nbconvert_exporter": "python",
   "pygments_lexer": "ipython3",
   "version": "3.7.6"
  }
 },
 "nbformat": 4,
 "nbformat_minor": 4
}
