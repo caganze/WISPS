{
 "cells": [
  {
   "cell_type": "code",
   "execution_count": 1,
   "metadata": {},
   "outputs": [],
   "source": [
    "#add spex templates to selection function\n",
    "#select the highest SNR spectra of each spectral type i.e "
   ]
  },
  {
   "cell_type": "code",
   "execution_count": 2,
   "metadata": {},
   "outputs": [],
   "source": [
    "import splat\n",
    "import wisps\n",
    "import pandas as pd\n",
    "import numpy as np\n",
    "import matplotlib.pyplot as plt\n",
    "import copy\n",
    "import numba\n",
    "%matplotlib inline"
   ]
  },
  {
   "cell_type": "code",
   "execution_count": 3,
   "metadata": {},
   "outputs": [],
   "source": [
    "splat.initializeStandards()"
   ]
  },
  {
   "cell_type": "code",
   "execution_count": 4,
   "metadata": {},
   "outputs": [],
   "source": [
    "spectra=pd.read_pickle(wisps.OUTPUT_FILES+'/l_t_dwarfs.pkl')\n",
    "spts=np.array([splat.typeToNum(x) for x in np.linspace(20, 40, 21)])"
   ]
  },
  {
   "cell_type": "code",
   "execution_count": 5,
   "metadata": {},
   "outputs": [
    {
     "data": {
      "text/plain": [
       "array(['L0.0', 'L1.0', 'L2.0', 'L3.0', 'L4.0', 'L5.0', 'L6.0', 'L7.0',\n",
       "       'L8.0', 'L9.0', 'T0.0', 'T1.0', 'T2.0', 'T3.0', 'T4.0', 'T5.0',\n",
       "       'T6.0', 'T7.0', 'T8.0', 'T9.0', 'Y0.0'], dtype='<U4')"
      ]
     },
     "execution_count": 5,
     "metadata": {},
     "output_type": "execute_result"
    }
   ],
   "source": [
    "spts"
   ]
  },
  {
   "cell_type": "code",
   "execution_count": 6,
   "metadata": {},
   "outputs": [],
   "source": [
    "splat_db=splat.searchLibrary(vlm=True, giant=False)"
   ]
  },
  {
   "cell_type": "code",
   "execution_count": 7,
   "metadata": {},
   "outputs": [],
   "source": [
    "df=splat_db[splat_db.SPEX_TYPE.isin(spts)]"
   ]
  },
  {
   "cell_type": "code",
   "execution_count": 8,
   "metadata": {},
   "outputs": [],
   "source": [
    "#"
   ]
  },
  {
   "cell_type": "code",
   "execution_count": 9,
   "metadata": {},
   "outputs": [
    {
     "data": {
      "text/plain": [
       "<matplotlib.axes._subplots.AxesSubplot at 0x1c39a73b70>"
      ]
     },
     "execution_count": 9,
     "metadata": {},
     "output_type": "execute_result"
    },
    {
     "data": {
      "image/png": "[encoded data removed]",
      "text/plain": [
       "<Figure size 480x240 with 1 Axes>"
      ]
     },
     "metadata": {},
     "output_type": "display_data"
    }
   ],
   "source": [
    "#nned to add T4s\n",
    "df.SPEX_TYPE.apply(splat.typeToNum).plot(kind='hist', bins=10)"
   ]
  },
  {
   "cell_type": "code",
   "execution_count": 10,
   "metadata": {},
   "outputs": [],
   "source": [
    "g=df.sort_values('MEDIAN_SNR',ascending=False).groupby('SPEX_TYPE')"
   ]
  },
  {
   "cell_type": "code",
   "execution_count": 11,
   "metadata": {},
   "outputs": [],
   "source": [
    "#g[['SPEX_TYPE', 'MEDIAN_SNR']].SPEX_TYPE.apply(splat.typeToNum).plot(kind='hist')"
   ]
  },
  {
   "cell_type": "code",
   "execution_count": 13,
   "metadata": {},
   "outputs": [],
   "source": [
    "#g1=g[~g.SPEX_TYPE.apply(splat.typeToNum).apply(lambda x: np.isnan(x))]"
   ]
  },
  {
   "cell_type": "code",
   "execution_count": 15,
   "metadata": {},
   "outputs": [],
   "source": [
    "files=g"
   ]
  },
  {
   "cell_type": "code",
   "execution_count": null,
   "metadata": {},
   "outputs": [],
   "source": [
    "#files=files[files.SPEX_TYPE.isin(miss_spts)]"
   ]
  },
  {
   "cell_type": "code",
   "execution_count": 16,
   "metadata": {},
   "outputs": [],
   "source": [
    "def get_vals(dic):\n",
    "    l=pd.Series(dic).values\n",
    "    return  np.array([*l])[:,0]\n",
    "\n",
    "MAGS=np.array([get_vals(s.mags) for s in spectra])\n",
    "SNRS=np.array([s.snr['snr1'] for s in spectra])\n",
    "SPTS=np.array([wisps.make_spt_number(s.spectral_type) for s in spectra])"
   ]
  },
  {
   "cell_type": "code",
   "execution_count": 17,
   "metadata": {},
   "outputs": [],
   "source": [
    "import astropy.units as u"
   ]
  },
  {
   "cell_type": "code",
   "execution_count": 18,
   "metadata": {},
   "outputs": [],
   "source": [
    "def find_nearest(array, value):\n",
    "    #find the nearest value in an array\n",
    "    print(value)\n",
    "    array = np.asarray(array)\n",
    "    idx = (np.abs(array - value)).argmin()\n",
    "    return idx\n",
    "\n",
    "@numba.jit\n",
    "def create_splat_source(filename, ra, dec):\n",
    "    #create a wisps spectrum\n",
    "    #retrieve splat spectrum\n",
    "    \n",
    "    splat_s=splat.getSpectrum(filename=filename)[0]\n",
    "    spt=splat.typeToNum(splat_s.spex_type)\n",
    "    \n",
    "    #create a source object\n",
    "    s=wisps.Spectrum( \n",
    "                   wave=splat_s.wave.value, \n",
    "                   flux=splat_s.flux.value,\n",
    "                  noise=splat_s.noise.value)\n",
    "    \n",
    "    \n",
    "    #assign the closest spectrum in terms of spectral type the\n",
    "    idx=find_nearest(SPTS, spt)\n",
    "    snr=SNRS[idx]\n",
    "    \n",
    "    m=MAGS[idx]-2.5*np.log10(s.snr['snr1']/snr)\n",
    "    \n",
    "    mags={'F110W':(m[0],0.01),\n",
    "         'F140W': (m[1],0.01),\n",
    "          'F160W':(m[2],0.01)}\n",
    "    #s._mags=mags\n",
    "    #s.ra=ra\n",
    "    #s.dec=dec\n",
    "    #s._calculate_distance()\n",
    "    #s.original = copy.deepcopy(s)\n",
    "    #s.spectral_type=spt\n",
    "    #print ('spectral type {}'.format(s.spectral_type))\n",
    "    s.normalize()\n",
    "    \n",
    "    return s"
   ]
  },
  {
   "cell_type": "code",
   "execution_count": 19,
   "metadata": {},
   "outputs": [],
   "source": [
    "import astropy.units as u"
   ]
  },
  {
   "cell_type": "code",
   "execution_count": 20,
   "metadata": {},
   "outputs": [
    {
     "ename": "AttributeError",
     "evalue": "Cannot access callable attribute 'iterrows' of 'DataFrameGroupBy' objects, try using the 'apply' method",
     "output_type": "error",
     "traceback": [
      "\u001b[0;31m---------------------------------------------------------------------------\u001b[0m",
      "\u001b[0;31mAttributeError\u001b[0m                            Traceback (most recent call last)",
      "\u001b[0;32m<ipython-input-20-fbc4e8184087>\u001b[0m in \u001b[0;36m<module>\u001b[0;34m\u001b[0m\n\u001b[0;32m----> 1\u001b[0;31m \u001b[0mnews\u001b[0m\u001b[0;34m=\u001b[0m\u001b[0;34m[\u001b[0m\u001b[0mcreate_splat_source\u001b[0m\u001b[0;34m(\u001b[0m\u001b[0mrow\u001b[0m\u001b[0;34m[\u001b[0m\u001b[0;34m'DATA_FILE'\u001b[0m\u001b[0;34m]\u001b[0m\u001b[0;34m,\u001b[0m \u001b[0mrow\u001b[0m\u001b[0;34m[\u001b[0m\u001b[0;34m'RA'\u001b[0m\u001b[0;34m]\u001b[0m\u001b[0;34m*\u001b[0m\u001b[0mu\u001b[0m\u001b[0;34m.\u001b[0m\u001b[0mdeg\u001b[0m\u001b[0;34m,\u001b[0m \u001b[0mrow\u001b[0m\u001b[0;34m[\u001b[0m\u001b[0;34m'DEC'\u001b[0m\u001b[0;34m]\u001b[0m\u001b[0;34m*\u001b[0m\u001b[0mu\u001b[0m\u001b[0;34m.\u001b[0m\u001b[0mdeg\u001b[0m\u001b[0;34m)\u001b[0m \u001b[0;32mfor\u001b[0m \u001b[0mindex\u001b[0m\u001b[0;34m,\u001b[0m \u001b[0mrow\u001b[0m \u001b[0;32min\u001b[0m  \u001b[0mfiles\u001b[0m\u001b[0;34m.\u001b[0m\u001b[0miterrows\u001b[0m\u001b[0;34m(\u001b[0m\u001b[0;34m)\u001b[0m\u001b[0;34m]\u001b[0m\u001b[0;34m\u001b[0m\u001b[0;34m\u001b[0m\u001b[0m\n\u001b[0m",
      "\u001b[0;32m/anaconda3/lib/python3.7/site-packages/pandas/core/groupby/groupby.py\u001b[0m in \u001b[0;36m__getattr__\u001b[0;34m(self, attr)\u001b[0m\n\u001b[1;32m    531\u001b[0m             \u001b[0;32mreturn\u001b[0m \u001b[0mself\u001b[0m\u001b[0;34m[\u001b[0m\u001b[0mattr\u001b[0m\u001b[0;34m]\u001b[0m\u001b[0;34m\u001b[0m\u001b[0;34m\u001b[0m\u001b[0m\n\u001b[1;32m    532\u001b[0m         \u001b[0;32mif\u001b[0m \u001b[0mhasattr\u001b[0m\u001b[0;34m(\u001b[0m\u001b[0mself\u001b[0m\u001b[0;34m.\u001b[0m\u001b[0mobj\u001b[0m\u001b[0;34m,\u001b[0m \u001b[0mattr\u001b[0m\u001b[0;34m)\u001b[0m\u001b[0;34m:\u001b[0m\u001b[0;34m\u001b[0m\u001b[0;34m\u001b[0m\u001b[0m\n\u001b[0;32m--> 533\u001b[0;31m             \u001b[0;32mreturn\u001b[0m \u001b[0mself\u001b[0m\u001b[0;34m.\u001b[0m\u001b[0m_make_wrapper\u001b[0m\u001b[0;34m(\u001b[0m\u001b[0mattr\u001b[0m\u001b[0;34m)\u001b[0m\u001b[0;34m\u001b[0m\u001b[0;34m\u001b[0m\u001b[0m\n\u001b[0m\u001b[1;32m    534\u001b[0m \u001b[0;34m\u001b[0m\u001b[0m\n\u001b[1;32m    535\u001b[0m         raise AttributeError(\"%r object has no attribute %r\" %\n",
      "\u001b[0;32m/anaconda3/lib/python3.7/site-packages/pandas/core/groupby/groupby.py\u001b[0m in \u001b[0;36m_make_wrapper\u001b[0;34m(self, name)\u001b[0m\n\u001b[1;32m    568\u001b[0m                    \"using the 'apply' method\".format(kind, name,\n\u001b[1;32m    569\u001b[0m                                                      type(self).__name__))\n\u001b[0;32m--> 570\u001b[0;31m             \u001b[0;32mraise\u001b[0m \u001b[0mAttributeError\u001b[0m\u001b[0;34m(\u001b[0m\u001b[0mmsg\u001b[0m\u001b[0;34m)\u001b[0m\u001b[0;34m\u001b[0m\u001b[0;34m\u001b[0m\u001b[0m\n\u001b[0m\u001b[1;32m    571\u001b[0m \u001b[0;34m\u001b[0m\u001b[0m\n\u001b[1;32m    572\u001b[0m         \u001b[0mself\u001b[0m\u001b[0;34m.\u001b[0m\u001b[0m_set_group_selection\u001b[0m\u001b[0;34m(\u001b[0m\u001b[0;34m)\u001b[0m\u001b[0;34m\u001b[0m\u001b[0;34m\u001b[0m\u001b[0m\n",
      "\u001b[0;31mAttributeError\u001b[0m: Cannot access callable attribute 'iterrows' of 'DataFrameGroupBy' objects, try using the 'apply' method"
     ]
    }
   ],
   "source": [
    "%%capture\n",
    "news=[create_splat_source(row['DATA_FILE'], row['RA']*u.deg, row['DEC']*u.deg) for index, row in  files.iterrows()]"
   ]
  },
  {
   "cell_type": "code",
   "execution_count": null,
   "metadata": {},
   "outputs": [],
   "source": [
    "df=pd.DataFrame([x.indices for x in news])\n",
    "df['Names']=['spect'+str(i) for i, x in enumerate(news)]\n",
    "df['Spectra']=news"
   ]
  },
  {
   "cell_type": "code",
   "execution_count": null,
   "metadata": {},
   "outputs": [],
   "source": [
    "to_use={'H_2O-1/J-Cont CH_4/H-Cont':['L0-L5'],\n",
    "        'H_2O-2/H_2O-1 H_2O-2/J-Cont':['L5-T0'],\n",
    "        #'H_2O-1/J-Cont H-cont/H_2O-2':['M7-L0'],\n",
    "        'H-cont/H_2O-1 H_2O-2/J-Cont':['T0-T5'],\n",
    "        'H_2O-2/H_2O-1 CH_4/H-Cont':['Y dwarfs'],\n",
    "        'H-cont/J-Cont CH_4/H-Cont':['T5-T9'],\n",
    "        'CH_4/H_2O-1 H-cont/J-Cont':['subdwarfs']}"
   ]
  },
  {
   "cell_type": "code",
   "execution_count": null,
   "metadata": {},
   "outputs": [],
   "source": [
    "crts=wisps.crts_from_file()"
   ]
  },
  {
   "cell_type": "code",
   "execution_count": null,
   "metadata": {},
   "outputs": [],
   "source": [
    "df2=wisps.Annotator.reformat_table(df)"
   ]
  },
  {
   "cell_type": "code",
   "execution_count": null,
   "metadata": {},
   "outputs": [],
   "source": [
    "df2['Spts']=[splat.typeToNum(s.spt) for s in news]"
   ]
  },
  {
   "cell_type": "code",
   "execution_count": null,
   "metadata": {},
   "outputs": [],
   "source": [
    "#df2"
   ]
  },
  {
   "cell_type": "code",
   "execution_count": null,
   "metadata": {},
   "outputs": [],
   "source": [
    "df3=wisps.Annotator.group_by_spt(df2)"
   ]
  },
  {
   "cell_type": "code",
   "execution_count": null,
   "metadata": {},
   "outputs": [],
   "source": [
    "#df3"
   ]
  },
  {
   "cell_type": "code",
   "execution_count": null,
   "metadata": {},
   "outputs": [],
   "source": [
    "to_retain=[]\n",
    "for grp in df3.groupby('spt_range'):\n",
    "    if grp[0] != 'trash':\n",
    "        #index \n",
    "        idx=to_use[grp[0]]\n",
    "        indexsp=crts[idx]\n",
    "        selected_objs=indexsp.select(grp[1], shapes_to_use=grp[0])\n",
    "        to_retain.append(list(np.concatenate(selected_objs)))\n"
   ]
  },
  {
   "cell_type": "code",
   "execution_count": null,
   "metadata": {},
   "outputs": [],
   "source": [
    "final_list=np.unique(np.concatenate(to_retain))"
   ]
  },
  {
   "cell_type": "code",
   "execution_count": null,
   "metadata": {},
   "outputs": [],
   "source": [
    "newsfinal=(df.Spectra[df.Names.isin(final_list)]).values"
   ]
  },
  {
   "cell_type": "code",
   "execution_count": null,
   "metadata": {},
   "outputs": [],
   "source": [
    "newsfinal"
   ]
  },
  {
   "cell_type": "code",
   "execution_count": null,
   "metadata": {},
   "outputs": [],
   "source": [
    "fig, ax=plt.subplots()\n",
    "for s in newsfinal:\n",
    "    #print (s.spectral_type)\n",
    "    ax.plot(s.wave, s.flux,   c='k', alpha=0.01)\n",
    "    ax.set_xlim([1.1, 1.7])\n",
    "    ax.set_ylim([0.0, 1.15])\n",
    "\n",
    "ax.set_xlabel(r'$\\lambda$ (micron)')\n",
    "ax.set_ylabel(r'Normalized Flux')\n",
    "plt.savefig(wisps.OUTPUT_FIGURES+'/spex_selectionfx.pdf', dpi=200)"
   ]
  },
  {
   "cell_type": "code",
   "execution_count": null,
   "metadata": {},
   "outputs": [],
   "source": [
    "spexdata=wisps.datasets['spex']"
   ]
  },
  {
   "cell_type": "code",
   "execution_count": null,
   "metadata": {},
   "outputs": [],
   "source": [
    "spdf=spexdata[['spt', 'l_snr', 'f_x']]\n",
    "spdf['logsnr']=spdf.l_snr.apply(np.log10)"
   ]
  },
  {
   "cell_type": "code",
   "execution_count": null,
   "metadata": {},
   "outputs": [],
   "source": [
    "plt.hist(spdf.spt, bins=20)\n",
    "plt.xlabel('SpT')\n",
    "plt.ylabel('Number')\n",
    "plt.yticks(np.arange(0, 400, 50))\n",
    "plt.grid()\n",
    "plt.savefig(\n",
    "wisps.OUTPUT_FIGURES+'/spex_sample.pdf',  bbox_inches='tight')"
   ]
  },
  {
   "cell_type": "code",
   "execution_count": null,
   "metadata": {},
   "outputs": [],
   "source": [
    "x=np.array([x.spt for x in newsfinal])"
   ]
  },
  {
   "cell_type": "code",
   "execution_count": null,
   "metadata": {},
   "outputs": [],
   "source": [
    "x.sort()"
   ]
  },
  {
   "cell_type": "code",
   "execution_count": null,
   "metadata": {},
   "outputs": [],
   "source": [
    "x"
   ]
  },
  {
   "cell_type": "code",
   "execution_count": null,
   "metadata": {},
   "outputs": [],
   "source": [
    "t6s=df3[df3.Spts==36].Spectra.values"
   ]
  },
  {
   "cell_type": "code",
   "execution_count": null,
   "metadata": {},
   "outputs": [],
   "source": [
    "l7s=df3[df3.Spts==27].Spectra.values"
   ]
  },
  {
   "cell_type": "code",
   "execution_count": null,
   "metadata": {},
   "outputs": [],
   "source": [
    "#app=np.append(newsfinal, t6s)\n",
    "#app2=np.append(app, l7s)"
   ]
  },
  {
   "cell_type": "code",
   "execution_count": null,
   "metadata": {},
   "outputs": [],
   "source": [
    "import pickle\n",
    "with open(wisps.OUTPUT_FILES+'/l_t_dwarfs_spex.pkl', 'wb') as file:\n",
    "    pickle.dump(newsfinal,file)"
   ]
  },
  {
   "cell_type": "code",
   "execution_count": null,
   "metadata": {},
   "outputs": [],
   "source": [
    "spts=np.array([y.spectral_type for y in np.append(newsfinal, t6s)])"
   ]
  },
  {
   "cell_type": "code",
   "execution_count": null,
   "metadata": {},
   "outputs": [],
   "source": [
    "spts.sort()"
   ]
  },
  {
   "cell_type": "code",
   "execution_count": null,
   "metadata": {},
   "outputs": [],
   "source": [
    "#plt.hist(spts, bins=18)"
   ]
  },
  {
   "cell_type": "code",
   "execution_count": null,
   "metadata": {},
   "outputs": [],
   "source": [
    "import seaborn as sns"
   ]
  },
  {
   "cell_type": "code",
   "execution_count": null,
   "metadata": {},
   "outputs": [],
   "source": []
  }
 ],
 "metadata": {
  "kernelspec": {
   "display_name": "Python 3",
   "language": "python",
   "name": "python3"
  },
  "language_info": {
   "codemirror_mode": {
    "name": "ipython",
    "version": 3
   },
   "file_extension": ".py",
   "mimetype": "text/x-python",
   "name": "python",
   "nbconvert_exporter": "python",
   "pygments_lexer": "ipython3",
   "version": "3.7.3"
  }
 },
 "nbformat": 4,
 "nbformat_minor": 2
}
