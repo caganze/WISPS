{
 "cells": [
  {
   "cell_type": "code",
   "execution_count": 2,
   "metadata": {},
   "outputs": [],
   "source": [
    "import numpy as np\n",
    "import splat\n",
    "import wisps\n",
    "import pandas as pd\n",
    "from scipy import stats\n",
    "import numba"
   ]
  },
  {
   "cell_type": "code",
   "execution_count": null,
   "metadata": {},
   "outputs": [],
   "source": [
    "stype='std'"
   ]
  },
  {
   "cell_type": "code",
   "execution_count": null,
   "metadata": {},
   "outputs": [],
   "source": [
    "spex_df=pd.read_pickle(wisps.OUTPUT_FILES+'/'+str(stype)+'spex_sample.pkl' )"
   ]
  },
  {
   "cell_type": "code",
   "execution_count": null,
   "metadata": {},
   "outputs": [],
   "source": [
    "spex_df.shape"
   ]
  },
  {
   "cell_type": "code",
   "execution_count": null,
   "metadata": {},
   "outputs": [],
   "source": [
    "forbidden=['J0148+1202',  'J0331+4130', 'J0338-4409', 'J0343+3155',\n",
    "' J0344+3204', '0344+3200', 'J0344+3156', 'J0344+3203',\n",
    "'J0345+3205','J0419+2712', 'J0435+2254','J0438+2519',\n",
    "'J0448-4432', 'J0448-4432', 'J0501-3341', 'J0512-2949',\n",
    "'J0610-2151','J0621+6558','J0624-1045', 'J0628-0959',\n",
    "'J0815+1041','J0822+1700', 'J0935+0019','J0950+0540',\n",
    "'J1004+5023','J1050-2940','J1132-3018','J1132-3018',\n",
    "'J1132-3018','J1132-3018','J1132-3018','J1132-3018',\n",
    "'J1132-3018','J1132-3018', 'J1132-3018','J1132-3018',\n",
    "'J1138-1314','J1209-3041','J1211-2821','J1224-2744',\n",
    "'J1257-0204','J1303+2351','J1312+0051','J1317-1427',\n",
    "'J1325-2128', 'J1420-1752', 'J1423+0116','J1629+1415',\n",
    "'J1642-2355','J1642-2355','J1659+3515','J1726-1158',\n",
    "'J1729+4352','J1829+5032','J1839-3744','J1924+5506',\n",
    "'J1932+0133', 'J1932-3921', 'J1945-4149', 'J2001-3805',\n",
    "'J2024-3422', 'J2028+6925', 'J2034+6727','J2151-3349']"
   ]
  },
  {
   "cell_type": "code",
   "execution_count": null,
   "metadata": {},
   "outputs": [],
   "source": [
    "spex_df"
   ]
  },
  {
   "cell_type": "code",
   "execution_count": null,
   "metadata": {},
   "outputs": [],
   "source": [
    "spex_df['shortname']=spex_df.splat.apply(lambda x:x.shortname)"
   ]
  },
  {
   "cell_type": "code",
   "execution_count": null,
   "metadata": {},
   "outputs": [],
   "source": [
    "spex_df=(spex_df[~ spex_df.shortname.isin(forbidden)]).reset_index(drop=True)"
   ]
  },
  {
   "cell_type": "code",
   "execution_count": null,
   "metadata": {},
   "outputs": [],
   "source": [
    "spex_df.shape"
   ]
  },
  {
   "cell_type": "code",
   "execution_count": null,
   "metadata": {},
   "outputs": [],
   "source": [
    "def add_new_columns(row):\n",
    "    return pd.concat([pd.Series(row.wisps.indices), pd.Series(row.wisps.snr)])"
   ]
  },
  {
   "cell_type": "code",
   "execution_count": null,
   "metadata": {},
   "outputs": [],
   "source": [
    "indices=pd.DataFrame(spex_df.apply(add_new_columns, axis=1))\n",
    "#snr=pd.DataFrame(spex_df.apply(add_new_columns, axis=1))"
   ]
  },
  {
   "cell_type": "code",
   "execution_count": null,
   "metadata": {},
   "outputs": [],
   "source": [
    "all_spex=splat.searchLibrary(vlm=True, giant=False)"
   ]
  },
  {
   "cell_type": "code",
   "execution_count": null,
   "metadata": {},
   "outputs": [],
   "source": [
    "spex_df['data_file']=[x.data_file for x in spex_df.splat]"
   ]
  },
  {
   "cell_type": "code",
   "execution_count": null,
   "metadata": {},
   "outputs": [],
   "source": [
    "all_spex.columns=[x.lower() for x in all_spex.columns]"
   ]
  },
  {
   "cell_type": "code",
   "execution_count": null,
   "metadata": {},
   "outputs": [],
   "source": [
    "merged=spex_df.merge(all_spex, on='data_file', how='inner')"
   ]
  },
  {
   "cell_type": "code",
   "execution_count": null,
   "metadata": {},
   "outputs": [],
   "source": [
    "for c in ['shortname', 'data_file', 'metallicity_class', 'gravity_class_nir', 'sbinary' ]:\n",
    "          indices[c]=merged[c]"
   ]
  },
  {
   "cell_type": "code",
   "execution_count": null,
   "metadata": {},
   "outputs": [],
   "source": [
    "indices['f_test']=(indices['wisps']).apply(lambda x: x.f_test)\n",
    "indices['line_chi']=(indices['wisps']).apply(lambda x: x.line_chi)\n",
    "indices['spex_chi']=(indices['wisps']).apply(lambda x: x.spex_chi)\n",
    "indices['spt']=(indices['wisps']).apply(lambda x: x.spectral_type)"
   ]
  },
  {
   "cell_type": "code",
   "execution_count": null,
   "metadata": {},
   "outputs": [],
   "source": [
    "indices.columns"
   ]
  },
  {
   "cell_type": "code",
   "execution_count": null,
   "metadata": {},
   "outputs": [],
   "source": [
    "indices.to_pickle(wisps.LIBRARIES+'/spex_data_set_table.pkl')"
   ]
  },
  {
   "cell_type": "code",
   "execution_count": null,
   "metadata": {},
   "outputs": [],
   "source": []
  }
 ],
 "metadata": {
  "kernelspec": {
   "display_name": "Python 3",
   "language": "python",
   "name": "python3"
  },
  "language_info": {
   "codemirror_mode": {
    "name": "ipython",
    "version": 3
   },
   "file_extension": ".py",
   "mimetype": "text/x-python",
   "name": "python",
   "nbconvert_exporter": "python",
   "pygments_lexer": "ipython3",
   "version": "3.7.6"
  }
 },
 "nbformat": 4,
 "nbformat_minor": 4
}
