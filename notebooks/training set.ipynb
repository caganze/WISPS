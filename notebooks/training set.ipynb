{
 "cells": [
  {
   "cell_type": "markdown",
   "metadata": {},
   "source": [
    "## Purpose: create a training set of sources with labels\n",
    "\n"
   ]
  },
  {
   "cell_type": "code",
   "execution_count": 1,
   "metadata": {},
   "outputs": [],
   "source": [
    "import splat\n",
    "import wisps\n",
    "import matplotlib.pyplot as plt\n",
    "import pandas as pd\n",
    "import numpy as np\n",
    "%matplotlib inline"
   ]
  },
  {
   "cell_type": "code",
   "execution_count": 2,
   "metadata": {},
   "outputs": [],
   "source": [
    "#sf0=pd.read_pickle(wisps.OUTPUT_FILES+'/selection_function.pkl')"
   ]
  },
  {
   "cell_type": "code",
   "execution_count": 3,
   "metadata": {},
   "outputs": [],
   "source": [
    "from wisps import datasets"
   ]
  },
  {
   "cell_type": "code",
   "execution_count": 4,
   "metadata": {},
   "outputs": [],
   "source": [
    "highsnr=(datasets['highsnr']).reset_index(drop=True)\n",
    "lowsnr=(datasets['lowsnr']).reset_index(drop=True)"
   ]
  },
  {
   "cell_type": "code",
   "execution_count": 5,
   "metadata": {},
   "outputs": [],
   "source": [
    "merged=pd.concat([highsnr, lowsnr])\n",
    "mergeds=merged.iloc[(merged[wisps.INDEX_NAMES]).dropna().index]"
   ]
  },
  {
   "cell_type": "code",
   "execution_count": 6,
   "metadata": {},
   "outputs": [],
   "source": [
    "stars=mergeds"
   ]
  },
  {
   "cell_type": "code",
   "execution_count": 7,
   "metadata": {},
   "outputs": [
    {
     "data": {
      "text/plain": [
       "Index(['snr1', 'snr2', 'snr3', 'snr4', 'H_2O-1/J-Cont', 'H_2O-2/H_2O-1',\n",
       "       'H-cont/H_2O-1', 'CH_4/H_2O-1', 'H_2O-2/J-Cont', 'H-cont/J-Cont',\n",
       "       'CH_4/J-Cont', 'H-cont/H_2O-2', 'CH_4/H_2O-2', 'CH_4/H-Cont',\n",
       "       'H_2O-1+H_2O-2/J-Cont', 'H_2O-1+H_2O-2/H-Cont', 'H_2O-1+CH_4/J-Cont',\n",
       "       'H_2O-2+CH_4/J-Cont', 'H_2O-1+CH_4/H-Cont', 'H_2O-2+CH_4/H-Cont',\n",
       "       'grism_id', 'f_test', 'line_chi', 'spex_chi', 'spt_new', 'spt'],\n",
       "      dtype='object')"
      ]
     },
     "execution_count": 7,
     "metadata": {},
     "output_type": "execute_result"
    }
   ],
   "source": [
    "mergeds.columns"
   ]
  },
  {
   "cell_type": "code",
   "execution_count": 8,
   "metadata": {},
   "outputs": [],
   "source": [
    "#mergeds.to_hdf(wisps.COMBINED_PHOTO_SPECTRO_FILE, key='new_stars')"
   ]
  },
  {
   "cell_type": "code",
   "execution_count": 9,
   "metadata": {},
   "outputs": [],
   "source": [
    "stars.grism_id=stars.grism_id.apply(lambda x: str(x).lower())"
   ]
  },
  {
   "cell_type": "code",
   "execution_count": 10,
   "metadata": {},
   "outputs": [],
   "source": [
    "trash_names=trash=pd.read_pickle(wisps.OUTPUT_FILES+'/trash.pkl').grism_id"
   ]
  },
  {
   "cell_type": "code",
   "execution_count": 11,
   "metadata": {},
   "outputs": [],
   "source": [
    "trash=stars[stars.grism_id.isin(trash_names)]"
   ]
  },
  {
   "cell_type": "code",
   "execution_count": 12,
   "metadata": {},
   "outputs": [],
   "source": [
    "trash['label']=0."
   ]
  },
  {
   "cell_type": "code",
   "execution_count": 13,
   "metadata": {},
   "outputs": [],
   "source": [
    "spex=datasets['spex']"
   ]
  },
  {
   "cell_type": "code",
   "execution_count": 14,
   "metadata": {},
   "outputs": [],
   "source": [
    "spex['grism_id']=spex.data_file"
   ]
  },
  {
   "cell_type": "code",
   "execution_count": 15,
   "metadata": {},
   "outputs": [],
   "source": [
    "man=(datasets['manjavacas']).rename(columns={'f':'f_test'})\n",
    "schn=(datasets['schneider']).rename(columns={'f':'f_test'})"
   ]
  },
  {
   "cell_type": "code",
   "execution_count": 16,
   "metadata": {},
   "outputs": [],
   "source": [
    "#sf=pd.DataFrame.from_records(pd.DataFrame(sf0).values.flatten()).sample(n=10000)"
   ]
  },
  {
   "cell_type": "code",
   "execution_count": 17,
   "metadata": {},
   "outputs": [],
   "source": [
    "#sf['spt']=sf['spt_new']"
   ]
  },
  {
   "cell_type": "code",
   "execution_count": 18,
   "metadata": {},
   "outputs": [],
   "source": [
    "spex['spt']=spex.spt.apply(wisps.make_spt_number)\n",
    "man['spt']=man.spt.apply(wisps.make_spt_number)\n",
    "schn['spt']=schn.spt.apply(wisps.make_spt_number)\n",
    "trash['spt']=trash.spt.apply(wisps.make_spt_number)\n",
    "#sf['spt']=sf.spt.apply(wisps.make_spt_number)\n",
    "spex['name']=spex['grism_id']"
   ]
  },
  {
   "cell_type": "code",
   "execution_count": 19,
   "metadata": {},
   "outputs": [],
   "source": [
    "cand_ids=pd.read_pickle(wisps.OUTPUT_FILES+'/true_spectra_cands.pkl')\n",
    "cand_ids['grism_id']=cand_ids.spectra.apply(lambda x: x.grism_id.lower())"
   ]
  },
  {
   "cell_type": "code",
   "execution_count": 20,
   "metadata": {},
   "outputs": [],
   "source": [
    "stars=wisps.datasets['stars']\n",
    "cands=(stars[stars.grism_id.isin(cand_ids.grism_id)]).reset_index(drop=True)"
   ]
  },
  {
   "cell_type": "code",
   "execution_count": 21,
   "metadata": {},
   "outputs": [],
   "source": [
    "cands['label']=1\n",
    "cands['spt']=cands.spt.apply(wisps.make_spt_number)"
   ]
  },
  {
   "cell_type": "code",
   "execution_count": 22,
   "metadata": {},
   "outputs": [],
   "source": [
    "features =np.concatenate([wisps.INDEX_NAMES, ['spex_chi', 'snr2', 'snr1', 'snr3','snr4',\n",
    "       'line_chi', 'label', 'f_test', 'spt', 'snr1']])"
   ]
  },
  {
   "cell_type": "code",
   "execution_count": 23,
   "metadata": {},
   "outputs": [],
   "source": [
    "from scipy import stats"
   ]
  },
  {
   "cell_type": "code",
   "execution_count": 24,
   "metadata": {},
   "outputs": [],
   "source": [
    "def f_test_comp(x):\n",
    "    return stats.f.cdf(x, 2, 1, 0, scale=1)\n",
    "\n",
    "man['x']=man.spex_chi/man.line_chi\n",
    "schn['x']=schn.spex_chi/schn.line_chi\n",
    "man['f_test']=man.x.apply(f_test_comp)\n",
    "schn['f_test']=schn.x.apply(f_test_comp)\n",
    "spex['f_test']=(spex.spex_chi/spex.line_chi).apply(f_test_comp)\n",
    "#sf['f_test']=(sf.spex_chi/sf.line_chi).apply(f_test_comp)"
   ]
  },
  {
   "cell_type": "code",
   "execution_count": 25,
   "metadata": {},
   "outputs": [],
   "source": [
    "#sf.columns"
   ]
  },
  {
   "cell_type": "code",
   "execution_count": 26,
   "metadata": {},
   "outputs": [],
   "source": [
    "trash['name']=trash.grism_id\n",
    "#sf['name']=['spc {}'+str(i) for i in sf.index]"
   ]
  },
  {
   "cell_type": "code",
   "execution_count": 27,
   "metadata": {},
   "outputs": [],
   "source": [
    "feats=[x for x in features if x not in ['name']]"
   ]
  },
  {
   "cell_type": "code",
   "execution_count": 28,
   "metadata": {},
   "outputs": [],
   "source": [
    "def add_binary_label(row):\n",
    "    label=0.\n",
    "    if (row.spt >=15):\n",
    "        label=1.\n",
    "    else:\n",
    "        label=0.0\n",
    "    return label"
   ]
  },
  {
   "cell_type": "code",
   "execution_count": 29,
   "metadata": {},
   "outputs": [],
   "source": [
    "trash['label']=0.\n",
    "spex['label']=spex.apply(add_binary_label, axis=1)\n",
    "schn['label']=schn.apply(add_binary_label, axis=1)\n",
    "#sf['label']=schn.apply(add_binary_label, axis=1)\n",
    "man['label']=man.apply(add_binary_label, axis=1)"
   ]
  },
  {
   "cell_type": "code",
   "execution_count": 30,
   "metadata": {},
   "outputs": [],
   "source": [
    "spex=spex.iloc[(spex[wisps.INDEX_NAMES]).dropna().index]\n",
    "man=man.iloc[(man[wisps.INDEX_NAMES]).dropna().index]\n",
    "schn=schn.iloc[(schn[wisps.INDEX_NAMES]).dropna().index]"
   ]
  },
  {
   "cell_type": "code",
   "execution_count": 31,
   "metadata": {},
   "outputs": [],
   "source": [
    "spex=wisps.Annotator.reformat_table(spex)\n",
    "trash=wisps.Annotator.reformat_table(trash)\n",
    "schn=wisps.Annotator.reformat_table(schn)\n",
    "man=wisps.Annotator.reformat_table(man)\n",
    "#sf=wisps.Annotator.reformat_table(sf)"
   ]
  },
  {
   "cell_type": "code",
   "execution_count": 32,
   "metadata": {},
   "outputs": [],
   "source": [
    "training_set=pd.concat( [ spex[features], trash[features], man[features], schn[features]]).reset_index(drop=True)"
   ]
  },
  {
   "cell_type": "code",
   "execution_count": 33,
   "metadata": {},
   "outputs": [
    {
     "data": {
      "text/plain": [
       "(9728, 26)"
      ]
     },
     "execution_count": 33,
     "metadata": {},
     "output_type": "execute_result"
    }
   ],
   "source": [
    "training_set.shape"
   ]
  },
  {
   "cell_type": "code",
   "execution_count": 34,
   "metadata": {},
   "outputs": [],
   "source": [
    "training_set=(training_set[features]).dropna(how='all').reset_index(drop=True)"
   ]
  },
  {
   "cell_type": "code",
   "execution_count": 35,
   "metadata": {},
   "outputs": [],
   "source": [
    "training_set['lablel']=training_set.apply(add_binary_label, axis=1)"
   ]
  },
  {
   "cell_type": "code",
   "execution_count": 36,
   "metadata": {},
   "outputs": [],
   "source": [
    "final_set=training_set"
   ]
  },
  {
   "cell_type": "code",
   "execution_count": 37,
   "metadata": {},
   "outputs": [],
   "source": [
    "#final_set=pd.concat([label0, label1]).reset_index(drop=True)"
   ]
  },
  {
   "cell_type": "code",
   "execution_count": 38,
   "metadata": {},
   "outputs": [],
   "source": [
    "final_set=final_set.reset_index(drop=True).applymap(float)"
   ]
  },
  {
   "cell_type": "code",
   "execution_count": 39,
   "metadata": {},
   "outputs": [],
   "source": [
    "final_set = final_set.loc[:,~final_set.columns.duplicated()]"
   ]
  },
  {
   "cell_type": "code",
   "execution_count": 40,
   "metadata": {},
   "outputs": [],
   "source": [
    "final_set.to_pickle(wisps.LIBRARIES+'/training_set.pkl')"
   ]
  },
  {
   "cell_type": "code",
   "execution_count": 41,
   "metadata": {},
   "outputs": [
    {
     "data": {
      "text/plain": [
       "(-1, 4)"
      ]
     },
     "execution_count": 41,
     "metadata": {},
     "output_type": "execute_result"
    },
    {
     "data": {
      "image/png": "[encoded data removed]",
      "text/plain": [
       "<Figure size 432x288 with 1 Axes>"
      ]
     },
     "metadata": {
      "needs_background": "light"
     },
     "output_type": "display_data"
    }
   ],
   "source": [
    "plt.scatter(final_set['f_test'], final_set['snr1'].apply(np.log10), c=final_set['label'], s=4, marker='+' , cmap='viridis')\n",
    "plt.ylim([-1, 4])"
   ]
  },
  {
   "cell_type": "code",
   "execution_count": 42,
   "metadata": {},
   "outputs": [
    {
     "data": {
      "text/plain": [
       "<matplotlib.colorbar.Colorbar at 0x1ab69f54d0>"
      ]
     },
     "execution_count": 42,
     "metadata": {},
     "output_type": "execute_result"
    },
    {
     "data": {
      "image/png": "[encoded data removed]",
      "text/plain": [
       "<Figure size 432x288 with 2 Axes>"
      ]
     },
     "metadata": {
      "needs_background": "light"
     },
     "output_type": "display_data"
    }
   ],
   "source": [
    "plt.scatter(final_set['f_test'], final_set['snr1'].apply(np.log10), c=final_set['spt'], s=4, marker='+' , cmap='viridis')\n",
    "plt.ylim([-1, 4])\n",
    "plt.colorbar()"
   ]
  },
  {
   "cell_type": "code",
   "execution_count": null,
   "metadata": {},
   "outputs": [],
   "source": []
  }
 ],
 "metadata": {
  "kernelspec": {
   "display_name": "Python 3",
   "language": "python",
   "name": "python3"
  },
  "language_info": {
   "codemirror_mode": {
    "name": "ipython",
    "version": 3
   },
   "file_extension": ".py",
   "mimetype": "text/x-python",
   "name": "python",
   "nbconvert_exporter": "python",
   "pygments_lexer": "ipython3",
   "version": "3.7.6"
  }
 },
 "nbformat": 4,
 "nbformat_minor": 4
}
