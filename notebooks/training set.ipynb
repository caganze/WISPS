{
 "cells": [
  {
   "cell_type": "markdown",
   "metadata": {},
   "source": [
    "## Purpose: create a training set of sources with labels\n",
    "\n"
   ]
  },
  {
   "cell_type": "code",
   "execution_count": 1,
   "metadata": {},
   "outputs": [],
   "source": [
    "import splat\n",
    "import wisps\n",
    "import matplotlib.pyplot as plt\n",
    "import pandas as pd\n",
    "import numpy as np\n",
    "%matplotlib inline"
   ]
  },
  {
   "cell_type": "code",
   "execution_count": 2,
   "metadata": {},
   "outputs": [],
   "source": [
    "from wisps import datasets"
   ]
  },
  {
   "cell_type": "code",
   "execution_count": 3,
   "metadata": {},
   "outputs": [],
   "source": [
    "#candidates\n",
    "candidates=datasets['candidates'].rename(columns={'grism_id':'name'})\n",
    "#reformating \n",
    "candidates[wisps.INDEX_NAMES]=candidates[wisps.INDEX_NAMES]\n",
    "#candidates=wisps.Annotator.reformat_table(candidates)\n",
    "#spex\n",
    "spex=(datasets['spex'].rename(columns={'l_snr': 'snr1', 'l_t_snr':'snr2', 'f_x':'f_test'}))\n",
    "#trash\n",
    "trash=pd.read_pickle(wisps.OUTPUT_FILES+'/trash.pkl')\n",
    "trash=(trash[~trash.grism_id.isin(candidates.name.values)]).rename(columns={'grism_id':'name'\n",
    "})\n",
    "trash['label']=0."
   ]
  },
  {
   "cell_type": "code",
   "execution_count": 4,
   "metadata": {},
   "outputs": [],
   "source": [
    "man=(datasets['manjavacas']).rename(columns={'f':'f_test'})\n",
    "schn=(datasets['schneider']).rename(columns={'f':'f_test'})"
   ]
  },
  {
   "cell_type": "code",
   "execution_count": 5,
   "metadata": {},
   "outputs": [],
   "source": [
    "sf=pd.read_pickle(wisps.OUTPUT_FILES+'/selection_function.pkl')"
   ]
  },
  {
   "cell_type": "code",
   "execution_count": 6,
   "metadata": {},
   "outputs": [],
   "source": [
    "simulated_spectra=sf.data.rename(columns={'f':'f_test', 'Names':'name'})\n",
    "simulated_spectra=simulated_spectra[simulated_spectra.snr1>30.].sample(n=1000)"
   ]
  },
  {
   "cell_type": "code",
   "execution_count": 7,
   "metadata": {},
   "outputs": [],
   "source": [
    "#len(simulated_spectra[simulated_spectra.snr1>30.])"
   ]
  },
  {
   "cell_type": "code",
   "execution_count": 8,
   "metadata": {},
   "outputs": [],
   "source": [
    "candidates['spt']=candidates.spt.apply(splat.typeToNum)\n",
    "spex['spt']=spex.spt.apply(splat.typeToNum)\n",
    "man['spt']=man.spt.apply(splat.typeToNum)\n",
    "schn['spt']=schn.spt.apply(splat.typeToNum)\n",
    "trash['spt']=trash.spt.apply(splat.typeToNum)"
   ]
  },
  {
   "cell_type": "code",
   "execution_count": 9,
   "metadata": {},
   "outputs": [],
   "source": [
    "#candidates=candidates[candidates.spt>19.]\n",
    "#spex=spex[spex.spt>19.]"
   ]
  },
  {
   "cell_type": "code",
   "execution_count": 10,
   "metadata": {},
   "outputs": [],
   "source": [
    "spex['name']=spex['grism_id']"
   ]
  },
  {
   "cell_type": "code",
   "execution_count": 11,
   "metadata": {},
   "outputs": [],
   "source": [
    "features=['CH_4/H-Cont', 'CH_4/H_2O-1', 'CH_4/H_2O-2', 'CH_4/J-Cont',\n",
    "       'H-cont/H_2O-1', 'H-cont/H_2O-2', 'H-cont/J-Cont', 'H_2O-1/J-Cont',\n",
    "       'H_2O-2/H_2O-1', 'H_2O-2/J-Cont', 'spt', 'spex_chi', 'name', 'snr2','snr1', 'line_chi', 'f_test', 'f_test_cdf', 'label']"
   ]
  },
  {
   "cell_type": "code",
   "execution_count": 12,
   "metadata": {},
   "outputs": [],
   "source": [
    "from scipy import stats"
   ]
  },
  {
   "cell_type": "code",
   "execution_count": 13,
   "metadata": {},
   "outputs": [],
   "source": [
    "def f_test_comp(x):\n",
    "    return stats.f.cdf(x, 2, 1, 0, scale=1)\n",
    "\n",
    "man['x']=man.spex_chi/man.line_chi\n",
    "schn['x']=schn.spex_chi/schn.line_chi\n",
    "simulated_spectra['x']=simulated_spectra.spex_chi/simulated_spectra.line_chi\n",
    "man['f_test_cdf']=man.x.apply(f_test_comp)\n",
    "schn['f_test_cdf']=schn.x.apply(f_test_comp)\n",
    "simulated_spectra['f_test_cdf']=simulated_spectra.x.apply(f_test_comp)\n",
    "spex['f_test_cdf']=(spex.spex_chi/spex.line_chi).apply(f_test_comp)"
   ]
  },
  {
   "cell_type": "code",
   "execution_count": 14,
   "metadata": {},
   "outputs": [],
   "source": [
    "def add_labels(spt):\n",
    "    label=0.0\n",
    "    if spt>19.:\n",
    "        label=1.0\n",
    "    return label"
   ]
  },
  {
   "cell_type": "code",
   "execution_count": 15,
   "metadata": {},
   "outputs": [],
   "source": [
    "candidates['label']=candidates.spt.apply(add_labels)\n",
    "spex['label']=spex.spt.apply(add_labels)\n",
    "man['label']=man.spt.apply(add_labels)\n",
    "schn['label']=schn.spt.apply(add_labels)\n",
    "simulated_spectra['label']=simulated_spectra.spt.apply(add_labels)"
   ]
  },
  {
   "cell_type": "code",
   "execution_count": 16,
   "metadata": {},
   "outputs": [],
   "source": [
    "##"
   ]
  },
  {
   "cell_type": "code",
   "execution_count": 17,
   "metadata": {},
   "outputs": [],
   "source": [
    "training_set=pd.concat( [trash[features], candidates[features], spex[features], man[features], schn[features], simulated_spectra[features]])"
   ]
  },
  {
   "cell_type": "code",
   "execution_count": 18,
   "metadata": {},
   "outputs": [],
   "source": [
    "def add_uncertainties(tupl):\n",
    "    return tupl[1]"
   ]
  },
  {
   "cell_type": "code",
   "execution_count": 19,
   "metadata": {},
   "outputs": [],
   "source": [
    "train_unc=training_set[wisps.INDEX_NAMES].applymap(add_uncertainties)"
   ]
  },
  {
   "cell_type": "code",
   "execution_count": 20,
   "metadata": {},
   "outputs": [],
   "source": [
    "unc_columns=[x+'er' for x in wisps.INDEX_NAMES]"
   ]
  },
  {
   "cell_type": "code",
   "execution_count": 21,
   "metadata": {},
   "outputs": [],
   "source": [
    "train_unc.columns=unc_columns"
   ]
  },
  {
   "cell_type": "code",
   "execution_count": 22,
   "metadata": {},
   "outputs": [],
   "source": [
    "training_set_final=wisps.Annotator.reformat_table(train_unc.reset_index(drop=True).join(training_set.reset_index(drop=True),how='outer'))"
   ]
  },
  {
   "cell_type": "code",
   "execution_count": 23,
   "metadata": {},
   "outputs": [],
   "source": [
    "false_things=training_set_final[training_set_final['label']==0.]"
   ]
  },
  {
   "cell_type": "code",
   "execution_count": 24,
   "metadata": {},
   "outputs": [],
   "source": [
    "#choose only 10% of the true brown dwarf to reflect the ratio of true bds in the set\n",
    "true_things=training_set_final[training_set_final['label']>0.]#.sample(n=int(len(false_things)/1.))"
   ]
  },
  {
   "cell_type": "code",
   "execution_count": 25,
   "metadata": {},
   "outputs": [],
   "source": [
    "final_training_set=pd.concat([true_things, false_things]).reset_index(drop=True)"
   ]
  },
  {
   "cell_type": "code",
   "execution_count": 26,
   "metadata": {},
   "outputs": [
    {
     "data": {
      "text/plain": [
       "<matplotlib.axes._subplots.AxesSubplot at 0x1c3a9b0a58>"
      ]
     },
     "execution_count": 26,
     "metadata": {},
     "output_type": "execute_result"
    },
    {
     "data": {
      "image/png": "[encoded data removed]",
      "text/plain": [
       "<Figure size 480x240 with 1 Axes>"
      ]
     },
     "metadata": {},
     "output_type": "display_data"
    }
   ],
   "source": [
    "final_training_set.label.plot(kind='hist')"
   ]
  },
  {
   "cell_type": "code",
   "execution_count": 27,
   "metadata": {},
   "outputs": [],
   "source": [
    "feats=np.append(features, unc_columns)"
   ]
  },
  {
   "cell_type": "code",
   "execution_count": 28,
   "metadata": {},
   "outputs": [],
   "source": [
    "featsg=feats[feats !='name']"
   ]
  },
  {
   "cell_type": "code",
   "execution_count": 29,
   "metadata": {},
   "outputs": [],
   "source": [
    "final_training_set[featsg]=final_training_set[featsg].applymap(float)\n",
    "final_training_set=final_training_set.replace(np.inf, np.nan).replace(-np.inf, np.nan).replace(np.nan, -999999.9)\n",
    "final_training_set.to_pickle(wisps.LIBRARIES+'/training_set.pkl')"
   ]
  },
  {
   "cell_type": "code",
   "execution_count": 30,
   "metadata": {},
   "outputs": [
    {
     "data": {
      "text/plain": [
       "(8283, 225, 2698, 77, 22, 1000)"
      ]
     },
     "execution_count": 30,
     "metadata": {},
     "output_type": "execute_result"
    }
   ],
   "source": [
    "len(trash), len(candidates[features]), len(spex[features]), len(man[features]), len(schn[features]), len(simulated_spectra[features])"
   ]
  },
  {
   "cell_type": "code",
   "execution_count": 31,
   "metadata": {},
   "outputs": [
    {
     "data": {
      "text/plain": [
       "12305"
      ]
     },
     "execution_count": 31,
     "metadata": {},
     "output_type": "execute_result"
    }
   ],
   "source": [
    "len(final_training_set)"
   ]
  },
  {
   "cell_type": "code",
   "execution_count": null,
   "metadata": {},
   "outputs": [],
   "source": []
  }
 ],
 "metadata": {
  "kernelspec": {
   "display_name": "Python 3",
   "language": "python",
   "name": "python3"
  },
  "language_info": {
   "codemirror_mode": {
    "name": "ipython",
    "version": 3
   },
   "file_extension": ".py",
   "mimetype": "text/x-python",
   "name": "python",
   "nbconvert_exporter": "python",
   "pygments_lexer": "ipython3",
   "version": "3.7.3"
  }
 },
 "nbformat": 4,
 "nbformat_minor": 4
}
